{
 "cells": [
  {
   "cell_type": "markdown",
   "metadata": {},
   "source": [
    "You can solve these exercises in the room or at home. For this week, and the next 3 weeks, exercises have to be solved by creating a single dedicated `.py` file called `01ex_introduction.py`.\n",
    "\n",
    "You can divide the individual exercises in the source code with appropriate comments (`#`).\n",
    "\n",
    "The exercises need to run without errors with `python3 01ex_introduction.py`."
   ]
  },
  {
   "cell_type": "markdown",
   "metadata": {},
   "source": [
    "1\\. **The HelloWorld replacement**\n",
    "\n",
    "a) Write a program that:\n",
    "- prints the numbers from 1 to 100\n",
    "- but for multiples of three print \"`Hello`\" instead of the number and for the multiples of five print \"`World`\"\n",
    "- for numbers which are multiples of both three and five print \"`HelloWorld`\".\n",
    "\n",
    "b) Put the result in a tuple and substitute \"`Hello`\" with \"`Python`\" and \"`World`\" with \"`Works`\"."
   ]
  },
  {
   "cell_type": "code",
   "execution_count": 4,
   "outputs": [
    {
     "name": "stdout",
     "output_type": "stream",
     "text": [
      "[1, 2, 'HelloWorld', 4, 'World', 'HelloWorld', 7, 8, 'HelloWorld', 'World', 11, 'HelloWorld', 13, 14, 'HelloWorld', 16, 17, 'HelloWorld', 19, 'World', 'HelloWorld', 22, 23, 'HelloWorld', 'World', 26, 'HelloWorld', 28, 29, 'HelloWorld', 31, 32, 'HelloWorld', 34, 'World', 'HelloWorld', 37, 38, 'HelloWorld', 'World', 41, 'HelloWorld', 43, 44, 'HelloWorld', 46, 47, 'HelloWorld', 49, 'World', 'HelloWorld', 52, 53, 'HelloWorld', 'World', 56, 'HelloWorld', 58, 59, 'HelloWorld', 61, 62, 'HelloWorld', 64, 'World', 'HelloWorld', 67, 68, 'HelloWorld', 'World', 71, 'HelloWorld', 73, 74, 'HelloWorld', 76, 77, 'HelloWorld', 79, 'World', 'HelloWorld', 82, 83, 'HelloWorld', 'World', 86, 'HelloWorld', 88, 89, 'HelloWorld', 91, 92, 'HelloWorld', 94, 'World', 'HelloWorld', 97, 98, 'HelloWorld', 'World']\n",
      "<class 'list'>\n",
      "(1, 2, 'PythonWorks', 4, 'Works', 'PythonWorks', 7, 8, 'PythonWorks', 'Works', 11, 'PythonWorks', 13, 14, 'PythonWorks', 16, 17, 'PythonWorks', 19, 'Works', 'PythonWorks', 22, 23, 'PythonWorks', 'Works', 26, 'PythonWorks', 28, 29, 'PythonWorks', 31, 32, 'PythonWorks', 34, 'Works', 'PythonWorks', 37, 38, 'PythonWorks', 'Works', 41, 'PythonWorks', 43, 44, 'PythonWorks', 46, 47, 'PythonWorks', 49, 'Works', 'PythonWorks', 52, 53, 'PythonWorks', 'Works', 56, 'PythonWorks', 58, 59, 'PythonWorks', 61, 62, 'PythonWorks', 64, 'Works', 'PythonWorks', 67, 68, 'PythonWorks', 'Works', 71, 'PythonWorks', 73, 74, 'PythonWorks', 76, 77, 'PythonWorks', 79, 'Works', 'PythonWorks', 82, 83, 'PythonWorks', 'Works', 86, 'PythonWorks', 88, 89, 'PythonWorks', 91, 92, 'PythonWorks', 94, 'Works', 'PythonWorks', 97, 98, 'PythonWorks', 'Works')\n",
      "<class 'tuple'>\n"
     ]
    }
   ],
   "source": [
    "list1 = []\n",
    "for i in range(0,100):\n",
    "    i += 1\n",
    "    if i % 3 == 0 & i % 5 == 0:\n",
    "        list1.append(\"HelloWorld\")\n",
    "    elif i % 3 == 0:\n",
    "        list1.append(\"Hello\")\n",
    "    elif i % 5 == 0:\n",
    "        list1.append(\"World\")\n",
    "    else:\n",
    "        list1.append(i)\n",
    "\n",
    "print(list1)\n",
    "print(type(list1))\n",
    "\n",
    "#b\n",
    "for index in range(len(list1)):\n",
    "    if list1[index] == \"Hello\":\n",
    "        list1[index] = \"Python\"\n",
    "    elif list1[index] == \"World\":\n",
    "        list1[index] = \"Works\"\n",
    "    elif list1[index] == \"HelloWorld\":\n",
    "        list1[index] = \"PythonWorks\"\n",
    "tup = tuple(list1)\n",
    "\n",
    "print(tup)\n",
    "print(type(tup))"
   ],
   "metadata": {
    "collapsed": false,
    "pycharm": {
     "is_executing": true
    },
    "ExecuteTime": {
     "end_time": "2023-11-02T15:49:15.773941Z",
     "start_time": "2023-11-02T15:49:15.741006Z"
    }
   }
  },
  {
   "cell_type": "markdown",
   "metadata": {},
   "source": [
    "2\\. **The swap**\n",
    "\n",
    "Write a program that swaps the values of two input variables `x` and `y` from command line (whatever the type).\n",
    "\n",
    "Try to do that without using a temporary variable, exploiting the Python syntax."
   ]
  },
  {
   "cell_type": "code",
   "execution_count": 5,
   "outputs": [
    {
     "name": "stdout",
     "output_type": "stream",
     "text": [
      "x = 2 y= 9.2\n",
      "None\n"
     ]
    }
   ],
   "source": [
    "def switch(x, y):\n",
    "    x, y = y, x\n",
    "    return print(\"x =\", x, \"y=\", y)\n",
    "\n",
    "\n",
    "print(Switch(9.2, 2))"
   ],
   "metadata": {
    "collapsed": false,
    "ExecuteTime": {
     "end_time": "2023-11-02T15:50:01.391798Z",
     "start_time": "2023-11-02T15:50:01.356870Z"
    }
   }
  },
  {
   "cell_type": "markdown",
   "metadata": {},
   "source": [
    "3\\. **Computing the distance**\n",
    "\n",
    "Write a program that calculates and prints the euclidean distance between two given points $u$ and $v$ in a 2D space, where $u$ and $v$ are both 2-tuples $(x,y)$.\n",
    "\n",
    "Example: if $u=(3,0)$ and $v=(0,4)$, the function should return $5$.\n",
    "\n",
    "*Hint:* in order to compute the square root, import the `math` library with `import math` and use `math.sqrt()`."
   ]
  },
  {
   "cell_type": "code",
   "execution_count": 6,
   "outputs": [
    {
     "name": "stdout",
     "output_type": "stream",
     "text": [
      "5.0\n"
     ]
    }
   ],
   "source": [
    "import math\n",
    "\n",
    "\n",
    "def distance(u , v):\n",
    "    dis = math.sqrt((u[0] - v[0]) ** 2 + (u[1] - v[1]) ** 2)\n",
    "    return dis\n",
    "\n",
    "\n",
    "u = (3, 0)\n",
    "v = (0, 4)\n",
    "print(Distance(u, v))"
   ],
   "metadata": {
    "collapsed": false,
    "ExecuteTime": {
     "end_time": "2023-11-02T15:50:31.798884Z",
     "start_time": "2023-11-02T15:50:31.744846Z"
    }
   }
  },
  {
   "cell_type": "markdown",
   "metadata": {},
   "source": [
    "4\\. **Counting letters**\n",
    "\n",
    "Write a program that calculates the number of times each character occurs in a given string. Ignore differences in capitalization.\n",
    "\n",
    "The test strings are:"
   ]
  },
  {
   "cell_type": "code",
   "execution_count": 16,
   "metadata": {
    "ExecuteTime": {
     "end_time": "2023-11-02T15:56:22.392067Z",
     "start_time": "2023-11-02T15:56:22.383949Z"
    }
   },
   "outputs": [
    {
     "name": "stdout",
     "output_type": "stream",
     "text": [
      "Counter({' ': 8, 'o': 4, 'e': 3, 't': 2, 'h': 2, 'u': 2, 'r': 2, 'q': 1, 'i': 1, 'c': 1, 'k': 1, 'b': 1, 'w': 1, 'n': 1, 'f': 1, 'x': 1, 'j': 1, 'm': 1, 'p': 1, 's': 1, 'v': 1, 'l': 1, 'a': 1, 'z': 1, 'y': 1, 'd': 1, 'g': 1})\n",
      "Counter({' ': 41, 'e': 20, 'r': 19, 't': 19, 'o': 15, 'i': 12, 'l': 12, 'h': 11, 'n': 10, 'f': 10, 'p': 8, 'm': 8, 'a': 7, 's': 7, 'u': 7, 'b': 5, 'd': 5, 'w': 4, '.': 3, '1': 2, '0': 2, 'v': 2, 'g': 1, 'c': 1})\n"
     ]
    }
   ],
   "source": [
    "s1 = \"Write a program that prints the numbers from 1 to 100. \\\n",
    "But for multiples of three print Hello instead of the number and for the multiples of five print World. \\\n",
    "For numbers which are multiples of both three and five print HelloWorld.\"\n",
    "s2 = \"The quick brown fox jumps over the lazy dog\"\n",
    "from collections import Counter\n",
    "\n",
    "def countWords(str):\n",
    "    # str1 = str.replace(\" \", \"\")\n",
    "    low_str = str.lower()\n",
    "    c = Counter(low_str)\n",
    "    print(c)\n",
    "    return\n",
    "\n",
    "\n",
    "CountWords(s2)\n",
    "CountWords(s1)"
   ]
  },
  {
   "cell_type": "markdown",
   "metadata": {},
   "source": [
    "5\\. **Isolating the unique**\n",
    "\n",
    "Write a program that determines and counts the unique numbers (numbers with only one occurrence) in the list:"
   ]
  },
  {
   "cell_type": "code",
   "execution_count": 8,
   "metadata": {
    "ExecuteTime": {
     "end_time": "2023-11-02T15:52:12.044072Z",
     "start_time": "2023-11-02T15:52:12.035863Z"
    }
   },
   "outputs": [
    {
     "name": "stdout",
     "output_type": "stream",
     "text": [
      "[3, 4, 5, 7]\n"
     ]
    }
   ],
   "source": [
    "l = [36, 45, 58, 3, 74, 96, 64, 45, 31, 10, 24, 19, 33, 86, 99, 18, 63, 70, 85,\n",
    " 85, 63, 47, 56, 42, 70, 84, 88, 55, 20, 54, 8, 56, 51, 79, 81, 57, 37, 91,\n",
    " 1, 84, 84, 36, 66, 9, 89, 50, 42, 91, 50, 95, 90, 98, 39, 16, 82, 31, 92, 41,\n",
    " 45, 30, 66, 70, 34, 85, 94, 5, 3, 36, 72, 91, 84, 34, 87, 75, 53, 51, 20, 89, 51, 20]\n",
    "\n",
    "l2 = [2, 3, 2, 4, 5, 7]\n",
    "\n",
    "def uni_num(list):\n",
    "    newL = []\n",
    "    for i in list:\n",
    "        x = list.count(i)\n",
    "        if x == 1:\n",
    "            newL.append(i)\n",
    "    print(newL)\n",
    "\n",
    "\n",
    "uni_num(l2)"
   ]
  },
  {
   "cell_type": "markdown",
   "metadata": {},
   "source": [
    "Do the same exploiting only the Python data structures."
   ]
  },
  {
   "cell_type": "markdown",
   "metadata": {},
   "source": [
    "6\\. **Casting**\n",
    "\n",
    "Write a program that:\n",
    "* reads from command line two variables, that can be either `int`, `float`, or `str`.\n",
    "* use the `try`/`except` expressions to perform the addition of these two variables, only if possible\n",
    "* print the result without making the code crash for all the `int`/`float`/`str` input combinations."
   ]
  },
  {
   "cell_type": "code",
   "execution_count": 9,
   "outputs": [
    {
     "name": "stdout",
     "output_type": "stream",
     "text": [
      "3 yyy\n"
     ]
    }
   ],
   "source": [
    "def countNum(a, b):\n",
    "    try:\n",
    "        x = a + b\n",
    "        print(x)\n",
    "    except:\n",
    "        print(a, b)\n",
    "    return\n",
    "\n",
    "countNum(3, \"yyy\")"
   ],
   "metadata": {
    "collapsed": false,
    "ExecuteTime": {
     "end_time": "2023-11-02T15:52:44.703613Z",
     "start_time": "2023-11-02T15:52:44.692451Z"
    }
   }
  },
  {
   "cell_type": "markdown",
   "metadata": {},
   "source": [
    "7\\. **Cubes**\n",
    "\n",
    "Create a list of the cubes of *x* for *x* in *[0, 10]* using:\n",
    "\n",
    "a) a for loop\n",
    "\n",
    "b) a list comprehension"
   ]
  },
  {
   "cell_type": "code",
   "execution_count": 10,
   "outputs": [
    {
     "name": "stdout",
     "output_type": "stream",
     "text": [
      "cubes [0, 1, 8, 27, 64, 125, 216, 343, 512, 729, 1000]\n",
      "cubes2 [0, 1, 8, 27, 64, 125, 216, 343, 512, 729, 1000]\n"
     ]
    }
   ],
   "source": [
    "# a) a for loop\n",
    "cubes = []\n",
    "for i in range(0, 11):\n",
    "    cubes.append(i**3)\n",
    "print(\"cubes\", cubes)\n",
    "\n",
    "# b) a list comprehension\n",
    "cubes2 = [i**3 for i in range(0, 11)]\n",
    "print(\"cubes2\", cubes2)"
   ],
   "metadata": {
    "collapsed": false,
    "ExecuteTime": {
     "end_time": "2023-11-02T15:53:04.582210Z",
     "start_time": "2023-11-02T15:53:04.572463Z"
    }
   }
  },
  {
   "cell_type": "markdown",
   "metadata": {},
   "source": [
    "8\\. **List comprehension**\n",
    "\n",
    "Write, using the list comprehension, a single-line expression that gets the same result as the code in the cell below."
   ]
  },
  {
   "cell_type": "code",
   "execution_count": null,
   "metadata": {},
   "outputs": [],
   "source": [
    "a = []\n",
    "for i in range(3):\n",
    "    for j in range(4):\n",
    "        a.append((i, j))\n",
    "print(a)"
   ]
  },
  {
   "cell_type": "code",
   "execution_count": 11,
   "outputs": [
    {
     "name": "stdout",
     "output_type": "stream",
     "text": [
      "[(0, 0), (0, 1), (0, 2), (0, 3), (1, 0), (1, 1), (1, 2), (1, 3), (2, 0), (2, 1), (2, 2), (2, 3)]\n",
      "[(0, 0), (0, 1), (0, 2), (0, 3), (1, 0), (1, 1), (1, 2), (1, 3), (2, 0), (2, 1), (2, 2), (2, 3)]\n"
     ]
    }
   ],
   "source": [
    "a = []\n",
    "for i in range(3):\n",
    "    for j in range(4):\n",
    "        a.append((i, j))\n",
    "print(a)\n",
    "\n",
    "# List comprehension\n",
    "newA = [(i, j) for i in range(3) for j in range(4)]\n",
    "print(newA)"
   ],
   "metadata": {
    "collapsed": false,
    "ExecuteTime": {
     "end_time": "2023-11-02T15:53:44.651332Z",
     "start_time": "2023-11-02T15:53:44.637458Z"
    }
   }
  },
  {
   "cell_type": "markdown",
   "metadata": {},
   "source": [
    "9\\. **Nested list comprehension**\n",
    "\n",
    "> A Pythagorean triple is an integer solution to the Pythagorean theorem $a^2+b^2=c^2$. The first Pythagorean triple is (3, 4, 5).\n",
    "\n",
    "Find and put in a tuple all unique Pythagorean triples for the positive integers $a$, $b$ and $c$ with $c < 100$."
   ]
  },
  {
   "cell_type": "code",
   "execution_count": 12,
   "outputs": [
    {
     "name": "stdout",
     "output_type": "stream",
     "text": [
      "[(3, 4, 5), (5, 12, 13), (6, 8, 10), (7, 24, 25), (8, 15, 17), (9, 12, 15), (9, 40, 41), (10, 24, 26), (11, 60, 61), (12, 16, 20), (12, 35, 37), (13, 84, 85), (14, 48, 50), (15, 20, 25), (15, 36, 39), (16, 30, 34), (16, 63, 65), (18, 24, 30), (18, 80, 82), (20, 21, 29), (20, 48, 52), (21, 28, 35), (21, 72, 75), (24, 32, 40), (24, 45, 51), (24, 70, 74), (25, 60, 65), (27, 36, 45), (28, 45, 53), (30, 40, 50), (30, 72, 78), (32, 60, 68), (33, 44, 55), (33, 56, 65), (35, 84, 91), (36, 48, 60), (36, 77, 85), (39, 52, 65), (39, 80, 89), (40, 42, 58), (40, 75, 85), (42, 56, 70), (45, 60, 75), (48, 55, 73), (48, 64, 80), (51, 68, 85), (54, 72, 90), (57, 76, 95), (60, 63, 87), (65, 72, 97)]\n",
      "((3, 4, 5), (5, 12, 13), (6, 8, 10), (7, 24, 25), (8, 15, 17), (9, 12, 15), (9, 40, 41), (10, 24, 26), (11, 60, 61), (12, 16, 20), (12, 35, 37), (13, 84, 85), (14, 48, 50), (15, 20, 25), (15, 36, 39), (16, 30, 34), (16, 63, 65), (18, 24, 30), (18, 80, 82), (20, 21, 29), (20, 48, 52), (21, 28, 35), (21, 72, 75), (24, 32, 40), (24, 45, 51), (24, 70, 74), (25, 60, 65), (27, 36, 45), (28, 45, 53), (30, 40, 50), (30, 72, 78), (32, 60, 68), (33, 44, 55), (33, 56, 65), (35, 84, 91), (36, 48, 60), (36, 77, 85), (39, 52, 65), (39, 80, 89), (40, 42, 58), (40, 75, 85), (42, 56, 70), (45, 60, 75), (48, 55, 73), (48, 64, 80), (51, 68, 85), (54, 72, 90), (57, 76, 95), (60, 63, 87), (65, 72, 97))\n"
     ]
    }
   ],
   "source": [
    "from math import sqrt\n",
    "\n",
    "pyth = []\n",
    "for a in range(1, 100):\n",
    "    for b in range(1, 100):\n",
    "        c = int(sqrt(a * a + b * b))\n",
    "        if c * c == a * a + b * b and a < b and a + b > c and b + c > a and a + c > b and c < 100:\n",
    "            pyth.append((a, b, c))\n",
    "tup = tuple(pyth)\n",
    "\n",
    "print(pyth)\n",
    "print(tup)"
   ],
   "metadata": {
    "collapsed": false,
    "ExecuteTime": {
     "end_time": "2023-11-02T15:54:19.850262Z",
     "start_time": "2023-11-02T15:54:19.790274Z"
    }
   }
  },
  {
   "cell_type": "markdown",
   "metadata": {},
   "source": [
    "10\\. **Normalization of a N-dimensional vector**\n",
    "\n",
    "Write a program that takes an N-dimensional vector, e.g. a variable-length tuple of numbers, and normalizes it to one (in such a way that the squared sum of all the entries is equal to 1)."
   ]
  },
  {
   "cell_type": "code",
   "execution_count": 14,
   "outputs": [
    {
     "name": "stdout",
     "output_type": "stream",
     "text": [
      "[0.10810810810810811, 0.24324324324324326, 0.2702702702702703, 0.3783783783783784]\n"
     ]
    },
    {
     "data": {
      "text/plain": "[0.10810810810810811,\n 0.24324324324324326,\n 0.2702702702702703,\n 0.3783783783783784]"
     },
     "execution_count": 14,
     "metadata": {},
     "output_type": "execute_result"
    }
   ],
   "source": [
    "def normalizes(var):\n",
    "    squ = [i / sum(var) for i in var]\n",
    "    print(squ)\n",
    "    return squ\n",
    "\n",
    "\n",
    "demo_tuple = (2, 4.5, 5, 7)\n",
    "normalizes(demo_tuple)"
   ],
   "metadata": {
    "collapsed": false,
    "ExecuteTime": {
     "end_time": "2023-11-02T15:54:54.055817Z",
     "start_time": "2023-11-02T15:54:54.036895Z"
    }
   }
  },
  {
   "cell_type": "markdown",
   "metadata": {},
   "source": [
    "11\\. **The Fibonacci sequence**\n",
    "\n",
    "Calculate the first 20 numbers of the [Fibonacci sequence](https://en.wikipedia.org/wiki/Fibonacci_number) using only `for` or `while` loops."
   ]
  },
  {
   "cell_type": "code",
   "execution_count": 15,
   "outputs": [
    {
     "name": "stdout",
     "output_type": "stream",
     "text": [
      "[1, 1, 2, 3, 5, 8, 13, 21, 34, 55, 89, 144, 233, 377, 610, 987, 1597, 2584, 4181, 6765]\n"
     ]
    }
   ],
   "source": [
    "def fib2(n=20):\n",
    "    i = 0\n",
    "    a, b = 0, 1\n",
    "    finona = []\n",
    "    while i < n:\n",
    "        i += 1\n",
    "        finona.append(b)\n",
    "        a, b = b, a + b\n",
    "    return finona\n",
    "\n",
    "\n",
    "print(fib2(20))\n"
   ],
   "metadata": {
    "collapsed": false,
    "ExecuteTime": {
     "end_time": "2023-11-02T15:55:13.487411Z",
     "start_time": "2023-11-02T15:55:13.478483Z"
    }
   }
  }
 ],
 "metadata": {
  "kernelspec": {
   "display_name": "Python 3 (ipykernel)",
   "language": "python",
   "name": "python3"
  },
  "language_info": {
   "codemirror_mode": {
    "name": "ipython",
    "version": 3
   },
   "file_extension": ".py",
   "mimetype": "text/x-python",
   "name": "python",
   "nbconvert_exporter": "python",
   "pygments_lexer": "ipython3",
   "version": "3.10.12"
  }
 },
 "nbformat": 4,
 "nbformat_minor": 4
}
