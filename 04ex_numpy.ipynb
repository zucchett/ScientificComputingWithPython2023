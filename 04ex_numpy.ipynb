{
 "cells": [
  {
   "cell_type": "code",
   "execution_count": 2,
   "id": "5e2e8153",
   "metadata": {},
   "outputs": [
    {
     "name": "stdout",
     "output_type": "stream",
     "text": [
      "[[ 0  1  2  3]\n",
      " [ 4  5  6  7]\n",
      " [ 8  9 10 11]]\n",
      "5.5\n",
      "[4. 5. 6. 7.]\n",
      "[1.5 5.5 9.5]\n"
     ]
    }
   ],
   "source": [
    "#1\n",
    "import numpy as np\n",
    "\n",
    "m=np.arange(12).reshape((3,4))\n",
    "print(m)\n",
    "#find total mean\n",
    "mean1=np.mean(m)\n",
    "print(mean1)\n",
    "#find the mean for each row and column\n",
    "mean2=np.mean(m,axis=0)\n",
    "print(mean2)\n",
    "mean3=np.mean(m,axis=1)\n",
    "print(mean3)"
   ]
  },
  {
   "cell_type": "code",
   "execution_count": null,
   "id": "cbaf450d",
   "metadata": {},
   "outputs": [],
   "source": [
    "#2\n",
    "import numpy as np\n",
    "\n",
    "u = np.array([1, 3, 5, 7])\n",
    "v = np.array([2, 4, 6, 8])\n",
    "\n",
    "#outer\n",
    "outer1=np.outer(u,v)\n",
    "print(outer1)\n",
    "\n",
    "#list comprehension\n",
    "outer2=[[x*y for x in v] for y in u]\n",
    "print(outer2)\n",
    "\n",
    "#broadcasting\n",
    "outer3 = u[:, np.newaxis] * v\n",
    "print(outer3)\n",
    "\n"
   ]
  },
  {
   "cell_type": "code",
   "execution_count": null,
   "id": "2e862cbc",
   "metadata": {},
   "outputs": [],
   "source": [
    "#3\n",
    "import numpy as np\n",
    "matr=np.random.uniform(low=0.0, high=3.0, size=(10,6))\n",
    "print(matr)\n",
    "\n",
    "import numpy.ma as ma\n",
    "matr=ma.masked_less(matr,0.3)\n",
    "matr=matr.filled(0)\n",
    "print(matr)\n",
    "\n"
   ]
  },
  {
   "cell_type": "code",
   "execution_count": 13,
   "id": "bee898b5",
   "metadata": {},
   "outputs": [
    {
     "name": "stdout",
     "output_type": "stream",
     "text": [
      "[0.76159822 0.82506474 3.87145761 3.93492413]\n"
     ]
    }
   ],
   "source": [
    "#4\n",
    "import numpy as np\n",
    "import math\n",
    "\n",
    "arr=np.linspace(0, 2*math.pi, num=100)\n",
    "\n",
    "\n",
    "#Extract every 10th element using the slice notation\n",
    "arr=arr[::10]\n",
    "\n",
    "\n",
    "#reverse\n",
    "arr=arr[len(arr)-1:0:-1]\n",
    "\n",
    "\n",
    "#Extract elements\n",
    "def function(x):\n",
    "    return np.abs(np.sin(x) - np.cos(x)) < 0.1\n",
    "\n",
    "arr = np.linspace(0, 2*np.pi, 100)\n",
    "\n",
    "filtered_arr = arr[function(arr)]\n",
    "\n",
    "print(filtered_arr)"
   ]
  },
  {
   "cell_type": "code",
   "execution_count": 39,
   "id": "b2bd6f58",
   "metadata": {},
   "outputs": [
    {
     "ename": "AttributeError",
     "evalue": "module 'numpy' has no attribute 'arrange'",
     "output_type": "error",
     "traceback": [
      "\u001b[1;31m---------------------------------------------------------------------------\u001b[0m",
      "\u001b[1;31mAttributeError\u001b[0m                            Traceback (most recent call last)",
      "Cell \u001b[1;32mIn[39], line 5\u001b[0m\n\u001b[0;32m      2\u001b[0m \u001b[38;5;28;01mimport\u001b[39;00m \u001b[38;5;21;01mnumpy\u001b[39;00m \u001b[38;5;28;01mas\u001b[39;00m \u001b[38;5;21;01mnp\u001b[39;00m\n\u001b[0;32m      3\u001b[0m \u001b[38;5;28;01mimport\u001b[39;00m \u001b[38;5;21;01mmath\u001b[39;00m\n\u001b[1;32m----> 5\u001b[0m outer\u001b[38;5;241m=\u001b[39mnp\u001b[38;5;241m.\u001b[39mouter(np\u001b[38;5;241m.\u001b[39marrange(\u001b[38;5;241m1\u001b[39m,\u001b[38;5;241m11\u001b[39m), np\u001b[38;5;241m.\u001b[39marrange(\u001b[38;5;241m1\u001b[39m,\u001b[38;5;241m11\u001b[39m))\n\u001b[0;32m      6\u001b[0m \u001b[38;5;28mprint\u001b[39m(outer)\n\u001b[0;32m      8\u001b[0m trace\u001b[38;5;241m=\u001b[39m np\u001b[38;5;241m.\u001b[39mtrace(outer)\n",
      "File \u001b[1;32m~\\anaconda3\\Lib\\site-packages\\numpy\\__init__.py:320\u001b[0m, in \u001b[0;36m__getattr__\u001b[1;34m(attr)\u001b[0m\n\u001b[0;32m    317\u001b[0m     \u001b[38;5;28;01mfrom\u001b[39;00m \u001b[38;5;21;01m.\u001b[39;00m\u001b[38;5;21;01mtesting\u001b[39;00m \u001b[38;5;28;01mimport\u001b[39;00m Tester\n\u001b[0;32m    318\u001b[0m     \u001b[38;5;28;01mreturn\u001b[39;00m Tester\n\u001b[1;32m--> 320\u001b[0m \u001b[38;5;28;01mraise\u001b[39;00m \u001b[38;5;167;01mAttributeError\u001b[39;00m(\u001b[38;5;124m\"\u001b[39m\u001b[38;5;124mmodule \u001b[39m\u001b[38;5;132;01m{!r}\u001b[39;00m\u001b[38;5;124m has no attribute \u001b[39m\u001b[38;5;124m\"\u001b[39m\n\u001b[0;32m    321\u001b[0m                      \u001b[38;5;124m\"\u001b[39m\u001b[38;5;132;01m{!r}\u001b[39;00m\u001b[38;5;124m\"\u001b[39m\u001b[38;5;241m.\u001b[39mformat(\u001b[38;5;18m__name__\u001b[39m, attr))\n",
      "\u001b[1;31mAttributeError\u001b[0m: module 'numpy' has no attribute 'arrange'"
     ]
    }
   ],
   "source": [
    "#5\n",
    "import numpy as np\n",
    "import math\n",
    "\n",
    "outer=np.outer(np.arrange(1,11), np.arrange(1,11))\n",
    "print(outer)\n",
    "\n",
    "trace= np.trace(outer)\n",
    "print(trace)\n",
    "\n",
    "flip=np.fliplr(outer).diagonal()\n",
    "print(flip)\n",
    "\n",
    "diagoff=np.diagonal(outer, offset=1)\n",
    "print(diagoff)"
   ]
  },
  {
   "cell_type": "code",
   "execution_count": 29,
   "id": "021f0437",
   "metadata": {},
   "outputs": [
    {
     "name": "stdout",
     "output_type": "stream",
     "text": [
      "[[   0.       318.64932  487.63002 1184.47424 1401.73514 1890.9745\n",
      "  2373.7765  2484.82096 3078.66742 3939.66432]\n",
      " [ 318.64932    0.       168.9807   865.82492 1083.08582 1572.32518\n",
      "  2055.12718 2166.17164 2760.0181  3621.015  ]\n",
      " [ 487.63002  168.9807     0.       696.84422  914.10512 1403.34448\n",
      "  1886.14648 1997.19094 2591.0374  3452.0343 ]\n",
      " [1184.47424  865.82492  696.84422    0.       217.2609   706.50026\n",
      "  1189.30226 1300.34672 1894.19318 2755.19008]\n",
      " [1401.73514 1083.08582  914.10512  217.2609     0.       489.23936\n",
      "   972.04136 1083.08582 1676.93228 2537.92918]\n",
      " [1890.9745  1572.32518 1403.34448  706.50026  489.23936    0.\n",
      "   482.802    593.84646 1187.69292 2048.68982]\n",
      " [2373.7765  2055.12718 1886.14648 1189.30226  972.04136  482.802\n",
      "     0.       111.04446  704.89092 1565.88782]\n",
      " [2484.82096 2166.17164 1997.19094 1300.34672 1083.08582  593.84646\n",
      "   111.04446    0.       593.84646 1454.84336]\n",
      " [3078.66742 2760.0181  2591.0374  1894.19318 1676.93228 1187.69292\n",
      "   704.89092  593.84646    0.       860.9969 ]\n",
      " [3939.66432 3621.015   3452.0343  2755.19008 2537.92918 2048.68982\n",
      "  1565.88782 1454.84336  860.9969     0.     ]]\n"
     ]
    }
   ],
   "source": [
    "#6\n",
    "import numpy as np\n",
    "import math\n",
    "\n",
    "cities=[\"Chicago\", \"Springfield\", \"Saint-Louis\", \"Tulsa\", \"Oklahoma City\", \"Amarillo\", \"Santa Fe\", \"Albuquerque\", \"Flagstaff\", \"Los Angeles\"]\n",
    "miles=np.array([0, 198, 303, 736, 871, 1175, 1475, 1544, 1913, 2448])\n",
    "km=miles*1.60934\n",
    "distance=np.abs(km-km[:, np.newaxis])\n",
    "print(distance)"
   ]
  },
  {
   "cell_type": "code",
   "execution_count": 36,
   "id": "75e6906b",
   "metadata": {},
   "outputs": [
    {
     "name": "stdout",
     "output_type": "stream",
     "text": [
      "[ 2  3  5  7 11 13 17 19 23 29 31 37 41 43 47 53 59 61 67 71 73 79 83 89\n",
      " 97]\n"
     ]
    }
   ],
   "source": [
    "#7\n",
    "import numpy as np\n",
    "import math\n",
    "import time\n",
    "\n",
    "def sieve_of_eratosthenes(N):\n",
    "    boolean=np.ones(N, dtype=bool)\n",
    "    boolean[0:2]=False\n",
    "    for i in range(2,int(np.sqrt(N))+1):\n",
    "        if boolean[i]:\n",
    "            boolean[i*i:N:i]=False\n",
    "        \n",
    "    prime=np.nonzero(boolean)[0]  \n",
    "    \n",
    "    return prime\n",
    "\n",
    "\n",
    "N=99\n",
    "primes=sieve_of_eratosthenes(N)\n",
    "print(primes)\n"
   ]
  },
  {
   "cell_type": "code",
   "execution_count": 38,
   "id": "f672e093",
   "metadata": {},
   "outputs": [
    {
     "name": "stdout",
     "output_type": "stream",
     "text": [
      "146.146\n"
     ]
    }
   ],
   "source": [
    "#8\n",
    "import numpy as np\n",
    "\n",
    "\n",
    "walkers=1000\n",
    "steps=200\n",
    "\n",
    "arr=np.random.randint(low=-1, high=2, size=(walkers,steps))\n",
    "summ=np.sum(arr,axis=1)\n",
    "squared=summ**2\n",
    "mean=np.mean(squared)"
   ]
  },
  {
   "cell_type": "code",
   "execution_count": null,
   "id": "1c1157ab",
   "metadata": {},
   "outputs": [],
   "source": []
  }
 ],
 "metadata": {
  "kernelspec": {
   "display_name": "Python 3 (ipykernel)",
   "language": "python",
   "name": "python3"
  },
  "language_info": {
   "codemirror_mode": {
    "name": "ipython",
    "version": 3
   },
   "file_extension": ".py",
   "mimetype": "text/x-python",
   "name": "python",
   "nbconvert_exporter": "python",
   "pygments_lexer": "ipython3",
   "version": "3.11.5"
  }
 },
 "nbformat": 4,
 "nbformat_minor": 5
}
