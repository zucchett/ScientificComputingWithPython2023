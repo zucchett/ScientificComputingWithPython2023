{
 "cells": [
  {
   "cell_type": "markdown",
   "metadata": {},
   "source": [
    "1\\. **Reductions**\n",
    "\n",
    "Given the following matrix:\n",
    "\n",
    "```python\n",
    "m = np.arange(12).reshape((3,4))\n",
    "```\n",
    "\n",
    "   1. find the total mean\n",
    "   2. find the mean for each row and column"
   ]
  },
  {
   "cell_type": "code",
   "execution_count": 2,
   "metadata": {},
   "outputs": [
    {
     "name": "stdout",
     "output_type": "stream",
     "text": [
      "Total mean 5.5\n",
      "mean along the columns: [4. 5. 6. 7.]\n",
      "mean along the rows: [1.5 5.5 9.5]\n"
     ]
    }
   ],
   "source": [
    "import numpy as np\n",
    "m = np.arange(12).reshape((3,4))\n",
    "#print(m)\n",
    "print('Total mean',np.mean(m))\n",
    "print(\"mean along the columns:\", m.mean(axis=0))\n",
    "print(\"mean along the rows:\", m.mean(axis=1))"
   ]
  },
  {
   "cell_type": "markdown",
   "metadata": {},
   "source": [
    "2\\. **Outer product**\n",
    "\n",
    "Find the outer product of the following vectors:\n",
    "\n",
    "```python\n",
    "u = np.array([1, 3, 5, 7])\n",
    "v = np.array([2, 4, 6, 8])\n",
    "```\n",
    "\n",
    "Use different methods to do this:\n",
    "\n",
    "   1. Using the function `outer` in numpy\n",
    "   2. Using a nested `for` loop or a list comprehension\n",
    "   3. Using numpy broadcasting operations"
   ]
  },
  {
   "cell_type": "code",
   "execution_count": 26,
   "metadata": {},
   "outputs": [
    {
     "name": "stdout",
     "output_type": "stream",
     "text": [
      "Outer using outer in numpy:\n",
      "  [[ 2  4  6  8]\n",
      " [ 6 12 18 24]\n",
      " [10 20 30 40]\n",
      " [14 28 42 56]]\n",
      " [[2, 4, 6, 8], [6, 12, 18, 24], [10, 20, 30, 40], [14, 28, 42, 56]]\n",
      "original arrays: \n",
      "u = [[1]\n",
      " [3]\n",
      " [5]\n",
      " [7]] \n",
      "v = [2 4 6 8] \n",
      "\n",
      "broadcasted : \n",
      " [[ 2  4  6  8]\n",
      " [ 6 12 18 24]\n",
      " [10 20 30 40]\n",
      " [14 28 42 56]] \n",
      "\n"
     ]
    }
   ],
   "source": [
    "u = np.array([1, 3, 5, 7])\n",
    "v = np.array([2, 4, 6, 8])\n",
    "o=np.outer(u,v)\n",
    "print('Outer using outer in numpy:\\n ', o)\n",
    "m=[]\n",
    "\n",
    "for i in u:\n",
    "    m.append(list(i*v))\n",
    "print('',m)\n",
    "\n",
    "u=u.reshape(-1, 1)\n",
    "print(\"original arrays:\", '\\nu =', u, '\\nv =', v, '\\n')\n",
    "print(\"broadcasted :\", '\\n', u * v, '\\n')\n"
   ]
  },
  {
   "cell_type": "markdown",
   "metadata": {},
   "source": [
    "3\\. **Matrix masking**\n",
    "\n",
    "Create a $10 \\times 6$ matrix of float random numbers, distributed between 0 and 3 according to a flat distribution.\n",
    "\n",
    "After creating the matrix, set all entries $< 0.3$ to zero using a mask."
   ]
  },
  {
   "cell_type": "code",
   "execution_count": 38,
   "metadata": {},
   "outputs": [
    {
     "name": "stdout",
     "output_type": "stream",
     "text": [
      "normal: \n",
      " [[1.31947777 0.71681644 0.75638158 1.79951963 2.59670024 0.67518448]\n",
      " [1.40080059 0.47822355 1.91163457 2.69196885 1.53373409 2.25246983]\n",
      " [0.03353014 1.81897688 0.7603747  0.29786177 0.39295798 1.29569737]\n",
      " [0.12459446 1.14919858 1.25648025 2.14699889 2.96015905 0.02403421]\n",
      " [2.46785831 0.10216024 0.46152503 2.75140337 2.74731276 0.9455879 ]\n",
      " [2.74749505 0.49081346 0.74832009 0.55520593 0.8905223  1.99450986]\n",
      " [2.52979322 0.04511807 0.67316871 1.10918577 1.13587068 0.11299529]\n",
      " [0.33266929 2.70150993 0.62949423 0.40105785 0.86770975 0.16456974]\n",
      " [0.62813084 1.77467961 2.65832209 0.26090783 1.23524632 2.80661659]\n",
      " [0.79060236 1.23742745 1.54770915 2.34640824 0.62688069 2.19212767]] \n",
      "\n",
      "the modified array: \n",
      " [[1.31947777 0.71681644 0.75638158 1.79951963 2.59670024 0.67518448]\n",
      " [1.40080059 0.47822355 1.91163457 2.69196885 1.53373409 2.25246983]\n",
      " [0.         1.81897688 0.7603747  0.         0.39295798 1.29569737]\n",
      " [0.         1.14919858 1.25648025 2.14699889 2.96015905 0.        ]\n",
      " [2.46785831 0.         0.46152503 2.75140337 2.74731276 0.9455879 ]\n",
      " [2.74749505 0.49081346 0.74832009 0.55520593 0.8905223  1.99450986]\n",
      " [2.52979322 0.         0.67316871 1.10918577 1.13587068 0.        ]\n",
      " [0.33266929 2.70150993 0.62949423 0.40105785 0.86770975 0.        ]\n",
      " [0.62813084 1.77467961 2.65832209 0.         1.23524632 2.80661659]\n",
      " [0.79060236 1.23742745 1.54770915 2.34640824 0.62688069 2.19212767]] \n",
      "\n"
     ]
    }
   ],
   "source": [
    "import numpy.random as npr\n",
    "# random values from a standard normal distrubtion  for a given shape\n",
    "a=npr.uniform(0.0, 3.0, size=(10, 6))\n",
    "print(\"normal:\", '\\n', a, '\\n') # shape=(2, 5)  #%also negative \n",
    "a[a<0.3] = 0\n",
    "print(\"the modified array:\",'\\n', a, '\\n')"
   ]
  },
  {
   "cell_type": "markdown",
   "metadata": {},
   "source": [
    "4\\. **Trigonometric functions**\n",
    "\n",
    "Use `np.linspace` to create an array of 100 numbers between $0$ and $2\\pi$ (inclusive).\n",
    "\n",
    "  * Extract every 10th element using the slice notation\n",
    "  * Reverse the array using the slice notation\n",
    "  * Extract elements where the absolute difference between the `sin` and `cos` functions evaluated for that element is $< 0.1$\n",
    "  * **Optional**: make a plot showing the `sin` and `cos` functions and indicate graphically (with a line or a marker) where they are close"
   ]
  },
  {
   "cell_type": "code",
   "execution_count": 25,
   "metadata": {},
   "outputs": [
    {
     "name": "stdout",
     "output_type": "stream",
     "text": [
      "[0.         0.06346652 0.12693304 0.19039955 0.25386607 0.31733259\n",
      " 0.38079911 0.44426563 0.50773215 0.57119866 0.63466518 0.6981317\n",
      " 0.76159822 0.82506474 0.88853126 0.95199777 1.01546429 1.07893081\n",
      " 1.14239733 1.20586385 1.26933037 1.33279688 1.3962634  1.45972992\n",
      " 1.52319644 1.58666296 1.65012947 1.71359599 1.77706251 1.84052903\n",
      " 1.90399555 1.96746207 2.03092858 2.0943951  2.15786162 2.22132814\n",
      " 2.28479466 2.34826118 2.41172769 2.47519421 2.53866073 2.60212725\n",
      " 2.66559377 2.72906028 2.7925268  2.85599332 2.91945984 2.98292636\n",
      " 3.04639288 3.10985939 3.17332591 3.23679243 3.30025895 3.36372547\n",
      " 3.42719199 3.4906585  3.55412502 3.61759154 3.68105806 3.74452458\n",
      " 3.8079911  3.87145761 3.93492413 3.99839065 4.06185717 4.12532369\n",
      " 4.1887902  4.25225672 4.31572324 4.37918976 4.44265628 4.5061228\n",
      " 4.56958931 4.63305583 4.69652235 4.75998887 4.82345539 4.88692191\n",
      " 4.95038842 5.01385494 5.07732146 5.14078798 5.2042545  5.26772102\n",
      " 5.33118753 5.39465405 5.45812057 5.52158709 5.58505361 5.64852012\n",
      " 5.71198664 5.77545316 5.83891968 5.9023862  5.96585272 6.02931923\n",
      " 6.09278575 6.15625227 6.21971879 6.28318531]\n",
      "Extract erevy 10 element [0.         0.63466518 1.26933037 1.90399555 2.53866073 3.17332591\n",
      " 3.8079911  4.44265628 5.07732146 5.71198664]\n",
      "Reverse array [6.28318531 6.21971879 6.15625227 6.09278575 6.02931923 5.96585272\n",
      " 5.9023862  5.83891968 5.77545316 5.71198664 5.64852012 5.58505361\n",
      " 5.52158709 5.45812057 5.39465405 5.33118753 5.26772102 5.2042545\n",
      " 5.14078798 5.07732146 5.01385494 4.95038842 4.88692191 4.82345539\n",
      " 4.75998887 4.69652235 4.63305583 4.56958931 4.5061228  4.44265628\n",
      " 4.37918976 4.31572324 4.25225672 4.1887902  4.12532369 4.06185717\n",
      " 3.99839065 3.93492413 3.87145761 3.8079911  3.74452458 3.68105806\n",
      " 3.61759154 3.55412502 3.4906585  3.42719199 3.36372547 3.30025895\n",
      " 3.23679243 3.17332591 3.10985939 3.04639288 2.98292636 2.91945984\n",
      " 2.85599332 2.7925268  2.72906028 2.66559377 2.60212725 2.53866073\n",
      " 2.47519421 2.41172769 2.34826118 2.28479466 2.22132814 2.15786162\n",
      " 2.0943951  2.03092858 1.96746207 1.90399555 1.84052903 1.77706251\n",
      " 1.71359599 1.65012947 1.58666296 1.52319644 1.45972992 1.3962634\n",
      " 1.33279688 1.26933037 1.20586385 1.14239733 1.07893081 1.01546429\n",
      " 0.95199777 0.88853126 0.82506474 0.76159822 0.6981317  0.63466518\n",
      " 0.57119866 0.50773215 0.44426563 0.38079911 0.31733259 0.25386607\n",
      " 0.19039955 0.12693304 0.06346652 0.        ]\n",
      "Elements where the absolute difference between the sin and cos functions evaluated for that element is  <0.1 [0.76159822 0.82506474 3.87145761 3.93492413]\n"
     ]
    }
   ],
   "source": [
    "a=np.linspace(0, 2*np.pi, 100)\n",
    "print(a)\n",
    "print('Extract erevy 10 element',a[::10])\n",
    "print('Reverse array',a[::-1])\n",
    "extract_ele=a[np.abs(np.sin(a)-np.cos(a))<0.1]\n",
    "print('Elements where the absolute difference between the sin and cos functions evaluated for that element is  <0.1',extract_ele)"
   ]
  },
  {
   "cell_type": "markdown",
   "metadata": {},
   "source": [
    "5\\. **Matrices**\n",
    "\n",
    "Create a matrix that shows the $10 \\times 10$ multiplication table.\n",
    "\n",
    " * Find the trace of the matrix\n",
    " * Extract the anti-diagonal matrix (this should be ```array([10, 18, 24, 28, 30, 30, 28, 24, 18, 10])```)\n",
    " * Extract the diagonal offset by 1 upwards (this should be ```array([ 2,  6, 12, 20, 30, 42, 56, 72, 90])```)"
   ]
  },
  {
   "cell_type": "code",
   "execution_count": 44,
   "metadata": {},
   "outputs": [
    {
     "name": "stdout",
     "output_type": "stream",
     "text": [
      "[[  1.   2.   3.   4.   5.   6.   7.   8.   9.  10.]\n",
      " [  2.   4.   6.   8.  10.  12.  14.  16.  18.  20.]\n",
      " [  3.   6.   9.  12.  15.  18.  21.  24.  27.  30.]\n",
      " [  4.   8.  12.  16.  20.  24.  28.  32.  36.  40.]\n",
      " [  5.  10.  15.  20.  25.  30.  35.  40.  45.  50.]\n",
      " [  6.  12.  18.  24.  30.  36.  42.  48.  54.  60.]\n",
      " [  7.  14.  21.  28.  35.  42.  49.  56.  63.  70.]\n",
      " [  8.  16.  24.  32.  40.  48.  56.  64.  72.  80.]\n",
      " [  9.  18.  27.  36.  45.  54.  63.  72.  81.  90.]\n",
      " [ 10.  20.  30.  40.  50.  60.  70.  80.  90. 100.]]\n",
      "The trace of the matrix 385.0\n",
      "Anti-diagonal matrix [10. 18. 24. 28. 30. 30. 28. 24. 18. 10.]\n",
      "Diagonal offset by 1 upwards  [ 2.  6. 12. 20. 30. 42. 56. 72. 90.]\n"
     ]
    }
   ],
   "source": [
    "b= np.fromfunction(lambda i, j: (i+1)*(j+1), (10, 10))\n",
    "print(b)\n",
    "print('The trace of the matrix',sum(np.diag(b)))\n",
    "print('Anti-diagonal matrix',np.diag(np.fliplr(b)))\n",
    "print('Diagonal offset by 1 upwards ',np.diag(b,1))\n"
   ]
  },
  {
   "cell_type": "markdown",
   "metadata": {},
   "source": [
    "6\\. **Broadcasting**\n",
    "\n",
    "Use broadcasting to create a grid of distances.\n",
    "\n",
    "Route 66 crosses the following cities in the US: Chicago, Springfield, Saint-Louis, Tulsa, Oklahoma City, Amarillo, Santa Fe, Albuquerque, Flagstaff, Los Angeles.\n",
    "\n",
    "The corresponding positions in miles are: `0, 198, 303, 736, 871, 1175, 1475, 1544, 1913, 2448`\n",
    "\n",
    "  * Build a 2D grid of distances among each city along Route 66\n",
    "  * Convert the distances in km"
   ]
  },
  {
   "cell_type": "code",
   "execution_count": 71,
   "metadata": {},
   "outputs": [
    {
     "name": "stdout",
     "output_type": "stream",
     "text": [
      "dataset in miles  \n",
      " [['Chicago' '0.0']\n",
      " ['Springfield' '198.0']\n",
      " ['Saint-Louis' '303.0']\n",
      " ['Tulsa' '736.0']\n",
      " ['Oklahoma City' '871.0']\n",
      " ['Amarillo' '1175.0']\n",
      " ['Santa Fe' '1475.0']\n",
      " ['Albuquerque' '1544.0']\n",
      " ['Flagstaff' '1913.0']\n",
      " ['Los Angeles' '2448.0']]\n",
      "dataset in km  \n",
      " [['Chicago' '0.0']\n",
      " ['Springfield' '366.696']\n",
      " ['Saint-Louis' '561.1560000000001']\n",
      " ['Tulsa' '1363.0720000000001']\n",
      " ['Oklahoma City' '1613.092']\n",
      " ['Amarillo' '2176.1']\n",
      " ['Santa Fe' '2731.7000000000003']\n",
      " ['Albuquerque' '2859.4880000000003']\n",
      " ['Flagstaff' '3542.876']\n",
      " ['Los Angeles' '4533.696']]\n"
     ]
    }
   ],
   "source": [
    "a=np.array(['Chicago', 'Springfield', 'Saint-Louis', 'Tulsa', 'Oklahoma City', 'Amarillo', 'Santa Fe', 'Albuquerque', 'Flagstaff', 'Los Angeles'])\n",
    "b=np.array([0, 198, 303, 736, 871, 1175, 1475, 1544, 1913, 2448], dtype=float)\n",
    "#m=np.zeros((2, 10))\n",
    "#m[0,:]=a\n",
    "m=np.c_[a,b]\n",
    "print('dataset in miles ','\\n',m)\n",
    "m[:, 1] =  m[:, 1].astype(float)* 1.852\n",
    "\n",
    "print('dataset in km ','\\n',m)"
   ]
  },
  {
   "cell_type": "markdown",
   "metadata": {},
   "source": [
    "7\\. **Prime numbers sieve**\n",
    "\n",
    "Compute the prime numbers in the 0-N (start with N=99) range with a sieve (mask).\n",
    "\n",
    "  * Construct a shape (N,) boolean array, which is the mask\n",
    "  * Identify the multiples of each number starting from 2 and set accordingly the corresponding mask element\n",
    "  * Apply the mask to obtain an array of ordered prime numbers\n",
    "  * Check the performances (with `timeit`); how does it scale with N?\n",
    "  * Implement the optimization suggested in the [sieve of Eratosthenes](https://en.wikipedia.org/wiki/Sieve_of_Eratosthenes)"
   ]
  },
  {
   "cell_type": "code",
   "execution_count": 49,
   "metadata": {},
   "outputs": [
    {
     "name": "stdout",
     "output_type": "stream",
     "text": [
      "Array of ordered prime numbers:  [ 2  3  5  7 11 13 17 19 23 29 31 37 41 43 47 53 59 61 67]\n",
      "1.4 µs ± 35.2 ns per loop (mean ± std. dev. of 7 runs, 1,000,000 loops each)\n"
     ]
    }
   ],
   "source": [
    "import numpy as np\n",
    "import timeit\n",
    "import math\n",
    "N=70\n",
    "a=np.ones(N+1,bool)\n",
    "\n",
    "for i in range(2,int(math.sqrt(N))):\n",
    "    if a[i]==[True]:\n",
    "        for j in range(i*2,N+1,i):\n",
    "            \n",
    "            a[j]=False\n",
    "            \n",
    "a=np.delete(a,0)\n",
    "a=np.delete(a,1)  \n",
    "n=np.arange(2,N+1)  \n",
    "print('Array of ordered prime numbers: ',n[a])\n",
    "%timeit (n[a])\n",
    "#mi wembra che sia più lento con N più piccoli"
   ]
  },
  {
   "cell_type": "markdown",
   "metadata": {},
   "source": [
    "8\\. **Diffusion using random walk**\n",
    "\n",
    "Consider a simple random walk process: at each step in time, a walker jumps right or left (+1 or -1) with equal probability. The goal is to find the typical distance from the origin of many random walkers after a given amount of time.\n",
    "\n",
    "*Hint*: create a 2D array where each row represents a walker, and each column represents a time step.\n",
    "\n",
    "  * Take 1000 walkers and let them walk for 200 steps\n",
    "  * Use `randint` to create a 2D array of size $walkers \\times steps$ with values -1 or 1\n",
    "  * Calculate the walking distances for each walker (e.g. by summing the elements in each row)\n",
    "  * Take the square of the previously-obtained array (element-wise)\n",
    "  * Compute the mean of the squared distances at each step (i.e. the mean along the columns)\n",
    "  * **Optional**: plot the average distances ($\\sqrt(distance^2)$) as a function of time (step)"
   ]
  },
  {
   "cell_type": "code",
   "execution_count": 18,
   "metadata": {},
   "outputs": [
    {
     "data": {
      "image/png": "[encoded data removed]",
      "text/plain": [
       "<Figure size 640x480 with 1 Axes>"
      ]
     },
     "metadata": {},
     "output_type": "display_data"
    }
   ],
   "source": [
    "import numpy as np\n",
    "import matplotlib.pyplot as plt\n",
    "\n",
    "w=(2 * np.random.randint(2, size=(1000, 200))) - 1\n",
    "w_dist = np.cumsum(w, axis = 1)\n",
    "w_dist_s = np.square(w_dist)\n",
    "w_dist_s_mean = w_dist_s.mean(axis = 0)\n",
    "dist=np.sqrt(w_dist_s_mean)\n",
    "plt.plot(dist)\n",
    "plt.show()"
   ]
  },
  {
   "cell_type": "code",
   "execution_count": null,
   "metadata": {},
   "outputs": [],
   "source": []
  },
  {
   "cell_type": "code",
   "execution_count": null,
   "metadata": {},
   "outputs": [],
   "source": []
  }
 ],
 "metadata": {
  "kernelspec": {
   "display_name": "Python 3 (ipykernel)",
   "language": "python",
   "name": "python3"
  },
  "language_info": {
   "codemirror_mode": {
    "name": "ipython",
    "version": 3
   },
   "file_extension": ".py",
   "mimetype": "text/x-python",
   "name": "python",
   "nbconvert_exporter": "python",
   "pygments_lexer": "ipython3",
   "version": "3.11.5"
  }
 },
 "nbformat": 4,
 "nbformat_minor": 2
}
