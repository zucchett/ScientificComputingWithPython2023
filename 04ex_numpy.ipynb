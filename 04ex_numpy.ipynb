{
  "cells": [
    {
      "cell_type": "markdown",
      "metadata": {
        "id": "nh2E3Llggodr"
      },
      "source": [
        "1\\. **Reductions**\n",
        "\n",
        "Given the following matrix:\n",
        "\n",
        "```python\n",
        "m = np.arange(12).reshape((3,4))\n",
        "```\n",
        "\n",
        "   1. find the total mean\n",
        "   2. find the mean for each row and column"
      ]
    },
    {
      "cell_type": "code",
      "execution_count": null,
      "metadata": {
        "id": "-A5oGW4mgodz",
        "colab": {
          "base_uri": "https://localhost:8080/"
        },
        "outputId": "ecc234fe-09ab-435c-fd30-53c8f4b1e092"
      },
      "outputs": [
        {
          "output_type": "stream",
          "name": "stdout",
          "text": [
            "[[ 0  1  2  3]\n",
            " [ 4  5  6  7]\n",
            " [ 8  9 10 11]] \n",
            "\n",
            "total mean : 5.5\n",
            "mean along columns : [4. 5. 6. 7.]\n",
            "mean along rows : [1.5 5.5 9.5]\n"
          ]
        }
      ],
      "source": [
        "import numpy as np\n",
        "\n",
        "m = np.arange(12).reshape((3,4))\n",
        "print(m, '\\n')\n",
        "print('total mean :', m.mean())\n",
        "print('mean along columns :', m.mean(axis=0))\n",
        "print('mean along rows :', m.mean(axis=1))"
      ]
    },
    {
      "cell_type": "markdown",
      "metadata": {
        "id": "Pn0JVSmegod0"
      },
      "source": [
        "2\\. **Outer product**\n",
        "\n",
        "Find the outer product of the following vectors:\n",
        "\n",
        "```python\n",
        "u = np.array([1, 3, 5, 7])\n",
        "v = np.array([2, 4, 6, 8])\n",
        "```\n",
        "\n",
        "Use different methods to do this:\n",
        "\n",
        "   1. Using the function `outer` in numpy\n",
        "   2. Using a nested `for` loop or a list comprehension\n",
        "   3. Using numpy broadcasting operations"
      ]
    },
    {
      "cell_type": "code",
      "execution_count": null,
      "metadata": {
        "id": "yz7rZsVmgod1",
        "colab": {
          "base_uri": "https://localhost:8080/"
        },
        "outputId": "38633ee8-d9d1-4fac-b1bb-6a2264e23b58"
      },
      "outputs": [
        {
          "output_type": "stream",
          "name": "stdout",
          "text": [
            "[[ 2  4  6  8]\n",
            " [ 6 12 18 24]\n",
            " [10 20 30 40]\n",
            " [14 28 42 56]]\n"
          ]
        }
      ],
      "source": [
        "# using outer function\n",
        "u = np.array([1, 3, 5, 7])\n",
        "v = np.array([2, 4, 6, 8])\n",
        "pr=np.outer(u, v)\n",
        "print(pr)"
      ]
    },
    {
      "cell_type": "code",
      "source": [
        "# using a nested for loop or a list comprehension\n",
        "prd =np.array([list(x*v) for x in u])\n",
        "print(prd)"
      ],
      "metadata": {
        "colab": {
          "base_uri": "https://localhost:8080/"
        },
        "id": "r31MOnGQABpj",
        "outputId": "f2e84ac5-e1d3-4e75-8362-38e8dac08110"
      },
      "execution_count": null,
      "outputs": [
        {
          "output_type": "stream",
          "name": "stdout",
          "text": [
            "[[ 2  4  6  8]\n",
            " [ 6 12 18 24]\n",
            " [10 20 30 40]\n",
            " [14 28 42 56]]\n"
          ]
        }
      ]
    },
    {
      "cell_type": "code",
      "source": [
        "#Using numpy broadcasting operations\n",
        "prod_broad = np.tile(u,(len(v),1)).T * v\n",
        "print(prod_broad)"
      ],
      "metadata": {
        "colab": {
          "base_uri": "https://localhost:8080/"
        },
        "id": "60Ndbb-_B9K0",
        "outputId": "2d2a442e-c4cd-4139-9a85-15367a55580d"
      },
      "execution_count": null,
      "outputs": [
        {
          "output_type": "stream",
          "name": "stdout",
          "text": [
            "[[ 2  4  6  8]\n",
            " [ 6 12 18 24]\n",
            " [10 20 30 40]\n",
            " [14 28 42 56]]\n"
          ]
        }
      ]
    },
    {
      "cell_type": "markdown",
      "metadata": {
        "id": "r7yvmeEggod1"
      },
      "source": [
        "3\\. **Matrix masking**\n",
        "\n",
        "Create a $10 \\times 6$ matrix of float random numbers, distributed between 0 and 3 according to a flat distribution.\n",
        "\n",
        "After creating the matrix, set all entries $< 0.3$ to zero using a mask."
      ]
    },
    {
      "cell_type": "code",
      "execution_count": null,
      "metadata": {
        "id": "B11j44icgod2",
        "colab": {
          "base_uri": "https://localhost:8080/"
        },
        "outputId": "6622d8b5-4d0e-4be9-822c-4bf2093084e5"
      },
      "outputs": [
        {
          "output_type": "stream",
          "name": "stdout",
          "text": [
            "matrix : \n",
            " [[0.52444223 1.13451983 2.84675008 2.44701348 1.20544589 2.5437359 ]\n",
            " [1.01741222 2.61157548 1.1438237  0.78401212 1.07597132 1.66323167]\n",
            " [1.84103153 1.33567742 1.68892383 1.03514312 0.71384489 1.1839534 ]\n",
            " [1.16206567 0.42422992 2.55295809 1.35486175 0.23267727 2.64159045]\n",
            " [2.19347341 1.30208673 0.71600251 1.18441085 0.80268199 2.10662054]\n",
            " [0.25246911 1.90080012 1.47925473 1.50171628 0.53957355 1.44541264]\n",
            " [0.63887672 0.18868897 1.35492943 1.29931659 2.45679556 0.83197327]\n",
            " [2.429426   0.41243367 0.17698294 1.61365831 1.66401788 0.51440787]\n",
            " [0.91448843 2.10434451 1.44167778 2.48440953 2.26209099 1.75384224]\n",
            " [2.86142458 2.45139993 1.1538194  1.02945234 2.84550369 2.97943054]] \n",
            "\n",
            "masked m : \n",
            " [[0.52444223 1.13451983 2.84675008 2.44701348 1.20544589 2.5437359 ]\n",
            " [1.01741222 2.61157548 1.1438237  0.78401212 1.07597132 1.66323167]\n",
            " [1.84103153 1.33567742 1.68892383 1.03514312 0.71384489 1.1839534 ]\n",
            " [1.16206567 0.42422992 2.55295809 1.35486175 0.         2.64159045]\n",
            " [2.19347341 1.30208673 0.71600251 1.18441085 0.80268199 2.10662054]\n",
            " [0.         1.90080012 1.47925473 1.50171628 0.53957355 1.44541264]\n",
            " [0.63887672 0.         1.35492943 1.29931659 2.45679556 0.83197327]\n",
            " [2.429426   0.41243367 0.         1.61365831 1.66401788 0.51440787]\n",
            " [0.91448843 2.10434451 1.44167778 2.48440953 2.26209099 1.75384224]\n",
            " [2.86142458 2.45139993 1.1538194  1.02945234 2.84550369 2.97943054]]\n"
          ]
        }
      ],
      "source": [
        "import numpy.random as npr\n",
        "npr.seed(5671)\n",
        "m=npr.rand(10, 6)*3\n",
        "print('matrix :', '\\n', m, '\\n')\n",
        "\n",
        "#mask = (m<0.3)\n",
        "m[m<0.3]=0\n",
        "print('masked m :','\\n', m)\n"
      ]
    },
    {
      "cell_type": "markdown",
      "metadata": {
        "id": "mRLixApFgod3"
      },
      "source": [
        "4\\. **Trigonometric functions**\n",
        "\n",
        "Use `np.linspace` to create an array of 100 numbers between $0$ and $2\\pi$ (inclusive).\n",
        "\n",
        "  * Extract every 10th element using the slice notation\n",
        "  * Reverse the array using the slice notation\n",
        "  * Extract elements where the absolute difference between the `sin` and `cos` functions evaluated for that element is $< 0.1$\n",
        "  * **Optional**: make a plot showing the `sin` and `cos` functions and indicate graphically (with a line or a marker) where they are close"
      ]
    },
    {
      "cell_type": "code",
      "execution_count": null,
      "metadata": {
        "id": "XZlbWxERgod3",
        "colab": {
          "base_uri": "https://localhost:8080/",
          "height": 1000
        },
        "outputId": "2a4086e3-fd85-4892-9bd1-5943e76ccc2d"
      },
      "outputs": [
        {
          "output_type": "stream",
          "name": "stdout",
          "text": [
            "[0.         0.06346652 0.12693304 0.19039955 0.25386607 0.31733259\n",
            " 0.38079911 0.44426563 0.50773215 0.57119866 0.63466518 0.6981317\n",
            " 0.76159822 0.82506474 0.88853126 0.95199777 1.01546429 1.07893081\n",
            " 1.14239733 1.20586385 1.26933037 1.33279688 1.3962634  1.45972992\n",
            " 1.52319644 1.58666296 1.65012947 1.71359599 1.77706251 1.84052903\n",
            " 1.90399555 1.96746207 2.03092858 2.0943951  2.15786162 2.22132814\n",
            " 2.28479466 2.34826118 2.41172769 2.47519421 2.53866073 2.60212725\n",
            " 2.66559377 2.72906028 2.7925268  2.85599332 2.91945984 2.98292636\n",
            " 3.04639288 3.10985939 3.17332591 3.23679243 3.30025895 3.36372547\n",
            " 3.42719199 3.4906585  3.55412502 3.61759154 3.68105806 3.74452458\n",
            " 3.8079911  3.87145761 3.93492413 3.99839065 4.06185717 4.12532369\n",
            " 4.1887902  4.25225672 4.31572324 4.37918976 4.44265628 4.5061228\n",
            " 4.56958931 4.63305583 4.69652235 4.75998887 4.82345539 4.88692191\n",
            " 4.95038842 5.01385494 5.07732146 5.14078798 5.2042545  5.26772102\n",
            " 5.33118753 5.39465405 5.45812057 5.52158709 5.58505361 5.64852012\n",
            " 5.71198664 5.77545316 5.83891968 5.9023862  5.96585272 6.02931923\n",
            " 6.09278575 6.15625227 6.21971879 6.28318531] \n",
            "\n",
            "extracted elements:  [0.63466518 1.26933037 1.90399555 2.53866073 3.17332591 3.8079911\n",
            " 4.44265628 5.07732146 5.71198664] \n",
            "\n",
            "reversed array:  [6.28318531 6.21971879 6.15625227 6.09278575 6.02931923 5.96585272\n",
            " 5.9023862  5.83891968 5.77545316 5.71198664 5.64852012 5.58505361\n",
            " 5.52158709 5.45812057 5.39465405 5.33118753 5.26772102 5.2042545\n",
            " 5.14078798 5.07732146 5.01385494 4.95038842 4.88692191 4.82345539\n",
            " 4.75998887 4.69652235 4.63305583 4.56958931 4.5061228  4.44265628\n",
            " 4.37918976 4.31572324 4.25225672 4.1887902  4.12532369 4.06185717\n",
            " 3.99839065 3.93492413 3.87145761 3.8079911  3.74452458 3.68105806\n",
            " 3.61759154 3.55412502 3.4906585  3.42719199 3.36372547 3.30025895\n",
            " 3.23679243 3.17332591 3.10985939 3.04639288 2.98292636 2.91945984\n",
            " 2.85599332 2.7925268  2.72906028 2.66559377 2.60212725 2.53866073\n",
            " 2.47519421 2.41172769 2.34826118 2.28479466 2.22132814 2.15786162\n",
            " 2.0943951  2.03092858 1.96746207 1.90399555 1.84052903 1.77706251\n",
            " 1.71359599 1.65012947 1.58666296 1.52319644 1.45972992 1.3962634\n",
            " 1.33279688 1.26933037 1.20586385 1.14239733 1.07893081 1.01546429\n",
            " 0.95199777 0.88853126 0.82506474 0.76159822 0.6981317  0.63466518\n",
            " 0.57119866 0.50773215 0.44426563 0.38079911 0.31733259 0.25386607\n",
            " 0.19039955 0.12693304 0.06346652 0.        ]\n",
            "elements where absolute difference of sin and cos is less than 0.1:  [0.76159822 0.82506474 3.87145761 3.93492413]\n"
          ]
        },
        {
          "output_type": "display_data",
          "data": {
            "text/plain": [
              "<Figure size 640x480 with 1 Axes>"
            ],
            "image/png": "[encoded data removed]"
          },
          "metadata": {}
        }
      ],
      "source": [
        "import math\n",
        "from matplotlib import pyplot as plt\n",
        "l = np.linspace(0, 2*math.pi, 100)\n",
        "#la = l.reshape(10, 10)\n",
        "print(l, '\\n')\n",
        "\n",
        "l_slice = l[10:101:10]\n",
        "print('extracted elements: ',l_slice, '\\n')\n",
        "reversed_arr = l[::-1]\n",
        "print('reversed array: ',reversed_arr)\n",
        "abs_array = l[np.absolute(np.cos(l)-np.sin(l))<0.1]\n",
        "print('elements where absolute difference of sin and cos is less than 0.1: ',abs_array)\n",
        "\n",
        "\n",
        "\n",
        "plt.title(\"plot\")\n",
        "plt.xlabel(\"x axis\")\n",
        "plt.ylabel(\"y axis\")\n",
        "plt.plot(l,np.sin(l),l,np.cos(l) )\n",
        "plt.scatter(abs_array,np.sin(abs_array))\n",
        "plt.scatter(abs_array,np.cos(abs_array))\n",
        "\n",
        "plt.show()"
      ]
    },
    {
      "cell_type": "markdown",
      "metadata": {
        "id": "ipVP0pYHgod4"
      },
      "source": [
        "5\\. **Matrices**\n",
        "\n",
        "Create a matrix that shows the $10 \\times 10$ multiplication table.\n",
        "\n",
        " * Find the trace of the matrix\n",
        " * Extract the anti-diagonal matrix (this should be ```array([10, 18, 24, 28, 30, 30, 28, 24, 18, 10])```)\n",
        " * Extract the diagonal offset by 1 upwards (this should be ```array([ 2,  6, 12, 20, 30, 42, 56, 72, 90])```)"
      ]
    },
    {
      "cell_type": "code",
      "execution_count": null,
      "metadata": {
        "id": "J3bdJMFXgod5",
        "colab": {
          "base_uri": "https://localhost:8080/"
        },
        "outputId": "120c6dbb-ab6f-4703-d366-1f4ca1f8e54e"
      },
      "outputs": [
        {
          "output_type": "stream",
          "name": "stdout",
          "text": [
            "[[  1   2   3   4   5   6   7   8   9  10]\n",
            " [  2   4   6   8  10  12  14  16  18  20]\n",
            " [  3   6   9  12  15  18  21  24  27  30]\n",
            " [  4   8  12  16  20  24  28  32  36  40]\n",
            " [  5  10  15  20  25  30  35  40  45  50]\n",
            " [  6  12  18  24  30  36  42  48  54  60]\n",
            " [  7  14  21  28  35  42  49  56  63  70]\n",
            " [  8  16  24  32  40  48  56  64  72  80]\n",
            " [  9  18  27  36  45  54  63  72  81  90]\n",
            " [ 10  20  30  40  50  60  70  80  90 100]] \n",
            "\n",
            " trace of the matrix : 385 \n",
            "\n",
            " anti-diagonal matrix : [10 18 24 28 30 30 28 24 18 10] \n",
            "\n",
            "diagonal offset by 1 upwards : [ 2  6 12 20 30 42 56 72 90]\n"
          ]
        }
      ],
      "source": [
        "r = np.arange(1, 11)\n",
        "mult_table = r*r[:, None]\n",
        "print(mult_table, '\\n')\n",
        "\n",
        "print(' trace of the matrix :', mult_table.trace(), '\\n')\n",
        "\n",
        "anti_diag = np.fliplr(mult_table).diagonal()\n",
        "print(' anti-diagonal matrix :', anti_diag, '\\n')\n",
        "\n",
        "diag = mult_table.diagonal(1)\n",
        "print('diagonal offset by 1 upwards :', diag)"
      ]
    },
    {
      "cell_type": "markdown",
      "metadata": {
        "id": "EEDgUGy-god5"
      },
      "source": [
        "6\\. **Broadcasting**\n",
        "\n",
        "Use broadcasting to create a grid of distances.\n",
        "\n",
        "Route 66 crosses the following cities in the US: Chicago, Springfield, Saint-Louis, Tulsa, Oklahoma City, Amarillo, Santa Fe, Albuquerque, Flagstaff, Los Angeles.\n",
        "\n",
        "The corresponding positions in miles are: `0, 198, 303, 736, 871, 1175, 1475, 1544, 1913, 2448`\n",
        "\n",
        "  * Build a 2D grid of distances among each city along Route 66\n",
        "  * Convert the distances in km"
      ]
    },
    {
      "cell_type": "code",
      "execution_count": null,
      "metadata": {
        "id": "hDMg4iHpgod6",
        "colab": {
          "base_uri": "https://localhost:8080/"
        },
        "outputId": "1ff84f25-05a8-4226-a0d0-72b4efa2664d"
      },
      "outputs": [
        {
          "output_type": "stream",
          "name": "stdout",
          "text": [
            "grid of distances : \n",
            " [[   0  198  303  736  871 1175 1475 1544 1913 2448]\n",
            " [ 198    0  105  538  673  977 1277 1346 1715 2250]\n",
            " [ 303  105    0  433  568  872 1172 1241 1610 2145]\n",
            " [ 736  538  433    0  135  439  739  808 1177 1712]\n",
            " [ 871  673  568  135    0  304  604  673 1042 1577]\n",
            " [1175  977  872  439  304    0  300  369  738 1273]\n",
            " [1475 1277 1172  739  604  300    0   69  438  973]\n",
            " [1544 1346 1241  808  673  369   69    0  369  904]\n",
            " [1913 1715 1610 1177 1042  738  438  369    0  535]\n",
            " [2448 2250 2145 1712 1577 1273  973  904  535    0]] \n",
            "\n",
            "grid of distances in KM : \n",
            " [[   0.  319.  488. 1184. 1402. 1891. 2374. 2485. 3079. 3940.]\n",
            " [ 319.    0.  169.  866. 1083. 1572. 2055. 2166. 2760. 3621.]\n",
            " [ 488.  169.    0.  697.  914. 1403. 1886. 1997. 2591. 3452.]\n",
            " [1184.  866.  697.    0.  217.  707. 1189. 1300. 1894. 2755.]\n",
            " [1402. 1083.  914.  217.    0.  489.  972. 1083. 1677. 2538.]\n",
            " [1891. 1572. 1403.  707.  489.    0.  483.  594. 1188. 2049.]\n",
            " [2374. 2055. 1886. 1189.  972.  483.    0.  111.  705. 1566.]\n",
            " [2485. 2166. 1997. 1300. 1083.  594.  111.    0.  594. 1455.]\n",
            " [3079. 2760. 2591. 1894. 1677. 1188.  705.  594.    0.  861.]\n",
            " [3940. 3621. 3452. 2755. 2538. 2049. 1566. 1455.  861.    0.]]\n"
          ]
        }
      ],
      "source": [
        "row = np.array([0, 198, 303, 736, 871, 1175, 1475, 1544, 1913, 2448])\n",
        "grid = np.absolute(row-row[:,None])\n",
        "print('grid of distances :', '\\n', grid, '\\n')\n",
        "\n",
        "km_grid = np.round(grid*1.60934)\n",
        "print('grid of distances in KM :', '\\n', km_grid)"
      ]
    },
    {
      "cell_type": "markdown",
      "metadata": {
        "id": "kSbJCaqMgod6"
      },
      "source": [
        "7\\. **Prime numbers sieve**\n",
        "\n",
        "Compute the prime numbers in the 0-N (start with N=99) range with a sieve (mask).\n",
        "\n",
        "  * Construct a shape (N,) boolean array, which is the mask\n",
        "  * Identify the multiples of each number starting from 2 and set accordingly the corresponding mask element\n",
        "  * Apply the mask to obtain an array of ordered prime numbers\n",
        "  * Check the performances (with `timeit`); how does it scale with N?\n",
        "  * Implement the optimization suggested in the [sieve of Eratosthenes](https://en.wikipedia.org/wiki/Sieve_of_Eratosthenes)"
      ]
    },
    {
      "cell_type": "code",
      "execution_count": null,
      "metadata": {
        "id": "xd2S6mGlgod7",
        "colab": {
          "base_uri": "https://localhost:8080/"
        },
        "outputId": "4f5857d4-1c20-4370-aa98-a2491328fa88"
      },
      "outputs": [
        {
          "output_type": "stream",
          "name": "stdout",
          "text": [
            "[ 2  3  5  7 11 13 17 19 23 29 31 37 41 43 47 53 59 61 67 71 73 79 83 89\n",
            " 97]\n"
          ]
        }
      ],
      "source": [
        "def primeNumbers(n):\n",
        "  mask = [True for _ in range(n+1)]\n",
        "  mask[0] = mask[1] = False\n",
        "\n",
        "  m=2\n",
        "  for m in range(2, n):\n",
        "    if (mask[m]==True) :\n",
        "      for m in range(m * m, n+1, m):\n",
        "        mask[m] = False\n",
        "  m += 1\n",
        "  return np.arange(0,n+1)[mask]\n",
        "\n",
        "print(primeNumbers(100))"
      ]
    },
    {
      "cell_type": "markdown",
      "metadata": {
        "id": "glHvhaLXgod7"
      },
      "source": [
        "8\\. **Diffusion using random walk**\n",
        "\n",
        "Consider a simple random walk process: at each step in time, a walker jumps right or left (+1 or -1) with equal probability. The goal is to find the typical distance from the origin of many random walkers after a given amount of time.\n",
        "\n",
        "*Hint*: create a 2D array where each row represents a walker, and each column represents a time step.\n",
        "\n",
        "  * Take 1000 walkers and let them walk for 200 steps\n",
        "  * Use `randint` to create a 2D array of size $walkers \\times steps$ with values -1 or 1\n",
        "  * Calculate the walking distances for each walker (e.g. by summing the elements in each row)\n",
        "  * Take the square of the previously-obtained array (element-wise)\n",
        "  * Compute the mean of the squared distances at each step (i.e. the mean along the columns)\n",
        "  * **Optional**: plot the average distances ($\\sqrt(distance^2)$) as a function of time (step)"
      ]
    },
    {
      "cell_type": "code",
      "execution_count": null,
      "metadata": {
        "id": "hD4dvTsYgod7",
        "colab": {
          "base_uri": "https://localhost:8080/",
          "height": 1000
        },
        "outputId": "ed258824-4fd5-425d-ac99-04fbf636ad9d"
      },
      "outputs": [
        {
          "output_type": "stream",
          "name": "stdout",
          "text": [
            "[[-1 -1 -1 ...  1  1 -1]\n",
            " [-1  1 -1 ...  1  1  1]\n",
            " [-1  1 -1 ... -1  1 -1]\n",
            " ...\n",
            " [-1 -1 -1 ... -1  1  1]\n",
            " [ 1  1 -1 ... -1  1 -1]\n",
            " [-1  1 -1 ...  1  1 -1]] \n",
            "\n",
            "distance in each step [[ -1  -2  -3 ...   0   1   0]\n",
            " [ -1   0  -1 ...   6   7   8]\n",
            " [ -1   0  -1 ... -24 -23 -24]\n",
            " ...\n",
            " [ -1  -2  -3 ...  10  11  12]\n",
            " [  1   2   1 ...  -8  -7  -8]\n",
            " [ -1   0  -1 ... -22 -21 -22]] \n",
            "\n",
            "square of previously obtained array [[  1   4   9 ...   0   1   0]\n",
            " [  1   0   1 ...  36  49  64]\n",
            " [  1   0   1 ... 576 529 576]\n",
            " ...\n",
            " [  1   4   9 ... 100 121 144]\n",
            " [  1   4   1 ...  64  49  64]\n",
            " [  1   0   1 ... 484 441 484]]\n",
            "mean square of each step [  1.      2.056   2.992   3.82    4.76    5.732   6.6     7.488   8.36\n",
            "   9.292  10.184  11.388  12.584  13.212  14.392  15.752  17.256  18.348\n",
            "  19.584  20.364  21.416  21.976  22.88   23.776  24.712  25.26   25.68\n",
            "  26.428  26.576  27.484  28.712  30.196  30.912  32.48   33.232  33.344\n",
            "  34.16   35.884  36.704  37.42   38.464  40.08   41.608  42.892  43.688\n",
            "  44.776  46.264  46.676  47.432  48.716  50.36   51.012  51.84   53.284\n",
            "  53.136  54.432  56.04   56.632  57.96   58.992  60.2    61.288  62.432\n",
            "  63.984  64.968  66.276  67.48   68.472  69.792  70.344  71.12   72.\n",
            "  72.824  73.024  73.896  75.44   76.544  78.332  78.96   79.28   79.92\n",
            "  81.656  82.552  83.864  85.496  87.088  88.856  89.812  89.96   90.692\n",
            "  92.272  93.264  94.392  96.488  98.328  99.764 101.272 101.312 102.152\n",
            " 103.504 104.32  105.596 106.944 108.256 108.728 109.528 109.776 110.592\n",
            " 112.032 112.036 113.704 115.128 115.504 115.792 116.28  116.436 117.784\n",
            " 118.404 118.52  120.108 120.744 121.572 122.552 123.544 124.04  124.58\n",
            " 124.136 124.572 126.056 127.408 127.296 127.376 129.12  130.644 132.552\n",
            " 134.452 135.672 136.524 138.008 137.652 139.112 139.532 139.552 139.464\n",
            " 141.08  143.66  144.632 144.12  144.704 146.412 146.712 148.736 149.344\n",
            " 149.58  151.192 151.94  154.336 153.932 153.376 154.528 155.696 156.088\n",
            " 156.768 156.804 158.632 158.424 158.424 159.488 161.032 162.208 162.952\n",
            " 164.6   165.736 166.852 166.712 166.904 168.4   168.544 169.448 171.492\n",
            " 172.848 174.528 176.768 176.336 177.256 178.224 178.832 178.924 180.448\n",
            " 182.192 183.888 185.1   185.264 185.74  187.36  188.908 191.08  191.64\n",
            " 194.568 196.284]\n",
            "mean square of each step [ 1.          1.43387587  1.72973986  1.95448203  2.18174242  2.39415956\n",
            "  2.56904652  2.73642102  2.89136646  3.0482782   3.191238    3.37461109\n",
            "  3.54739341  3.6348315   3.79367895  3.96887893  4.15403418  4.28345655\n",
            "  4.42538134  4.51264889  4.62774243  4.68785665  4.7833043   4.87606399\n",
            "  4.97111657  5.02593275  5.06754378  5.14081706  5.15519156  5.24251848\n",
            "  5.35835796  5.49508872  5.55985611  5.69912274  5.76472029  5.77442638\n",
            "  5.84465568  5.99032553  6.05838262  6.1171889   6.20193518  6.33087672\n",
            "  6.45042634  6.54919842  6.60968986  6.69148713  6.80176448  6.83198361\n",
            "  6.88708937  6.97968481  7.096478    7.14226855  7.2         7.29958903\n",
            "  7.28944442  7.37780455  7.48598691  7.52542358  7.61314652  7.68062497\n",
            "  7.7588659   7.82866528  7.90139228  7.99899994  8.06027295  8.14100731\n",
            "  8.21462111  8.27478096  8.35416064  8.387133    8.43326746  8.48528137\n",
            "  8.53369791  8.54540812  8.59627826  8.6856203   8.74894279  8.85053671\n",
            "  8.88594396  8.90393172  8.93979866  9.03637095  9.08581312  9.15772898\n",
            "  9.24640471  9.33209516  9.42634606  9.47691933  9.48472456  9.52323474\n",
            "  9.60583156  9.65732882  9.71555454  9.82283055  9.9160476   9.98819303\n",
            " 10.06339903 10.06538623 10.10702726 10.17369156 10.21371627 10.27599144\n",
            " 10.34137322 10.40461436 10.42727193 10.46556257 10.47740426 10.5162731\n",
            " 10.58451699 10.58470595 10.66320777 10.72977167 10.74727873 10.76066912\n",
            " 10.78332045 10.79055142 10.85283373 10.88136021 10.88668912 10.95937954\n",
            " 10.98835748 11.02596935 11.07032068 11.11503486 11.13732463 11.16154111\n",
            " 11.14163363 11.16118273 11.22746632 11.28751523 11.2825529  11.28609764\n",
            " 11.36309817 11.42996063 11.51312295 11.59534389 11.64783242 11.68434851\n",
            " 11.74768062 11.73251891 11.79457502 11.8123664  11.81321294 11.80948771\n",
            " 11.87771022 11.98582496 12.0263045  12.00499896 12.02929757 12.10008264\n",
            " 12.11247291 12.19573696 12.22063828 12.23029027 12.29601561 12.32639444\n",
            " 12.4232041  12.40693355 12.38450645 12.43092917 12.47782032 12.49351832\n",
            " 12.52070286 12.52214039 12.59491961 12.5866596  12.5866596  12.62885585\n",
            " 12.68983845 12.73609045 12.76526537 12.82965315 12.87384946 12.91712042\n",
            " 12.91170012 12.9191331  12.97690256 12.98244969 13.01721937 13.09549541\n",
            " 13.147167   13.21090459 13.29541274 13.2791566  13.31375229 13.35005618\n",
            " 13.37280823 13.37624761 13.43309346 13.49785168 13.56053096 13.60514609\n",
            " 13.61117188 13.6286463  13.68795091 13.74438067 13.82316896 13.84340998\n",
            " 13.94876339 14.01013919]\n"
          ]
        },
        {
          "output_type": "display_data",
          "data": {
            "text/plain": [
              "<Figure size 640x480 with 1 Axes>"
            ],
            "image/png": "[encoded data removed]"
          },
          "metadata": {}
        }
      ],
      "source": [
        "import numpy.random as npr\n",
        "from matplotlib import pyplot as plt\n",
        "w = 1000\n",
        "s = 200\n",
        "arr = npr.randint(-1, 1, size=(w,s))\n",
        "arr[arr==0] = 1\n",
        "print(arr, '\\n')\n",
        "\n",
        "# sm = arr.sum(axis=1)\n",
        "for i in range(1,s):\n",
        "  arr[:,i] = arr[:,i] + arr[:,i-1]\n",
        "\n",
        "print('distance in each step',arr, '\\n')\n",
        "sqr = arr*arr\n",
        "print('square of previously obtained array',sqr)\n",
        "mean_steps = sqr.mean(axis=0)\n",
        "print('mean square of each step',mean_steps);\n",
        "\n",
        "radical =np.sqrt(mean_steps)\n",
        "print('mean square of each step',radical)\n",
        "\n",
        "x = np.arange(1,s+1)\n",
        "\n",
        "plt.title(\"plot\")\n",
        "plt.xlabel(\"step axis caption\")\n",
        "plt.ylabel(\"mean square of each step axis caption\")\n",
        "plt.plot(x,radical)\n",
        "plt.show()\n"
      ]
    }
  ],
  "metadata": {
    "kernelspec": {
      "display_name": "Python 3 (ipykernel)",
      "language": "python",
      "name": "python3"
    },
    "language_info": {
      "codemirror_mode": {
        "name": "ipython",
        "version": 3
      },
      "file_extension": ".py",
      "mimetype": "text/x-python",
      "name": "python",
      "nbconvert_exporter": "python",
      "pygments_lexer": "ipython3",
      "version": "3.10.12"
    },
    "colab": {
      "provenance": []
    }
  },
  "nbformat": 4,
  "nbformat_minor": 0
}