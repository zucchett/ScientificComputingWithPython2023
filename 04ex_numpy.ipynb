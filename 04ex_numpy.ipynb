{
 "cells": [
  {
   "cell_type": "markdown",
   "metadata": {},
   "source": [
    "1\\. **Reductions**\n",
    "\n",
    "Given the following matrix:\n",
    "\n",
    "```python\n",
    "m = np.arange(12).reshape((3,4))\n",
    "```\n",
    "\n",
    "   1. find the total mean\n",
    "   2. find the mean for each row and column"
   ]
  },
  {
   "cell_type": "code",
   "execution_count": 2,
   "metadata": {},
   "outputs": [
    {
     "name": "stdout",
     "output_type": "stream",
     "text": [
      "Media di m:  5.5\n",
      "Media delle colonne di m:  [4. 5. 6. 7.]\n",
      "Media delle righe di m:  [1.5 5.5 9.5]\n"
     ]
    }
   ],
   "source": [
    "import numpy as np\n",
    "import math\n",
    "import timeit\n",
    "\n",
    "m = np.arange(12).reshape((3,4))\n",
    "print(\"Media di m: \", m.mean())\n",
    "print(\"Media delle colonne di m: \", m.mean(0))\n",
    "print(\"Media delle righe di m: \", m.mean(1))"
   ]
  },
  {
   "cell_type": "markdown",
   "metadata": {},
   "source": [
    "2\\. **Outer product**\n",
    "\n",
    "Find the outer product of the following vectors:\n",
    "\n",
    "```python\n",
    "u = np.array([1, 3, 5, 7])\n",
    "v = np.array([2, 4, 6, 8])\n",
    "```\n",
    "\n",
    "Use different methods to do this:\n",
    "\n",
    "   1. Using the function `outer` in numpy\n",
    "   2. Using a nested `for` loop or a list comprehension\n",
    "   3. Using numpy broadcasting operations"
   ]
  },
  {
   "cell_type": "code",
   "execution_count": 3,
   "metadata": {},
   "outputs": [
    {
     "name": "stdout",
     "output_type": "stream",
     "text": [
      "Outer product with np.outer:\n",
      " [[ 2  4  6  8]\n",
      " [ 6 12 18 24]\n",
      " [10 20 30 40]\n",
      " [14 28 42 56]]\n",
      "Outer product with for:\n",
      " [[ 2.  4.  6.  8.]\n",
      " [ 6. 12. 18. 24.]\n",
      " [10. 20. 30. 40.]\n",
      " [14. 28. 42. 56.]]\n",
      "Outer product with numpy.tile:\n",
      " [[ 2  4  6  8]\n",
      " [ 6 12 18 24]\n",
      " [10 20 30 40]\n",
      " [14 28 42 56]]\n"
     ]
    }
   ],
   "source": [
    "u = np.array([1, 3, 5, 7])\n",
    "v = np.array([2, 4, 6, 8])\n",
    "print(\"Outer product with np.outer:\\n\", np.outer(u,v))\n",
    "for_outer = np.zeros((len(u), len(v)))\n",
    "for i in range(len(u)):\n",
    "    for j in range(len(v)):\n",
    "        for_outer[i, j]=u[i]*v[j]\n",
    "print(\"Outer product with for:\\n\", for_outer)\n",
    "tiled_u = np.tile(u, (len(u), 1))\n",
    "tiled_v = np.tile(v, (len(v), 1))\n",
    "tiled_outer = tiled_v*tiled_u.T\n",
    "print(\"Outer product with numpy.tile:\\n\", tiled_outer)"
   ]
  },
  {
   "cell_type": "markdown",
   "metadata": {},
   "source": [
    "3\\. **Matrix masking**\n",
    "\n",
    "Create a $10 \\times 6$ matrix of float random numbers, distributed between 0 and 3 according to a flat distribution.\n",
    "\n",
    "After creating the matrix, set all entries $< 0.3$ to zero using a mask."
   ]
  },
  {
   "cell_type": "code",
   "execution_count": 4,
   "metadata": {},
   "outputs": [
    {
     "name": "stdout",
     "output_type": "stream",
     "text": [
      "[2.26718582 1.45614075 2.44977771 2.74498427 1.82673089 1.92343709\n",
      " 0.50791068 2.63906522 1.16572303 1.66447656 0.36024442 2.74819952\n",
      " 1.22436384 1.04040772 0.78357386 0.90757475 1.26130507 2.59159379\n",
      " 0.32921357 2.80791727 2.00356885 0.40379178 0.407955   2.71404667\n",
      " 0.53816866 0.77391618 2.917097   2.85048255 0.38610375 0.45999628\n",
      " 2.94095677 0.81203061 1.82240306 2.91937872 2.39964945 2.36944847\n",
      " 0.5170603  0.36348764 0.53271297 1.78740166 2.80764256 1.72687825\n",
      " 1.60410263 0.72864629 2.90590095 0.91003612 2.70845345 1.67502096\n",
      " 0.96781568 1.62634153 2.76035837 0.41043327 1.18342687 2.35685544\n",
      " 2.87680946]\n"
     ]
    }
   ],
   "source": [
    "a = 3*np.random.rand(10, 6)\n",
    "mask = (a>0.3)\n",
    "print(a[mask])"
   ]
  },
  {
   "cell_type": "markdown",
   "metadata": {},
   "source": [
    "4\\. **Trigonometric functions**\n",
    "\n",
    "Use `np.linspace` to create an array of 100 numbers between $0$ and $2\\pi$ (inclusive).\n",
    "\n",
    "  * Extract every 10th element using the slice notation\n",
    "  * Reverse the array using the slice notation\n",
    "  * Extract elements where the absolute difference between the `sin` and `cos` functions evaluated for that element is $< 0.1$\n",
    "  * **Optional**: make a plot showing the `sin` and `cos` functions and indicate graphically (with a line or a marker) where they are close"
   ]
  },
  {
   "cell_type": "code",
   "execution_count": 5,
   "metadata": {},
   "outputs": [
    {
     "name": "stdout",
     "output_type": "stream",
     "text": [
      "Every 10th element:\n",
      " [0.         0.63466518 1.26933037 1.90399555 2.53866073 3.17332591\n",
      " 3.8079911  4.44265628 5.07732146 5.71198664] \n",
      "\n",
      "Reverse array:\n",
      " [6.28318531 6.21971879 6.15625227 6.09278575 6.02931923 5.96585272\n",
      " 5.9023862  5.83891968 5.77545316 5.71198664 5.64852012 5.58505361\n",
      " 5.52158709 5.45812057 5.39465405 5.33118753 5.26772102 5.2042545\n",
      " 5.14078798 5.07732146 5.01385494 4.95038842 4.88692191 4.82345539\n",
      " 4.75998887 4.69652235 4.63305583 4.56958931 4.5061228  4.44265628\n",
      " 4.37918976 4.31572324 4.25225672 4.1887902  4.12532369 4.06185717\n",
      " 3.99839065 3.93492413 3.87145761 3.8079911  3.74452458 3.68105806\n",
      " 3.61759154 3.55412502 3.4906585  3.42719199 3.36372547 3.30025895\n",
      " 3.23679243 3.17332591 3.10985939 3.04639288 2.98292636 2.91945984\n",
      " 2.85599332 2.7925268  2.72906028 2.66559377 2.60212725 2.53866073\n",
      " 2.47519421 2.41172769 2.34826118 2.28479466 2.22132814 2.15786162\n",
      " 2.0943951  2.03092858 1.96746207 1.90399555 1.84052903 1.77706251\n",
      " 1.71359599 1.65012947 1.58666296 1.52319644 1.45972992 1.3962634\n",
      " 1.33279688 1.26933037 1.20586385 1.14239733 1.07893081 1.01546429\n",
      " 0.95199777 0.88853126 0.82506474 0.76159822 0.6981317  0.63466518\n",
      " 0.57119866 0.50773215 0.44426563 0.38079911 0.31733259 0.25386607\n",
      " 0.19039955 0.12693304 0.06346652 0.        ] \n",
      "\n",
      "Element for which sin(a)-cos(a)<0.1:\n",
      " [0.         0.06346652 0.12693304 0.19039955 0.25386607 0.31733259\n",
      " 0.38079911 0.44426563 0.50773215 0.57119866 0.63466518 0.6981317\n",
      " 0.76159822 0.82506474 3.87145761 3.93492413 3.99839065 4.06185717\n",
      " 4.12532369 4.1887902  4.25225672 4.31572324 4.37918976 4.44265628\n",
      " 4.5061228  4.56958931 4.63305583 4.69652235 4.75998887 4.82345539\n",
      " 4.88692191 4.95038842 5.01385494 5.07732146 5.14078798 5.2042545\n",
      " 5.26772102 5.33118753 5.39465405 5.45812057 5.52158709 5.58505361\n",
      " 5.64852012 5.71198664 5.77545316 5.83891968 5.9023862  5.96585272\n",
      " 6.02931923 6.09278575 6.15625227 6.21971879 6.28318531]\n"
     ]
    }
   ],
   "source": [
    "a = np.linspace(0, 2*math.pi, 100)\n",
    "print(\"Every 10th element:\\n\", a[::10],\"\\n\")\n",
    "print(\"Reverse array:\\n\", a[::-1], \"\\n\")\n",
    "mask = (np.sin(a) - np.cos(a)<0.1)\n",
    "print(\"Element for which sin(a)-cos(a)<0.1:\\n\", a[mask])"
   ]
  },
  {
   "cell_type": "markdown",
   "metadata": {},
   "source": [
    "5\\. **Matrices**\n",
    "\n",
    "Create a matrix that shows the $10 \\times 10$ multiplication table.\n",
    "\n",
    " * Find the trace of the matrix\n",
    " * Extract the anti-diagonal matrix (this should be ```array([10, 18, 24, 28, 30, 30, 28, 24, 18, 10])```)\n",
    " * Extract the diagonal offset by 1 upwards (this should be ```array([ 2,  6, 12, 20, 30, 42, 56, 72, 90])```)"
   ]
  },
  {
   "cell_type": "code",
   "execution_count": 6,
   "metadata": {},
   "outputs": [
    {
     "name": "stdout",
     "output_type": "stream",
     "text": [
      "[[  1   2   3   4   5   6   7   8   9  10]\n",
      " [  2   4   6   8  10  12  14  16  18  20]\n",
      " [  3   6   9  12  15  18  21  24  27  30]\n",
      " [  4   8  12  16  20  24  28  32  36  40]\n",
      " [  5  10  15  20  25  30  35  40  45  50]\n",
      " [  6  12  18  24  30  36  42  48  54  60]\n",
      " [  7  14  21  28  35  42  49  56  63  70]\n",
      " [  8  16  24  32  40  48  56  64  72  80]\n",
      " [  9  18  27  36  45  54  63  72  81  90]\n",
      " [ 10  20  30  40  50  60  70  80  90 100]] \n",
      "\n",
      "Trace of that matrix:  385 \n",
      "\n",
      "Anti diagonal: [10, 18, 24, 28, 30, 30, 28, 24, 18, 10]\n",
      "\n",
      "Diagonal with offset 1: [2, 6, 12, 20, 30, 42, 56, 72, 90]\n"
     ]
    }
   ],
   "source": [
    "table = np.zeros((10, 10), \"int\")\n",
    "for i in range(1, 11):\n",
    "    table[i-1] = np.arange(i, 11*i, i)\n",
    "print(table, \"\\n\")\n",
    "print(\"Trace of that matrix: \", np.trace(table), \"\\n\")\n",
    "anti_diag=[]\n",
    "for j in range(table.shape[1]):\n",
    "    anti_diag.append(table[j, table.shape[1]-1-j])\n",
    "print(\"Anti diagonal:\", anti_diag)\n",
    "diag2=[]\n",
    "for c in range(table.shape[1]-1):\n",
    "    diag2.append(table[c,c+1])\n",
    "print(\"\\nDiagonal with offset 1:\", diag2)"
   ]
  },
  {
   "cell_type": "markdown",
   "metadata": {},
   "source": [
    "6\\. **Broadcasting**\n",
    "\n",
    "Use broadcasting to create a grid of distances.\n",
    "\n",
    "Route 66 crosses the following cities in the US: Chicago, Springfield, Saint-Louis, Tulsa, Oklahoma City, Amarillo, Santa Fe, Albuquerque, Flagstaff, Los Angeles.\n",
    "\n",
    "The corresponding positions in miles are: `0, 198, 303, 736, 871, 1175, 1475, 1544, 1913, 2448`\n",
    "\n",
    "  * Build a 2D grid of distances among each city along Route 66\n",
    "  * Convert the distances in km"
   ]
  },
  {
   "cell_type": "code",
   "execution_count": 10,
   "metadata": {},
   "outputs": [
    {
     "name": "stdout",
     "output_type": "stream",
     "text": [
      "Grid in miles:\n",
      " [[   0.  198.  303.  736.  871. 1175. 1475. 1544. 1913. 2448.]\n",
      " [ 198.    0.  105.  538.  673.  977. 1277. 1346. 1715. 2250.]\n",
      " [ 303.  105.    0.  433.  568.  872. 1172. 1241. 1610. 2145.]\n",
      " [ 736.  538.  433.    0.  135.  439.  739.  808. 1177. 1712.]\n",
      " [ 871.  673.  568.  135.    0.  304.  604.  673. 1042. 1577.]\n",
      " [1175.  977.  872.  439.  304.    0.  300.  369.  738. 1273.]\n",
      " [1475. 1277. 1172.  739.  604.  300.    0.   69.  438.  973.]\n",
      " [1544. 1346. 1241.  808.  673.  369.   69.    0.  369.  904.]\n",
      " [1913. 1715. 1610. 1177. 1042.  738.  438.  369.    0.  535.]\n",
      " [2448. 2250. 2145. 1712. 1577. 1273.  973.  904.  535.    0.]]\n",
      "\n",
      "Grid in km:\n",
      " [[   0.         123.0314976  188.2754736  457.3292032  541.2143152\n",
      "   730.11116    916.52252    959.3971328 1188.6831056 1521.1166976]\n",
      " [ 123.0314976    0.          65.243976   334.2977056  418.1828176\n",
      "   607.0796624  793.4910224  836.3656352 1065.651608  1398.0852   ]\n",
      " [ 188.2754736   65.243976     0.         269.0537296  352.9388416\n",
      "   541.8356864  728.2470464  771.1216592 1000.407632  1332.841224 ]\n",
      " [ 457.3292032  334.2977056  269.0537296    0.          83.885112\n",
      "   272.7819568  459.1933168  502.0679296  731.3539024 1063.7874944]\n",
      " [ 541.2143152  418.1828176  352.9388416   83.885112     0.\n",
      "   188.8968448  375.3082048  418.1828176  647.4687904  979.9023824]\n",
      " [ 730.11116    607.0796624  541.8356864  272.7819568  188.8968448\n",
      "     0.         186.41136    229.2859728  458.5719456  791.0055376]\n",
      " [ 916.52252    793.4910224  728.2470464  459.1933168  375.3082048\n",
      "   186.41136      0.          42.8746128  272.1605856  604.5941776]\n",
      " [ 959.3971328  836.3656352  771.1216592  502.0679296  418.1828176\n",
      "   229.2859728   42.8746128    0.         229.2859728  561.7195648]\n",
      " [1188.6831056 1065.651608  1000.407632   731.3539024  647.4687904\n",
      "   458.5719456  272.1605856  229.2859728    0.         332.433592 ]\n",
      " [1521.1166976 1398.0852    1332.841224  1063.7874944  979.9023824\n",
      "   791.0055376  604.5941776  561.7195648  332.433592     0.       ]]\n"
     ]
    }
   ],
   "source": [
    "cities = [\"Chicago\", \"Springfield\", \"Saint-Louis\", \"Tulsa\", \"Oklahoma City\", \"Amarillo\", \"Santa Fe\", \"Albuquerque\", \"Flagstaff\", \"Los Angeles\"]\n",
    "distances = [0, 198, 303, 736, 871, 1175, 1475, 1544, 1913, 2448]\n",
    "grid = np.zeros((len(cities), len(cities)))\n",
    "for i in range(len(cities)):\n",
    "    for j in range(i + 1, len(cities)):\n",
    "        grid[i][j] = distances[j]-distances[i]\n",
    "        grid[j][i] = grid[i][j]\n",
    "print(\"Grid in miles:\\n\", grid)\n",
    "KMgrid=grid*0.6213712\n",
    "print(\"\\nGrid in km:\\n\", KMgrid)"
   ]
  },
  {
   "cell_type": "markdown",
   "metadata": {},
   "source": [
    "7\\. **Prime numbers sieve**\n",
    "\n",
    "Compute the prime numbers in the 0-N (start with N=99) range with a sieve (mask).\n",
    "\n",
    "  * Construct a shape (N,) boolean array, which is the mask\n",
    "  * Identify the multiples of each number starting from 2 and set accordingly the corresponding mask element\n",
    "  * Apply the mask to obtain an array of ordered prime numbers\n",
    "  * Check the performances (with `timeit`); how does it scale with N?\n",
    "  * Implement the optimization suggested in the [sieve of Eratosthenes](https://en.wikipedia.org/wiki/Sieve_of_Eratosthenes)"
   ]
  },
  {
   "cell_type": "code",
   "execution_count": 10,
   "metadata": {},
   "outputs": [
    {
     "name": "stdout",
     "output_type": "stream",
     "text": [
      "This function took 0.248066 seconds to run.\n",
      "Prime numbers:\n",
      " [2, 3, 5, 7, 11, 13, 17, 19, 23, 29, 31, 37, 41, 43, 47, 53, 59, 61, 67, 71, 73, 79, 83, 89, 97, 101, 103, 107, 109, 113, 127, 131, 137, 139, 149, 151, 157, 163, 167, 173, 179, 181, 191, 193, 197, 199, 211, 223, 227, 229, 233, 239, 241, 251, 257, 263, 269, 271, 277, 281, 283, 293, 307, 311, 313, 317, 331, 337, 347, 349, 353, 359, 367, 373, 379, 383, 389, 397, 401, 409, 419, 421, 431, 433, 439, 443, 449, 457, 461, 463, 467, 479, 487, 491, 499, 503, 509, 521, 523, 541, 547, 557, 563, 569, 571, 577, 587, 593, 599, 601, 607, 613, 617, 619, 631, 641, 643, 647, 653, 659, 661, 673, 677, 683, 691, 701, 709, 719, 727, 733, 739, 743, 751, 757, 761, 769, 773, 787, 797, 809, 811, 821, 823, 827, 829, 839, 853, 857, 859, 863, 877, 881, 883, 887, 907, 911, 919, 929, 937, 941, 947, 953, 967, 971, 977, 983, 991, 997, 1009, 1013, 1019, 1021, 1031, 1033, 1039, 1049, 1051, 1061, 1063, 1069, 1087, 1091, 1093, 1097, 1103, 1109, 1117, 1123, 1129, 1151, 1153, 1163, 1171, 1181, 1187, 1193, 1201, 1213, 1217, 1223, 1229, 1231, 1237, 1249, 1259, 1277, 1279, 1283, 1289, 1291, 1297, 1301, 1303, 1307, 1319, 1321, 1327, 1361, 1367, 1373, 1381, 1399, 1409, 1423, 1427, 1429, 1433, 1439, 1447, 1451, 1453, 1459, 1471, 1481, 1483, 1487, 1489, 1493, 1499, 1511, 1523, 1531, 1543, 1549, 1553, 1559, 1567, 1571, 1579, 1583, 1597, 1601, 1607, 1609, 1613, 1619, 1621, 1627, 1637, 1657, 1663, 1667, 1669, 1693, 1697, 1699, 1709, 1721, 1723, 1733, 1741, 1747, 1753, 1759, 1777, 1783, 1787, 1789, 1801, 1811, 1823, 1831, 1847, 1861, 1867, 1871, 1873, 1877, 1879, 1889, 1901, 1907, 1913, 1931, 1933, 1949, 1951, 1973, 1979, 1987, 1993, 1997, 1999] \n",
      "\n",
      "This function took 0.000639 seconds to run.\n",
      "Prime numbers using sieve of eratosthenes:\n",
      " [   2    3    5    7   11   13   17   19   23   29   31   37   41   43\n",
      "   47   53   59   61   67   71   73   79   83   89   97  101  103  107\n",
      "  109  113  127  131  137  139  149  151  157  163  167  173  179  181\n",
      "  191  193  197  199  211  223  227  229  233  239  241  251  257  263\n",
      "  269  271  277  281  283  293  307  311  313  317  331  337  347  349\n",
      "  353  359  367  373  379  383  389  397  401  409  419  421  431  433\n",
      "  439  443  449  457  461  463  467  479  487  491  499  503  509  521\n",
      "  523  541  547  557  563  569  571  577  587  593  599  601  607  613\n",
      "  617  619  631  641  643  647  653  659  661  673  677  683  691  701\n",
      "  709  719  727  733  739  743  751  757  761  769  773  787  797  809\n",
      "  811  821  823  827  829  839  853  857  859  863  877  881  883  887\n",
      "  907  911  919  929  937  941  947  953  967  971  977  983  991  997\n",
      " 1009 1013 1019 1021 1031 1033 1039 1049 1051 1061 1063 1069 1087 1091\n",
      " 1093 1097 1103 1109 1117 1123 1129 1151 1153 1163 1171 1181 1187 1193\n",
      " 1201 1213 1217 1223 1229 1231 1237 1249 1259 1277 1279 1283 1289 1291\n",
      " 1297 1301 1303 1307 1319 1321 1327 1361 1367 1373 1381 1399 1409 1423\n",
      " 1427 1429 1433 1439 1447 1451 1453 1459 1471 1481 1483 1487 1489 1493\n",
      " 1499 1511 1523 1531 1543 1549 1553 1559 1567 1571 1579 1583 1597 1601\n",
      " 1607 1609 1613 1619 1621 1627 1637 1657 1663 1667 1669 1693 1697 1699\n",
      " 1709 1721 1723 1733 1741 1747 1753 1759 1777 1783 1787 1789 1801 1811\n",
      " 1823 1831 1847 1861 1867 1871 1873 1877 1879 1889 1901 1907 1913 1931\n",
      " 1933 1949 1951 1973 1979 1987 1993 1997 1999]\n"
     ]
    },
    {
     "data": {
      "text/plain": [
       "\"\\nThe time of execution of the function prime_n grows with proportion to N^2 (with N=100 the time is 0.000641, with N=1000 is 0.057 and with N=2000 is 0.237), while sieve_prime's execution time is almost linear in the dimension of N (with N=100 the time is 0.000076, with N=1000 is 0.000108 and with N=2000 is 0.000199).\\n\""
      ]
     },
     "execution_count": 10,
     "metadata": {},
     "output_type": "execute_result"
    }
   ],
   "source": [
    "def measure_time(func):\n",
    "    def wrapper(*args, **kwargs):\n",
    "        Tstart = timeit.default_timer()\n",
    "        result = func(*args, **kwargs)\n",
    "        Tend = timeit.default_timer()\n",
    "        Texec = Tend - Tstart\n",
    "        print(\"This function took {:.6f} seconds to run.\".format(Texec))\n",
    "        return result\n",
    "    return wrapper\n",
    "\n",
    "@measure_time\n",
    "def prime_n(array):\n",
    "    primes = []\n",
    "    for x in array:\n",
    "        if x==1 or x==0:\n",
    "            is_prime=False\n",
    "        else:\n",
    "            is_prime=True\n",
    "        for i in range(2, int(x/2)+1):\n",
    "            if x % i == 0:\n",
    "                is_prime = False\n",
    "        if is_prime:\n",
    "            primes.append(x)\n",
    "    return primes\n",
    "\n",
    "@measure_time\n",
    "def sieve_prime(array):\n",
    "    max_num = max(array)\n",
    "    sieve = np.ones(max_num + 1, dtype=bool)\n",
    "    sieve[:2] = False\n",
    "    for n in range(2, int(np.sqrt(max_num)) + 1):\n",
    "        if sieve[n]:\n",
    "            sieve[n * n::n] = False\n",
    "    return array[sieve]\n",
    "    \n",
    "N=2000\n",
    "numbers = np.arange(N)\n",
    "print(\"Prime numbers:\\n\", prime_n(numbers), \"\\n\")\n",
    "print(\"Prime numbers using sieve of eratosthenes:\\n\", sieve_prime(numbers))\n",
    "\n",
    "'''\n",
    "The time of execution of the function prime_n grows with proportion to N^2 (with N=100 the time is 0.000641, with N=1000 is 0.057 and with N=2000 is 0.237), while sieve_prime's execution time is almost linear in the dimension of N (with N=100 the time is 0.000076, with N=1000 is 0.000108 and with N=2000 is 0.000199).\n",
    "'''\n"
   ]
  },
  {
   "cell_type": "markdown",
   "metadata": {},
   "source": [
    "8\\. **Diffusion using random walk**\n",
    "\n",
    "Consider a simple random walk process: at each step in time, a walker jumps right or left (+1 or -1) with equal probability. The goal is to find the typical distance from the origin of many random walkers after a given amount of time.\n",
    "\n",
    "*Hint*: create a 2D array where each row represents a walker, and each column represents a time step.\n",
    "\n",
    "  * Take 1000 walkers and let them walk for 200 steps\n",
    "  * Use `randint` to create a 2D array of size $walkers \\times steps$ with values -1 or 1\n",
    "  * Calculate the walking distances for each walker (e.g. by summing the elements in each row)\n",
    "  * Take the square of the previously-obtained array (element-wise)\n",
    "  * Compute the mean of the squared distances at each step (i.e. the mean along the columns)\n",
    "  * **Optional**: plot the average distances ($\\sqrt(distance^2)$) as a function of time (step)"
   ]
  },
  {
   "cell_type": "code",
   "execution_count": 11,
   "metadata": {},
   "outputs": [
    {
     "name": "stdout",
     "output_type": "stream",
     "text": [
      "Total walked distance of each walker:\n",
      " [  8  14   0  16  -2  22   6 -18  12  22   0  -4 -28   8   8  16  -6  -2\n",
      "  18  10  22  -4 -22 -14 -12 -18   6   8   0  14  -2 -10  16 -26  30 -28\n",
      " -14 -24  -4   8  20 -26 -20   4   8   8 -16   6  14  14   2  14   6  -6\n",
      " -14  28  -8   4  24  16   0   2  -6 -26  22  16  -4 -10   8   0 -32 -20\n",
      "   2  -4   2   8  -4   0  28   0 -28   6  -2   8   2   2 -14  18  34   8\n",
      "  14 -14   6  14   6  28   2   0   4  -8   6  12  14  -4  10 -20   8   6\n",
      " -20  -2   2 -10  10  -4   8  12 -12  26   2  18  -8   4  20  -4   2  16\n",
      "   4  -4 -30  14   8   6  22  20  -2  -2  -4  24 -22  -6  -8 -12   6  12\n",
      " -10  14   4 -22 -12   6  -8 -14  16  30   8  14  18   4  -6  14  -2 -10\n",
      "  -4   6   6  16  32  -4   6   6  -4  24   4 -36 -12  30 -18   6  -4   4\n",
      "   4  12  18  30  10  -8   6   0   6 -10 -10 -12   8  20  -2 -12  -2 -10\n",
      " -18   4  12   6 -26 -14 -26   2   8   6  -2  -2  12  16 -22  12   8  12\n",
      "  14  28 -14  -6 -16  -8   4  -2  22  14  28   6  10  -8  16  20  14  12\n",
      "   6 -22  20   4  22   8   2 -14 -30  10 -14   0  -8 -16 -14   0 -14   0\n",
      "  12   8 -10  -4  -8   0   4 -10 -16  -8   8   4 -10   4   8  14 -14  -2\n",
      " -14  12   4  12   6  32  12   4 -12   8 -12 -30   8  -4  -4   4  28  -8\n",
      "   2  -2   0 -26  -6  12 -40  12  14   4  -8  10 -18   6   0  12   0 -26\n",
      "  -2  -8  10   4  -6  -2  -2 -16   0 -18  -8 -32  28 -24 -22  -6 -28 -16\n",
      "   0   2  10   8 -10  -2  -2  22   2   8 -16  16  -4  20   8  22  28   6\n",
      "  -2  -8   8  -8  -8   4   2  30   8  10  28  -4  -4   8  22 -12   8  -8\n",
      "  -2 -10   2   0  36   0  -6  -2 -14  10  12  22  12  12   8   8  16   0\n",
      "  -2   6   2 -16 -10  12  -8   2   2  -6  12   2  -2   8  18   8 -36  -6\n",
      "  -8  20  10 -20   8  -6   4   8   0   0  16  -6  -8   8  24 -14 -12  -2\n",
      " -20  -4  12 -12  -4   0  18   0 -22  -8   0 -16  12   8   8 -22   8   0\n",
      "  16 -18   4 -16 -22 -10   2  -2 -12 -10  20 -10   6 -14 -12   8  10   2\n",
      "  30  20   6 -16   6 -20   0  -6 -16 -14  -4  10  12 -10  12  10   8   2\n",
      "   6 -10  30 -16  14  20  -4 -44 -16  10 -22  12  -6   4 -18 -16  26  18\n",
      "  -8  -2 -20 -16  -4 -22 -22   0  18   0  -6  -6  -2 -24 -16 -10  16 -20\n",
      "  16   6  18 -14 -16 -16 -26  38  -6  -2  16   4  10 -12   0   6   0 -40\n",
      "  28  -6 -20  -2  10   8   8  -8   4   0  18  44  18  -2   0  14 -18   0\n",
      "  22  12  -6  -2   2 -12   4   2  34   8 -12   6  -4  14  26 -20   2   6\n",
      "  10  16   4  -8   6   6 -18  -6  20   4   6   0   6 -28  30 -12  34   6\n",
      " -12  14   4  -4  20   4 -24   4   0 -12  -6  -8  16  20  -6  -8  22 -14\n",
      "  -8 -18   6   4  30 -20   4   4  -4  22   8  10 -26   8  14  -2   6   0\n",
      "   0  44   2  -8 -26   2  16 -22   6  -8   2  -2  22  -4   2   8  16   6\n",
      "  -4  14  14  -2  28  -2 -18  -8  18 -22 -10   0   4 -14  32 -10   0   2\n",
      "  18  -6  -6  -2  26   2  10  -2  -8  14   2 -10  14  12  14   4 -14   4\n",
      "  10  -8 -46  -6  20  -8   4  14 -24  12  16   0  18   6   0 -10  18 -10\n",
      " -16 -38   4  14  30 -22  -4  -4   6  26  12  16  14   8   0   6   6 -26\n",
      "   8  -4   4  -6  -4   0   8   0  16  -8  16  18  -6   6  16  10 -12  16\n",
      "  16 -34  -8 -12 -38  -2  30 -26  44   2  -4  -6  22  10  10   6   2  -4\n",
      " -14 -34  -6 -14 -12 -12  16  24 -14   0 -14 -14 -32  14   6   0   2 -26\n",
      "  12  -6  12  10  30   2  14 -14  24   8  -4  -8  -6 -38  -4  16   2  10\n",
      "   6  -6   2 -16  20  14  -2 -20  16 -28  -8 -14   6   6  12   0  14 -26\n",
      "   8  -8  -8 -12 -28  26 -22 -10  16  24  16   4   2  18  16  -6   6  -6\n",
      " -12 -22  22  -6 -26   6   4  -6   6  -2   2  12  -2  18   6 -24   0 -34\n",
      " -18  14 -26   8  12  20  -2  -4 -22  -8  12  -2  -4  -4   2   8 -10  14\n",
      " -32  20   8 -24   8  -2  10  24 -20  28   2  30 -20 -20 -10  10  -6  -8\n",
      "  46   0  -2   0 -14  -2 -10   4  -2 -24  30  12  -2  16   8   6  -6  22\n",
      " -16  20  22   8  10  10  -6 -12  32 -18  22   6  10 -12 -34  -8 -14  18\n",
      "  -8 -20   2  -2  -2   0  -4 -14   2   4   6 -12 -10 -14  14   8  -2   8\n",
      " -36  -4 -16  12   4 -14   8 -10  18 -24   0  20   8   2  24 -18  10  -6\n",
      "  12  16   4 -14  -4  16   4  -8  -2  20  -6  18  22 -20   8  18  -2   4\n",
      " -16  14   0  14   2 -12  -2 -26 -12  -4  20 -10   8   6 -14 -20  24   0\n",
      "   0 -20  -2  12  -4 -14  10 -20   4 -22   6   4  -6  14  14 -20  12   6\n",
      "   2   2  10  12  18 -20 -12  -6 -18   8]\n",
      "\n",
      "Mean of squared distances at each time's step:\n",
      " [  1.      2.028   3.048   4.08    5.088   6.052   7.096   8.004   8.6\n",
      "   9.8    10.776  11.644  12.296  13.052  14.304  15.376  16.264  17.376\n",
      "  18.384  19.312  20.184  21.272  22.4    24.14   25.376  25.976  26.848\n",
      "  27.9    28.592  30.     31.592  33.54   34.648  35.64   36.656  37.528\n",
      "  38.424  39.048  40.024  40.924  43.016  44.16   44.848  45.208  46.4\n",
      "  47.284  49.432  50.696  51.68   53.328  53.552  54.472  55.544  56.652\n",
      "  58.144  59.46   60.92   62.428  63.072  64.332  65.336  67.08   67.504\n",
      "  67.936  69.2    70.244  70.728  71.996  74.576  76.788  77.784  78.64\n",
      "  79.408  80.08   80.968  80.992  81.496  82.904  84.744  85.644  86.592\n",
      "  88.416  89.28   91.336  92.624  94.016  95.504  96.104  97.088  97.564\n",
      "  96.88   98.672  99.936 101.02  102.856 103.996 105.384 105.668 107.976\n",
      " 107.984 108.456 109.392 110.6   112.008 112.552 113.288 114.248 115.292\n",
      " 116.016 118.136 118.904 119.844 120.8   120.452 121.992 123.316 122.816\n",
      " 124.132 124.6   125.172 125.32  126.464 128.056 130.464 132.016 133.236\n",
      " 134.608 135.612 136.192 137.548 137.392 139.444 139.288 141.008 141.872\n",
      " 142.48  144.728 146.696 146.664 148.884 149.016 149.172 149.496 151.44\n",
      " 150.832 151.688 151.12  152.644 153.392 154.656 155.824 157.76  158.968\n",
      " 160.644 161.912 163.2   163.744 164.056 164.144 165.124 168.28  167.904\n",
      " 168.256 168.876 170.216 170.612 172.    171.324 172.128 172.656 173.352\n",
      " 173.34  174.784 175.352 177.256 177.928 179.296 180.976 182.568 183.396\n",
      " 183.856 185.016 185.992 187.16  188.92  190.124 193.576 195.276 197.328\n",
      " 198.024 199.168 200.056 200.92  202.508 204.728 206.3   208.    209.024\n",
      " 210.064 211.   ]\n"
     ]
    }
   ],
   "source": [
    "walkers, times = 1000, 200\n",
    "steps = np.random.randint(2, size=(walkers, times))*2-1\n",
    "progress = np.zeros(steps.shape, \"int\")\n",
    "for i in range(walkers):\n",
    "    for j in range(times):\n",
    "        progress[i, j]=progress[i, j-1]+steps[i, j]\n",
    "print(\"Total walked distance of each walker:\\n\", progress[:, times-1])\n",
    "square_prog = progress * progress\n",
    "mean_step=np.zeros(times)\n",
    "for c in range(times):\n",
    "    mean_step[c]=sum(square_prog[:, c])/walkers\n",
    "print(\"\\nMean of squared distances at each time's step:\\n\", mean_step)"
   ]
  },
  {
   "cell_type": "code",
   "execution_count": null,
   "metadata": {},
   "outputs": [],
   "source": []
  }
 ],
 "metadata": {
  "kernelspec": {
   "display_name": "Python 3 (ipykernel)",
   "language": "python",
   "name": "python3"
  },
  "language_info": {
   "codemirror_mode": {
    "name": "ipython",
    "version": 3
   },
   "file_extension": ".py",
   "mimetype": "text/x-python",
   "name": "python",
   "nbconvert_exporter": "python",
   "pygments_lexer": "ipython3",
   "version": "3.10.12"
  }
 },
 "nbformat": 4,
 "nbformat_minor": 4
}
