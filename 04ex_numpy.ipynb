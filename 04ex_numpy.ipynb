{
 "cells": [
  {
   "cell_type": "markdown",
   "metadata": {},
   "source": [
    "1\\. **Reductions**\n",
    "\n",
    "Given the following matrix:\n",
    "\n",
    "```python\n",
    "m = np.arange(12).reshape((3,4))\n",
    "```\n",
    "\n",
    "   1. find the total mean\n",
    "   2. find the mean for each row and column"
   ]
  },
  {
   "cell_type": "code",
   "execution_count": 1,
   "metadata": {},
   "outputs": [
    {
     "name": "stdout",
     "output_type": "stream",
     "text": [
      "mean of the matrix:  5.5\n",
      "mean values of the colunms are:  [4. 5. 6. 7.]\n",
      "mean values of the rows are:  [1.5 5.5 9.5]\n"
     ]
    }
   ],
   "source": [
    "import numpy as np\n",
    "m = np.arange(12).reshape((3,4))\n",
    "mean = np.mean(m)\n",
    "print(\"mean of the matrix: \",mean)\n",
    "print(\"mean values of the colunms are: \", np.mean(m, axis = 0))\n",
    "print(\"mean values of the rows are: \", np.mean(m, axis = 1))"
   ]
  },
  {
   "cell_type": "markdown",
   "metadata": {},
   "source": [
    "2\\. **Outer product**\n",
    "\n",
    "Find the outer product of the following vectors:\n",
    "\n",
    "```python\n",
    "u = np.array([1, 3, 5, 7])\n",
    "v = np.array([2, 4, 6, 8])\n",
    "```\n",
    "\n",
    "Use different methods to do this:\n",
    "\n",
    "   1. Using the function `outer` in numpy\n",
    "   2. Using a nested `for` loop or a list comprehension\n",
    "   3. Using numpy broadcasting operations"
   ]
  },
  {
   "cell_type": "code",
   "execution_count": 2,
   "metadata": {},
   "outputs": [
    {
     "name": "stdout",
     "output_type": "stream",
     "text": [
      "[[ 2  4  6  8]\n",
      " [ 6 12 18 24]\n",
      " [10 20 30 40]\n",
      " [14 28 42 56]]\n",
      "\n",
      " [[ 2.  4.  6.  8.]\n",
      " [ 6. 12. 18. 24.]\n",
      " [10. 20. 30. 40.]\n",
      " [14. 28. 42. 56.]]\n",
      "\n",
      " [[ 2  4  6  8]\n",
      " [ 6 12 18 24]\n",
      " [10 20 30 40]\n",
      " [14 28 42 56]]\n"
     ]
    }
   ],
   "source": [
    "u = np.array([1, 3, 5, 7])\n",
    "v = np.array([2, 4, 6, 8])\n",
    "c = np.outer(u,v)\n",
    "print(c)\n",
    "c1 = np.zeros((4,4))\n",
    "for i in range(4):\n",
    "    for j in range(4):\n",
    "        c1[i][j] = u[i]*v[j]        \n",
    "print('\\n',c1)\n",
    "u = u.reshape(4,1)\n",
    "print('\\n',u*v)"
   ]
  },
  {
   "cell_type": "markdown",
   "metadata": {},
   "source": [
    "3\\. **Matrix masking**\n",
    "\n",
    "Create a $10 \\times 6$ matrix of float random numbers, distributed between 0 and 3 according to a flat distribution.\n",
    "\n",
    "After creating the matrix, set all entries $< 0.3$ to zero using a mask."
   ]
  },
  {
   "cell_type": "code",
   "execution_count": 3,
   "metadata": {},
   "outputs": [
    {
     "name": "stdout",
     "output_type": "stream",
     "text": [
      "[[2.68171136 0.096154   2.93730052 1.57414433 2.28185426 2.95365197]\n",
      " [0.71336119 2.27757513 1.6353881  1.81575289 2.44204    0.48237584]\n",
      " [1.24711835 0.88075855 0.2720444  2.09125332 0.98999419 2.34838052]\n",
      " [0.69807027 1.00525735 1.71176787 1.76765766 2.6732632  1.25635614]\n",
      " [0.77206704 0.38073302 1.28258915 1.00943824 2.16330113 2.02178537]\n",
      " [0.5174492  1.18491399 2.89112472 0.05642131 0.02278785 2.0248444 ]\n",
      " [2.96552895 2.16749644 0.90992553 2.38750201 1.61096004 1.56587435]\n",
      " [1.64745097 1.42147119 2.31959538 0.03699557 1.31368003 1.30222563]\n",
      " [2.3674377  1.63994174 2.96544516 0.62581271 1.5821629  1.64266093]\n",
      " [2.5275459  1.95149556 2.82925933 2.30398534 0.00592938 2.98512952]]\n",
      "\n",
      " [[ True False  True  True  True  True]\n",
      " [ True  True  True  True  True  True]\n",
      " [ True  True False  True  True  True]\n",
      " [ True  True  True  True  True  True]\n",
      " [ True  True  True  True  True  True]\n",
      " [ True  True  True False False  True]\n",
      " [ True  True  True  True  True  True]\n",
      " [ True  True  True False  True  True]\n",
      " [ True  True  True  True  True  True]\n",
      " [ True  True  True  True False  True]]\n",
      "\n",
      " [2.68171136 2.93730052 1.57414433 2.28185426 2.95365197 0.71336119\n",
      " 2.27757513 1.6353881  1.81575289 2.44204    0.48237584 1.24711835\n",
      " 0.88075855 2.09125332 0.98999419 2.34838052 0.69807027 1.00525735\n",
      " 1.71176787 1.76765766 2.6732632  1.25635614 0.77206704 0.38073302\n",
      " 1.28258915 1.00943824 2.16330113 2.02178537 0.5174492  1.18491399\n",
      " 2.89112472 2.0248444  2.96552895 2.16749644 0.90992553 2.38750201\n",
      " 1.61096004 1.56587435 1.64745097 1.42147119 2.31959538 1.31368003\n",
      " 1.30222563 2.3674377  1.63994174 2.96544516 0.62581271 1.5821629\n",
      " 1.64266093 2.5275459  1.95149556 2.82925933 2.30398534 2.98512952]\n"
     ]
    }
   ],
   "source": [
    "import numpy.random as npr\n",
    "a = npr.uniform(0, 3, size=(10, 6))\n",
    "print(a)\n",
    "mask = (a >= 0.3)\n",
    "print('\\n',mask)\n",
    "filtered_a = a[mask]\n",
    "print('\\n',filtered_a)"
   ]
  },
  {
   "cell_type": "markdown",
   "metadata": {},
   "source": [
    "4\\. **Trigonometric functions**\n",
    "\n",
    "Use `np.linspace` to create an array of 100 numbers between $0$ and $2\\pi$ (inclusive).\n",
    "\n",
    "  * Extract every 10th element using the slice notation\n",
    "  * Reverse the array using the slice notation\n",
    "  * Extract elements where the absolute difference between the `sin` and `cos` functions evaluated for that element is $< 0.1$\n",
    "  * **Optional**: make a plot showing the `sin` and `cos` functions and indicate graphically (with a line or a marker) where they are close"
   ]
  },
  {
   "cell_type": "code",
   "execution_count": 4,
   "metadata": {},
   "outputs": [
    {
     "name": "stdout",
     "output_type": "stream",
     "text": [
      "[0.         0.63466518 1.26933037 1.90399555 2.53866073 3.17332591\n",
      " 3.8079911  4.44265628 5.07732146 5.71198664] \n",
      "\n",
      "[6.28318531 6.21971879 6.15625227 6.09278575 6.02931923 5.96585272\n",
      " 5.9023862  5.83891968 5.77545316 5.71198664 5.64852012 5.58505361\n",
      " 5.52158709 5.45812057 5.39465405 5.33118753 5.26772102 5.2042545\n",
      " 5.14078798 5.07732146 5.01385494 4.95038842 4.88692191 4.82345539\n",
      " 4.75998887 4.69652235 4.63305583 4.56958931 4.5061228  4.44265628\n",
      " 4.37918976 4.31572324 4.25225672 4.1887902  4.12532369 4.06185717\n",
      " 3.99839065 3.93492413 3.87145761 3.8079911  3.74452458 3.68105806\n",
      " 3.61759154 3.55412502 3.4906585  3.42719199 3.36372547 3.30025895\n",
      " 3.23679243 3.17332591 3.10985939 3.04639288 2.98292636 2.91945984\n",
      " 2.85599332 2.7925268  2.72906028 2.66559377 2.60212725 2.53866073\n",
      " 2.47519421 2.41172769 2.34826118 2.28479466 2.22132814 2.15786162\n",
      " 2.0943951  2.03092858 1.96746207 1.90399555 1.84052903 1.77706251\n",
      " 1.71359599 1.65012947 1.58666296 1.52319644 1.45972992 1.3962634\n",
      " 1.33279688 1.26933037 1.20586385 1.14239733 1.07893081 1.01546429\n",
      " 0.95199777 0.88853126 0.82506474 0.76159822 0.6981317  0.63466518\n",
      " 0.57119866 0.50773215 0.44426563 0.38079911 0.31733259 0.25386607\n",
      " 0.19039955 0.12693304 0.06346652 0.        ] \n",
      "\n",
      "[0.76159822 0.82506474 3.87145761 3.93492413]\n"
     ]
    }
   ],
   "source": [
    "array = np.linspace(0, 2*np.pi, 100)\n",
    "array_extraction = array[::10]\n",
    "print(array_extraction,\"\\n\")\n",
    "array_reversed = array[::-1]\n",
    "print(array_reversed,\"\\n\")\n",
    "mask=(abs(np.sin(array)-np.cos(array)) < 0.1)\n",
    "filtered_array = array[mask]\n",
    "print(filtered_array)"
   ]
  },
  {
   "cell_type": "markdown",
   "metadata": {},
   "source": [
    "5\\. **Matrices**\n",
    "\n",
    "Create a matrix that shows the $10 \\times 10$ multiplication table.\n",
    "\n",
    " * Find the trace of the matrix\n",
    " * Extract the anti-diagonal matrix (this should be ```array([10, 18, 24, 28, 30, 30, 28, 24, 18, 10])```)\n",
    " * Extract the diagonal offset by 1 upwards (this should be ```array([ 2,  6, 12, 20, 30, 42, 56, 72, 90])```)"
   ]
  },
  {
   "cell_type": "code",
   "execution_count": 5,
   "metadata": {},
   "outputs": [
    {
     "name": "stdout",
     "output_type": "stream",
     "text": [
      "[[  1   2   3   4   5   6   7   8   9  10]\n",
      " [  2   4   6   8  10  12  14  16  18  20]\n",
      " [  3   6   9  12  15  18  21  24  27  30]\n",
      " [  4   8  12  16  20  24  28  32  36  40]\n",
      " [  5  10  15  20  25  30  35  40  45  50]\n",
      " [  6  12  18  24  30  36  42  48  54  60]\n",
      " [  7  14  21  28  35  42  49  56  63  70]\n",
      " [  8  16  24  32  40  48  56  64  72  80]\n",
      " [  9  18  27  36  45  54  63  72  81  90]\n",
      " [ 10  20  30  40  50  60  70  80  90 100]] \n",
      "\n",
      "385 \n",
      "\n",
      "[10 18 24 28 30 30 28 24 18 10] \n",
      "\n",
      "[ 2  6 12 20 30 42 56 72 90]\n"
     ]
    }
   ],
   "source": [
    "multiplication_table = np.arange(1, 11).reshape(10,1) * np.arange(1, 11)\n",
    "print(multiplication_table, \"\\n\")\n",
    "print(np.trace(multiplication_table),'\\n')\n",
    "print(np.diagonal(np.flipud(multiplication_table)), \"\\n\")\n",
    "print(np.diagonal(multiplication_table, offset=1))"
   ]
  },
  {
   "cell_type": "markdown",
   "metadata": {},
   "source": [
    "6\\. **Broadcasting**\n",
    "\n",
    "Use broadcasting to create a grid of distances.\n",
    "\n",
    "Route 66 crosses the following cities in the US: Chicago, Springfield, Saint-Louis, Tulsa, Oklahoma City, Amarillo, Santa Fe, Albuquerque, Flagstaff, Los Angeles.\n",
    "\n",
    "The corresponding positions in miles are: `0, 198, 303, 736, 871, 1175, 1475, 1544, 1913, 2448`\n",
    "\n",
    "  * Build a 2D grid of distances among each city along Route 66\n",
    "  * Convert the distances in km"
   ]
  },
  {
   "cell_type": "code",
   "execution_count": 6,
   "metadata": {},
   "outputs": [
    {
     "name": "stdout",
     "output_type": "stream",
     "text": [
      "distance grid:\n",
      " [[   0.       318.64932  487.63002 1184.47424 1401.73514 1890.9745\n",
      "  2373.7765  2484.82096 3078.66742 3939.66432]\n",
      " [ 318.64932    0.       168.9807   865.82492 1083.08582 1572.32518\n",
      "  2055.12718 2166.17164 2760.0181  3621.015  ]\n",
      " [ 487.63002  168.9807     0.       696.84422  914.10512 1403.34448\n",
      "  1886.14648 1997.19094 2591.0374  3452.0343 ]\n",
      " [1184.47424  865.82492  696.84422    0.       217.2609   706.50026\n",
      "  1189.30226 1300.34672 1894.19318 2755.19008]\n",
      " [1401.73514 1083.08582  914.10512  217.2609     0.       489.23936\n",
      "   972.04136 1083.08582 1676.93228 2537.92918]\n",
      " [1890.9745  1572.32518 1403.34448  706.50026  489.23936    0.\n",
      "   482.802    593.84646 1187.69292 2048.68982]\n",
      " [2373.7765  2055.12718 1886.14648 1189.30226  972.04136  482.802\n",
      "     0.       111.04446  704.89092 1565.88782]\n",
      " [2484.82096 2166.17164 1997.19094 1300.34672 1083.08582  593.84646\n",
      "   111.04446    0.       593.84646 1454.84336]\n",
      " [3078.66742 2760.0181  2591.0374  1894.19318 1676.93228 1187.69292\n",
      "   704.89092  593.84646    0.       860.9969 ]\n",
      " [3939.66432 3621.015   3452.0343  2755.19008 2537.92918 2048.68982\n",
      "  1565.88782 1454.84336  860.9969     0.     ]]\n"
     ]
    }
   ],
   "source": [
    "cities = [\"Chicago\", \"Springfield\", \"Saint-Louis\", \"Tulsa\", \"Oklahoma City\", \"Amarillo\", \"Santa Fe\", \"Albuquerque\", \"Flagstaff\", \"Los Angeles\"]\n",
    "positions_miles = np.array([0, 198, 303, 736, 871, 1175, 1475, 1544, 1913, 2448])\n",
    "distances_grid = np.abs(positions_miles - positions_miles[:, np.newaxis]) * 1.60934\n",
    "print(\"distance grid:\\n\", distances_grid)"
   ]
  },
  {
   "cell_type": "markdown",
   "metadata": {},
   "source": [
    "7\\. **Prime numbers sieve**\n",
    "\n",
    "Compute the prime numbers in the 0-N (start with N=99) range with a sieve (mask).\n",
    "\n",
    "  * Construct a shape (N,) boolean array, which is the mask\n",
    "  * Identify the multiples of each number starting from 2 and set accordingly the corresponding mask element\n",
    "  * Apply the mask to obtain an array of ordered prime numbers\n",
    "  * Check the performances (with `timeit`); how does it scale with N?\n",
    "  * Implement the optimization suggested in the [sieve of Eratosthenes](https://en.wikipedia.org/wiki/Sieve_of_Eratosthenes)"
   ]
  },
  {
   "cell_type": "code",
   "execution_count": 7,
   "metadata": {},
   "outputs": [
    {
     "name": "stdout",
     "output_type": "stream",
     "text": [
      "Time taken for N=99: 0.008586 seconds\n",
      "Time taken for N=1000: 0.059744 seconds\n",
      "The time complexity of this algorithm is O(N log log N)\n"
     ]
    }
   ],
   "source": [
    "import timeit\n",
    "N = 99\n",
    "\n",
    "def prime_finder(N):\n",
    "    mask = np.ones(N, dtype=bool)\n",
    "    mask[0:2] = False\n",
    "    prime_numbers = []\n",
    "    for i in range(2, int(np.sqrt(N))):\n",
    "        if mask[i] == True:\n",
    "            mask[i**2:N:i] = False\n",
    "        \n",
    "    for i in range(len(mask)):\n",
    "        if mask[i] == True:\n",
    "            prime_numbers.append(i)\n",
    "        \n",
    "    return(prime_numbers)\n",
    "\n",
    "time_taken = timeit.timeit(lambda: prime_finder(N), number=100)\n",
    "print(f\"Time taken for N={N}: {time_taken:.6f} seconds\")\n",
    "\n",
    "\n",
    "N_large = 1000\n",
    "time_taken_large = timeit.timeit(lambda: prime_finder(N_large), number=100)\n",
    "print(f\"Time taken for N={N_large}: {time_taken_large:.6f} seconds\")\n",
    "\n",
    "print(\"The time complexity of this algorithm is O(N log log N)\")\n",
    "        "
   ]
  },
  {
   "cell_type": "markdown",
   "metadata": {},
   "source": [
    "8\\. **Diffusion using random walk**\n",
    "\n",
    "Consider a simple random walk process: at each step in time, a walker jumps right or left (+1 or -1) with equal probability. The goal is to find the typical distance from the origin of many random walkers after a given amount of time.\n",
    "\n",
    "*Hint*: create a 2D array where each row represents a walker, and each column represents a time step.\n",
    "\n",
    "  * Take 1000 walkers and let them walk for 200 steps\n",
    "  * Use `randint` to create a 2D array of size $walkers \\times steps$ with values -1 or 1\n",
    "  * Calculate the walking distances for each walker (e.g. by summing the elements in each row)\n",
    "  * Take the square of the previously-obtained array (element-wise)\n",
    "  * Compute the mean of the squared distances at each step (i.e. the mean along the columns)\n",
    "  * **Optional**: plot the average distances ($\\sqrt(distance^2)$) as a function of time (step)"
   ]
  },
  {
   "cell_type": "code",
   "execution_count": 8,
   "metadata": {},
   "outputs": [
    {
     "name": "stdout",
     "output_type": "stream",
     "text": [
      "[[-1  1 -1 ...  1 -1 -1]\n",
      " [ 1 -1  1 ... -1  1 -1]\n",
      " [ 1  1 -1 ... -1 -1  1]\n",
      " ...\n",
      " [-1 -1  1 ... -1 -1  1]\n",
      " [ 1  1  1 ... -1 -1 -1]\n",
      " [-1 -1 -1 ... -1  1 -1]] \n",
      "\n",
      "walking distances for each walker:\n",
      " [[  1   0   1 ... 144 169 196]\n",
      " [  1   0   1 ... 100  81 100]\n",
      " [  1   4   1 ...   4   1   4]\n",
      " ...\n",
      " [  1   4   1 ... 144 121 144]\n",
      " [  1   4   9 ... 324 289 256]\n",
      " [  1   4   9 ... 144 121 144]] \n",
      "\n",
      "mean of the squared distances at each step:\n",
      " [  1.      1.956   2.912   3.896   5.12    6.184   7.328   8.504   9.872\n",
      "  10.872  11.712  12.796  13.68   14.612  15.08   15.972  16.656  17.632\n",
      "  18.568  19.844  21.088  22.508  23.536  24.096  25.128  26.084  27.568\n",
      "  28.856  29.976  30.976  32.056  33.416  33.92   34.752  35.664  36.74\n",
      "  38.368  39.24   40.88   41.904  42.64   43.36   44.264  45.624  46.448\n",
      "  47.816  48.912  49.916  50.896  51.504  51.552  53.072  55.     54.832\n",
      "  55.552  56.672  57.432  58.848  59.576  60.02   60.944  61.652  62.592\n",
      "  63.556  64.864  66.46   67.464  69.304  69.696  70.836  71.368  72.864\n",
      "  74.128  75.208  76.136  77.352  79.024  79.452  80.744  81.948  83.728\n",
      "  85.364  86.616  87.116  89.512  90.776  90.856  93.308  93.496  94.008\n",
      "  95.648  97.012  97.84   98.848  98.888 100.536 101.104 101.548 102.968\n",
      " 103.272 105.816 106.416 106.856 107.54  108.352 108.788 109.184 111.316\n",
      " 112.528 112.668 113.28  114.772 115.208 116.484 116.936 118.06  117.76\n",
      " 118.368 120.496 121.644 121.752 122.34  123.016 123.464 125.056 125.944\n",
      " 127.56  128.652 129.824 131.444 132.584 134.272 134.04  135.56  136.28\n",
      " 137.796 139.32  139.604 139.376 139.736 142.664 143.872 144.24  145.48\n",
      " 146.304 147.448 148.456 148.328 148.224 149.272 149.624 151.332 151.768\n",
      " 154.024 156.544 157.308 158.904 161.14  161.616 162.944 163.704 164.116\n",
      " 165.864 167.252 168.944 170.3   170.224 169.968 170.8   171.672 173.36\n",
      " 174.588 176.112 177.232 178.984 180.396 182.48  182.664 184.288 183.816\n",
      " 184.408 185.284 186.192 187.508 189.288 190.672 191.24  190.736 190.992\n",
      " 191.492 193.072 194.2   194.168 196.06  196.72  197.776 198.44  199.88\n",
      " 200.128 200.78 ]\n"
     ]
    },
    {
     "data": {
      "image/png": "[encoded data removed]",
      "text/plain": [
       "<Figure size 640x480 with 1 Axes>"
      ]
     },
     "metadata": {},
     "output_type": "display_data"
    }
   ],
   "source": [
    "import matplotlib.pyplot as plt\n",
    "random_walk = npr.randint(0, 2, (1000, 200))\n",
    "random_walk = (random_walk*2)-1\n",
    "print(random_walk, '\\n')\n",
    "walking_distances = np.cumsum(random_walk, axis = 1)\n",
    "walking_distances = walking_distances**2\n",
    "print(\"walking distances for each walker:\\n\",walking_distances, '\\n')\n",
    "mean_squared_distances = np.mean(walking_distances, axis = 0)\n",
    "print('mean of the squared distances at each step:\\n', mean_squared_distances)\n",
    "\n",
    "plt.plot(np.sqrt(mean_squared_distances), label='Average Distance')\n",
    "plt.xlabel('Time Step')\n",
    "plt.ylabel('Average Distance')\n",
    "plt.title('Random Walk Simulation')\n",
    "plt.legend()\n",
    "plt.show()"
   ]
  },
  {
   "cell_type": "code",
   "execution_count": null,
   "metadata": {},
   "outputs": [],
   "source": []
  },
  {
   "cell_type": "code",
   "execution_count": null,
   "metadata": {},
   "outputs": [],
   "source": []
  }
 ],
 "metadata": {
  "kernelspec": {
   "display_name": "Python 3 (ipykernel)",
   "language": "python",
   "name": "python3"
  },
  "language_info": {
   "codemirror_mode": {
    "name": "ipython",
    "version": 3
   },
   "file_extension": ".py",
   "mimetype": "text/x-python",
   "name": "python",
   "nbconvert_exporter": "python",
   "pygments_lexer": "ipython3",
   "version": "3.9.13"
  }
 },
 "nbformat": 4,
 "nbformat_minor": 2
}
