{
 "cells": [
  {
   "cell_type": "markdown",
   "metadata": {},
   "source": [
    "1\\. **Reductions**\n",
    "\n",
    "Given the following matrix:\n",
    "\n",
    "```python\n",
    "m = np.arange(12).reshape((3,4))\n",
    "```\n",
    "\n",
    "   1. find the total mean\n",
    "   2. find the mean for each row and column"
   ]
  },
  {
   "cell_type": "code",
   "execution_count": 1,
   "metadata": {},
   "outputs": [
    {
     "name": "stdout",
     "output_type": "stream",
     "text": [
      "mean: 5.5\n",
      "sum along the columns: [4. 5. 6. 7.]\n",
      "sum along the rows: [1.5 5.5 9.5]\n"
     ]
    }
   ],
   "source": [
    "import numpy as np\n",
    "m = np.arange(12).reshape((3,4))\n",
    "print(\"mean:\",  np.mean(m))\n",
    "print(\"sum along the columns:\", m.mean(axis=0))\n",
    "print(\"sum along the rows:\", m.mean(axis=1))\n"
   ]
  },
  {
   "cell_type": "markdown",
   "metadata": {},
   "source": [
    "2\\. **Outer product**\n",
    "\n",
    "Find the outer product of the following vectors:\n",
    "\n",
    "```python\n",
    "u = np.array([1, 3, 5, 7])\n",
    "v = np.array([2, 4, 6, 8])\n",
    "```\n",
    "\n",
    "Use different methods to do this:\n",
    "\n",
    "   1. Using the function `outer` in numpy\n",
    "   2. Using a nested `for` loop or a list comprehension\n",
    "   3. Using numpy broadcasting operations"
   ]
  },
  {
   "cell_type": "code",
   "execution_count": 2,
   "metadata": {},
   "outputs": [],
   "source": [
    "u = np.array([1, 3, 5, 7])\n",
    "v = np.array([2, 4, 6, 8])"
   ]
  },
  {
   "cell_type": "code",
   "execution_count": 3,
   "metadata": {},
   "outputs": [
    {
     "name": "stdout",
     "output_type": "stream",
     "text": [
      "Using the function outer in numpy :  \n",
      " [[ 2  4  6  8]\n",
      " [ 6 12 18 24]\n",
      " [10 20 30 40]\n",
      " [14 28 42 56]] \n",
      "\n",
      "Using list comprehension :  \n",
      " [[ 2  4  6  8]\n",
      " [ 6 12 18 24]\n",
      " [10 20 30 40]\n",
      " [14 28 42 56]] \n",
      "\n",
      "Using numpy broadcasting operations :  \n",
      " [[ 2  4  6  8]\n",
      " [ 6 12 18 24]\n",
      " [10 20 30 40]\n",
      " [14 28 42 56]] \n",
      "\n"
     ]
    }
   ],
   "source": [
    "from numpy import array, newaxis\n",
    "first = np.outer(u, v)\n",
    "second = np.array([i * v for i in u])\n",
    "third=u[:,newaxis] * v\n",
    "print(\"Using the function outer in numpy : \", '\\n', first, '\\n')\n",
    "print(\"Using list comprehension : \", '\\n',second, '\\n')\n",
    "print(\"Using numpy broadcasting operations : \", '\\n', third, '\\n')\n"
   ]
  },
  {
   "cell_type": "markdown",
   "metadata": {},
   "source": [
    "3\\. **Matrix masking**\n",
    "\n",
    "Create a $10 \\times 6$ matrix of float random numbers, distributed between 0 and 3 according to a flat distribution.\n",
    "\n",
    "After creating the matrix, set all entries $< 0.3$ to zero using a mask."
   ]
  },
  {
   "cell_type": "code",
   "execution_count": 4,
   "metadata": {},
   "outputs": [
    {
     "name": "stdout",
     "output_type": "stream",
     "text": [
      "original array :  \n",
      " [[1.16427860e+00 2.05583193e+00 2.48464242e-01 2.97132373e+00\n",
      "  2.92738578e+00 1.75239825e+00]\n",
      " [1.18726899e+00 2.89216399e+00 2.34384546e+00 9.83094716e-01\n",
      "  1.82094500e-01 1.86970264e+00]\n",
      " [2.39751931e+00 1.98503118e+00 9.61644749e-01 1.49328607e+00\n",
      "  1.41584306e+00 7.47531150e-02]\n",
      " [2.61250501e+00 1.25011793e+00 4.84673897e-01 2.61990620e+00\n",
      "  8.62568243e-02 6.05478265e-04]\n",
      " [7.56608129e-01 5.05847471e-01 6.84419685e-01 2.41105607e+00\n",
      "  2.28790841e+00 7.42421101e-01]\n",
      " [2.71202554e+00 1.31017241e+00 8.48152988e-02 2.31312015e+00\n",
      "  2.44146409e+00 1.45683041e+00]\n",
      " [2.45686654e-01 8.04311884e-01 2.35651209e+00 2.78598071e+00\n",
      "  2.44147360e+00 2.90517002e+00]\n",
      " [2.64835706e+00 2.70851399e+00 2.26666927e-01 2.23663393e+00\n",
      "  6.04327390e-03 1.15098633e+00]\n",
      " [1.47216826e+00 1.98852227e+00 2.15644106e+00 1.80138779e-01\n",
      "  2.53189185e+00 1.24089538e+00]\n",
      " [1.30410615e+00 1.86249301e+00 2.87157970e+00 1.90364171e+00\n",
      "  1.79681642e+00 2.99138346e+00]] \n",
      "\n",
      "after the mask: \n",
      " [[False False  True False False False]\n",
      " [False False False False  True False]\n",
      " [False False False False False  True]\n",
      " [False False False False  True  True]\n",
      " [False False False False False False]\n",
      " [False False  True False False False]\n",
      " [ True False False False False False]\n",
      " [False False  True False  True False]\n",
      " [False False False  True False False]\n",
      " [False False False False False False]] \n",
      "\n",
      "the modified array: \n",
      " [[1.1642786  2.05583193 0.         2.97132373 2.92738578 1.75239825]\n",
      " [1.18726899 2.89216399 2.34384546 0.98309472 0.         1.86970264]\n",
      " [2.39751931 1.98503118 0.96164475 1.49328607 1.41584306 0.        ]\n",
      " [2.61250501 1.25011793 0.4846739  2.6199062  0.         0.        ]\n",
      " [0.75660813 0.50584747 0.68441968 2.41105607 2.28790841 0.7424211 ]\n",
      " [2.71202554 1.31017241 0.         2.31312015 2.44146409 1.45683041]\n",
      " [0.         0.80431188 2.35651209 2.78598071 2.4414736  2.90517002]\n",
      " [2.64835706 2.70851399 0.         2.23663393 0.         1.15098633]\n",
      " [1.47216826 1.98852227 2.15644106 0.         2.53189185 1.24089538]\n",
      " [1.30410615 1.86249301 2.8715797  1.90364171 1.79681642 2.99138346]] \n",
      "\n"
     ]
    }
   ],
   "source": [
    "x=np.random.uniform(low=0.0, high=3.0, size=(10,6))\n",
    "print(\"original array : \", '\\n', x , '\\n')\n",
    "mask = (x < 0.3)\n",
    "print(\"after the mask:\", '\\n' , mask, '\\n')\n",
    "x[x < 0.3 ] = 0\n",
    "print(\"the modified array:\", '\\n', x, '\\n')\n",
    "\n"
   ]
  },
  {
   "cell_type": "markdown",
   "metadata": {},
   "source": [
    "4\\. **Trigonometric functions**\n",
    "\n",
    "Use `np.linspace` to create an array of 100 numbers between $0$ and $2\\pi$ (inclusive).\n",
    "\n",
    "  * Extract every 10th element using the slice notation\n",
    "  * Reverse the array using the slice notation\n",
    "  * Extract elements where the absolute difference between the `sin` and `cos` functions evaluated for that element is $< 0.1$\n",
    "  * **Optional**: make a plot showing the `sin` and `cos` functions and indicate graphically (with a line or a marker) where they are close"
   ]
  },
  {
   "cell_type": "code",
   "execution_count": 5,
   "metadata": {},
   "outputs": [
    {
     "name": "stdout",
     "output_type": "stream",
     "text": [
      "Use np.linspace to create an array of 100 numbers between 0 and 2𝜋 (inclusive):\n",
      " \n",
      " [0.         0.06346652 0.12693304 0.19039955 0.25386607 0.31733259\n",
      " 0.38079911 0.44426563 0.50773215 0.57119866 0.63466518 0.6981317\n",
      " 0.76159822 0.82506474 0.88853126 0.95199777 1.01546429 1.07893081\n",
      " 1.14239733 1.20586385 1.26933037 1.33279688 1.3962634  1.45972992\n",
      " 1.52319644 1.58666296 1.65012947 1.71359599 1.77706251 1.84052903\n",
      " 1.90399555 1.96746207 2.03092858 2.0943951  2.15786162 2.22132814\n",
      " 2.28479466 2.34826118 2.41172769 2.47519421 2.53866073 2.60212725\n",
      " 2.66559377 2.72906028 2.7925268  2.85599332 2.91945984 2.98292636\n",
      " 3.04639288 3.10985939 3.17332591 3.23679243 3.30025895 3.36372547\n",
      " 3.42719199 3.4906585  3.55412502 3.61759154 3.68105806 3.74452458\n",
      " 3.8079911  3.87145761 3.93492413 3.99839065 4.06185717 4.12532369\n",
      " 4.1887902  4.25225672 4.31572324 4.37918976 4.44265628 4.5061228\n",
      " 4.56958931 4.63305583 4.69652235 4.75998887 4.82345539 4.88692191\n",
      " 4.95038842 5.01385494 5.07732146 5.14078798 5.2042545  5.26772102\n",
      " 5.33118753 5.39465405 5.45812057 5.52158709 5.58505361 5.64852012\n",
      " 5.71198664 5.77545316 5.83891968 5.9023862  5.96585272 6.02931923\n",
      " 6.09278575 6.15625227 6.21971879 6.28318531] \n",
      " \n",
      "\n",
      "Reverse the array using the slice notation:\n",
      " \n",
      " [6.28318531 6.21971879 6.15625227 6.09278575 6.02931923 5.96585272\n",
      " 5.9023862  5.83891968 5.77545316 5.71198664 5.64852012 5.58505361\n",
      " 5.52158709 5.45812057 5.39465405 5.33118753 5.26772102 5.2042545\n",
      " 5.14078798 5.07732146 5.01385494 4.95038842 4.88692191 4.82345539\n",
      " 4.75998887 4.69652235 4.63305583 4.56958931 4.5061228  4.44265628\n",
      " 4.37918976 4.31572324 4.25225672 4.1887902  4.12532369 4.06185717\n",
      " 3.99839065 3.93492413 3.87145761 3.8079911  3.74452458 3.68105806\n",
      " 3.61759154 3.55412502 3.4906585  3.42719199 3.36372547 3.30025895\n",
      " 3.23679243 3.17332591 3.10985939 3.04639288 2.98292636 2.91945984\n",
      " 2.85599332 2.7925268  2.72906028 2.66559377 2.60212725 2.53866073\n",
      " 2.47519421 2.41172769 2.34826118 2.28479466 2.22132814 2.15786162\n",
      " 2.0943951  2.03092858 1.96746207 1.90399555 1.84052903 1.77706251\n",
      " 1.71359599 1.65012947 1.58666296 1.52319644 1.45972992 1.3962634\n",
      " 1.33279688 1.26933037 1.20586385 1.14239733 1.07893081 1.01546429\n",
      " 0.95199777 0.88853126 0.82506474 0.76159822 0.6981317  0.63466518\n",
      " 0.57119866 0.50773215 0.44426563 0.38079911 0.31733259 0.25386607\n",
      " 0.19039955 0.12693304 0.06346652 0.        ] \n",
      " \n",
      "\n",
      "Extract every 10th element using the slice notation :\n",
      " \n",
      " [0.63466518 1.26933037 1.90399555 2.53866073 3.17332591 3.8079911\n",
      " 4.44265628 5.07732146 5.71198664] \n",
      " \n",
      "\n",
      "Extract elements where the absolute difference between sin and cos is < 0.1 : \n",
      " \n",
      " [0.76159822 0.82506474 3.87145761 3.93492413] \n",
      " \n",
      "\n"
     ]
    }
   ],
   "source": [
    "arr=np.linspace(0, 2*np.pi, num=100)\n",
    "every_10th_element = arr[10::10]\n",
    "reversed_arr = arr[::-1]\n",
    "\n",
    "indices = np.where(np.abs(np.sin(arr) - np.cos(arr)) < 0.1)\n",
    "selected_elements = arr[indices]\n",
    "print(\"Use np.linspace to create an array of 100 numbers between 0 and 2𝜋 (inclusive):\\n\", '\\n',arr, '\\n', '\\n')\n",
    "print(\"Reverse the array using the slice notation:\\n\", '\\n',reversed_arr, '\\n', '\\n')\n",
    "print(\"Extract every 10th element using the slice notation :\\n\", '\\n',every_10th_element, '\\n', '\\n')\n",
    "print(\"Extract elements where the absolute difference between sin and cos is < 0.1 : \\n\", '\\n',selected_elements, '\\n', '\\n')\n",
    "\n"
   ]
  },
  {
   "cell_type": "code",
   "execution_count": 6,
   "metadata": {},
   "outputs": [
    {
     "data": {
      "text/plain": [
       "<matplotlib.legend.Legend at 0x1f7d8e3b670>"
      ]
     },
     "execution_count": 6,
     "metadata": {},
     "output_type": "execute_result"
    },
    {
     "data": {
      "image/png": "[encoded data removed]",
      "text/plain": [
       "<Figure size 640x480 with 1 Axes>"
      ]
     },
     "metadata": {},
     "output_type": "display_data"
    }
   ],
   "source": [
    "#Optional part\n",
    "import matplotlib.pyplot as plt\n",
    "\n",
    "plt.plot(arr, np.sin(arr), label='sin(x)')\n",
    "plt.plot(arr, np.cos(arr), label='cos(x)')\n",
    "plt.scatter(selected_elements, np.sin(selected_elements), c='red', marker='o', label='|sin(x) - cos(x)| < 0.1')\n",
    "plt.legend()"
   ]
  },
  {
   "cell_type": "markdown",
   "metadata": {},
   "source": [
    "5\\. **Matrices**\n",
    "\n",
    "Create a matrix that shows the $10 \\times 10$ multiplication table.\n",
    "\n",
    " * Find the trace of the matrix\n",
    " * Extract the anti-diagonal matrix (this should be ```array([10, 18, 24, 28, 30, 30, 28, 24, 18, 10])```)\n",
    " * Extract the diagonal offset by 1 upwards (this should be ```array([ 2,  6, 12, 20, 30, 42, 56, 72, 90])```)"
   ]
  },
  {
   "cell_type": "code",
   "execution_count": 7,
   "metadata": {},
   "outputs": [
    {
     "name": "stdout",
     "output_type": "stream",
     "text": [
      "Multiplication Table:\n",
      " [[  1   2   3   4   5   6   7   8   9  10]\n",
      " [  2   4   6   8  10  12  14  16  18  20]\n",
      " [  3   6   9  12  15  18  21  24  27  30]\n",
      " [  4   8  12  16  20  24  28  32  36  40]\n",
      " [  5  10  15  20  25  30  35  40  45  50]\n",
      " [  6  12  18  24  30  36  42  48  54  60]\n",
      " [  7  14  21  28  35  42  49  56  63  70]\n",
      " [  8  16  24  32  40  48  56  64  72  80]\n",
      " [  9  18  27  36  45  54  63  72  81  90]\n",
      " [ 10  20  30  40  50  60  70  80  90 100]]\n",
      "\n",
      "Trace of the matrix: 385\n",
      "\n",
      "Anti-diagonal matrix:\n",
      " [10 18 24 28 30 30 28 24 18 10]\n",
      "\n",
      "Diagonal offset by 1 upwards:\n",
      " [ 2  6 12 20 30 42 56 72 90]\n"
     ]
    }
   ],
   "source": [
    "multiplication_table = np.outer(np.arange(1, 11), np.arange(1, 11))\n",
    "trace_mt = np.trace(multiplication_table)\n",
    "anti_diagonal_mt = np.diag(np.fliplr(multiplication_table))\n",
    "offset_diagonal_mt = np.diag(multiplication_table, k=1)\n",
    "\n",
    "print(\"Multiplication Table:\\n\", multiplication_table)\n",
    "print(\"\\nTrace of the matrix:\", trace_mt)\n",
    "print(\"\\nAnti-diagonal matrix:\\n\", anti_diagonal_mt)\n",
    "print(\"\\nDiagonal offset by 1 upwards:\\n\", offset_diagonal_mt)"
   ]
  },
  {
   "cell_type": "markdown",
   "metadata": {},
   "source": [
    "6\\. **Broadcasting**\n",
    "\n",
    "Use broadcasting to create a grid of distances.\n",
    "\n",
    "Route 66 crosses the following cities in the US: Chicago, Springfield, Saint-Louis, Tulsa, Oklahoma City, Amarillo, Santa Fe, Albuquerque, Flagstaff, Los Angeles.\n",
    "\n",
    "The corresponding positions in miles are: `0, 198, 303, 736, 871, 1175, 1475, 1544, 1913, 2448`\n",
    "\n",
    "  * Build a 2D grid of distances among each city along Route 66\n",
    "  * Convert the distances in km"
   ]
  },
  {
   "cell_type": "code",
   "execution_count": 8,
   "metadata": {},
   "outputs": [
    {
     "name": "stdout",
     "output_type": "stream",
     "text": [
      "Cities: ['Chicago', 'Springfield', 'Saint-Louis', 'Tulsa', 'Oklahoma City', 'Amarillo', 'Santa Fe', 'Albuquerque', 'Flagstaff', 'Los Angeles']\n",
      "\n",
      "Distance Matrix (Miles):\n",
      " [[   0  198  303  736  871 1175 1475 1544 1913 2448]\n",
      " [ 198    0  105  538  673  977 1277 1346 1715 2250]\n",
      " [ 303  105    0  433  568  872 1172 1241 1610 2145]\n",
      " [ 736  538  433    0  135  439  739  808 1177 1712]\n",
      " [ 871  673  568  135    0  304  604  673 1042 1577]\n",
      " [1175  977  872  439  304    0  300  369  738 1273]\n",
      " [1475 1277 1172  739  604  300    0   69  438  973]\n",
      " [1544 1346 1241  808  673  369   69    0  369  904]\n",
      " [1913 1715 1610 1177 1042  738  438  369    0  535]\n",
      " [2448 2250 2145 1712 1577 1273  973  904  535    0]]\n",
      "\n",
      "Distance Matrix (Kilometers):\n",
      " [[   0.       318.64932  487.63002 1184.47424 1401.73514 1890.9745\n",
      "  2373.7765  2484.82096 3078.66742 3939.66432]\n",
      " [ 318.64932    0.       168.9807   865.82492 1083.08582 1572.32518\n",
      "  2055.12718 2166.17164 2760.0181  3621.015  ]\n",
      " [ 487.63002  168.9807     0.       696.84422  914.10512 1403.34448\n",
      "  1886.14648 1997.19094 2591.0374  3452.0343 ]\n",
      " [1184.47424  865.82492  696.84422    0.       217.2609   706.50026\n",
      "  1189.30226 1300.34672 1894.19318 2755.19008]\n",
      " [1401.73514 1083.08582  914.10512  217.2609     0.       489.23936\n",
      "   972.04136 1083.08582 1676.93228 2537.92918]\n",
      " [1890.9745  1572.32518 1403.34448  706.50026  489.23936    0.\n",
      "   482.802    593.84646 1187.69292 2048.68982]\n",
      " [2373.7765  2055.12718 1886.14648 1189.30226  972.04136  482.802\n",
      "     0.       111.04446  704.89092 1565.88782]\n",
      " [2484.82096 2166.17164 1997.19094 1300.34672 1083.08582  593.84646\n",
      "   111.04446    0.       593.84646 1454.84336]\n",
      " [3078.66742 2760.0181  2591.0374  1894.19318 1676.93228 1187.69292\n",
      "   704.89092  593.84646    0.       860.9969 ]\n",
      " [3939.66432 3621.015   3452.0343  2755.19008 2537.92918 2048.68982\n",
      "  1565.88782 1454.84336  860.9969     0.     ]]\n"
     ]
    }
   ],
   "source": [
    "cities = [\"Chicago\", \"Springfield\", \"Saint-Louis\", \"Tulsa\", \"Oklahoma City\", \"Amarillo\", \"Santa Fe\", \"Albuquerque\", \"Flagstaff\", \"Los Angeles\"]\n",
    "\n",
    "mile_positions = np.array([0, 198, 303, 736, 871, 1175, 1475, 1544, 1913, 2448])\n",
    "\n",
    "distance_matrix_miles = np.abs(mile_positions - mile_positions[:, np.newaxis])\n",
    "\n",
    "miles_to_km = 1.60934\n",
    "\n",
    "distance_matrix_km = distance_matrix_miles * miles_to_km\n",
    "\n",
    "print(\"Cities:\", cities)\n",
    "print(\"\\nDistance Matrix (Miles):\\n\", distance_matrix_miles)\n",
    "print(\"\\nDistance Matrix (Kilometers):\\n\", distance_matrix_km)"
   ]
  },
  {
   "cell_type": "markdown",
   "metadata": {},
   "source": [
    "7\\. **Prime numbers sieve**\n",
    "\n",
    "Compute the prime numbers in the 0-N (start with N=99) range with a sieve (mask).\n",
    "\n",
    "  * Construct a shape (N,) boolean array, which is the mask\n",
    "  * Identify the multiples of each number starting from 2 and set accordingly the corresponding mask element\n",
    "  * Apply the mask to obtain an array of ordered prime numbers\n",
    "  * Check the performances (with `timeit`); how does it scale with N?\n",
    "  * Implement the optimization suggested in the [sieve of Eratosthenes](https://en.wikipedia.org/wiki/Sieve_of_Eratosthenes)"
   ]
  },
  {
   "cell_type": "code",
   "execution_count": 9,
   "metadata": {},
   "outputs": [
    {
     "name": "stdout",
     "output_type": "stream",
     "text": [
      "Prime numbers up to 99: [ 2  3  5  7 11 13 17 19 23 29 31 37 41 43 47 53 59 61 67 71 73 79 83 89\n",
      " 97]\n",
      "Time taken for N=99: 0.012074 seconds\n"
     ]
    }
   ],
   "source": [
    "import timeit\n",
    "\n",
    "def sieve_of_eratosthenes(N):\n",
    "    is_prime = np.ones(N + 1, dtype=bool)\n",
    "    is_prime[0:2] = False  \n",
    "\n",
    "    for i in range(2, int(np.sqrt(N)) + 1):\n",
    "        if is_prime[i]:\n",
    "            is_prime[i*i : N+1 : i] = False\n",
    "\n",
    "    primes = np.nonzero(is_prime)[0]\n",
    "    return primes\n",
    "\n",
    "N = 99\n",
    "time_taken = timeit.timeit(lambda: sieve_of_eratosthenes(N), number=1000)\n",
    "print(f\"Prime numbers up to {N}:\", sieve_of_eratosthenes(N))\n",
    "print(f\"Time taken for N={N}: {time_taken:.6f} seconds\")"
   ]
  },
  {
   "cell_type": "markdown",
   "metadata": {},
   "source": [
    "8\\. **Diffusion using random walk**\n",
    "\n",
    "Consider a simple random walk process: at each step in time, a walker jumps right or left (+1 or -1) with equal probability. The goal is to find the typical distance from the origin of many random walkers after a given amount of time.\n",
    "\n",
    "*Hint*: create a 2D array where each row represents a walker, and each column represents a time step.\n",
    "\n",
    "  * Take 1000 walkers and let them walk for 200 steps\n",
    "  * Use `randint` to create a 2D array of size $walkers \\times steps$ with values -1 or 1\n",
    "  * Calculate the walking distances for each walker (e.g. by summing the elements in each row)\n",
    "  * Take the square of the previously-obtained array (element-wise)\n",
    "  * Compute the mean of the squared distances at each step (i.e. the mean along the columns)\n",
    "  * **Optional**: plot the average distances ($\\sqrt(distance^2)$) as a function of time (step)"
   ]
  },
  {
   "cell_type": "code",
   "execution_count": 10,
   "metadata": {},
   "outputs": [
    {
     "data": {
      "image/png": "[encoded data removed]",
      "text/plain": [
       "<Figure size 640x480 with 1 Axes>"
      ]
     },
     "metadata": {},
     "output_type": "display_data"
    }
   ],
   "source": [
    "num_walkers = 1000\n",
    "num_steps = 200\n",
    "\n",
    "\n",
    "walkers = np.random.choice([-1, 1], size=(num_walkers, num_steps))\n",
    "distances = np.cumsum(walkers, axis=1)\n",
    "squared_distances = distances**2\n",
    "mean_squared_distances = np.mean(squared_distances, axis=0)\n",
    "average_distances = np.sqrt(mean_squared_distances)\n",
    "plt.plot(average_distances)\n",
    "plt.xlabel('Time Step')\n",
    "plt.ylabel('Average Distance')\n",
    "plt.title('Average Distance of Random Walkers over Time')\n",
    "plt.show()"
   ]
  },
  {
   "cell_type": "code",
   "execution_count": null,
   "metadata": {},
   "outputs": [],
   "source": []
  }
 ],
 "metadata": {
  "kernelspec": {
   "display_name": "Python 3 (ipykernel)",
   "language": "python",
   "name": "python3"
  },
  "language_info": {
   "codemirror_mode": {
    "name": "ipython",
    "version": 3
   },
   "file_extension": ".py",
   "mimetype": "text/x-python",
   "name": "python",
   "nbconvert_exporter": "python",
   "pygments_lexer": "ipython3",
   "version": "3.10.10"
  }
 },
 "nbformat": 4,
 "nbformat_minor": 2
}
