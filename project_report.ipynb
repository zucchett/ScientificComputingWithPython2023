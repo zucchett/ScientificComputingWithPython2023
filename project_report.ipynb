{
 "cells": [
  {
   "cell_type": "markdown",
   "id": "051b618e-52e2-4397-a827-a3e4c3d97f19",
   "metadata": {},
   "source": [
    "Project for Conway's Game of Life"
   ]
  },
  {
   "cell_type": "markdown",
   "id": "c345792b-be09-4e3f-af70-0ff9b194ef9b",
   "metadata": {},
   "source": [
    "**1. Introduction**"
   ]
  },
  {
   "cell_type": "markdown",
   "id": "ccb89932-5a46-4b0c-879d-a47930af0ea0",
   "metadata": {},
   "source": [
    "In this project, we'll start by implementing the basic rules and creating some simple examples. \n",
    "Then, we'll explore more complex patterns like still lifes, oscillators, and spaceships, analyzing their evolution in terms of cycles, occupancy, replication, and speed. "
   ]
  },
  {
   "cell_type": "markdown",
   "id": "b18b04cf-f601-4353-b68f-3791c2929e5f",
   "metadata": {},
   "source": [
    "**2. Implementation**\n",
    "\n",
    "\r\n",
    "Implementing Update Function: The core of the implementation involves writing the update_grid function, which applies the rules of the Game of Life to update the state of each cell based on its neighbors. This function will iterate over each cell in the grid, count its live neighbors, and apply the rules accordingly to generate the next generation of the grid.\r\n",
    "\r\n",
    "Initializing Patterns:ill define functions to initialize different patterns on the grid. These patterns include a random pattern, glider pattern, beehive pattern, toad pattern, and beacon pattern. Each pattern will be represented by a specific arrangement of live and dead cells on the grid.\r\n",
    "\r\n",
    "Updating Plot with Animation: We will create a function, update_plot, to update the plot for each frame of the animation. This function will utilize the update_grid function to generate successive generations of the grid and update the plot accordingly.\r\n",
    "\r\n",
    "Generating Animations: Finally, we will loop over the different patterns and grid sizes, initializing the grid with each pattern, creating an animation for each combination of pattern and grid size, and saving the animations as GIF files."
   ]
  },
  {
   "cell_type": "markdown",
   "id": "4be9e3a8-9b54-4a91-9e6f-abef70a51597",
   "metadata": {},
   "source": [
    "**Japheth Bidayan Duut -- Implementation of game rules and testing with simple examples**\n",
    "\n",
    "**Tonny Kipkosgei -- Analyses of evolution of patterns**\n",
    "\n"
   ]
  },
  {
   "cell_type": "markdown",
   "id": "98ac2293-2c1a-4e08-b6c5-43a70367cc31",
   "metadata": {},
   "source": [
    "**a. Implementing the game rules and testing with basic examples**"
   ]
  },
  {
   "cell_type": "markdown",
   "id": "aacdd4ae-4779-48d8-a9c4-ee507cea5151",
   "metadata": {},
   "source": [
    "Defining a 3x3 window that would be passed through the grid to extract the number of life neighbors each cell has.\n",
    "And then applying the following rules.\n",
    "For a live cell if the number of live neighbors is less than 2 or greater than 3, it dies. Otherwise it stays alive.\n",
    "For a dead cell if the number of live neighbors is exactly 3 it comes alive. Otherwise, it stays dead. \n",
    "We use np.copy() because we want to return a copy of the original grid which in it self is a new generation and its own entity.\n",
    "This would help us create the animated gifs by combining multiple grids."
   ]
  },
  {
   "cell_type": "code",
   "execution_count": 1,
   "id": "58d812e9-e884-43ae-86c9-8d3dd4e21285",
   "metadata": {
    "scrolled": true
   },
   "outputs": [],
   "source": [
    "import numpy as np\n",
    "import matplotlib.pyplot as plt\n",
    "import matplotlib.animation as animation\n",
    "\n",
    "# Function to update the grid based on the rules of the Game of Life\n",
    "def update_grid(grid):\n",
    "    new_grid = np.copy(grid)\n",
    "    for i in range(ROWS):\n",
    "        for j in range(COLS):\n",
    "            # Count live neighbors\n",
    "            live_neighbors = np.sum(grid[max(0, i-1):min(ROWS, i+2), max(0, j-1):min(COLS, j+2)]) - grid[i, j]\n",
    "            # Apply rules\n",
    "            if grid[i, j] == 1:\n",
    "                if live_neighbors < 2 or live_neighbors > 3:\n",
    "                    new_grid[i, j] = 0\n",
    "            else:\n",
    "                if live_neighbors == 3:\n",
    "                    new_grid[i, j] = 1\n",
    "    return new_grid"
   ]
  },
  {
   "cell_type": "markdown",
   "id": "e2bac88a-729a-46f0-88a6-b134aacc608e",
   "metadata": {},
   "source": [
    "**b. Initializing a Grid for particular patterns**"
   ]
  },
  {
   "cell_type": "code",
   "execution_count": 2,
   "id": "ed477e34-ce84-46d7-b993-05307738e7e4",
   "metadata": {},
   "outputs": [],
   "source": [
    "# random pattern\n",
    "# Function to initialize a random grid\n",
    "def random_pattern():\n",
    "    return np.random.choice([0, 1], size=(ROWS, COLS), p=[0.5, 0.5]) #randomly populate the grid with random integers between 0 and 1\n",
    "\n",
    "#spaceship patterns\n",
    "# Function to initialize a glider pattern\n",
    "def glider_pattern():\n",
    "    grid = np.zeros((ROWS, COLS), dtype=int)\n",
    "    grid[1, 2] = 1\n",
    "    grid[2, 3] = 1\n",
    "    grid[3, 1:4] = 1  \n",
    "    #all the above coordinates on the grid are initialized to 1 in order to ger a glider pattern\n",
    "    return grid\n",
    "\n",
    "#still life\n",
    "def beehive_pattern():\n",
    "    grid = np.zeros((ROWS, COLS), dtype=int)\n",
    "    grid[1, 2:4] = 1\n",
    "    grid[2, 1] = 1\n",
    "    grid[2, 4] = 1\n",
    "    grid[3, 2:4] = 1\n",
    "    return grid\n",
    "\n",
    "# Oscillators \n",
    "# function to initialize toad pattern\n",
    "def toad_pattern():\n",
    "    grid = np.zeros((ROWS, COLS), dtype=int)\n",
    "    positions = [(6, 5), (6, 6), (6, 7), (7, 4), (7, 5), (7, 6)]\n",
    "    for pos in positions:\n",
    "        grid[pos[0], pos[1]] = 1\n",
    "    return grid\n",
    "\n",
    "def beacon_pattern():\n",
    "    grid = np.zeros((ROWS, COLS), dtype=int)\n",
    "    beacon = [\n",
    "        (ROWS//2 - 2, COLS//2 - 2), (ROWS//2 - 2, COLS//2 - 1),\n",
    "        (ROWS//2 - 1, COLS//2 - 2), (ROWS//2 - 1, COLS//2 - 1),\n",
    "        (ROWS//2, COLS//2), (ROWS//2, COLS//2 + 1),\n",
    "        (ROWS//2 + 1, COLS//2), (ROWS//2 + 1, COLS//2 + 1)\n",
    "    ]\n",
    "    for pos in beacon:\n",
    "        grid[pos[0], pos[1]] = 1\n",
    "    return grid\n"
   ]
  },
  {
   "cell_type": "markdown",
   "id": "2c434f82-227a-4591-9fe4-a5c0928a6a21",
   "metadata": {},
   "source": [
    "**c. Running the game and creating the animated gifs for all patterns at all dimensions (the individual gifs will be uploaded together with the notebook)**"
   ]
  },
  {
   "cell_type": "code",
   "execution_count": 3,
   "id": "d1f7065d-aba8-4d16-ade1-0e29493a04b4",
   "metadata": {},
   "outputs": [
    {
     "data": {
      "image/png": "[encoded data removed]",
      "text/plain": [
       "<Figure size 640x480 with 1 Axes>"
      ]
     },
     "metadata": {},
     "output_type": "display_data"
    },
    {
     "name": "stderr",
     "output_type": "stream",
     "text": [
      "MovieWriter imagemagick unavailable; using Pillow instead.\n"
     ]
    },
    {
     "data": {
      "image/png": "[encoded data removed]",
      "text/plain": [
       "<Figure size 640x480 with 1 Axes>"
      ]
     },
     "metadata": {},
     "output_type": "display_data"
    },
    {
     "name": "stderr",
     "output_type": "stream",
     "text": [
      "MovieWriter imagemagick unavailable; using Pillow instead.\n"
     ]
    },
    {
     "data": {
      "image/png": "[encoded data removed]",
      "text/plain": [
       "<Figure size 640x480 with 1 Axes>"
      ]
     },
     "metadata": {},
     "output_type": "display_data"
    },
    {
     "name": "stderr",
     "output_type": "stream",
     "text": [
      "MovieWriter imagemagick unavailable; using Pillow instead.\n"
     ]
    },
    {
     "data": {
      "image/png": "[encoded data removed]",
      "text/plain": [
       "<Figure size 640x480 with 1 Axes>"
      ]
     },
     "metadata": {},
     "output_type": "display_data"
    },
    {
     "name": "stderr",
     "output_type": "stream",
     "text": [
      "MovieWriter imagemagick unavailable; using Pillow instead.\n"
     ]
    },
    {
     "data": {
      "image/png": "[encoded data removed]",
      "text/plain": [
       "<Figure size 640x480 with 1 Axes>"
      ]
     },
     "metadata": {},
     "output_type": "display_data"
    },
    {
     "name": "stderr",
     "output_type": "stream",
     "text": [
      "MovieWriter imagemagick unavailable; using Pillow instead.\n"
     ]
    },
    {
     "data": {
      "image/png": "[encoded data removed]",
      "text/plain": [
       "<Figure size 640x480 with 1 Axes>"
      ]
     },
     "metadata": {},
     "output_type": "display_data"
    },
    {
     "name": "stderr",
     "output_type": "stream",
     "text": [
      "MovieWriter imagemagick unavailable; using Pillow instead.\n"
     ]
    },
    {
     "data": {
      "image/png": "[encoded data removed]",
      "text/plain": [
       "<Figure size 640x480 with 1 Axes>"
      ]
     },
     "metadata": {},
     "output_type": "display_data"
    },
    {
     "name": "stderr",
     "output_type": "stream",
     "text": [
      "MovieWriter imagemagick unavailable; using Pillow instead.\n"
     ]
    },
    {
     "data": {
      "image/png": "[encoded data removed]",
      "text/plain": [
       "<Figure size 640x480 with 1 Axes>"
      ]
     },
     "metadata": {},
     "output_type": "display_data"
    },
    {
     "name": "stderr",
     "output_type": "stream",
     "text": [
      "MovieWriter imagemagick unavailable; using Pillow instead.\n"
     ]
    },
    {
     "data": {
      "image/png": "[encoded data removed]",
      "text/plain": [
       "<Figure size 640x480 with 1 Axes>"
      ]
     },
     "metadata": {},
     "output_type": "display_data"
    },
    {
     "name": "stderr",
     "output_type": "stream",
     "text": [
      "MovieWriter imagemagick unavailable; using Pillow instead.\n"
     ]
    },
    {
     "data": {
      "image/png": "[encoded data removed]",
      "text/plain": [
       "<Figure size 640x480 with 1 Axes>"
      ]
     },
     "metadata": {},
     "output_type": "display_data"
    },
    {
     "name": "stderr",
     "output_type": "stream",
     "text": [
      "MovieWriter imagemagick unavailable; using Pillow instead.\n"
     ]
    },
    {
     "data": {
      "image/png": "[encoded data removed]",
      "text/plain": [
       "<Figure size 640x480 with 1 Axes>"
      ]
     },
     "metadata": {},
     "output_type": "display_data"
    },
    {
     "name": "stderr",
     "output_type": "stream",
     "text": [
      "MovieWriter imagemagick unavailable; using Pillow instead.\n"
     ]
    },
    {
     "data": {
      "image/png": "[encoded data removed]",
      "text/plain": [
       "<Figure size 640x480 with 1 Axes>"
      ]
     },
     "metadata": {},
     "output_type": "display_data"
    },
    {
     "name": "stderr",
     "output_type": "stream",
     "text": [
      "MovieWriter imagemagick unavailable; using Pillow instead.\n"
     ]
    },
    {
     "data": {
      "image/png": "[encoded data removed]",
      "text/plain": [
       "<Figure size 640x480 with 1 Axes>"
      ]
     },
     "metadata": {},
     "output_type": "display_data"
    },
    {
     "name": "stderr",
     "output_type": "stream",
     "text": [
      "MovieWriter imagemagick unavailable; using Pillow instead.\n"
     ]
    },
    {
     "data": {
      "image/png": "[encoded data removed]",
      "text/plain": [
       "<Figure size 640x480 with 1 Axes>"
      ]
     },
     "metadata": {},
     "output_type": "display_data"
    },
    {
     "name": "stderr",
     "output_type": "stream",
     "text": [
      "MovieWriter imagemagick unavailable; using Pillow instead.\n"
     ]
    },
    {
     "data": {
      "image/png": "[encoded data removed]",
      "text/plain": [
       "<Figure size 640x480 with 1 Axes>"
      ]
     },
     "metadata": {},
     "output_type": "display_data"
    },
    {
     "name": "stderr",
     "output_type": "stream",
     "text": [
      "MovieWriter imagemagick unavailable; using Pillow instead.\n"
     ]
    }
   ],
   "source": [
    "# Function to update the plot for each frame of the animation\n",
    "def update_plot(frame, img, grid):\n",
    "    new_grid = update_grid(grid)\n",
    "    img.set_array(new_grid)\n",
    "    grid[:] = new_grid[:]\n",
    "    return img,\n",
    "\n",
    "nums = [30, 60, 100] #different grid dimensions\n",
    "patterns = [random_pattern, beacon_pattern, glider_pattern,  beehive_pattern, toad_pattern] #list of patterns\n",
    "i = 0\n",
    "for pattern in patterns:\n",
    "    for num in nums:\n",
    "        ROWS = num\n",
    "        COLS = num\n",
    "        # Initialize the grid\n",
    "        grid =  pattern()\n",
    "        \n",
    "        # Create a figure and axis\n",
    "        fig, ax = plt.subplots()\n",
    "        img = ax.imshow(grid, interpolation='nearest')\n",
    "        \n",
    "        # Update the plot using animation\n",
    "        ani = animation.FuncAnimation(fig, update_plot, fargs=(img, grid), frames=200, interval=50)\n",
    "        \n",
    "        plt.show()\n",
    "        ani.save(f'gol_animation_{pattern.__name__}_{num}.gif', writer='imagemagick', fps=10)"
   ]
  },
  {
   "cell_type": "markdown",
   "id": "923c5152-2b6a-4b06-82ba-465a60186f8e",
   "metadata": {},
   "source": [
    "**3. Results and Analyses**"
   ]
  },
  {
   "cell_type": "code",
   "execution_count": 4,
   "id": "3412d5ad-0fda-4338-9239-15bee048d413",
   "metadata": {},
   "outputs": [
    {
     "data": {
      "text/html": [
       "<div>\n",
       "<style scoped>\n",
       "    .dataframe tbody tr th:only-of-type {\n",
       "        vertical-align: middle;\n",
       "    }\n",
       "\n",
       "    .dataframe tbody tr th {\n",
       "        vertical-align: top;\n",
       "    }\n",
       "\n",
       "    .dataframe thead th {\n",
       "        text-align: right;\n",
       "    }\n",
       "</style>\n",
       "<table border=\"1\" class=\"dataframe\">\n",
       "  <thead>\n",
       "    <tr style=\"text-align: right;\">\n",
       "      <th></th>\n",
       "      <th>random - Occupancy</th>\n",
       "      <th>Glider - Occupancy</th>\n",
       "      <th>Beehive - Occupancy</th>\n",
       "      <th>Toad - Occupancy</th>\n",
       "      <th>Beacon - Occupancy</th>\n",
       "    </tr>\n",
       "  </thead>\n",
       "  <tbody>\n",
       "    <tr>\n",
       "      <th>0</th>\n",
       "      <td>2967</td>\n",
       "      <td>5</td>\n",
       "      <td>6</td>\n",
       "      <td>6</td>\n",
       "      <td>6</td>\n",
       "    </tr>\n",
       "    <tr>\n",
       "      <th>1</th>\n",
       "      <td>2711</td>\n",
       "      <td>5</td>\n",
       "      <td>6</td>\n",
       "      <td>6</td>\n",
       "      <td>8</td>\n",
       "    </tr>\n",
       "    <tr>\n",
       "      <th>2</th>\n",
       "      <td>2670</td>\n",
       "      <td>5</td>\n",
       "      <td>6</td>\n",
       "      <td>6</td>\n",
       "      <td>6</td>\n",
       "    </tr>\n",
       "    <tr>\n",
       "      <th>3</th>\n",
       "      <td>2531</td>\n",
       "      <td>5</td>\n",
       "      <td>6</td>\n",
       "      <td>6</td>\n",
       "      <td>8</td>\n",
       "    </tr>\n",
       "    <tr>\n",
       "      <th>4</th>\n",
       "      <td>2382</td>\n",
       "      <td>5</td>\n",
       "      <td>6</td>\n",
       "      <td>6</td>\n",
       "      <td>6</td>\n",
       "    </tr>\n",
       "    <tr>\n",
       "      <th>...</th>\n",
       "      <td>...</td>\n",
       "      <td>...</td>\n",
       "      <td>...</td>\n",
       "      <td>...</td>\n",
       "      <td>...</td>\n",
       "    </tr>\n",
       "    <tr>\n",
       "      <th>95</th>\n",
       "      <td>893</td>\n",
       "      <td>5</td>\n",
       "      <td>6</td>\n",
       "      <td>6</td>\n",
       "      <td>8</td>\n",
       "    </tr>\n",
       "    <tr>\n",
       "      <th>96</th>\n",
       "      <td>848</td>\n",
       "      <td>5</td>\n",
       "      <td>6</td>\n",
       "      <td>6</td>\n",
       "      <td>6</td>\n",
       "    </tr>\n",
       "    <tr>\n",
       "      <th>97</th>\n",
       "      <td>857</td>\n",
       "      <td>5</td>\n",
       "      <td>6</td>\n",
       "      <td>6</td>\n",
       "      <td>8</td>\n",
       "    </tr>\n",
       "    <tr>\n",
       "      <th>98</th>\n",
       "      <td>844</td>\n",
       "      <td>5</td>\n",
       "      <td>6</td>\n",
       "      <td>6</td>\n",
       "      <td>6</td>\n",
       "    </tr>\n",
       "    <tr>\n",
       "      <th>99</th>\n",
       "      <td>815</td>\n",
       "      <td>5</td>\n",
       "      <td>6</td>\n",
       "      <td>6</td>\n",
       "      <td>8</td>\n",
       "    </tr>\n",
       "  </tbody>\n",
       "</table>\n",
       "<p>100 rows × 5 columns</p>\n",
       "</div>"
      ],
      "text/plain": [
       "    random - Occupancy  Glider - Occupancy  Beehive - Occupancy  \\\n",
       "0                 2967                   5                    6   \n",
       "1                 2711                   5                    6   \n",
       "2                 2670                   5                    6   \n",
       "3                 2531                   5                    6   \n",
       "4                 2382                   5                    6   \n",
       "..                 ...                 ...                  ...   \n",
       "95                 893                   5                    6   \n",
       "96                 848                   5                    6   \n",
       "97                 857                   5                    6   \n",
       "98                 844                   5                    6   \n",
       "99                 815                   5                    6   \n",
       "\n",
       "    Toad - Occupancy  Beacon - Occupancy  \n",
       "0                  6                   6  \n",
       "1                  6                   8  \n",
       "2                  6                   6  \n",
       "3                  6                   8  \n",
       "4                  6                   6  \n",
       "..               ...                 ...  \n",
       "95                 6                   8  \n",
       "96                 6                   6  \n",
       "97                 6                   8  \n",
       "98                 6                   6  \n",
       "99                 6                   8  \n",
       "\n",
       "[100 rows x 5 columns]"
      ]
     },
     "metadata": {},
     "output_type": "display_data"
    },
    {
     "data": {
      "text/html": [
       "<div>\n",
       "<style scoped>\n",
       "    .dataframe tbody tr th:only-of-type {\n",
       "        vertical-align: middle;\n",
       "    }\n",
       "\n",
       "    .dataframe tbody tr th {\n",
       "        vertical-align: top;\n",
       "    }\n",
       "\n",
       "    .dataframe thead th {\n",
       "        text-align: right;\n",
       "    }\n",
       "</style>\n",
       "<table border=\"1\" class=\"dataframe\">\n",
       "  <thead>\n",
       "    <tr style=\"text-align: right;\">\n",
       "      <th></th>\n",
       "      <th>random - Replication/Heat</th>\n",
       "      <th>Glider - Replication/Heat</th>\n",
       "      <th>Beehive - Replication/Heat</th>\n",
       "      <th>Toad - Replication/Heat</th>\n",
       "      <th>Beacon - Replication/Heat</th>\n",
       "    </tr>\n",
       "  </thead>\n",
       "  <tbody>\n",
       "    <tr>\n",
       "      <th>0</th>\n",
       "      <td>5004</td>\n",
       "      <td>4</td>\n",
       "      <td>0</td>\n",
       "      <td>8</td>\n",
       "      <td>2</td>\n",
       "    </tr>\n",
       "    <tr>\n",
       "      <th>1</th>\n",
       "      <td>4955</td>\n",
       "      <td>4</td>\n",
       "      <td>0</td>\n",
       "      <td>0</td>\n",
       "      <td>0</td>\n",
       "    </tr>\n",
       "    <tr>\n",
       "      <th>2</th>\n",
       "      <td>4965</td>\n",
       "      <td>8</td>\n",
       "      <td>0</td>\n",
       "      <td>8</td>\n",
       "      <td>2</td>\n",
       "    </tr>\n",
       "    <tr>\n",
       "      <th>3</th>\n",
       "      <td>4991</td>\n",
       "      <td>8</td>\n",
       "      <td>0</td>\n",
       "      <td>0</td>\n",
       "      <td>0</td>\n",
       "    </tr>\n",
       "    <tr>\n",
       "      <th>4</th>\n",
       "      <td>5035</td>\n",
       "      <td>8</td>\n",
       "      <td>0</td>\n",
       "      <td>8</td>\n",
       "      <td>2</td>\n",
       "    </tr>\n",
       "    <tr>\n",
       "      <th>...</th>\n",
       "      <td>...</td>\n",
       "      <td>...</td>\n",
       "      <td>...</td>\n",
       "      <td>...</td>\n",
       "      <td>...</td>\n",
       "    </tr>\n",
       "    <tr>\n",
       "      <th>95</th>\n",
       "      <td>4969</td>\n",
       "      <td>10</td>\n",
       "      <td>0</td>\n",
       "      <td>0</td>\n",
       "      <td>0</td>\n",
       "    </tr>\n",
       "    <tr>\n",
       "      <th>96</th>\n",
       "      <td>4999</td>\n",
       "      <td>10</td>\n",
       "      <td>0</td>\n",
       "      <td>8</td>\n",
       "      <td>2</td>\n",
       "    </tr>\n",
       "    <tr>\n",
       "      <th>97</th>\n",
       "      <td>4972</td>\n",
       "      <td>10</td>\n",
       "      <td>0</td>\n",
       "      <td>0</td>\n",
       "      <td>0</td>\n",
       "    </tr>\n",
       "    <tr>\n",
       "      <th>98</th>\n",
       "      <td>4958</td>\n",
       "      <td>10</td>\n",
       "      <td>0</td>\n",
       "      <td>8</td>\n",
       "      <td>2</td>\n",
       "    </tr>\n",
       "    <tr>\n",
       "      <th>99</th>\n",
       "      <td>5102</td>\n",
       "      <td>10</td>\n",
       "      <td>0</td>\n",
       "      <td>0</td>\n",
       "      <td>0</td>\n",
       "    </tr>\n",
       "  </tbody>\n",
       "</table>\n",
       "<p>100 rows × 5 columns</p>\n",
       "</div>"
      ],
      "text/plain": [
       "    random - Replication/Heat  Glider - Replication/Heat  \\\n",
       "0                        5004                          4   \n",
       "1                        4955                          4   \n",
       "2                        4965                          8   \n",
       "3                        4991                          8   \n",
       "4                        5035                          8   \n",
       "..                        ...                        ...   \n",
       "95                       4969                         10   \n",
       "96                       4999                         10   \n",
       "97                       4972                         10   \n",
       "98                       4958                         10   \n",
       "99                       5102                         10   \n",
       "\n",
       "    Beehive - Replication/Heat  Toad - Replication/Heat  \\\n",
       "0                            0                        8   \n",
       "1                            0                        0   \n",
       "2                            0                        8   \n",
       "3                            0                        0   \n",
       "4                            0                        8   \n",
       "..                         ...                      ...   \n",
       "95                           0                        0   \n",
       "96                           0                        8   \n",
       "97                           0                        0   \n",
       "98                           0                        8   \n",
       "99                           0                        0   \n",
       "\n",
       "    Beacon - Replication/Heat  \n",
       "0                           2  \n",
       "1                           0  \n",
       "2                           2  \n",
       "3                           0  \n",
       "4                           2  \n",
       "..                        ...  \n",
       "95                          0  \n",
       "96                          2  \n",
       "97                          0  \n",
       "98                          2  \n",
       "99                          0  \n",
       "\n",
       "[100 rows x 5 columns]"
      ]
     },
     "metadata": {},
     "output_type": "display_data"
    },
    {
     "name": "stdout",
     "output_type": "stream",
     "text": [
      "\n",
      "Frequency:\n",
      "random: 47\n",
      "Glider: 1\n",
      "Beehive: 1\n",
      "Toad: 1\n",
      "Beacon: 2\n"
     ]
    }
   ],
   "source": [
    "import numpy as np\n",
    "import pandas as pd\n",
    "\n",
    "# Function to analyze pattern characteristics\n",
    "def analyze_pattern(pattern_func, cycles):\n",
    "    grid = pattern_func()\n",
    "    occupancy = []\n",
    "    replication_heat = []\n",
    "    for _ in range(cycles):\n",
    "        grid = update_grid(grid)\n",
    "        occupancy.append(np.sum(grid))\n",
    "        replication_heat.append(np.sum(grid != pattern_func()))\n",
    "    return {\n",
    "        \"Occupancy\": occupancy,\n",
    "        \"Replication/Heat\": replication_heat\n",
    "    }\n",
    "\n",
    "# Define patterns\n",
    "patterns = {\n",
    "    \"random\": random_pattern,\n",
    "    \"Glider\": glider_pattern,\n",
    "    \"Beehive\": beehive_pattern,\n",
    "    \"Toad\": toad_pattern,\n",
    "    \"Beacon\": beacon_pattern\n",
    "}\n",
    "\n",
    "# Analyze patterns\n",
    "pattern_data = {}\n",
    "cycles = 100\n",
    "for pattern_name, pattern_func in patterns.items():\n",
    "    pattern_data[pattern_name] = analyze_pattern(pattern_func, cycles)\n",
    "\n",
    "# Convert data to DataFrame\n",
    "df = pd.DataFrame(index=range(cycles))\n",
    "for pattern_name, data in pattern_data.items():\n",
    "    for key, values in data.items():\n",
    "        df[f\"{pattern_name} - {key}\"] = values\n",
    "\n",
    "# Display the DataFrame\n",
    "\n",
    "first_df = df.iloc[:,::2]\n",
    "display(first_df)\n",
    "second_df = df.iloc[:,1::2]\n",
    "display(second_df)\n",
    "\n",
    "\n",
    "# Function to calculate frequency\n",
    "def calculate_frequency(occupancy):\n",
    "    seen = set()\n",
    "    for i, occ in enumerate(occupancy):\n",
    "        if occ.tobytes() in seen:\n",
    "            return i\n",
    "        seen.add(occ.tobytes())\n",
    "    return None\n",
    "    \n",
    "# Calculate frequency for each pattern\n",
    "frequencies = {}\n",
    "for pattern_name, data in pattern_data.items():\n",
    "    frequency = calculate_frequency(data[\"Occupancy\"])\n",
    "    frequencies[pattern_name] = frequency\n",
    "\n",
    "# Display the DataFrame\n",
    "# print(\"\\nDataframe:\\n\", df)\n",
    "print(\"\\nFrequency:\")\n",
    "for pattern_name, frequency in frequencies.items():\n",
    "    print(f\"{pattern_name}: {frequency}\")"
   ]
  },
  {
   "cell_type": "markdown",
   "id": "6c004cdf-22b0-42cf-8412-7e8cf26621db",
   "metadata": {},
   "source": [
    "**Analyses**:\n",
    "The random pattern exhibits fluctuating occupancy levels, with a substantial replication/heat value suggesting frequent changes in cell states. for the Glider, Beehive, and Toad patterns they showcase consistent occupancy and replication/heat metrics, indicating stable configurations. The Beacon pattern stands out with a slightly higher occupancy and replication/heat, suggesting intermittent changes. Also, while the Glider pattern demonstrates a periodic behavior with a frequency of 1, other patterns exhibit a frequency of 1 or 2, showcasing varying degrees of regularity in their configurations.\n"
   ]
  },
  {
   "cell_type": "markdown",
   "id": "489ce071-7210-4b64-8f2c-067cd1ee55d4",
   "metadata": {},
   "source": [
    "**4. Conclusion** "
   ]
  },
  {
   "cell_type": "markdown",
   "id": "6c6b661b-36da-4aba-ab93-0c4db679d935",
   "metadata": {},
   "source": [
    "our implementation and analysis of the Game of Life patterns provide valuable insights into the dynamics of cellular automata. We've successfully implemented the basic rules, explored various patterns, and analyzed their characteristics in terms of occupancy, replication, and frequency. These findings not only demonstrate the diverse behaviors exhibited by different patterns but also highlight the underlying principles governing their evolution. "
   ]
  }
 ],
 "metadata": {
  "kernelspec": {
   "display_name": "Python 3 (ipykernel)",
   "language": "python",
   "name": "python3"
  },
  "language_info": {
   "codemirror_mode": {
    "name": "ipython",
    "version": 3
   },
   "file_extension": ".py",
   "mimetype": "text/x-python",
   "name": "python",
   "nbconvert_exporter": "python",
   "pygments_lexer": "ipython3",
   "version": "3.12.0"
  }
 },
 "nbformat": 4,
 "nbformat_minor": 5
}
