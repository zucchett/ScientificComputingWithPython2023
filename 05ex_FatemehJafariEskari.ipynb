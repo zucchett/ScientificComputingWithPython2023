{
 "cells": [
  {
   "cell_type": "markdown",
   "metadata": {},
   "source": [
    "1\\. **Pandas DataFrame**\n",
    "\n",
    "This exercise consists in analyzing a dataset containg timing information from a series of Time-to-Digital-Converters (TDC) implemented in a pair of FPGAs. Each measurement (i.e. each row of the input file) consists of a flag that specifies the type of message ('HEAD', which in this case is always 1), two addresses of the TDC providing the signal ('FPGA' and 'TDC_CHANNEL'), and the timing information ('ORBIT_CNT', 'BX_COUNTER', and 'TDC_MEAS'). Each TDC count corresponds to 25/30 ns, whereas a unit of BX_COUNTER corresponds to 25 ns, and the ORBIT_CNT is increased every `x` BX_COUNTER. This allows to store the time in a similar way to hours, minutes and seconds."
   ]
  },
  {
   "cell_type": "code",
   "execution_count": 1,
   "metadata": {},
   "outputs": [],
   "source": [
    "# If haven't downloaded it yet, please get the data file with wget\n",
    "#!wget https://www.dropbox.com/s/xvjzaxzz3ysphme/data_000637.txt -P ./data/"
   ]
  },
  {
   "cell_type": "markdown",
   "metadata": {},
   "source": [
    "1\\. Create a Pandas DataFrame reading N rows of the `data/data_000637.txt` dataset. Choose N to be smaller than or equal to the maximum number of rows and larger that 10k (check the documentation)."
   ]
  },
  {
   "cell_type": "code",
   "execution_count": 1,
   "metadata": {},
   "outputs": [
    {
     "data": {
      "text/html": [
       "<div>\n",
       "<style scoped>\n",
       "    .dataframe tbody tr th:only-of-type {\n",
       "        vertical-align: middle;\n",
       "    }\n",
       "\n",
       "    .dataframe tbody tr th {\n",
       "        vertical-align: top;\n",
       "    }\n",
       "\n",
       "    .dataframe thead th {\n",
       "        text-align: right;\n",
       "    }\n",
       "</style>\n",
       "<table border=\"1\" class=\"dataframe\">\n",
       "  <thead>\n",
       "    <tr style=\"text-align: right;\">\n",
       "      <th></th>\n",
       "      <th>HEAD</th>\n",
       "      <th>FPGA</th>\n",
       "      <th>TDC_CHANNEL</th>\n",
       "      <th>ORBIT_CNT</th>\n",
       "      <th>BX_COUNTER</th>\n",
       "      <th>TDC_MEAS</th>\n",
       "    </tr>\n",
       "  </thead>\n",
       "  <tbody>\n",
       "    <tr>\n",
       "      <th>0</th>\n",
       "      <td>1</td>\n",
       "      <td>0</td>\n",
       "      <td>123</td>\n",
       "      <td>3869200167</td>\n",
       "      <td>2374</td>\n",
       "      <td>26</td>\n",
       "    </tr>\n",
       "    <tr>\n",
       "      <th>1</th>\n",
       "      <td>1</td>\n",
       "      <td>0</td>\n",
       "      <td>124</td>\n",
       "      <td>3869200167</td>\n",
       "      <td>2374</td>\n",
       "      <td>27</td>\n",
       "    </tr>\n",
       "    <tr>\n",
       "      <th>2</th>\n",
       "      <td>1</td>\n",
       "      <td>0</td>\n",
       "      <td>63</td>\n",
       "      <td>3869200167</td>\n",
       "      <td>2553</td>\n",
       "      <td>28</td>\n",
       "    </tr>\n",
       "    <tr>\n",
       "      <th>3</th>\n",
       "      <td>1</td>\n",
       "      <td>0</td>\n",
       "      <td>64</td>\n",
       "      <td>3869200167</td>\n",
       "      <td>2558</td>\n",
       "      <td>19</td>\n",
       "    </tr>\n",
       "    <tr>\n",
       "      <th>4</th>\n",
       "      <td>1</td>\n",
       "      <td>0</td>\n",
       "      <td>64</td>\n",
       "      <td>3869200167</td>\n",
       "      <td>2760</td>\n",
       "      <td>25</td>\n",
       "    </tr>\n",
       "    <tr>\n",
       "      <th>...</th>\n",
       "      <td>...</td>\n",
       "      <td>...</td>\n",
       "      <td>...</td>\n",
       "      <td>...</td>\n",
       "      <td>...</td>\n",
       "      <td>...</td>\n",
       "    </tr>\n",
       "    <tr>\n",
       "      <th>34995</th>\n",
       "      <td>1</td>\n",
       "      <td>0</td>\n",
       "      <td>47</td>\n",
       "      <td>3869200515</td>\n",
       "      <td>2127</td>\n",
       "      <td>20</td>\n",
       "    </tr>\n",
       "    <tr>\n",
       "      <th>34996</th>\n",
       "      <td>1</td>\n",
       "      <td>0</td>\n",
       "      <td>80</td>\n",
       "      <td>3869200515</td>\n",
       "      <td>2128</td>\n",
       "      <td>19</td>\n",
       "    </tr>\n",
       "    <tr>\n",
       "      <th>34997</th>\n",
       "      <td>1</td>\n",
       "      <td>0</td>\n",
       "      <td>48</td>\n",
       "      <td>3869200515</td>\n",
       "      <td>2123</td>\n",
       "      <td>8</td>\n",
       "    </tr>\n",
       "    <tr>\n",
       "      <th>34998</th>\n",
       "      <td>1</td>\n",
       "      <td>1</td>\n",
       "      <td>48</td>\n",
       "      <td>3869200515</td>\n",
       "      <td>2285</td>\n",
       "      <td>16</td>\n",
       "    </tr>\n",
       "    <tr>\n",
       "      <th>34999</th>\n",
       "      <td>1</td>\n",
       "      <td>0</td>\n",
       "      <td>63</td>\n",
       "      <td>3869200515</td>\n",
       "      <td>2315</td>\n",
       "      <td>26</td>\n",
       "    </tr>\n",
       "  </tbody>\n",
       "</table>\n",
       "<p>35000 rows × 6 columns</p>\n",
       "</div>"
      ],
      "text/plain": [
       "       HEAD  FPGA  TDC_CHANNEL   ORBIT_CNT  BX_COUNTER  TDC_MEAS\n",
       "0         1     0          123  3869200167        2374        26\n",
       "1         1     0          124  3869200167        2374        27\n",
       "2         1     0           63  3869200167        2553        28\n",
       "3         1     0           64  3869200167        2558        19\n",
       "4         1     0           64  3869200167        2760        25\n",
       "...     ...   ...          ...         ...         ...       ...\n",
       "34995     1     0           47  3869200515        2127        20\n",
       "34996     1     0           80  3869200515        2128        19\n",
       "34997     1     0           48  3869200515        2123         8\n",
       "34998     1     1           48  3869200515        2285        16\n",
       "34999     1     0           63  3869200515        2315        26\n",
       "\n",
       "[35000 rows x 6 columns]"
      ]
     },
     "execution_count": 1,
     "metadata": {},
     "output_type": "execute_result"
    }
   ],
   "source": [
    "import pandas as pd\n",
    "N = 35000\n",
    "d = pd.read_csv('data_000637.txt', header=0, nrows= N,  skiprows = 0)\n",
    "d"
   ]
  },
  {
   "cell_type": "markdown",
   "metadata": {},
   "source": [
    "2\\. Estimate the number of BX in a ORBIT (the value `x`).\n",
    "\n",
    "*Hint*: check when the BX counter reaches the maximum value before being reset to 0."
   ]
  },
  {
   "cell_type": "code",
   "execution_count": 5,
   "metadata": {},
   "outputs": [
    {
     "name": "stdout",
     "output_type": "stream",
     "text": [
      "3564\n"
     ]
    }
   ],
   "source": [
    "x = max(d[\"BX_COUNTER\"]) + 1   \n",
    "print(x)"
   ]
  },
  {
   "cell_type": "markdown",
   "metadata": {},
   "source": [
    "3\\. Create a new column with the absolute time in ns (as a combination of the other three columns with timing information) since the beginning of the data acquisition, and convert the new column to a Time Series."
   ]
  },
  {
   "cell_type": "code",
   "execution_count": 10,
   "metadata": {},
   "outputs": [
    {
     "data": {
      "text/html": [
       "<div>\n",
       "<style scoped>\n",
       "    .dataframe tbody tr th:only-of-type {\n",
       "        vertical-align: middle;\n",
       "    }\n",
       "\n",
       "    .dataframe tbody tr th {\n",
       "        vertical-align: top;\n",
       "    }\n",
       "\n",
       "    .dataframe thead th {\n",
       "        text-align: right;\n",
       "    }\n",
       "</style>\n",
       "<table border=\"1\" class=\"dataframe\">\n",
       "  <thead>\n",
       "    <tr style=\"text-align: right;\">\n",
       "      <th></th>\n",
       "      <th>HEAD</th>\n",
       "      <th>FPGA</th>\n",
       "      <th>TDC_CHANNEL</th>\n",
       "      <th>ORBIT_CNT</th>\n",
       "      <th>BX_COUNTER</th>\n",
       "      <th>TDC_MEAS</th>\n",
       "      <th>ABSOLUTE_TIME_NS</th>\n",
       "      <th>ABSOLUTE_TIME_SERIES</th>\n",
       "      <th>ABSLUTE_TIME_NS</th>\n",
       "    </tr>\n",
       "  </thead>\n",
       "  <tbody>\n",
       "    <tr>\n",
       "      <th>0</th>\n",
       "      <td>1</td>\n",
       "      <td>0</td>\n",
       "      <td>123</td>\n",
       "      <td>3869200167</td>\n",
       "      <td>2374</td>\n",
       "      <td>26</td>\n",
       "      <td>0.000000e+00</td>\n",
       "      <td>1970-01-04 23:45:45.734939071</td>\n",
       "      <td>3.447457e+14</td>\n",
       "    </tr>\n",
       "    <tr>\n",
       "      <th>1</th>\n",
       "      <td>1</td>\n",
       "      <td>0</td>\n",
       "      <td>124</td>\n",
       "      <td>3869200167</td>\n",
       "      <td>2374</td>\n",
       "      <td>27</td>\n",
       "      <td>8.125000e-01</td>\n",
       "      <td>1970-01-04 23:45:45.734939072</td>\n",
       "      <td>3.447457e+14</td>\n",
       "    </tr>\n",
       "    <tr>\n",
       "      <th>2</th>\n",
       "      <td>1</td>\n",
       "      <td>0</td>\n",
       "      <td>63</td>\n",
       "      <td>3869200167</td>\n",
       "      <td>2553</td>\n",
       "      <td>28</td>\n",
       "      <td>4.476625e+03</td>\n",
       "      <td>1970-01-04 23:45:45.734943548</td>\n",
       "      <td>3.447457e+14</td>\n",
       "    </tr>\n",
       "    <tr>\n",
       "      <th>3</th>\n",
       "      <td>1</td>\n",
       "      <td>0</td>\n",
       "      <td>64</td>\n",
       "      <td>3869200167</td>\n",
       "      <td>2558</td>\n",
       "      <td>19</td>\n",
       "      <td>4.594125e+03</td>\n",
       "      <td>1970-01-04 23:45:45.734943665</td>\n",
       "      <td>3.447457e+14</td>\n",
       "    </tr>\n",
       "    <tr>\n",
       "      <th>4</th>\n",
       "      <td>1</td>\n",
       "      <td>0</td>\n",
       "      <td>64</td>\n",
       "      <td>3869200167</td>\n",
       "      <td>2760</td>\n",
       "      <td>25</td>\n",
       "      <td>9.649125e+03</td>\n",
       "      <td>1970-01-04 23:45:45.734948720</td>\n",
       "      <td>3.447457e+14</td>\n",
       "    </tr>\n",
       "    <tr>\n",
       "      <th>...</th>\n",
       "      <td>...</td>\n",
       "      <td>...</td>\n",
       "      <td>...</td>\n",
       "      <td>...</td>\n",
       "      <td>...</td>\n",
       "      <td>...</td>\n",
       "      <td>...</td>\n",
       "      <td>...</td>\n",
       "      <td>...</td>\n",
       "    </tr>\n",
       "    <tr>\n",
       "      <th>34995</th>\n",
       "      <td>1</td>\n",
       "      <td>0</td>\n",
       "      <td>47</td>\n",
       "      <td>3869200515</td>\n",
       "      <td>2127</td>\n",
       "      <td>20</td>\n",
       "      <td>3.100062e+07</td>\n",
       "      <td>1970-01-04 23:45:45.765939691</td>\n",
       "      <td>3.447458e+14</td>\n",
       "    </tr>\n",
       "    <tr>\n",
       "      <th>34996</th>\n",
       "      <td>1</td>\n",
       "      <td>0</td>\n",
       "      <td>80</td>\n",
       "      <td>3869200515</td>\n",
       "      <td>2128</td>\n",
       "      <td>19</td>\n",
       "      <td>3.100064e+07</td>\n",
       "      <td>1970-01-04 23:45:45.765939715</td>\n",
       "      <td>3.447458e+14</td>\n",
       "    </tr>\n",
       "    <tr>\n",
       "      <th>34997</th>\n",
       "      <td>1</td>\n",
       "      <td>0</td>\n",
       "      <td>48</td>\n",
       "      <td>3869200515</td>\n",
       "      <td>2123</td>\n",
       "      <td>8</td>\n",
       "      <td>3.100051e+07</td>\n",
       "      <td>1970-01-04 23:45:45.765939581</td>\n",
       "      <td>3.447458e+14</td>\n",
       "    </tr>\n",
       "    <tr>\n",
       "      <th>34998</th>\n",
       "      <td>1</td>\n",
       "      <td>1</td>\n",
       "      <td>48</td>\n",
       "      <td>3869200515</td>\n",
       "      <td>2285</td>\n",
       "      <td>16</td>\n",
       "      <td>3.100457e+07</td>\n",
       "      <td>1970-01-04 23:45:45.765943638</td>\n",
       "      <td>3.447458e+14</td>\n",
       "    </tr>\n",
       "    <tr>\n",
       "      <th>34999</th>\n",
       "      <td>1</td>\n",
       "      <td>0</td>\n",
       "      <td>63</td>\n",
       "      <td>3869200515</td>\n",
       "      <td>2315</td>\n",
       "      <td>26</td>\n",
       "      <td>3.100532e+07</td>\n",
       "      <td>1970-01-04 23:45:45.765944396</td>\n",
       "      <td>3.447458e+14</td>\n",
       "    </tr>\n",
       "  </tbody>\n",
       "</table>\n",
       "<p>35000 rows × 9 columns</p>\n",
       "</div>"
      ],
      "text/plain": [
       "       HEAD  FPGA  TDC_CHANNEL   ORBIT_CNT  BX_COUNTER  TDC_MEAS  \\\n",
       "0         1     0          123  3869200167        2374        26   \n",
       "1         1     0          124  3869200167        2374        27   \n",
       "2         1     0           63  3869200167        2553        28   \n",
       "3         1     0           64  3869200167        2558        19   \n",
       "4         1     0           64  3869200167        2760        25   \n",
       "...     ...   ...          ...         ...         ...       ...   \n",
       "34995     1     0           47  3869200515        2127        20   \n",
       "34996     1     0           80  3869200515        2128        19   \n",
       "34997     1     0           48  3869200515        2123         8   \n",
       "34998     1     1           48  3869200515        2285        16   \n",
       "34999     1     0           63  3869200515        2315        26   \n",
       "\n",
       "       ABSOLUTE_TIME_NS          ABSOLUTE_TIME_SERIES  ABSLUTE_TIME_NS  \n",
       "0          0.000000e+00 1970-01-04 23:45:45.734939071     3.447457e+14  \n",
       "1          8.125000e-01 1970-01-04 23:45:45.734939072     3.447457e+14  \n",
       "2          4.476625e+03 1970-01-04 23:45:45.734943548     3.447457e+14  \n",
       "3          4.594125e+03 1970-01-04 23:45:45.734943665     3.447457e+14  \n",
       "4          9.649125e+03 1970-01-04 23:45:45.734948720     3.447457e+14  \n",
       "...                 ...                           ...              ...  \n",
       "34995      3.100062e+07 1970-01-04 23:45:45.765939691     3.447458e+14  \n",
       "34996      3.100064e+07 1970-01-04 23:45:45.765939715     3.447458e+14  \n",
       "34997      3.100051e+07 1970-01-04 23:45:45.765939581     3.447458e+14  \n",
       "34998      3.100457e+07 1970-01-04 23:45:45.765943638     3.447458e+14  \n",
       "34999      3.100532e+07 1970-01-04 23:45:45.765944396     3.447458e+14  \n",
       "\n",
       "[35000 rows x 9 columns]"
      ]
     },
     "execution_count": 10,
     "metadata": {},
     "output_type": "execute_result"
    }
   ],
   "source": [
    "d['ABSLUTE_TIME_NS'] = (d['ORBIT_CNT'] * x + d['BX_COUNTER']) * 25 + d['TDC_MEAS']* 25/30\n",
    "d['ABSLUTE_TIME_NS'] = d['ABSLUTE_TIME_NS'] - min(d['ABSOLUTE_TIME_NS'])\n",
    "d['ABSOLUTE_TIME_SERIES'] = pd.to_datetime(d['ABSLUTE_TIME_NS'], unit = 'ns')\n",
    "d"
   ]
  },
  {
   "cell_type": "markdown",
   "metadata": {},
   "source": [
    "4\\. Find out the duration of the data taking in hours, minutes and seconds, by using the features of the Time Series. Perform this check reading the whole dataset."
   ]
  },
  {
   "cell_type": "code",
   "execution_count": 11,
   "metadata": {},
   "outputs": [
    {
     "name": "stdout",
     "output_type": "stream",
     "text": [
      "Beginning: 2023-11-22 20:08:01.252764\n",
      "End time: 2023-11-22 20:08:01.254843\n",
      "Elapsd time: 0:00:00.002079\n"
     ]
    }
   ],
   "source": [
    "import datetime as dt\n",
    "itime = dt.datetime.now()\n",
    "print(\"Beginning:\", itime)\n",
    "#--\n",
    "time =  d['TDC_MEAS'] *(25/30) + d['BX_COUNTER'] * 25 + d['ORBIT_CNT']*x*25\n",
    "fTime = dt.datetime.now()\n",
    "print(\"End time:\", fTime)\n",
    "print(\"Elapsd time:\", (fTime - itime))"
   ]
  },
  {
   "cell_type": "markdown",
   "metadata": {},
   "source": [
    "5\\. Use the `.groupby()` method to find out the noisy channels, i.e. the TDC channels with most counts (print to screen the top 3 and the corresponding counts)"
   ]
  },
  {
   "cell_type": "code",
   "execution_count": 14,
   "metadata": {},
   "outputs": [
    {
     "name": "stdout",
     "output_type": "stream",
     "text": [
      "noissy channels:\n",
      " TDC_CHANNEL\n",
      "63     1728\n",
      "64     1768\n",
      "139    2910\n",
      "dtype: int64 \n",
      "\n"
     ]
    }
   ],
   "source": [
    "x= d.groupby(['TDC_CHANNEL']).size().sort_values().iloc[-3:]\n",
    "print(\"noissy channels:\\n\", x, \"\\n\")"
   ]
  },
  {
   "cell_type": "markdown",
   "metadata": {},
   "source": [
    "6\\. Count the number of non-empty orbits (i.e. the number of orbits with at least one hit)."
   ]
  },
  {
   "cell_type": "code",
   "execution_count": 16,
   "metadata": {},
   "outputs": [
    {
     "name": "stdout",
     "output_type": "stream",
     "text": [
      "ORBIT_CNT\n",
      "3869200167     43\n",
      "3869200168     85\n",
      "3869200169    127\n",
      "3869200170     98\n",
      "3869200171    109\n",
      "             ... \n",
      "3869200511     67\n",
      "3869200512    105\n",
      "3869200513    107\n",
      "3869200514    125\n",
      "3869200515     57\n",
      "Length: 349, dtype: int64\n"
     ]
    }
   ],
   "source": [
    "y = d.groupby(['ORBIT_CNT']).size()\n",
    "print(y)"
   ]
  },
  {
   "cell_type": "markdown",
   "metadata": {},
   "source": [
    "7\\. Count the number of unique orbits with at least one measurement from TDC_CHANNEL=139."
   ]
  },
  {
   "cell_type": "code",
   "execution_count": 19,
   "metadata": {},
   "outputs": [
    {
     "name": "stdout",
     "output_type": "stream",
     "text": [
      "number of the chanels unique orbits: 349 \n",
      "\n"
     ]
    }
   ],
   "source": [
    "uniqu_139 = d[d['TDC_CHANNEL']==139]['ORBIT_CNT'].nunique()\n",
    "print(\"number of the chanels unique orbits:\", uniqu_139, '\\n')"
   ]
  },
  {
   "cell_type": "markdown",
   "metadata": {},
   "source": [
    "8\\. Create two Series (one for each FPGA) that have the TDC channel as index, and the number of counts for the corresponding TDC channel as values."
   ]
  },
  {
   "cell_type": "code",
   "execution_count": 21,
   "metadata": {},
   "outputs": [
    {
     "name": "stdout",
     "output_type": "stream",
     "text": [
      "FPGA0 :\n",
      " TDC_CHANNEL\n",
      "1        29\n",
      "2        38\n",
      "3        34\n",
      "4        46\n",
      "5        42\n",
      "       ... \n",
      "121     181\n",
      "122     181\n",
      "123     497\n",
      "124     477\n",
      "139    2034\n",
      "Length: 118, dtype: int64\n",
      "********\n",
      "FPGA1 :\n",
      " TDC_CHANNEL\n",
      "1      767\n",
      "2      849\n",
      "3      626\n",
      "4      696\n",
      "5      413\n",
      "      ... \n",
      "125     17\n",
      "126     16\n",
      "127     36\n",
      "128     37\n",
      "139    876\n",
      "Length: 127, dtype: int64\n"
     ]
    }
   ],
   "source": [
    "series1 = d[d['FPGA']==0].groupby(['TDC_CHANNEL']).size()\n",
    "series2 = d[d['FPGA']==1].groupby(['TDC_CHANNEL']).size()\n",
    "print(\"FPGA0 :\\n\", series1)\n",
    "print('********')\n",
    "print(\"FPGA1 :\\n\", series2)"
   ]
  },
  {
   "cell_type": "markdown",
   "metadata": {},
   "source": [
    "9\\. **Optional:** Create two histograms (one for each FPGA) that show the number of counts for each TDC channel."
   ]
  },
  {
   "cell_type": "code",
   "execution_count": 27,
   "metadata": {},
   "outputs": [
    {
     "data": {
      "image/png": "[encoded data removed]",
      "text/plain": [
       "<Figure size 640x480 with 2 Axes>"
      ]
     },
     "metadata": {},
     "output_type": "display_data"
    }
   ],
   "source": [
    "p = d.plot.hist(column=[\"TDC_CHANNEL\"],by = \"FPGA\")"
   ]
  },
  {
   "cell_type": "code",
   "execution_count": null,
   "metadata": {},
   "outputs": [],
   "source": []
  }
 ],
 "metadata": {
  "kernelspec": {
   "display_name": "Python 3 (ipykernel)",
   "language": "python",
   "name": "python3"
  },
  "language_info": {
   "codemirror_mode": {
    "name": "ipython",
    "version": 3
   },
   "file_extension": ".py",
   "mimetype": "text/x-python",
   "name": "python",
   "nbconvert_exporter": "python",
   "pygments_lexer": "ipython3",
   "version": "3.11.5"
  }
 },
 "nbformat": 4,
 "nbformat_minor": 4
}
