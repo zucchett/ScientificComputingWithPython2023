{
 "nbformat": 4,
 "nbformat_minor": 0,
 "metadata": {
  "colab": {
   "provenance": []
  },
  "kernelspec": {
   "name": "python3",
   "display_name": "Python 3"
  },
  "language_info": {
   "name": "python"
  }
 },
 "cells": [
  {
   "cell_type": "code",
   "source": [
    "# exercise 5.PART ONE\n",
    "\n",
    "\n",
    "import pandas as pd\n",
    "\n",
    "# Set the file path where data is located\n",
    "file_path = 'C:/Users/nahal/PycharmProjects/exercise5/project 1/.data/data_000637.txt'\n",
    "\n",
    "# Define the column names for data\n",
    "columns = ['HEAD', 'FPGA', 'TDC_CHANNEL', 'ORBIT_CNT', 'BX_COUNTER', 'TDC_MEAS']\n",
    "\n",
    "# Read the data into a Pandas DataFrame\n",
    "Pandas_DataFrame = pd.read_csv(file_path, names=columns, skiprows=1, nrows=5)\n",
    "\n",
    "# Display the first few rows of the DataFrame\n",
    "print(Pandas_DataFrame.head())\n"
   ],
   "metadata": {
    "colab": {
     "base_uri": "https://localhost:8080/"
    },
    "id": "GliARjQ2-ltq",
    "outputId": "5850639c-a4ec-4a13-8026-c9c045200aab",
    "pycharm": {
     "name": "#%%\n"
    }
   },
   "execution_count": 12,
   "outputs": [
    {
     "output_type": "stream",
     "name": "stdout",
     "text": [
      "   HEAD  FPGA  TDC_CHANNEL   ORBIT_CNT  BX_COUNTER  TDC_MEAS\n",
      "0     1     0          123  3869200167        2374        26\n",
      "1     1     0          124  3869200167        2374        27\n",
      "2     1     0           63  3869200167        2553        28\n",
      "3     1     0           64  3869200167        2558        19\n",
      "4     1     0           64  3869200167        2760        25\n"
     ]
    }
   ]
  },
  {
   "cell_type": "code",
   "source": [
    "# exercise 5.PART TWO\n",
    "import pandas as pd\n",
    "\n",
    "# Set the file path where your data is located.\n",
    "file_path = 'C:/Users/nahal/PycharmProjects/exercise5/project 1/.data/data_000637.txt'\n",
    "\n",
    "# Define the column names for your data.\n",
    "columns = ['HEAD', 'FPGA', 'TDC_CHANNEL', 'ORBIT_CNT', 'BX', 'TDC_MEAS']\n",
    "\n",
    "# Read the data from the file into a pandas DataFrame.\n",
    "pandas_DataFrame = pd.read_csv(file_path, names=columns, skiprows=1, nrows=5)\n",
    "\n",
    "# Find the unique values in the 'BX' column.\n",
    "BX_values = pandas_DataFrame['BX'].unique()\n",
    "\n",
    "# Find the maximum value in the 'BX' column.\n",
    "maximum_value = pandas_DataFrame['BX'].max()\n",
    "\n",
    "# Find a point where the 'BX' is reset to 0.\n",
    "point = BX_values[0]\n",
    "\n",
    "# Calculate the estimated number of BX in an ORBIT.\n",
    "estimated_bx_in_orbit = maximum_value + point\n",
    "\n",
    "# Display the result.\n",
    "print(f\"\\nEstimated number of BX in an ORBIT: {estimated_bx_in_orbit}\")"
   ],
   "metadata": {
    "colab": {
     "base_uri": "https://localhost:8080/"
    },
    "id": "bMZNgIOUEuI2",
    "outputId": "531f2037-ff23-4a83-ee0d-2799c3d56ef0",
    "pycharm": {
     "name": "#%%\n"
    }
   },
   "execution_count": 16,
   "outputs": [
    {
     "output_type": "stream",
     "name": "stdout",
     "text": [
      "\n",
      "Estimated number of BX in an ORBIT: 5134\n"
     ]
    }
   ]
  },
  {
   "cell_type": "code",
   "source": [
    "# exercise 5.PART THREE\n",
    "\n",
    "\n",
    "import pandas as pd\n",
    "\n",
    "# Set the file path where data is located\n",
    "file_path = 'C:/Users/nahal/PycharmProjects/exercise5/project 3/.data/data_000637.txt'\n",
    "\n",
    "# Define the column names for data\n",
    "columns = ['HEAD', 'FPGA', 'TDC_CHANNEL', 'ORBIT_CNT', 'BX', 'TDC_MEAS']\n",
    "\n",
    "# Read the data into a Pandas DataFrame\n",
    "pandas_DataFrame = pd.read_csv(file_path, names=columns, nrows=5)\n",
    "\n",
    "# Convert the entire DataFrame to numeric, replacing non-numeric values with NaN\n",
    "pandas_DataFrame = pandas_DataFrame.apply(pd.to_numeric, errors='coerce')\n",
    "\n",
    "# Calculate values for the 'absolute_time' column\n",
    "orbit_time = pandas_DataFrame['ORBIT_CNT'] * 25 * 30\n",
    "bx_time = pandas_DataFrame['BX'] * 25\n",
    "tdc_time = pandas_DataFrame['TDC_MEAS'] * 25/30  # Contribution from 'TDC_MEAS'\n",
    "\n",
    "# Create the 'absolute_time' column by adding the values\n",
    "pandas_DataFrame['absolute_time'] = orbit_time + bx_time + tdc_time\n",
    "\n",
    "# Introduce an offset to make the start of data\n",
    "offset = pandas_DataFrame['absolute_time'].min()\n",
    "pandas_DataFrame['absolute_time'] = pandas_DataFrame['absolute_time'].sub(offset)\n",
    "\n",
    "# Convert the 'absolute_time' column to a Time Series\n",
    "pandas_DataFrame['absolute_time'] = pd.to_datetime(pandas_DataFrame['absolute_time'], unit='ns')\n",
    "\n",
    "# Display the DataFrame with the new 'absolute_time' column\n",
    "print(pandas_DataFrame)\n"
   ],
   "metadata": {
    "colab": {
     "base_uri": "https://localhost:8080/"
    },
    "id": "LBB7zUfxE9s3",
    "outputId": "a0a31ba3-cbaa-4ce0-b432-8ff9f262d3ad",
    "pycharm": {
     "name": "#%%\n"
    }
   },
   "execution_count": 18,
   "outputs": [
    {
     "output_type": "stream",
     "name": "stdout",
     "text": [
      "   HEAD  FPGA  TDC_CHANNEL     ORBIT_CNT      BX  TDC_MEAS  \\\n",
      "0   NaN   NaN          NaN           NaN     NaN       NaN   \n",
      "1   1.0   0.0        123.0  3.869200e+09  2374.0      26.0   \n",
      "2   1.0   0.0        124.0  3.869200e+09  2374.0      27.0   \n",
      "3   1.0   0.0         63.0  3.869200e+09  2553.0      28.0   \n",
      "4   1.0   0.0         64.0  3.869200e+09  2558.0      19.0   \n",
      "\n",
      "                  absolute_time  \n",
      "0                           NaT  \n",
      "1 1970-01-01 00:00:00.000000000  \n",
      "2 1970-01-01 00:00:00.000000000  \n",
      "3 1970-01-01 00:00:00.000004476  \n",
      "4 1970-01-01 00:00:00.000004594  \n"
     ]
    }
   ]
  },
  {
   "cell_type": "code",
   "source": [
    "# exercise 5.PART FOUR\n",
    "\n",
    "\n",
    "import pandas as pd\n",
    "\n",
    "# Set the file path where data is located\n",
    "file_path = 'C:/Users/nahal/PycharmProjects/exercise5/project 4/.data/data_000637.txt'\n",
    "\n",
    "# Define the column names for data\n",
    "columns = ['HEAD', 'FPGA', 'TDC_CHANNEL', 'ORBIT_CNT', 'BX', 'TDC_MEAS']\n",
    "\n",
    "# Indicate the dtype of any problematic columns.\n",
    "dtype_dict = {'ORBIT_CNT': 'float64', 'BX': 'float64', 'TDC_MEAS': 'float64'}\n",
    "\n",
    "# Read the data into a Pandas DataFrame, skipping the first row (header)\n",
    "Pandas_DataFrame = pd.read_csv(file_path, names=columns, skiprows=1, dtype=dtype_dict)\n",
    "\n",
    "columns_to_check = ['ORBIT_CNT', 'BX', 'TDC_MEAS']\n",
    "\n",
    "for column in columns_to_check:\n",
    "    values = Pandas_DataFrame[column]\n",
    "    unique_values = values.unique()\n",
    "    print(f\"\\nUnique values in {column}: {unique_values}\")\n",
    "\n",
    "# Calculate values for the 'absolute_time' column\n",
    "orbit_time = Pandas_DataFrame['ORBIT_CNT'] * 25 * 30\n",
    "bx_time = Pandas_DataFrame['BX'] * 25\n",
    "\n",
    "# Perform the division\n",
    "tdc_time = Pandas_DataFrame['TDC_MEAS'] * 25 / 30\n",
    "\n",
    "# Create the 'absolute_time' column by adding the values\n",
    "Pandas_DataFrame['absolute_time'] = orbit_time + bx_time + tdc_time\n",
    "\n",
    "# Introduce an offset to make the start of data\n",
    "offset = Pandas_DataFrame['absolute_time'].min()\n",
    "Pandas_DataFrame['absolute_time'] = Pandas_DataFrame['absolute_time'].sub(offset)\n",
    "\n",
    "# Convert the 'absolute_time' column to a Time Series\n",
    "Pandas_DataFrame['absolute_time'] = pd.to_datetime(Pandas_DataFrame['absolute_time'], unit='ns')\n",
    "\n",
    "# Calculate the duration\n",
    "start_time = Pandas_DataFrame['absolute_time'].min()\n",
    "end_time = Pandas_DataFrame['absolute_time'].max()\n",
    "duration = end_time - start_time\n",
    "\n",
    "# Print the duration in days, hours, minutes, and seconds\n",
    "days = duration.days\n",
    "hours = duration.seconds // 3600\n",
    "minutes = (duration.seconds // 60) % 60\n",
    "seconds = duration.seconds % 60\n",
    "\n",
    "print(f\"\\nDuration: {days} days, {hours} hours, {minutes} minutes, {seconds} seconds\")"
   ],
   "metadata": {
    "colab": {
     "base_uri": "https://localhost:8080/"
    },
    "id": "HYQxRlahFc7G",
    "outputId": "c7952f8a-49f8-4496-cff6-72d79d30f54e",
    "pycharm": {
     "name": "#%%\n"
    }
   },
   "execution_count": 19,
   "outputs": [
    {
     "output_type": "stream",
     "name": "stdout",
     "text": [
      "\n",
      "Unique values in ORBIT_CNT: [3.86920017e+09 3.86920017e+09 3.86920017e+09 ... 3.86921117e+09\n",
      " 3.86921117e+09 3.86921117e+09]\n",
      "\n",
      "Unique values in BX: [2374. 2553. 2558. ...  445. 3452. 2520.]\n",
      "\n",
      "Unique values in TDC_MEAS: [26. 27. 28. 19. 25.  4. 14.  0. 21.  7. 18. 23.  3. 10. 15.  1. 20.  8.\n",
      " 17. 16.  9.  6. 12. 13. 24. 29. 11. 22.  2.  5.]\n",
      "\n",
      "Duration: 0 days, 0 hours, 48 minutes, 21 seconds\n"
     ]
    }
   ]
  },
  {
   "cell_type": "code",
   "source": [
    "# exercise 5.PART FIVE\n",
    "\n",
    "\n",
    "import pandas as pd\n",
    "\n",
    "# Set the file path where data is saved\n",
    "file_path = 'C:/Users/nahal/PycharmProjects/exercise5/project 5/.data/data_000637.txt'\n",
    "\n",
    "# Define the names of the columns in the data\n",
    "columns = ['HEAD', 'FPGA', 'TDC_CHANNEL', 'ORBIT_CNT', 'BX', 'TDC_MEAS']\n",
    "\n",
    "dtypes = {'ORBIT_CNT': int, 'BX': int, 'TDC_MEAS': int}\n",
    "\n",
    "# Read the data from the file into a table (DataFrame)\n",
    "Pandas_DataFrame = pd.read_csv(file_path, names=columns, dtype=dtypes, skiprows=1)\n",
    "\n",
    "# Group the data by TDC_CHANNEL and count how many times each channel appears\n",
    "channel_counts = Pandas_DataFrame.groupby('TDC_CHANNEL').size()\n",
    "\n",
    "# Sort the channels in descending order of appearance frequency.\n",
    "sorted_channels = channel_counts.sort_values(ascending=False)\n",
    "\n",
    "# Print the three most often appearing channels along with their frequency of occurrence.\n",
    "top_3_noisy_channels = sorted_channels.head(3)\n",
    "\n",
    "print(\"Top 3 Noisy Channels:\")\n",
    "print(top_3_noisy_channels)\n"
   ],
   "metadata": {
    "colab": {
     "base_uri": "https://localhost:8080/"
    },
    "id": "F13PHnwHFlav",
    "outputId": "d442013b-fb71-4c13-dfde-df7f3773609c",
    "pycharm": {
     "name": "#%%\n"
    }
   },
   "execution_count": 21,
   "outputs": [
    {
     "output_type": "stream",
     "name": "stdout",
     "text": [
      "Top 3 Noisy Channels:\n",
      "TDC_CHANNEL\n",
      "139    73620\n",
      "64     45431\n",
      "63     44441\n",
      "dtype: int64\n"
     ]
    }
   ]
  },
  {
   "cell_type": "code",
   "source": [
    "# exercise 5.PART SIX\n",
    "\n",
    "\n",
    "import pandas as pd\n",
    "\n",
    "# Set the file path where the data is saved\n",
    "file_path = 'C:/Users/nahal/PycharmProjects/exercise5/project 6/.data/data_000637.txt'\n",
    "\n",
    "# Define the names of the columns in the data\n",
    "columns = ['HEAD', 'FPGA', 'TDC_CHANNEL', 'ORBIT_CNT', 'BX', 'TDC_MEAS']\n",
    "\n",
    "# Specify the data types for certain columns\n",
    "dtypes = {'ORBIT_CNT': int, 'BX': int, 'TDC_MEAS': int}\n",
    "\n",
    "# Read the data from the file into a table (DataFrame)\n",
    "Pandas_DataFrame = pd.read_csv(file_path, names=columns, dtype=dtypes, skiprows=1)\n",
    "\n",
    "# Identify non-empty orbits (orbits with at least one hit)\n",
    "non_empty_orbits = Pandas_DataFrame['TDC_CHANNEL'].notna()\n",
    "\n",
    "# Aggregate the different orbits where at least one impact occurs.\n",
    "non_empty_orbits_count = Pandas_DataFrame[non_empty_orbits]['ORBIT_CNT'].nunique()\n",
    "\n",
    "# Print the result\n",
    "print(\"Number of non-empty orbits:\", non_empty_orbits_count)\n"
   ],
   "metadata": {
    "colab": {
     "base_uri": "https://localhost:8080/"
    },
    "id": "A3DvsIHHFvZm",
    "outputId": "6a3181c1-85ad-4f87-cf1c-20485e98d71c",
    "pycharm": {
     "name": "#%%\n"
    }
   },
   "execution_count": 22,
   "outputs": [
    {
     "output_type": "stream",
     "name": "stdout",
     "text": [
      "Number of non-empty orbits: 6809\n"
     ]
    }
   ]
  },
  {
   "cell_type": "code",
   "source": [
    "# exercise 5.PART SEVEN\n",
    "\n",
    "\n",
    "import pandas as pd\n",
    "\n",
    "# Set the file path where the data is saved\n",
    "file_path = 'C:/Users/nahal/PycharmProjects/exercise5/project 7/.data/data_000637.txt'\n",
    "\n",
    "# Define the names of the columns in the data\n",
    "columns = ['HEAD', 'FPGA', 'TDC_CHANNEL', 'ORBIT_CNT', 'BX', 'TDC_MEAS']\n",
    "\n",
    "# Specify the data types for each columns\n",
    "dtypes = {'ORBIT_CNT': int, 'BX': int, 'TDC_MEAS': int}\n",
    "\n",
    "# Read the data from the file into a table (DataFrame)\n",
    "Pandas_DataFrame = pd.read_csv(file_path, names=columns, dtype=dtypes, skiprows=1)\n",
    "\n",
    "# Identify rows where TDC_CHANNEL is 139\n",
    "tdc_channel_value = 139\n",
    "tdc_channel_new = Pandas_DataFrame['TDC_CHANNEL'] == tdc_channel_value\n",
    "\n",
    "# Identify non-empty orbits for TDC_CHANNEL=139\n",
    "tdc_channel_value = 139\n",
    "tdc_channel_new = Pandas_DataFrame['TDC_CHANNEL'] == tdc_channel_value\n",
    "\n",
    "non_empty_orbits = Pandas_DataFrame[tdc_channel_new & Pandas_DataFrame['TDC_CHANNEL'].notna()]\n",
    "non_empty_orbits_new = non_empty_orbits['ORBIT_CNT'].unique()\n",
    "\n",
    "# Count the number of unique orbits with at least one measurement from TDC_CHANNEL=139\n",
    "count_tdc_new = len(non_empty_orbits_new)\n",
    "\n",
    "# Print the result\n",
    "print(\"Number of unique orbits with at least one measurement from TDC_CHANNEL=139 is\", count_tdc_new)\n"
   ],
   "metadata": {
    "colab": {
     "base_uri": "https://localhost:8080/"
    },
    "id": "tLRk7GX6F3l9",
    "outputId": "1de6e83a-ddb8-4c71-f696-596327fd97d0",
    "pycharm": {
     "name": "#%%\n"
    }
   },
   "execution_count": 25,
   "outputs": [
    {
     "output_type": "stream",
     "name": "stdout",
     "text": [
      "Number of unique orbits with at least one measurement from TDC_CHANNEL=139 is 6797\n"
     ]
    }
   ]
  },
  {
   "cell_type": "code",
   "source": [
    "# exercise 5.PART EIGHT\n",
    "\n",
    "\n",
    "import pandas as pd\n",
    "\n",
    "# Set the file path where the data is saved\n",
    "file_path = 'C:/Users/nahal/PycharmProjects/exercise5/project 8/.data/data_000637.txt'\n",
    "\n",
    "# Define the names of the columns in the data\n",
    "columns = ['HEAD', 'FPGA', 'TDC_CHANNEL', 'ORBIT_CNT', 'BX', 'TDC_MEAS']\n",
    "\n",
    "# Specify the data types for certain columns\n",
    "dtypes = {'ORBIT_CNT': int, 'BX': int, 'TDC_MEAS': int}\n",
    "\n",
    "# Read the data from the file into a table (DataFrame)\n",
    "Pandas_DataFrame = pd.read_csv(file_path, names=columns, dtype=dtypes, skiprows=1)\n",
    "\n",
    "# Group the data by FPGA and TDC_CHANNEL, and count the occurrences\n",
    "counts_fpga_tdc = Pandas_DataFrame.groupby(['FPGA', 'TDC_CHANNEL']).size()\n",
    "\n",
    "# Separate the counts for each FPGA into two Series\n",
    "fpga_zero = 0\n",
    "if fpga_zero in counts_fpga_tdc.index.levels[0]:\n",
    "    fpga_zero_counts = counts_fpga_tdc[fpga_zero]\n",
    "else:\n",
    "    fpga_0_counts = pd.Series(dtype=int)\n",
    "\n",
    "fpga_one = 1\n",
    "if fpga_one in counts_fpga_tdc.index.levels[0]:\n",
    "    fpga_one_counts = counts_fpga_tdc[fpga_one]\n",
    "else:\n",
    "    fpga_one_counts = pd.Series(dtype=int)\n",
    "\n",
    "# Print the resulting Series\n",
    "print(\"Counts for TDC channels in FPGA 0:\")\n",
    "print(fpga_zero_counts)\n",
    "\n",
    "print(\"\\nCounts for TDC channels in FPGA 1:\")\n",
    "print(fpga_one_counts)"
   ],
   "metadata": {
    "colab": {
     "base_uri": "https://localhost:8080/"
    },
    "id": "GSusyjTgGAt9",
    "outputId": "4d04a790-896b-4554-c5f1-fd3abb792c44",
    "pycharm": {
     "name": "#%%\n"
    }
   },
   "execution_count": 27,
   "outputs": [
    {
     "output_type": "stream",
     "name": "stdout",
     "text": [
      "Counts for TDC channels in FPGA 0:\n",
      "TDC_CHANNEL\n",
      "1        831\n",
      "2       1099\n",
      "3       1000\n",
      "4       1612\n",
      "5        971\n",
      "       ...  \n",
      "124    11255\n",
      "130       23\n",
      "137       25\n",
      "138       26\n",
      "139    51476\n",
      "Length: 122, dtype: int64\n",
      "\n",
      "Counts for TDC channels in FPGA 1:\n",
      "TDC_CHANNEL\n",
      "1      19496\n",
      "2      22416\n",
      "3      15047\n",
      "4      18121\n",
      "5      10323\n",
      "       ...  \n",
      "129       26\n",
      "130       29\n",
      "137       26\n",
      "138       26\n",
      "139    22144\n",
      "Length: 132, dtype: int64\n"
     ]
    }
   ]
  }
 ]
}