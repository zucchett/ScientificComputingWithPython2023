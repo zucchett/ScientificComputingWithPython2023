{
 "cells": [
  {
   "cell_type": "markdown",
   "metadata": {},
   "source": [
    "# Functions and classes\n",
    "\n",
    "\n",
    "## Modules, packages, libraries\n",
    "\n",
    "Definitions:\n",
    "\n",
    "  * Modules:\n",
    "  A module is a file which contains python functions, global variables etc. It is nothing but a `.py` file which has Python executable code.\n",
    "\n",
    "  * Packages:\n",
    "  A package is a collection of Python modules: while a module is a single Python file, a package is a directory of Python modules containing an additional `__init__.py` file, to distinguish a package from a directory that just happens to contain a bunch of Python scripts. Packages can be nested to any depth, provided that the corresponding directories contain their own `__init__.py` file.\n",
    "  \n",
    "  * Libraries:\n",
    "  A library is a collection of various packages. There is no difference between a package and Python library conceptually.\n",
    "  \n",
    "Modules/packages/libraries can be easily \"imported\" and made functional in your python code. A set of basic libriaries comes with every Python installation. Others can be installed on the local machine and then imported. Your own code sitting somewhere else in your local computer can be imported too.\n",
    "\n",
    "Further details on packages and how to create them can be found on the online Python documentation: for instance for the [math library](https://docs.python.org/3/library/math.html)."
   ]
  },
  {
   "cell_type": "code",
   "execution_count": null,
   "metadata": {},
   "outputs": [],
   "source": [
    "# Import all the content of the math library\n",
    "import math\n",
    "print(math.pi)\n",
    "\n",
    "# You can import a library and label it for convenience\n",
    "import math as m\n",
    "print(m.pi)\n",
    "\n",
    "# Alternatively, you can import only a given object or function from the library instead of the full library\n",
    "from math import pi, sqrt  # you can add several libraries at once, just list them separated by a ', '\n",
    "print(pi)\n",
    "\n",
    "# Importing the full library (try to avoid this if you only need specific functions)\n",
    "from math import *\n",
    "print(sqrt(7))"
   ]
  },
  {
   "cell_type": "markdown",
   "metadata": {},
   "source": [
    "To know which modules are installed and ready to be imported:"
   ]
  },
  {
   "cell_type": "code",
   "execution_count": null,
   "metadata": {},
   "outputs": [],
   "source": [
    "import sys\n",
    "for k, v in sys.modules.items():\n",
    "    print(k)\n",
    "\n",
    "# Alternative for older python versions\n",
    "# print(help('modules'))"
   ]
  },
  {
   "cell_type": "markdown",
   "metadata": {},
   "source": [
    "`pip` is a special package. It is used from the command line to install properly (e.g. matching the version of the local packages) new packages:\n",
    "\n",
    "`pip install matplotlib`\n",
    "\n",
    "`python3 -m pip install matplotlib`\n",
    "\n",
    "It can also be used from within Python to check i.e. the set installed packages and their versions.\n",
    "\n",
    "N.B.: only the installed packages on top of the default ones will be listed."
   ]
  },
  {
   "cell_type": "code",
   "execution_count": null,
   "metadata": {},
   "outputs": [],
   "source": [
    "import sys\n",
    "\n",
    "if sys.version_info >= (3, 8):\n",
    "    from importlib import metadata as importlib_metadata\n",
    "else:\n",
    "    import importlib_metadata\n",
    "\n",
    "dists = importlib_metadata.distributions()\n",
    "for dist in dists:\n",
    "    name = dist.metadata[\"Name\"]\n",
    "    version = dist.version\n",
    "    print(\"found distribution %s version %s\" % (name, version))\n",
    "\n",
    "#import pip\n",
    "#sorted([\"%s==%s\" % (i.key, i.version) for i in pip.get_installed_distributions()])"
   ]
  },
  {
   "cell_type": "markdown",
   "metadata": {},
   "source": [
    "## Functions\n",
    "\n",
    "Defining function in Python is very simple, because you do not have to specify the type of the arguments and of the returned objects, like in statically typed languages. This is both useful and dangerous. Use the `try`/`except` construction to make it safe."
   ]
  },
  {
   "cell_type": "code",
   "execution_count": null,
   "metadata": {},
   "outputs": [],
   "source": [
    "# default arguments can also be declared\n",
    "def my_function(a, b = 2):\n",
    "    r = a + 2 * b\n",
    "    return r\n",
    "\n",
    "my_function(3)"
   ]
  },
  {
   "cell_type": "markdown",
   "metadata": {},
   "source": [
    "Normally, variables created inside the function (*local* variables) do not exist anymore outside the scope of the function itself."
   ]
  },
  {
   "cell_type": "code",
   "execution_count": null,
   "metadata": {},
   "outputs": [],
   "source": [
    "# print(r) # r is not recognized outside the function"
   ]
  },
  {
   "cell_type": "markdown",
   "metadata": {},
   "source": [
    "Functions can edit *global* variables as well, i.e. variables that are declared outside the function scope, but within the same module.\n",
    "\n",
    "The statement ```global``` is used to access the value of the variable outside the function with the same name (not recommended!):"
   ]
  },
  {
   "cell_type": "code",
   "execution_count": 1,
   "metadata": {},
   "outputs": [
    {
     "name": "stdout",
     "output_type": "stream",
     "text": [
      "Python is fantastic\n",
      "Python is awesome\n"
     ]
    }
   ],
   "source": [
    "x = \"awesome\"\n",
    "\n",
    "def myfunc():\n",
    "    x = \"fantastic\"\n",
    "    print(\"Python is \" + x)\n",
    "\n",
    "myfunc()\n",
    "\n",
    "print(\"Python is \" + x)"
   ]
  },
  {
   "cell_type": "code",
   "execution_count": 2,
   "metadata": {},
   "outputs": [
    {
     "name": "stdout",
     "output_type": "stream",
     "text": [
      "Python is fantastic\n",
      "Python is fantastic\n"
     ]
    }
   ],
   "source": [
    "x = \"awesome\"\n",
    "\n",
    "def myfunc():\n",
    "    global x # try to avoid global as much as possible\n",
    "    x = \"fantastic\"\n",
    "    print(\"Python is \" + x)\n",
    "\n",
    "myfunc()\n",
    "\n",
    "print(\"Python is \" + x)"
   ]
  },
  {
   "cell_type": "markdown",
   "metadata": {},
   "source": [
    "Hint: if you have nested functions and you want to access to variables in the parent function but not in the global scope, use `nonlocal`.\n",
    "\n",
    "You can treat functions just like other Python object, and add them to the data structures like lists, dict, etc.:"
   ]
  },
  {
   "cell_type": "code",
   "execution_count": null,
   "metadata": {},
   "outputs": [],
   "source": [
    "def square(x):\n",
    "    \"\"\"Square of x.\"\"\"\n",
    "    return x * x\n",
    "\n",
    "def cube(x):\n",
    "    \"\"\"Cube of x.\"\"\"\n",
    "    return x * x * x\n",
    "\n",
    "# create a dictionary of functions\n",
    "funcs = {\n",
    "    'square' : square,\n",
    "    'cube' : cube,\n",
    "}\n",
    "\n",
    "x = 3\n",
    "print(square(x))\n",
    "print(cube(x))\n",
    "\n",
    "for func in sorted(funcs):\n",
    "    print(func, funcs[func](x))"
   ]
  },
  {
   "cell_type": "markdown",
   "metadata": {},
   "source": [
    "### Function arguments"
   ]
  },
  {
   "cell_type": "markdown",
   "metadata": {},
   "source": [
    "In other languages, you can choose whether you want want to pass variables to a function by *value* or by *reference*.\n",
    "\n",
    "Python does not pass arguments neither by *value* nor by *reference*, but by *assignment*. When a function is called, each of the parameters of the function is assigned to the object they were passed in.\n",
    "\n",
    "The difference in the behaviour of mutable and immutable objects emerges when these objects are passed as an argument to a function.\n",
    "\n",
    "When an **immutable object** is passed to a function as an argument, and the object is modified inside the function, Python creates a copy of the original object, which is valid only within the scope of the function."
   ]
  },
  {
   "cell_type": "code",
   "execution_count": null,
   "metadata": {},
   "outputs": [],
   "source": [
    "def modify(x):\n",
    "    print(\"Inside the fuction:         \", x, id(x))\n",
    "    x += 2\n",
    "    print(\"After assignment in fuction:\", x, id(x))\n",
    "    return x\n",
    "\n",
    "x = 1\n",
    "print(\"Before calling the function:\", x, id(x))\n",
    "y = modify(x) # call the function\n",
    "print(\"Returned by the function:   \", y, id(y))\n",
    "print(\"After calling the function: \", x, id(x))"
   ]
  },
  {
   "cell_type": "markdown",
   "metadata": {},
   "source": [
    "Now let's consider a **mutable object**, e.g. a list `x = [1, 2, 3]`. If within the function the content of `x` is directly changed (e.g. `x[0] = 999`), then `x` changes outside the function as well. "
   ]
  },
  {
   "cell_type": "code",
   "execution_count": 3,
   "metadata": {},
   "outputs": [
    {
     "name": "stdout",
     "output_type": "stream",
     "text": [
      "Before calling the function: [1, 2, 3] 4563652224\n",
      "Inside the fuction:          [1, 2, 3] 4563652224\n",
      "After assignment in fuction: [999, 2, 3] 4563652224\n",
      "Returned by the function:    [999, 2, 3] 4563652224\n",
      "After calling the function:  [999, 2, 3] 4563652224\n"
     ]
    }
   ],
   "source": [
    "def modify(x):\n",
    "    print(\"Inside the fuction:         \", x, id(x))\n",
    "    x[0] = 999\n",
    "    print(\"After assignment in fuction:\", x, id(x))\n",
    "    return x\n",
    "\n",
    "x = [1, 2, 3]\n",
    "print(\"Before calling the function:\", x, id(x))\n",
    "y = modify(x) # call the function\n",
    "print(\"Returned by the function:   \", y, id(y))\n",
    "print(\"After calling the function: \", x, id(x))"
   ]
  },
  {
   "cell_type": "markdown",
   "metadata": {},
   "source": [
    "However, if `x` is reassigned within the function to a new object (e.g. another list), then the copy of the name `x` now points to the new object, but `x` outside the function is unchanged."
   ]
  },
  {
   "cell_type": "code",
   "execution_count": 4,
   "metadata": {},
   "outputs": [
    {
     "name": "stdout",
     "output_type": "stream",
     "text": [
      "Before calling the function: [1, 2, 3] 4563652352\n",
      "Inside the fuction:          [1, 2, 3] 4563652352\n",
      "After assignment in fuction: [4, 5, 6] 4563651904\n",
      "Returned by the function:    [4, 5, 6] 4563651904\n",
      "After calling the function:  [1, 2, 3] 4563652352\n"
     ]
    }
   ],
   "source": [
    "def no_modify(x):\n",
    "    print(\"Inside the fuction:         \", x, id(x))\n",
    "    x = [4, 5, 6]\n",
    "    print(\"After assignment in fuction:\", x, id(x))\n",
    "    return x\n",
    "\n",
    "x = [1, 2, 3]\n",
    "print(\"Before calling the function:\", x, id(x))\n",
    "y = no_modify(x) # call the function\n",
    "print(\"Returned by the function:   \", y, id(y))\n",
    "print(\"After calling the function: \", x, id(x))"
   ]
  },
  {
   "cell_type": "markdown",
   "metadata": {},
   "source": [
    "The difference is that in the first case only one element of the object has been reassigned, while in the second the object itself is modified."
   ]
  },
  {
   "cell_type": "markdown",
   "metadata": {},
   "source": [
    "#### Initialization of function default arguments"
   ]
  },
  {
   "cell_type": "markdown",
   "metadata": {},
   "source": [
    "A Python behaviour that may not be intuitive, and you should pay attention to:"
   ]
  },
  {
   "cell_type": "code",
   "execution_count": null,
   "metadata": {},
   "outputs": [],
   "source": [
    "def f(x = []):\n",
    "    x.append(1)\n",
    "    return x\n",
    "\n",
    "print(f())\n",
    "print(f())\n",
    "print(f(x = [9, 9, 9]))\n",
    "print(f())\n",
    "print(f())"
   ]
  },
  {
   "cell_type": "markdown",
   "metadata": {},
   "source": [
    "What actually happens is that a new list is created once when the function is defined, and the same list is used in each successive call.\n",
    "\n",
    "**Python’s default arguments are evaluated once when the function is defined**, not each time the function is called (like it is in say, Ruby). This means that if you use a mutable default argument and mutate it, you will have mutated that object for all future calls to the function as well. Check this [post](https://docs.python-guide.org/writing/gotchas/).\n",
    "\n",
    "The correct approach is to write the function in such a way that it *creates a new object* each time the function is called, by using a default argument that explicitly states that no argument was provided (`None` is often a good choice)."
   ]
  },
  {
   "cell_type": "code",
   "execution_count": null,
   "metadata": {},
   "outputs": [],
   "source": [
    "def f(x = None):\n",
    "    if x is None:\n",
    "        x = []\n",
    "    x.append(1)\n",
    "    return x\n",
    "\n",
    "print(f())\n",
    "print(f())\n",
    "print(f(x = [9, 9, 9]))\n",
    "print(f())\n",
    "print(f())"
   ]
  },
  {
   "cell_type": "markdown",
   "metadata": {},
   "source": [
    "#### Shallow copy and Deep copy\n",
    "\n",
    "Generally speaking, the user can \"force\" Python to create a completely different object that has no ties with the original object, which is especially useful in case of mutable objects.\n",
    "\n",
    "Python provides the `copy` module ([link to the documentation](https://docs.python.org/3/library/copy.html)) that allows you to perform two types of copy, the **shallow** and the **deep** copy.\n",
    "\n",
    "The difference between shallow and deep copying is only relevant for compound objects (objects that contain other objects, like lists or class instances).\n",
    "\n",
    "- A **shallow copy** constructs a new compound object and then (to the extent possible) inserts references into it to the objects found in the original.\n",
    "\n",
    "- A **deep copy** constructs a new compound object and then, recursively, inserts copies into it of the objects found in the original."
   ]
  },
  {
   "cell_type": "code",
   "execution_count": null,
   "metadata": {},
   "outputs": [],
   "source": [
    "import copy\n",
    "\n",
    "x = [1, 2, 3]\n",
    "\n",
    "x_copy = copy.copy(x) # shallow copy of x\n",
    "#x_copy = copy.deepcopy(x) # deep copy of x\n",
    "\n",
    "x_copy[0] = 999 # modify copy, and check that the original object is unchanged\n",
    "\n",
    "print(\"Shallow copy:\", x_copy)\n",
    "print(\"Original:    \", x)"
   ]
  },
  {
   "cell_type": "markdown",
   "metadata": {},
   "source": [
    "### Higher order functions\n",
    "\n",
    "A function that uses another function as an input argument or returns a function is known as a higher-order function (HOF). The most familiar examples are `map` and `filter`."
   ]
  },
  {
   "cell_type": "markdown",
   "metadata": {},
   "source": [
    "#### map\n",
    "\n",
    "The map function applies a function to each member of a collection"
   ]
  },
  {
   "cell_type": "code",
   "execution_count": null,
   "metadata": {},
   "outputs": [],
   "source": [
    "x = list( map(square, range(5)) ) \n",
    "print(x)\n",
    "\n",
    "# Note the difference w.r.t Python 2. In Python 3 map retuns an iterator so you can loop on it like:\n",
    "for i in map(square, range(5)):\n",
    "    print(i)"
   ]
  },
  {
   "cell_type": "markdown",
   "metadata": {},
   "source": [
    "#### filter\n",
    "\n",
    "The filter function applies a predicate to each member of a collection, retaining only those where the predicate is `True`"
   ]
  },
  {
   "cell_type": "code",
   "execution_count": null,
   "metadata": {},
   "outputs": [],
   "source": [
    "def is_even(x):\n",
    "    return x % 2 == 0\n",
    "\n",
    "print(list(filter(is_even, range(5))))"
   ]
  },
  {
   "cell_type": "markdown",
   "metadata": {},
   "source": [
    "HOF can be nested:"
   ]
  },
  {
   "cell_type": "code",
   "execution_count": null,
   "metadata": {},
   "outputs": [],
   "source": [
    "list(map(square, filter(is_even, range(5))))\n"
   ]
  },
  {
   "cell_type": "markdown",
   "metadata": {},
   "source": [
    "#### reduce\n",
    "\n",
    "The reduce function reduces a collection using a binary operator to combine items two at a time. More often than not, reduce can be substituted with a more efficient `for` loop. It is worth mentioning for itspast key role in big-data applications together with `map` (the map-reduce paradigm, quite common in Hadoop).\n",
    "\n",
    "N.B.: it no longer exist as built-in function in Python3, it is now part of the `functools` library."
   ]
  },
  {
   "cell_type": "code",
   "execution_count": null,
   "metadata": {},
   "outputs": [],
   "source": [
    "from functools import reduce\n",
    "\n",
    "def my_add(x, y):\n",
    "    print(\"Adding\", x, \"and\", y)\n",
    "    return x + y\n",
    "\n",
    "# another implementation of the sum function\n",
    "reduce(my_add, [1, 2, 3, 4, 5])"
   ]
  },
  {
   "cell_type": "markdown",
   "metadata": {},
   "source": [
    "#### zip\n",
    "\n",
    "zip is useful when you need to iterate over matched elements of multiple lists:"
   ]
  },
  {
   "cell_type": "code",
   "execution_count": null,
   "metadata": {},
   "outputs": [],
   "source": [
    "xs = [1, 2, 3, 4]\n",
    "ys = [10, 20, 30, 40]\n",
    "zs = ['a', 'b', 'c', 'd', 'e']\n",
    "\n",
    "# zip stops at the end of the shortest list\n",
    "for x, y, z in zip(xs, ys, zs):\n",
    "    print(x, y, z)"
   ]
  },
  {
   "cell_type": "markdown",
   "metadata": {},
   "source": [
    "#### Custom HOF"
   ]
  },
  {
   "cell_type": "markdown",
   "metadata": {},
   "source": [
    "Python allows you to define custom HOF, or in general functions that accept other functions as arguments:"
   ]
  },
  {
   "cell_type": "code",
   "execution_count": null,
   "metadata": {},
   "outputs": [],
   "source": [
    "def custom_sum(xs, transform):\n",
    "    \"\"\"Returns the sum of xs after a user specified transform.\"\"\"\n",
    "    return sum(map(transform, xs))\n",
    "\n",
    "xs = range(5)\n",
    "print(custom_sum(xs, square))\n",
    "print(custom_sum(xs, cube))"
   ]
  },
  {
   "cell_type": "markdown",
   "metadata": {},
   "source": [
    "### Recursive functions\n",
    "\n",
    "A recursive function is a function that calls itself. For instance:"
   ]
  },
  {
   "cell_type": "code",
   "execution_count": null,
   "metadata": {},
   "outputs": [],
   "source": [
    "def factorial(x):\n",
    "    if x == 1:\n",
    "        return 1\n",
    "    else:\n",
    "        # recursive call to the function\n",
    "        return x * factorial(x - 1)\n",
    "\n",
    "factorial(5)"
   ]
  },
  {
   "cell_type": "markdown",
   "metadata": {},
   "source": [
    "### Anonimous (lambda) functions\n",
    "\n",
    "When using functional style, there is often the need to create specific functions that perform a limited task as input to a HOF such as map or filter. In such cases, these functions are often written as anonymous or lambda functions. \n",
    "The syntax is as follows:\n",
    "\n",
    "`lambda <arguments> : <expression>`\n",
    "\n",
    "Hint: do not overcomplicate lambda functions. If you find it hard to understand what a lambda function is doing, it should probably be rewritten as a regular function."
   ]
  },
  {
   "cell_type": "code",
   "execution_count": null,
   "metadata": {},
   "outputs": [],
   "source": [
    "# Explicit definition\n",
    "addit = lambda x, y: x + y\n",
    "addit(3, 4)"
   ]
  },
  {
   "cell_type": "code",
   "execution_count": null,
   "metadata": {},
   "outputs": [],
   "source": [
    "# The function is declared and directly passed to the HOF\n",
    "for i in map(lambda x: x * x, range(5)): print(i)"
   ]
  },
  {
   "cell_type": "code",
   "execution_count": null,
   "metadata": {},
   "outputs": [],
   "source": [
    "# mid-lecture test: could you tell what this function does?\n",
    "from functools import reduce\n",
    "s1 = reduce(lambda x, y: x + y, map(lambda x: x**2, range(1, 10)))\n",
    "#print(s1)"
   ]
  },
  {
   "cell_type": "markdown",
   "metadata": {},
   "source": [
    "### Decorators\n",
    "\n",
    "Decorators are a type of HOF that *takes a function(s) as argument* and return *the wrapped function* that provides additional useful properties.\n",
    "\n",
    "Examples:\n",
    "\n",
    "  - Logging\n",
    "  - Just-In-Time (JIT) compilation\n",
    "  - GPU acceleration ([numba](https://numba.pydata.org/))\n",
    "  - ...\n",
    "  \n",
    "For example, let's add a printout *before* and *after* a function is called:"
   ]
  },
  {
   "cell_type": "code",
   "execution_count": 1,
   "metadata": {},
   "outputs": [],
   "source": [
    "def my_decorator(func): # takes a function as an argument\n",
    "    def wrapper():\n",
    "        print(\"Something is happening before the function is called.\")\n",
    "        func() # runs the function\n",
    "        print(\"Something is happening after the function is called.\")\n",
    "    return wrapper # returns a function\n",
    "\n",
    "def say_whee():\n",
    "    print(\"Whee!\")\n",
    "\n",
    "say_whee = my_decorator(say_whee) # redefines the original function"
   ]
  },
  {
   "cell_type": "code",
   "execution_count": 2,
   "metadata": {},
   "outputs": [
    {
     "name": "stdout",
     "output_type": "stream",
     "text": [
      "Something is happening before the function is called.\n",
      "Whee!\n",
      "Something is happening after the function is called.\n"
     ]
    }
   ],
   "source": [
    "say_whee()"
   ]
  },
  {
   "cell_type": "markdown",
   "metadata": {},
   "source": [
    "Python allows you to use decorators in a simpler way with the `@` symbol:"
   ]
  },
  {
   "cell_type": "code",
   "execution_count": 10,
   "metadata": {},
   "outputs": [],
   "source": [
    "\n",
    "def my_decorator(func):\n",
    "    def wrapper(x,y):\n",
    "        print(\"Something is happening before the function is called.\")\n",
    "        func(x,y)\n",
    "        print(\"Something is happening after the function is called.\")\n",
    "    return wrapper\n",
    "\n",
    "@my_decorator\n",
    "def say_whee(x,y):\n",
    "    print(x*y)"
   ]
  },
  {
   "cell_type": "code",
   "execution_count": 11,
   "metadata": {},
   "outputs": [
    {
     "name": "stdout",
     "output_type": "stream",
     "text": [
      "Something is happening before the function is called.\n",
      "30\n",
      "Something is happening after the function is called.\n"
     ]
    }
   ],
   "source": [
    "say_whee(5,6)"
   ]
  },
  {
   "cell_type": "markdown",
   "metadata": {},
   "source": [
    "### Useful libraries\n",
    "\n",
    "You may want to have a look at the content of the following modules for further HO functions:\n",
    "\n",
    "  - [operator](https://docs.python.org/3/library/operator.html)\n",
    "  - [functools](https://docs.python.org/3/library/functools.html)\n",
    "  - [itertools](https://docs.python.org/3/library/itertools.html)\n",
    "  - [toolz](https://pypi.org/project/toolz/)\n",
    "  - [funcy](https://pypi.org/project/funcy/)"
   ]
  },
  {
   "cell_type": "markdown",
   "metadata": {},
   "source": [
    "# Classes and Objects\n",
    "\n",
    "Object-oriented programming is a way to write programs so that properties and behaviours are tied to **objects**.\n",
    "\n",
    "Classes are defined similarly to standard object-oriented languages, with similar functionalities.\n",
    "\n",
    "The main Python documentation [page](https://docs.python.org/3.8/tutorial/classes.html) is worth reading.\n",
    "\n",
    "Users can define new objects (classes) to extend the functionalities of primitive data structures like `int`, `float`, `list` and so on, to include other information. These variables, which belong to the class, are called **attributes**.\n",
    "\n",
    "Classes are not only used to store data, but they also define functions called **methods**, which define the actions that an object created from the class can perform with its data.\n",
    "\n",
    "It's important not to confuse two different concepts:\n",
    "\n",
    "- A **class** defines a structure, but doesn't fill the content\n",
    "\n",
    "- An **instance** is an object that is built from a class and contains real data."
   ]
  },
  {
   "cell_type": "code",
   "execution_count": null,
   "metadata": {},
   "outputs": [],
   "source": [
    "import math\n",
    "\n",
    "# Class definition\n",
    "class VectorND:\n",
    "    '''This is a comment that is supposed to describe the purpose of the class'''\n",
    "    \n",
    "    # Definition of the class attributes, which are common for all instances of the same class\n",
    "    x = []\n",
    "    \n",
    "    # Definition of the Constructor, a special method that is called every time a new object is created\n",
    "    # The first argument of the constructor (and also for all other methods in the class) is the instance itself\n",
    "    def __init__(self, components):\n",
    "        self.x = components # a list is expected as input\n",
    "    \n",
    "    # Definition of the destructor, but it is often omitted\n",
    "    #def __del__(self):\n",
    "    #    print(\"Goodbye\")\n",
    "    \n",
    "    # Definition of the methods\n",
    "    \n",
    "    # This method allows to get some info about the attribute of the class (x)\n",
    "    def getDimension(self): # the first argument is always 'self' for the methods of a class\n",
    "        return len(self.x)\n",
    "    \n",
    "    # This method allows to get individial elements of the 'x' attribute \n",
    "    def getX(self, n): # n is the component index\n",
    "        return self.x[n]\n",
    "    \n",
    "    # This method allows to set individial elements of the 'x' attribute \n",
    "    def setX(self, n, xi): # n is the component index, and xi is the value\n",
    "        if n < len(self.x):\n",
    "            self.x[n] = xi\n",
    "    \n",
    "    # This method allows to perform non-trivial operations on the class attributes\n",
    "    def getNorm(self):\n",
    "        s2 = 0\n",
    "        for i in range(len(self.x)):\n",
    "            s2 += self.x[i]**2\n",
    "        return math.sqrt(s2)\n",
    "\n",
    "# End of the class definition"
   ]
  },
  {
   "cell_type": "code",
   "execution_count": null,
   "metadata": {},
   "outputs": [],
   "source": [
    "# Create an instance of class 'VectorND'\n",
    "a = VectorND([5, 0, 1])\n",
    "\n",
    "print(\"Dimension:\", a.getDimension()) # call method 'getDimension' of instance 'a'\n",
    "\n",
    "a.setX(2, 0) # set the third component to zero\n",
    "\n",
    "a.x[2] = 1 # another way (not recommended!) to modify the attributes of 'a'\n",
    "\n",
    "print(\"Nornamlization:\", a.getNorm())"
   ]
  },
  {
   "cell_type": "markdown",
   "metadata": {},
   "source": [
    "Note that Python does not have private and public attributes. Outside the class definition, it is possible to access the class attributes even without defining the corresponding setter and getter methods."
   ]
  },
  {
   "cell_type": "markdown",
   "metadata": {},
   "source": [
    "### Class inheritance\n",
    "\n",
    "Python allows to extend the functionality of a class by using *subclasses*, which are classes that **inherit** properties from the original class. In other words, the *child class* will inherit the properties of the *parent class*."
   ]
  },
  {
   "cell_type": "code",
   "execution_count": null,
   "metadata": {},
   "outputs": [],
   "source": [
    "class Vector3D(VectorND): # class 'Vector3D' inherits from class 'VectorND'\n",
    "    \n",
    "    # The constructor here is optional, and can be inherited from the parent class if omitted\n",
    "    def __init__(self, components):\n",
    "        if len(components) == 3:\n",
    "            self.x = components # a list is expected as input\n",
    "        else:\n",
    "            print(\"Error: number of components is not 3\")\n",
    "    \n",
    "    # New methods that only belongs to the child class\n",
    "    def cross(self, y):\n",
    "        return (self.x[1]*y.getX(2) - self.x[2]*y.getX(1), -self.x[0]*y.getX(2) + self.x[2]*y.getX(0), self.x[0]*y.getX(1) - self.x[1]*y.getX(0))"
   ]
  },
  {
   "cell_type": "code",
   "execution_count": null,
   "metadata": {},
   "outputs": [],
   "source": [
    "b = Vector3D([1, 2, 3])\n",
    "c = Vector3D([4, 5, 6])\n",
    "\n",
    "# Child class methods are available to the child intance\n",
    "d = b.cross(c)\n",
    "print(\"Vector product:\", d)\n",
    "\n",
    "# Child instances also have the parent class' methods\n",
    "print(\"Dimension:\", b.getDimension())\n",
    "print(\"Norm:\", b.getNorm())\n",
    "\n",
    "# But not the opposite\n",
    "#a.cross(c) # AttributeError: 'Vector3D' object has no attribute 'vect'"
   ]
  },
  {
   "cell_type": "code",
   "execution_count": null,
   "metadata": {},
   "outputs": [],
   "source": []
  }
 ],
 "metadata": {
  "kernelspec": {
   "display_name": "Python 3 (ipykernel)",
   "language": "python",
   "name": "python3"
  },
  "language_info": {
   "codemirror_mode": {
    "name": "ipython",
    "version": 3
   },
   "file_extension": ".py",
   "mimetype": "text/x-python",
   "name": "python",
   "nbconvert_exporter": "python",
   "pygments_lexer": "ipython3",
   "version": "3.12.0"
  }
 },
 "nbformat": 4,
 "nbformat_minor": 2
}
