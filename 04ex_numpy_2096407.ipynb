{
 "cells": [
  {
   "cell_type": "code",
   "execution_count": 1,
   "metadata": {},
   "outputs": [],
   "source": [
    "import numpy as np"
   ]
  },
  {
   "cell_type": "markdown",
   "metadata": {},
   "source": [
    "1\\. **Reductions**\n",
    "\n",
    "Given the following matrix:\n",
    "\n",
    "```python\n",
    "m = np.arange(12).reshape((3,4))\n",
    "```\n",
    "\n",
    "   1. find the total mean\n",
    "   2. find the mean for each row and column"
   ]
  },
  {
   "cell_type": "code",
   "execution_count": 2,
   "metadata": {},
   "outputs": [
    {
     "name": "stdout",
     "output_type": "stream",
     "text": [
      "Total Mean: 5.5\n",
      "Each Column Mean: [4. 5. 6. 7.]\n",
      "Each Row Mean: [1.5 5.5 9.5]\n"
     ]
    }
   ],
   "source": [
    "m = np.arange(12).reshape((3,4))\n",
    "print(\"Total Mean: \" + str(m.mean()))\n",
    "print(\"Each Column Mean: \" + str(m.mean(0)))\n",
    "print(\"Each Row Mean: \" + str(m.mean(1)))"
   ]
  },
  {
   "cell_type": "markdown",
   "metadata": {},
   "source": [
    "2\\. **Outer product**\n",
    "\n",
    "Find the outer product of the following vectors:\n",
    "\n",
    "```python\n",
    "u = np.array([1, 3, 5, 7])\n",
    "v = np.array([2, 4, 6, 8])\n",
    "```\n",
    "\n",
    "Use different methods to do this:\n",
    "\n",
    "   1. Using the function `outer` in numpy\n",
    "   2. Using a nested `for` loop or a list comprehension\n",
    "   3. Using numpy broadcasting operations"
   ]
  },
  {
   "cell_type": "code",
   "execution_count": 3,
   "metadata": {},
   "outputs": [
    {
     "name": "stdout",
     "output_type": "stream",
     "text": [
      "outer: [[ 2  4  6  8]\n",
      " [ 6 12 18 24]\n",
      " [10 20 30 40]\n",
      " [14 28 42 56]]\n",
      "for: [[2, 4, 6, 8], [6, 12, 18, 24], [10, 20, 30, 40], [14, 28, 42, 56]]\n",
      "broadcasting: [[ 2  4  6  8]\n",
      " [ 6 12 18 24]\n",
      " [10 20 30 40]\n",
      " [14 28 42 56]]\n"
     ]
    }
   ],
   "source": [
    "u = np.array([1, 3, 5, 7])\n",
    "v = np.array([2, 4, 6, 8])\n",
    "\n",
    "p1 = np.outer(u,v)\n",
    "print(\"outer: \" + str(p1))\n",
    "p2 = []\n",
    "for i in range(len(u)):\n",
    "    s = []\n",
    "    for j in range(len(v)):\n",
    "        s.append(u[i]*v[j])\n",
    "    p2.append(s)\n",
    "print(\"for: \" + str(p2))\n",
    "\n",
    "p3 = u[:,None]*v[None,:]\n",
    "print(\"broadcasting: \" + str(p3))"
   ]
  },
  {
   "cell_type": "markdown",
   "metadata": {},
   "source": [
    "3\\. **Matrix masking**\n",
    "\n",
    "Create a $10 \\times 6$ matrix of float random numbers, distributed between 0 and 3 according to a flat distribution.\n",
    "\n",
    "After creating the matrix, set all entries $< 0.3$ to zero using a mask."
   ]
  },
  {
   "cell_type": "code",
   "execution_count": 4,
   "metadata": {},
   "outputs": [
    {
     "name": "stdout",
     "output_type": "stream",
     "text": [
      "[[3.9416837  1.05793146 2.5104795  0.24523508 1.29949435 2.02928166]\n",
      " [3.03368111 0.52057794 2.96046139 1.76747591 2.57763476 3.60577949]\n",
      " [1.39727602 3.7472235  0.28928358 3.37237706 2.52155997 1.95999493]\n",
      " [3.42571197 0.52490564 0.373739   0.31682404 1.41255707 3.50211754]\n",
      " [1.32997347 1.52317421 2.89234049 1.90339806 1.17116304 3.50492681]\n",
      " [3.81333998 3.14281891 3.63378658 3.45237965 1.21385024 3.24129992]\n",
      " [3.37202231 2.65713969 3.77545824 2.03775308 3.09485603 0.23828109]\n",
      " [1.71739457 2.46797858 0.96643861 1.48085699 2.31710763 0.17089818]\n",
      " [2.31656117 3.19779492 2.13145809 0.97270601 0.69334284 2.11880301]\n",
      " [1.91998004 2.72671604 3.85564766 2.21816584 1.51200571 1.16354869]]\n",
      "\n",
      "Filtered: [[3.9416837  1.05793146 2.5104795  0.         1.29949435 2.02928166]\n",
      " [3.03368111 0.52057794 2.96046139 1.76747591 2.57763476 3.60577949]\n",
      " [1.39727602 3.7472235  0.         3.37237706 2.52155997 1.95999493]\n",
      " [3.42571197 0.52490564 0.373739   0.31682404 1.41255707 3.50211754]\n",
      " [1.32997347 1.52317421 2.89234049 1.90339806 1.17116304 3.50492681]\n",
      " [3.81333998 3.14281891 3.63378658 3.45237965 1.21385024 3.24129992]\n",
      " [3.37202231 2.65713969 3.77545824 2.03775308 3.09485603 0.        ]\n",
      " [1.71739457 2.46797858 0.96643861 1.48085699 2.31710763 0.        ]\n",
      " [2.31656117 3.19779492 2.13145809 0.97270601 0.69334284 2.11880301]\n",
      " [1.91998004 2.72671604 3.85564766 2.21816584 1.51200571 1.16354869]]\n"
     ]
    }
   ],
   "source": [
    "r = np.random.uniform(0,4, size = (10,6))\n",
    "print(r)\n",
    "r[r<0.3] = 0\n",
    "print('\\n'+\"Filtered: \" + str(r))"
   ]
  },
  {
   "cell_type": "markdown",
   "metadata": {},
   "source": [
    "4\\. **Trigonometric functions**\n",
    "\n",
    "Use `np.linspace` to create an array of 100 numbers between $0$ and $2\\pi$ (inclusive).\n",
    "\n",
    "  * Extract every 10th element using the slice notation\n",
    "  * Reverse the array using the slice notation\n",
    "  * Extract elements where the absolute difference between the `sin` and `cos` functions evaluated for that element is $< 0.1$\n",
    "  * **Optional**: make a plot showing the `sin` and `cos` functions and indicate graphically (with a line or a marker) where they are close"
   ]
  },
  {
   "cell_type": "code",
   "execution_count": 5,
   "metadata": {},
   "outputs": [
    {
     "data": {
      "image/png": "[encoded data removed]",
      "text/plain": [
       "<Figure size 432x288 with 1 Axes>"
      ]
     },
     "metadata": {
      "needs_background": "light"
     },
     "output_type": "display_data"
    }
   ],
   "source": [
    "import math\n",
    "import matplotlib.pyplot as plt\n",
    "\n",
    "t = np.linspace(0,2*math.pi,100)\n",
    "#print(t)\n",
    "t1 = t[::10] #Extract every 10th element using the slice notation\n",
    "#print(t1)\n",
    "t1 = t1[::-1] #Reverse the array using the slice notation\n",
    "#print(t1)\n",
    "t1 = t # I take all the 100 elements\n",
    "t2 = []\n",
    "sinp = []\n",
    "cosp = []\n",
    "for i in range(len(t1)):\n",
    "    sinp.append(math.sin(t1[i]))\n",
    "    cosp.append(math.cos(t1[i]))\n",
    "    if(abs(math.sin(t1[i])-math.cos(t1[i]))<0.1):\n",
    "        t2.append(t1[i])\n",
    "#print(t2)\n",
    "\n",
    "plt.plot(t, sinp, 'r') #sin\n",
    "plt.plot(t, cosp, 'b') #cos\n",
    "for i in range(len(t2)):\n",
    "    plt.axvline(x=t2[i], color='y', label=str('closer'+str(i)))\n",
    "plt.legend(bbox_to_anchor=(1.0, 1), loc='upper left')\n",
    "plt.show()"
   ]
  },
  {
   "cell_type": "markdown",
   "metadata": {},
   "source": [
    "5\\. **Matrices**\n",
    "\n",
    "Create a matrix that shows the $10 \\times 10$ multiplication table.\n",
    "\n",
    " * Find the trace of the matrix\n",
    " * Extract the anti-diagonal matrix (this should be ```array([10, 18, 24, 28, 30, 30, 28, 24, 18, 10])```)\n",
    " * Extract the diagonal offset by 1 upwards (this should be ```array([ 2,  6, 12, 20, 30, 42, 56, 72, 90])```)"
   ]
  },
  {
   "cell_type": "code",
   "execution_count": 6,
   "metadata": {},
   "outputs": [
    {
     "name": "stdout",
     "output_type": "stream",
     "text": [
      "[[  1   2   3   4   5   6   7   8   9  10]\n",
      " [  2   4   6   8  10  12  14  16  18  20]\n",
      " [  3   6   9  12  15  18  21  24  27  30]\n",
      " [  4   8  12  16  20  24  28  32  36  40]\n",
      " [  5  10  15  20  25  30  35  40  45  50]\n",
      " [  6  12  18  24  30  36  42  48  54  60]\n",
      " [  7  14  21  28  35  42  49  56  63  70]\n",
      " [  8  16  24  32  40  48  56  64  72  80]\n",
      " [  9  18  27  36  45  54  63  72  81  90]\n",
      " [ 10  20  30  40  50  60  70  80  90 100]]\n",
      "385\n",
      "[  1   4   9  16  25  36  49  64  81 100]\n",
      "[10 18 24 28 30 30 28 24 18 10]\n",
      "[ 2  6 12 20 30 42 56 72 90]\n"
     ]
    }
   ],
   "source": [
    "m = []\n",
    "for i in range(1, 11):\n",
    "    s = []\n",
    "    for j in range(1,11):\n",
    "        s.append(i*j)\n",
    "    m.append(s)\n",
    "    \n",
    "m = np.array(m)\n",
    "print(m)\n",
    "trace = m.trace()\n",
    "print(trace)\n",
    "arr = m.diagonal() #diagonal\n",
    "print(arr)\n",
    "arr2 = m.ravel()[9:-1:9] #antidiagonal\n",
    "print(arr2)\n",
    "arr3 = np.diag(m,1) #diagonal above1\n",
    "print(arr3)"
   ]
  },
  {
   "cell_type": "markdown",
   "metadata": {},
   "source": [
    "6\\. **Broadcasting**\n",
    "\n",
    "Use broadcasting to create a grid of distances.\n",
    "\n",
    "Route 66 crosses the following cities in the US: Chicago, Springfield, Saint-Louis, Tulsa, Oklahoma City, Amarillo, Santa Fe, Albuquerque, Flagstaff, Los Angeles.\n",
    "\n",
    "The corresponding positions in miles are: `0, 198, 303, 736, 871, 1175, 1475, 1544, 1913, 2448`\n",
    "\n",
    "  * Build a 2D grid of distances among each city along Route 66\n",
    "  * Convert the distances in km"
   ]
  },
  {
   "cell_type": "code",
   "execution_count": 7,
   "metadata": {},
   "outputs": [
    {
     "name": "stdout",
     "output_type": "stream",
     "text": [
      "Distance from Chicago to Chicago: 0.00 km\n",
      "Distance from Chicago to Springfield: 318.65 km\n",
      "Distance from Chicago to Saint-Louis: 487.63 km\n",
      "Distance from Chicago to Tulsa: 1184.47 km\n",
      "Distance from Chicago to Oklahoma City: 1401.74 km\n",
      "Distance from Chicago to Amarillo: 1890.97 km\n",
      "Distance from Chicago to Santa Fe: 2373.78 km\n",
      "Distance from Chicago to Albuquerque: 2484.82 km\n",
      "Distance from Chicago to Flagstaff: 3078.67 km\n",
      "Distance from Chicago to Los Angeles: 3939.66 km\n",
      "Distance from Springfield to Chicago: 318.65 km\n",
      "Distance from Springfield to Springfield: 0.00 km\n",
      "Distance from Springfield to Saint-Louis: 168.98 km\n",
      "Distance from Springfield to Tulsa: 865.82 km\n",
      "Distance from Springfield to Oklahoma City: 1083.09 km\n",
      "Distance from Springfield to Amarillo: 1572.33 km\n",
      "Distance from Springfield to Santa Fe: 2055.13 km\n",
      "Distance from Springfield to Albuquerque: 2166.17 km\n",
      "Distance from Springfield to Flagstaff: 2760.02 km\n",
      "Distance from Springfield to Los Angeles: 3621.01 km\n",
      "Distance from Saint-Louis to Chicago: 487.63 km\n",
      "Distance from Saint-Louis to Springfield: 168.98 km\n",
      "Distance from Saint-Louis to Saint-Louis: 0.00 km\n",
      "Distance from Saint-Louis to Tulsa: 696.84 km\n",
      "Distance from Saint-Louis to Oklahoma City: 914.11 km\n",
      "Distance from Saint-Louis to Amarillo: 1403.34 km\n",
      "Distance from Saint-Louis to Santa Fe: 1886.15 km\n",
      "Distance from Saint-Louis to Albuquerque: 1997.19 km\n",
      "Distance from Saint-Louis to Flagstaff: 2591.04 km\n",
      "Distance from Saint-Louis to Los Angeles: 3452.03 km\n",
      "Distance from Tulsa to Chicago: 1184.47 km\n",
      "Distance from Tulsa to Springfield: 865.82 km\n",
      "Distance from Tulsa to Saint-Louis: 696.84 km\n",
      "Distance from Tulsa to Tulsa: 0.00 km\n",
      "Distance from Tulsa to Oklahoma City: 217.26 km\n",
      "Distance from Tulsa to Amarillo: 706.50 km\n",
      "Distance from Tulsa to Santa Fe: 1189.30 km\n",
      "Distance from Tulsa to Albuquerque: 1300.35 km\n",
      "Distance from Tulsa to Flagstaff: 1894.19 km\n",
      "Distance from Tulsa to Los Angeles: 2755.19 km\n",
      "Distance from Oklahoma City to Chicago: 1401.74 km\n",
      "Distance from Oklahoma City to Springfield: 1083.09 km\n",
      "Distance from Oklahoma City to Saint-Louis: 914.11 km\n",
      "Distance from Oklahoma City to Tulsa: 217.26 km\n",
      "Distance from Oklahoma City to Oklahoma City: 0.00 km\n",
      "Distance from Oklahoma City to Amarillo: 489.24 km\n",
      "Distance from Oklahoma City to Santa Fe: 972.04 km\n",
      "Distance from Oklahoma City to Albuquerque: 1083.09 km\n",
      "Distance from Oklahoma City to Flagstaff: 1676.93 km\n",
      "Distance from Oklahoma City to Los Angeles: 2537.93 km\n",
      "Distance from Amarillo to Chicago: 1890.97 km\n",
      "Distance from Amarillo to Springfield: 1572.33 km\n",
      "Distance from Amarillo to Saint-Louis: 1403.34 km\n",
      "Distance from Amarillo to Tulsa: 706.50 km\n",
      "Distance from Amarillo to Oklahoma City: 489.24 km\n",
      "Distance from Amarillo to Amarillo: 0.00 km\n",
      "Distance from Amarillo to Santa Fe: 482.80 km\n",
      "Distance from Amarillo to Albuquerque: 593.85 km\n",
      "Distance from Amarillo to Flagstaff: 1187.69 km\n",
      "Distance from Amarillo to Los Angeles: 2048.69 km\n",
      "Distance from Santa Fe to Chicago: 2373.78 km\n",
      "Distance from Santa Fe to Springfield: 2055.13 km\n",
      "Distance from Santa Fe to Saint-Louis: 1886.15 km\n",
      "Distance from Santa Fe to Tulsa: 1189.30 km\n",
      "Distance from Santa Fe to Oklahoma City: 972.04 km\n",
      "Distance from Santa Fe to Amarillo: 482.80 km\n",
      "Distance from Santa Fe to Santa Fe: 0.00 km\n",
      "Distance from Santa Fe to Albuquerque: 111.04 km\n",
      "Distance from Santa Fe to Flagstaff: 704.89 km\n",
      "Distance from Santa Fe to Los Angeles: 1565.89 km\n",
      "Distance from Albuquerque to Chicago: 2484.82 km\n",
      "Distance from Albuquerque to Springfield: 2166.17 km\n",
      "Distance from Albuquerque to Saint-Louis: 1997.19 km\n",
      "Distance from Albuquerque to Tulsa: 1300.35 km\n",
      "Distance from Albuquerque to Oklahoma City: 1083.09 km\n",
      "Distance from Albuquerque to Amarillo: 593.85 km\n",
      "Distance from Albuquerque to Santa Fe: 111.04 km\n",
      "Distance from Albuquerque to Albuquerque: 0.00 km\n",
      "Distance from Albuquerque to Flagstaff: 593.85 km\n",
      "Distance from Albuquerque to Los Angeles: 1454.84 km\n",
      "Distance from Flagstaff to Chicago: 3078.67 km\n",
      "Distance from Flagstaff to Springfield: 2760.02 km\n",
      "Distance from Flagstaff to Saint-Louis: 2591.04 km\n",
      "Distance from Flagstaff to Tulsa: 1894.19 km\n",
      "Distance from Flagstaff to Oklahoma City: 1676.93 km\n",
      "Distance from Flagstaff to Amarillo: 1187.69 km\n",
      "Distance from Flagstaff to Santa Fe: 704.89 km\n",
      "Distance from Flagstaff to Albuquerque: 593.85 km\n",
      "Distance from Flagstaff to Flagstaff: 0.00 km\n",
      "Distance from Flagstaff to Los Angeles: 861.00 km\n",
      "Distance from Los Angeles to Chicago: 3939.66 km\n",
      "Distance from Los Angeles to Springfield: 3621.01 km\n",
      "Distance from Los Angeles to Saint-Louis: 3452.03 km\n",
      "Distance from Los Angeles to Tulsa: 2755.19 km\n",
      "Distance from Los Angeles to Oklahoma City: 2537.93 km\n",
      "Distance from Los Angeles to Amarillo: 2048.69 km\n",
      "Distance from Los Angeles to Santa Fe: 1565.89 km\n",
      "Distance from Los Angeles to Albuquerque: 1454.84 km\n",
      "Distance from Los Angeles to Flagstaff: 861.00 km\n",
      "Distance from Los Angeles to Los Angeles: 0.00 km\n"
     ]
    }
   ],
   "source": [
    "c = np.array([\"Chicago\", \"Springfield\", \"Saint-Louis\", \"Tulsa\", \"Oklahoma City\", \"Amarillo\", \"Santa Fe\", \"Albuquerque\", \"Flagstaff\", \"Los Angeles\"])\n",
    "p = np.array([0, 198, 303, 736, 871, 1175, 1475, 1544, 1913, 2448])\n",
    "\n",
    "mile = 1.60934\n",
    "\n",
    "p_km = p * mile\n",
    "\n",
    "distances_km = np.abs(p_km - p_km[:, np.newaxis])\n",
    "\n",
    "# Print the 2D grid of distances in kilometers\n",
    "for i in range(len(c)):\n",
    "    for j in range(len(c)):\n",
    "        print(f\"Distance from {c[i]} to {c[j]}: {distances_km[i, j]:.2f} km\")\n"
   ]
  },
  {
   "cell_type": "markdown",
   "metadata": {},
   "source": [
    "7\\. **Prime numbers sieve**\n",
    "\n",
    "Compute the prime numbers in the 0-N (start with N=99) range with a sieve (mask).\n",
    "\n",
    "  * Construct a shape (N,) boolean array, which is the mask\n",
    "  * Identify the multiples of each number starting from 2 and set accordingly the corresponding mask element\n",
    "  * Apply the mask to obtain an array of ordered prime numbers\n",
    "  * Check the performances (with `timeit`); how does it scale with N?\n",
    "  * Implement the optimization suggested in the [sieve of Eratosthenes](https://en.wikipedia.org/wiki/Sieve_of_Eratosthenes)"
   ]
  },
  {
   "cell_type": "code",
   "execution_count": 8,
   "metadata": {},
   "outputs": [
    {
     "name": "stdout",
     "output_type": "stream",
     "text": [
      "Prime numbers up to 99: [ 2  3  5  7 11 13 17 19 23 29 31 37 41 43 47 53 59 61 67 71 73 79 83 89\n",
      " 97]\n",
      "Time taken: 0.000099 seconds\n",
      "Time taken for N=100: 0.000072 seconds\n",
      "Time taken for N=1000: 0.000199 seconds\n",
      "Time taken for N=10000: 0.001346 seconds\n",
      "Time taken for N=100000: 0.002167 seconds\n"
     ]
    }
   ],
   "source": [
    "import numpy as np\n",
    "import timeit\n",
    "\n",
    "def sieve_of_eratosthenes(N):\n",
    "    is_prime = np.ones(N+1, dtype=bool)\n",
    "    is_prime[0:2] = False  # 0 and 1 are not prime numbers\n",
    "\n",
    "    for i in range(2, int(np.sqrt(N))+1):\n",
    "        if is_prime[i]:\n",
    "            is_prime[i*i:N+1:i] = False\n",
    "\n",
    "    primes = np.nonzero(is_prime)[0]\n",
    "    return primes\n",
    "\n",
    "# Set N to 99 as the initial value\n",
    "N = 99\n",
    "\n",
    "# Run the sieve of Eratosthenes and measure the time\n",
    "time_taken = timeit.timeit(lambda: sieve_of_eratosthenes(N), number=10)\n",
    "print(f\"Prime numbers up to {N}: {sieve_of_eratosthenes(N)}\")\n",
    "print(f\"Time taken: {time_taken:.6f} seconds\")\n",
    "\n",
    "# Test the scaling with N\n",
    "N_values = [100, 1000, 10000, 100000]\n",
    "for N in N_values:\n",
    "    time_taken = timeit.timeit(lambda: sieve_of_eratosthenes(N), number=10)\n",
    "    print(f\"Time taken for N={N}: {time_taken:.6f} seconds\")\n"
   ]
  },
  {
   "cell_type": "markdown",
   "metadata": {},
   "source": [
    "8\\. **Diffusion using random walk**\n",
    "\n",
    "Consider a simple random walk process: at each step in time, a walker jumps right or left (+1 or -1) with equal probability. The goal is to find the typical distance from the origin of many random walkers after a given amount of time.\n",
    "\n",
    "*Hint*: create a 2D array where each row represents a walker, and each column represents a time step.\n",
    "\n",
    "  * Take 1000 walkers and let them walk for 200 steps\n",
    "  * Use `randint` to create a 2D array of size $walkers \\times steps$ with values -1 or 1\n",
    "  * Calculate the walking distances for each walker (e.g. by summing the elements in each row)\n",
    "  * Take the square of the previously-obtained array (element-wise)\n",
    "  * Compute the mean of the squared distances at each step (i.e. the mean along the columns)\n",
    "  * **Optional**: plot the average distances ($\\sqrt(distance^2)$) as a function of time (step)"
   ]
  },
  {
   "cell_type": "code",
   "execution_count": 9,
   "metadata": {},
   "outputs": [
    {
     "data": {
      "image/png": "[encoded data removed]",
      "text/plain": [
       "<Figure size 432x288 with 1 Axes>"
      ]
     },
     "metadata": {
      "needs_background": "light"
     },
     "output_type": "display_data"
    }
   ],
   "source": [
    "import numpy as np\n",
    "import matplotlib.pyplot as plt\n",
    "\n",
    "# Set the number of walkers and the number of steps\n",
    "num_walkers = 1000\n",
    "num_steps = 200\n",
    "\n",
    "# Create a 2D array for the random walks\n",
    "walks = np.random.choice([-1, 1], size=(num_walkers, num_steps))\n",
    "\n",
    "# Calculate the walking distances for each walker\n",
    "distances = np.cumsum(walks, axis=1)\n",
    "\n",
    "# Take the square of the distances\n",
    "squared_distances = distances ** 2\n",
    "\n",
    "# Calculate the mean of squared distances at each step\n",
    "mean_squared_distances = np.mean(squared_distances, axis=0)\n",
    "\n",
    "# Plot the average distances as a function of time (step)\n",
    "plt.plot(np.sqrt(mean_squared_distances), label='Average Distance')\n",
    "plt.xlabel('Time Step')\n",
    "plt.ylabel('Average Distance')\n",
    "plt.title('Random Walk Simulation')\n",
    "plt.legend()\n",
    "plt.show()\n"
   ]
  }
 ],
 "metadata": {
  "kernelspec": {
   "display_name": "Python 3",
   "language": "python",
   "name": "python3"
  },
  "language_info": {
   "codemirror_mode": {
    "name": "ipython",
    "version": 3
   },
   "file_extension": ".py",
   "mimetype": "text/x-python",
   "name": "python",
   "nbconvert_exporter": "python",
   "pygments_lexer": "ipython3",
   "version": "3.6.8"
  }
 },
 "nbformat": 4,
 "nbformat_minor": 2
}
