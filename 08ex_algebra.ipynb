{
 "cells": [
  {
   "cell_type": "markdown",
   "metadata": {},
   "source": [
    "1\\. **PCA on 3D dataset**\n",
    "\n",
    "* Generate a dataset simulating 3 features, each with N entries (N being ${\\cal O}(1000)$). Each feature is made by random numbers generated according the normal distribution $N(\\mu,\\sigma)$ with mean $\\mu_i$ and standard deviation $\\sigma_i$, with $i=1, 2, 3$. Generate the 3 variables $x_{i}$ such that:\n",
    "    * $x_1$ is distributed as $N(0,1)$\n",
    "    * $x_2$ is distributed as $x_1+N(0,3)$\n",
    "    * $x_3$ is given by $2x_1+x_2$\n",
    "* Find the eigenvectors and eigenvalues using the eigendecomposition of the covariance matrix\n",
    "* Find the eigenvectors and eigenvalues using the SVD. Check that the two procedures yield to same result\n",
    "* What percent of the total dataset's variability is explained by the principal components? Given how the dataset was constructed, do these make sense? Reduce the dimensionality of the system so that at least 99% of the total variability is retained\n",
    "* Redefine the data according to the new basis from the PCA\n",
    "* Plot the data, in both the original and the new basis. The figure should have 2 rows (the original and the new basis) and 3 columns (the $[x_0, x_1]$, $[x_0, x_2]$ and $[x_1, x_2]$ projections) of scatter plots."
   ]
  },
  {
   "cell_type": "code",
   "execution_count": 1,
   "metadata": {
    "scrolled": true
   },
   "outputs": [
    {
     "name": "stderr",
     "output_type": "stream",
     "text": [
      "/usr/lib/python3/dist-packages/scipy/__init__.py:146: UserWarning: A NumPy version >=1.17.3 and <1.25.0 is required for this version of SciPy (detected version 1.26.2\n",
      "  warnings.warn(f\"A NumPy version >={np_minversion} and <{np_maxversion}\"\n",
      "/usr/local/lib/python3.10/dist-packages/matplotlib/projections/__init__.py:63: UserWarning: Unable to import Axes3D. This may be due to multiple versions of Matplotlib being installed (e.g. as a system package and as a pip package). As a result, the 3D projection is not available.\n",
      "  warnings.warn(\"Unable to import Axes3D. This may be due to multiple versions of \"\n"
     ]
    }
   ],
   "source": [
    "import numpy as np\n",
    "import pandas as pd\n",
    "from scipy import linalg as la\n",
    "from matplotlib import pyplot as plt\n",
    "from sklearn.decomposition import PCA"
   ]
  },
  {
   "cell_type": "code",
   "execution_count": 3,
   "metadata": {},
   "outputs": [
    {
     "data": {
      "text/plain": [
       "(1000, 3)"
      ]
     },
     "execution_count": 3,
     "metadata": {},
     "output_type": "execute_result"
    }
   ],
   "source": [
    "N = 1000\n",
    "sigma1, sigma2 = 1, 3\n",
    "mu = 0\n",
    "\n",
    "x1 = np.random.normal(mu, sigma1, N)\n",
    "x2 = x1 + np.random.normal(mu, sigma2, N) \n",
    "x3 = (2*x1)+x2\n",
    "v = np.column_stack((x1, x2, x3))\n",
    "v.shape"
   ]
  },
  {
   "cell_type": "markdown",
   "metadata": {},
   "source": [
    "**Finding eigenvectors and eigenvalues using the eigendecomposition of the covariance matrix**"
   ]
  },
  {
   "cell_type": "code",
   "execution_count": 4,
   "metadata": {},
   "outputs": [
    {
     "name": "stdout",
     "output_type": "stream",
     "text": [
      "Covariance matrix: \n",
      " [[ 0.95259597  0.91636248  2.82155442]\n",
      " [ 0.91636248  9.77370595 11.60643091]\n",
      " [ 2.82155442 11.60643091 17.24953975]]\n",
      "Eigenvalues: \n",
      " [ 2.60227824e+01 -1.79107364e-15  1.95305925e+00]\n",
      "Matrix of eigenvectors: \n",
      " [[-0.11193425 -0.81649658  0.56639567]\n",
      " [-0.58175594 -0.40824829 -0.70348657]\n",
      " [-0.80562444  0.40824829  0.42930477]]\n"
     ]
    }
   ],
   "source": [
    "cov = np.cov(v, rowvar=False)\n",
    "print('Covariance matrix: \\n', cov)\n",
    "\n",
    "l, V = np.linalg.eig(cov)\n",
    "print('Eigenvalues: \\n', l)\n",
    "print('Matrix of eigenvectors: \\n', V) "
   ]
  },
  {
   "cell_type": "markdown",
   "metadata": {},
   "source": [
    "**Finding eigenvectors and eigenvalues using SVD**"
   ]
  },
  {
   "cell_type": "code",
   "execution_count": 5,
   "metadata": {},
   "outputs": [
    {
     "name": "stdout",
     "output_type": "stream",
     "text": [
      "Eigenvalues from SVD: \n",
      " [2.60228170e+01 1.95613952e+00 6.57352763e-31]\n",
      "Complex eigenvalues from SVD: \n",
      " [2.60228170e+01+0.j 1.95613952e+00+0.j 6.57352763e-31+0.j]\n",
      "Eigenvectors from SVD: \n",
      " [[ 0.11194193  0.5817464   0.80563027]\n",
      " [ 0.56639415 -0.70349446  0.42929385]\n",
      " [ 0.81649658  0.40824829 -0.40824829]]\n"
     ]
    }
   ],
   "source": [
    "U, S, Vt = np.linalg.svd(v)\n",
    "l_svd = S**2 / (N - 1)\n",
    "l_svd_complex = l_svd.astype(np.complex128)\n",
    "eigenvectors = Vt.T\n",
    "print('Eigenvalues from SVD: \\n', l_svd)\n",
    "print('Complex eigenvalues from SVD: \\n', l_svd_complex)\n",
    "print('Eigenvectors from SVD: \\n', Vt)"
   ]
  },
  {
   "cell_type": "markdown",
   "metadata": {},
   "source": [
    "Comparison"
   ]
  },
  {
   "cell_type": "code",
   "execution_count": 6,
   "metadata": {},
   "outputs": [
    {
     "name": "stdout",
     "output_type": "stream",
     "text": [
      "Eigendecomposition: \n",
      " 26.02278240693311 -1.7910736444359103e-15 1.9530592528601765\n",
      "SVD: \n",
      " (26.022816987488206+0j) (1.9561395157804273+0j) (6.573527629417367e-31+0j)\n",
      "The eigenvalues from using the covariance matrix and from using the SVD is not equal, but they are very close.\n",
      "The difference comes down to decimals or really small numbers\n",
      "One reason could be that the numerical calculations in the two methods differ, so the output will be a bit different\n"
     ]
    }
   ],
   "source": [
    "print('Eigendecomposition: \\n', l[0], l[1], l[2])\n",
    "print('SVD: \\n', l_svd_complex[0], l_svd_complex[1], l_svd_complex[2])\n",
    "print('The eigenvalues from using the covariance matrix and from using the SVD is not equal, but they are very close.')\n",
    "print('The difference comes down to decimals or really small numbers')\n",
    "print('One reason could be that the numerical calculations in the two methods differ, so the output will be a bit different')"
   ]
  },
  {
   "cell_type": "markdown",
   "metadata": {},
   "source": [
    "**Variability**\n"
   ]
  },
  {
   "cell_type": "code",
   "execution_count": 7,
   "metadata": {},
   "outputs": [
    {
     "name": "stdout",
     "output_type": "stream",
     "text": [
      "Lambda:\n",
      " [[ 2.60227824e+01  0.00000000e+00  0.00000000e+00]\n",
      " [ 0.00000000e+00 -1.79107364e-15  0.00000000e+00]\n",
      " [ 0.00000000e+00  0.00000000e+00  1.95305925e+00]] \n",
      "\n",
      "Trace(A):\n",
      " 27.975841659793282 \n",
      "\n",
      "Trace(Lambda):\n",
      " 27.975841659793282 \n",
      "\n",
      "The variance ratio: [ 9.30187650e-01 -6.40221541e-17  6.98123501e-02]\n",
      "Based on that x2 and x3 is made with x1, it is logic that the variance ratio is mostly based on x1\n",
      "By selecting two components, we retain 100.00% of the total variability\n"
     ]
    }
   ],
   "source": [
    "l, V = np.linalg.eig(cov)\n",
    "Lambda = np.diag(l)\n",
    "print(\"Lambda:\\n\", Lambda, '\\n')\n",
    "print(\"Trace(A):\\n\", cov.trace(), '\\n')\n",
    "print(\"Trace(Lambda):\\n\", Lambda.trace(), '\\n')\n",
    "\n",
    "var_ratio = l / np.sum(l)\n",
    "print('The variance ratio:', var_ratio)\n",
    "print('Based on that x2 and x3 is made with x1, it is logic that the variance ratio is mostly based on x1')\n",
    "print(\"By selecting two components, we retain %.2f%% of the total variability\" % ((Lambda[0,0]+Lambda[2,2])/Lambda.trace()*100))"
   ]
  },
  {
   "cell_type": "markdown",
   "metadata": {},
   "source": [
    "**Plots** "
   ]
  },
  {
   "cell_type": "code",
   "execution_count": 8,
   "metadata": {},
   "outputs": [
    {
     "data": {
      "image/png": "[encoded data removed]",
      "text/plain": [
       "<Figure size 864x576 with 6 Axes>"
      ]
     },
     "metadata": {
      "needs_background": "light"
     },
     "output_type": "display_data"
    }
   ],
   "source": [
    "pca = PCA()\n",
    "v_new_basis = pca.fit_transform(v)\n",
    "\n",
    "fig, axes = plt.subplots(2, 3, figsize=(12, 8))\n",
    "\n",
    "axes[0, 0].scatter(v[:, 0], v[:, 1])\n",
    "axes[0, 0].set_title(\"[x1, x2] Original Basis\")\n",
    "axes[0, 1].scatter(v[:, 0], v[:, 2])\n",
    "axes[0, 1].set_title(\"[x1, x3] Original Basis\")\n",
    "axes[0, 2].scatter(v[:, 1], v[:, 2])\n",
    "axes[0, 2].set_title(\"[x2, x3] Original Basis\")\n",
    "\n",
    "axes[1, 0].scatter(v_new_basis[:, 0], v_new_basis[:, 1])\n",
    "axes[1, 0].set_title(\"[PC1, PC2] New Basis\")\n",
    "axes[1, 1].scatter(v_new_basis[:, 0], v_new_basis[:, 2])\n",
    "axes[1, 1].set_title(\"[PC1, PC3] New Basis\")\n",
    "axes[1, 2].scatter(v_new_basis[:, 1], v_new_basis[:, 2])\n",
    "axes[1, 2].set_title(\"[PC2, PC3] New Basis\")\n",
    "\n",
    "plt.tight_layout()\n",
    "plt.show()"
   ]
  },
  {
   "cell_type": "markdown",
   "metadata": {},
   "source": [
    "2\\. **PCA on a nD dataset**\n",
    "\n",
    "* Start from the dataset you have genereted in the previous exercise and add uncorrelated random noise. Such noise should be represented by other 10 uncorrelated variables normally distributed, with a standard deviation much smaller (e.g. a factor 20) than those used to generate the $x_1$ and $x_2$. Repeat the PCA procedure and compare the results with what you have obtained before."
   ]
  },
  {
   "cell_type": "code",
   "execution_count": 9,
   "metadata": {},
   "outputs": [
    {
     "name": "stdout",
     "output_type": "stream",
     "text": [
      "Original Data Shape: (1000, 3)\n",
      "Noisy Data Shape: (1000, 13)\n"
     ]
    }
   ],
   "source": [
    "num = 10\n",
    "sigma3 = 1/20 #factor 20 less \n",
    "uncorr_noise = np.random.normal(mu, sigma3, size=(N, num))\n",
    "\n",
    "noisy_data = np.hstack((v, uncorr_noise))\n",
    "\n",
    "print(\"Original Data Shape:\", v.shape)\n",
    "print(\"Noisy Data Shape:\", noisy_data.shape)"
   ]
  },
  {
   "cell_type": "code",
   "execution_count": 10,
   "metadata": {},
   "outputs": [],
   "source": [
    "num_noise_vars = 10\n",
    "noise_stdev_factor = 20\n",
    "noise_vars = np.random.normal(0, (sigma1 / noise_stdev_factor), size=(N, num_noise_vars))\n",
    "v_with_noise = np.hstack((v, noise_vars))"
   ]
  },
  {
   "cell_type": "code",
   "execution_count": 11,
   "metadata": {},
   "outputs": [
    {
     "name": "stdout",
     "output_type": "stream",
     "text": [
      "Explained variance without noise: [9.30187650e-01 6.98123501e-02 4.91342736e-32]\n",
      "Explained variance with noise: [9.29354494e-01 6.97508460e-02 1.03809707e-04 1.01085094e-04\n",
      " 9.67304989e-05 9.19185741e-05 8.96393730e-05 8.81412942e-05\n",
      " 8.69581273e-05 8.29833865e-05 7.99430649e-05 7.34509521e-05\n",
      " 9.17302973e-33]\n"
     ]
    }
   ],
   "source": [
    "# Original PCA\n",
    "pca_original = PCA()\n",
    "pca_original.fit(v)\n",
    "\n",
    "# PCA with noise\n",
    "pca_with_noise = PCA()\n",
    "pca_with_noise.fit(noisy_data)\n",
    "\n",
    "# Print the explained variances\n",
    "print(\"Explained variance without noise:\", pca_original.explained_variance_ratio_)\n",
    "print(\"Explained variance with noise:\", pca_with_noise.explained_variance_ratio_)\n"
   ]
  },
  {
   "cell_type": "code",
   "execution_count": 12,
   "metadata": {},
   "outputs": [
    {
     "name": "stdout",
     "output_type": "stream",
     "text": [
      "Lambda shape:\n",
      " (13, 13) \n",
      "\n",
      "Trace(Lambda):\n",
      " 28.000930218446403 \n",
      "\n",
      "By selecting two components, we retain 99.91% of the total variability\n",
      "Selecting one more will increase by 0.01%\n"
     ]
    }
   ],
   "source": [
    "cov = np.cov(noisy_data, rowvar=False)\n",
    "l, V = np.linalg.eig(cov)\n",
    "Lambda = np.diag(l)\n",
    "print(\"Lambda shape:\\n\", Lambda.shape, '\\n')\n",
    "#print(\"Trace(A):\\n\", cov.trace(), '\\n')\n",
    "print(\"Trace(Lambda):\\n\", Lambda.trace(), '\\n')\n",
    "\n",
    "print(\"By selecting two components, we retain %.2f%% of the total variability\" % ((Lambda[0,0]+Lambda[1,1])/Lambda.trace()*100))\n",
    "print(\"Selecting one more will increase by 0.01%\")"
   ]
  },
  {
   "cell_type": "markdown",
   "metadata": {},
   "source": [
    "3\\. **Optional**: **PCA on the MAGIC dataset**\n",
    "\n",
    "Perform a PCA on the magic04.data dataset."
   ]
  },
  {
   "cell_type": "code",
   "execution_count": 13,
   "metadata": {},
   "outputs": [
    {
     "name": "stdout",
     "output_type": "stream",
     "text": [
      "I tried, but I could not figure it out..\n"
     ]
    }
   ],
   "source": [
    "print('I tried, but I could not figure it out..')"
   ]
  },
  {
   "cell_type": "code",
   "execution_count": 31,
   "metadata": {},
   "outputs": [],
   "source": [
    "# get the dataset and its description on the proper data directory\n",
    "#!wget https://archive.ics.uci.edu/ml/machine-learning-databases/magic/magic04.data -P data/\n",
    "#!wget https://archive.ics.uci.edu/ml/machine-learning-databases/magic/magic04.names -P data/ "
   ]
  },
  {
   "cell_type": "code",
   "execution_count": 14,
   "metadata": {},
   "outputs": [],
   "source": [
    "#file_name = \"./data/magic04.data\"\n",
    "#df = pd.read_csv(file_name)\n",
    "#df.shape"
   ]
  },
  {
   "cell_type": "code",
   "execution_count": 15,
   "metadata": {},
   "outputs": [],
   "source": [
    "#file_path = \"./data/magic04.names\"\n",
    "#with open(file_path, 'r') as file:\n",
    "#   content = file.read()\n",
    "#print(content)"
   ]
  }
 ],
 "metadata": {
  "kernelspec": {
   "display_name": "Python 3 (ipykernel)",
   "language": "python",
   "name": "python3"
  },
  "language_info": {
   "codemirror_mode": {
    "name": "ipython",
    "version": 3
   },
   "file_extension": ".py",
   "mimetype": "text/x-python",
   "name": "python",
   "nbconvert_exporter": "python",
   "pygments_lexer": "ipython3",
   "version": "3.10.12"
  }
 },
 "nbformat": 4,
 "nbformat_minor": 4
}
