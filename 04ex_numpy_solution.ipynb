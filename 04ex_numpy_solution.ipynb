{
 "nbformat": 4,
 "nbformat_minor": 0,
 "metadata": {
  "colab": {
   "provenance": []
  },
  "kernelspec": {
   "name": "python3",
   "display_name": "Python 3"
  },
  "language_info": {
   "name": "python"
  }
 },
 "cells": [
  {
   "cell_type": "code",
   "execution_count": 1,
   "metadata": {
    "colab": {
     "base_uri": "https://localhost:8080/"
    },
    "id": "CVO0bi0o9C8m",
    "outputId": "31a103a6-66d0-4d2a-eb89-4f08f47cb250",
    "pycharm": {
     "name": "#%%\n"
    }
   },
   "outputs": [
    {
     "output_type": "stream",
     "name": "stdout",
     "text": [
      "matrix is :\n",
      " [[ 0  1  2  3]\n",
      " [ 4  5  6  7]\n",
      " [ 8  9 10 11]]\n",
      "\n",
      "Total Mean is: 5.5\n",
      "\n",
      "Mean of Each Rows: [1.5 5.5 9.5]\n",
      "\n",
      "Each Row:\n",
      "[0 1 2 3]\n",
      "[4 5 6 7]\n",
      "[ 8  9 10 11]\n",
      "\n",
      "Mean of Each Columns: [4. 5. 6. 7.]\n",
      "\n",
      "Each Column:\n",
      "Column 1: [0 4 8]\n",
      "Column 2: [1 5 9]\n",
      "Column 3: [ 2  6 10]\n",
      "Column 4: [ 3  7 11]\n"
     ]
    }
   ],
   "source": [
    "# exercise4 part one.Reductions\n",
    "\n",
    "\n",
    "import numpy as np # import naming convention\n",
    "\n",
    "m = np.arange(12).reshape((3,4))\n",
    "print(\"matrix is :\\n\" , m)\n",
    "\n",
    "# Q1.find the total mean\n",
    "tot_mean = np.mean(m)\n",
    "print(\"\\nTotal Mean is:\", tot_mean)\n",
    "\n",
    "# Q2.find the mean for each row and column\n",
    "# Find and print the mean for each row in the matrix\n",
    "row = np.mean(m, axis=1)\n",
    "print(\"\\nMean of Each Rows:\", row)\n",
    "# Print each row\n",
    "print(\"\\nEach Row:\")\n",
    "for row in m:\n",
    "    print(row)\n",
    "\n",
    "# Find and print the mean for each column in the matrix\n",
    "column = np.mean(m, axis=0)\n",
    "print(\"\\nMean of Each Columns:\", column)\n",
    "# Print each column\n",
    "print(\"\\nEach Column:\")\n",
    "for j in range(len(m[0])):\n",
    "    column = m[:, j]\n",
    "    print(f\"Column {j + 1}: {column}\")"
   ]
  },
  {
   "cell_type": "code",
   "source": [
    "# exercise4 part two.Outer product\n",
    "\n",
    "\n",
    "import numpy as np\n",
    "\n",
    "u = np.array([1, 3, 5, 7])\n",
    "v = np.array([2, 4, 6, 8])\n",
    "\n",
    "# Q1.Using outer function\n",
    "print (\"Using the outer function:\\n\", np.outer(u,v))\n",
    "\n",
    "# Q2.Using a nested for loop\n",
    "result = []\n",
    "for i in u:\n",
    "    row = []\n",
    "    for j in v:\n",
    "        row.append(i * j)\n",
    "    result.append(row)\n",
    "print (\"\\nOuter product using nested loop:\\n\", np.array(result) )\n",
    "\n",
    "# Q3.Using numpy broadcasting operations\n",
    "u_broadcasting = u.reshape(-1, 1)\n",
    "outer_product_broadcasting = u_broadcasting * v\n",
    "print(\"\\nOuter product using broadcasting:\\n\", outer_product_broadcasting)"
   ],
   "metadata": {
    "colab": {
     "base_uri": "https://localhost:8080/"
    },
    "id": "b7igbndb9hJo",
    "outputId": "ec15320f-bf94-49e8-b31e-cfcd8ad8b621",
    "pycharm": {
     "name": "#%%\n"
    }
   },
   "execution_count": 2,
   "outputs": [
    {
     "output_type": "stream",
     "name": "stdout",
     "text": [
      "Using the outer function:\n",
      " [[ 2  4  6  8]\n",
      " [ 6 12 18 24]\n",
      " [10 20 30 40]\n",
      " [14 28 42 56]]\n",
      "\n",
      "Outer product using nested loop:\n",
      " [[ 2  4  6  8]\n",
      " [ 6 12 18 24]\n",
      " [10 20 30 40]\n",
      " [14 28 42 56]]\n",
      "\n",
      "Outer product using broadcasting:\n",
      " [[ 2  4  6  8]\n",
      " [ 6 12 18 24]\n",
      " [10 20 30 40]\n",
      " [14 28 42 56]]\n"
     ]
    }
   ]
  },
  {
   "cell_type": "code",
   "source": [
    "# exercise 4 part three. Matrix masking\n",
    "\n",
    "\n",
    "import numpy as np\n",
    "\n",
    "# Create a 10*6 matrix of random numbers between 0 and 3\n",
    "matrix_size = (10, 6)\n",
    "lower_case = 0\n",
    "upper_case = 3\n",
    "\n",
    "# Create a random matrix name m using a uniform distribution\n",
    "m = np.random.uniform(lower_case, upper_case, size=matrix_size)\n",
    "\n",
    "# Set all elements in the matrix m that are less than 0.3 to zero.m[mask] = 0\n",
    "m[m<0.3]=0\n",
    "\n",
    "# Display the matrix\n",
    "print(\"Random Matrix with Entries < 0.3 Set to Zero:\\n\", m)"
   ],
   "metadata": {
    "colab": {
     "base_uri": "https://localhost:8080/"
    },
    "id": "cGIeiI0g9kLf",
    "outputId": "47dd4973-1365-405e-d805-73cf9afdb6e0",
    "pycharm": {
     "name": "#%%\n"
    }
   },
   "execution_count": 3,
   "outputs": [
    {
     "output_type": "stream",
     "name": "stdout",
     "text": [
      "Random Matrix with Entries < 0.3 Set to Zero:\n",
      " [[0.91548729 2.97094868 1.9655692  1.80724266 2.23892782 0.        ]\n",
      " [0.         0.52211849 1.08413895 1.55554562 1.06764302 2.36433712]\n",
      " [0.89842707 0.         1.45884584 1.65631628 2.7350634  0.46507452]\n",
      " [2.63890026 2.00823727 2.3688824  2.74041458 0.36691058 0.61510445]\n",
      " [2.20025844 0.66622453 1.27342973 2.4487845  0.         1.55827841]\n",
      " [2.79299343 1.20974937 2.54896271 2.34249944 1.85067905 2.50140659]\n",
      " [1.90044308 1.0436961  0.83111094 2.95393396 0.73292468 2.88667718]\n",
      " [2.45141526 2.16778624 0.66684018 0.9717065  1.70823356 0.84139371]\n",
      " [0.46420707 2.43041127 1.25661147 0.9780469  1.51197188 0.81258154]\n",
      " [1.20327279 0.         2.15052002 2.70033384 0.50992612 0.844258  ]]\n"
     ]
    }
   ]
  },
  {
   "cell_type": "code",
   "source": [
    "# exercise 4 part four. Trigonometric functions\n",
    "\n",
    "\n",
    "import numpy as np\n",
    "\n",
    "# Create an array of 100 numbers\n",
    "start = 0\n",
    "stop = 2 * np.pi\n",
    "num_points = 100  # number of points we want in our array\n",
    "angles = np.linspace(start, stop, num_points)\n",
    "\n",
    "# ract every 10th element from the array\n",
    "alternative = []\n",
    "for i in range(0, len(angles), 10):\n",
    "    alternative.append(angles[i])\n",
    "\n",
    "# Q1.Convert the result back to a NumPy array\n",
    "convert = np.array(alternative)\n",
    "print(\"Every 10th element:\\n\", convert)\n",
    "\n",
    "# Q2. Reverse the array using a loop\n",
    "reversed_angles = []\n",
    "for j in range(len(angles) - 1, -1, -1):\n",
    "    reversed_angles.append(angles[j])\n",
    "print(\"\\nReversed array:\\n\", reversed_angles)\n",
    "\n",
    "\n",
    "# Q3.Extract elements where the absolute difference between sin and cos is < 0.1\n",
    "sin_values = np.sin(angles) # sin value for each angle\n",
    "cos_values = np.cos(angles) # cos value for each angle\n",
    "\n",
    "abs_difference = np.abs(sin_values - cos_values) # Calculate the difference between sin and cos\n",
    "close_points = angles[abs_difference < 0.1] # Select elements where the difference is less than 0.1\n",
    "print(\"\\nClose points between sin and cos:\\n\", close_points)"
   ],
   "metadata": {
    "colab": {
     "base_uri": "https://localhost:8080/"
    },
    "id": "sQHPnTvU9mof",
    "outputId": "a3314cfe-a3fa-449b-ca8d-984513ccca97",
    "pycharm": {
     "name": "#%%\n"
    }
   },
   "execution_count": 4,
   "outputs": [
    {
     "output_type": "stream",
     "name": "stdout",
     "text": [
      "Every 10th element:\n",
      " [0.         0.63466518 1.26933037 1.90399555 2.53866073 3.17332591\n",
      " 3.8079911  4.44265628 5.07732146 5.71198664]\n",
      "\n",
      "Reversed array:\n",
      " [6.283185307179586, 6.219718788925247, 6.156252270670908, 6.092785752416569, 6.029319234162229, 5.96585271590789, 5.902386197653551, 5.838919679399211, 5.775453161144872, 5.711986642890533, 5.648520124636194, 5.585053606381854, 5.521587088127515, 5.458120569873176, 5.394654051618837, 5.331187533364497, 5.267721015110158, 5.204254496855819, 5.14078797860148, 5.07732146034714, 5.013854942092801, 4.950388423838462, 4.886921905584122, 4.823455387329783, 4.759988869075444, 4.696522350821105, 4.6330558325667655, 4.569589314312426, 4.506122796058087, 4.442656277803748, 4.3791897595494085, 4.3157232412950695, 4.25225672304073, 4.188790204786391, 4.1253236865320515, 4.0618571682777125, 3.998390650023373, 3.934924131769034, 3.8714576135146945, 3.8079910952603555, 3.744524577006016, 3.681058058751677, 3.6175915404973376, 3.5541250222429985, 3.490658503988659, 3.42719198573432, 3.3637254674799806, 3.3002589492256416, 3.236792430971302, 3.173325912716963, 3.1098593944626236, 3.0463928762082846, 2.982926357953945, 2.9194598396996057, 2.8559933214452666, 2.792526803190927, 2.729060284936588, 2.6655937666822487, 2.6021272484279097, 2.53866073017357, 2.475194211919231, 2.4117276936648917, 2.3482611754105527, 2.284794657156213, 2.221328138901874, 2.1578616206475347, 2.0943951023931957, 2.0309285841388562, 1.967462065884517, 1.9039955476301778, 1.8405290293758385, 1.7770625111214993, 1.71359599286716, 1.6501294746128208, 1.5866629563584815, 1.5231964381041423, 1.4597299198498028, 1.3962634015954636, 1.3327968833411243, 1.269330365086785, 1.2058638468324459, 1.1423973285781066, 1.0789308103237674, 1.0154642920694281, 0.9519977738150889, 0.8885312555607496, 0.8250647373064104, 0.7615982190520711, 0.6981317007977318, 0.6346651825433925, 0.5711986642890533, 0.5077321460347141, 0.4442656277803748, 0.3807991095260356, 0.3173325912716963, 0.25386607301735703, 0.1903995547630178, 0.12693303650867852, 0.06346651825433926, 0.0]\n",
      "\n",
      "Close points between sin and cos:\n",
      " [0.76159822 0.82506474 3.87145761 3.93492413]\n"
     ]
    }
   ]
  },
  {
   "cell_type": "code",
   "source": [
    "# exercise 4 part five.Matrices\n",
    "\n",
    "\n",
    "import numpy as np\n",
    "\n",
    "# Create an empty list to store the rows\n",
    "table_list = []\n",
    "\n",
    "# Use nested loops to fill the list.\n",
    "for i in range(10):\n",
    "    row = []\n",
    "    for j in range(10):\n",
    "        row.append((i + 1) * (j + 1))\n",
    "    table_list.append(row)\n",
    "\n",
    "# Convert the list to a NumPy array\n",
    "multiplication_table = np.array(table_list, dtype=int)\n",
    "\n",
    "# Display the multiplication table matrix\n",
    "print(\"\\nMultiplication Table Matrix:\")\n",
    "print(multiplication_table)\n",
    "\n",
    "# Fill in the matrix with multiplication table values\n",
    "for i in range(1, 11):\n",
    "    for j in range(1, 11):\n",
    "        multiplication_table[i-1, j-1] = i * j\n",
    "\n",
    "# Display the multiplication table matrix\n",
    "print(\"\\n\\nMultiplication Table Matrix:\", multiplication_table)\n",
    "\n",
    "# Q1.Find the trace of the matrix\n",
    "trace_value = np.trace(multiplication_table)\n",
    "print(\"\\n\\nTrace of the Matrix:\", trace_value)\n",
    "\n",
    "# Q2.Extract the anti-diagonal matrix\n",
    "anti_diagonal = np.flipud(multiplication_table)\n",
    "print(\"\\n\\nAnti-Diagonal Matrix:\", anti_diagonal)\n",
    "\n",
    "# Q3.Extract the diagonal offset by 1 upwards\n",
    "diagonal_offset = np.diagonal(multiplication_table, offset=1)\n",
    "print(\"\\n\\nDiagonal Offset by 1 Upwards:\" , diagonal_offset)"
   ],
   "metadata": {
    "colab": {
     "base_uri": "https://localhost:8080/"
    },
    "id": "W2ke8ZYD9p4_",
    "outputId": "2bc1e75d-49f3-4220-da8f-85a2c66a05c2",
    "pycharm": {
     "name": "#%%\n"
    }
   },
   "execution_count": 5,
   "outputs": [
    {
     "output_type": "stream",
     "name": "stdout",
     "text": [
      "\n",
      "Multiplication Table Matrix:\n",
      "[[  1   2   3   4   5   6   7   8   9  10]\n",
      " [  2   4   6   8  10  12  14  16  18  20]\n",
      " [  3   6   9  12  15  18  21  24  27  30]\n",
      " [  4   8  12  16  20  24  28  32  36  40]\n",
      " [  5  10  15  20  25  30  35  40  45  50]\n",
      " [  6  12  18  24  30  36  42  48  54  60]\n",
      " [  7  14  21  28  35  42  49  56  63  70]\n",
      " [  8  16  24  32  40  48  56  64  72  80]\n",
      " [  9  18  27  36  45  54  63  72  81  90]\n",
      " [ 10  20  30  40  50  60  70  80  90 100]]\n",
      "\n",
      "\n",
      "Multiplication Table Matrix: [[  1   2   3   4   5   6   7   8   9  10]\n",
      " [  2   4   6   8  10  12  14  16  18  20]\n",
      " [  3   6   9  12  15  18  21  24  27  30]\n",
      " [  4   8  12  16  20  24  28  32  36  40]\n",
      " [  5  10  15  20  25  30  35  40  45  50]\n",
      " [  6  12  18  24  30  36  42  48  54  60]\n",
      " [  7  14  21  28  35  42  49  56  63  70]\n",
      " [  8  16  24  32  40  48  56  64  72  80]\n",
      " [  9  18  27  36  45  54  63  72  81  90]\n",
      " [ 10  20  30  40  50  60  70  80  90 100]]\n",
      "\n",
      "\n",
      "Trace of the Matrix: 385\n",
      "\n",
      "\n",
      "Anti-Diagonal Matrix: [[ 10  20  30  40  50  60  70  80  90 100]\n",
      " [  9  18  27  36  45  54  63  72  81  90]\n",
      " [  8  16  24  32  40  48  56  64  72  80]\n",
      " [  7  14  21  28  35  42  49  56  63  70]\n",
      " [  6  12  18  24  30  36  42  48  54  60]\n",
      " [  5  10  15  20  25  30  35  40  45  50]\n",
      " [  4   8  12  16  20  24  28  32  36  40]\n",
      " [  3   6   9  12  15  18  21  24  27  30]\n",
      " [  2   4   6   8  10  12  14  16  18  20]\n",
      " [  1   2   3   4   5   6   7   8   9  10]]\n",
      "\n",
      "\n",
      "Diagonal Offset by 1 Upwards: [ 2  6 12 20 30 42 56 72 90]\n"
     ]
    }
   ]
  },
  {
   "cell_type": "code",
   "source": [
    "#exercise4 part six.Broadcasting\n",
    "\n",
    "\n",
    "import numpy as np\n",
    "\n",
    "# Cities along Route 66\n",
    "cities = [\"Chicago\", \"Springfield\", \"Saint-Louis\", \"Tulsa\", \"Oklahoma City\", \"Amarillo\", \"Santa Fe\", \"Albuquerque\", \"Flagstaff\", \"Los Angeles\"]\n",
    "\n",
    "# Corresponding positions in miles\n",
    "position_miles = np.array([0, 198, 303, 736, 871, 1175, 1475, 1544, 1913, 2448])\n",
    "\n",
    "# Q1. Build a 2D grid of distances among each city along Route 66\n",
    "num_cities = len(cities)\n",
    "distances_alternative = np.zeros((num_cities, num_cities))  # creating arrays of zeros\n",
    "\n",
    "for i in range(num_cities):\n",
    "    for j in range(num_cities):\n",
    "        distances_alternative[i, j] = position_miles[j] - position_miles[i]\n",
    "\n",
    "# Take the absolute values of the differences\n",
    "distances_alternative = np.abs(distances_alternative)\n",
    "\n",
    "# Display the 2D grid of distances in miles\n",
    "print(\"2D Grid of Distances (in miles):\")\n",
    "print(distances_alternative)\n",
    "\n",
    "# Q2. Convert the distances to km\n",
    "convert_factor = 1.60934\n",
    "\n",
    "# Convert distances from miles to kilometers\n",
    "position_km = position_miles * convert_factor\n",
    "\n",
    "# Create an empty 2D array for distances in kilometers\n",
    "distances_km = np.zeros((len(position_km), len(position_km)))\n",
    "\n",
    "# Calculate the absolute differences between each pair of distances and fill the 2D array\n",
    "for i in range(len(position_km)):\n",
    "    for j in range(len(position_km)):\n",
    "        distances_km[i, j] = np.abs(position_km[j] - position_km[i])\n",
    "\n",
    "# Display the 2D grid of distances in kilometers\n",
    "print(\"\\n2D Grid of Distances (in kilometers):\", distances_km)\n"
   ],
   "metadata": {
    "colab": {
     "base_uri": "https://localhost:8080/"
    },
    "id": "MHv_80Oc9t5n",
    "outputId": "d9c34532-bde8-4781-ec76-3d989fe5b652",
    "pycharm": {
     "name": "#%%\n"
    }
   },
   "execution_count": 6,
   "outputs": [
    {
     "output_type": "stream",
     "name": "stdout",
     "text": [
      "2D Grid of Distances (in miles):\n",
      "[[   0.  198.  303.  736.  871. 1175. 1475. 1544. 1913. 2448.]\n",
      " [ 198.    0.  105.  538.  673.  977. 1277. 1346. 1715. 2250.]\n",
      " [ 303.  105.    0.  433.  568.  872. 1172. 1241. 1610. 2145.]\n",
      " [ 736.  538.  433.    0.  135.  439.  739.  808. 1177. 1712.]\n",
      " [ 871.  673.  568.  135.    0.  304.  604.  673. 1042. 1577.]\n",
      " [1175.  977.  872.  439.  304.    0.  300.  369.  738. 1273.]\n",
      " [1475. 1277. 1172.  739.  604.  300.    0.   69.  438.  973.]\n",
      " [1544. 1346. 1241.  808.  673.  369.   69.    0.  369.  904.]\n",
      " [1913. 1715. 1610. 1177. 1042.  738.  438.  369.    0.  535.]\n",
      " [2448. 2250. 2145. 1712. 1577. 1273.  973.  904.  535.    0.]]\n",
      "\n",
      "2D Grid of Distances (in kilometers): [[   0.       318.64932  487.63002 1184.47424 1401.73514 1890.9745\n",
      "  2373.7765  2484.82096 3078.66742 3939.66432]\n",
      " [ 318.64932    0.       168.9807   865.82492 1083.08582 1572.32518\n",
      "  2055.12718 2166.17164 2760.0181  3621.015  ]\n",
      " [ 487.63002  168.9807     0.       696.84422  914.10512 1403.34448\n",
      "  1886.14648 1997.19094 2591.0374  3452.0343 ]\n",
      " [1184.47424  865.82492  696.84422    0.       217.2609   706.50026\n",
      "  1189.30226 1300.34672 1894.19318 2755.19008]\n",
      " [1401.73514 1083.08582  914.10512  217.2609     0.       489.23936\n",
      "   972.04136 1083.08582 1676.93228 2537.92918]\n",
      " [1890.9745  1572.32518 1403.34448  706.50026  489.23936    0.\n",
      "   482.802    593.84646 1187.69292 2048.68982]\n",
      " [2373.7765  2055.12718 1886.14648 1189.30226  972.04136  482.802\n",
      "     0.       111.04446  704.89092 1565.88782]\n",
      " [2484.82096 2166.17164 1997.19094 1300.34672 1083.08582  593.84646\n",
      "   111.04446    0.       593.84646 1454.84336]\n",
      " [3078.66742 2760.0181  2591.0374  1894.19318 1676.93228 1187.69292\n",
      "   704.89092  593.84646    0.       860.9969 ]\n",
      " [3939.66432 3621.015   3452.0343  2755.19008 2537.92918 2048.68982\n",
      "  1565.88782 1454.84336  860.9969     0.     ]]\n"
     ]
    }
   ]
  },
  {
   "cell_type": "code",
   "source": [
    "# exercise4 part seven.Prime numbers sieve\n",
    "\n",
    "\n",
    "import numpy as np\n",
    "import timeit\n",
    "\n",
    "# Q1. Construct a shape (N,) boolean array\n",
    "def  prime_numbers_sieve(n):\n",
    "    is_prime = [True] * (n + 1)     # Creating a list to keep numbers\n",
    "\n",
    "    is_prime[0] = is_prime[1] = False\n",
    "\n",
    "# Q2.Identify the multiples of each number\n",
    "    for i in range(2, int(np.sqrt(n)) + 1):      # find prime numbers with sieve algorythm\n",
    "        if is_prime[i]:\n",
    "            for j in range(i*i, n+1, i):\n",
    "                is_prime[j] = False\n",
    "\n",
    "    # Create an empty list to store prime numbers\n",
    "    primes = []\n",
    "\n",
    "# Q3.Apply the mask to obtain an array\n",
    "    # Add prime numbers to the list\n",
    "    for i in range(n + 1):\n",
    "        if is_prime[i]:\n",
    "            primes.append(i)\n",
    "\n",
    "    # Convert the list to a NumPy array\n",
    "    primes = np.array(primes)\n",
    "    return primes\n",
    "\n",
    "# Set the range upper limit (N)\n",
    "N = 99\n",
    "\n",
    "# Use the sieve to find prime numbers\n",
    "primes =  prime_numbers_sieve(N)\n",
    "\n",
    "# Display the prime numbers\n",
    "print(\"Prime Numbers up to\", N, \":\", primes)\n",
    "\n",
    "# Q4.Check the performances (with timeit)\n",
    "# Check the performance using timeit\n",
    "lambda_function = lambda: prime_numbers_sieve(N)\n",
    "time_taken = timeit.timeit(lambda_function, number=10000) # Measure the time taken using timeit with 10000 iterations\n",
    "print(\"Time taken for N =\", N, \":\", time_taken, \"seconds\")\n"
   ],
   "metadata": {
    "colab": {
     "base_uri": "https://localhost:8080/"
    },
    "id": "hSPCtp629wkf",
    "outputId": "17fc03f1-6b45-43a1-f6e3-f9fbb9dc5148",
    "pycharm": {
     "name": "#%%\n"
    }
   },
   "execution_count": 7,
   "outputs": [
    {
     "output_type": "stream",
     "name": "stdout",
     "text": [
      "Prime Numbers up to 99 : [ 2  3  5  7 11 13 17 19 23 29 31 37 41 43 47 53 59 61 67 71 73 79 83 89\n",
      " 97]\n",
      "Time taken for N = 99 : 0.17840010800000528 seconds\n"
     ]
    }
   ]
  },
  {
   "cell_type": "code",
   "source": [
    "# exercise 4 part eight.Diffusion using random walk\n",
    "\n",
    "\n",
    "import numpy as np\n",
    "from numpy.random import randint\n",
    "\n",
    "# Q1. Set the number of walkers and steps\n",
    "walkers = 1000\n",
    "steps = 200\n",
    "\n",
    "# Q2. Create a 2D array for random walk steps\n",
    "random_steps = randint(low=-1, high=2, size=(walkers, steps))\n",
    "\n",
    "# Q3. Calculate walking distances for each walker\n",
    "distances = []      # set a list to store\n",
    "\n",
    "for current_step in range(1, steps + 1):\n",
    "    # indexing for rows and columns\n",
    "    rows = np.arange(walkers)\n",
    "    columns = np.arange(current_step)\n",
    "\n",
    "    # Create an empty list to store rows with selected columns\n",
    "    selected_rows = []\n",
    "\n",
    "    # Loop through each row in random_steps\n",
    "    for row in random_steps:\n",
    "        # Select the desired columns for the current row\n",
    "        selected_row = row[columns]\n",
    "\n",
    "        # Append the selected row to the list\n",
    "        selected_rows.append(selected_row)\n",
    "\n",
    "    # Convert the list of rows into a NumPy array\n",
    "    selected_steps = np.array(selected_rows)\n",
    "\n",
    "    # Sum the steps for each walker\n",
    "    total_distance = np.sum(selected_steps, axis=1)\n",
    "\n",
    "    # Store the total distance for each walker at the current step\n",
    "    distances.append(total_distance)\n",
    "\n",
    "# Q4.Convert the list of distances into a NumPy array\n",
    "distances = np.array(distances).T\n",
    "\n",
    "# Calculate the squared distances\n",
    "squared_distances = pow(distances, 2)\n",
    "\n",
    "# Q5.Calculate the average squared distance at each time step\n",
    "mean_distances = np.mean(squared_distances, axis=0)\n",
    "\n",
    "# Print the results\n",
    "print(\"Average squared distance at each time step:\")\n",
    "print(mean_distances)"
   ],
   "metadata": {
    "colab": {
     "base_uri": "https://localhost:8080/"
    },
    "id": "fSvfeorg90VW",
    "outputId": "6a40f26c-5521-4934-a937-46c79d9d9dee",
    "pycharm": {
     "name": "#%%\n"
    }
   },
   "execution_count": 9,
   "outputs": [
    {
     "output_type": "stream",
     "name": "stdout",
     "text": [
      "Average squared distance at each time step:\n",
      "[  0.703   1.319   1.977   2.635   3.431   4.011   4.698   5.43    6.052\n",
      "   6.776   7.466   8.134   8.983   9.826  10.698  11.3    12.107  12.947\n",
      "  13.477  14.299  14.856  15.854  16.556  17.26   17.712  18.857  19.544\n",
      "  20.018  20.955  21.633  22.102  22.634  23.261  23.683  24.281  25.21\n",
      "  26.329  26.942  28.063  28.803  29.959  30.727  31.748  32.261  33.052\n",
      "  33.582  34.189  35.263  35.681  35.866  37.162  38.323  38.351  39.417\n",
      "  40.356  41.322  41.656  41.936  42.795  43.997  44.828  45.689  46.508\n",
      "  46.594  47.5    47.761  49.133  49.708  50.266  50.429  50.955  51.463\n",
      "  52.039  52.502  53.307  54.025  54.974  55.913  56.517  57.071  57.328\n",
      "  58.354  58.399  59.157  59.166  59.369  59.901  59.975  59.94   60.326\n",
      "  61.099  61.687  62.181  62.731  63.613  63.845  64.896  65.64   66.686\n",
      "  67.379  67.738  68.259  68.775  70.404  71.43   71.81   71.762  72.369\n",
      "  73.122  73.262  73.458  74.833  75.567  76.767  77.573  78.772  78.647\n",
      "  78.947  79.906  80.547  80.908  81.718  81.666  83.066  83.666  84.615\n",
      "  85.126  85.466  85.86   86.318  86.112  88.005  88.843  89.514  89.933\n",
      "  91.466  92.068  92.545  92.761  93.013  93.709  94.626  95.568  95.668\n",
      "  96.099  97.09   97.892  97.887  98.47   97.994  99.042 100.508 101.18\n",
      " 102.879 104.217 104.482 105.205 105.666 106.018 106.202 106.843 107.727\n",
      " 108.705 108.926 109.272 109.51  110.924 111.432 112.733 113.251 114.481\n",
      " 114.876 116.162 117.45  118.063 118.598 120.269 121.203 122.031 122.817\n",
      " 124.347 125.159 126.486 126.918 127.296 127.907 128.008 129.754 130.632\n",
      " 131.478 131.774 133.321 134.149 134.489 136.003 136.858 137.278 138.09\n",
      " 138.554 138.517]\n"
     ]
    }
   ]
  }
 ]
}