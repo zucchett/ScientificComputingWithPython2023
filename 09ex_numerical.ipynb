{
 "cells": [
  {
   "cell_type": "markdown",
   "metadata": {},
   "source": [
    "1\\. **2D minimization of a six-hump camelback function**\n",
    "\n",
    "$$f(x,y) = \\left(4-2.1x^2+\\frac{x^4}{3} \\right) x^2 +xy + (4y^2 -4)y^2$$\n",
    "\n",
    "has multiple global and local minima.\n",
    "\n",
    "- Find the global minima of this function\n",
    "- How many global minima are there, and what is the function value at those points?\n",
    "- What happens for an initial guess of $(x, y) = (0, 0)$?\n",
    "\n",
    "Hints:\n",
    "\n",
    "* Variables can be restricted to $-2 < x < 2$ and $-1 < y < 1$.\n",
    "* Use `numpy.meshgrid()` and `pylab.imshow()` to graphically display the regions.\n",
    "* Use `scipy.optimize.minimize()`, trying its optional arguments."
   ]
  },
  {
   "cell_type": "code",
   "execution_count": null,
   "metadata": {},
   "outputs": [],
   "source": []
  },
  {
   "cell_type": "markdown",
   "metadata": {},
   "source": [
    "2\\. **Non-linear ODE: the damped pendulum**\n",
    "\n",
    "The equation of the motion of a forced pendulum, as a function of the angle $\\theta$ with the vertical, is given by:\n",
    "\n",
    "$$\\frac{d^2\\theta}{dt^2} = -\\frac{1}{Q} \\frac{d\\theta}{dt} + \\frac{g}{l}\\sin\\theta + d \\cos\\Omega t$$\n",
    "\n",
    "where $t$ is time, $Q$ is the damping factor, $d$ is the forcing amplitude, and $\\Omega$ is the driving frequency of the forcing. \n",
    "\n",
    "This second order ODE needs to be written as two coupled first order ODEs by defining a new variable $\\omega \\equiv d\\theta/dt$:\n",
    "\n",
    "$$\\frac{d\\theta}{dt} = \\omega$$\n",
    "$$\\frac{d\\omega}{dt} = -\\frac{1}{Q}\\,\\omega + \\frac{g}{l}\\sin\\theta + d \\cos\\Omega t$$\n",
    "\n",
    "Consider the initial conditions $\\theta_0 = \\omega_0 = 0$, and $l = 10$, $Q = 2.0$, $d = 1.5$, and $\\omega = 0.65$.\n",
    "\n",
    " - Solve the ODE with `odeint` over a period of 200 time steps\n",
    " - Create two plots, one of $\\theta$ as a function of the time, and $\\omega$ as a function of the time\n",
    " - **Optional**: determine if there is a set of parameters for which the motion is chaotic."
   ]
  },
  {
   "cell_type": "code",
   "execution_count": null,
   "metadata": {},
   "outputs": [],
   "source": []
  },
  {
   "cell_type": "markdown",
   "metadata": {},
   "source": [
    "3\\. **FFT of a simple dataset**\n",
    "\n",
    "Perform a periodicity analysis on the lynxs-hares population, i.e. determine what is the period of the population of these animals.\n",
    "\n",
    "The dataset is the one downloaded at the beginning of Lecture 06:\n",
    "\n",
    " - `!wget https://www.dropbox.com/s/ebe1cnyd2gm836a/populations.txt -P data/`"
   ]
  },
  {
   "cell_type": "code",
   "execution_count": null,
   "metadata": {},
   "outputs": [],
   "source": []
  },
  {
   "cell_type": "markdown",
   "metadata": {},
   "source": [
    "4\\. **FFT of an image**\n",
    "\n",
    "Write a filter that removes the periodic noise from the `moonlanding.png` image by using a 2-dimensional FFT.\n",
    "\n",
    "* Import the image as a 2D numpy array using `plt.imread(\"images/moonlanding.png\")`. Examine the image with `plt.imshow()`, which is heavily contaminated with periodic noise.\n",
    "* Check the documentation of the `scipy.fftpack` package, and find the method that performs a 2D FFT. Plot the spectrum (Fourier transform of) the image. **Hint**: use `LogNorm` to plot the colors in log scale:\n",
    "```Python\n",
    "from matplotlib.colors import LogNorm\n",
    "plt.imshow(image, norm=LogNorm(vmin=5))\n",
    "```\n",
    "* Inspect the spectrum, and try to locate the 2D regions of the power spectrum that contain the signal and those which contain the periodic noise. Use array slicing to set the noise regions to zero.\n",
    "* Apply the inverse Fourier transform to plot the resulting image."
   ]
  },
  {
   "cell_type": "code",
   "execution_count": null,
   "metadata": {},
   "outputs": [],
   "source": []
  }
 ],
 "metadata": {
  "kernelspec": {
   "display_name": "Python 3 (ipykernel)",
   "language": "python",
   "name": "python3"
  },
  "language_info": {
   "codemirror_mode": {
    "name": "ipython",
    "version": 3
   },
   "file_extension": ".py",
   "mimetype": "text/x-python",
   "name": "python",
   "nbconvert_exporter": "python",
   "pygments_lexer": "ipython3",
   "version": "3.10.12"
  }
 },
 "nbformat": 4,
 "nbformat_minor": 2
}
