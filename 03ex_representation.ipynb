{
 "cells": [
  {
   "cell_type": "markdown",
   "metadata": {},
   "source": [
    "You can solve these exercises in the room or at home. For this week, and the next 3 weeks, exercises have to be solved by creating a single dedicated `.py` file called `03ex_representation.py`.\n",
    "\n",
    "You can divide the individual exercises in the source code with appropriate comments (`#`).\n",
    "\n",
    "The exercises need to run without errors with `python3 03ex_representation.py`."
   ]
  },
  {
   "cell_type": "markdown",
   "metadata": {},
   "source": [
    "1\\. **Number representation**\n",
    "\n",
    "Write a function that converts integer numbers among the bin, dec, and hex representations (bin<->dec<->hex).\n",
    "Determine the input type in the function, and pass another argument to choose the output representation."
   ]
  },
  {
   "cell_type": "code",
   "execution_count": null,
   "metadata": {
    "vscode": {
     "languageId": "plaintext"
    }
   },
   "outputs": [],
   "source": [
    "num = 10100\n",
    "print(type(num))\n",
    "\n",
    "def convert_num(num, opt):\n",
    "    # 确认数据类型\n",
    "    print(num,opt)\n",
    "    type_num = type(num)\n",
    "    print(type_num)\n",
    "    if opt == \"din_to_dec\":\n",
    "        din_dec = int(num, 2)  # 2-10\n",
    "        print(\"Value in dec:\", din_dec)\n",
    "    elif opt == \"bin_to_hex\":\n",
    "        bin_hex = hex(int(num, 2))  # 2-16\n",
    "        print(\"Value in hex:\", bin_hex)\n",
    "    elif opt == \"dec_to_hex\":\n",
    "        dec_hex = hex(num)[2:]  # 10-16\n",
    "        print(\"Value in dec:\", dec_hex)\n",
    "    elif opt == \"dec_to_bin\":\n",
    "        dec_bin = bin(num)[2:]  # 10-2 并进行切片操作\n",
    "        print(\"Value in dec:\", dec_bin)\n",
    "    elif opt == \"hex_to_dec\":\n",
    "        hex_bin = bin(int(num, 16))  # 16-2\n",
    "        print(\"Value in dec:\", hex_bin)\n",
    "    elif opt == \"hex_to_dec\":\n",
    "        hex_dec = int(num, 16)  # 16-10\n",
    "        print(\"Value in dec:\", hex_dec)\n",
    "    return\n",
    "\n",
    "\n",
    "input_num = input(\"write a number: \")\n",
    "input_opt = input(\"write another argument to choose the output representation: \")\n",
    "\n",
    "convert_num(input_num, input_opt)"
   ]
  },
  {
   "cell_type": "markdown",
   "metadata": {},
   "source": [
    "2\\. **32-bit floating point number**\n",
    "\n",
    "Write a function that converts a 32 bit binary string (for example, `110000101011000000000000`) into a single precision floating point in decimal representation. Interpret the various bits as sign, fractional part of the mantissa and exponent, according to the IEEE 754 reccommendations."
   ]
  },
  {
   "cell_type": "code",
   "execution_count": null,
   "metadata": {
    "vscode": {
     "languageId": "plaintext"
    }
   },
   "outputs": [],
   "source": []
  },
  {
   "cell_type": "markdown",
   "metadata": {},
   "source": [
    "3\\. **Underflow and overflow**\n",
    "\n",
    "Write a program to determine the approximate underflow and overflow limits (within a factor of 2) for floating point numbers on your computer. \n",
    "\n",
    "*Hint*: define two variables initialized to 1, and halve/double them for a sufficient amount of times to exceed the under/over-flow limits."
   ]
  },
  {
   "cell_type": "code",
   "execution_count": null,
   "metadata": {
    "vscode": {
     "languageId": "plaintext"
    }
   },
   "outputs": [],
   "source": [
    "num = 999\n",
    "un_flow = 1\n",
    "ov_flow = 1\n",
    "\n",
    "for i in range(num):\n",
    "    un_flow = un_flow / 2\n",
    "    ov_flow = ov_flow * 2\n",
    "    print(i, \"\\t\", \":%1.5e\" % un_flow, \"\\t\", \":%1.5e\" % ov_flow)"
   ]
  },
  {
   "cell_type": "markdown",
   "metadata": {},
   "source": [
    "4\\. **Machine precision**\n",
    "\n",
    "Similarly to the previous exercise, write a program to determine the machine precision for floating point numbers.\n",
    "\n",
    "*Hint*: define a new variable by adding an increasingly smaller value and check when the addition starts to have no effect on the number."
   ]
  },
  {
   "cell_type": "code",
   "execution_count": null,
   "metadata": {
    "vscode": {
     "languageId": "plaintext"
    }
   },
   "outputs": [],
   "source": [
    "num = 20\n",
    "var = 7\n",
    "sam = 1/9\n",
    "\n",
    "for i in range(num):\n",
    "    var = var + sam\n",
    "    sam = sam * (1/9)\n",
    "    print(i, \"\\t\\t\", var)\n",
    "\n",
    "print(\"After 14th step there is no effect on the number\")"
   ]
  },
  {
   "cell_type": "markdown",
   "metadata": {},
   "source": [
    "5\\. **Quadratic solution**\n",
    "\n",
    "Write a function that takes in input three parameters $a$, $b$ and $c$ and prints out the two solutions to the quadratic equation $ax^2+bx+c=0$ using the standard formula:\n",
    "$$\n",
    "x=\\frac{-b\\pm\\sqrt{b^2-4ac}}{2a}\n",
    "$$\n",
    "\n",
    "(a) use the function to compute the solution for $a=0.001$, $b=1000$ and $c=0.001$\n",
    "\n",
    "(b) re-express the standard solution formula by multiplying the numerator and the denominator by $-b\\mp\\sqrt{b^2-4ac}$ and again find the solution for $a=0.001$, $b=1000$ and $c=0.001$. How does it compare with what has been previously obtained, and why? (add the answer to a Python comment)\n",
    "\n",
    "(c) write a function that computes the roots of a quadratic equation accurately in all cases"
   ]
  },
  {
   "cell_type": "code",
   "execution_count": null,
   "metadata": {
    "vscode": {
     "languageId": "plaintext"
    }
   },
   "outputs": [],
   "source": [
    "import math\n",
    "def qu_result():\n",
    "    # a = float(input('input a: '))\n",
    "    # b = float(input('input b: '))\n",
    "    # c = float(input('input c: '))\n",
    "    a = 0.001\n",
    "    b = 1000\n",
    "    c = 0.001\n",
    "\n",
    "    # a)\n",
    "    d = float((b ** 2) - (4 * a * c))\n",
    "    sol1 = ((-b) - math.sqrt(d)) / (2 * a)\n",
    "    sol2 = ((-b) + math.sqrt(d)) / (2 * a)\n",
    "    print('a) THE SOLUTION ARE {0} AND {1}'.format(sol1, sol2))\n",
    "\n",
    "    # b)\n",
    "    d = float((b ** 2) - (4 * a * c))\n",
    "    factor = ((-b) - math.sqrt(d))\n",
    "    sol1 = (((-b) - math.sqrt(d)) * factor) / ((2 * a) * factor)\n",
    "    sol2 = (((-b) + math.sqrt(d)) * factor) / ((2 * a) * factor)\n",
    "\n",
    "    print('b) THE SOLUTION ARE {0} AND {1}'.format(sol1, sol2))\n",
    "    ##a) THE SOLUTION ARE -999999.999999 AND -9.999894245993346e-07\n",
    "    ##b) THE SOLUTION ARE -999999.999999 AND -9.999894245993346e-07\n",
    "\n",
    "# c)\n",
    "def qua_normal( a = 0.001, b = 1000,c = 0.001):\n",
    "    # a = float(input('input a: '))\n",
    "    # b = float(input('input b: '))\n",
    "    # c = float(input('input c: '))\n",
    "    d = float((b ** 2) - (4 * a * c))\n",
    "    if d > 0 and a != 0:\n",
    "        num_roots = 2\n",
    "        d = float((b ** 2) - (4 * a * c))\n",
    "        sol1 = ((-b) - math.sqrt(d)) / (2 * a)\n",
    "        sol2 = ((-b) + math.sqrt(d)) / (2 * a)\n",
    "        print(\"c) THE SOLUTION ARE {} AND {}\" .format(sol1, sol2))\n",
    "    elif d == 0 and a != 0:\n",
    "        num_roots = 1\n",
    "        x = (-b) / 2 * a\n",
    "        print(\"ONE ROOT IS: \", x)\n",
    "    else:\n",
    "        num_roots = 0\n",
    "        print(\"SORRY,NO ROOTS PLEASE ENTER AGAIN < 0.\")\n",
    "        exit()\n",
    "\n",
    "\n",
    "qu_result()\n",
    "\n",
    "qua_normal()"
   ]
  },
  {
   "cell_type": "markdown",
   "metadata": {},
   "source": [
    "6\\. **The derivative**\n",
    "\n",
    "Write a program that implements the function $f(x)=x(x−1)$\n",
    "\n",
    "(a) Calculate the derivative of the function at the point $x = 1$ using the derivative definition:\n",
    "\n",
    "$$\n",
    "\\frac{{\\rm d}f}{{\\rm d}x} = \\lim_{\\delta\\to0} \\frac{f(x+\\delta)-f(x)}{\\delta}\n",
    "$$\n",
    "\n",
    "with $\\delta = 10^{−2}$. Calculate the true value of the same derivative analytically and compare it with the answer your program gives. The two will not agree perfectly. Why?\n",
    "\n",
    "(b) Repeat the calculation for $\\delta = 10^{−4}, 10^{−6}, 10^{−8}, 10^{−10}, 10^{−12}$ and $10^{−14}$. How does the accuracy scale with $\\delta$?"
   ]
  },
  {
   "cell_type": "code",
   "execution_count": null,
   "metadata": {
    "vscode": {
     "languageId": "plaintext"
    }
   },
   "outputs": [],
   "source": [
    "from sympy import *\n",
    "# a)-2\n",
    "x = Symbol(\"x\")\n",
    "f = x * (x - 1)\n",
    "df = diff(f, x)\n",
    "df = lambdify(x, df)\n",
    "print(\"Result of the function : \", df(1))\n",
    "\n",
    "\n",
    "# a)-2\n",
    "def f(x):\n",
    "    return x * (x - 1)\n",
    "\n",
    "\n",
    "def true_value(fx, vx):\n",
    "    b = 1e-2  # 等于10的-2次方\n",
    "    df = fx(vx + b) - fx(vx)\n",
    "    dx = b\n",
    "    result = df / dx\n",
    "    return float(\"%f\" % result)\n",
    "\n",
    "\n",
    "print(\"Result of the function with b=0.01: \", true_value(f, 1))\n",
    "\n",
    "\n",
    "# b)\n",
    "def f(x):\n",
    "    return x * (x - 1)\n",
    "\n",
    "\n",
    "def other_value(fx, vx, b):\n",
    "    df = fx(vx + b) - fx(vx)\n",
    "    dx = b\n",
    "    result = df / dx\n",
    "    return float(\"%f\" % result)\n",
    "\n",
    "\n",
    "b = 1e-2\n",
    "for i in range(0, 6):\n",
    "    b = b * 1e-2\n",
    "    print(\"Result of the function with b \", \"%.14f\" % b, \":\", other_value(f, 1, b))"
   ]
  },
  {
   "cell_type": "markdown",
   "metadata": {},
   "source": [
    "7\\. **Integral of a semicircle**\n",
    "\n",
    "Consider the integral of the semicircle of radius 1:\n",
    "$$\n",
    "I=\\int_{-1}^{1} \\sqrt(1-x^2) {\\rm d}x\n",
    "$$\n",
    "which is known to be $I=\\frac{\\pi}{2}=1.57079632679...$.\n",
    "\n",
    "Alternatively we can use the Riemann definition of the integral:\n",
    "$$\n",
    "I=\\lim_{N\\to\\infty} \\sum_{k=1}^{N} h y_k \n",
    "$$\n",
    "\n",
    "with $h=2/N$ the width of each of the $N$ slices the domain is divided into and where\n",
    "$y_k$ is the value of the function at the $k-$th slice.\n",
    "\n",
    "(a) Write a program to compute the integral with $N=100$. How does the result compare to the true value?\n",
    "\n",
    "(b) How much can $N$ be increased if the computation needs to be run in less than a second? What is the gain in running it for 1 minute? Use `timeit` to measure the time."
   ]
  }
 ],
 "metadata": {
  "kernelspec": {
   "display_name": "Python 3 (ipykernel)",
   "language": "python",
   "name": "python3"
  },
  "language_info": {
   "codemirror_mode": {
    "name": "ipython",
    "version": 3
   },
   "file_extension": ".py",
   "mimetype": "text/x-python",
   "name": "python",
   "nbconvert_exporter": "python",
   "pygments_lexer": "ipython3",
   "version": "3.10.12"
  }
 },
 "nbformat": 4,
 "nbformat_minor": 2
}
