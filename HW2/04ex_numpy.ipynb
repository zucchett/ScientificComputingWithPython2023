{
 "cells": [
  {
   "cell_type": "markdown",
   "metadata": {},
   "source": [
    "1\\. **Reductions**\n",
    "\n",
    "Given the following matrix:\n",
    "\n",
    "```python\n",
    "m = np.arange(12).reshape((3,4))\n",
    "```\n",
    "\n",
    "   1. find the total mean\n",
    "   2. find the mean for each row and column"
   ]
  },
  {
   "cell_type": "code",
   "execution_count": 1,
   "metadata": {},
   "outputs": [
    {
     "name": "stdout",
     "output_type": "stream",
     "text": [
      "[[ 0  1  2  3]\n",
      " [ 4  5  6  7]\n",
      " [ 8  9 10 11]]\n",
      "the mean for columns is : [4. 5. 6. 7.]\n",
      "the mean for rows is : [1.5 5.5 9.5]\n",
      "the total media is : 5.5\n"
     ]
    }
   ],
   "source": [
    "import numpy as np\n",
    "avg_list_column = []\n",
    "avg_list_row = []\n",
    "m = np.arange(12).reshape((3,4))\n",
    "print(m)\n",
    "print(f'the mean for columns is : {np.median(m,axis=0)}')\n",
    "print(f'the mean for rows is : {np.median(m,axis=1)}')\n",
    "print(f'the total media is : {np.median(m)}')"
   ]
  },
  {
   "cell_type": "markdown",
   "metadata": {},
   "source": [
    "2\\. **Outer product**\n",
    "\n",
    "Find the outer product of the following vectors:\n",
    "\n",
    "```python\n",
    "u = np.array([1, 3, 5, 7])\n",
    "v = np.array([2, 4, 6, 8])\n",
    "```\n",
    "\n",
    "Use different methods to do this:\n",
    "\n",
    "   1. Using the function `outer` in numpy\n",
    "   2. Using a nested `for` loop or a list comprehension\n",
    "   3. Using numpy broadcasting operations"
   ]
  },
  {
   "cell_type": "code",
   "execution_count": 2,
   "metadata": {},
   "outputs": [
    {
     "name": "stdout",
     "output_type": "stream",
     "text": [
      "the first solution is :\n",
      "[[ 2  4  6  8]\n",
      " [ 6 12 18 24]\n",
      " [10 20 30 40]\n",
      " [14 28 42 56]]\n",
      "the second solution is :\n",
      "[[ 2  4  6  8]\n",
      " [ 6 12 18 24]\n",
      " [10 20 30 40]\n",
      " [14 28 42 56]]\n",
      "[1 3 5 7 1 3 5 7]\n"
     ]
    }
   ],
   "source": [
    "u = np.array([1,3,5,7])\n",
    "v = np.array([2,4,6,8])\n",
    "first_solution = np.outer(u,v)\n",
    "print(f'the first solution is :\\n{first_solution}')\n",
    "second_list = np.array([i*j for i in u for j in v]).reshape(4,4)\n",
    "print(f'the second solution is :\\n{second_list}')\n",
    "third = np.tile(u, 2)\n",
    "print(third)"
   ]
  },
  {
   "cell_type": "markdown",
   "metadata": {},
   "source": [
    "3\\. **Matrix masking**\n",
    "\n",
    "Create a $10 \\times 6$ matrix of float random numbers, distributed between 0 and 3 according to a flat distribution.\n",
    "\n",
    "After creating the matrix, set all entries $< 0.3$ to zero using a mask."
   ]
  },
  {
   "cell_type": "code",
   "execution_count": 3,
   "metadata": {},
   "outputs": [
    {
     "name": "stdout",
     "output_type": "stream",
     "text": [
      "[[2.27002974 2.91404727 2.71063964 2.63568287 1.83759704 0.4634219 ]\n",
      " [1.89567579 2.70936719 0.15780676 2.80132161 2.50530683 0.83514897]\n",
      " [0.21253949 0.66624958 0.53594051 0.02137766 2.15894921 2.98567912]\n",
      " [1.98478161 1.83150797 1.35231598 0.35185568 2.70420178 2.75403943]\n",
      " [1.76278874 0.75184608 0.33333467 0.87298003 0.45328482 1.34014377]\n",
      " [0.65464162 1.85551265 0.62121967 2.16071488 1.96623759 2.25680049]\n",
      " [2.19703499 0.90120882 0.27999562 1.6844617  2.58109821 1.87122989]\n",
      " [0.79387578 2.90301049 1.68425425 0.41820357 1.03353833 2.29807901]\n",
      " [0.25454918 2.66148357 0.66335478 1.13562845 0.62129399 1.76382483]\n",
      " [2.85491673 0.79581685 2.83143193 1.98632329 1.77624803 2.22427473]]\n"
     ]
    }
   ],
   "source": [
    "first_array = np.random.uniform(low=0 , high=3 , size=60)\n",
    "final_array = first_array.reshape(10,6)\n",
    "print(final_array)"
   ]
  },
  {
   "cell_type": "markdown",
   "metadata": {},
   "source": [
    "4\\. **Trigonometric functions**\n",
    "\n",
    "Use `np.linspace` to create an array of 100 numbers between $0$ and $2\\pi$ (inclusive).\n",
    "\n",
    "  * Extract every 10th element using the slice notation\n",
    "  * Reverse the array using the slice notation\n",
    "  * Extract elements where the absolute difference between the `sin` and `cos` functions evaluated for that element is $< 0.1$\n",
    "  * **Optional**: make a plot showing the `sin` and `cos` functions and indicate graphically (with a line or a marker) where they are close"
   ]
  },
  {
   "cell_type": "code",
   "execution_count": 4,
   "metadata": {},
   "outputs": [
    {
     "name": "stdout",
     "output_type": "stream",
     "text": [
      "the every 10th element is : \n",
      " [2.         2.43264498 2.86528996 3.29793494 3.73057992 4.1632249\n",
      " 4.59586988 5.02851486 5.46115984 5.89380482]\n",
      "\n",
      "\n",
      "the reverse array is : \n",
      " [6.28318531 6.23992081 6.19665631 6.15339181 6.11012731 6.06686282\n",
      " 6.02359832 5.98033382 5.93706932 5.89380482 5.85054033 5.80727583\n",
      " 5.76401133 5.72074683 5.67748233 5.63421784 5.59095334 5.54768884\n",
      " 5.50442434 5.46115984 5.41789535 5.37463085 5.33136635 5.28810185\n",
      " 5.24483735 5.20157286 5.15830836 5.11504386 5.07177936 5.02851486\n",
      " 4.98525037 4.94198587 4.89872137 4.85545687 4.81219237 4.76892788\n",
      " 4.72566338 4.68239888 4.63913438 4.59586988 4.55260539 4.50934089\n",
      " 4.46607639 4.42281189 4.37954739 4.33628289 4.2930184  4.2497539\n",
      " 4.2064894  4.1632249  4.1199604  4.07669591 4.03343141 3.99016691\n",
      " 3.94690241 3.90363791 3.86037342 3.81710892 3.77384442 3.73057992\n",
      " 3.68731542 3.64405093 3.60078643 3.55752193 3.51425743 3.47099293\n",
      " 3.42772844 3.38446394 3.34119944 3.29793494 3.25467044 3.21140595\n",
      " 3.16814145 3.12487695 3.08161245 3.03834795 2.99508346 2.95181896\n",
      " 2.90855446 2.86528996 2.82202546 2.77876096 2.73549647 2.69223197\n",
      " 2.64896747 2.60570297 2.56243847 2.51917398 2.47590948 2.43264498\n",
      " 2.38938048 2.34611598 2.30285149 2.25958699 2.21632249 2.17305799\n",
      " 2.12979349 2.086529   2.0432645  2.        ]\n",
      "\n",
      "\n",
      "this is the list of elements that the absolute difference between sin and cos is < 0.1 : \n",
      " [3.860373416249719, 3.9036379143020383, 3.9469024123543575, 3.9901669104066766]\n"
     ]
    }
   ],
   "source": [
    "import math\n",
    "difference_list = []\n",
    "primary_array = np.linspace(2,2*math.pi,100)\n",
    "print(f'the every 10th element is : \\n {primary_array[::10]}')\n",
    "print('\\n')\n",
    "print(f'the reverse array is : \\n {primary_array[::-1]}')\n",
    "for i in primary_array :\n",
    "    if abs(math.sin(i) - math.cos(i)) < 0.1 :\n",
    "        difference_list.append(i)\n",
    "print('\\n')        \n",
    "print(f'this is the list of elements that the absolute difference between sin and cos is < 0.1 : \\n {difference_list}')"
   ]
  },
  {
   "cell_type": "markdown",
   "metadata": {},
   "source": [
    "5\\. **Matrices**\n",
    "\n",
    "Create a matrix that shows the $10 \\times 10$ multiplication table.\n",
    "\n",
    " * Find the trace of the matrix\n",
    " * Extract the anti-diagonal matrix (this should be ```array([10, 18, 24, 28, 30, 30, 28, 24, 18, 10])```)\n",
    " * Extract the diagonal offset by 1 upwards (this should be ```array([ 2,  6, 12, 20, 30, 42, 56, 72, 90])```)"
   ]
  },
  {
   "cell_type": "code",
   "execution_count": 5,
   "metadata": {},
   "outputs": [
    {
     "name": "stdout",
     "output_type": "stream",
     "text": [
      "the trace of the matrix is : \n",
      " 385\n",
      "\n",
      "\n",
      "the anti-diagonal matrix is : \n",
      " [10 18 24 28 30 30 28 24 18 10]\n",
      "\n",
      "\n",
      "the diagonal offset by 1 upwards is : \n",
      " [ 2  6 12 20 30 42 56 72 90]\n"
     ]
    }
   ],
   "source": [
    "row_array = np.arange(1,11)\n",
    "column_array = row_array[:,None]\n",
    "result = row_array * column_array\n",
    "print(f'the trace of the matrix is : \\n {np.trace(result)}')\n",
    "print('\\n')\n",
    "flip_result = np.fliplr(result)\n",
    "anti_diagonal_array = flip_result.diagonal()\n",
    "print(f'the anti-diagonal matrix is : \\n {anti_diagonal_array}')\n",
    "print(f'\\n')\n",
    "print(f'the diagonal offset by 1 upwards is : \\n {np.diagonal(result,offset=1)}')"
   ]
  },
  {
   "cell_type": "markdown",
   "metadata": {},
   "source": [
    "6\\. **Broadcasting**\n",
    "\n",
    "Use broadcasting to create a grid of distances.\n",
    "\n",
    "Route 66 crosses the following cities in the US: Chicago, Springfield, Saint-Louis, Tulsa, Oklahoma City, Amarillo, Santa Fe, Albuquerque, Flagstaff, Los Angeles.\n",
    "\n",
    "The corresponding positions in miles are: `0, 198, 303, 736, 871, 1175, 1475, 1544, 1913, 2448`\n",
    "\n",
    "  * Build a 2D grid of distances among each city along Route 66\n",
    "  * Convert the distances in km"
   ]
  },
  {
   "cell_type": "code",
   "execution_count": 6,
   "metadata": {},
   "outputs": [
    {
     "name": "stdout",
     "output_type": "stream",
     "text": [
      "\n",
      "distance: \n",
      " [[   0  198  303  736  871 1175 1475 1544 1913 2448]\n",
      " [ 198    0  105  538  673  977 1277 1346 1715 2250]\n",
      " [ 303  105    0  433  568  872 1172 1241 1610 2145]\n",
      " [ 736  538  433    0  135  439  739  808 1177 1712]\n",
      " [ 871  673  568  135    0  304  604  673 1042 1577]\n",
      " [1175  977  872  439  304    0  300  369  738 1273]\n",
      " [1475 1277 1172  739  604  300    0   69  438  973]\n",
      " [1544 1346 1241  808  673  369   69    0  369  904]\n",
      " [1913 1715 1610 1177 1042  738  438  369    0  535]\n",
      " [2448 2250 2145 1712 1577 1273  973  904  535    0]]\n",
      "\n",
      " Converted from miles in: \n",
      " [[   0.          318.65011315  487.63123376 1184.47718826 1401.73862905\n",
      "  1890.97920681 2373.78240855 2484.82714495 3078.67508309 3939.67412619]\n",
      " [ 318.65011315    0.          168.98112061  865.82707512 1083.0885159\n",
      "  1572.32909366 2055.1322954  2166.1770318  2760.02496994 3621.02401304]\n",
      " [ 487.63123376  168.98112061    0.          696.84595451  914.10739529\n",
      "  1403.34797305 1886.15117479 1997.19591119 2591.04384933 3452.04289243]\n",
      " [1184.47718826  865.82707512  696.84595451    0.          217.26144078\n",
      "   706.50201854 1189.30522028 1300.34995668 1894.19789482 2755.19693792]\n",
      " [1401.73862905 1083.0885159   914.10739529  217.26144078    0.\n",
      "   489.24057776  972.0437795  1083.0885159  1676.93645404 2537.93549714]\n",
      " [1890.97920681 1572.32909366 1403.34797305  706.50201854  489.24057776\n",
      "     0.          482.80320174  593.84793814 1187.69587628 2048.69491938]\n",
      " [2373.78240855 2055.1322954  1886.15117479 1189.30522028  972.0437795\n",
      "   482.80320174    0.          111.0447364   704.89267454 1565.89171764]\n",
      " [2484.82714495 2166.1770318  1997.19591119 1300.34995668 1083.0885159\n",
      "   593.84793814  111.0447364     0.          593.84793814 1454.84698124]\n",
      " [3078.67508309 2760.02496994 2591.04384933 1894.19789482 1676.93645404\n",
      "  1187.69587628  704.89267454  593.84793814    0.          860.9990431 ]\n",
      " [3939.67412619 3621.02401304 3452.04289243 2755.19693792 2537.93549714\n",
      "  2048.69491938 1565.89171764 1454.84698124  860.9990431     0.        ]]\n"
     ]
    }
   ],
   "source": [
    "mileposts = np.array([0, 198, 303, 736, 871, 1175, 1475, 1544,1913, 2448])\n",
    "distance_array = np.abs(mileposts - mileposts[:, np.newaxis])\n",
    "distance_array\n",
    "print(\"\\ndistance: \\n\",distance_array)\n",
    "print(\"\\n Converted from miles in: \\n\", distance_array/0.62137119)\n"
   ]
  },
  {
   "cell_type": "markdown",
   "metadata": {},
   "source": [
    "7\\. **Prime numbers sieve**\n",
    "\n",
    "Compute the prime numbers in the 0-N (start with N=99) range with a sieve (mask).\n",
    "\n",
    "  * Construct a shape (N,) boolean array, which is the mask\n",
    "  * Identify the multiples of each number starting from 2 and set accordingly the corresponding mask element\n",
    "  * Apply the mask to obtain an array of ordered prime numbers\n",
    "  * Check the performances (with `timeit`); how does it scale with N?\n",
    "  * Implement the optimization suggested in the [sieve of Eratosthenes](https://en.wikipedia.org/wiki/Sieve_of_Eratosthenes)"
   ]
  },
  {
   "cell_type": "code",
   "execution_count": 7,
   "metadata": {},
   "outputs": [
    {
     "name": "stdout",
     "output_type": "stream",
     "text": [
      "[2, 3, 5, 7, 11, 13, 17, 19]\n"
     ]
    }
   ],
   "source": [
    "N = 20\n",
    "prime_list = []\n",
    "def prime_checker(selected_number):\n",
    "    counter = 0\n",
    "    for i in range (1,selected_number+1):\n",
    "        if selected_number % i  == 0 :\n",
    "            counter += 1\n",
    "    if counter <= 2 :\n",
    "        counter = 0\n",
    "        return selected_number\n",
    "\n",
    "def prime_identifier(N):\n",
    "    for i in range (2,N+1):\n",
    "        if prime_checker(i) != None :\n",
    "            prime_list.append(i)\n",
    "    return prime_list        \n",
    "print(prime_identifier(N))"
   ]
  },
  {
   "cell_type": "markdown",
   "metadata": {},
   "source": [
    "8\\. **Diffusion using random walk**\n",
    "\n",
    "Consider a simple random walk process: at each step in time, a walker jumps right or left (+1 or -1) with equal probability. The goal is to find the typical distance from the origin of many random walkers after a given amount of time.\n",
    "\n",
    "*Hint*: create a 2D array where each row represents a walker, and each column represents a time step.\n",
    "\n",
    "  * Take 1000 walkers and let them walk for 200 steps\n",
    "  * Use `randint` to create a 2D array of size $walkers \\times steps$ with values -1 or 1\n",
    "  * Calculate the walking distances for each walker (e.g. by summing the elements in each row)\n",
    "  * Take the square of the previously-obtained array (element-wise)\n",
    "  * Compute the mean of the squared distances at each step (i.e. the mean along the columns)\n",
    "  * **Optional**: plot the average distances ($\\sqrt(distance^2)$) as a function of time (step)"
   ]
  },
  {
   "cell_type": "code",
   "execution_count": 8,
   "metadata": {},
   "outputs": [
    {
     "name": "stdout",
     "output_type": "stream",
     "text": [
      "the walkers * steps  = \n",
      " [[ 1  1  1 ...  1 -1 -1]\n",
      " [ 1  1  1 ...  1  1  1]\n",
      " [-1  1  1 ...  1 -1  1]\n",
      " ...\n",
      " [-1  1  1 ... -1  1 -1]\n",
      " [-1  1  1 ...  1  1  1]\n",
      " [ 1 -1 -1 ...  1  1  1]]\n",
      "the sum for each row is equal to : \n",
      " [ 68  46  78  64  76  68  64  84  88  54  34  64  60  64  88  78  66  64\n",
      "  68  76  62  54  32  78  66  70  60  78  48  54  52  76  74  68  42  54\n",
      "  60  84  56  46  42  82  72  76  64  82  56  48  84  70  60  68  68  86\n",
      "  48  60  58  72  56  56  60  48  66  40  68  78  98  42  52  62  82  60\n",
      "  70  72  78  84  50  76  60  70  60  72  64  60  80  72  64  86  72  52\n",
      "  72  54  80  54  72  48  64  74  46  80  56  48  50  70  86 100  64  80\n",
      "  36  52  54  74  82  84  56  90  74  74  62  78  40  86  64  60  60  82\n",
      "  76  46  48  78  68  80  76  44  56  50  70  70  74  62  78  68  82  56\n",
      "  68  76  90  52  64  60  60 100  60  56  62  86  66  68  52  78  60  94\n",
      "  62  40  58  84  90  64  94  50  54  80  62  80  76  64  72  74  98  48\n",
      "  58  96  60  74  62  92 100  80  78  54  74  88  66  72  82  50  50  94\n",
      "  74  84  86  72  56  78  88  72  88  76  56  62  64  76  72  62  64  68\n",
      "  58  52  70  64  68  72  52  60  78  72  76  62  72  44  70  68  54  96\n",
      "  72  68  70  58  58  62  94  66  86  58  52  62  62 106  90  60  52  70\n",
      "  64  56  54  64  44  52  74  70  66  56  90  56  62  48  72  58  42  72\n",
      "  80  38  74  56  80  74  52  70  78  74  88  80  48  66  78  66  54  46\n",
      "  84  80  70  76  84  66  62  72  72  82  68  72  64  66  44  60  78  72\n",
      "  58  54  68  64  74  58  74  58  66  82  64  66  76  58  46  96  64  72\n",
      "  50  82  70  74  78  52  74  72  84  70  52  72  72  62  74  80  70  30\n",
      " 100  70  84  68  96  88  78  72  70  46  50  64  54  64  72  66  58  74\n",
      "  80  68  72  78  54  50  64  68  84  68  88  56  32  64  50  70  62  54\n",
      "  68  68  64  52  72  50  58  64  86  80  44  66  80  78  68  72  66  52\n",
      "  54  44  54  74  54  54  72  70  58  58  48  70  84  98  50  70  74  72\n",
      "  56  74  68  50  68  58  70  70  76  54  56  72  34  82  48  70  52  44\n",
      "  82  60  64  64  46  66  66  72  74  64  74  48  64  60  72  58  72  76\n",
      "  64  68  62  70  72  68  70  76  70  56  54  84  80  64  70  54  74  90\n",
      "  54  60  48  60  56  72  52  40  70  78  56  78  70  46  72  52  72  54\n",
      "  70  40  46  66  72  66  44  22  88  78  78  68  90  96  58  72  68  74\n",
      "  72  78  58  42  62  70  70  76  62  32  56  78  72  78  54  82  60  88\n",
      "  56  56  58  76  66  80  54  66  70  54  54  60  84  52  74  70  78  58\n",
      "  74  70  66  74  70  60  64  62  64  80  62  70  42  84  60  64  58  66\n",
      "  64  78  66  74  60  58  52  92  72  58  56  52  72  68  68  70  46  76\n",
      "  66  60  68  48  64  76  52  76  48  60  62  52  52  64  82  58  68  58\n",
      "  46  58  72  74  50  66  70  88  96  70  30  60  54  72  70  90  78  88\n",
      "  68  70  56  62  64  72  74  50  70  60  88  52  56  44  70  90  72  48\n",
      "  76  58  36  56  80  56  60  76  66  74  56  68  82  56  78  88  64  74\n",
      "  66  82  42  52  72  54  86  76  80  48  70  52  62  72  66  62  34  60\n",
      "  68  48  80  48  60  60  80  90  62  66  62  58  64  72  78  66  66  56\n",
      "  92  54  54  70  42  62  72  58  64  50  66  92  70  54  64  86  82  60\n",
      "  46  46  70  74  66  74  72  88  52  72  50  82  62  66  74  50  48  58\n",
      "  84  74  38  46  70  68  72  68  96  76  74  52  74  54  60  42  50  64\n",
      "  72  46  52  90  70  68  74  80  82  56  66  66  66  70  74  82  78  66\n",
      "  54  90  56  60  44  64  56  86  50  70  70  80  68  56  62  72  66  62\n",
      "  66  78  56  78  66  98  84  60  66  82  62  70  88  72  84  44  66  54\n",
      "  48  70  56  64  58  52  82  72  90  56  46  60  78  66  60  52  48  76\n",
      "  70  48  76  68  76  72  72  84  68  72  74  74  70  64  60  74  76  70\n",
      "  44  76  64  50  56  62  42  52  76  44  78  64  56  62  72  58  70  72\n",
      "  64  64  52  70  90  32  70  74  70  96  60  82  70  64  66  60  46  42\n",
      "  74  80  66  82  88  64  56  54  58  82  56  74  46  76  84  38  74  70\n",
      "  66  64  44  88  58  42  66  58  70  60  52  78  54  84  68  68  68  66\n",
      "  54  66 100  64  66  52  84  66  44  68  60 106  66  72  56  78  58  66\n",
      "  96  70  58  82  40  66  88  84  40  90  74  36  68  56  80  58  60  56\n",
      "  74  54  58  78  68  78  82  56  86  74  50  68  78  72  94  44  62  70\n",
      "  32  56  84  86  66  50 102  48  88  54  62  96  76  62  70  84  68  96\n",
      "  32  78  76  54  88  78  66  44  56  58  62  78  70  50  50  56  56  74\n",
      "  56  80  18  68  82  94  88  78  54  44]\n",
      "the square of the elements is : \n",
      " [ 4624  2116  6084  4096  5776  4624  4096  7056  7744  2916  1156  4096\n",
      "  3600  4096  7744  6084  4356  4096  4624  5776  3844  2916  1024  6084\n",
      "  4356  4900  3600  6084  2304  2916  2704  5776  5476  4624  1764  2916\n",
      "  3600  7056  3136  2116  1764  6724  5184  5776  4096  6724  3136  2304\n",
      "  7056  4900  3600  4624  4624  7396  2304  3600  3364  5184  3136  3136\n",
      "  3600  2304  4356  1600  4624  6084  9604  1764  2704  3844  6724  3600\n",
      "  4900  5184  6084  7056  2500  5776  3600  4900  3600  5184  4096  3600\n",
      "  6400  5184  4096  7396  5184  2704  5184  2916  6400  2916  5184  2304\n",
      "  4096  5476  2116  6400  3136  2304  2500  4900  7396 10000  4096  6400\n",
      "  1296  2704  2916  5476  6724  7056  3136  8100  5476  5476  3844  6084\n",
      "  1600  7396  4096  3600  3600  6724  5776  2116  2304  6084  4624  6400\n",
      "  5776  1936  3136  2500  4900  4900  5476  3844  6084  4624  6724  3136\n",
      "  4624  5776  8100  2704  4096  3600  3600 10000  3600  3136  3844  7396\n",
      "  4356  4624  2704  6084  3600  8836  3844  1600  3364  7056  8100  4096\n",
      "  8836  2500  2916  6400  3844  6400  5776  4096  5184  5476  9604  2304\n",
      "  3364  9216  3600  5476  3844  8464 10000  6400  6084  2916  5476  7744\n",
      "  4356  5184  6724  2500  2500  8836  5476  7056  7396  5184  3136  6084\n",
      "  7744  5184  7744  5776  3136  3844  4096  5776  5184  3844  4096  4624\n",
      "  3364  2704  4900  4096  4624  5184  2704  3600  6084  5184  5776  3844\n",
      "  5184  1936  4900  4624  2916  9216  5184  4624  4900  3364  3364  3844\n",
      "  8836  4356  7396  3364  2704  3844  3844 11236  8100  3600  2704  4900\n",
      "  4096  3136  2916  4096  1936  2704  5476  4900  4356  3136  8100  3136\n",
      "  3844  2304  5184  3364  1764  5184  6400  1444  5476  3136  6400  5476\n",
      "  2704  4900  6084  5476  7744  6400  2304  4356  6084  4356  2916  2116\n",
      "  7056  6400  4900  5776  7056  4356  3844  5184  5184  6724  4624  5184\n",
      "  4096  4356  1936  3600  6084  5184  3364  2916  4624  4096  5476  3364\n",
      "  5476  3364  4356  6724  4096  4356  5776  3364  2116  9216  4096  5184\n",
      "  2500  6724  4900  5476  6084  2704  5476  5184  7056  4900  2704  5184\n",
      "  5184  3844  5476  6400  4900   900 10000  4900  7056  4624  9216  7744\n",
      "  6084  5184  4900  2116  2500  4096  2916  4096  5184  4356  3364  5476\n",
      "  6400  4624  5184  6084  2916  2500  4096  4624  7056  4624  7744  3136\n",
      "  1024  4096  2500  4900  3844  2916  4624  4624  4096  2704  5184  2500\n",
      "  3364  4096  7396  6400  1936  4356  6400  6084  4624  5184  4356  2704\n",
      "  2916  1936  2916  5476  2916  2916  5184  4900  3364  3364  2304  4900\n",
      "  7056  9604  2500  4900  5476  5184  3136  5476  4624  2500  4624  3364\n",
      "  4900  4900  5776  2916  3136  5184  1156  6724  2304  4900  2704  1936\n",
      "  6724  3600  4096  4096  2116  4356  4356  5184  5476  4096  5476  2304\n",
      "  4096  3600  5184  3364  5184  5776  4096  4624  3844  4900  5184  4624\n",
      "  4900  5776  4900  3136  2916  7056  6400  4096  4900  2916  5476  8100\n",
      "  2916  3600  2304  3600  3136  5184  2704  1600  4900  6084  3136  6084\n",
      "  4900  2116  5184  2704  5184  2916  4900  1600  2116  4356  5184  4356\n",
      "  1936   484  7744  6084  6084  4624  8100  9216  3364  5184  4624  5476\n",
      "  5184  6084  3364  1764  3844  4900  4900  5776  3844  1024  3136  6084\n",
      "  5184  6084  2916  6724  3600  7744  3136  3136  3364  5776  4356  6400\n",
      "  2916  4356  4900  2916  2916  3600  7056  2704  5476  4900  6084  3364\n",
      "  5476  4900  4356  5476  4900  3600  4096  3844  4096  6400  3844  4900\n",
      "  1764  7056  3600  4096  3364  4356  4096  6084  4356  5476  3600  3364\n",
      "  2704  8464  5184  3364  3136  2704  5184  4624  4624  4900  2116  5776\n",
      "  4356  3600  4624  2304  4096  5776  2704  5776  2304  3600  3844  2704\n",
      "  2704  4096  6724  3364  4624  3364  2116  3364  5184  5476  2500  4356\n",
      "  4900  7744  9216  4900   900  3600  2916  5184  4900  8100  6084  7744\n",
      "  4624  4900  3136  3844  4096  5184  5476  2500  4900  3600  7744  2704\n",
      "  3136  1936  4900  8100  5184  2304  5776  3364  1296  3136  6400  3136\n",
      "  3600  5776  4356  5476  3136  4624  6724  3136  6084  7744  4096  5476\n",
      "  4356  6724  1764  2704  5184  2916  7396  5776  6400  2304  4900  2704\n",
      "  3844  5184  4356  3844  1156  3600  4624  2304  6400  2304  3600  3600\n",
      "  6400  8100  3844  4356  3844  3364  4096  5184  6084  4356  4356  3136\n",
      "  8464  2916  2916  4900  1764  3844  5184  3364  4096  2500  4356  8464\n",
      "  4900  2916  4096  7396  6724  3600  2116  2116  4900  5476  4356  5476\n",
      "  5184  7744  2704  5184  2500  6724  3844  4356  5476  2500  2304  3364\n",
      "  7056  5476  1444  2116  4900  4624  5184  4624  9216  5776  5476  2704\n",
      "  5476  2916  3600  1764  2500  4096  5184  2116  2704  8100  4900  4624\n",
      "  5476  6400  6724  3136  4356  4356  4356  4900  5476  6724  6084  4356\n",
      "  2916  8100  3136  3600  1936  4096  3136  7396  2500  4900  4900  6400\n",
      "  4624  3136  3844  5184  4356  3844  4356  6084  3136  6084  4356  9604\n",
      "  7056  3600  4356  6724  3844  4900  7744  5184  7056  1936  4356  2916\n",
      "  2304  4900  3136  4096  3364  2704  6724  5184  8100  3136  2116  3600\n",
      "  6084  4356  3600  2704  2304  5776  4900  2304  5776  4624  5776  5184\n",
      "  5184  7056  4624  5184  5476  5476  4900  4096  3600  5476  5776  4900\n",
      "  1936  5776  4096  2500  3136  3844  1764  2704  5776  1936  6084  4096\n",
      "  3136  3844  5184  3364  4900  5184  4096  4096  2704  4900  8100  1024\n",
      "  4900  5476  4900  9216  3600  6724  4900  4096  4356  3600  2116  1764\n",
      "  5476  6400  4356  6724  7744  4096  3136  2916  3364  6724  3136  5476\n",
      "  2116  5776  7056  1444  5476  4900  4356  4096  1936  7744  3364  1764\n",
      "  4356  3364  4900  3600  2704  6084  2916  7056  4624  4624  4624  4356\n",
      "  2916  4356 10000  4096  4356  2704  7056  4356  1936  4624  3600 11236\n",
      "  4356  5184  3136  6084  3364  4356  9216  4900  3364  6724  1600  4356\n",
      "  7744  7056  1600  8100  5476  1296  4624  3136  6400  3364  3600  3136\n",
      "  5476  2916  3364  6084  4624  6084  6724  3136  7396  5476  2500  4624\n",
      "  6084  5184  8836  1936  3844  4900  1024  3136  7056  7396  4356  2500\n",
      " 10404  2304  7744  2916  3844  9216  5776  3844  4900  7056  4624  9216\n",
      "  1024  6084  5776  2916  7744  6084  4356  1936  3136  3364  3844  6084\n",
      "  4900  2500  2500  3136  3136  5476  3136  6400   324  4624  6724  8836\n",
      "  7744  6084  2916  1936]\n"
     ]
    }
   ],
   "source": [
    "random_array = np.random.randint(-1,2,(1000,200))\n",
    "random_array[random_array==0] = 1\n",
    "print(f'the walkers * steps  = \\n {random_array}')\n",
    "sum_of_row = np.sum(random_array,axis=1)\n",
    "print(f'the sum for each row is equal to : \\n {sum_of_row}')\n",
    "square = np.square(sum_of_row)\n",
    "print(f'the square of the elements is : \\n {square}')"
   ]
  }
 ],
 "metadata": {
  "kernelspec": {
   "display_name": "Python 3 (ipykernel)",
   "language": "python",
   "name": "python3"
  },
  "language_info": {
   "codemirror_mode": {
    "name": "ipython",
    "version": 3
   },
   "file_extension": ".py",
   "mimetype": "text/x-python",
   "name": "python",
   "nbconvert_exporter": "python",
   "pygments_lexer": "ipython3",
   "version": "3.11.4"
  }
 },
 "nbformat": 4,
 "nbformat_minor": 2
}
