{
 "cells": [
  {
   "cell_type": "markdown",
   "metadata": {},
   "source": [
    "1\\. **Pandas DataFrame**\n",
    "\n",
    "This exercise consists in analyzing a dataset containg timing information from a series of Time-to-Digital-Converters (TDC) implemented in a pair of FPGAs. Each measurement (i.e. each row of the input file) consists of a flag that specifies the type of message ('HEAD', which in this case is always 1), two addresses of the TDC providing the signal ('FPGA' and 'TDC_CHANNEL'), and the timing information ('ORBIT_CNT', 'BX_COUNTER', and 'TDC_MEAS'). Each TDC count corresponds to 25/30 ns, whereas a unit of BX_COUNTER corresponds to 25 ns, and the ORBIT_CNT is increased every `x` BX_COUNTER. This allows to store the time in a similar way to hours, minutes and seconds."
   ]
  },
  {
   "cell_type": "code",
   "execution_count": 1,
   "metadata": {},
   "outputs": [],
   "source": [
    "# If haven't downloaded it yet, please get the data file with wget\n",
    "#!wget https://www.dropbox.com/s/xvjzaxzz3ysphme/data_000637.txt -P ./data/"
   ]
  },
  {
   "cell_type": "markdown",
   "metadata": {},
   "source": [
    "1\\. Create a Pandas DataFrame reading N rows of the `data/data_000637.txt` dataset. Choose N to be smaller than or equal to the maximum number of rows and larger that 10k (check the documentation)."
   ]
  },
  {
   "cell_type": "code",
   "execution_count": 2,
   "metadata": {},
   "outputs": [
    {
     "name": "stdout",
     "output_type": "stream",
     "text": [
      "       HEAD  FPGA  TDC_CHANNEL   ORBIT_CNT  BX_COUNTER  TDC_MEAS\n",
      "0         1     0          123  3869200167        2374        26\n",
      "1         1     0          124  3869200167        2374        27\n",
      "2         1     0           63  3869200167        2553        28\n",
      "3         1     0           64  3869200167        2558        19\n",
      "4         1     0           64  3869200167        2760        25\n",
      "...     ...   ...          ...         ...         ...       ...\n",
      "68995     1     0           51  3869200853        1391         7\n",
      "68996     1     0          139  3869200853        1395         0\n",
      "68997     1     0           62  3869200853        1387        24\n",
      "68998     1     0           46  3869200853        1391         5\n",
      "68999     1     0           49  3869200853        1396        27\n",
      "\n",
      "[69000 rows x 6 columns]\n"
     ]
    }
   ],
   "source": [
    "import pandas as pd\n",
    "#you can choose the number of rows that you eant to demonstrate with variable \"N\" : \n",
    "N=69000\n",
    "df = pd.read_csv('C:/Users/sina tavakoli/Desktop/data_000637.txt', nrows=N)\n",
    "table = pd.DataFrame(df)\n",
    "print(table)\n",
    "\n"
   ]
  },
  {
   "cell_type": "markdown",
   "metadata": {},
   "source": [
    "2\\. Estimate the number of BX in a ORBIT (the value `x`).\n",
    "\n",
    "*Hint*: check when the BX counter reaches the maximum value before being reset to 0."
   ]
  },
  {
   "cell_type": "code",
   "execution_count": 3,
   "metadata": {},
   "outputs": [
    {
     "name": "stdout",
     "output_type": "stream",
     "text": [
      "the maximum number for \"BX_COUNTER\" columns is : \n",
      " 3563 \n"
     ]
    }
   ],
   "source": [
    "maximum = table['BX_COUNTER'].max()\n",
    "print(f'the maximum number for \"BX_COUNTER\" columns is : \\n {maximum} ')"
   ]
  },
  {
   "cell_type": "markdown",
   "metadata": {},
   "source": [
    "3\\. Create a new column with the absolute time in ns (as a combination of the other three columns with timing information) since the beginning of the data acquisition, and convert the new column to a Time Series.\n",
    "\n",
    "*Hint:* introduce an offset to the absolute time such that the start of the data acquisition (i.e. the first entry) is zero."
   ]
  },
  {
   "cell_type": "code",
   "execution_count": 4,
   "metadata": {},
   "outputs": [
    {
     "name": "stdout",
     "output_type": "stream",
     "text": [
      "               HEAD  FPGA   TDC_CHANNEL  ORBIT_CNT  BX_COUNTER      TDC_MEAS   \n",
      "0      1.000000e-09   0.0  1.230000e-07   3.869200    0.000002  2.600000e-08  \\\n",
      "1      1.000000e-09   0.0  1.240000e-07   3.869200    0.000002  2.700000e-08   \n",
      "2      1.000000e-09   0.0  6.300000e-08   3.869200    0.000003  2.800000e-08   \n",
      "3      1.000000e-09   0.0  6.400000e-08   3.869200    0.000003  1.900000e-08   \n",
      "4      1.000000e-09   0.0  6.400000e-08   3.869200    0.000003  2.500000e-08   \n",
      "...             ...   ...           ...        ...         ...           ...   \n",
      "68995  1.000000e-09   0.0  5.100000e-08   3.869201    0.000001  7.000000e-09   \n",
      "68996  1.000000e-09   0.0  1.390000e-07   3.869201    0.000001  0.000000e+00   \n",
      "68997  1.000000e-09   0.0  6.200000e-08   3.869201    0.000001  2.400000e-08   \n",
      "68998  1.000000e-09   0.0  4.600000e-08   3.869201    0.000001  5.000000e-09   \n",
      "68999  1.000000e-09   0.0  4.900000e-08   3.869201    0.000001  2.700000e-08   \n",
      "\n",
      "       ABSOLUTE_TIME  \n",
      "0           3.869203  \n",
      "1           3.869203  \n",
      "2           3.869203  \n",
      "3           3.869203  \n",
      "4           3.869203  \n",
      "...              ...  \n",
      "68995       3.869202  \n",
      "68996       3.869202  \n",
      "68997       3.869202  \n",
      "68998       3.869202  \n",
      "68999       3.869202  \n",
      "\n",
      "[69000 rows x 7 columns]\n"
     ]
    }
   ],
   "source": [
    "table = (table.assign(ABSOLUTE_TIME = table['ORBIT_CNT'] + table['BX_COUNTER'] + table['TDC_MEAS']))/(10**9)\n",
    "print(table)"
   ]
  },
  {
   "cell_type": "markdown",
   "metadata": {},
   "source": [
    "4\\. Find out the duration of the data taking in hours, minutes and seconds, by using the features of the Time Series. Perform this check reading the whole dataset."
   ]
  },
  {
   "cell_type": "code",
   "execution_count": 5,
   "metadata": {},
   "outputs": [
    {
     "name": "stdout",
     "output_type": "stream",
     "text": [
      "The duration of the whole data taking : \n",
      " 0 days 00:00:00\n"
     ]
    }
   ],
   "source": [
    "table['TIME_DURATION'] = pd.to_timedelta(table['ABSOLUTE_TIME'])\n",
    "print(f\"The duration of the whole data taking : \\n {table['TIME_DURATION'].max() - table['TIME_DURATION'].min()}\")\n"
   ]
  },
  {
   "cell_type": "markdown",
   "metadata": {},
   "source": [
    "5\\. Use the `.groupby()` method to find out the noisy channels, i.e. the TDC channels with most counts (print to screen the top 3 and the corresponding counts)"
   ]
  },
  {
   "cell_type": "code",
   "execution_count": 6,
   "metadata": {},
   "outputs": [
    {
     "name": "stdout",
     "output_type": "stream",
     "text": [
      "the result for the the top 3 noisy channel is : \n",
      " 0    1.230000e-07\n",
      "1    1.240000e-07\n",
      "2    6.300000e-08\n",
      "Name: TDC_CHANNEL, dtype: float64\n"
     ]
    }
   ],
   "source": [
    "grouped_data = table.groupby('HEAD')['TDC_CHANNEL']\n",
    "selected_grouped_data = grouped_data.head(3)\n",
    "print(f'the result for the the top 3 noisy channel is : \\n {selected_grouped_data}')"
   ]
  },
  {
   "cell_type": "markdown",
   "metadata": {},
   "source": [
    "6\\. Count the number of non-empty orbits (i.e. the number of orbits with at least one hit)."
   ]
  },
  {
   "cell_type": "code",
   "execution_count": 7,
   "metadata": {},
   "outputs": [
    {
     "name": "stdout",
     "output_type": "stream",
     "text": [
      "the number of orbits with at least one hit is : \n",
      " 687\n"
     ]
    }
   ],
   "source": [
    "non_empty=table.groupby(['ORBIT_CNT']).count()\n",
    "size_of_orbit = len(non_empty)\n",
    "print(f\"the number of orbits with at least one hit is : \\n {size_of_orbit}\")"
   ]
  },
  {
   "cell_type": "markdown",
   "metadata": {},
   "source": [
    "7\\. Count the number of unique orbits with at least one measurement from TDC_CHANNEL=139."
   ]
  },
  {
   "cell_type": "code",
   "execution_count": 8,
   "metadata": {},
   "outputs": [
    {
     "name": "stdout",
     "output_type": "stream",
     "text": [
      "the no. of unique orbits with at least one measurement from TDC_CHANNEL=139 is : \n",
      " 686\n"
     ]
    }
   ],
   "source": [
    "orbits=df[df['TDC_CHANNEL']==139]\n",
    "unique=len(orbits.groupby('ORBIT_CNT').count())\n",
    "print(f'the no. of unique orbits with at least one measurement from TDC_CHANNEL=139 is : \\n {unique}')"
   ]
  },
  {
   "cell_type": "markdown",
   "metadata": {},
   "source": [
    "8\\. Create two Series (one for each FPGA) that have the TDC channel as index, and the number of counts for the corresponding TDC channel as values."
   ]
  },
  {
   "cell_type": "code",
   "execution_count": 9,
   "metadata": {},
   "outputs": [
    {
     "name": "stdout",
     "output_type": "stream",
     "text": [
      "Series 1 is :\n",
      " TDC_CHANNEL\n",
      "1.390000e-07    4016\n",
      "6.400000e-08    3420\n",
      "6.300000e-08    3389\n",
      "6.100000e-08    2582\n",
      "6.200000e-08    2536\n",
      "                ... \n",
      "1.010000e-07      19\n",
      "6.700000e-08       8\n",
      "1.300000e-07       2\n",
      "1.370000e-07       1\n",
      "1.380000e-07       1\n",
      "Name: count, Length: 121, dtype: int64\n",
      "Series 2 is : \n",
      " Series([], Name: count, dtype: int64)\n"
     ]
    }
   ],
   "source": [
    "FPGA_0 = pd.Series(table[table['FPGA'] == 0]['TDC_CHANNEL'].value_counts())\n",
    "FPGA_1 = pd.Series(table[table['FPGA'] == 1]['TDC_CHANNEL'].value_counts())\n",
    "print(f'Series 1 is :\\n {FPGA_0}')\n",
    "print(f'Series 2 is : \\n {FPGA_1}')"
   ]
  },
  {
   "cell_type": "markdown",
   "metadata": {},
   "source": [
    "9\\. **Optional:** Create two histograms (one for each FPGA) that show the number of counts for each TDC channel."
   ]
  },
  {
   "cell_type": "code",
   "execution_count": null,
   "metadata": {},
   "outputs": [],
   "source": []
  }
 ],
 "metadata": {
  "kernelspec": {
   "display_name": "Python 3 (ipykernel)",
   "language": "python",
   "name": "python3"
  },
  "language_info": {
   "codemirror_mode": {
    "name": "ipython",
    "version": 3
   },
   "file_extension": ".py",
   "mimetype": "text/x-python",
   "name": "python",
   "nbconvert_exporter": "python",
   "pygments_lexer": "ipython3",
   "version": "3.11.4"
  }
 },
 "nbformat": 4,
 "nbformat_minor": 2
}
