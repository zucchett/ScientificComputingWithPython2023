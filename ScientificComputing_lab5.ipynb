{
 "cells": [
  {
   "cell_type": "code",
   "execution_count": 2,
   "id": "4961bc64-dfaa-4bd4-a82b-d32e2986dec3",
   "metadata": {},
   "outputs": [],
   "source": [
    "import pandas as pd\n",
    "import numpy as np"
   ]
  },
  {
   "cell_type": "markdown",
   "id": "f3562768",
   "metadata": {},
   "source": [
    "1. **Pandas DataFrame**\n",
    "\n",
    "This exercise consists in analyzing a dataset containg timing information from a series of Time-to-Digital-Converters (TDC) implemented in a pair of FPGAs. Each measurement (i.e. each row of the input file) consists of a flag that specifies the type of message ('HEAD', which in this case is always 1), two addresses of the TDC providing the signal ('FPGA' and 'TDC_CHANNEL'), and the timing information ('ORBIT_CNT', 'BX_COUNTER', and 'TDC_MEAS'). Each TDC count corresponds to 25/30 ns, whereas a unit of BX_COUNTER corresponds to 25 ns, and the ORBIT_CNT is increased every `x` BX_COUNTER. This allows to store the time in a similar way to hours, minutes and seconds.\n"
   ]
  },
  {
   "cell_type": "code",
   "execution_count": 20,
   "id": "c4859a1e",
   "metadata": {},
   "outputs": [],
   "source": [
    "# If haven't downloaded it yet, please get the data file with wget\n",
    "#!wget https://www.dropbox.com/s/xvjzaxzz3ysphme/data_000637.txt -P ./data/\n"
   ]
  },
  {
   "cell_type": "markdown",
   "id": "d3d63293",
   "metadata": {},
   "source": [
    "1. Create a Pandas DataFrame reading N rows of the `data/data_000637.txt` dataset. Choose N to be smaller than or equal to the maximum number of rows and larger that 10k (check the documentation)."
   ]
  },
  {
   "cell_type": "code",
   "execution_count": 3,
   "id": "8d1e0e8b",
   "metadata": {
    "scrolled": false
   },
   "outputs": [
    {
     "data": {
      "text/html": [
       "<div>\n",
       "<style scoped>\n",
       "    .dataframe tbody tr th:only-of-type {\n",
       "        vertical-align: middle;\n",
       "    }\n",
       "\n",
       "    .dataframe tbody tr th {\n",
       "        vertical-align: top;\n",
       "    }\n",
       "\n",
       "    .dataframe thead th {\n",
       "        text-align: right;\n",
       "    }\n",
       "</style>\n",
       "<table border=\"1\" class=\"dataframe\">\n",
       "  <thead>\n",
       "    <tr style=\"text-align: right;\">\n",
       "      <th></th>\n",
       "      <th>HEAD</th>\n",
       "      <th>FPGA</th>\n",
       "      <th>TDC_CHANNEL</th>\n",
       "      <th>ORBIT_CNT</th>\n",
       "      <th>BX_COUNTER</th>\n",
       "      <th>TDC_MEAS</th>\n",
       "    </tr>\n",
       "  </thead>\n",
       "  <tbody>\n",
       "    <tr>\n",
       "      <th>0</th>\n",
       "      <td>1</td>\n",
       "      <td>0</td>\n",
       "      <td>123</td>\n",
       "      <td>3869200167</td>\n",
       "      <td>2374</td>\n",
       "      <td>26</td>\n",
       "    </tr>\n",
       "    <tr>\n",
       "      <th>1</th>\n",
       "      <td>1</td>\n",
       "      <td>0</td>\n",
       "      <td>124</td>\n",
       "      <td>3869200167</td>\n",
       "      <td>2374</td>\n",
       "      <td>27</td>\n",
       "    </tr>\n",
       "    <tr>\n",
       "      <th>2</th>\n",
       "      <td>1</td>\n",
       "      <td>0</td>\n",
       "      <td>63</td>\n",
       "      <td>3869200167</td>\n",
       "      <td>2553</td>\n",
       "      <td>28</td>\n",
       "    </tr>\n",
       "    <tr>\n",
       "      <th>3</th>\n",
       "      <td>1</td>\n",
       "      <td>0</td>\n",
       "      <td>64</td>\n",
       "      <td>3869200167</td>\n",
       "      <td>2558</td>\n",
       "      <td>19</td>\n",
       "    </tr>\n",
       "    <tr>\n",
       "      <th>4</th>\n",
       "      <td>1</td>\n",
       "      <td>0</td>\n",
       "      <td>64</td>\n",
       "      <td>3869200167</td>\n",
       "      <td>2760</td>\n",
       "      <td>25</td>\n",
       "    </tr>\n",
       "    <tr>\n",
       "      <th>...</th>\n",
       "      <td>...</td>\n",
       "      <td>...</td>\n",
       "      <td>...</td>\n",
       "      <td>...</td>\n",
       "      <td>...</td>\n",
       "      <td>...</td>\n",
       "    </tr>\n",
       "    <tr>\n",
       "      <th>9995</th>\n",
       "      <td>1</td>\n",
       "      <td>0</td>\n",
       "      <td>61</td>\n",
       "      <td>3869200267</td>\n",
       "      <td>696</td>\n",
       "      <td>11</td>\n",
       "    </tr>\n",
       "    <tr>\n",
       "      <th>9996</th>\n",
       "      <td>1</td>\n",
       "      <td>0</td>\n",
       "      <td>60</td>\n",
       "      <td>3869200267</td>\n",
       "      <td>701</td>\n",
       "      <td>5</td>\n",
       "    </tr>\n",
       "    <tr>\n",
       "      <th>9997</th>\n",
       "      <td>1</td>\n",
       "      <td>0</td>\n",
       "      <td>59</td>\n",
       "      <td>3869200267</td>\n",
       "      <td>707</td>\n",
       "      <td>23</td>\n",
       "    </tr>\n",
       "    <tr>\n",
       "      <th>9998</th>\n",
       "      <td>1</td>\n",
       "      <td>0</td>\n",
       "      <td>63</td>\n",
       "      <td>3869200267</td>\n",
       "      <td>706</td>\n",
       "      <td>15</td>\n",
       "    </tr>\n",
       "    <tr>\n",
       "      <th>9999</th>\n",
       "      <td>1</td>\n",
       "      <td>0</td>\n",
       "      <td>49</td>\n",
       "      <td>3869200267</td>\n",
       "      <td>777</td>\n",
       "      <td>13</td>\n",
       "    </tr>\n",
       "  </tbody>\n",
       "</table>\n",
       "<p>10000 rows × 6 columns</p>\n",
       "</div>"
      ],
      "text/plain": [
       "      HEAD  FPGA  TDC_CHANNEL   ORBIT_CNT  BX_COUNTER  TDC_MEAS\n",
       "0        1     0          123  3869200167        2374        26\n",
       "1        1     0          124  3869200167        2374        27\n",
       "2        1     0           63  3869200167        2553        28\n",
       "3        1     0           64  3869200167        2558        19\n",
       "4        1     0           64  3869200167        2760        25\n",
       "...    ...   ...          ...         ...         ...       ...\n",
       "9995     1     0           61  3869200267         696        11\n",
       "9996     1     0           60  3869200267         701         5\n",
       "9997     1     0           59  3869200267         707        23\n",
       "9998     1     0           63  3869200267         706        15\n",
       "9999     1     0           49  3869200267         777        13\n",
       "\n",
       "[10000 rows x 6 columns]"
      ]
     },
     "execution_count": 3,
     "metadata": {},
     "output_type": "execute_result"
    }
   ],
   "source": [
    "filename = \"ScientificComputingWithPython2023/data/data_000637.txt\"\n",
    "N = 10000\n",
    "data = pd.read_csv(filename, nrows = N)\n",
    "data"
   ]
  },
  {
   "cell_type": "markdown",
   "id": "80234a1b",
   "metadata": {},
   "source": [
    "2. Estimate the number of BX in a ORBIT (the value `x`).\n",
    "\n",
    "Hint: check when the BX counter reaches the maximum value before being reset to 0."
   ]
  },
  {
   "cell_type": "code",
   "execution_count": 4,
   "id": "1d301fa3",
   "metadata": {},
   "outputs": [
    {
     "name": "stdout",
     "output_type": "stream",
     "text": [
      "      HEAD  FPGA  TDC_CHANNEL   ORBIT_CNT  BX_COUNTER  TDC_MEAS\n",
      "42       1     0           57  3869200167        3187        17\n",
      "127      1     0           62  3869200168        3538         4\n",
      "254      1     0           49  3869200169        2766         1\n",
      "352      1     1            3  3869200170        3377        11\n",
      "461      1     0           64  3869200171        3538         7\n",
      "...    ...   ...          ...         ...         ...       ...\n",
      "9682     1     0           58  3869200263        3422        28\n",
      "9761     1     1            6  3869200264        3065        20\n",
      "9851     1     1            2  3869200265        3480        29\n",
      "9982     1     0           56  3869200266        1851        11\n",
      "9999     1     0           49  3869200267         777        13\n",
      "\n",
      "[101 rows x 6 columns]\n",
      "The mean is: 3172.2475247524753\n"
     ]
    }
   ],
   "source": [
    "df = pd.DataFrame(data)\n",
    "\n",
    "# eliminate duplicates of values in ORBIT_CNT keeping the last\n",
    "orbit_no_dup = df.drop_duplicates(subset='ORBIT_CNT', keep='last')\n",
    "print(orbit_no_dup)\n",
    "\n",
    "# compute the mean of BX_COUNTER corresponding to orbit without duplicates\n",
    "df_mean = orbit_no_dup.BX_COUNTER.mean()\n",
    "print('The mean is:',df_mean)"
   ]
  },
  {
   "cell_type": "markdown",
   "id": "d4eae3d4",
   "metadata": {},
   "source": [
    "3. Create a new column with the absolute time in ns (as a combination of the other three columns with timing information) since the beginning of the data acquisition, and convert the new column to a Time Series.\n",
    "\n",
    "*Hint*: introduce an offset to the absolute time such that the start of the data acquisition (i.e. the first entry) is zero."
   ]
  },
  {
   "cell_type": "code",
   "execution_count": 24,
   "id": "37e386da",
   "metadata": {},
   "outputs": [
    {
     "name": "stdout",
     "output_type": "stream",
     "text": [
      "0      1970-01-01 00:00:00.000000000\n",
      "1      1970-01-01 00:00:00.000000001\n",
      "2      1970-01-01 00:00:00.000004477\n",
      "3      1970-01-01 00:00:00.000004593\n",
      "4      1970-01-01 00:00:00.000009649\n",
      "                    ...             \n",
      "9995   1970-01-01 00:00:00.007888653\n",
      "9996   1970-01-01 00:00:00.007888772\n",
      "9997   1970-01-01 00:00:00.007888940\n",
      "9998   1970-01-01 00:00:00.007888907\n",
      "9999   1970-01-01 00:00:00.007890680\n",
      "Name: Time, Length: 10000, dtype: datetime64[ns]\n"
     ]
    }
   ],
   "source": [
    "# offset to the absolute time in all three columns\n",
    "orbit_offset = df[\"ORBIT_CNT\"] - df[\"ORBIT_CNT\"].loc[0]\n",
    "counter_offset = df[\"BX_COUNTER\"] - df[\"BX_COUNTER\"].loc[0]\n",
    "tdc_offset = df[\"TDC_MEAS\"] - df[\"TDC_MEAS\"].loc[0]\n",
    "\n",
    "#compute absolute time in ns\n",
    "df[\"Time\"] = orbit_offset*df_mean*25 + counter_offset*25 + tdc_offset\n",
    "\n",
    "#Convert to a Time Series\n",
    "df['Time'] = pd.to_datetime(df['Time'], unit='ns')\n",
    "\n",
    "print(df['Time'])"
   ]
  },
  {
   "cell_type": "markdown",
   "id": "47ed7fdc",
   "metadata": {},
   "source": [
    "4. Find out the duration of the data taking in hours, minutes and seconds, by using the features of the Time Series. Perform this check reading the whole dataset."
   ]
  },
  {
   "cell_type": "code",
   "execution_count": 14,
   "id": "afae4495",
   "metadata": {},
   "outputs": [
    {
     "name": "stdout",
     "output_type": "stream",
     "text": [
      "0              00:00:00\n",
      "1              00:00:00\n",
      "2       00:00:00.000004\n",
      "3       00:00:00.000004\n",
      "4       00:00:00.000009\n",
      "             ...       \n",
      "9995    00:00:00.007888\n",
      "9996    00:00:00.007888\n",
      "9997    00:00:00.007888\n",
      "9998    00:00:00.007888\n",
      "9999    00:00:00.007890\n",
      "Name: Time, Length: 10000, dtype: object\n"
     ]
    }
   ],
   "source": [
    "print(pd.to_datetime(df['Time']).dt.time)"
   ]
  },
  {
   "cell_type": "markdown",
   "id": "9a3e8f27",
   "metadata": {},
   "source": [
    "5. Use the `.groupby()` method to find out the noisy channels, i.e. the TDC channels with most counts (print to screen the top 3 and the corresponding counts)"
   ]
  },
  {
   "cell_type": "code",
   "execution_count": 30,
   "id": "ae5649eb",
   "metadata": {},
   "outputs": [
    {
     "name": "stdout",
     "output_type": "stream",
     "text": [
      "TDC_CHANNEL\n",
      "139    860\n",
      "63     499\n",
      "64     491\n",
      "dtype: int64\n"
     ]
    }
   ],
   "source": [
    "print(df.groupby('TDC_CHANNEL').size().sort_values(ascending=False).head(3))"
   ]
  },
  {
   "cell_type": "markdown",
   "id": "bc704c80",
   "metadata": {},
   "source": [
    "6. Count the number of non-empty orbits (i.e. the number of orbits with at least one hit)."
   ]
  },
  {
   "cell_type": "code",
   "execution_count": 46,
   "id": "3d98e3e0",
   "metadata": {},
   "outputs": [
    {
     "name": "stdout",
     "output_type": "stream",
     "text": [
      "ORBIT_CNT nan are: Empty DataFrame\n",
      "Columns: [HEAD, FPGA, TDC_CHANNEL, ORBIT_CNT, BX_COUNTER, TDC_MEAS, Time]\n",
      "Index: []\n",
      "Number of non-empty orbits: 100\n"
     ]
    }
   ],
   "source": [
    "# first I check for nan values \n",
    "count = df[\"ORBIT_CNT\"] == float(\"nan\")\n",
    "print('ORBIT_CNT nan are:',df[count])\n",
    "\n",
    "# I use the data frame without duplicates that I initiated in es 2\n",
    "n1 = abs((orbit_no_dup[\"ORBIT_CNT\"] > 1).sum()) - 1\n",
    "print(\"Number of non-empty orbits:\", n1)\n"
   ]
  },
  {
   "cell_type": "markdown",
   "id": "1baaa38c",
   "metadata": {},
   "source": [
    "7. Count the number of unique orbits with at least one measurement from TDC_CHANNEL=139."
   ]
  },
  {
   "cell_type": "code",
   "execution_count": 49,
   "id": "f7191971",
   "metadata": {},
   "outputs": [
    {
     "name": "stdout",
     "output_type": "stream",
     "text": [
      "number of different ORBIT_CNT on TDC_CHANNEL=139:\n",
      "101\n"
     ]
    }
   ],
   "source": [
    "print(\"number of different ORBIT_CNT on TDC_CHANNEL=139:\")\n",
    "print(len(df.loc[df[\"TDC_CHANNEL\"]==139].groupby(['ORBIT_CNT'])))\n"
   ]
  },
  {
   "cell_type": "markdown",
   "id": "40fdb96f",
   "metadata": {},
   "source": [
    "8. Create two Series (one for each FPGA) that have the TDC channel as index, and the number of counts for the corresponding TDC channel as values."
   ]
  },
  {
   "cell_type": "code",
   "execution_count": 50,
   "id": "5f5e3d3e",
   "metadata": {},
   "outputs": [
    {
     "name": "stdout",
     "output_type": "stream",
     "text": [
      "TDC_CHANNEL\n",
      "1        4\n",
      "2       10\n",
      "3        8\n",
      "4       11\n",
      "5       11\n",
      "      ... \n",
      "121     45\n",
      "122     55\n",
      "123    138\n",
      "124    130\n",
      "139    599\n",
      "Length: 117, dtype: int64\n",
      "TDC_CHANNEL\n",
      "1      237\n",
      "2      250\n",
      "3      193\n",
      "4      200\n",
      "5      128\n",
      "      ... \n",
      "125      2\n",
      "126      1\n",
      "127     10\n",
      "128     11\n",
      "139    261\n",
      "Length: 115, dtype: int64\n"
     ]
    }
   ],
   "source": [
    "series_1 = df.loc[df[\"FPGA\"] == 0].groupby(['TDC_CHANNEL']).size()\n",
    "series_2 = df.loc[df[\"FPGA\"] == 1].groupby(['TDC_CHANNEL']).size()\n",
    "print(series_1)\n",
    "print(series_2)\n"
   ]
  },
  {
   "cell_type": "markdown",
   "id": "cd65addb",
   "metadata": {},
   "source": []
  }
 ],
 "metadata": {
  "kernelspec": {
   "display_name": "Python 3 (ipykernel)",
   "language": "python",
   "name": "python3"
  },
  "language_info": {
   "codemirror_mode": {
    "name": "ipython",
    "version": 3
   },
   "file_extension": ".py",
   "mimetype": "text/x-python",
   "name": "python",
   "nbconvert_exporter": "python",
   "pygments_lexer": "ipython3",
   "version": "3.11.5"
  }
 },
 "nbformat": 4,
 "nbformat_minor": 5
}
