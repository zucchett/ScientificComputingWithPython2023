{
 "cells": [
  {
   "cell_type": "markdown",
   "metadata": {},
   "source": [
    "# Introduction to Python\n",
    "\n",
    "Python is an **interpreted** high-level, general-purpose programming language.\n",
    "\n",
    "Its design philosophy emphasizes code readability with the use of **significant indentation**.\n",
    "\n",
    "Python is **dynamically-typed** (the type of a variable is checked at runtime) and **garbage-collected** (to avoid manual memory management).\n",
    "\n",
    "It supports multiple programming paradigms, including structured, object-oriented and functional programming.\n",
    "\n",
    "It is often described as a \"batteries included\" language due to its comprehensive standard library.\n",
    "\n",
    "Reference website: [https://www.python.org/](https://www.python.org/). Check it for documentation!\n",
    "\n",
    "Online documentation on [jupyter](http://nbviewer.jupyter.org/urls/bitbucket.org/ipre/calico/raw/master/notebooks/Documentation/Reference%20Guide/Reference%20Guide.ipynb) is also available. Remember, Jupyter allows to edit and run Python code interactively, but Jupyter **is not** python!"
   ]
  },
  {
   "cell_type": "code",
   "execution_count": 1,
   "metadata": {},
   "outputs": [
    {
     "name": "stdout",
     "output_type": "stream",
     "text": [
      "This is python, programming is fun again\n"
     ]
    }
   ],
   "source": [
    "print(\"This is python, programming is fun again\")"
   ]
  },
  {
   "cell_type": "markdown",
   "metadata": {},
   "source": [
    "## Variables and base types"
   ]
  },
  {
   "cell_type": "code",
   "execution_count": 2,
   "metadata": {},
   "outputs": [
    {
     "name": "stdout",
     "output_type": "stream",
     "text": [
      "2 is a <class 'str'>\n",
      "2 is a <class 'int'>\n",
      "2.0 is a <class 'float'>\n",
      "True is a <class 'bool'>\n"
     ]
    }
   ],
   "source": [
    "# This is a comment\n",
    "\n",
    "variable = \"2\" # this is also a comment\n",
    "print(variable, \"is a\", type(variable))\n",
    "\n",
    "variable = 2 # \"2\" and 2 are not the same thing\n",
    "print(variable, \"is a\", type(variable))\n",
    "\n",
    "variable = 2. # also 2 differs from 2.\n",
    "print(variable, \"is a\", type(variable))\n",
    "\n",
    "variable = True\n",
    "print(variable, \"is a\", type(variable))"
   ]
  },
  {
   "cell_type": "markdown",
   "metadata": {},
   "source": [
    "The function `print` allows also more powerful way of printing numbers:"
   ]
  },
  {
   "cell_type": "code",
   "execution_count": 3,
   "metadata": {},
   "outputs": [
    {
     "name": "stdout",
     "output_type": "stream",
     "text": [
      "Art:   453, Price per unit:    59.06\n"
     ]
    }
   ],
   "source": [
    "print(\"Art: %5d, Price per unit: %8.2f\" % (453, 59.058))"
   ]
  },
  {
   "cell_type": "code",
   "execution_count": 7,
   "metadata": {},
   "outputs": [
    {
     "name": "stdout",
     "output_type": "stream",
     "text": [
      "5 <class 'int'> 1 <class 'str'>\n"
     ]
    }
   ],
   "source": [
    "a, b = 5, \"1\" # a compact notation to assign values to more than one variable\n",
    "print(a, type(a), b, type(b))"
   ]
  },
  {
   "cell_type": "code",
   "execution_count": null,
   "metadata": {
    "scrolled": true
   },
   "outputs": [],
   "source": [
    "x = y = z = 7 # multiple assignment\n",
    "print(x, y, z)"
   ]
  },
  {
   "cell_type": "markdown",
   "metadata": {},
   "source": [
    "It's also possible to pass a value from command line (rarely used and discouraged):"
   ]
  },
  {
   "cell_type": "code",
   "execution_count": 8,
   "metadata": {},
   "outputs": [
    {
     "name": "stdout",
     "output_type": "stream",
     "text": [
      "Set the value of x: 54\n",
      "x = 54\n"
     ]
    }
   ],
   "source": [
    "x = input(\"Set the value of x: \") # remember to type Enter\n",
    "print(\"x =\", x)"
   ]
  },
  {
   "cell_type": "markdown",
   "metadata": {},
   "source": [
    "The boolean operations are even more explicit than other languages:"
   ]
  },
  {
   "cell_type": "code",
   "execution_count": null,
   "metadata": {},
   "outputs": [],
   "source": [
    "a, b = True, False\n",
    "\n",
    "aandb = a and b\n",
    "print(\"and:\", aandb)\n",
    "\n",
    "aorb = a or b\n",
    "print(\"or:\", aorb)\n",
    "\n",
    "nota = not a\n",
    "print(\"not:\", nota)"
   ]
  },
  {
   "cell_type": "markdown",
   "metadata": {},
   "source": [
    "## Basic operations\n",
    "\n",
    "Operations between variables are intuitive:"
   ]
  },
  {
   "cell_type": "code",
   "execution_count": null,
   "metadata": {},
   "outputs": [],
   "source": [
    "a, b = 2, 5\n",
    "c = a + b\n",
    "print(c)"
   ]
  },
  {
   "cell_type": "markdown",
   "metadata": {},
   "source": [
    "However, the result may vary depending on the type of the variable:"
   ]
  },
  {
   "cell_type": "code",
   "execution_count": null,
   "metadata": {},
   "outputs": [],
   "source": [
    "a, b = \"2\", \"5\"\n",
    "c = a + b\n",
    "print(c)"
   ]
  },
  {
   "cell_type": "markdown",
   "metadata": {},
   "source": [
    "Pay special attention when the type of the two variables is not the same:"
   ]
  },
  {
   "cell_type": "code",
   "execution_count": null,
   "metadata": {},
   "outputs": [],
   "source": [
    "a, b = 4, 7.2\n",
    "c = a + b\n",
    "print(c)\n",
    "print(type(a), type(b), type(c))"
   ]
  },
  {
   "cell_type": "code",
   "execution_count": null,
   "metadata": {},
   "outputs": [],
   "source": [
    "a, b = 2, \"5\"\n",
    "#c = a + b # This operation is not possible as int and str cannot be summed"
   ]
  },
  {
   "cell_type": "markdown",
   "metadata": {},
   "source": [
    "In these cases, **casting** the variables to the correct type is necessary:"
   ]
  },
  {
   "cell_type": "code",
   "execution_count": null,
   "metadata": {},
   "outputs": [],
   "source": [
    "c = a + int(b)\n",
    "print(c)"
   ]
  },
  {
   "cell_type": "markdown",
   "metadata": {},
   "source": [
    "same applies to `float()`, `str()` and so on. Sometimes it's automatic:"
   ]
  },
  {
   "cell_type": "code",
   "execution_count": 9,
   "metadata": {},
   "outputs": [
    {
     "name": "stdout",
     "output_type": "stream",
     "text": [
      "4\n"
     ]
    }
   ],
   "source": [
    "a, b = 3, True\n",
    "c = a + b\n",
    "print(c)"
   ]
  },
  {
   "cell_type": "markdown",
   "metadata": {},
   "source": [
    "But it's not always possible!"
   ]
  },
  {
   "cell_type": "code",
   "execution_count": 11,
   "metadata": {},
   "outputs": [],
   "source": [
    "a = \"Python3\"\n",
    "#int(a) # This casting operation is not valid"
   ]
  },
  {
   "cell_type": "markdown",
   "metadata": {},
   "source": [
    "### Basic Math operators\n",
    "\n",
    "Python includes by default the most common math operators.\n",
    "\n",
    "Note: square root requires to import the `math` module. More on this later on.\n",
    "\n",
    "For those used to C/C++: you can use the `**` operator for power.\n",
    "\n",
    "Pay attention to the type of the variables, as they may yield unexpected results. One of the most common cases, the ambiguity in the division between two `int`, is no longer an issue in Python3:"
   ]
  },
  {
   "cell_type": "code",
   "execution_count": 12,
   "metadata": {},
   "outputs": [
    {
     "name": "stdout",
     "output_type": "stream",
     "text": [
      "<class 'int'>\n",
      "<class 'float'>\n",
      "0.75\n",
      "0.75\n"
     ]
    }
   ],
   "source": [
    "x = 1\n",
    "print(type(x))\n",
    "y = 1.0\n",
    "print(type(y))\n",
    "a, b = int(3), int(4)\n",
    "print(a / b) # Python3 still casts ints as floats in a division\n",
    "print(float(a) / float(b))"
   ]
  },
  {
   "cell_type": "code",
   "execution_count": 13,
   "metadata": {},
   "outputs": [
    {
     "name": "stdout",
     "output_type": "stream",
     "text": [
      "division between ints: 0.75\n",
      "division between floats: 0.75\n",
      "modulus: 3\n",
      "floor division: 0\n",
      "exponentiation: 81\n",
      "power function: 81\n"
     ]
    }
   ],
   "source": [
    "print(\"division between ints:\", 3 / 4)\n",
    "print(\"division between floats:\", 3.0 / 4.0)\n",
    "print(\"modulus:\", 3 % 4)\n",
    "print(\"floor division:\", 3 // 4)\n",
    "print(\"exponentiation:\", 3**4)\n",
    "print(\"power function:\", pow(3, 4))"
   ]
  },
  {
   "cell_type": "markdown",
   "metadata": {},
   "source": [
    "## Pointers in Python? \n",
    "\n",
    "\n",
    "Pointers are widely used in C and C++. Essentially, they are variables that hold the memory address of another variable.  Are there pointers in python? Essentially no.\n",
    "Pointers go against the [Zen of Python](https://www.python.org/dev/peps/pep-0020/#id3):\n",
    "\n",
    "*Pointers encourage implicit changes rather than explicit. Often, they are complex instead of simple, especially for beginners. Even worse, they beg for ways to shoot yourself in the foot, or do something really dangerous like read from a section of memory you were not supposed to. Python tends to try to abstract away implementation details like memory addresses from its users. **Python often focuses on usability instead of speed.** As a result, pointers in Python doesn’t really make sense.*\n",
    "\n",
    "\n",
    "It's all about two basics python concepts:\n",
    "1. Mutable vs Immutable objects\n",
    "2. Variables and Names\n",
    "\n",
    "Mutable objects can be changed, immutable cannot. I.e. when a new value is assigned to a given immutable \"variable\", a new object is in reality created. This as \"variable\" in python are actually just names bound to objects (PyObject).\n",
    "\n",
    "For more details about all this refer e.g. to [this review](https://realpython.com/pointers-in-python/)."
   ]
  },
  {
   "cell_type": "markdown",
   "metadata": {},
   "source": [
    "## Lists\n",
    "Lists are exactly as the name implies: they are lists of objects. Lists are **heterogeneous** objects, which means that the objects they contain can be of any data type (including other lists), and it is allowed to mix data types.\n",
    "\n",
    "In this way they are much more flexible than arrays. It is possible to append, delete, insert and count elements and to sort, reverse, etc. the list.\n",
    "\n",
    "Lists are **mutable**."
   ]
  },
  {
   "cell_type": "code",
   "execution_count": null,
   "metadata": {},
   "outputs": [],
   "source": [
    "a_list = [1, 2, 3, \"this is a string\", 5.3]\n",
    "b_list = [\"A\", \"B\", \"F\", \"G\", \"d\", \"x\", \"c\", a_list, 3]\n",
    "print(b_list)"
   ]
  },
  {
   "cell_type": "markdown",
   "metadata": {},
   "source": [
    "Accessing and setting elements in lists is intuitive with the `[]` operator.\n",
    "\n",
    "Python provides a very efficient selection of ranges:"
   ]
  },
  {
   "cell_type": "code",
   "execution_count": null,
   "metadata": {},
   "outputs": [],
   "source": [
    "a = [1, 2, 3, 4, 5]\n",
    "print(\"[0] ->\", a[0]) # access 0-th element of the list\n",
    "print(\"[-1] ->\", a[-1]) # start counting from the end\n",
    "\n",
    "# a[start:stop:step]\n",
    "\n",
    "print(\"[2:4] ->\", a[2:4]) # range (in this case, 3rd and 4th element)\n",
    "print(\"[:3] ->\", a[:3]) # range, up to (4th element excluded)\n",
    "print(\"[3:] ->\", a[3:]) # range, starting from (4th element included)\n",
    "print(\"[-3:] ->\", a[-3:]) # range, starting from (last 3 elements)\n",
    "print(\"[3:len(a)] ->\", a[3:len(a)]) # range, until the end of the list\n",
    "print(\"[1::3] ->\", a[1::3]) # range in steps (of 3)"
   ]
  },
  {
   "cell_type": "markdown",
   "metadata": {},
   "source": [
    "There are also several *methods* of the list objects that can be used to perform several operations:"
   ]
  },
  {
   "cell_type": "code",
   "execution_count": null,
   "metadata": {},
   "outputs": [],
   "source": [
    "a = [7, 5, 3, 4, 10]\n",
    "print(\"a ->\", a)\n",
    "a.insert(0, 1000) # position, value\n",
    "print(\"a.insert(0, 1000) ->\", a)\n",
    "a.append(99) # value to append at the end of the list\n",
    "print(\"a.append(99) ->\", a)\n",
    "a.reverse()\n",
    "print(\"a.reverse() ->\", a)\n",
    "a.sort() # you can specify reverse=True\n",
    "print(\"a.sort() ->\", a)\n",
    "a.pop() # remove last element\n",
    "print(\"a.pop() ->\", a)\n",
    "a.remove(10) # remove by value\n",
    "print(\"a.remove(10) ->\", a)\n",
    "a.remove(a[2]) # same as before\n",
    "print(\"a.remove(a[2]) ->\", a)"
   ]
  },
  {
   "cell_type": "markdown",
   "metadata": {},
   "source": [
    "### Strings and String handling\n",
    "\n",
    "One of the most important features of Python is its powerful and easy handling of strings. Defining strings is simple enough in most languages. But in Python, it is easy to search and replace, convert cases, concatenate, or access elements. We’ll discuss a few of these here. For a complete list, see this [tutorial]( http://www.tutorialspoint.com/python/python_strings.htm)."
   ]
  },
  {
   "cell_type": "code",
   "execution_count": null,
   "metadata": {},
   "outputs": [],
   "source": [
    "a = \"A string of characters, with newline \\n CAPITALS, etc.\"\n",
    "print(a)\n",
    "b = 5.0\n",
    "newstring = a + \"\\n We can format strings for printing %.2f\"\n",
    "print(newstring % b)"
   ]
  },
  {
   "cell_type": "markdown",
   "metadata": {},
   "source": [
    "Operations are easy (remember strings are lists!)"
   ]
  },
  {
   "cell_type": "code",
   "execution_count": null,
   "metadata": {},
   "outputs": [],
   "source": [
    "a = \"ABC DEFG\"\n",
    "print(a[1:3])\n",
    "print(a[0:5])"
   ]
  },
  {
   "cell_type": "code",
   "execution_count": null,
   "metadata": {},
   "outputs": [],
   "source": [
    "a = \"ABC defg\"\n",
    "print(a.lower()) # .lower() does not modify the a object, but returns a new string\n",
    "print(a.upper())\n",
    "print(a.find('d')) # returns the position of the first occurrence\n",
    "print(a.count('e')) # count the number of occurrences"
   ]
  },
  {
   "cell_type": "markdown",
   "metadata": {},
   "source": [
    "Many methods do not modify the original object, but return a modified one, because strings are *immutable*. "
   ]
  },
  {
   "cell_type": "code",
   "execution_count": null,
   "metadata": {},
   "outputs": [],
   "source": [
    "print(\"Original string:\", a)\n",
    "print(a.replace('de', 'a'))\n",
    "print(\"Original string after replace():\", a) # after calling replace(), the original string is unchanged\n",
    "b = a.replace('def', 'aaa')\n",
    "print(\"New string:\", b)\n",
    "\n",
    "b = b.replace('a', 'c') # re-assign the return string to the same object\n",
    "print(\"Re-assigned string:\", b)"
   ]
  },
  {
   "cell_type": "code",
   "execution_count": null,
   "metadata": {},
   "outputs": [],
   "source": [
    "# Of course, you can concatenate strings with the + operator:\n",
    "b = \"XYZ\"\n",
    "c = a + b\n",
    "print(c)"
   ]
  },
  {
   "cell_type": "markdown",
   "metadata": {},
   "source": [
    "Remember that strings are **immutable**, and do not support assignment:"
   ]
  },
  {
   "cell_type": "code",
   "execution_count": null,
   "metadata": {},
   "outputs": [],
   "source": [
    "#a[2] = 'D' # This generates an error"
   ]
  },
  {
   "cell_type": "markdown",
   "metadata": {},
   "source": [
    "In order to modify an element of a string, you have to first convert it to a list, modify the list, and then convert it back to string with the `join()` method (see later)."
   ]
  },
  {
   "cell_type": "markdown",
   "metadata": {},
   "source": [
    "### List comprehensions"
   ]
  },
  {
   "cell_type": "markdown",
   "metadata": {},
   "source": [
    "Very compact notations are possibile. For example, the [list comprehensions](https://docs.python.org/2/tutorial/datastructures.html?highlight=comprehensions) allow to create in a single line non-trivial lists:"
   ]
  },
  {
   "cell_type": "code",
   "execution_count": null,
   "metadata": {},
   "outputs": [],
   "source": [
    "# Simple comprehension without conditional statements\n",
    "all_numbers = [x for x in range(10)]\n",
    "print(all_numbers)\n",
    "\n",
    "# List comprehension with if statement\n",
    "even_numbers = [x for x in range(10) if x % 2 == 0]\n",
    "print(even_numbers)\n",
    "\n",
    "# List comprehension with if ... else statement\n",
    "squared_even_numbers = [x if x % 2 == 0 else x**2 for x in range(10)]\n",
    "print(squared_even_numbers)"
   ]
  },
  {
   "cell_type": "markdown",
   "metadata": {},
   "source": [
    "Strings feature all operations permitted on lists, including comprehensions:"
   ]
  },
  {
   "cell_type": "code",
   "execution_count": null,
   "metadata": {},
   "outputs": [],
   "source": [
    "first_sentence = \"It was a dark and stormy night.\"\n",
    "characters = [x for x in first_sentence]\n",
    "print(characters)"
   ]
  },
  {
   "cell_type": "markdown",
   "metadata": {},
   "source": [
    "The opposite is also possible, but in a different way:"
   ]
  },
  {
   "cell_type": "code",
   "execution_count": null,
   "metadata": {},
   "outputs": [],
   "source": [
    "second_sentence = ''.join(characters)\n",
    "print(second_sentence)"
   ]
  },
  {
   "cell_type": "markdown",
   "metadata": {},
   "source": [
    "## Tuples\n",
    "\n",
    "Tuples are like lists with one very important difference: tuples not only are **immutable**, but they *cannot be changed*."
   ]
  },
  {
   "cell_type": "code",
   "execution_count": null,
   "metadata": {},
   "outputs": [],
   "source": [
    "a = (1, 2, \"3\", 4)\n",
    "print(a)\n",
    "#a[1] = 2 # If you perform an assignment to a tuple, an error is raised"
   ]
  },
  {
   "cell_type": "markdown",
   "metadata": {},
   "source": [
    "## Dictionaries\n",
    "\n",
    "Dictionaries are unordered, **keyed** lists. They are of paramount importance and a major asset of Python.\n",
    "\n",
    "Just like lists, dictionaries are **mutable**."
   ]
  },
  {
   "cell_type": "code",
   "execution_count": null,
   "metadata": {},
   "outputs": [],
   "source": [
    "a = {'key1' : \"anItem\", 2 : [\"a,bc\"], 3.4 : \"C\", 'fourthkey' : 7, '5key' : {'1st' : 1.1, '2nd' : [2.1, 2.2]}} # dictionary example\n",
    "print(a['key1'])\n",
    "print(a[3.4]) # Using a float as key is not recommended\n",
    "print(a['5key']['2nd'][1]) # Nested dictionary"
   ]
  },
  {
   "cell_type": "code",
   "execution_count": null,
   "metadata": {
    "scrolled": true
   },
   "outputs": [],
   "source": [
    "for i in a: print(i, a[i])"
   ]
  },
  {
   "cell_type": "code",
   "execution_count": null,
   "metadata": {},
   "outputs": [],
   "source": [
    "print(\"Keys:\", a.keys())\n",
    "print(\"Values:\", a.values())"
   ]
  },
  {
   "cell_type": "markdown",
   "metadata": {},
   "source": [
    "The keys can be of several types, but they must be a **hashable** type:\n",
    "\n",
    " - hashable types are: `int`, `float`, `str`, `tuple`\n",
    " - unhashable data types: `dict`, `list`, and `set` "
   ]
  },
  {
   "cell_type": "code",
   "execution_count": null,
   "metadata": {},
   "outputs": [],
   "source": [
    "#a = {[2, 3] : \"value\"} # does not work: a list is not an hashable type"
   ]
  },
  {
   "cell_type": "markdown",
   "metadata": {},
   "source": [
    "## Sets"
   ]
  },
  {
   "cell_type": "markdown",
   "metadata": {},
   "source": [
    "Sets are used to store multiple items in a single variable, but differently from lists and dictionaries, they are *unordered* and **do not support duplicates**. Sets are **mutable**."
   ]
  },
  {
   "cell_type": "code",
   "execution_count": null,
   "metadata": {},
   "outputs": [],
   "source": [
    "a = {\"apple\", 2, \"cherry\", 2}\n",
    "print(a) # the item '2' appears only once, despite being included twice in the declaration"
   ]
  },
  {
   "cell_type": "code",
   "execution_count": null,
   "metadata": {},
   "outputs": [],
   "source": [
    "#print(a[1]) # sets are not subscriptable, because they are unordered"
   ]
  },
  {
   "cell_type": "code",
   "execution_count": null,
   "metadata": {},
   "outputs": [],
   "source": [
    "a.add(\"3\")\n",
    "print(a)\n",
    "a.update({7, \"banana\"})\n",
    "print(a)"
   ]
  },
  {
   "cell_type": "markdown",
   "metadata": {},
   "source": [
    "## Conditional Statements\n",
    "\n",
    "Conditionals perform different computations or actions depending on whether a programmer-defined boolean condition evaluates to `True` or `False`.\n",
    "\n",
    "In addition to the usual `if` and `else`, Python also provides the `elif` statement which is equivalent to *else if*.\n",
    "\n",
    "Note that in Python blocks of code are separated only through the **indentation**."
   ]
  },
  {
   "cell_type": "code",
   "execution_count": null,
   "metadata": {},
   "outputs": [],
   "source": [
    "a = 21\n",
    "if a >= 22: # a boolean expression must follow \"if\"\n",
    "    print(\"if\")\n",
    "elif a >= 21:\n",
    "    print(\"elif\")\n",
    "else:\n",
    "    print(\"else\")"
   ]
  },
  {
   "cell_type": "markdown",
   "metadata": {},
   "source": [
    "## Exceptions\n",
    "\n",
    "`try`/`except`: a very important and powerful type of conditional expression that is often used to avoid runtime errors. Use it, and use it with care. "
   ]
  },
  {
   "cell_type": "code",
   "execution_count": null,
   "metadata": {},
   "outputs": [],
   "source": [
    "a = \"1\"\n",
    "try:\n",
    "    b = a + 2\n",
    "    print(b)\n",
    "except:\n",
    "    print(a, \" is not a number\")"
   ]
  },
  {
   "cell_type": "markdown",
   "metadata": {},
   "source": [
    "## Loops and Iterators\n",
    "\n",
    "Both the `for` and `while` loops are present in Python. The `for` loop, for instance, requires an iterable object to loop on:"
   ]
  },
  {
   "cell_type": "code",
   "execution_count": 1,
   "metadata": {},
   "outputs": [
    {
     "name": "stdout",
     "output_type": "stream",
     "text": [
      "1\n",
      "3\n",
      "5\n"
     ]
    }
   ],
   "source": [
    "for i in [1, 3, 5]:\n",
    "    print(i)"
   ]
  },
  {
   "cell_type": "markdown",
   "metadata": {},
   "source": [
    "**Iterable** types in Python are:\n",
    "\n",
    " - `list`\n",
    " - `set`\n",
    " - `tuple`\n",
    " - `dict`\n",
    "\n",
    "The behaviour of iterators (an object that enables to run through a container) in Python is very similar to all other languages. Start exploring the `range` function:"
   ]
  },
  {
   "cell_type": "code",
   "execution_count": null,
   "metadata": {},
   "outputs": [],
   "source": [
    "print(type(range(10)))\n",
    "print(list(range(10)))\n",
    "\n",
    "for i in range(2, 10, 2):\n",
    "    print(i) # note the indented block of code and the lack of {}"
   ]
  },
  {
   "cell_type": "markdown",
   "metadata": {},
   "source": [
    "Similary to other programming languages, the `while` loop requires just a boolean statement:"
   ]
  },
  {
   "cell_type": "code",
   "execution_count": null,
   "metadata": {},
   "outputs": [],
   "source": [
    "i = 1\n",
    "while i < 10:\n",
    "    print(i)\n",
    "    i += 1"
   ]
  },
  {
   "cell_type": "markdown",
   "metadata": {},
   "source": [
    "For lists, there is a convenient way to get both the index and the value at the same time with the `enumerate` function:"
   ]
  },
  {
   "cell_type": "code",
   "execution_count": 3,
   "metadata": {},
   "outputs": [
    {
     "name": "stdout",
     "output_type": "stream",
     "text": [
      "(0, 4)\n",
      "(1, 5)\n",
      "(2, 2)\n",
      "(3, 7)\n"
     ]
    }
   ],
   "source": [
    "for i in enumerate([4, 5, 2, 7]): print(i) # returns pairs of values (a tuple)"
   ]
  },
  {
   "cell_type": "code",
   "execution_count": 2,
   "metadata": {},
   "outputs": [
    {
     "name": "stdout",
     "output_type": "stream",
     "text": [
      "0 4\n",
      "1 5\n",
      "2 2\n",
      "3 7\n"
     ]
    }
   ],
   "source": [
    "for i, j in enumerate([4, 5, 2, 7]): print(i, j) # unpack the tuple on-the-fly"
   ]
  },
  {
   "cell_type": "markdown",
   "metadata": {},
   "source": [
    "For dictionaries, the `items()` method allows to get both the key and the values of each item of the dict:"
   ]
  },
  {
   "cell_type": "code",
   "execution_count": null,
   "metadata": {},
   "outputs": [],
   "source": [
    "d = {'a' : \"first\", 2 : \"second\"}\n",
    "# although not exactly an iterator, items() allows to run on the content of a dict\n",
    "for key, value in d.items():\n",
    "    print(key, value, d[key])"
   ]
  },
  {
   "cell_type": "markdown",
   "metadata": {},
   "source": [
    "#### Iterators\n",
    "\n",
    "Iterators represent streams of values. Because only one value is consumed at a time, they use very little memory. Use of iterators is very helpful for working with data sets too large to fit into RAM.\n",
    "\n",
    "The iterator object is initialized using the `iter()` method on iterable objects like lists, tuples, dicts, and sets. It uses the `next()` method for iteration."
   ]
  },
  {
   "cell_type": "code",
   "execution_count": null,
   "metadata": {},
   "outputs": [],
   "source": [
    "# Iterators can be created from sequences with the built-in function iter()\n",
    "xs = [1, 2, 3]\n",
    "x_iter = iter(xs)\n",
    "\n",
    "print(x_iter)\n",
    "print(next(x_iter))\n",
    "print(next(x_iter))\n",
    "print(next(x_iter))\n",
    "#print(next(x_iter)) # at the end of the list, a further next() generates an error"
   ]
  },
  {
   "cell_type": "code",
   "execution_count": null,
   "metadata": {},
   "outputs": [],
   "source": [
    "# Most commonly, iterators are used (automatically) within a for loop\n",
    "# which terminates when it encouters a StopIteration exception\n",
    "\n",
    "x_iter = iter(xs)\n",
    "for x in x_iter:\n",
    "    print(x)"
   ]
  },
  {
   "cell_type": "code",
   "execution_count": null,
   "metadata": {},
   "outputs": [],
   "source": []
  }
 ],
 "metadata": {
  "kernelspec": {
   "display_name": "Python 3 (ipykernel)",
   "language": "python",
   "name": "python3"
  },
  "language_info": {
   "codemirror_mode": {
    "name": "ipython",
    "version": 3
   },
   "file_extension": ".py",
   "mimetype": "text/x-python",
   "name": "python",
   "nbconvert_exporter": "python",
   "pygments_lexer": "ipython3",
   "version": "3.11.5"
  }
 },
 "nbformat": 4,
 "nbformat_minor": 2
}
