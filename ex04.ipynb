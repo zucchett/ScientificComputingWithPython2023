{
 "cells": [
  {
   "cell_type": "markdown",
   "metadata": {},
   "source": [
    "1\\. **Reductions**\n",
    "\n",
    "Given the following matrix:\n",
    "\n",
    "```python\n",
    "m = np.arange(12).reshape((3,4))\n",
    "```\n",
    "\n",
    "   1. find the total mean\n",
    "   2. find the mean for each row and column"
   ]
  },
  {
   "cell_type": "code",
   "execution_count": null,
   "metadata": {},
   "outputs": [],
   "source": [
    "import numpy as np\n",
    "\n",
    "m = np.arange(12).reshape((3,4))\n",
    "\n",
    "# Finding the total mean\n",
    "total_mean = np.mean(m)\n",
    "print(\"The total mean is:\", total_mean)\n",
    "\n",
    "# Finding the mean for each row and column\n",
    "row_means = np.mean(m, axis=1)\n",
    "print(\"The mean for each row is:\", row_means)\n",
    "\n",
    "column_means = np.mean(m, axis=0)\n",
    "print(\"The mean for each column is:\", column_means)"
   ]
  },
  {
   "cell_type": "markdown",
   "metadata": {},
   "source": [
    "2\\. **Outer product**\n",
    "\n",
    "Find the outer product of the following vectors:\n",
    "\n",
    "```python\n",
    "u = np.array([1, 3, 5, 7])\n",
    "v = np.array([2, 4, 6, 8])\n",
    "```\n",
    "\n",
    "Use different methods to do this:\n",
    "\n",
    "   1. Using the function `outer` in numpy\n",
    "   2. Using a nested `for` loop or a list comprehension\n",
    "   3. Using numpy broadcasting operations"
   ]
  },
  {
   "cell_type": "code",
   "execution_count": null,
   "metadata": {},
   "outputs": [],
   "source": [
    "import numpy as np\n",
    "\n",
    "u = np.array([1, 3, 5, 7])\n",
    "v = np.array([2, 4, 6, 8])\n",
    "\n",
    "# Using the function outer in numpy\n",
    "outer_product1 = np.outer(u, v)\n",
    "print(\"The outer product using np.outer is:\\n\", outer_product1)\n",
    "\n",
    "# Using a nested for loop or a list comprehension\n",
    "outer_product2 = np.array([u[i] * v[j] for i in range(len(u)) for j in range(len(v))]).reshape(len(u), len(v))\n",
    "print(\"The outer product using a nested for loop or list comprehension is:\\n\", outer_product2)\n",
    "\n",
    "# Using numpy broadcasting operations\n",
    "outer_product3 = u[:, np.newaxis] * v\n",
    "print(\"The outer product using numpy broadcasting is:\\n\", outer_product3)"
   ]
  },
  {
   "cell_type": "markdown",
   "metadata": {},
   "source": [
    "3\\. **Matrix masking**\n",
    "\n",
    "Create a $10 \\times 6$ matrix of float random numbers, distributed between 0 and 3 according to a flat distribution.\n",
    "\n",
    "After creating the matrix, set all entries $< 0.3$ to zero using a mask."
   ]
  },
  {
   "cell_type": "code",
   "execution_count": null,
   "metadata": {},
   "outputs": [],
   "source": [
    "import numpy as np\n",
    "\n",
    "# Creating a 10x6 matrix of float random numbers between 0 and 3\n",
    "matrix = np.random.uniform(low=0, high=3, size=(10, 6))\n",
    "print(\"Here's your matrix of float random numbers:\\n\", matrix)\n",
    "\n",
    "# Creating a mask to identify entries less than 0.3\n",
    "mask = matrix < 0.3\n",
    "\n",
    "# Setting all entries less than 0.3 to zero using the mask\n",
    "matrix[mask] = 0\n",
    "\n",
    "print(\"After applying the mask, the matrix becomes:\\n\", matrix)"
   ]
  },
  {
   "cell_type": "markdown",
   "metadata": {},
   "source": [
    "4\\. **Trigonometric functions**\n",
    "\n",
    "Use `np.linspace` to create an array of 100 numbers between $0$ and $2\\pi$ (inclusive).\n",
    "\n",
    "  * Extract every 10th element using the slice notation\n",
    "  * Reverse the array using the slice notation\n",
    "  * Extract elements where the absolute difference between the `sin` and `cos` functions evaluated for that element is $< 0.1$\n",
    "  * **Optional**: make a plot showing the `sin` and `cos` functions and indicate graphically (with a line or a marker) where they are close"
   ]
  },
  {
   "cell_type": "code",
   "execution_count": null,
   "metadata": {},
   "outputs": [],
   "source": [
    "import numpy as np\n",
    "\n",
    "# Creating an array of 100 numbers between 0 and 2pi (inclusive)\n",
    "arr = np.linspace(0, 2*np.pi, 100)\n",
    "print(\"Here's your array of numbers:\\n\", arr)\n",
    "\n",
    "# Extracting every 10th element using slice notation\n",
    "extracted1 = arr[::10]\n",
    "print(\"Here are every 10th elements:\\n\", extracted1)\n",
    "\n",
    "# Reversing the array using slice notation\n",
    "reversed_arr = arr[::-1]\n",
    "print(\"Here's the array in reverse order:\\n\", reversed_arr)\n",
    "\n",
    "# Extracting elements where the absolute difference between sin and cos is < 0.1\n",
    "selected_elements = arr[np.abs(np.sin(arr) - np.cos(arr)) < 0.1]\n",
    "print(\"Here are the elements where |sin(x) - cos(x)| < 0.1:\\n\", selected_elements)"
   ]
  },
  {
   "cell_type": "markdown",
   "metadata": {},
   "source": [
    "5\\. **Matrices**\n",
    "\n",
    "Create a matrix that shows the $10 \\times 10$ multiplication table.\n",
    "\n",
    " * Find the trace of the matrix\n",
    " * Extract the anti-diagonal matrix (this should be ```array([10, 18, 24, 28, 30, 30, 28, 24, 18, 10])```)\n",
    " * Extract the diagonal offset by 1 upwards (this should be ```array([ 2,  6, 12, 20, 30, 42, 56, 72, 90])```)"
   ]
  },
  {
   "cell_type": "code",
   "execution_count": null,
   "metadata": {},
   "outputs": [],
   "source": [
    "import numpy as np \n",
    "\n",
    "# Creating the 10x10 multiplication table matrix \n",
    "matrix = np.arange(1, 11) * np.arange(1, 11)[:, np.newaxis] \n",
    "\n",
    "# Printing the matrix \n",
    "print(matrix) \n",
    "\n",
    "# Finding the trace of the matrix \n",
    "trace = np.trace(matrix)\n",
    "print(\"The trace of the matrix is:\", trace) \n",
    "\n",
    "# Extracting the anti-diagonal matrix\n",
    "anti_diagonal = np.diagonal(np.fliplr(matrix))\n",
    "print(\"The anti-diagonal matrix is:\", anti_diagonal)"
   ]
  },
  {
   "cell_type": "markdown",
   "metadata": {},
   "source": [
    "6\\. **Broadcasting**\n",
    "\n",
    "Use broadcasting to create a grid of distances.\n",
    "\n",
    "Route 66 crosses the following cities in the US: Chicago, Springfield, Saint-Louis, Tulsa, Oklahoma City, Amarillo, Santa Fe, Albuquerque, Flagstaff, Los Angeles.\n",
    "\n",
    "The corresponding positions in miles are: `0, 198, 303, 736, 871, 1175, 1475, 1544, 1913, 2448`\n",
    "\n",
    "  * Build a 2D grid of distances among each city along Route 66\n",
    "  * Convert the distances in km"
   ]
  },
  {
   "cell_type": "code",
   "execution_count": null,
   "metadata": {},
   "outputs": [],
   "source": [
    "import numpy as np\n",
    "\n",
    "distances_miles = np.array([0, 198, 303, 736, 871, 1175, 1475, 1544, 1913, 2448])\n",
    "\n",
    "grid_distances = np.abs(distances_miles - distances_miles[:, np.newaxis])\n",
    "grid_distances_km = np.rint(grid_distances * 1.60934)\n",
    "\n",
    "print(\"The grid distances matrix is:\\n\", grid_distances)\n",
    "print(\"The grid distances matrix in km is:\\n\", grid_distances_km)"
   ]
  },
  {
   "cell_type": "markdown",
   "metadata": {},
   "source": [
    "7\\. **Prime numbers sieve**\n",
    "\n",
    "Compute the prime numbers in the 0-N (start with N=99) range with a sieve (mask).\n",
    "\n",
    "  * Construct a shape (N,) boolean array, which is the mask\n",
    "  * Identify the multiples of each number starting from 2 and set accordingly the corresponding mask element\n",
    "  * Apply the mask to obtain an array of ordered prime numbers\n",
    "  * Check the performances (with `timeit`); how does it scale with N?\n",
    "  * Implement the optimization suggested in the [sieve of Eratosthenes](https://en.wikipedia.org/wiki/Sieve_of_Eratosthenes)"
   ]
  },
  {
   "cell_type": "code",
   "execution_count": null,
   "metadata": {},
   "outputs": [],
   "source": [
    "import numpy as np\n",
    "import timeit\n",
    "\n",
    "# Function to compute prime numbers using the sieve of Eratosthenes\n",
    "def sieve_of_eratosthenes(N):\n",
    "    mask = np.ones(N, dtype=bool)  # Construct a boolean array of shape (N,)\n",
    "    mask[:2] = False  # Set the first two elements as False since they are not prime\n",
    "\n",
    "    for num in range(2, int(np.sqrt(N)) + 1):  # Iterate from 2 to the square root of N\n",
    "        if mask[num]:  # If the current number is prime\n",
    "            mask[num**2::num] = False  # Set the multiples of the current number as False\n",
    "\n",
    "    primes = np.nonzero(mask)[0]  # Apply the mask to obtain an array of ordered prime numbers\n",
    "    return primes\n",
    "\n",
    "N = 99\n",
    "time_taken = timeit.timeit(lambda: sieve_of_eratosthenes(N), number=1000)  # Measure the time taken for N=99\n",
    "print(f\"Time taken for N={N}: {time_taken} seconds\")\n",
    "# Time taken for N=99: 0.006287600001087412 seconds\n",
    "# Time taken for N=999: 0.013110419000440743 seconds\n",
    "# Time taken for N=9999: 0.053076579000844504 seconds"
   ]
  },
  {
   "cell_type": "markdown",
   "metadata": {},
   "source": [
    "8\\. **Diffusion using random walk**\n",
    "\n",
    "Consider a simple random walk process: at each step in time, a walker jumps right or left (+1 or -1) with equal probability. The goal is to find the typical distance from the origin of many random walkers after a given amount of time.\n",
    "\n",
    "*Hint*: create a 2D array where each row represents a walker, and each column represents a time step.\n",
    "\n",
    "  * Take 1000 walkers and let them walk for 200 steps\n",
    "  * Use `randint` to create a 2D array of size $walkers \\times steps$ with values -1 or 1\n",
    "  * Calculate the walking distances for each walker (e.g. by summing the elements in each row)\n",
    "  * Take the square of the previously-obtained array (element-wise)\n",
    "  * Compute the mean of the squared distances at each step (i.e. the mean along the columns)\n",
    "  * **Optional**: plot the average distances ($\\sqrt(distance^2)$) as a function of time (step)"
   ]
  },
  {
   "cell_type": "code",
   "execution_count": null,
   "metadata": {},
   "outputs": [],
   "source": [
    "import numpy as np\n",
    "\n",
    "# Define the number of walkers and steps\n",
    "walkers = 1000\n",
    "steps = 200\n",
    "\n",
    "# Create a 2D array of size walkers x steps with values -1 or 1\n",
    "random_walks = np.random.randint(low=-1, high=2, size=(walkers, steps))\n",
    "\n",
    "# Calculate the walking distances for each walker\n",
    "distances = np.sum(random_walks, axis=1)\n",
    "\n",
    "# Square the distances using element-wise multiplication\n",
    "squared_distances = distances**2\n",
    "\n",
    "# Compute the mean of the squared distances at each step\n",
    "mean_squared_distances = np.mean(squared_distances, axis=0)"
   ]
  }
 ],
 "metadata": {
  "kernelspec": {
   "display_name": "Python 3 (ipykernel)",
   "language": "python",
   "name": "python3"
  },
  "language_info": {
   "codemirror_mode": {
    "name": "ipython",
    "version": 3
   },
   "file_extension": ".py",
   "mimetype": "text/x-python",
   "name": "python",
   "nbconvert_exporter": "python",
   "pygments_lexer": "ipython3",
   "version": "3.10.12"
  }
 },
 "nbformat": 4,
 "nbformat_minor": 2
}
