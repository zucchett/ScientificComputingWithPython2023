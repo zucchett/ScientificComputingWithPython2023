{
 "cells": [
  {
   "cell_type": "markdown",
   "metadata": {},
   "source": [
    "# Numerical methods\n",
    "\n",
    "\n",
    "SciPy contains modules for optimization, linear algebra, integration, interpolation, special functions, FFT, signal and image processing, ODE solvers and other tasks common in science and engineering.\n",
    "\n",
    "Available sub-packages include:\n",
    "\n",
    "- `constants`: physical constants and conversion factors\n",
    "- `optimize`: optimization algorithms including root finding and minimization of a function (this lecture)\n",
    "- `interpolate`: interpolation tools (this lecture)\n",
    "- `stats`: statistical functions (next lectures)\n",
    "- `integrate`: numerical integration routines (this lecture)\n",
    "- `fft`: Discrete Fourier Transform algorithms (this lecture)\n",
    "- `fftpack`: Legacy interface for Discrete Fourier Transforms (this lecture)\n",
    "- `linalg`: linear algebra routines (previous lecture)\n",
    "- `sparse`: sparse matrices and related algorithms\n",
    "- and many others\n",
    "\n",
    "Before implementing a routine, it is worth checking if the desired algorithm is not already implemented in `scipy`. As non-professional programmers, scientists often tend to re-invent the wheel, which leads to buggy, non-optimal, difficult-to-share and unmaintainable code. By contrast, `scipy`'s routines are optimized and tested, and should therefore be used when possible."
   ]
  },
  {
   "cell_type": "markdown",
   "metadata": {},
   "source": [
    "##  Roots of functions\n",
    "\n",
    "There are several root finding algorithms for a generic function $f(x): {\\rm I\\!R} \\to {\\rm I\\!R}$, e.g. [Newton-Raphson](https://en.wikipedia.org/wiki/Newton%27s_method) or Brent (a safer version of the secant method, which combines a bracketing strategy with a parabolic approximation).\n",
    "\n",
    "Interestingly, the `scipy.optimize` module provides several algorithms for function minimization (scalar or multi-dimensional), curve fitting and root finding."
   ]
  },
  {
   "cell_type": "code",
   "execution_count": null,
   "metadata": {},
   "outputs": [],
   "source": [
    "import numpy as np\n",
    "import matplotlib.pyplot as plt\n",
    "from scipy import optimize\n",
    "\n",
    "%matplotlib inline"
   ]
  },
  {
   "cell_type": "code",
   "execution_count": null,
   "metadata": {},
   "outputs": [],
   "source": [
    "def f(x):\n",
    "    return x**3 - 3*x + 1\n",
    "\n",
    "x = np.linspace(-3, 3, 100)\n",
    "plt.axhline(0)\n",
    "plt.plot(x, f(x),'r-')"
   ]
  },
  {
   "cell_type": "markdown",
   "metadata": {},
   "source": [
    "You can see that the results may depend on the starting point:"
   ]
  },
  {
   "cell_type": "code",
   "execution_count": null,
   "metadata": {},
   "outputs": [],
   "source": [
    "# The Newton method just needs the initial point\n",
    "x1 = optimize.newton(f, -3)\n",
    "x2 = optimize.newton(f, 0)\n",
    "x3 = optimize.newton(f, 3)\n",
    "print(x1, x2, x3)\n",
    "\n",
    "plt.axhline(0)\n",
    "plt.plot(x, f(x),'r-')\n",
    "plt.axvline(x1, color='g')\n",
    "plt.axvline(x2, color='g')\n",
    "plt.axvline(x3, color='g')"
   ]
  },
  {
   "cell_type": "code",
   "execution_count": null,
   "metadata": {},
   "outputs": [],
   "source": [
    "%timeit optimize.newton(f, 0)"
   ]
  },
  {
   "cell_type": "markdown",
   "metadata": {},
   "source": [
    "Let's try now the [Brentq](https://docs.scipy.org/doc/scipy/reference/generated/scipy.optimize.brentq.html) module from ScipPy. The [Brent method](https://en.wikipedia.org/wiki/Brent%27s_method) is a hybrid method that dates back to the '70 and combines the speed of less reliable methods with the accuracy of the secant method:"
   ]
  },
  {
   "cell_type": "code",
   "execution_count": null,
   "metadata": {},
   "outputs": [],
   "source": [
    "# Specifying the function and the range to look for zeroes is mandatory\n",
    "x1, x2, x3 = optimize.brentq(f, -3, 0), optimize.brentq(f, 0, 1), optimize.brentq(f, 1,3)\n",
    "print(x1, x2, x3)"
   ]
  },
  {
   "cell_type": "code",
   "execution_count": null,
   "metadata": {},
   "outputs": [],
   "source": [
    "%timeit optimize.brentq(f, 0, 1)"
   ]
  },
  {
   "cell_type": "markdown",
   "metadata": {},
   "source": [
    "As you can verify, two independent methods yield the same result, but the performance can be very different, as every algorithm has its pros and cons."
   ]
  },
  {
   "cell_type": "markdown",
   "metadata": {},
   "source": [
    "### Multi-dimensional functions\n",
    "\n",
    "In case of $f(x): {\\rm I\\!R}^2 \\to {\\rm I\\!R}$, the `optimize.root` is available, also implementing several methods (MINPACK's hybrid being the default).\n",
    "\n",
    "MINPACK-1 is a package of Fortran subprograms for the numerical solution of systems of nonlinear equations and nonlinear least squares problems. [Link to the documentation (warning, 261 pages!)](https://cds.cern.ch/record/126569/files/CM-P00068642.pdf)\n",
    "\n",
    "Of course, MINPACK can be used also in one dimension, or in any case where an accurate and reliable numerical method is required.\n",
    "\n",
    "When performing complex root finding and minimizations, always **check if the algorithm has converged!**"
   ]
  },
  {
   "cell_type": "code",
   "execution_count": null,
   "metadata": {},
   "outputs": [],
   "source": [
    "def f(x):\n",
    "    return [x[1] - 3*x[0]*(x[0] + 1)*(x[0] - 1), 0.25*x[0]**2 + x[1]**2 - 1]\n",
    "\n",
    "solutions = optimize.root(f, (0.5, 0.5))\n",
    "# optimize.root returns an object which contains the result of the root finding\n",
    "print(solutions)\n",
    "\n",
    "print(\"\\n\\nRoot of the function:\\nx0 =\", solutions['x'], \"\\nf(x0) =\", f(solutions['x']))"
   ]
  },
  {
   "cell_type": "markdown",
   "metadata": {},
   "source": [
    "## Minimization of a function\n",
    "\n",
    "In general, minimization of $f(x): {\\rm I\\!R}^n \\to {\\rm I\\!R}$ is a whole field of study per se. You should have seen it treated in details in other courses.\n",
    "\n",
    "In the example below, we see an example of how SciPy can perform the numerical minimization of a function.\n",
    "The `minimize_scalar` function will find the minimum, and a search interval can be specified. By default, it uses the Brent algorithm."
   ]
  },
  {
   "cell_type": "code",
   "execution_count": null,
   "metadata": {},
   "outputs": [],
   "source": [
    "def f(x):\n",
    "    return x**4 + 3*(x - 2)**3 - 15*x**2 + 1\n",
    "\n",
    "x = np.linspace(-8, 5, 100)\n",
    "plt.plot(x, f(x))"
   ]
  },
  {
   "cell_type": "code",
   "execution_count": null,
   "metadata": {},
   "outputs": [],
   "source": [
    "solution = optimize.minimize_scalar(f, method='Brent')\n",
    "print(solution)"
   ]
  },
  {
   "cell_type": "markdown",
   "metadata": {},
   "source": [
    "The output provides more information than the result alone:\n",
    "\n",
    "- `nfev` is the number of function evaluations\n",
    "- `nit` is the number of iterations of the algorithm\n",
    "- `success` is the status"
   ]
  },
  {
   "cell_type": "code",
   "execution_count": null,
   "metadata": {},
   "outputs": [],
   "source": [
    "print(\"Success?\", solution['success'])\n",
    "\n",
    "# plot the minimum value\n",
    "plt.plot(x, f(x))\n",
    "plt.axvline(solution['x'], color='g')"
   ]
  },
  {
   "cell_type": "markdown",
   "metadata": {},
   "source": [
    "Pay attention than different ranges or even different algorithms may yield different results:"
   ]
  },
  {
   "cell_type": "code",
   "execution_count": null,
   "metadata": {},
   "outputs": [],
   "source": [
    "solution_bounded = optimize.minimize_scalar(f, method='bounded', bounds=[0, 6])\n",
    "print(solution_bounded) # different algorithms return different objects\n",
    "\n",
    "plt.plot(x, f(x))\n",
    "plt.axvline(solution_bounded['x'], color='g')"
   ]
  },
  {
   "cell_type": "markdown",
   "metadata": {},
   "source": [
    "### Local and global minima\n",
    "\n",
    "If the function is not trivial (and especially if it is in higher dimensions than 1), it may contain several minima. In these cases, care has to be taken to specify a good starting point, otherwise the algorithm will converge in a local (false) minimum."
   ]
  },
  {
   "cell_type": "code",
   "execution_count": null,
   "metadata": {},
   "outputs": [],
   "source": [
    "def f(x, offset):\n",
    "    return -np.sinc(x - offset)\n",
    "\n",
    "x = np.linspace(-20, 20, 100)\n",
    "plt.plot(x, f(x, 5))"
   ]
  },
  {
   "cell_type": "code",
   "execution_count": null,
   "metadata": {},
   "outputs": [],
   "source": [
    "# note how additional function arguments are passed in\n",
    "solution = optimize.minimize_scalar(f, args=(5,))\n",
    "print(solution)\n",
    "\n",
    "plt.plot(x, f(x, 5))\n",
    "plt.axvline(solution['x'], color='g')"
   ]
  },
  {
   "cell_type": "markdown",
   "metadata": {},
   "source": [
    "Optimization results are packed accordingly to this [format](https://docs.scipy.org/doc/scipy/reference/generated/scipy.optimize.OptimizeResult.html#scipy.optimize.OptimizeResult)."
   ]
  },
  {
   "cell_type": "markdown",
   "metadata": {},
   "source": [
    "When the function oscillates a lot, often the global minimum is not found. To cope with that, several ranges needs to be explored. This can be done either manually..."
   ]
  },
  {
   "cell_type": "code",
   "execution_count": null,
   "metadata": {},
   "outputs": [],
   "source": [
    "lower = np.random.uniform(-20, 20, 100)\n",
    "upper = lower + 1\n",
    "solutions = [optimize.minimize_scalar(f, args=(5,), bracket=(l, u)) for (l, u) in zip(lower, upper)]\n",
    "# split the x range in intervals, and run minimize_scalar in each one, then pick the interval with the smallest minimum\n",
    "idx = np.argmin([solution['fun'] for solution in solutions])\n",
    "solution = solutions[idx]\n",
    "\n",
    "plt.plot(x, f(x, 5))\n",
    "plt.axvline(solution['x'], color='r')"
   ]
  },
  {
   "cell_type": "markdown",
   "metadata": {},
   "source": [
    "...or using dedicated methods, like the [basinhopping](https://docs.scipy.org/doc/scipy/reference/generated/scipy.optimize.basinhopping.html), which are specifically designed to overcome these issues:"
   ]
  },
  {
   "cell_type": "code",
   "execution_count": null,
   "metadata": {},
   "outputs": [],
   "source": [
    "from scipy.optimize import basinhopping\n",
    "\n",
    "x0 = 10\n",
    "solution = basinhopping(f, x0, stepsize=1, minimizer_kwargs={'args': (5,)}) # see how the parameters are passed to the function\n",
    "print(solution)"
   ]
  },
  {
   "cell_type": "code",
   "execution_count": null,
   "metadata": {},
   "outputs": [],
   "source": [
    "plt.plot(x, f(x, 5))\n",
    "plt.axvline(solution['x'], color='r')"
   ]
  },
  {
   "cell_type": "markdown",
   "metadata": {},
   "source": [
    "It's very likely that an algorithm that solves your problem has already been implemented: in this case, it's always more efficient to use the dedicated library."
   ]
  },
  {
   "cell_type": "markdown",
   "metadata": {},
   "source": [
    "# Numerical integration\n",
    "\n",
    "Numerical integration, also called quadrature (especially in one-dimension), adresses the basic problem in numerical integration to compute an approximate solution to a definite integral $\\int_a^b f(x) dx$ to a given degree of accuracy.\n",
    "\n",
    "$f(x)$ should be a smooth function integrated over a small number of dimensions, and the domain of integration should be bounded.\n",
    "\n",
    "There are many methods for approximating the integral to the desired precision, which potentially require one whole course per se, which are implemented in the `scipy.integrate` Pythion library. In the following examples, we will see the application of the `integrate` library to solve some common cases.\n",
    "\n",
    "The most generic integration routine is `scipy.integrate.quad()`, which integrate a one-dimensional function from $a$ to $b$ using a technique (check the [documentation](https://docs.scipy.org/doc/scipy/reference/generated/scipy.integrate.quad.html)) from the Fortran library QUADPACK.\n",
    "\n",
    "In this example, we compute the integral of a simple function $\\int_0^{\\pi/2} \\sin{\\theta}d\\theta$, whose result is known analytically (and is 1):"
   ]
  },
  {
   "cell_type": "code",
   "execution_count": null,
   "metadata": {},
   "outputs": [],
   "source": [
    "from scipy.integrate import quad, quadrature\n",
    "\n",
    "# call quad and pass the function, the min and max of the integration interval\n",
    "# note that the function must be numpy-compliant, e.g. vectorized\n",
    "# in other words, only numpy functions (np.cos, ...) and vectorized operations (+, -, *, **, ...) are allowed\n",
    "res, err = quad(np.sin, 0, np.pi/2)\n",
    "\n",
    "# an alternative method is the gaussian quadrature, but the uncertainty is larger\n",
    "#res, err = quadrature(np.sin, 0, np.pi/2)\n",
    "\n",
    "print(\"Integral:\", res, \"+-\", err)\n",
    "print(np.allclose(res, 1)) # np.allclose() checks that two numpy arrays have all close values"
   ]
  },
  {
   "cell_type": "markdown",
   "metadata": {},
   "source": [
    "Another example of integration of a not-so-simple function:"
   ]
  },
  {
   "cell_type": "code",
   "execution_count": null,
   "metadata": {},
   "outputs": [],
   "source": [
    "def conditional_function(x):\n",
    "    if x < 0:\n",
    "        return np.exp(x)\n",
    "    if x < 3:\n",
    "        return x**2\n",
    "    if x == 3:\n",
    "        return 0\n",
    "    if x > 3:\n",
    "        return np.sqrt(x)\n",
    "    if x >= 5:\n",
    "        return np.exp(-x)\n",
    "    \n",
    "# this Numpy method converts the regular function into a Numpy function\n",
    "np_conditional_function = np.vectorize(conditional_function)\n",
    "\n",
    "res, err = quad(np_conditional_function, -4, 6) #Integrate it from -4 to 6 using the numpy version\n",
    "print(\"Integral:\", res, \"+-\", err)\n",
    "\n",
    "x = np.arange(-4, 6, 0.01)\n",
    "plt.plot(x, np_conditional_function(x))\n",
    "plt.show()"
   ]
  },
  {
   "cell_type": "markdown",
   "metadata": {},
   "source": [
    "A more generic function, but less user-friendly, that extends `quad` to multiple dimensions is `nquad` ([documentation](https://docs.scipy.org/doc/scipy/reference/generated/scipy.integrate.nquad.html)):"
   ]
  },
  {
   "cell_type": "code",
   "execution_count": null,
   "metadata": {},
   "outputs": [],
   "source": [
    "from scipy.integrate import nquad\n",
    "\n",
    "# define functions as lambda\n",
    "func = lambda x0, x1, x2, x3 : x0**2 + x1*x2 - x3**3 + np.sin(x0) + (1 if (x0 - .2*x3 - .5 - .25*x1 > 0) else 0)\n",
    "\n",
    "# define integration points\n",
    "#points = [[lambda x1, x2, x3 : 0.2*x3 + 0.5 + 0.25*x1], [], [], []]\n",
    "\n",
    "# define optional parameters\n",
    "def opts0(*args, **kwargs):\n",
    "    return {'points' : [0.2*args[2] + 0.5 + 0.25*args[0]]} \n",
    "\n",
    "# arguments are: function, ranges, options\n",
    "result, abserr, out = nquad(func, [[0, 1], [-1, 1], [.13, .8], [-.15, 1]], opts=[opts0, {}, {}, {}], full_output=True)\n",
    "\n",
    "print(\"Integral:\", result, \"+-\", abserr)\n",
    "print(out)"
   ]
  },
  {
   "cell_type": "markdown",
   "metadata": {},
   "source": [
    "## Integrating Ordinary Differential Equations\n",
    "\n",
    "The Python `scipy.integrate` library also features routines for integrating Ordinary Differential Equations (ODE). It cannot handle coupled, partial differential equations (PDEs) or boundary problems. For those and all other things not in Scipy, see this list of other [numerical methods](https://projects.scipy.org/topical-software.html).\n",
    "\n",
    "To solve an ODE in Python (and all other programming languages/packages):\n",
    "\n",
    " - Convert to standard form\n",
    " - Implement the standardized equation as a Python function\n",
    " - Create a grid of points where you want to evaluate the ODE\n",
    " - Call `scipy.integrate.odeint()` passing the function, initial value, and grid ([link to the documentation](https://docs.scipy.org/doc/scipy/reference/generated/scipy.integrate.odeint.html))\n",
    " \n",
    "Specifically, `odeint()` solves ODE of the form:\n",
    "\n",
    "$$\\frac{dy}{dt} = f(t, y_1(t), y_2(t), ...)$$\n",
    "\n",
    "All first order, second order and n-th order ODEs can be converted into this form. Let's see some examples.\n",
    "\n",
    "\n",
    "### First order ODEs\n",
    "\n",
    " - $\\frac{dC(t)}{dt}=−rC(t)$ (chemical reaction)\n",
    " - $R\\frac{di(t)}{dt} + \\frac{i(t)}{C} = 0$ (RC circuits)\n",
    " - $L\\frac{di(t)}{dt} + R i(t) = V$ (RL circuits)\n",
    " \n",
    "These three examples are a 1-st order ODE, already in standard form or that can be expressed in the standard form with trivial operations.\n",
    "\n",
    "\n",
    "#### Example: generic first order ODE\n",
    "\n",
    "As an example, let us solve the ODE:\n",
    "\n",
    "$$\\frac{dy}{dt} = -2 y$$\n",
    "\n",
    "between $t = 0 \\dots 4$, with the initial condition $y(t=0) = 1$:"
   ]
  },
  {
   "cell_type": "code",
   "execution_count": null,
   "metadata": {},
   "outputs": [],
   "source": [
    "from scipy.integrate import odeint\n",
    "\n",
    "# first the function computing the derivative of the position needs to be defined\n",
    "def derivative(ypos, time):\n",
    "    return -2 * ypos\n",
    "\n",
    "# define the interval\n",
    "time_vec = np.linspace(0, 4, 40)\n",
    "\n",
    "# call the odeint() method\n",
    "y = odeint(derivative, y0=1, t=time_vec)\n",
    "\n",
    "# plot the function\n",
    "plt.figure(figsize=(4, 3))\n",
    "plt.plot(time_vec, y)\n",
    "plt.xlabel('t')\n",
    "plt.ylabel('y')\n",
    "plt.tight_layout()\n",
    "\n",
    "# Overlay the exponential function f(x) = e^(-2x)\n",
    "#plt.plot(time_vec, np.exp(-2*time_vec), marker='*', linestyle='None')"
   ]
  },
  {
   "cell_type": "markdown",
   "metadata": {},
   "source": [
    "### Second order ODEs\n",
    "\n",
    "- $\\frac{d^2 x(t)}{dt^2} + k x(t) = 0$ (non-damped mass-spring oscillation)\n",
    "- $\\frac{d^2 x(t)}{dt^2} + 2 \\varepsilon \\omega_0  \\frac{dx(t)}{dt} + \\omega_0^2 x(t) = 0$ (mass-spring damped oscillation)\n",
    "- $L\\frac{d^2 i(t)}{dt^2} + R\\frac{di(t)}{dt} + \\frac{1}{C}i(t) = 0$ (RLC circuit)\n",
    "\n",
    "The \"trick\" for the 2-nd order ODEs is to create a second dimension, the dimensions of the derivative, which turns the problem into a 2D 1-st order ODE.\n",
    "\n",
    "#### Example: the mass-spring system\n",
    "\n",
    "In the case of the non-damped spring mass system, we'll use a $x_1(t)=x(t)$ and $x_2(t)=\\frac{dx(t)}{dt}$.\n",
    "So the equation:\n",
    "$$\\frac{d^2 x(t)}{dt^2} + k x(t) = 0$$\n",
    "becomes:\n",
    "$$\\frac{d x_2(t)}{dt} + k x_1 (t) = 0$$\n",
    "and thus\n",
    "$$\\frac{d x_2(t)}{dt} = - k x_1 (t)$$\n",
    "$$\\frac{d x_1(t)}{dt} = x_2(t)$$\n",
    "Now we have two dimensions and their ODEs are both in standard form."
   ]
  },
  {
   "cell_type": "markdown",
   "metadata": {},
   "source": [
    "#### Example: the damped mass-spring system\n",
    "\n",
    "Let's see a solution for the damped spring mass system.\n",
    "The position of a mass attached to a spring obeys the 2-nd order ODE reported above, with $\\omega_0^2 = k/m$ with $k$ the spring constant, $m$ the mass and $\\varepsilon = c/(2 m \\omega_0)$ with $c$ the damping coefficient."
   ]
  },
  {
   "cell_type": "code",
   "execution_count": null,
   "metadata": {},
   "outputs": [],
   "source": [
    "# set the constants\n",
    "mass = 0.5  # kg\n",
    "kspring = 4  # N/m\n",
    "cviscous = 0.4  # N s/m\n",
    "\n",
    "# and thus\n",
    "eps = cviscous / (2 * mass * np.sqrt(kspring/mass))\n",
    "omega = np.sqrt(kspring / mass)"
   ]
  },
  {
   "cell_type": "markdown",
   "metadata": {},
   "source": [
    "The 2-nd order equation needs to be transformed in a system of two first-order equations for the vector $X = (x_1, x_2)$. This can be done by exploiting 2D Numpy arrays. The function computes the velocity and acceleration. In this case, the two 1-st order ODEs are:\n",
    "\n",
    "$$\\frac{d x_1(t)}{dt} = x_2(t)$$\n",
    "$$\\frac{d x_2(t)}{dt} = - \\varepsilon \\omega_0 x_1 (t) - \\omega_0^2 x_2(t)$$"
   ]
  },
  {
   "cell_type": "code",
   "execution_count": null,
   "metadata": {},
   "outputs": [],
   "source": [
    "def derivative(X, time, eps, omega):\n",
    "    return(X[1], -eps * omega * X[1] - omega**2 * X[0])\n",
    "\n",
    "t = np.linspace(0, 10, 100)\n",
    "Xinit = (1, 0)\n",
    "X = odeint(derivative, Xinit, t, args=(eps, omega))\n",
    "\n",
    "# plot y and y'\n",
    "plt.figure(figsize=(8, 6))\n",
    "plt.plot(t, X[:, 0], label=\"$x_1$\")\n",
    "plt.plot(t, X[:, 1], label=\"$x_2$\")\n",
    "plt.xlabel('t')\n",
    "plt.ylabel('A')\n",
    "plt.legend(loc='best')"
   ]
  },
  {
   "cell_type": "markdown",
   "metadata": {},
   "source": [
    "#### Example: viscous resistance in the motion of a projectile\n",
    "\n",
    "Whereas simple ODEs can be solved analytically, **many ODEs require a numerical treatment**.\n",
    "\n",
    "In this example, we will simulate a simple linear second-order ODE, describing the evolution of an object in the air that is subject to gravity and viscous resistance, the latter proportional to the velocity of the object.\n",
    "\n",
    "Let's define $u = (x,y)$ to describe the 2D position of our particle with mass $m$. This particle is subject to two forces: gravity $F_g = mg = (0, -9.81 \\cdot m)$ and air drag $F = -ku'$. This last term depends on the particle's speed and is only valid at low speed. With higher speeds, we need to use more complex nonlinear expressions.\n",
    "\n",
    "Starting from the Newton's second law of motion, we obtain our second-order ODE:\n",
    "$$u'' = -\\frac{k}{m} u' + g$$\n",
    "\n",
    "and we transform it into a single-order system of ODEs, with:\n",
    "\n",
    "$$v = \\begin{pmatrix} u \\\\ u' \\end{pmatrix}$$\n",
    "\n",
    "$$v' = \\begin{pmatrix} u' \\\\ u'' \\end{pmatrix} = \\begin{pmatrix} u' \\\\ -\\frac{k}{m} u' + g \\end{pmatrix}$$\n",
    "\n",
    "The last term can be expressed as a function of $u'$ only, thus representing the equations in the standard form.\n",
    "\n",
    "Let's solve this system with `odeint`:"
   ]
  },
  {
   "cell_type": "code",
   "execution_count": null,
   "metadata": {},
   "outputs": [],
   "source": [
    "# define parameters\n",
    "m = 1.  # particle's mass\n",
    "k = 1.  # drag coefficient\n",
    "g = 9.81  # gravity acceleration\n",
    "\n",
    "# Define v0, a four-vector\n",
    "v0 = np.zeros(4) # v0[0] and v0[1] are the initial positions and are set to zero\n",
    "\n",
    "# Set the initial speed components x and y\n",
    "v0[2] = 4.\n",
    "v0[3] = 10.\n",
    "\n",
    "# Define the time interval with linearly spaced times between t=0 and t=3\n",
    "t = np.linspace(0., 3., 30)\n",
    "\n",
    "# Define the function that takes the current vector v(t0) and a time t0 as arguments (with optional parameters)\n",
    "# and that returns the derivative v'(t0):\n",
    "def f(v, t0, k):\n",
    "    # v has four components: v=[u, u'].\n",
    "    u, udot = v[:2], v[2:]\n",
    "    # compute the second derivative u'' of u.\n",
    "    udotdot = -k / m * udot\n",
    "    udotdot[1] -= g\n",
    "    # return v'=(u', u'')\n",
    "    return np.concatenate((udot, udotdot), axis=0) # row-wise merging\n",
    "\n",
    "plt.figure(figsize=(8, 6))\n",
    "\n",
    "# We simulate the system for different values of k\n",
    "for k in np.arange(0., 2.5, 0.5):\n",
    "    # evaluate v at a given time\n",
    "    v = odeint(f, v0, t, args=(k,))\n",
    "    # and plot the x and y positions (v components 0 and 1)\n",
    "    plt.plot(v[:, 0], v[:, 1], 'o-', label=\"k=%.1f\" % k)\n",
    "\n",
    "plt.legend()\n",
    "plt.xlabel('x')\n",
    "plt.ylabel('y')\n",
    "plt.ylim([0, 6])"
   ]
  },
  {
   "cell_type": "markdown",
   "metadata": {},
   "source": [
    "## Fast Fourier Trasform\n",
    "\n",
    "The [Fourier Transform](https://en.wikipedia.org/wiki/Fourier_transform) (FT) is a mathematical transform that decomposes functions that depend on space or time into functions depending on spatial or temporal frequency.\n",
    "\n",
    "It is often used to **investigate features in the frequency space** and **filter the noise** from a periodic signal.\n",
    "\n",
    "The `scipy.fftpack` module computes fast Fourier transforms (FFTs) and offers utilities to handle them. The main functions are:\n",
    "\n",
    "* `scipy.fftpack.fft()` to compute the FFT\n",
    "* `scipy.fftpack.fftfreq()` to generate the sampling frequencies\n",
    "* `scipy.fftpack.ifft()` computes the inverse FFT, from frequency space to signal space\n",
    "\n",
    "Let's see a practical example, generating a periodic signal (using a `np.sin` function) and adding on top some random noise:"
   ]
  },
  {
   "cell_type": "code",
   "execution_count": null,
   "metadata": {},
   "outputs": [],
   "source": [
    "time_step = 0.05\n",
    "ang_freq = 0.2\n",
    "period = 1. / ang_freq\n",
    "# define the time range\n",
    "time_vec = np.arange(0, 20, time_step)\n",
    "# define the function as signal + noise\n",
    "noise = 0.5 * np.random.randn(time_vec.size)\n",
    "sig = np.sin(2 * np.pi / period * time_vec) + noise\n",
    "\n",
    "plt.figure(figsize=(8, 6))\n",
    "plt.plot(time_vec, sig, label='Original signal')"
   ]
  },
  {
   "cell_type": "markdown",
   "metadata": {},
   "source": [
    "Let's now compute and plot the power spectrum using `fftpack.fft` ([documentation](https://docs.scipy.org/doc/scipy/reference/generated/scipy.fftpack.fft.html)):"
   ]
  },
  {
   "cell_type": "code",
   "execution_count": null,
   "metadata": {},
   "outputs": [],
   "source": [
    "# The FFT of the signal\n",
    "sig_fft = fftpack.fft(sig)\n",
    "\n",
    "# And the power (sig_fft is of complex dtype)\n",
    "power = np.abs(sig_fft) # these are the \"weights\" of the Fourier components for each discrete frequency interval\n",
    "\n",
    "# The return the corresponding frequencies\n",
    "sample_freq = fftpack.fftfreq(sig.size, d=time_step)\n",
    "\n",
    "# Plot the FFT power\n",
    "plt.figure(figsize=(8, 6))\n",
    "plt.plot(sample_freq, power)\n",
    "plt.xlabel('Frequency [Hz]')\n",
    "plt.ylabel('Power')\n",
    "\n",
    "# Find the peak frequency: focus only on only the positive frequencies\n",
    "pos_mask = np.where(sample_freq > 0)\n",
    "freqs = sample_freq[pos_mask]\n",
    "powes = power[pos_mask]\n",
    "\n",
    "# find the max of freqs array\n",
    "peak_freq = freqs[powes.argmax()]\n",
    "print(\"Peak frequency:\", peak_freq)\n",
    "\n",
    "# Check that it does indeed correspond to the frequency that we generate the signal with\n",
    "print(\"Does the peak correspond to the initial frequency?\", np.allclose(peak_freq, ang_freq))\n",
    "\n",
    "# An inner plot to show the peak frequency\n",
    "axes = plt.axes([0.55, 0.3, 0.3, 0.5])\n",
    "plt.title('Peak frequency')\n",
    "plt.plot(freqs[:8], powes[:8])\n",
    "plt.setp(axes, yticks=[])\n",
    "\n",
    "# scipy.signal.find_peaks_cwt can also be used for more advanced peak detection"
   ]
  },
  {
   "cell_type": "markdown",
   "metadata": {},
   "source": [
    "Now, we want to create a filter that removes the random noise and returns the periodic signal. We can observe that the random noise populates the high frequency part of the spectrum, so we may want to remove these:"
   ]
  },
  {
   "cell_type": "code",
   "execution_count": null,
   "metadata": {},
   "outputs": [],
   "source": [
    "filtered_fft = sig_fft.copy() # create an explicit copy of the FFT\n",
    "\n",
    "# filter (set to zero) all high frequency components that are larger than peak_freq\n",
    "filtered_fft[np.abs(sample_freq) - peak_freq > 0.4] = 0\n",
    "\n",
    "# calculate the Inverse Fast Fourier Transform\n",
    "filtered_sig = fftpack.ifft(filtered_fft)\n",
    "\n",
    "# only take the real part\n",
    "real_filtered_signal = np.real(filtered_sig)\n",
    "\n",
    "# plot the result of the IFFT\n",
    "plt.figure(figsize=(8, 6))\n",
    "plt.plot(time_vec, sig, alpha=0.5, label='Original signal')\n",
    "plt.plot(time_vec, real_filtered_signal, linewidth=3, label='Filtered signal')\n",
    "plt.xlabel('Time [s]')\n",
    "plt.ylabel('Amplitude')\n",
    "plt.legend(loc='best')"
   ]
  },
  {
   "cell_type": "markdown",
   "metadata": {},
   "source": [
    "#### Example: Fourier transform of a real data file\n",
    "\n",
    "We will apply this tool to weather data spanning 20 years obtained from the US National Climatic Data Center.\n",
    "\n",
    "Each row of the `csv` data file contains the precipitation and extreme temperatures (minimum and maximum, and the unit is in tenths of a degree) recorded each day by one weather station in France."
   ]
  },
  {
   "cell_type": "code",
   "execution_count": null,
   "metadata": {},
   "outputs": [],
   "source": [
    "#!wget https://www.dropbox.com/s/tmminxpjxp9bqql/weather.csv -P ./data/"
   ]
  },
  {
   "cell_type": "code",
   "execution_count": null,
   "metadata": {},
   "outputs": [],
   "source": [
    "import pandas as pd\n",
    "import datetime\n",
    "\n",
    "df0 = pd.read_csv('./data/weather.csv', na_values=(-9999), parse_dates=['DATE'])\n",
    "# clean up the data\n",
    "df = df0[df0['DATE'] >= '19940101'].dropna()\n",
    "df"
   ]
  },
  {
   "cell_type": "markdown",
   "metadata": {},
   "source": [
    "For every date in the calendar, we want to get a single average temperature for the whole country. The `groupby()` method provided by Pandas lets us do this easily:"
   ]
  },
  {
   "cell_type": "code",
   "execution_count": null,
   "metadata": {},
   "outputs": [],
   "source": [
    "gdf = df.groupby('DATE').mean(numeric_only=True)\n",
    "gdf"
   ]
  },
  {
   "cell_type": "code",
   "execution_count": null,
   "metadata": {},
   "outputs": [],
   "source": [
    "# calculate the average, by column, and convert to degrees\n",
    "gdf['TAVG'] = (gdf['TMAX'] + gdf['TMIN']) / 2 / 10.\n",
    "\n",
    "# get the Numpy arrays of time and temperature\n",
    "date = gdf.index.to_numpy()\n",
    "temp = gdf['TAVG'].to_numpy()\n",
    "\n",
    "plt.figure(figsize=(12, 6))\n",
    "plt.plot(date, temp)\n",
    "plt.ylim(-10, 40)\n",
    "plt.xlabel('Year')\n",
    "plt.ylabel('Mean temperature')"
   ]
  },
  {
   "cell_type": "code",
   "execution_count": null,
   "metadata": {},
   "outputs": [],
   "source": [
    "# compute the Fourier transform and the spectral density of the signal\n",
    "temp_fft = fftpack.fft(temp)\n",
    "\n",
    "# take the square of its absolute value in order to get the power spectral density (PSD)\n",
    "temp_psd = np.abs(temp_fft) ** 2\n",
    "\n",
    "# get the frequencies\n",
    "# we choose an annual unit: a frequency of 1 corresponds to 1 year (365 days)\n",
    "fftfreq = fftpack.fftfreq(len(temp_psd), 1. / 365)\n",
    "\n",
    "# consider only the real part of the signal (positive frequencies)\n",
    "i = fftfreq > 0\n",
    "\n",
    "\n",
    "plt.figure(figsize=(8, 6))\n",
    "plt.plot(fftfreq[i], temp_psd[i])\n",
    "#plt.ylim(0, 5)\n",
    "plt.xlabel('Frequency (1/year)')\n",
    "plt.ylabel('Power')\n",
    "plt.yscale('log')\n",
    "\n",
    "# An inner plot to show the peak frequency\n",
    "axes = plt.axes([0.55, 0.55, 0.3, 0.3])\n",
    "plt.plot(fftfreq[:40], temp_psd[:40])\n",
    "plt.setp(axes, yticks=[])\n",
    "plt.yscale('log')"
   ]
  },
  {
   "cell_type": "markdown",
   "metadata": {},
   "source": [
    "As we may expect, there is a peak in the power spectrum corresponding to a frequency of 1 year."
   ]
  },
  {
   "cell_type": "markdown",
   "metadata": {},
   "source": [
    "## Interpolation\n",
    "\n",
    "If you only need to *evaluating intermediate points* where no measure exists, **interpolation** is a much more agile technique that allows that **without performing any fit**.\n",
    "\n",
    "Interpolation is implemented in the `scipy.interpolate` module, which provides a Python wrapper of the FITPACK Fortran subroutines.\n",
    "\n",
    "There are multiple kinds of interpolation, which should be specified: linear is the default;  *zero*, *slinear*, *quadratic* and *cubic* refer to a [spline](https://en.wikipedia.org/wiki/Spline_(mathematics)) interpolation of zeroth, first, second or third order; *previous* and *next* simply return the previous or next value of the point."
   ]
  },
  {
   "cell_type": "code",
   "execution_count": null,
   "metadata": {},
   "outputs": [],
   "source": [
    "# the actual measurements\n",
    "measured_time = np.linspace(0, 1, 10)\n",
    "noise = (np.random.random(10)*2 - 1) * 1.e-1\n",
    "measures = np.sin(2 * np.pi * measured_time) #+ noise\n",
    "# you can add a noise term, if you want to try how the interpolation works\n",
    "\n",
    "plt.figure(figsize=(6, 4))\n",
    "# plot analytic function\n",
    "plt.plot(measured_time, measures, 'o', ms=6, label='measures')"
   ]
  },
  {
   "cell_type": "code",
   "execution_count": null,
   "metadata": {},
   "outputs": [],
   "source": [
    "# import scipy.interpolate\n",
    "from scipy.interpolate import interp1d\n",
    "# 1D linear interpolation\n",
    "linear_interp = interp1d(measured_time, measures)\n",
    "# cubic interpolation\n",
    "cubic_interp = interp1d(measured_time, measures, kind='cubic')\n",
    "\n",
    "# denser interval to plot the interpolating function\n",
    "interpolation_time = np.linspace(0, 1, 50)\n",
    "\n",
    "plt.figure(figsize=(6, 4))\n",
    "# plot analytic function\n",
    "plt.plot(measured_time, measures, 'o', ms=6, label='measures')\n",
    "# plot linear interpolation\n",
    "linear_results = linear_interp(interpolation_time)\n",
    "plt.plot(interpolation_time, linear_results, label='linear interp')\n",
    "# plot cubic interpolation\n",
    "cubic_results = cubic_interp(interpolation_time)\n",
    "plt.plot(interpolation_time, cubic_results, label='cubic interp')\n",
    "plt.legend()"
   ]
  },
  {
   "cell_type": "code",
   "execution_count": null,
   "metadata": {},
   "outputs": [],
   "source": [
    "# checking the interpolation results in one point\n",
    "x = 0.2\n",
    "print(\"sin(\", x, \"):\", np.sin(2 * np.pi * x), \"\\n\",\n",
    "       \"linear prediction:\",linear_interp(x), \"\\n\",\n",
    "       \"cubic prediction:\", cubic_interp(x))"
   ]
  },
  {
   "cell_type": "code",
   "execution_count": null,
   "metadata": {},
   "outputs": [],
   "source": []
  }
 ],
 "metadata": {
  "kernelspec": {
   "display_name": "Python 3 (ipykernel)",
   "language": "python",
   "name": "python3"
  },
  "language_info": {
   "codemirror_mode": {
    "name": "ipython",
    "version": 3
   },
   "file_extension": ".py",
   "mimetype": "text/x-python",
   "name": "python",
   "nbconvert_exporter": "python",
   "pygments_lexer": "ipython3",
   "version": "3.11.5"
  }
 },
 "nbformat": 4,
 "nbformat_minor": 2
}
