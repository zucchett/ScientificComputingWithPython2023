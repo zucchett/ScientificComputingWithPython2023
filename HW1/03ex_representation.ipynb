{
 "cells": [
  {
   "cell_type": "markdown",
   "metadata": {},
   "source": [
    "You can solve these exercises in the room or at home. For this week, and the next 3 weeks, exercises have to be solved by creating a single dedicated `.py` file called `03ex_representation.py`.\n",
    "\n",
    "You can divide the individual exercises in the source code with appropriate comments (`#`).\n",
    "\n",
    "The exercises need to run without errors with `python3 03ex_representation.py`."
   ]
  },
  {
   "cell_type": "markdown",
   "metadata": {},
   "source": [
    "1\\. **Number representation**\n",
    "\n",
    "Write a function that converts integer numbers among the bin, dec, and hex representations (bin<->dec<->hex).\n",
    "Determine the input type in the function, and pass another argument to choose the output representation."
   ]
  },
  {
   "cell_type": "code",
   "execution_count": 1,
   "metadata": {},
   "outputs": [
    {
     "name": "stdout",
     "output_type": "stream",
     "text": [
      "the binary type of inserted number is 0b110010 and the decimal type is 0x32\n"
     ]
    }
   ],
   "source": [
    "user_number = input('please insert the value : ')\n",
    "try :\n",
    "    print(f'the binary type of inserted number is {bin(int(user_number))} and the decimal type is {hex(int(user_number))}')\n",
    "except :\n",
    "    if user_number[1] == 'x' :\n",
    "        print(f'the binary type of inserted number is {bin(int(user_number,16))} and the decimal type is {int(user_number,16)}')\n",
    "    elif user_number[1] == 'b' :\n",
    "        print(f'the hexadecimal type of inserted number is {hex(int(user_number,2))} and the decimal type is {int(user_number,2)}')    "
   ]
  },
  {
   "cell_type": "markdown",
   "metadata": {},
   "source": [
    "2\\. **32-bit floating point number**\n",
    "\n",
    "Write a function that converts a 32 bit binary string (for example, `110000101011000000000000`) into a single precision floating point in decimal representation. Interpret the various bits as sign, fractional part of the mantissa and exponent, according to the IEEE 754 reccommendations."
   ]
  },
  {
   "cell_type": "code",
   "execution_count": 2,
   "metadata": {},
   "outputs": [
    {
     "name": "stdout",
     "output_type": "stream",
     "text": [
      "the result is -88.0\n"
     ]
    }
   ],
   "source": [
    "user_number = input('please insert your number : ')\n",
    "# for example : 110000101011000000000000\n",
    "def b_to_f(user_number):\n",
    "    sign = int(user_number[0])\n",
    "    exponent = int(user_number[1:9],2)\n",
    "    fraction = int('1' + user_number[9:],2)\n",
    "    return ((-1) ** sign * fraction) / (1<<(len(user_number)-9-(exponent-127)))\n",
    "print(f'the result is {b_to_f(user_number)}')"
   ]
  },
  {
   "cell_type": "markdown",
   "metadata": {},
   "source": [
    "3\\. **Underflow and overflow**\n",
    "\n",
    "Write a program to determine the approximate underflow and overflow limits (within a factor of 2) for floating point numbers on your computer. \n",
    "\n",
    "*Hint*: define two variables initialized to 1, and halve/double them for a sufficient amount of times to exceed the under/over-flow limits."
   ]
  },
  {
   "cell_type": "code",
   "execution_count": 3,
   "metadata": {},
   "outputs": [
    {
     "name": "stdout",
     "output_type": "stream",
     "text": [
      "\n",
      "The over flow is: 8.988466e+307\n",
      "The under flow is: 1.112537e-308\n"
     ]
    }
   ],
   "source": [
    "undflow = 1\n",
    "ovflow = 1\n",
    "for i in range(1023):\n",
    "    undflow = undflow / 2\n",
    "    ovflow  = ovflow  * 2\n",
    "scientific_underflow=\"{:e}\".format(undflow)\n",
    "scientific_overflow=\"{:e}\".format(ovflow)\n",
    "print(f'\\nThe over flow is: {scientific_overflow}')\n",
    "print(f'The under flow is: {scientific_underflow}')\n"
   ]
  },
  {
   "cell_type": "markdown",
   "metadata": {},
   "source": [
    "4\\. **Machine precision**\n",
    "\n",
    "Similarly to the previous exercise, write a program to determine the machine precision for floating point numbers.\n",
    "\n",
    "*Hint*: define a new variable by adding an increasingly smaller value and check when the addition starts to have no effect on the number."
   ]
  },
  {
   "cell_type": "code",
   "execution_count": 4,
   "metadata": {},
   "outputs": [
    {
     "name": "stdout",
     "output_type": "stream",
     "text": [
      "Step 0\n",
      "2.1\n",
      "Step 1\n",
      "2.11\n",
      "Step 2\n",
      "2.1109999999999998\n",
      "Step 3\n",
      "2.1111\n",
      "Step 4\n",
      "2.11111\n",
      "Step 5\n",
      "2.111111\n",
      "Step 6\n",
      "2.1111111\n",
      "Step 7\n",
      "2.11111111\n",
      "Step 8\n",
      "2.111111111\n",
      "Step 9\n",
      "2.1111111111\n",
      "Step 10\n",
      "2.11111111111\n",
      "Step 11\n",
      "2.111111111111\n",
      "Step 12\n",
      "2.1111111111111\n",
      "Step 13\n",
      "2.1111111111111103\n",
      "Step 14\n",
      "2.111111111111111\n",
      "Step 15\n",
      "2.111111111111111\n",
      "Step 16\n",
      "2.111111111111111\n",
      "Step 17\n",
      "2.111111111111111\n",
      "Step 18\n",
      "2.111111111111111\n",
      "Step 19\n",
      "2.111111111111111\n"
     ]
    }
   ],
   "source": [
    "var = 2\n",
    "add = 1e-1\n",
    "for i in range(20):\n",
    "    var = var + add\n",
    "    add = add * 1e-1\n",
    "    print(f'Step {i}')\n",
    "    print(var)"
   ]
  },
  {
   "cell_type": "markdown",
   "metadata": {},
   "source": [
    "5\\. **Quadratic solution**\n",
    "\n",
    "Write a function that takes in input three parameters $a$, $b$ and $c$ and prints out the two solutions to the quadratic equation $ax^2+bx+c=0$ using the standard formula:\n",
    "$$\n",
    "x=\\frac{-b\\pm\\sqrt{b^2-4ac}}{2a}\n",
    "$$\n",
    "\n",
    "(a) use the function to compute the solution for $a=0.001$, $b=1000$ and $c=0.001$\n",
    "\n",
    "(b) re-express the standard solution formula by multiplying the numerator and the denominator by $-b\\mp\\sqrt{b^2-4ac}$ and again find the solution for $a=0.001$, $b=1000$ and $c=0.001$. How does it compare with what has been previously obtained, and why? (add the answer to a Python comment)\n",
    "\n",
    "(c) write a function that computes the roots of a quadratic equation accurately in all cases"
   ]
  },
  {
   "cell_type": "code",
   "execution_count": 10,
   "metadata": {},
   "outputs": [
    {
     "name": "stdout",
     "output_type": "stream",
     "text": [
      "First approach,  x1 : -9.999894245993346e-07\n",
      "First approach,  x2 : -999999.999999\n",
      "---------------------------\n",
      "Second approach, x1 : -1.000000000001e-06\n",
      "Second approach, x2 : -1000010.5755125057\n",
      "---------------------------\n",
      "Third approach,  x1 : -1.00000761449337e-06\n",
      "Third approach,  x2 : -999999.999999\n"
     ]
    }
   ],
   "source": [
    "import math\n",
    "\n",
    "a = 0.001\n",
    "b = 1000\n",
    "c = 0.001\n",
    "\n",
    "x1_1 = (-b + math.sqrt(b*b - 4*a*c)) / (2*a)\n",
    "x1_2 = (-b - math.sqrt(b*b - 4*a*c)) / (2*a)\n",
    "\n",
    "\n",
    "x2_1 = (2*c) / (-b - math.sqrt(b*b - 4*a*c))\n",
    "x2_2 = (2*c) / (-b + math.sqrt(b*b - 4*a*c))\n",
    "\n",
    "print(\"First approach,  x1 :\",x1_1)\n",
    "print(\"First approach,  x2 :\",x1_2)\n",
    "print(\"---------------------------\")\n",
    "print(\"Second approach, x1 :\",x2_1)\n",
    "print(\"Second approach, x2 :\",x2_2)\n",
    "print(\"---------------------------\")\n",
    "\n",
    "x3_1 = -b/(2*a) + math.sqrt((b/(2*a))**2 - c/a)\n",
    "x3_2 = -b/(2*a) - math.sqrt((b/(2*a))**2 - c/a)\n",
    "print(\"Third approach,  x1 :\",x3_1)\n",
    "print(\"Third approach,  x2 :\",x3_2)"
   ]
  },
  {
   "cell_type": "markdown",
   "metadata": {},
   "source": [
    "6\\. **The derivative**\n",
    "\n",
    "Write a program that implements the function $f(x)=x(x−1)$\n",
    "\n",
    "(a) Calculate the derivative of the function at the point $x = 1$ using the derivative definition:\n",
    "\n",
    "$$\n",
    "\\frac{{\\rm d}f}{{\\rm d}x} = \\lim_{\\delta\\to0} \\frac{f(x+\\delta)-f(x)}{\\delta}\n",
    "$$\n",
    "\n",
    "with $\\delta = 10^{−2}$. Calculate the true value of the same derivative analytically and compare it with the answer your program gives. The two will not agree perfectly. Why?\n",
    "\n",
    "(b) Repeat the calculation for $\\delta = 10^{−4}, 10^{−6}, 10^{−8}, 10^{−10}, 10^{−12}$ and $10^{−14}$. How does the accuracy scale with $\\delta$?"
   ]
  },
  {
   "cell_type": "code",
   "execution_count": 9,
   "metadata": {},
   "outputs": [
    {
     "name": "stdout",
     "output_type": "stream",
     "text": [
      "2\n",
      "the derivative of function with zigma = 0.0001 is equal to :  2\n",
      "the derivative of function with zigma = 1e-06 is equal to :  2\n",
      "the derivative of function with zigma = 1e-08 is equal to :  2\n",
      "the derivative of function with zigma = 1e-10 is equal to :  2\n",
      "the derivative of function with zigma = 1e-12 is equal to :  2\n",
      "the derivative of function with zigma = 1e-14 is equal to :  2\n"
     ]
    }
   ],
   "source": [
    "import sympy\n",
    "from sympy import *\n",
    "def limit(z):\n",
    "    x = 1\n",
    "    zi = symbols('zi')\n",
    "    expretion = (((x + zi)*(x + zi + 1 )) - (x*(x-1)))\n",
    "    limit_expretion = sympy.limit(expretion,zi,0)\n",
    "    return limit_expretion\n",
    "print(limit(0.01))\n",
    "#------------------------------------------------------------------------------------------------------\n",
    "zigma_list = [10**-4,10**-6,10**-8,10**-10,10**-12,10**-14]\n",
    "for i in zigma_list :\n",
    "    print(f'the derivative of function with zigma = {i} is equal to :  {limit(i)}')\n",
    "#according to the result that is calculated by python with different zigma we have the same answer \n",
    "#--------------------------------------------------------------------------------------------------------"
   ]
  },
  {
   "cell_type": "markdown",
   "metadata": {},
   "source": [
    "7\\. **Integral of a semicircle**\n",
    "\n",
    "Consider the integral of the semicircle of radius 1:\n",
    "$$\n",
    "I=\\int_{-1}^{1} \\sqrt(1-x^2) {\\rm d}x\n",
    "$$\n",
    "which is known to be $I=\\frac{\\pi}{2}=1.57079632679...$.\n",
    "\n",
    "Alternatively we can use the Riemann definition of the integral:\n",
    "$$\n",
    "I=\\lim_{N\\to\\infty} \\sum_{k=1}^{N} h y_k \n",
    "$$\n",
    "\n",
    "with $h=2/N$ the width of each of the $N$ slices the domain is divided into and where\n",
    "$y_k$ is the value of the function at the $k-$th slice.\n",
    "\n",
    "(a) Write a program to compute the integral with $N=100$. How does the result compare to the true value?\n",
    "\n",
    "(b) How much can $N$ be increased if the computation needs to be run in less than a second? What is the gain in running it for 1 minute? Use `timeit` to measure the time."
   ]
  },
  {
   "cell_type": "code",
   "execution_count": 12,
   "metadata": {},
   "outputs": [
    {
     "name": "stdout",
     "output_type": "stream",
     "text": [
      "1.571282776229795841160807867709  -----  deviation from true value for N =  100 is : 0.00048644943489928316\n",
      "1.570796326832739620016354820109  -----  deviation from true value for N =  5500000 is : 3.7843062017373086e-11\n",
      "execution time per loop for ( N= 5500000 )\n",
      "2.560311779996846\n"
     ]
    }
   ],
   "source": [
    "import math\n",
    "import timeit\n",
    "def integ(N):\n",
    "    a = 0\n",
    "    for i in range(-int(N/2),int(N/2)):\n",
    "        x = i*2/N + 1/N\n",
    "        a = a + 2/N * math.sqrt(1-x*x)\n",
    "    return a\n",
    "\n",
    "N1 = 100\n",
    "result = integ(N1)\n",
    "dev = result - math.pi/2\n",
    "print(\"%.30f\" % result, \" -----  deviation from true value for N = \",N1,\"is :\",dev)\n",
    "\n",
    "N2 = 5500000  # This number resluts in 1 minute execution time.\n",
    "result = integ(N2)\n",
    "dev = result - math.pi/2\n",
    "print(\"%.30f\" % result, \" -----  deviation from true value for N = \",N2,\"is :\",dev)\n",
    "\n",
    "N3 = 60*N2  # This number resluts in 1 minute execution time.\n",
    "\n",
    "\n",
    "print(\"execution time per loop for ( N=\",N2,\")\")\n",
    "time = timeit.timeit(lambda: integ(N2), number = 5) / 5\n",
    "print(time)\n",
    "\n",
    "# As N gets bigger, deviation is smaller and result has better accuracy, but it takes more time to execute."
   ]
  }
 ],
 "metadata": {
  "kernelspec": {
   "display_name": "Python 3 (ipykernel)",
   "language": "python",
   "name": "python3"
  },
  "language_info": {
   "codemirror_mode": {
    "name": "ipython",
    "version": 3
   },
   "file_extension": ".py",
   "mimetype": "text/x-python",
   "name": "python",
   "nbconvert_exporter": "python",
   "pygments_lexer": "ipython3",
   "version": "3.11.4"
  }
 },
 "nbformat": 4,
 "nbformat_minor": 2
}
