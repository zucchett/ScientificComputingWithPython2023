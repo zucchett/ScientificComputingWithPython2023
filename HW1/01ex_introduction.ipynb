{
 "cells": [
  {
   "cell_type": "markdown",
   "metadata": {},
   "source": [
    "You can solve these exercises in the room or at home. For this week, and the next 3 weeks, exercises have to be solved by creating a single dedicated `.py` file called `01ex_introduction.py`.\n",
    "\n",
    "You can divide the individual exercises in the source code with appropriate comments (`#`).\n",
    "\n",
    "The exercises need to run without errors with `python3 01ex_introduction.py`."
   ]
  },
  {
   "cell_type": "markdown",
   "metadata": {},
   "source": [
    "1\\. **The HelloWorld replacement**\n",
    "\n",
    "a) Write a program that:\n",
    "- prints the numbers from 1 to 100\n",
    "- but for multiples of three print \"`Hello`\" instead of the number and for the multiples of five print \"`World`\"\n",
    "- for numbers which are multiples of both three and five print \"`HelloWorld`\".\n",
    "\n",
    "b) Put the result in a tuple and substitute \"`Hello`\" with \"`Python`\" and \"`World`\" with \"`Works`\"."
   ]
  },
  {
   "cell_type": "code",
   "execution_count": 1,
   "metadata": {},
   "outputs": [
    {
     "name": "stdout",
     "output_type": "stream",
     "text": [
      "the result for part A is : (1, 2, 'Hello', 4, 'World', 'Hello', 7, 8, 'Hello', 'World', 11, 'Hello', 13, 14, 'HelloWorld', 16, 17, 'Hello', 19, 'World', 'Hello', 22, 23, 'Hello', 'World', 26, 'Hello', 28, 29, 'HelloWorld', 31, 32, 'Hello', 34, 'World', 'Hello', 37, 38, 'Hello', 'World', 41, 'Hello', 43, 44, 'HelloWorld', 46, 47, 'Hello', 49, 'World', 'Hello', 52, 53, 'Hello', 'World', 56, 'Hello', 58, 59, 'HelloWorld', 61, 62, 'Hello', 64, 'World', 'Hello', 67, 68, 'Hello', 'World', 71, 'Hello', 73, 74, 'HelloWorld', 76, 77, 'Hello', 79, 'World', 'Hello', 82, 83, 'Hello', 'World', 86, 'Hello', 88, 89, 'HelloWorld', 91, 92, 'Hello', 94, 'World', 'Hello', 97, 98, 'Hello', 'World')\n",
      "the result for part B is : (1, 2, 'Python', 4, 'Works', 'Python', 7, 8, 'Python', 'Works', 11, 'Python', 13, 14, 'pythonworks', 16, 17, 'Python', 19, 'Works', 'Python', 22, 23, 'Python', 'Works', 26, 'Python', 28, 29, 'pythonworks', 31, 32, 'Python', 34, 'Works', 'Python', 37, 38, 'Python', 'Works', 41, 'Python', 43, 44, 'pythonworks', 46, 47, 'Python', 49, 'Works', 'Python', 52, 53, 'Python', 'Works', 56, 'Python', 58, 59, 'pythonworks', 61, 62, 'Python', 64, 'Works', 'Python', 67, 68, 'Python', 'Works', 71, 'Python', 73, 74, 'pythonworks', 76, 77, 'Python', 79, 'Works', 'Python', 82, 83, 'Python', 'Works', 86, 'Python', 88, 89, 'pythonworks', 91, 92, 'Python', 94, 'Works', 'Python', 97, 98, 'Python', 'Works')\n"
     ]
    }
   ],
   "source": [
    "list_A= []\n",
    "for i in range(1,101):\n",
    "    if i % 3 == 0 and i % 5 == 0 :\n",
    "        list_A.append('HelloWorld')\n",
    "    elif i % 3 == 0 :\n",
    "        list_A.append(\"Hello\")\n",
    "    elif i % 5 == 0 :\n",
    "        list_A.append(\"World\")\n",
    "    else :\n",
    "        list_A.append(i)\n",
    "print(f'the result for part A is : {tuple(list_A)}')\n",
    "\n",
    "for i in range(0,len(list_A)) :\n",
    "    if list_A[i] == 'Hello' :\n",
    "        list_A[i] = 'Python'\n",
    "    elif list_A[i] =='World' :\n",
    "        list_A[i] = 'Works'\n",
    "    elif list_A[i] =='HelloWorld':\n",
    "        list_A[i] = 'pythonworks'\n",
    "    else :\n",
    "        continue    \n",
    "print(f'the result for part B is : {tuple(list_A)}')     "
   ]
  },
  {
   "cell_type": "markdown",
   "metadata": {},
   "source": [
    "2\\. **The swap**\n",
    "\n",
    "Write a program that swaps the values of two input variables `x` and `y` from command line (whatever the type).\n",
    "\n",
    "Try to do that without using a temporary variable, exploiting the Python syntax."
   ]
  },
  {
   "cell_type": "code",
   "execution_count": 2,
   "metadata": {},
   "outputs": [
    {
     "name": "stdout",
     "output_type": "stream",
     "text": [
      "the new result for \"x\" is = 4 and for \"y\" is 3\n"
     ]
    }
   ],
   "source": [
    "x = input('please insert \"X\" = ')\n",
    "y = input('please insert \"Y\" = ')\n",
    "x,y = y,x\n",
    "print(f'the new result for \"x\" is = {x} and for \"y\" is {y}')"
   ]
  },
  {
   "cell_type": "markdown",
   "metadata": {},
   "source": [
    "3\\. **Computing the distance**\n",
    "\n",
    "Write a program that calculates and prints the euclidean distance between two given points $u$ and $v$ in a 2D space, where $u$ and $v$ are both 2-tuples $(x,y)$.\n",
    "\n",
    "Example: if $u=(3,0)$ and $v=(0,4)$, the function should return $5$.\n",
    "\n",
    "*Hint:* in order to compute the square root, import the `math` library with `import math` and use `math.sqrt()`."
   ]
  },
  {
   "cell_type": "code",
   "execution_count": 3,
   "metadata": {},
   "outputs": [
    {
     "name": "stdout",
     "output_type": "stream",
     "text": [
      "the distance is : 5.0\n"
     ]
    }
   ],
   "source": [
    "import math\n",
    "# in this part user should input value of the point for \"x\" and for \"y\", for example user insert 3,4 for \"x\" and 5,6 for \"y\", the input should be exactly like example.\n",
    "x = tuple(input('please insert your first tuple : ').split(','))\n",
    "y = tuple(input('please insert your second tuple : ').split(','))\n",
    "x_value = int(x[0])-int(x[1])\n",
    "y_value = int(y[1])-int(y[0])\n",
    "distance = math.sqrt((x_value**2) + (y_value**2))\n",
    "print(f'the distance is : {distance}')"
   ]
  },
  {
   "cell_type": "markdown",
   "metadata": {},
   "source": [
    "4\\. **Counting letters**\n",
    "\n",
    "Write a program that calculates the number of times each character occurs in a given string. Ignore differences in capitalization.\n",
    "\n",
    "The test strings are:"
   ]
  },
  {
   "cell_type": "code",
   "execution_count": 4,
   "metadata": {},
   "outputs": [
    {
     "name": "stdout",
     "output_type": "stream",
     "text": [
      "{'W': 4, 'R': 19, 'I': 12, 'T': 19, 'E': 20, 'A': 7, 'P': 8, 'O': 15, 'G': 1, 'M': 8, 'H': 11, 'N': 10, 'S': 7, 'U': 7, 'B': 5, 'F': 10, 'L': 12, 'D': 5, 'V': 2, 'C': 1}\n"
     ]
    }
   ],
   "source": [
    "s1 = \"Write a program that prints the numbers from 1 to 100. \\\n",
    "But for multiples of three print Hello instead of the number and for the multiples of five print World. \\\n",
    "For numbers which are multiples of both three and five print HelloWorld.\"\n",
    "s2 = \"The quick brown fox jumps over the lazy dog\"\n",
    "counter = {}\n",
    "for i in s1:\n",
    "    if i.isalpha() == True :\n",
    "        i = i.upper()\n",
    "        counter[i] = counter.get(i,0) + 1\n",
    "print(counter)"
   ]
  },
  {
   "cell_type": "markdown",
   "metadata": {},
   "source": [
    "5\\. **Isolating the unique**\n",
    "\n",
    "Write a program that determines and counts the unique numbers (numbers with only one occurrence) in the list:"
   ]
  },
  {
   "cell_type": "code",
   "execution_count": 5,
   "metadata": {},
   "outputs": [
    {
     "name": "stdout",
     "output_type": "stream",
     "text": [
      "this is our unique list : [58, 74, 96, 64, 10, 24, 19, 33, 86, 99, 18, 47, 88, 55, 54, 8, 79, 81, 57, 37, 1, 9, 95, 90, 98, 39, 16, 82, 92, 41, 30, 94, 5, 72, 87, 75, 53]\n",
      "the number of unique number is : 37\n"
     ]
    }
   ],
   "source": [
    "l = [36, 45, 58, 3, 74, 96, 64, 45, 31, 10, 24, 19, 33, 86, 99, 18, 63, 70, 85,\n",
    " 85, 63, 47, 56, 42, 70, 84, 88, 55, 20, 54, 8, 56, 51, 79, 81, 57, 37, 91,\n",
    " 1, 84, 84, 36, 66, 9, 89, 50, 42, 91, 50, 95, 90, 98, 39, 16, 82, 31, 92, 41,\n",
    " 45, 30, 66, 70, 34, 85, 94, 5, 3, 36, 72, 91, 84, 34, 87, 75, 53, 51, 20, 89, 51, 20]\n",
    "unique_list = []\n",
    "\n",
    "for i in l :\n",
    "    if l.count(i) == 1 :\n",
    "        unique_list.append(i)\n",
    "\n",
    "print(f'this is our unique list : {unique_list}')\n",
    "print(f'the number of unique number is : {len(unique_list)}')"
   ]
  },
  {
   "cell_type": "markdown",
   "metadata": {},
   "source": [
    "Do the same exploiting only the Python data structures."
   ]
  },
  {
   "cell_type": "markdown",
   "metadata": {},
   "source": [
    "6\\. **Casting**\n",
    "\n",
    "Write a program that:\n",
    "* reads from command line two variables, that can be either `int`, `float`, or `str`.\n",
    "* use the `try`/`except` expressions to perform the addition of these two variables, only if possible\n",
    "* print the result without making the code crash for all the `int`/`float`/`str` input combinations."
   ]
  },
  {
   "cell_type": "code",
   "execution_count": 6,
   "metadata": {},
   "outputs": [
    {
     "name": "stdout",
     "output_type": "stream",
     "text": [
      "These entries cannot be added together, and the result is : 5 + Anna\n"
     ]
    }
   ],
   "source": [
    "x1 = input('please insert your first variables : ')\n",
    "x2 = input('please insert your second variables : ')\n",
    "input_list,int_list,float_list,str_list= [x1,x2],[],[],[]\n",
    "for i in range(0,2) :\n",
    "    try :\n",
    "        int_list.append(int(input_list[i]))\n",
    "    except :\n",
    "        try :\n",
    "            float_list.append(float(input_list[i]))\n",
    "        except :\n",
    "            str_list.append(input_list[i])\n",
    "\n",
    "final_list = int_list + float_list + str_list\n",
    "try : \n",
    "    print(f'the sum of the value is : {sum(final_list)}')\n",
    "except :\n",
    "    print(f'These entries cannot be added together, and the result is : {final_list[0]} + {final_list[1]}')  "
   ]
  },
  {
   "cell_type": "markdown",
   "metadata": {},
   "source": [
    "7\\. **Cubes**\n",
    "\n",
    "Create a list of the cubes of *x* for *x* in *[0, 10]* using:\n",
    "\n",
    "a) a for loop\n",
    "\n",
    "b) a list comprehension"
   ]
  },
  {
   "cell_type": "code",
   "execution_count": 7,
   "metadata": {},
   "outputs": [
    {
     "name": "stdout",
     "output_type": "stream",
     "text": [
      "the list with \"for\" loop is like :  [0, 1, 8, 27, 64, 125, 216, 343, 512, 729, 1000]\n",
      "the list with \"list comprehention is like that : [0, 1, 8, 27, 64, 125, 216, 343, 512, 729, 1000]\n"
     ]
    }
   ],
   "source": [
    "# the code for the the part A of the question : \n",
    "list_1 = []\n",
    "for i in range(0,11) :\n",
    "    list_1.append(i**3)\n",
    "print(f'the list with \"for\" loop is like :  {list_1}')\n",
    "# the code for the part B of the question : \n",
    "list_2 = []\n",
    "list_2 = [i**3 for i in range(0,11)]\n",
    "print(f'the list with \"list comprehention is like that : {list_2}')\n"
   ]
  },
  {
   "cell_type": "markdown",
   "metadata": {},
   "source": [
    "8\\. **List comprehension**\n",
    "\n",
    "Write, using the list comprehension, a single-line expression that gets the same result as the code in the cell below."
   ]
  },
  {
   "cell_type": "code",
   "execution_count": 8,
   "metadata": {},
   "outputs": [
    {
     "name": "stdout",
     "output_type": "stream",
     "text": [
      "[(0, 0), (0, 1), (0, 2), (0, 3), (1, 0), (1, 1), (1, 2), (1, 3), (2, 0), (2, 1), (2, 2), (2, 3)]\n"
     ]
    }
   ],
   "source": [
    "import itertools\n",
    "result_list = [(i,j) for i,j in itertools.product([0,1,2],[0,1,2,3])]\n",
    "print(result_list)\n"
   ]
  },
  {
   "cell_type": "markdown",
   "metadata": {},
   "source": [
    "9\\. **Nested list comprehension**\n",
    "\n",
    "> A Pythagorean triple is an integer solution to the Pythagorean theorem $a^2+b^2=c^2$. The first Pythagorean triple is (3, 4, 5).\n",
    "\n",
    "Find and put in a tuple all unique Pythagorean triples for the positive integers $a$, $b$ and $c$ with $c < 100$."
   ]
  },
  {
   "cell_type": "code",
   "execution_count": 9,
   "metadata": {},
   "outputs": [
    {
     "name": "stdout",
     "output_type": "stream",
     "text": [
      "[(3, 4, 5), (8, 6, 10), (5, 12, 13), (15, 8, 17), (12, 16, 20), (7, 24, 25), (24, 10, 26), (21, 20, 29), (16, 30, 34), (9, 40, 41), (35, 12, 37), (32, 24, 40), (27, 36, 45), (20, 48, 52), (11, 60, 61), (48, 14, 50), (45, 28, 53), (40, 42, 58), (33, 56, 65), (24, 70, 74), (13, 84, 85), (63, 16, 65), (60, 32, 68), (55, 48, 73), (48, 64, 80), (39, 80, 89), (28, 96, 100)]\n"
     ]
    }
   ],
   "source": [
    "#we have the limitation for \"c\" that it should be smaller than 100\n",
    "m,n,result_list,c= 2,1,[],0\n",
    "while c < 100 :\n",
    "    for n in range(1,m+1):\n",
    "        a = ((m**2) - (n**2))\n",
    "        b = 2 * m * n\n",
    "        c = ((m**2) + (n**2))\n",
    "        if a == 0 or c > 100 :\n",
    "            break\n",
    "        else :\n",
    "            result_list.append((a,b,c))\n",
    "    m += 1\n",
    "print(result_list)"
   ]
  },
  {
   "cell_type": "markdown",
   "metadata": {},
   "source": [
    "10\\. **Normalization of a N-dimensional vector**\n",
    "\n",
    "Write a program that takes an N-dimensional vector, e.g. a variable-length tuple of numbers, and normalizes it to one (in such a way that the squared sum of all the entries is equal to 1)."
   ]
  },
  {
   "cell_type": "code",
   "execution_count": 10,
   "metadata": {},
   "outputs": [
    {
     "name": "stdout",
     "output_type": "stream",
     "text": [
      "[0.07832604499879574, 0.31330417999518295, 0.4699562699927744, 0.5482823149915702, 0.3916302249939787, 0.4699562699927744]\n"
     ]
    }
   ],
   "source": [
    "from math import sqrt\n",
    "# we insert a vector in list for example :\n",
    "vector,sum= [1,4,6,7,5,6],0\n",
    "for  i in vector :\n",
    "    sum  = sum + (i**2)\n",
    "total = sqrt(sum)\n",
    "normal_vector = [i/total for i in vector]\n",
    "print(normal_vector)"
   ]
  },
  {
   "cell_type": "markdown",
   "metadata": {},
   "source": [
    "11\\. **The Fibonacci sequence**\n",
    "\n",
    "Calculate the first 20 numbers of the [Fibonacci sequence](https://en.wikipedia.org/wiki/Fibonacci_number) using only `for` or `while` loops."
   ]
  },
  {
   "cell_type": "code",
   "execution_count": 11,
   "metadata": {},
   "outputs": [
    {
     "name": "stdout",
     "output_type": "stream",
     "text": [
      "[0, 1, 1, 2, 3, 5, 8, 13, 21, 34, 55, 89, 144, 233, 377, 610, 987, 1597, 2584]\n"
     ]
    }
   ],
   "source": [
    "fibo_list = [0,1,1]\n",
    "for i in range (3,19):\n",
    "    next_fibo_value = fibo_list[i-2] + fibo_list[i-1]\n",
    "    fibo_list.append(next_fibo_value)\n",
    "print(fibo_list)    "
   ]
  }
 ],
 "metadata": {
  "kernelspec": {
   "display_name": "Python 3 (ipykernel)",
   "language": "python",
   "name": "python3"
  },
  "language_info": {
   "codemirror_mode": {
    "name": "ipython",
    "version": 3
   },
   "file_extension": ".py",
   "mimetype": "text/x-python",
   "name": "python",
   "nbconvert_exporter": "python",
   "pygments_lexer": "ipython3",
   "version": "3.11.4"
  }
 },
 "nbformat": 4,
 "nbformat_minor": 4
}
