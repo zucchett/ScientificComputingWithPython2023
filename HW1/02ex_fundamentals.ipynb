{
 "cells": [
  {
   "cell_type": "markdown",
   "metadata": {},
   "source": [
    "You can solve these exercises in the room or at home. For this week, and the next 3 weeks, exercises have to be solved by creating a single dedicated `.py` file called `02ex_fundamentals.py`.\n",
    "\n",
    "You can divide the individual exercises in the source code with appropriate comments (`#`).\n",
    "\n",
    "The exercises need to run without errors with `python3 02ex_fundamentals.py`."
   ]
  },
  {
   "cell_type": "markdown",
   "metadata": {},
   "source": [
    "1\\. **Global variables**\n",
    "\n",
    "Convert the function $f$ into a function that doesn't use global variables and that does not modify the original list"
   ]
  },
  {
   "cell_type": "code",
   "execution_count": 1,
   "metadata": {},
   "outputs": [
    {
     "name": "stdout",
     "output_type": "stream",
     "text": [
      "[1, 2, 3, 0, 1, 2, 3, 4]\n",
      "[1, 2, 3]\n"
     ]
    }
   ],
   "source": [
    "def f(alist):\n",
    "    x = 5\n",
    "    ans = [1, 2, 3]\n",
    "    for i in range(x):\n",
    "        ans.append(i)\n",
    "    return ans\n",
    "\n",
    "alist = [1, 2, 3]\n",
    "ans = f(alist)\n",
    "print(ans)\n",
    "print(alist)"
   ]
  },
  {
   "cell_type": "markdown",
   "metadata": {},
   "source": [
    "2\\. **List comprehension**\n",
    "\n",
    "Write the following expression using a list comprehension:\n",
    "\n",
    "`ans = list(map(lambda x: x * x, filter(lambda x: x % 2 == 1, range(10))))`"
   ]
  },
  {
   "cell_type": "code",
   "execution_count": 2,
   "metadata": {},
   "outputs": [
    {
     "name": "stdout",
     "output_type": "stream",
     "text": [
      "[1, 9, 25, 49, 81]\n"
     ]
    }
   ],
   "source": [
    "ans = [i ** 2 for i in range(0,11) if i % 2 == 1]\n",
    "print(ans)\n"
   ]
  },
  {
   "cell_type": "markdown",
   "metadata": {},
   "source": [
    "3\\. **Filter list**\n",
    "\n",
    "Using the `filter()` hof, define a function that takes a list of words and an integer `n` as arguments, and returns a list of words that are shorter than `n`."
   ]
  },
  {
   "cell_type": "code",
   "execution_count": 3,
   "metadata": {},
   "outputs": [
    {
     "name": "stdout",
     "output_type": "stream",
     "text": [
      "['ali', 'sina']\n"
     ]
    }
   ],
   "source": [
    "#user should enter the value of n\n",
    "word_list =['ali','mohammad','sina']\n",
    "result = list(filter(lambda n : len(n)<5 ,word_list))\n",
    "print(result)"
   ]
  },
  {
   "cell_type": "markdown",
   "metadata": {},
   "source": [
    "4\\. **Map dictionary**\n",
    "\n",
    "\n",
    "Consider the following dictionary:\n",
    "\n",
    "`lang = {\"Python\" : 3, \"Java\" : '', \"Cplusplus\" : 'test', \"Php\" : 0.7}`\n",
    "\n",
    "Write a function that takes the above dictionary and uses the `map()` higher order function to return a list that contains the length of the keys of the dictionary."
   ]
  },
  {
   "cell_type": "code",
   "execution_count": 4,
   "metadata": {},
   "outputs": [
    {
     "name": "stdout",
     "output_type": "stream",
     "text": [
      "[6, 4, 9, 3]\n"
     ]
    }
   ],
   "source": [
    "lang = {\"Python\" : 3, \"Java\" : '', \"Cplusplus\" : 'test', \"Php\" : 0.7}\n",
    "lang_keys = lang.keys()\n",
    "result_list = list(map(lambda n : len(n),lang_keys))\n",
    "print(result_list)"
   ]
  },
  {
   "cell_type": "markdown",
   "metadata": {},
   "source": [
    "5\\. **Lambda functions**\n",
    "\n",
    "Write a Python program that sorts the following list of tuples using a lambda function, according to the alphabetical order of the first element of the tuple:\n",
    "\n",
    "`language_scores = [('Python', 97), ('Cplusplus', 81), ('Php', 45), ('Java', 32)]`\n",
    "\n",
    "*Hint*: use the method `sort()` and its argument `key` of the `list` data structure."
   ]
  },
  {
   "cell_type": "code",
   "execution_count": 5,
   "metadata": {},
   "outputs": [
    {
     "name": "stdout",
     "output_type": "stream",
     "text": [
      "[('Cplusplus', 81), ('Java', 32), ('Php', 45), ('Python', 97)]\n"
     ]
    }
   ],
   "source": [
    "language_scores = [('Python', 97), ('Cplusplus', 81), ('Php', 45), ('Java', 32)]\n",
    "language_scores.sort(key=lambda x : x[0])\n",
    "print(language_scores)"
   ]
  },
  {
   "cell_type": "markdown",
   "metadata": {},
   "source": [
    "6\\. **Nested functions**\n",
    "\n",
    "Write two functions: one that returns the square of a number, and one that returns its cube.\n",
    "\n",
    "Then, write a third function that returns the number raised to the 6th power, using only the two previous functions."
   ]
  },
  {
   "cell_type": "code",
   "execution_count": 6,
   "metadata": {},
   "outputs": [
    {
     "name": "stdout",
     "output_type": "stream",
     "text": [
      "([1, 4096, 531441, 16777216, 244140625], [1, 262144, 387420489, 68719476736, 3814697265625])\n"
     ]
    }
   ],
   "source": [
    "number_list = [1,2,3,4,5]\n",
    "def square():\n",
    "    square_list = [i ** 2 for i in number_list]\n",
    "    return square_list\n",
    "def cube():\n",
    "    cube_list = [i **3 for i in number_list]    \n",
    "    return cube_list\n",
    "def sixth_power():\n",
    "    first_list = [i ** 6 for i in square()]\n",
    "    second_list = [j ** 6 for j in cube()]\n",
    "    return first_list, second_list\n",
    "\n",
    "print(sixth_power())"
   ]
  },
  {
   "cell_type": "markdown",
   "metadata": {},
   "source": [
    "7\\. **Decorators**\n",
    "\n",
    "Write a decorator named `hello` that makes every wrapped function print “Hello World!” each time the function is called.\n",
    "\n",
    "The wrapped function should look like:\n",
    "\n",
    "```python\n",
    "@hello\n",
    "def square(x):\n",
    "    return x*x\n",
    "```"
   ]
  },
  {
   "cell_type": "code",
   "execution_count": 7,
   "metadata": {},
   "outputs": [
    {
     "name": "stdout",
     "output_type": "stream",
     "text": [
      "hello\n",
      "16\n"
     ]
    }
   ],
   "source": [
    "def hello(func):\n",
    "    def inner(*args, **kwargs):\n",
    "        print('hello')\n",
    "        returned_value = func(*args, **kwargs)\n",
    "        return returned_value\n",
    "    return inner\n",
    "\n",
    "@hello\n",
    "def square(x):\n",
    "    return x*x        \n",
    "print(square(4))"
   ]
  },
  {
   "cell_type": "markdown",
   "metadata": {},
   "source": [
    "8\\. **The Fibonacci sequence (part 2)**\n",
    "\n",
    "Calculate the first 20 numbers of the [Fibonacci sequence](https://en.wikipedia.org/wiki/Fibonacci_number) using a recursive function."
   ]
  },
  {
   "cell_type": "code",
   "execution_count": 8,
   "metadata": {},
   "outputs": [
    {
     "name": "stdout",
     "output_type": "stream",
     "text": [
      "[0, 1, 1, 2, 3, 5, 8, 13, 21, 34, 55, 89, 144, 233, 377, 610, 987, 1597, 2584]\n"
     ]
    }
   ],
   "source": [
    "# Python program to display the Fibonacci sequence\n",
    "recur_fibo_list = []\n",
    "def recur_fibo(n):\n",
    "   if n <= 1:\n",
    "       return n\n",
    "   else:\n",
    "       return(recur_fibo(n-1) + recur_fibo(n-2))\n",
    "\n",
    "for i in range(19):\n",
    "    recur_fibo_list.append(recur_fibo(i))\n",
    "print(recur_fibo_list)"
   ]
  },
  {
   "cell_type": "markdown",
   "metadata": {},
   "source": [
    "9\\. **The Fibonacci sequence (part 3)**\n",
    "\n",
    "Run both the Fibonacci recursive function from the previous exercise, and the Fibonacci function from 01ex that use only `for` and `while` loops.\n",
    "\n",
    "Measure the execution code of the two functions with `timeit` ([link to the doc](https://docs.python.org/3/library/timeit.html)), for example:\n",
    "\n",
    "`%timeit loopFibonacci(20)`\n",
    "\n",
    "`%timeit recursiveFibonacci(20)`\n",
    "\n",
    "which one is the most efficient implementation? By how much?"
   ]
  },
  {
   "cell_type": "code",
   "execution_count": 9,
   "metadata": {},
   "outputs": [
    {
     "name": "stdout",
     "output_type": "stream",
     "text": [
      "the proceed time for first solution is : 1.8400023691356182e-05\n",
      "the proceed time for second solution is : 0.0054911000188440084\n"
     ]
    }
   ],
   "source": [
    "import timeit\n",
    "fibo_list = [0,1,1]\n",
    "def fiboloop():\n",
    "    for i in range (3,19):\n",
    "        next_fibo_value = fibo_list[i-2] + fibo_list[i-1]\n",
    "        fibo_list.append(next_fibo_value)\n",
    "#-----------------------------------------------------------------------------\n",
    "recur_fibo_list = []\n",
    "def recur_fibo_func() :\n",
    "    def recur_fibo(n):\n",
    "        if n <= 1:\n",
    "            return n\n",
    "        else:\n",
    "            return(recur_fibo(n-1) + recur_fibo(n-2))\n",
    "    for i in range(19):\n",
    "        recur_fibo_list.append(recur_fibo(i))\n",
    "#---------------------------------------------------------------------------------\n",
    "time_1 = timeit.Timer(lambda:fiboloop())\n",
    "time_2 = timeit.Timer(lambda:recur_fibo_func())\n",
    "print(f'the proceed time for first solution is : {time_1.timeit(1)}')\n",
    "print(f'the proceed time for second solution is : {time_2.timeit(1)}')"
   ]
  },
  {
   "cell_type": "markdown",
   "metadata": {},
   "source": [
    "10\\. **Class definition**\n",
    "\n",
    "Define a class `polygon`. The constructor has to take a tuple as input that contains the length of each side. The (unordered) input list does not have to have a fixed length, but should contain at least 3 items.\n",
    "\n",
    "- Create appropriate methods to get and set the length of each side\n",
    "\n",
    "- Create a method `perimeter()` that returns the perimeter of the polygon\n",
    "\n",
    "- Create a method `getOrderedSides(increasing = True)` that returns a tuple containing the length of the sides arranged in increasing or decreasing order, depending on the argument of the method\n",
    "\n",
    "Test the class by creating an instance and calling the `perimeter()` and `getOrderedSides(increasing = True)` methods."
   ]
  },
  {
   "cell_type": "code",
   "execution_count": 10,
   "metadata": {},
   "outputs": [
    {
     "name": "stdout",
     "output_type": "stream",
     "text": [
      " the length of size are : (4, 3, 2, 1)\n",
      "the perimeter of this polygon is : 10\n",
      "the sorted tuple of sides is : (1, 2, 3, 4)\n"
     ]
    }
   ],
   "source": [
    "class polygon :\n",
    "    def __init__(self,sides_tuple) :\n",
    "        self.sides_tuple = sides_tuple\n",
    "    def demonstrat(self):\n",
    "        print(f' the length of size are : {self.sides_tuple}')\n",
    "    def perimeter(self):\n",
    "        print(f'the perimeter of this polygon is : {sum(self.sides_tuple)}')\n",
    "    def getOrderedSides(self):\n",
    "        print(f'the sorted tuple of sides is : {tuple(sorted(self.sides_tuple))}')\n",
    "a = polygon((4,3,2,1))\n",
    "a.demonstrat()\n",
    "a.perimeter()\n",
    "a.getOrderedSides()"
   ]
  },
  {
   "cell_type": "markdown",
   "metadata": {},
   "source": [
    "11\\. **Class inheritance**\n",
    "\n",
    "Define a class `rectangle` that inherits from `polygon`. Modify the constructor, if necessary, to make sure that the input data is consistent with the geometrical properties of a rectangle.\n",
    "\n",
    "- Create a method `area()` that returns the area of the rectangle.\n",
    "\n",
    "Test the `rectangle` class by creating an instance and passing an appropriate input to the constructor."
   ]
  },
  {
   "cell_type": "code",
   "execution_count": 11,
   "metadata": {},
   "outputs": [
    {
     "name": "stdout",
     "output_type": "stream",
     "text": [
      "the area of rectangle is 3\n",
      "None\n"
     ]
    }
   ],
   "source": [
    "class polygon :\n",
    "    def __init__(self,sides_tuple) :\n",
    "        self.sides_tuple = sides_tuple\n",
    "    def demonstrat(self):\n",
    "        print(f' the length of size are : {self.sides_tuple}')\n",
    "    def perimeter(self):\n",
    "        print(f'the perimeter of this polygon is : {sum(self.sides_tuple)}')\n",
    "    def getOrderedSides(self):\n",
    "        print(f'the sorted tuple of sides is : {tuple(sorted(self.sides_tuple))}')\n",
    "\n",
    "class rectangle(polygon):\n",
    "    def __init__(self, sides_tuple):\n",
    "        self.sides_tuple = sides_tuple\n",
    "    def area(self):\n",
    "        sorted_sides = sorted(self.sides_tuple)\n",
    "        print(f'the area of rectangle is {sorted_sides[0] * sorted_sides[2]}')\n",
    "\n",
    "example = rectangle((3,1,3,1))\n",
    "print(example.area())"
   ]
  }
 ],
 "metadata": {
  "kernelspec": {
   "display_name": "Python 3 (ipykernel)",
   "language": "python",
   "name": "python3"
  },
  "language_info": {
   "codemirror_mode": {
    "name": "ipython",
    "version": 3
   },
   "file_extension": ".py",
   "mimetype": "text/x-python",
   "name": "python",
   "nbconvert_exporter": "python",
   "pygments_lexer": "ipython3",
   "version": "3.10.12"
  }
 },
 "nbformat": 4,
 "nbformat_minor": 2
}
