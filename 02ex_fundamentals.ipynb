{
 "cells": [
  {
   "cell_type": "markdown",
   "metadata": {},
   "source": [
    "You can solve these exercises in the room or at home. For this week, and the next 3 weeks, exercises have to be solved by creating a single dedicated `.py` file called `02ex_fundamentals.py`.\n",
    "\n",
    "You can divide the individual exercises in the source code with appropriate comments (`#`).\n",
    "\n",
    "The exercises need to run without errors with `python3 02ex_fundamentals.py`."
   ]
  },
  {
   "cell_type": "markdown",
   "metadata": {},
   "source": [
    "1\\. **Global variables**\n",
    "\n",
    "Convert the function $f$ into a function that doesn't use global variables and that does not modify the original list"
   ]
  },
  {
   "cell_type": "code",
   "execution_count": null,
   "metadata": {
    "pycharm": {
     "is_executing": true
    }
   },
   "outputs": [],
   "source": [
    "# x = 5\n",
    "# \n",
    "# def f(alist):\n",
    "#     for i in range(x):\n",
    "#         alist.append(i)\n",
    "#     return alist\n",
    "# \n",
    "# alist = [1, 2, 3]\n",
    "# ans = f(alist)\n",
    "# print(ans)\n",
    "# print(alist) # alist has been changed"
   ]
  },
  {
   "cell_type": "code",
   "execution_count": 2,
   "outputs": [
    {
     "name": "stdout",
     "output_type": "stream",
     "text": [
      "[1, 2, 3]\n",
      "[1, 2, 3, 0, 1, 2, 3, 4]\n"
     ]
    }
   ],
   "source": [
    "x = 5\n",
    "\n",
    "def f(alist):\n",
    "    t_array = list(alist)\n",
    "    for i in range(x):\n",
    "        t_array.append(i)\n",
    "    return t_array\n",
    "\n",
    "\n",
    "alist = [1, 2, 3]\n",
    "n_ans = f(alist)\n",
    "\n",
    "print(alist)\n",
    "print(n_ans)"
   ],
   "metadata": {
    "collapsed": false,
    "pycharm": {
     "is_executing": true
    },
    "ExecuteTime": {
     "end_time": "2023-11-02T15:59:21.217077Z",
     "start_time": "2023-11-02T15:59:21.211818Z"
    }
   }
  },
  {
   "cell_type": "markdown",
   "metadata": {},
   "source": [
    "2\\. **List comprehension**\n",
    "\n",
    "Write the following expression using a list comprehension:\n",
    "\n",
    "`ans = list(map(lambda x: x * x, filter(lambda x: x % 2 == 1, range(10))))`"
   ]
  },
  {
   "cell_type": "code",
   "execution_count": 4,
   "outputs": [
    {
     "name": "stdout",
     "output_type": "stream",
     "text": [
      "[1, 9, 25, 49, 81]\n",
      "[1, 9, 25, 49, 81]\n"
     ]
    }
   ],
   "source": [
    "ans = list(map(lambda x: x * x, filter(lambda x: x % 2 == 1, range(10))))\n",
    "print(ans)\n",
    "\n",
    "ansNew = [x * x for x in range(10) if x % 2 == 1]\n",
    "print(ansNew)"
   ],
   "metadata": {
    "collapsed": false,
    "ExecuteTime": {
     "end_time": "2023-11-02T16:00:34.308064Z",
     "start_time": "2023-11-02T16:00:34.298670Z"
    }
   }
  },
  {
   "cell_type": "markdown",
   "metadata": {},
   "source": [
    "3\\. **Filter list**\n",
    "\n",
    "Using the `filter()` hof, define a function that takes a list of words and an integer `n` as arguments, and returns a list of words that are shorter than `n`."
   ]
  },
  {
   "cell_type": "code",
   "execution_count": 5,
   "outputs": [
    {
     "name": "stdout",
     "output_type": "stream",
     "text": [
      "[1, 2, 3, 4]\n"
     ]
    }
   ],
   "source": [
    "def is_shorter(li, n):\n",
    "    shorter_list = filter(lambda i: i < n, li)\n",
    "    return list(shorter_list)\n",
    "\n",
    "\n",
    "tmp_list = is_shorter([1, 2, 3, 4, 5, 6, 7, 8, 9, 10], 5)\n",
    "print(tmp_list)"
   ],
   "metadata": {
    "collapsed": false,
    "ExecuteTime": {
     "end_time": "2023-11-02T16:01:13.475476Z",
     "start_time": "2023-11-02T16:01:13.464174Z"
    }
   }
  },
  {
   "cell_type": "markdown",
   "metadata": {},
   "source": [
    "4\\. **Map dictionary**\n",
    "\n",
    "\n",
    "Consider the following dictionary:\n",
    "\n",
    "`lang = {\"Python\" : 3, \"Java\" : '', \"Cplusplus\" : 'test', \"Php\" : 0.7}`\n",
    "\n",
    "Write a function that takes the above dictionary and uses the `map()` higher order function to return a list that contains the length of the keys of the dictionary."
   ]
  },
  {
   "cell_type": "code",
   "execution_count": 6,
   "outputs": [
    {
     "name": "stdout",
     "output_type": "stream",
     "text": [
      "[6, 4, 9, 3]\n"
     ]
    }
   ],
   "source": [
    "lang = {\"Python\": 3, \"Java\": '', \"Cplusplus\": 'test', \"Php\": 0.7}\n",
    "\n",
    "\n",
    "def is_keys(li):\n",
    "    count_list = list(map(lambda x: len(x), li.keys()))\n",
    "    return count_list\n",
    "\n",
    "\n",
    "print(is_keys(lang))"
   ],
   "metadata": {
    "collapsed": false,
    "ExecuteTime": {
     "end_time": "2023-11-02T16:01:36.829514Z",
     "start_time": "2023-11-02T16:01:36.819279Z"
    }
   }
  },
  {
   "cell_type": "markdown",
   "metadata": {},
   "source": [
    "5\\. **Lambda functions**\n",
    "\n",
    "Write a Python program that sorts the following list of tuples using a lambda function, according to the alphabetical order of the first element of the tuple:\n",
    "\n",
    "`language_scores = [('Python', 97), ('Cplusplus', 81), ('Php', 45), ('Java', 32)]`\n",
    "\n",
    "*Hint*: use the method `sort()` and its argument `key` of the `list` data structure."
   ]
  },
  {
   "cell_type": "code",
   "execution_count": 7,
   "outputs": [
    {
     "name": "stdout",
     "output_type": "stream",
     "text": [
      "[('Cplusplus', 81), ('Java', 32), ('Php', 45), ('Python', 97)]\n"
     ]
    }
   ],
   "source": [
    "language_scores = [('Python', 97), ('Cplusplus', 81), ('Php', 45), ('Java', 32)]\n",
    "language_scores.sort(key=lambda first_ele: first_ele[0])\n",
    "\n",
    "print(language_scores)"
   ],
   "metadata": {
    "collapsed": false,
    "ExecuteTime": {
     "end_time": "2023-11-02T16:01:52.056932Z",
     "start_time": "2023-11-02T16:01:52.050302Z"
    }
   }
  },
  {
   "cell_type": "markdown",
   "metadata": {},
   "source": [
    "6\\. **Nested functions**\n",
    "\n",
    "Write two functions: one that returns the square of a number, and one that returns its cube.\n",
    "\n",
    "Then, write a third function that returns the number raised to the 6th power, using only the two previous functions."
   ]
  },
  {
   "cell_type": "code",
   "execution_count": 8,
   "outputs": [
    {
     "name": "stdout",
     "output_type": "stream",
     "text": [
      "64\n"
     ]
    }
   ],
   "source": [
    "def num_square(n):\n",
    "    square = n ** 2\n",
    "    return square\n",
    "\n",
    "\n",
    "def num_cube(n):\n",
    "    cube = n ** 3\n",
    "    return cube\n",
    "\n",
    "\n",
    "def power_num(n):\n",
    "    power = num_cube(num_square(n))\n",
    "    return power\n",
    "\n",
    "\n",
    "print(power_num(2))"
   ],
   "metadata": {
    "collapsed": false,
    "ExecuteTime": {
     "end_time": "2023-11-02T16:02:09.645041Z",
     "start_time": "2023-11-02T16:02:09.634823Z"
    }
   }
  },
  {
   "cell_type": "markdown",
   "metadata": {},
   "source": [
    "7\\. **Decorators**\n",
    "\n",
    "Write a decorator named `hello` that makes every wrapped function print “Hello World!” each time the function is called.\n",
    "\n",
    "The wrapped function should look like:\n",
    "\n",
    "```python\n",
    "@hello\n",
    "def square(x):\n",
    "    return x*x\n",
    "```"
   ]
  },
  {
   "cell_type": "code",
   "execution_count": 12,
   "outputs": [
    {
     "name": "stdout",
     "output_type": "stream",
     "text": [
      "Hello World!\n"
     ]
    }
   ],
   "source": [
    "def decorator(func):\n",
    "    def wrapper( ):\n",
    "        func()\n",
    "        # print(f'{func}')\n",
    "    return wrapper\n",
    "\n",
    "\n",
    "@decorator\n",
    "def hello():\n",
    "    print(\"Hello World!\")\n",
    "\n",
    "\n",
    "hello()"
   ],
   "metadata": {
    "collapsed": false,
    "ExecuteTime": {
     "end_time": "2023-11-02T16:03:54.204004Z",
     "start_time": "2023-11-02T16:03:54.192853Z"
    }
   }
  },
  {
   "cell_type": "markdown",
   "metadata": {},
   "source": [
    "8\\. **The Fibonacci sequence (part 2)**\n",
    "\n",
    "Calculate the first 20 numbers of the [Fibonacci sequence](https://en.wikipedia.org/wiki/Fibonacci_number) using a recursive function."
   ]
  },
  {
   "cell_type": "code",
   "execution_count": 11,
   "outputs": [
    {
     "name": "stdout",
     "output_type": "stream",
     "text": [
      "[1, 1, 2, 3, 5, 8, 13, 21, 34, 55, 89, 144, 233, 377, 610, 987, 1597, 2584, 4181, 6765]\n"
     ]
    }
   ],
   "source": [
    "fibo_seq = []\n",
    "def fibo(n):\n",
    "    if n == 1 or n == 2:\n",
    "        return 1\n",
    "    else:\n",
    "        b = fibo(n-2)+fibo(n-1)\n",
    "        return b\n",
    "\n",
    "for i in range(1,21):\n",
    "    fibo_seq.append(fibo(i))\n",
    "\n",
    "print(fibo_seq)"
   ],
   "metadata": {
    "collapsed": false,
    "ExecuteTime": {
     "end_time": "2023-11-02T16:02:59.737295Z",
     "start_time": "2023-11-02T16:02:59.708839Z"
    }
   }
  },
  {
   "cell_type": "markdown",
   "metadata": {},
   "source": [
    "9\\. **The Fibonacci sequence (part 3)**\n",
    "\n",
    "Run both the Fibonacci recursive function from the previous exercise, and the Fibonacci function from 01ex that use only `for` and `while` loops.\n",
    "\n",
    "Measure the execution code of the two functions with `timeit` ([link to the doc](https://docs.python.org/3/library/timeit.html)), for example:\n",
    "\n",
    "`%timeit loopFibonacci(20)`\n",
    "\n",
    "`%timeit recursiveFibonacci(20)`\n",
    "\n",
    "which one is the most efficient implementation? By how much?"
   ]
  },
  {
   "cell_type": "code",
   "execution_count": 13,
   "outputs": [
    {
     "name": "stdout",
     "output_type": "stream",
     "text": [
      "6.4019986893981695e-06\n",
      "0.0011375780013622716\n"
     ]
    }
   ],
   "source": [
    "import timeit\n",
    "\n",
    "\n",
    "def first_solve(n=20):\n",
    "    i = 0\n",
    "    a, b = 0, 1\n",
    "    finona = []\n",
    "    while i < n:\n",
    "        i += 1\n",
    "        finona.append(b)\n",
    "        a, b = b, a + b\n",
    "    return finona\n",
    "\n",
    "\n",
    "def second_solve(n):\n",
    "    if n == 1 or n == 2:\n",
    "        return 1\n",
    "    else:\n",
    "        return second_solve(n-2)+second_solve(n-1)\n",
    "\n",
    "\n",
    "first_time = timeit.Timer(lambda: first_solve(20))\n",
    "second_time = timeit.Timer(lambda: second_solve(20))\n",
    "#\n",
    "print(first_time.timeit(1))\n",
    "print(second_time.timeit(1))"
   ],
   "metadata": {
    "collapsed": false,
    "ExecuteTime": {
     "end_time": "2023-11-02T16:04:17.385868Z",
     "start_time": "2023-11-02T16:04:17.377852Z"
    }
   }
  },
  {
   "cell_type": "markdown",
   "metadata": {},
   "source": [
    "10\\. **Class definition**\n",
    "\n",
    "Define a class `polygon`. The constructor has to take a tuple as input that contains the length of each side. The (unordered) input list does not have to have a fixed length, but should contain at least 3 items.\n",
    "\n",
    "- Create appropriate methods to get and set the length of each side\n",
    "\n",
    "- Create a method `perimeter()` that returns the perimeter of the polygon\n",
    "\n",
    "- Create a method `getOrderedSides(increasing = True)` that returns a tuple containing the length of the sides arranged in increasing or decreasing order, depending on the argument of the method\n",
    "\n",
    "Test the class by creating an instance and calling the `perimeter()` and `getOrderedSides(increasing = True)` methods."
   ]
  },
  {
   "cell_type": "code",
   "execution_count": 14,
   "outputs": [
    {
     "name": "stdout",
     "output_type": "stream",
     "text": [
      "sum:  17\n",
      "[1, 3, 6, 7]\n"
     ]
    }
   ],
   "source": [
    "class polygon:\n",
    "    def __init__(self, list):\n",
    "        self.list = list\n",
    "        self.lene = len(list)\n",
    "        if self.lene < 3:\n",
    "            print(\"enter more than 3\")\n",
    "            return\n",
    "\n",
    "    def perimeter(self):\n",
    "        perimeter = sum(self.list)\n",
    "        # print(\"first solv: \",self.list[0] * self.lene)\n",
    "        print(\"sum: \", perimeter)\n",
    "\n",
    "    def getOrderedSides(self, increasing=True):\n",
    "        print(sorted(self.list))\n",
    "\n",
    "\n",
    "x = polygon((3, 6, 7, 1))\n",
    "x.perimeter()\n",
    "x.getOrderedSides()"
   ],
   "metadata": {
    "collapsed": false,
    "ExecuteTime": {
     "end_time": "2023-11-02T16:04:37.102635Z",
     "start_time": "2023-11-02T16:04:37.091837Z"
    }
   }
  },
  {
   "cell_type": "markdown",
   "metadata": {},
   "source": [
    "11\\. **Class inheritance**\n",
    "\n",
    "Define a class `rectangle` that inherits from `polygon`. Modify the constructor, if necessary, to make sure that the input data is consistent with the geometrical properties of a rectangle.\n",
    "\n",
    "- Create a method `area()` that returns the area of the rectangle.\n",
    "\n",
    "Test the `rectangle` class by creating an instance and passing an appropriate input to the constructor."
   ]
  },
  {
   "cell_type": "code",
   "execution_count": 15,
   "outputs": [
    {
     "name": "stdout",
     "output_type": "stream",
     "text": [
      "30\n"
     ]
    }
   ],
   "source": [
    "class Rectangle():\n",
    "    def __init__(self, width, length):\n",
    "        self.width = width\n",
    "        self.length = length\n",
    "\n",
    "    def area(self):\n",
    "        return self.width * self.length\n",
    "\n",
    "\n",
    "shape = Rectangle(5, 6)\n",
    "print(shape.area())"
   ],
   "metadata": {
    "collapsed": false,
    "ExecuteTime": {
     "end_time": "2023-11-02T16:04:49.638948Z",
     "start_time": "2023-11-02T16:04:49.622468Z"
    }
   }
  }
 ],
 "metadata": {
  "kernelspec": {
   "display_name": "Python 3 (ipykernel)",
   "language": "python",
   "name": "python3"
  },
  "language_info": {
   "codemirror_mode": {
    "name": "ipython",
    "version": 3
   },
   "file_extension": ".py",
   "mimetype": "text/x-python",
   "name": "python",
   "nbconvert_exporter": "python",
   "pygments_lexer": "ipython3",
   "version": "3.10.12"
  }
 },
 "nbformat": 4,
 "nbformat_minor": 2
}
