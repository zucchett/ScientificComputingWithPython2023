{
 "cells": [
  {
   "cell_type": "markdown",
   "metadata": {},
   "source": [
    "1\\. **Pandas DataFrame**\n",
    "\n",
    "This exercise consists in analyzing a dataset containg timing information from a series of Time-to-Digital-Converters (TDC) implemented in a pair of FPGAs. Each measurement (i.e. each row of the input file) consists of a flag that specifies the type of message ('HEAD', which in this case is always 1), two addresses of the TDC providing the signal ('FPGA' and 'TDC_CHANNEL'), and the timing information ('ORBIT_CNT', 'BX_COUNTER', and 'TDC_MEAS'). Each TDC count corresponds to 25/30 ns, whereas a unit of BX_COUNTER corresponds to 25 ns, and the ORBIT_CNT is increased every `x` BX_COUNTER. This allows to store the time in a similar way to hours, minutes and seconds."
   ]
  },
  {
   "cell_type": "code",
   "execution_count": 1,
   "metadata": {},
   "outputs": [],
   "source": [
    "# If haven't downloaded it yet, please get the data file with wget\n",
    "#!wget https://www.dropbox.com/s/xvjzaxzz3ysphme/data_000637.txt -P ./data/"
   ]
  },
  {
   "cell_type": "markdown",
   "metadata": {},
   "source": [
    "1\\. Create a Pandas DataFrame reading N rows of the `data/data_000637.txt` dataset. Choose N to be smaller than or equal to the maximum number of rows and larger that 10k (check the documentation)."
   ]
  },
  {
   "cell_type": "code",
   "execution_count": 3,
   "metadata": {},
   "outputs": [
    {
     "name": "stdout",
     "output_type": "stream",
     "text": [
      "         HEAD  FPGA  TDC_CHANNEL   ORBIT_CNT  BX_COUNTER  TDC_MEAS\n",
      "0           1     0          123  3869200167        2374        26\n",
      "1           1     0          124  3869200167        2374        27\n",
      "2           1     0           63  3869200167        2553        28\n",
      "3           1     0           64  3869200167        2558        19\n",
      "4           1     0           64  3869200167        2760        25\n",
      "...       ...   ...          ...         ...         ...       ...\n",
      "1310715     1     0           62  3869211171         762        14\n",
      "1310716     1     1            4  3869211171         763        11\n",
      "1310717     1     0           64  3869211171         764         0\n",
      "1310718     1     0          139  3869211171         769         0\n",
      "1310719     1     0           61  3869211171         762        18\n",
      "\n",
      "[1310720 rows x 6 columns]\n",
      "         HEAD  FPGA  TDC_CHANNEL   ORBIT_CNT  BX_COUNTER  TDC_MEAS\n",
      "0           1     0          123  3869200167        2374        26\n",
      "1           1     0          124  3869200167        2374        27\n",
      "2           1     0           63  3869200167        2553        28\n",
      "3           1     0           64  3869200167        2558        19\n",
      "4           1     0           64  3869200167        2760        25\n",
      "...       ...   ...          ...         ...         ...       ...\n",
      "1310715     1     0           62  3869211171         762        14\n",
      "1310716     1     1            4  3869211171         763        11\n",
      "1310717     1     0           64  3869211171         764         0\n",
      "1310718     1     0          139  3869211171         769         0\n",
      "1310719     1     0           61  3869211171         762        18\n",
      "\n",
      "[1310720 rows x 6 columns]\n"
     ]
    }
   ],
   "source": [
    "import pandas as pd\n",
    "\n",
    "file_name = \"data/data_000637.txt\"\n",
    "data = pd.read_csv(file_name)\n",
    "print(data)\n",
    "\n",
    "N = 1310720  # equal to the maximum number of rows and larger than 10k\n",
    "data = data[:N]  # we choose all the data\n",
    "print(data)"
   ]
  },
  {
   "cell_type": "markdown",
   "metadata": {},
   "source": [
    "2\\. Estimate the number of BX in a ORBIT (the value `x`).\n",
    "\n",
    "*Hint*: check when the BX counter reaches the maximum value before being reset to 0."
   ]
  },
  {
   "cell_type": "code",
   "execution_count": 4,
   "metadata": {},
   "outputs": [
    {
     "name": "stdout",
     "output_type": "stream",
     "text": [
      "Estimation of the number of BX in an ORBIT: x = 3563\n"
     ]
    }
   ],
   "source": [
    "x = data['BX_COUNTER'].max()\n",
    "print(f\"Estimation of the number of BX in an ORBIT: x = {x}\")"
   ]
  },
  {
   "cell_type": "markdown",
   "metadata": {},
   "source": [
    "3\\. Create a new column with the absolute time in ns (as a combination of the other three columns with timing information) since the beginning of the data acquisition, and convert the new column to a Time Series.\n",
    "\n",
    "*Hint:* introduce an offset to the absolute time such that the start of the data acquisition (i.e. the first entry) is zero."
   ]
  },
  {
   "cell_type": "code",
   "execution_count": 5,
   "metadata": {},
   "outputs": [
    {
     "name": "stdout",
     "output_type": "stream",
     "text": [
      "         HEAD  FPGA  TDC_CHANNEL   ORBIT_CNT  BX_COUNTER  TDC_MEAS  \\\n",
      "0           1     0          123  3869200167        2374        26   \n",
      "1           1     0          124  3869200167        2374        27   \n",
      "2           1     0           63  3869200167        2553        28   \n",
      "3           1     0           64  3869200167        2558        19   \n",
      "4           1     0           64  3869200167        2760        25   \n",
      "...       ...   ...          ...         ...         ...       ...   \n",
      "1310715     1     0           62  3869211171         762        14   \n",
      "1310716     1     1            4  3869211171         763        11   \n",
      "1310717     1     0           64  3869211171         764         0   \n",
      "1310718     1     0          139  3869211171         769         0   \n",
      "1310719     1     0           61  3869211171         762        18   \n",
      "\n",
      "                        ABSOLUTE_TIME  \n",
      "0       1970-01-01 00:00:00.000000000  \n",
      "1       1970-01-01 00:00:00.000000000  \n",
      "2       1970-01-01 00:00:00.000004476  \n",
      "3       1970-01-01 00:00:00.000004594  \n",
      "4       1970-01-01 00:00:00.000009649  \n",
      "...                               ...  \n",
      "1310715 1970-01-01 00:00:00.980140990  \n",
      "1310716 1970-01-01 00:00:00.980141012  \n",
      "1310717 1970-01-01 00:00:00.980141028  \n",
      "1310718 1970-01-01 00:00:00.980141153  \n",
      "1310719 1970-01-01 00:00:00.980140993  \n",
      "\n",
      "[1310720 rows x 7 columns]\n"
     ]
    }
   ],
   "source": [
    "# Calculate the absolute time ins ns\n",
    "data[\"ABSOLUTE_TIME\"] = data[\"ORBIT_CNT\"]*x*25 + data[\"BX_COUNTER\"]*25 + data[\"TDC_MEAS\"]*25/30\n",
    "# Introduce an offset to make it zero\n",
    "offset = data[\"ABSOLUTE_TIME\"][0]\n",
    "data[\"ABSOLUTE_TIME\"] -= offset\n",
    "# Convert absolute time column to a Time Series\n",
    "data[\"ABSOLUTE_TIME\"] = pd.to_datetime(data[\"ABSOLUTE_TIME\"], unit='ns')\n",
    "print(data)"
   ]
  },
  {
   "cell_type": "markdown",
   "metadata": {},
   "source": [
    "4\\. Find out the duration of the data taking in hours, minutes and seconds, by using the features of the Time Series. Perform this check reading the whole dataset."
   ]
  },
  {
   "cell_type": "code",
   "execution_count": 6,
   "metadata": {},
   "outputs": [
    {
     "name": "stdout",
     "output_type": "stream",
     "text": [
      "1970-01-01 00:00:00.980141153\n",
      "\n",
      "Duration of data taking: 0 hours, 0 minutes, 0 seconds.\n"
     ]
    }
   ],
   "source": [
    "duration = data[\"ABSOLUTE_TIME\"].max()\n",
    "print(duration)\n",
    "\n",
    "hours = duration.hour\n",
    "minutes = duration.minute\n",
    "seconds = duration.second\n",
    "print(f\"\\nDuration of data taking: {hours} hours, {minutes} minutes, {seconds} seconds.\")"
   ]
  },
  {
   "cell_type": "markdown",
   "metadata": {},
   "source": [
    "5\\. Use the `.groupby()` method to find out the noisy channels, i.e. the TDC channels with most counts (print to screen the top 3 and the corresponding counts)"
   ]
  },
  {
   "cell_type": "code",
   "execution_count": 7,
   "metadata": {},
   "outputs": [
    {
     "name": "stdout",
     "output_type": "stream",
     "text": [
      "Noisy channels:\n",
      "TDC_CHANNEL\n",
      "139    108059\n",
      "64      66020\n",
      "63      64642\n",
      "Name: HEAD, dtype: int64\n"
     ]
    }
   ],
   "source": [
    "noisy_channels = data.groupby(\"TDC_CHANNEL\").count()\n",
    "noisy_channels = noisy_channels.sort_values(by=\"HEAD\", ascending=False)\n",
    "print(f\"Noisy channels:\\n{noisy_channels.head(3)[\"HEAD\"]}\")"
   ]
  },
  {
   "cell_type": "markdown",
   "metadata": {},
   "source": [
    "6\\. Count the number of non-empty orbits (i.e. the number of orbits with at least one hit)."
   ]
  },
  {
   "cell_type": "code",
   "execution_count": 8,
   "metadata": {},
   "outputs": [
    {
     "name": "stdout",
     "output_type": "stream",
     "text": [
      "Number of non-empty orbits: 11001\n"
     ]
    }
   ],
   "source": [
    "non_empty_orbits_count = len(data.groupby('ORBIT_CNT'))\n",
    "print(f\"Number of non-empty orbits: {non_empty_orbits_count}\")"
   ]
  },
  {
   "cell_type": "markdown",
   "metadata": {},
   "source": [
    "7\\. Count the number of unique orbits with at least one measurement from TDC_CHANNEL=139."
   ]
  },
  {
   "cell_type": "code",
   "execution_count": 9,
   "metadata": {},
   "outputs": [
    {
     "name": "stdout",
     "output_type": "stream",
     "text": [
      "Number of unique orbits with TDC_CHANNEL=139: 10976\n"
     ]
    }
   ],
   "source": [
    "unique_orbits_139 = len(data[data[\"TDC_CHANNEL\"]==139].groupby(\"ORBIT_CNT\"))\n",
    "print(f\"Number of unique orbits with TDC_CHANNEL=139: {unique_orbits_139}\")"
   ]
  },
  {
   "cell_type": "markdown",
   "metadata": {},
   "source": [
    "8\\. Create two Series (one for each FPGA) that have the TDC channel as index, and the number of counts for the corresponding TDC channel as values."
   ]
  },
  {
   "cell_type": "code",
   "execution_count": 10,
   "metadata": {},
   "outputs": [
    {
     "name": "stdout",
     "output_type": "stream",
     "text": [
      "Counts for FPGA 0:\n",
      "TDC_CHANNEL\n",
      "1       1215\n",
      "2       1602\n",
      "3       1493\n",
      "4       2352\n",
      "5       1432\n",
      "       ...  \n",
      "129        2\n",
      "130       33\n",
      "137       32\n",
      "138       34\n",
      "139    75617\n",
      "Name: FPGA, Length: 124, dtype: int64\n",
      "Counts for FPGA 1:\n",
      "TDC_CHANNEL\n",
      "1      28438\n",
      "2      32669\n",
      "3      21970\n",
      "4      26403\n",
      "5      15003\n",
      "       ...  \n",
      "129       35\n",
      "130       38\n",
      "137       36\n",
      "138       36\n",
      "139    32442\n",
      "Name: FPGA, Length: 132, dtype: int64\n"
     ]
    }
   ],
   "source": [
    "data_0 = data[data[\"FPGA\"]==0].groupby(\"TDC_CHANNEL\")[\"FPGA\"].count()\n",
    "data_1 = data[data[\"FPGA\"]==1].groupby(\"TDC_CHANNEL\")[\"FPGA\"].count()\n",
    "print(f\"Counts for FPGA 0:\\n{data_0}\")\n",
    "print(f\"Counts for FPGA 1:\\n{data_1}\")"
   ]
  },
  {
   "cell_type": "markdown",
   "metadata": {},
   "source": [
    "9\\. **Optional:** Create two histograms (one for each FPGA) that show the number of counts for each TDC channel."
   ]
  },
  {
   "cell_type": "code",
   "execution_count": 11,
   "metadata": {},
   "outputs": [
    {
     "data": {
      "image/png": "[encoded data removed]",
      "text/plain": [
       "<Figure size 640x480 with 2 Axes>"
      ]
     },
     "metadata": {},
     "output_type": "display_data"
    }
   ],
   "source": [
    "import matplotlib.pyplot as plt\n",
    "\n",
    "plt.subplot(1, 2, 1)\n",
    "plt.bar(data_0.index, data_0, color='blue', alpha=0.7)\n",
    "plt.title('Histogram for FPGA 0')\n",
    "plt.xlabel('TDC Channel')\n",
    "plt.ylabel('Number of Counts')\n",
    "plt.xlim(0, max(data_0.index))\n",
    "plt.ylim(0, max(data_0))\n",
    "\n",
    "plt.subplot(1, 2, 2)\n",
    "plt.bar(data_1.index, data_1, color='orange', alpha=0.7)\n",
    "plt.title('Histogram for FPGA 1')\n",
    "plt.xlabel('TDC Channel')\n",
    "plt.ylabel('Number of Counts')\n",
    "plt.xlim(0, max(data_1.index))\n",
    "plt.ylim(0, max(data_1))\n",
    "\n",
    "plt.show()"
   ]
  },
  {
   "cell_type": "code",
   "execution_count": null,
   "metadata": {},
   "outputs": [],
   "source": []
  }
 ],
 "metadata": {
  "kernelspec": {
   "display_name": "Python 3 (ipykernel)",
   "language": "python",
   "name": "python3"
  },
  "language_info": {
   "codemirror_mode": {
    "name": "ipython",
    "version": 3
   },
   "file_extension": ".py",
   "mimetype": "text/x-python",
   "name": "python",
   "nbconvert_exporter": "python",
   "pygments_lexer": "ipython3",
   "version": "3.12.0"
  }
 },
 "nbformat": 4,
 "nbformat_minor": 2
}
