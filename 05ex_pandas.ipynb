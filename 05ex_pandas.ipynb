{
 "cells": [
  {
   "cell_type": "markdown",
   "metadata": {},
   "source": [
    "1\\. **Pandas DataFrame**\n",
    "\n",
    "This exercise consists in analyzing a dataset containg timing information from a series of Time-to-Digital-Converters (TDC) implemented in a pair of FPGAs. Each measurement (i.e. each row of the input file) consists of a flag that specifies the type of message ('HEAD', which in this case is always 1), two addresses of the TDC providing the signal ('FPGA' and 'TDC_CHANNEL'), and the timing information ('ORBIT_CNT', 'BX_COUNTER', and 'TDC_MEAS'). Each TDC count corresponds to 25/30 ns, whereas a unit of BX_COUNTER corresponds to 25 ns, and the ORBIT_CNT is increased every `x` BX_COUNTER. This allows to store the time in a similar way to hours, minutes and seconds."
   ]
  },
  {
   "cell_type": "code",
   "execution_count": 1,
   "metadata": {},
   "outputs": [],
   "source": [
    "import pandas as pd\n",
    "import numpy as np\n",
    "import matplotlib.pyplot as plt\n",
    "\n",
    "url = 'https://www.dropbox.com/s/xvjzaxzz3ysphme/data_000637.txt?dl=1'\n",
    "filename = 'data/data_000637.txt'"
   ]
  },
  {
   "cell_type": "code",
   "execution_count": 2,
   "metadata": {},
   "outputs": [
    {
     "data": {
      "text/plain": [
       "('data/data_000637.txt', <http.client.HTTPMessage at 0x1bfc127a190>)"
      ]
     },
     "execution_count": 2,
     "metadata": {},
     "output_type": "execute_result"
    }
   ],
   "source": [
    "# If haven't downloaded it yet, please get the data file with wget\n",
    "# !wget https://www.dropbox.com/s/xvjzaxzz3ysphme/data_000637.txt -P ./data/\n",
    "\n",
    "# I use Windows, so no wget for me. The following lines should work fine\n",
    "# on both Windows and Linux machines. However, it does not create the directory data\n",
    "# if it does not exist.\n",
    "import urllib.request\n",
    "# moreover, the original link in the command above was downloading the html\n",
    "# file of the Dropbox preview page and not the actual txt file. I had to append\n",
    "# '?dl=1' to the link to have direct download access to the file\n",
    "# (source for this: Dropbox documentation)\n",
    "\n",
    "urllib.request.urlretrieve(url, filename)"
   ]
  },
  {
   "cell_type": "markdown",
   "metadata": {},
   "source": [
    "1\\. Create a Pandas DataFrame reading N rows of the `data/data_000637.txt` dataset. Choose N to be smaller than or equal to the maximum number of rows and larger that 10k (check the documentation)."
   ]
  },
  {
   "cell_type": "code",
   "execution_count": 9,
   "metadata": {},
   "outputs": [
    {
     "data": {
      "text/html": [
       "<div>\n",
       "<style scoped>\n",
       "    .dataframe tbody tr th:only-of-type {\n",
       "        vertical-align: middle;\n",
       "    }\n",
       "\n",
       "    .dataframe tbody tr th {\n",
       "        vertical-align: top;\n",
       "    }\n",
       "\n",
       "    .dataframe thead th {\n",
       "        text-align: right;\n",
       "    }\n",
       "</style>\n",
       "<table border=\"1\" class=\"dataframe\">\n",
       "  <thead>\n",
       "    <tr style=\"text-align: right;\">\n",
       "      <th></th>\n",
       "      <th>HEAD</th>\n",
       "      <th>FPGA</th>\n",
       "      <th>TDC_CHANNEL</th>\n",
       "      <th>ORBIT_CNT</th>\n",
       "      <th>BX_COUNTER</th>\n",
       "      <th>TDC_MEAS</th>\n",
       "    </tr>\n",
       "  </thead>\n",
       "  <tbody>\n",
       "    <tr>\n",
       "      <th>0</th>\n",
       "      <td>1</td>\n",
       "      <td>0</td>\n",
       "      <td>123</td>\n",
       "      <td>3869200167</td>\n",
       "      <td>2374</td>\n",
       "      <td>26</td>\n",
       "    </tr>\n",
       "    <tr>\n",
       "      <th>1</th>\n",
       "      <td>1</td>\n",
       "      <td>0</td>\n",
       "      <td>124</td>\n",
       "      <td>3869200167</td>\n",
       "      <td>2374</td>\n",
       "      <td>27</td>\n",
       "    </tr>\n",
       "    <tr>\n",
       "      <th>2</th>\n",
       "      <td>1</td>\n",
       "      <td>0</td>\n",
       "      <td>63</td>\n",
       "      <td>3869200167</td>\n",
       "      <td>2553</td>\n",
       "      <td>28</td>\n",
       "    </tr>\n",
       "    <tr>\n",
       "      <th>3</th>\n",
       "      <td>1</td>\n",
       "      <td>0</td>\n",
       "      <td>64</td>\n",
       "      <td>3869200167</td>\n",
       "      <td>2558</td>\n",
       "      <td>19</td>\n",
       "    </tr>\n",
       "    <tr>\n",
       "      <th>4</th>\n",
       "      <td>1</td>\n",
       "      <td>0</td>\n",
       "      <td>64</td>\n",
       "      <td>3869200167</td>\n",
       "      <td>2760</td>\n",
       "      <td>25</td>\n",
       "    </tr>\n",
       "    <tr>\n",
       "      <th>...</th>\n",
       "      <td>...</td>\n",
       "      <td>...</td>\n",
       "      <td>...</td>\n",
       "      <td>...</td>\n",
       "      <td>...</td>\n",
       "      <td>...</td>\n",
       "    </tr>\n",
       "    <tr>\n",
       "      <th>19995</th>\n",
       "      <td>1</td>\n",
       "      <td>0</td>\n",
       "      <td>27</td>\n",
       "      <td>3869200366</td>\n",
       "      <td>2513</td>\n",
       "      <td>29</td>\n",
       "    </tr>\n",
       "    <tr>\n",
       "      <th>19996</th>\n",
       "      <td>1</td>\n",
       "      <td>0</td>\n",
       "      <td>63</td>\n",
       "      <td>3869200366</td>\n",
       "      <td>2517</td>\n",
       "      <td>6</td>\n",
       "    </tr>\n",
       "    <tr>\n",
       "      <th>19997</th>\n",
       "      <td>1</td>\n",
       "      <td>0</td>\n",
       "      <td>32</td>\n",
       "      <td>3869200366</td>\n",
       "      <td>2519</td>\n",
       "      <td>5</td>\n",
       "    </tr>\n",
       "    <tr>\n",
       "      <th>19998</th>\n",
       "      <td>1</td>\n",
       "      <td>0</td>\n",
       "      <td>17</td>\n",
       "      <td>3869200366</td>\n",
       "      <td>2522</td>\n",
       "      <td>21</td>\n",
       "    </tr>\n",
       "    <tr>\n",
       "      <th>19999</th>\n",
       "      <td>1</td>\n",
       "      <td>0</td>\n",
       "      <td>64</td>\n",
       "      <td>3869200366</td>\n",
       "      <td>2522</td>\n",
       "      <td>0</td>\n",
       "    </tr>\n",
       "  </tbody>\n",
       "</table>\n",
       "<p>20000 rows × 6 columns</p>\n",
       "</div>"
      ],
      "text/plain": [
       "       HEAD  FPGA  TDC_CHANNEL   ORBIT_CNT  BX_COUNTER  TDC_MEAS\n",
       "0         1     0          123  3869200167        2374        26\n",
       "1         1     0          124  3869200167        2374        27\n",
       "2         1     0           63  3869200167        2553        28\n",
       "3         1     0           64  3869200167        2558        19\n",
       "4         1     0           64  3869200167        2760        25\n",
       "...     ...   ...          ...         ...         ...       ...\n",
       "19995     1     0           27  3869200366        2513        29\n",
       "19996     1     0           63  3869200366        2517         6\n",
       "19997     1     0           32  3869200366        2519         5\n",
       "19998     1     0           17  3869200366        2522        21\n",
       "19999     1     0           64  3869200366        2522         0\n",
       "\n",
       "[20000 rows x 6 columns]"
      ]
     },
     "execution_count": 9,
     "metadata": {},
     "output_type": "execute_result"
    }
   ],
   "source": [
    "N = 20000\n",
    "dataSet = pd.read_csv(filename, sep=\",\", header=0, nrows=N)\n",
    "headers = dataSet.columns\n",
    "dataSet"
   ]
  },
  {
   "cell_type": "markdown",
   "metadata": {},
   "source": [
    "2\\. Estimate the number of BX in a ORBIT (the value `x`).\n",
    "\n",
    "*Hint*: check when the BX counter reaches the maximum value before being reset to 0."
   ]
  },
  {
   "cell_type": "code",
   "execution_count": 10,
   "metadata": {},
   "outputs": [
    {
     "name": "stdout",
     "output_type": "stream",
     "text": [
      "the list of max values of BX_COUNTER for each orbit is:\n",
      "[3187 3538 2766 3377 3542 3521 3247 2989 3542 3489 3244 1370 1953 3545\n",
      " 3376 3513 2310 3483 3339 3475 3011 2214 3390 3529 3481 3562 3493 2576\n",
      " 3563 3516 2094 2631 3540 3426 3550 2966 3528 3436 3526 1746 3563 3384\n",
      " 3489 3249 3563 3528 3510 3563 3403 3555 3084 3477 3480 2703 3186 3387\n",
      " 3547 3351 3309 3558 3189 3542 2056 2750 3461 3537 3511 3451 3530 3492\n",
      " 3362 3359 3148 3492 3240 3141 1741 3541 3038 3563 1081 2287 3529 3408\n",
      " 3546 3458 3327 3505 3538 3256 3031 3457 3059 3376 3332 3183 3422 3067\n",
      " 3484 1859 3490 3458 3550  777 2970 3511 3286 3302 2380 3555 3200 3410\n",
      " 3512 3369 2644 3255 3356 3524 3531 3529 3126 3311 3474 1239 3320 3470\n",
      " 3495 3424 3164 3440 3541 3404 3522 3417 3258 3463 3519 3562 3554 3266\n",
      " 3514 3451 3246 3563 3562 3558 3209 3350 3468 3542 3307 3492 3243 3502\n",
      " 3563 2651 3555 3281 3130 3374 3302 3168 3509 3245 3281 3544 3560 3354\n",
      " 3443 1201 3425 3530 3541 3482 2891 3524 3469 3480 3317 3038 3170 3511\n",
      " 3439 3160 3310 3563 3559 3374 3317 3445 3557 2929 3406 3503 3433 3425\n",
      " 3460 3352 2787 2522]\n",
      "the mean of BX_COUNTER per orbit is: 3242.435\n",
      "and the maximum value is:  3563\n"
     ]
    }
   ],
   "source": [
    "out = dataSet.groupby('ORBIT_CNT')['BX_COUNTER'].max()\n",
    "#out = dataSet['ORBIT_CNT'].value_counts()\n",
    "print(\"the list of max values of BX_COUNTER for each orbit is:\")\n",
    "print(out.values)\n",
    "print(\"the mean of BX_COUNTER per orbit is:\", out.mean())\n",
    "x = out.max()\n",
    "print(\"and the maximum value is: \", x)\n"
   ]
  },
  {
   "cell_type": "markdown",
   "metadata": {},
   "source": [
    "3\\. Create a new column with the absolute time in ns (as a combination of the other three columns with timing information) since the beginning of the data acquisition, and convert the new column to a Time Series.\n",
    "\n",
    "*Hint:* introduce an offset to the absolute time such that the start of the data acquisition (i.e. the first entry) is zero."
   ]
  },
  {
   "cell_type": "code",
   "execution_count": 11,
   "metadata": {},
   "outputs": [
    {
     "data": {
      "text/html": [
       "<div>\n",
       "<style scoped>\n",
       "    .dataframe tbody tr th:only-of-type {\n",
       "        vertical-align: middle;\n",
       "    }\n",
       "\n",
       "    .dataframe tbody tr th {\n",
       "        vertical-align: top;\n",
       "    }\n",
       "\n",
       "    .dataframe thead th {\n",
       "        text-align: right;\n",
       "    }\n",
       "</style>\n",
       "<table border=\"1\" class=\"dataframe\">\n",
       "  <thead>\n",
       "    <tr style=\"text-align: right;\">\n",
       "      <th></th>\n",
       "      <th>HEAD</th>\n",
       "      <th>FPGA</th>\n",
       "      <th>TDC_CHANNEL</th>\n",
       "      <th>ORBIT_CNT</th>\n",
       "      <th>BX_COUNTER</th>\n",
       "      <th>TDC_MEAS</th>\n",
       "      <th>ABS_TIME</th>\n",
       "      <th>ABS_TIME_S</th>\n",
       "    </tr>\n",
       "  </thead>\n",
       "  <tbody>\n",
       "    <tr>\n",
       "      <th>0</th>\n",
       "      <td>1</td>\n",
       "      <td>0</td>\n",
       "      <td>123</td>\n",
       "      <td>3869200167</td>\n",
       "      <td>2374</td>\n",
       "      <td>26</td>\n",
       "      <td>0.000000e+00</td>\n",
       "      <td>1970-01-01 00:00:00.000000000</td>\n",
       "    </tr>\n",
       "    <tr>\n",
       "      <th>1</th>\n",
       "      <td>1</td>\n",
       "      <td>0</td>\n",
       "      <td>124</td>\n",
       "      <td>3869200167</td>\n",
       "      <td>2374</td>\n",
       "      <td>27</td>\n",
       "      <td>8.125000e-01</td>\n",
       "      <td>1970-01-01 00:00:00.000000000</td>\n",
       "    </tr>\n",
       "    <tr>\n",
       "      <th>2</th>\n",
       "      <td>1</td>\n",
       "      <td>0</td>\n",
       "      <td>63</td>\n",
       "      <td>3869200167</td>\n",
       "      <td>2553</td>\n",
       "      <td>28</td>\n",
       "      <td>4.476625e+03</td>\n",
       "      <td>1970-01-01 00:00:00.000004476</td>\n",
       "    </tr>\n",
       "    <tr>\n",
       "      <th>3</th>\n",
       "      <td>1</td>\n",
       "      <td>0</td>\n",
       "      <td>64</td>\n",
       "      <td>3869200167</td>\n",
       "      <td>2558</td>\n",
       "      <td>19</td>\n",
       "      <td>4.594125e+03</td>\n",
       "      <td>1970-01-01 00:00:00.000004594</td>\n",
       "    </tr>\n",
       "    <tr>\n",
       "      <th>4</th>\n",
       "      <td>1</td>\n",
       "      <td>0</td>\n",
       "      <td>64</td>\n",
       "      <td>3869200167</td>\n",
       "      <td>2760</td>\n",
       "      <td>25</td>\n",
       "      <td>9.649125e+03</td>\n",
       "      <td>1970-01-01 00:00:00.000009649</td>\n",
       "    </tr>\n",
       "    <tr>\n",
       "      <th>...</th>\n",
       "      <td>...</td>\n",
       "      <td>...</td>\n",
       "      <td>...</td>\n",
       "      <td>...</td>\n",
       "      <td>...</td>\n",
       "      <td>...</td>\n",
       "      <td>...</td>\n",
       "      <td>...</td>\n",
       "    </tr>\n",
       "    <tr>\n",
       "      <th>19995</th>\n",
       "      <td>1</td>\n",
       "      <td>0</td>\n",
       "      <td>27</td>\n",
       "      <td>3869200366</td>\n",
       "      <td>2513</td>\n",
       "      <td>29</td>\n",
       "      <td>1.773438e+07</td>\n",
       "      <td>1970-01-01 00:00:00.017734377</td>\n",
       "    </tr>\n",
       "    <tr>\n",
       "      <th>19996</th>\n",
       "      <td>1</td>\n",
       "      <td>0</td>\n",
       "      <td>63</td>\n",
       "      <td>3869200366</td>\n",
       "      <td>2517</td>\n",
       "      <td>6</td>\n",
       "      <td>1.773446e+07</td>\n",
       "      <td>1970-01-01 00:00:00.017734458</td>\n",
       "    </tr>\n",
       "    <tr>\n",
       "      <th>19997</th>\n",
       "      <td>1</td>\n",
       "      <td>0</td>\n",
       "      <td>32</td>\n",
       "      <td>3869200366</td>\n",
       "      <td>2519</td>\n",
       "      <td>5</td>\n",
       "      <td>1.773451e+07</td>\n",
       "      <td>1970-01-01 00:00:00.017734507</td>\n",
       "    </tr>\n",
       "    <tr>\n",
       "      <th>19998</th>\n",
       "      <td>1</td>\n",
       "      <td>0</td>\n",
       "      <td>17</td>\n",
       "      <td>3869200366</td>\n",
       "      <td>2522</td>\n",
       "      <td>21</td>\n",
       "      <td>1.773460e+07</td>\n",
       "      <td>1970-01-01 00:00:00.017734595</td>\n",
       "    </tr>\n",
       "    <tr>\n",
       "      <th>19999</th>\n",
       "      <td>1</td>\n",
       "      <td>0</td>\n",
       "      <td>64</td>\n",
       "      <td>3869200366</td>\n",
       "      <td>2522</td>\n",
       "      <td>0</td>\n",
       "      <td>1.773458e+07</td>\n",
       "      <td>1970-01-01 00:00:00.017734578</td>\n",
       "    </tr>\n",
       "  </tbody>\n",
       "</table>\n",
       "<p>20000 rows × 8 columns</p>\n",
       "</div>"
      ],
      "text/plain": [
       "       HEAD  FPGA  TDC_CHANNEL   ORBIT_CNT  BX_COUNTER  TDC_MEAS  \\\n",
       "0         1     0          123  3869200167        2374        26   \n",
       "1         1     0          124  3869200167        2374        27   \n",
       "2         1     0           63  3869200167        2553        28   \n",
       "3         1     0           64  3869200167        2558        19   \n",
       "4         1     0           64  3869200167        2760        25   \n",
       "...     ...   ...          ...         ...         ...       ...   \n",
       "19995     1     0           27  3869200366        2513        29   \n",
       "19996     1     0           63  3869200366        2517         6   \n",
       "19997     1     0           32  3869200366        2519         5   \n",
       "19998     1     0           17  3869200366        2522        21   \n",
       "19999     1     0           64  3869200366        2522         0   \n",
       "\n",
       "           ABS_TIME                    ABS_TIME_S  \n",
       "0      0.000000e+00 1970-01-01 00:00:00.000000000  \n",
       "1      8.125000e-01 1970-01-01 00:00:00.000000000  \n",
       "2      4.476625e+03 1970-01-01 00:00:00.000004476  \n",
       "3      4.594125e+03 1970-01-01 00:00:00.000004594  \n",
       "4      9.649125e+03 1970-01-01 00:00:00.000009649  \n",
       "...             ...                           ...  \n",
       "19995  1.773438e+07 1970-01-01 00:00:00.017734377  \n",
       "19996  1.773446e+07 1970-01-01 00:00:00.017734458  \n",
       "19997  1.773451e+07 1970-01-01 00:00:00.017734507  \n",
       "19998  1.773460e+07 1970-01-01 00:00:00.017734595  \n",
       "19999  1.773458e+07 1970-01-01 00:00:00.017734578  \n",
       "\n",
       "[20000 rows x 8 columns]"
      ]
     },
     "execution_count": 11,
     "metadata": {},
     "output_type": "execute_result"
    }
   ],
   "source": [
    "def getTimeNS(orbit, bx, tdc):\n",
    "    return orbit*3564*25+bx*25+tdc*25/30\n",
    "\n",
    "# calculate the first time entry so that we start at time zero\n",
    "startTime = getTimeNS(dataSet.loc[0,'ORBIT_CNT'], dataSet.loc[0,'BX_COUNTER'], dataSet.loc[0, 'TDC_MEAS'])\n",
    "# startTime = 0 # remove this comment to remove the offset\n",
    "\n",
    "# print(startTime)\n",
    "dataSet['ABS_TIME'] = getTimeNS(dataSet['ORBIT_CNT'], dataSet['BX_COUNTER'], dataSet['TDC_MEAS'])-startTime\n",
    "dataSet['ABS_TIME_S'] = pd.to_datetime(dataSet['ABS_TIME'])\n",
    "dataSet\n"
   ]
  },
  {
   "cell_type": "markdown",
   "metadata": {},
   "source": [
    "4\\. Find out the duration of the data taking in hours, minutes and seconds, by using the features of the Time Series. Perform this check reading the whole dataset."
   ]
  },
  {
   "cell_type": "code",
   "execution_count": 12,
   "metadata": {},
   "outputs": [
    {
     "name": "stdout",
     "output_type": "stream",
     "text": [
      "the time elapsed during the data collection process is\n",
      "0 days 00:00:00.980416093\n"
     ]
    }
   ],
   "source": [
    "# we want the time regarding the whole csv dataset, so we read its last row\n",
    "wholeSetLen = len(pd.read_csv(\"data/data_000637.txt\"))\n",
    "lastRow = pd.read_csv(filename, sep=\",\", names=headers, skiprows=wholeSetLen)\n",
    "# compute the absolute time of the last measurement\n",
    "lastMeasurementTime = getTimeNS(lastRow['ORBIT_CNT'], lastRow['BX_COUNTER'], lastRow['TDC_MEAS'])\n",
    "\n",
    "# and subtract the starting time of the csv file\n",
    "print(\"the time elapsed during the data collection process is\")\n",
    "print(pd.Timedelta(((lastMeasurementTime) - startTime).values[0]))"
   ]
  },
  {
   "cell_type": "markdown",
   "metadata": {},
   "source": [
    "5\\. Use the `.groupby()` method to find out the noisy channels, i.e. the TDC channels with most counts (print to screen the top 3 and the corresponding counts)"
   ]
  },
  {
   "cell_type": "code",
   "execution_count": 13,
   "metadata": {},
   "outputs": [
    {
     "data": {
      "text/plain": [
       "TDC_CHANNEL\n",
       "139    1693\n",
       "64      996\n",
       "63      969\n",
       "dtype: int64"
      ]
     },
     "execution_count": 13,
     "metadata": {},
     "output_type": "execute_result"
    }
   ],
   "source": [
    "noisyChannels = dataSet.groupby('TDC_CHANNEL').size().sort_values(ascending=False)\n",
    "noisyChannels.iloc[:3]"
   ]
  },
  {
   "cell_type": "markdown",
   "metadata": {},
   "source": [
    "6\\. Count the number of non-empty orbits (i.e. the number of orbits with at least one hit)."
   ]
  },
  {
   "cell_type": "code",
   "execution_count": 14,
   "metadata": {},
   "outputs": [
    {
     "name": "stdout",
     "output_type": "stream",
     "text": [
      "200\n"
     ]
    }
   ],
   "source": [
    "orbitsCount = dataSet.groupby('ORBIT_CNT')\n",
    "print(len(orbitsCount))"
   ]
  },
  {
   "cell_type": "markdown",
   "metadata": {},
   "source": [
    "7\\. Count the number of unique orbits with at least one measurement from TDC_CHANNEL=139."
   ]
  },
  {
   "cell_type": "code",
   "execution_count": 17,
   "metadata": {},
   "outputs": [
    {
     "name": "stdout",
     "output_type": "stream",
     "text": [
      "200\n"
     ]
    }
   ],
   "source": [
    "orbits139 = dataSet.groupby('TDC_CHANNEL')['ORBIT_CNT'].unique()[139]\n",
    "print(len(orbits139))"
   ]
  },
  {
   "cell_type": "markdown",
   "metadata": {},
   "source": [
    "8\\. Create two Series (one for each FPGA) that have the TDC channel as index, and the number of counts for the corresponding TDC channel as values."
   ]
  },
  {
   "cell_type": "code",
   "execution_count": 19,
   "metadata": {},
   "outputs": [
    {
     "name": "stdout",
     "output_type": "stream",
     "text": [
      "regarding the fpga0, we have:\n",
      "TDC_CHANNEL\n",
      "1        13\n",
      "2        23\n",
      "3        17\n",
      "4        22\n",
      "5        29\n",
      "       ... \n",
      "121      98\n",
      "122      94\n",
      "123     280\n",
      "124     258\n",
      "139    1171\n",
      "Length: 118, dtype: int64\n",
      "\n",
      "regarding the fpga1, we have:\n",
      "TDC_CHANNEL\n",
      "1      435\n",
      "2      479\n",
      "3      362\n",
      "4      393\n",
      "5      246\n",
      "      ... \n",
      "125      7\n",
      "126      9\n",
      "127     21\n",
      "128     25\n",
      "139    522\n",
      "Length: 125, dtype: int64\n"
     ]
    }
   ],
   "source": [
    "# dividing the data of FPGA0 and FPGA1\n",
    "mask_fpga0 = dataSet[dataSet['FPGA'] == 0]\n",
    "mask_fpga1 = dataSet[dataSet['FPGA'] == 1]\n",
    "\n",
    "# counting the hits\n",
    "print(\"regarding the fpga0, we have:\")\n",
    "print(mask_fpga0.groupby('TDC_CHANNEL').size())\n",
    "# print(type(mask_fpga0))\n",
    "print()\n",
    "print(\"regarding the fpga1, we have:\")\n",
    "print(mask_fpga1.groupby('TDC_CHANNEL').size())\n",
    "# print(type(mask_fpga1))\n",
    "\n"
   ]
  },
  {
   "cell_type": "markdown",
   "metadata": {},
   "source": [
    "9\\. **Optional:** Create two histograms (one for each FPGA) that show the number of counts for each TDC channel."
   ]
  },
  {
   "cell_type": "code",
   "execution_count": 22,
   "metadata": {
    "scrolled": false
   },
   "outputs": [
    {
     "data": {
      "image/png": "[encoded data removed]",
      "text/plain": [
       "<Figure size 640x480 with 1 Axes>"
      ]
     },
     "metadata": {},
     "output_type": "display_data"
    },
    {
     "data": {
      "image/png": "[encoded data removed]",
      "text/plain": [
       "<Figure size 640x480 with 1 Axes>"
      ]
     },
     "metadata": {},
     "output_type": "display_data"
    }
   ],
   "source": [
    "hist0 = mask_fpga0.hist(column = 'TDC_CHANNEL')\n",
    "plt.title('FPGA0')\n",
    "plt.xlabel('TDC_CHANNEL')\n",
    "plt.ylabel('count')\n",
    "hist1 = mask_fpga1.hist(column = 'TDC_CHANNEL')\n",
    "plt.title('FPGA1')\n",
    "plt.xlabel('TDC_CHANNEL')\n",
    "plt.ylabel('count')\n",
    "plt.show()"
   ]
  },
  {
   "cell_type": "code",
   "execution_count": null,
   "metadata": {},
   "outputs": [],
   "source": []
  }
 ],
 "metadata": {
  "kernelspec": {
   "display_name": "Python 3 (ipykernel)",
   "language": "python",
   "name": "python3"
  },
  "language_info": {
   "codemirror_mode": {
    "name": "ipython",
    "version": 3
   },
   "file_extension": ".py",
   "mimetype": "text/x-python",
   "name": "python",
   "nbconvert_exporter": "python",
   "pygments_lexer": "ipython3",
   "version": "3.11.5"
  }
 },
 "nbformat": 4,
 "nbformat_minor": 2
}
