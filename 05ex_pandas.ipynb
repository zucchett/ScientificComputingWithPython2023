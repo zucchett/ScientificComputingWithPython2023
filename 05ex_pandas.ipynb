{
 "cells": [
  {
   "cell_type": "markdown",
   "metadata": {},
   "source": [
    "1\\. **Pandas DataFrame**\n",
    "\n",
    "This exercise consists in analyzing a dataset containg timing information from a series of Time-to-Digital-Converters (TDC) implemented in a pair of FPGAs. Each measurement (i.e. each row of the input file) consists of a flag that specifies the type of message ('HEAD', which in this case is always 1), two addresses of the TDC providing the signal ('FPGA' and 'TDC_CHANNEL'), and the timing information ('ORBIT_CNT', 'BX_COUNTER', and 'TDC_MEAS'). Each TDC count corresponds to 25/30 ns, whereas a unit of BX_COUNTER corresponds to 25 ns, and the ORBIT_CNT is increased every `x` BX_COUNTER. This allows to store the time in a similar way to hours, minutes and seconds."
   ]
  },
  {
   "cell_type": "code",
   "execution_count": 19,
   "metadata": {},
   "outputs": [],
   "source": [
    "import pandas as pd\n",
    "import numpy as np"
   ]
  },
  {
   "cell_type": "code",
   "execution_count": 20,
   "metadata": {},
   "outputs": [],
   "source": [
    "# If haven't downloaded it yet, please get the data file with wget\n",
    "#!wget https://www.dropbox.com/s/xvjzaxzz3ysphme/data_000637.txt -P ./data/"
   ]
  },
  {
   "cell_type": "markdown",
   "metadata": {},
   "source": [
    "data_000637.txt1\\. Create a Pandas DataFrame reading N rows of the `data/data_000637.txt` dataset. Choose N to be smaller than or equal to the maximum number of rows and larger that 10k (check the documentation)."
   ]
  },
  {
   "cell_type": "code",
   "execution_count": 34,
   "metadata": {},
   "outputs": [
    {
     "name": "stdout",
     "output_type": "stream",
     "text": [
      "       HEAD  FPGA  TDC_CHANNEL   ORBIT_CNT  BX_COUNTER  TDC_MEAS\n",
      "0         1     0          123  3869200167        2374        26\n",
      "1         1     0          124  3869200167        2374        27\n",
      "2         1     0           63  3869200167        2553        28\n",
      "3         1     0           64  3869200167        2558        19\n",
      "4         1     0           64  3869200167        2760        25\n",
      "...     ...   ...          ...         ...         ...       ...\n",
      "14995     1     1            4  3869200316        3399         9\n",
      "14996     1     1           17  3869200316        3400        15\n",
      "14997     1     1           10  3869200316        3530        16\n",
      "14998     1     1            8  3869200316        3533        18\n",
      "14999     1     0          139  3869200316        3539         0\n",
      "\n",
      "[15000 rows x 6 columns]\n"
     ]
    }
   ],
   "source": [
    "\n",
    "def load(N):\n",
    "    dataset = pd.read_csv(\"C:/Users/User/desktop/data_000637.txt\", nrows=N ,delimiter=',')\n",
    "    \n",
    "    return dataset\n",
    "    \n",
    "\n",
    "df=load(15000)\n",
    "print(df)\n",
    "\n",
    "\n"
   ]
  },
  {
   "cell_type": "markdown",
   "metadata": {},
   "source": [
    "2\\. Estimate the number of BX in a ORBIT (the value `x`).\n",
    "\n",
    "*Hint*: check when the BX counter reaches the maximum value before being reset to 0."
   ]
  },
  {
   "cell_type": "code",
   "execution_count": 38,
   "metadata": {},
   "outputs": [
    {
     "name": "stdout",
     "output_type": "stream",
     "text": [
      "Estimated number of BX_COUNTER occurrences in one orbit: 9\n"
     ]
    }
   ],
   "source": [
    "\n",
    "\n",
    "# Find the indices where BX reaches its maximum value before being reset\n",
    "max_indices = df[df['BX_COUNTER'] == df['BX_COUNTER'].max()].index\n",
    "\n",
    "# Calculate the differences between consecutive maximum indices\n",
    "orbit_lengths = [max_indices[i + 1] - max_indices[i] for i in range(len(max_indices) - 1)]\n",
    "\n",
    "# Estimate the number of occurrences of BX in one orbit\n",
    "estimated_orbits = len(orbit_lengths) + 1  # Add 1 because the last orbit doesn't have a subsequent maximum\n",
    "\n",
    "# Print the result\n",
    "print(f\"Estimated number of BX_COUNTER occurrences in one orbit: {estimated_orbits}\")\n"
   ]
  },
  {
   "cell_type": "markdown",
   "metadata": {},
   "source": [
    "3\\. Create a new column with the absolute time in ns (as a combination of the other three columns with timing information) since the beginning of the data acquisition, and convert the new column to a Time Series.\n",
    "\n",
    "*Hint:* introduce an offset to the absolute time such that the start of the data acquisition (i.e. the first entry) is zero."
   ]
  },
  {
   "cell_type": "code",
   "execution_count": 39,
   "metadata": {},
   "outputs": [
    {
     "name": "stdout",
     "output_type": "stream",
     "text": [
      "        ORBIT_CNT  BX_COUNTER  TDC_MEAS              absolute_time_ns\n",
      "0      3869200167        2374        26 1970-01-01 00:00:00.008346898\n",
      "1      3869200167        2374        27 1970-01-01 00:00:00.008346899\n",
      "2      3869200167        2553        28 1970-01-01 00:00:00.008984856\n",
      "3      3869200167        2558        19 1970-01-01 00:00:00.009002667\n",
      "4      3869200167        2760        25 1970-01-01 00:00:00.009722601\n",
      "...           ...         ...       ...                           ...\n",
      "14995  3869200316        3399         9 1970-01-01 00:00:00.025275881\n",
      "14996  3869200316        3400        15 1970-01-01 00:00:00.025279451\n",
      "14997  3869200316        3530        16 1970-01-01 00:00:00.025742772\n",
      "14998  3869200316        3533        18 1970-01-01 00:00:00.025753466\n",
      "14999  3869200316        3539         0 1970-01-01 00:00:00.025774832\n",
      "\n",
      "[15000 rows x 4 columns]\n"
     ]
    }
   ],
   "source": [
    "\n",
    "# Combine columns 'ORBIT_CNT', 'BX_COUNTER', and 'TDC_MEAS' to create absolute time in ns\n",
    "df['absolute_time_ns'] = (df['ORBIT_CNT'] * 25 * 3564) + (df['BX_COUNTER'] * 3564) + df['TDC_MEAS']\n",
    "\n",
    "# Find the start time (minimum absolute time) and use it as an offset\n",
    "start_time_offset = df['absolute_time_ns'].min()\n",
    "\n",
    "# Subtract the start time offset to create an absolute time series with an offset\n",
    "df['absolute_time_ns'] -= start_time_offset\n",
    "\n",
    "# Convert the 'absolute_time_ns' column to a Time Series\n",
    "df['absolute_time_ns'] = pd.to_datetime(df['absolute_time_ns'], unit='ns')\n",
    "\n",
    "# Print the DataFrame with the new 'absolute_time_ns' column\n",
    "print(df[['ORBIT_CNT', 'BX_COUNTER', 'TDC_MEAS', 'absolute_time_ns']])\n"
   ]
  },
  {
   "cell_type": "markdown",
   "metadata": {},
   "source": [
    "4\\. Find out the duration of the data taking in hours, minutes and seconds, by using the features of the Time Series. Perform this check reading the whole dataset."
   ]
  },
  {
   "cell_type": "code",
   "execution_count": 40,
   "metadata": {},
   "outputs": [
    {
     "name": "stdout",
     "output_type": "stream",
     "text": [
      "Start Time: 1970-01-01 00:00:00\n",
      "End Time: 1970-01-01 00:00:00.025774832\n",
      "Duration: 0 days 00:00:00.025774832\n",
      "Duration in Hours: 7.1594444444444436e-06 hours\n",
      "Duration in Minutes: 0.00042956666666666663 minutes\n",
      "Duration in Seconds: 0.025774 seconds\n"
     ]
    }
   ],
   "source": [
    "# Find the start and end times\n",
    "start_time = df['absolute_time_ns'].min()\n",
    "end_time = df['absolute_time_ns'].max()\n",
    "# Calculate the duration\n",
    "duration = end_time - start_time\n",
    "\n",
    "# Convert the duration to hours, minutes, and seconds\n",
    "duration_hours = duration.total_seconds() / 3600\n",
    "duration_minutes = duration.total_seconds() / 60\n",
    "duration_seconds = duration.total_seconds()\n",
    "# Print the results\n",
    "print(f\"Start Time: {start_time}\")\n",
    "print(f\"End Time: {end_time}\")\n",
    "print(f\"Duration: {duration}\")\n",
    "print(f\"Duration in Hours: {duration_hours} hours\")\n",
    "print(f\"Duration in Minutes: {duration_minutes} minutes\")\n",
    "print(f\"Duration in Seconds: {duration_seconds} seconds\")"
   ]
  },
  {
   "cell_type": "markdown",
   "metadata": {},
   "source": [
    "5\\. Use the `.groupby()` method to find out the noisy channels, i.e. the TDC channels with most counts (print to screen the top 3 and the corresponding counts)"
   ]
  },
  {
   "cell_type": "code",
   "execution_count": 43,
   "metadata": {},
   "outputs": [
    {
     "name": "stdout",
     "output_type": "stream",
     "text": [
      "Top 3 Noisy Channels:\n",
      "TDC_CHANNEL\n",
      "139    1268\n",
      "64      752\n",
      "63      749\n",
      "61      571\n",
      "62      542\n",
      "       ... \n",
      "107       6\n",
      "106       6\n",
      "55        6\n",
      "125       6\n",
      "67        5\n",
      "Length: 129, dtype: int64\n"
     ]
    }
   ],
   "source": [
    "noisy_channel_counts = df.groupby('TDC_CHANNEL').size().sort_values(ascending=False)\n",
    "top_noisy_channels = noisy_channel_counts.head(3)\n",
    "\n",
    "print(\"Top 3 Noisy Channels:\")\n",
    "print(noisy_channel_counts)"
   ]
  },
  {
   "cell_type": "markdown",
   "metadata": {},
   "source": [
    "6\\. Count the number of non-empty orbits (i.e. the number of orbits with at least one hit)."
   ]
  },
  {
   "cell_type": "code",
   "execution_count": 44,
   "metadata": {},
   "outputs": [
    {
     "name": "stdout",
     "output_type": "stream",
     "text": [
      "Number of Empty Hits in Each Column:\n",
      "HEAD                0\n",
      "FPGA                0\n",
      "TDC_CHANNEL         0\n",
      "ORBIT_CNT           0\n",
      "BX_COUNTER          0\n",
      "TDC_MEAS            0\n",
      "absolute_time_ns    0\n",
      "dtype: int64\n"
     ]
    }
   ],
   "source": [
    "# Count the number of empty values in each column\n",
    "empty_counts = df.isna().sum()\n",
    "\n",
    "# Print the result\n",
    "print(\"Number of Empty Hits in Each Column:\")\n",
    "print(empty_counts)"
   ]
  },
  {
   "cell_type": "markdown",
   "metadata": {},
   "source": [
    "7\\. Count the number of unique orbits with at least one measurement from TDC_CHANNEL=139."
   ]
  },
  {
   "cell_type": "code",
   "execution_count": 46,
   "metadata": {},
   "outputs": [
    {
     "name": "stdout",
     "output_type": "stream",
     "text": [
      "Number of Unique Orbits with at Least One Measurement from TDC_CHANNEL=139: 150\n"
     ]
    }
   ],
   "source": [
    "unique_orbits_with_measurement = df[df['TDC_CHANNEL'] == 139].groupby('ORBIT_CNT')['TDC_CHANNEL'].nunique()\n",
    "# Count the total number of unique orbits\n",
    "count_unique_orbits = len(unique_orbits_with_measurement)\n",
    "\n",
    "# Print the result\n",
    "print(\"Number of Unique Orbits with at Least One Measurement from TDC_CHANNEL=139:\", count_unique_orbits)"
   ]
  },
  {
   "cell_type": "markdown",
   "metadata": {},
   "source": [
    "8\\. Create two Series (one for each FPGA) that have the TDC channel as index, and the number of counts for the corresponding TDC channel as values."
   ]
  },
  {
   "cell_type": "code",
   "execution_count": 47,
   "metadata": {},
   "outputs": [
    {
     "name": "stdout",
     "output_type": "stream",
     "text": [
      "FPGA 0 Counts:\n",
      "TDC_CHANNEL\n",
      "1        8\n",
      "2       16\n",
      "3       16\n",
      "4       19\n",
      "5       19\n",
      "      ... \n",
      "121     63\n",
      "122     71\n",
      "123    202\n",
      "124    193\n",
      "139    879\n",
      "Length: 117, dtype: int64\n",
      "\n",
      "FPGA 1 Counts:\n",
      "TDC_CHANNEL\n",
      "1      338\n",
      "2      363\n",
      "3      277\n",
      "4      290\n",
      "5      189\n",
      "      ... \n",
      "125      6\n",
      "126      7\n",
      "127     16\n",
      "128     18\n",
      "139    389\n",
      "Length: 124, dtype: int64\n"
     ]
    }
   ],
   "source": [
    "\n",
    "# Group by 'FPGA' and 'TDC_CHANNEL', count occurrences, and create two Series\n",
    "channel_counts_by_fpga = df.groupby(['FPGA', 'TDC_CHANNEL']).size()\n",
    "\n",
    "# Extract counts for each FPGA\n",
    "fpga_0_counts = channel_counts_by_fpga.loc[0] if 0 in channel_counts_by_fpga.index.levels[0] else pd.Series()\n",
    "fpga_1_counts = channel_counts_by_fpga.loc[1] if 1 in channel_counts_by_fpga.index.levels[0] else pd.Series()\n",
    "\n",
    "# Print the results\n",
    "print(\"FPGA 0 Counts:\")\n",
    "print(fpga_0_counts)\n",
    "\n",
    "print(\"\\nFPGA 1 Counts:\")\n",
    "print(fpga_1_counts)\n"
   ]
  },
  {
   "cell_type": "markdown",
   "metadata": {},
   "source": [
    "9\\. **Optional:** Create two histograms (one for each FPGA) that show the number of counts for each TDC channel."
   ]
  },
  {
   "cell_type": "code",
   "execution_count": null,
   "metadata": {},
   "outputs": [],
   "source": []
  }
 ],
 "metadata": {
  "kernelspec": {
   "display_name": "Python 3 (ipykernel)",
   "language": "python",
   "name": "python3"
  },
  "language_info": {
   "codemirror_mode": {
    "name": "ipython",
    "version": 3
   },
   "file_extension": ".py",
   "mimetype": "text/x-python",
   "name": "python",
   "nbconvert_exporter": "python",
   "pygments_lexer": "ipython3",
   "version": "3.9.13"
  }
 },
 "nbformat": 4,
 "nbformat_minor": 4
}
