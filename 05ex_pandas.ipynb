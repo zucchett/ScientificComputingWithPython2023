{
 "cells": [
  {
   "cell_type": "markdown",
   "metadata": {},
   "source": [
    "1\\. **Pandas DataFrame**\n",
    "\n",
    "This exercise consists in analyzing a dataset containg timing information from a series of Time-to-Digital-Converters (TDC) implemented in a pair of FPGAs. Each measurement (i.e. each row of the input file) consists of a flag that specifies the type of message ('HEAD', which in this case is always 1), two addresses of the TDC providing the signal ('FPGA' and 'TDC_CHANNEL'), and the timing information ('ORBIT_CNT', 'BX_COUNTER', and 'TDC_MEAS'). Each TDC count corresponds to 25/30 ns, whereas a unit of BX_COUNTER corresponds to 25 ns, and the ORBIT_CNT is increased every `x` BX_COUNTER. This allows to store the time in a similar way to hours, minutes and seconds."
   ]
  },
  {
   "cell_type": "code",
   "execution_count": 1,
   "metadata": {},
   "outputs": [],
   "source": [
    "# If haven't downloaded it yet, please get the data file with wget\n",
    "#!wget https://www.dropbox.com/s/xvjzaxzz3ysphme/data_000637.txt -P ./data/"
   ]
  },
  {
   "cell_type": "markdown",
   "metadata": {},
   "source": [
    "1\\. Create a Pandas DataFrame reading N rows of the `data/data_000637.txt` dataset. Choose N to be smaller than or equal to the maximum number of rows and larger that 10k (check the documentation)."
   ]
  },
  {
   "cell_type": "code",
   "execution_count": 2,
   "metadata": {},
   "outputs": [
    {
     "data": {
      "text/html": [
       "<div>\n",
       "<style scoped>\n",
       "    .dataframe tbody tr th:only-of-type {\n",
       "        vertical-align: middle;\n",
       "    }\n",
       "\n",
       "    .dataframe tbody tr th {\n",
       "        vertical-align: top;\n",
       "    }\n",
       "\n",
       "    .dataframe thead th {\n",
       "        text-align: right;\n",
       "    }\n",
       "</style>\n",
       "<table border=\"1\" class=\"dataframe\">\n",
       "  <thead>\n",
       "    <tr style=\"text-align: right;\">\n",
       "      <th></th>\n",
       "      <th>HEAD</th>\n",
       "      <th>FPGA</th>\n",
       "      <th>TDC_CHANNEL</th>\n",
       "      <th>ORBIT_CNT</th>\n",
       "      <th>BX_COUNTER</th>\n",
       "      <th>TDC_MEAS</th>\n",
       "    </tr>\n",
       "  </thead>\n",
       "  <tbody>\n",
       "    <tr>\n",
       "      <th>0</th>\n",
       "      <td>1</td>\n",
       "      <td>0</td>\n",
       "      <td>123</td>\n",
       "      <td>3869200167</td>\n",
       "      <td>2374</td>\n",
       "      <td>26</td>\n",
       "    </tr>\n",
       "    <tr>\n",
       "      <th>1</th>\n",
       "      <td>1</td>\n",
       "      <td>0</td>\n",
       "      <td>124</td>\n",
       "      <td>3869200167</td>\n",
       "      <td>2374</td>\n",
       "      <td>27</td>\n",
       "    </tr>\n",
       "    <tr>\n",
       "      <th>2</th>\n",
       "      <td>1</td>\n",
       "      <td>0</td>\n",
       "      <td>63</td>\n",
       "      <td>3869200167</td>\n",
       "      <td>2553</td>\n",
       "      <td>28</td>\n",
       "    </tr>\n",
       "    <tr>\n",
       "      <th>3</th>\n",
       "      <td>1</td>\n",
       "      <td>0</td>\n",
       "      <td>64</td>\n",
       "      <td>3869200167</td>\n",
       "      <td>2558</td>\n",
       "      <td>19</td>\n",
       "    </tr>\n",
       "    <tr>\n",
       "      <th>4</th>\n",
       "      <td>1</td>\n",
       "      <td>0</td>\n",
       "      <td>64</td>\n",
       "      <td>3869200167</td>\n",
       "      <td>2760</td>\n",
       "      <td>25</td>\n",
       "    </tr>\n",
       "    <tr>\n",
       "      <th>...</th>\n",
       "      <td>...</td>\n",
       "      <td>...</td>\n",
       "      <td>...</td>\n",
       "      <td>...</td>\n",
       "      <td>...</td>\n",
       "      <td>...</td>\n",
       "    </tr>\n",
       "    <tr>\n",
       "      <th>999995</th>\n",
       "      <td>1</td>\n",
       "      <td>0</td>\n",
       "      <td>62</td>\n",
       "      <td>3869209011</td>\n",
       "      <td>2560</td>\n",
       "      <td>29</td>\n",
       "    </tr>\n",
       "    <tr>\n",
       "      <th>999996</th>\n",
       "      <td>1</td>\n",
       "      <td>0</td>\n",
       "      <td>51</td>\n",
       "      <td>3869209011</td>\n",
       "      <td>2561</td>\n",
       "      <td>12</td>\n",
       "    </tr>\n",
       "    <tr>\n",
       "      <th>999997</th>\n",
       "      <td>1</td>\n",
       "      <td>0</td>\n",
       "      <td>61</td>\n",
       "      <td>3869209011</td>\n",
       "      <td>2562</td>\n",
       "      <td>2</td>\n",
       "    </tr>\n",
       "    <tr>\n",
       "      <th>999998</th>\n",
       "      <td>1</td>\n",
       "      <td>0</td>\n",
       "      <td>50</td>\n",
       "      <td>3869209011</td>\n",
       "      <td>2563</td>\n",
       "      <td>4</td>\n",
       "    </tr>\n",
       "    <tr>\n",
       "      <th>999999</th>\n",
       "      <td>1</td>\n",
       "      <td>0</td>\n",
       "      <td>60</td>\n",
       "      <td>3869209011</td>\n",
       "      <td>2688</td>\n",
       "      <td>25</td>\n",
       "    </tr>\n",
       "  </tbody>\n",
       "</table>\n",
       "<p>1000000 rows × 6 columns</p>\n",
       "</div>"
      ],
      "text/plain": [
       "        HEAD  FPGA  TDC_CHANNEL   ORBIT_CNT  BX_COUNTER  TDC_MEAS\n",
       "0          1     0          123  3869200167        2374        26\n",
       "1          1     0          124  3869200167        2374        27\n",
       "2          1     0           63  3869200167        2553        28\n",
       "3          1     0           64  3869200167        2558        19\n",
       "4          1     0           64  3869200167        2760        25\n",
       "...      ...   ...          ...         ...         ...       ...\n",
       "999995     1     0           62  3869209011        2560        29\n",
       "999996     1     0           51  3869209011        2561        12\n",
       "999997     1     0           61  3869209011        2562         2\n",
       "999998     1     0           50  3869209011        2563         4\n",
       "999999     1     0           60  3869209011        2688        25\n",
       "\n",
       "[1000000 rows x 6 columns]"
      ]
     },
     "execution_count": 2,
     "metadata": {},
     "output_type": "execute_result"
    }
   ],
   "source": [
    "import pandas as pd\n",
    "\n",
    "N = 1000000\n",
    "filepath = './data/data_000637.txt'\n",
    "\n",
    "df = pd.read_csv(filepath, sep=',', header=0, nrows=N)\n",
    "df"
   ]
  },
  {
   "cell_type": "markdown",
   "metadata": {},
   "source": [
    "2\\. Estimate the number of BX in a ORBIT (the value `x`).\n",
    "\n",
    "*Hint*: check when the BX counter reaches the maximum value before being reset to 0."
   ]
  },
  {
   "cell_type": "code",
   "execution_count": 3,
   "metadata": {},
   "outputs": [
    {
     "name": "stdout",
     "output_type": "stream",
     "text": [
      "The estimated value of x (number of BX in an ORBIT) is: 3561.0\n"
     ]
    }
   ],
   "source": [
    "max_bx_counter = df['BX_COUNTER'].max()\n",
    "reset_rows = df[df['BX_COUNTER'] < df['BX_COUNTER'].shift(1)]\n",
    "reset_diff = reset_rows['BX_COUNTER'].diff().max()\n",
    "x = reset_diff\n",
    "print(\"The estimated value of x (number of BX in an ORBIT) is:\", x)"
   ]
  },
  {
   "cell_type": "markdown",
   "metadata": {},
   "source": [
    "3\\. Create a new column with the absolute time in ns (as a combination of the other three columns with timing information) since the beginning of the data acquisition, and convert the new column to a Time Series.\n",
    "\n",
    "*Hint:* introduce an offset to the absolute time such that the start of the data acquisition (i.e. the first entry) is zero."
   ]
  },
  {
   "cell_type": "code",
   "execution_count": 4,
   "metadata": {},
   "outputs": [
    {
     "name": "stdout",
     "output_type": "stream",
     "text": [
      "         ORBIT_CNT  BX_COUNTER  TDC_MEAS  absolute_time_ns  \\\n",
      "0       3869200167        2374        26      0.000000e+00   \n",
      "1       3869200167        2374        27      1.000000e+00   \n",
      "2       3869200167        2553        28      4.476000e+03   \n",
      "3       3869200167        2558        19      4.594000e+03   \n",
      "4       3869200167        2760        25      9.649000e+03   \n",
      "...            ...         ...       ...               ...   \n",
      "999995  3869209011        2560        29      1.968343e+10   \n",
      "999996  3869209011        2561        12      1.968343e+10   \n",
      "999997  3869209011        2562         2      1.968343e+10   \n",
      "999998  3869209011        2563         4      1.968343e+10   \n",
      "999999  3869209011        2688        25      1.968344e+10   \n",
      "\n",
      "                       absolute_time  \n",
      "0      1970-01-01 00:00:00.000000000  \n",
      "1      1970-01-01 00:00:00.000000001  \n",
      "2      1970-01-01 00:00:00.000004476  \n",
      "3      1970-01-01 00:00:00.000004594  \n",
      "4      1970-01-01 00:00:00.000009649  \n",
      "...                              ...  \n",
      "999995 1970-01-01 00:00:19.683432152  \n",
      "999996 1970-01-01 00:00:19.683432163  \n",
      "999997 1970-01-01 00:00:19.683432180  \n",
      "999998 1970-01-01 00:00:19.683432206  \n",
      "999999 1970-01-01 00:00:19.683435349  \n",
      "\n",
      "[1000000 rows x 5 columns]\n"
     ]
    }
   ],
   "source": [
    "tdc_ns = 25 / 30\n",
    "bx_ns = 25       \n",
    "\n",
    "# Calculate absolute time in ns\n",
    "df['absolute_time_ns'] = (\n",
    "    (df['ORBIT_CNT'] * 25 * x + df['BX_COUNTER']) * bx_ns +\n",
    "    df['TDC_MEAS'] * tdc_ns\n",
    ")\n",
    "\n",
    "start_time = df['absolute_time_ns'].min()\n",
    "df['absolute_time_ns'] -= start_time\n",
    "\n",
    "# Convert the new column to a Time Series\n",
    "df['absolute_time'] = pd.to_datetime(df['absolute_time_ns'], unit='ns')\n",
    "\n",
    "print(df[['ORBIT_CNT', 'BX_COUNTER', 'TDC_MEAS', 'absolute_time_ns', 'absolute_time']])"
   ]
  },
  {
   "cell_type": "markdown",
   "metadata": {},
   "source": [
    "4\\. Find out the duration of the data taking in hours, minutes and seconds, by using the features of the Time Series. Perform this check reading the whole dataset."
   ]
  },
  {
   "cell_type": "code",
   "execution_count": 5,
   "metadata": {},
   "outputs": [
    {
     "name": "stdout",
     "output_type": "stream",
     "text": [
      "Duration: 0 hours, 0 minutes, 19 seconds\n"
     ]
    }
   ],
   "source": [
    "start_time = df['absolute_time'].min()\n",
    "end_time = df['absolute_time'].max()\n",
    "\n",
    "duration = end_time - start_time\n",
    "\n",
    "hours, remainder = divmod(duration.total_seconds(), 3600)\n",
    "minutes, seconds = divmod(remainder, 60)\n",
    "\n",
    "print(f\"Duration: {int(hours)} hours, {int(minutes)} minutes, {int(seconds)} seconds\")"
   ]
  },
  {
   "cell_type": "markdown",
   "metadata": {},
   "source": [
    "5\\. Use the `.groupby()` method to find out the noisy channels, i.e. the TDC channels with most counts (print to screen the top 3 and the corresponding counts)"
   ]
  },
  {
   "cell_type": "code",
   "execution_count": 6,
   "metadata": {},
   "outputs": [
    {
     "name": "stdout",
     "output_type": "stream",
     "text": [
      "Top 3 Noisy Channels:\n",
      "     TDC_CHANNEL  count\n",
      "132          139  82677\n",
      "63            64  50201\n",
      "62            63  49335\n"
     ]
    }
   ],
   "source": [
    "channel_counts = df.groupby('TDC_CHANNEL').size().reset_index(name='count')\n",
    "channel_counts = channel_counts.sort_values(by='count', ascending=False)\n",
    "\n",
    "top_noisy_channels = channel_counts.head(3)\n",
    "print(\"Top 3 Noisy Channels:\")\n",
    "print(top_noisy_channels)"
   ]
  },
  {
   "cell_type": "markdown",
   "metadata": {},
   "source": [
    "6\\. Count the number of non-empty orbits (i.e. the number of orbits with at least one hit)."
   ]
  },
  {
   "cell_type": "code",
   "execution_count": 7,
   "metadata": {},
   "outputs": [
    {
     "name": "stdout",
     "output_type": "stream",
     "text": [
      "Number of Non-Empty Orbits: 8841\n"
     ]
    }
   ],
   "source": [
    "non_empty_orbits = df[df['HEAD'] == 1]\n",
    "num_non_empty_orbits = non_empty_orbits['ORBIT_CNT'].nunique()\n",
    "\n",
    "print(\"Number of Non-Empty Orbits:\", num_non_empty_orbits)"
   ]
  },
  {
   "cell_type": "markdown",
   "metadata": {},
   "source": [
    "7\\. Count the number of unique orbits with at least one measurement from TDC_CHANNEL=139."
   ]
  },
  {
   "cell_type": "code",
   "execution_count": 8,
   "metadata": {},
   "outputs": [
    {
     "name": "stdout",
     "output_type": "stream",
     "text": [
      "Number of Unique Orbits with TDC_CHANNEL=139: 8816\n"
     ]
    }
   ],
   "source": [
    "tdc_139_rows = df[(df['TDC_CHANNEL'] == 139) & (df['HEAD'] == 1)]\n",
    "num_unique_orbits_tdc_139 = tdc_139_rows['ORBIT_CNT'].nunique()\n",
    "\n",
    "print(\"Number of Unique Orbits with TDC_CHANNEL=139:\", num_unique_orbits_tdc_139)"
   ]
  },
  {
   "cell_type": "markdown",
   "metadata": {},
   "source": [
    "8\\. Create two Series (one for each FPGA) that have the TDC channel as index, and the number of counts for the corresponding TDC channel as values."
   ]
  },
  {
   "cell_type": "code",
   "execution_count": 9,
   "metadata": {},
   "outputs": [
    {
     "name": "stdout",
     "output_type": "stream",
     "text": [
      "FPGA 1 Series:\n",
      "TDC_CHANNEL\n",
      "1     933\n",
      "2    1207\n",
      "3    1156\n",
      "4    1794\n",
      "5    1096\n",
      "Name: count, dtype: int64\n",
      "\n",
      "FPGA 2 Series:\n",
      "TDC_CHANNEL\n",
      "1    21622\n",
      "2    24871\n",
      "3    16725\n",
      "4    20087\n",
      "5    11375\n",
      "Name: count, dtype: int64\n"
     ]
    }
   ],
   "source": [
    "channel_counts_by_fpga = df.groupby(['FPGA', 'TDC_CHANNEL']).size().reset_index(name='count')\n",
    "\n",
    "fpga1_series = channel_counts_by_fpga[channel_counts_by_fpga['FPGA'] == 0].set_index('TDC_CHANNEL')['count']\n",
    "fpga2_series = channel_counts_by_fpga[channel_counts_by_fpga['FPGA'] == 1].set_index('TDC_CHANNEL')['count']\n",
    "\n",
    "print(\"FPGA 1 Series:\")\n",
    "print(fpga1_series.head())\n",
    "\n",
    "print(\"\\nFPGA 2 Series:\")\n",
    "print(fpga2_series.head())"
   ]
  },
  {
   "cell_type": "markdown",
   "metadata": {},
   "source": [
    "9\\. **Optional:** Create two histograms (one for each FPGA) that show the number of counts for each TDC channel."
   ]
  },
  {
   "cell_type": "code",
   "execution_count": 10,
   "metadata": {},
   "outputs": [
    {
     "data": {
      "image/png": "[encoded data removed]",
      "text/plain": [
       "<Figure size 1200x600 with 2 Axes>"
      ]
     },
     "metadata": {},
     "output_type": "display_data"
    }
   ],
   "source": [
    "import matplotlib.pyplot as plt\n",
    "\n",
    "# Group by 'FPGA' and 'TDC_CHANNEL' and count occurrences\n",
    "channel_counts_by_fpga = df.groupby(['FPGA', 'TDC_CHANNEL']).size().reset_index(name='count')\n",
    "\n",
    "# Separate the counts for each FPGA into two Series\n",
    "fpga1_series = channel_counts_by_fpga[channel_counts_by_fpga['FPGA'] == 0].set_index('TDC_CHANNEL')['count']\n",
    "fpga2_series = channel_counts_by_fpga[channel_counts_by_fpga['FPGA'] == 1].set_index('TDC_CHANNEL')['count']\n",
    "\n",
    "# Plot histograms\n",
    "plt.figure(figsize=(12, 6))\n",
    "\n",
    "plt.subplot(1, 2, 1)\n",
    "plt.hist(fpga1_series, bins=20, color='blue', alpha=0.7)\n",
    "plt.title('Histogram for FPGA 1')\n",
    "plt.xlabel('Number of Counts')\n",
    "plt.ylabel('Frequency')\n",
    "\n",
    "plt.subplot(1, 2, 2)\n",
    "plt.hist(fpga2_series, bins=20, color='green', alpha=0.7)\n",
    "plt.title('Histogram for FPGA 2')\n",
    "plt.xlabel('Number of Counts')\n",
    "plt.ylabel('Frequency')\n",
    "\n",
    "plt.tight_layout()\n",
    "plt.show()"
   ]
  },
  {
   "cell_type": "code",
   "execution_count": null,
   "metadata": {},
   "outputs": [],
   "source": []
  }
 ],
 "metadata": {
  "kernelspec": {
   "display_name": "Python 3 (ipykernel)",
   "language": "python",
   "name": "python3"
  },
  "language_info": {
   "codemirror_mode": {
    "name": "ipython",
    "version": 3
   },
   "file_extension": ".py",
   "mimetype": "text/x-python",
   "name": "python",
   "nbconvert_exporter": "python",
   "pygments_lexer": "ipython3",
   "version": "3.12.0"
  }
 },
 "nbformat": 4,
 "nbformat_minor": 4
}
