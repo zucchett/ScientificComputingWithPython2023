{
 "cells": [
  {
   "cell_type": "markdown",
   "metadata": {},
   "source": [
    "1\\. **Pandas DataFrame**\n",
    "\n",
    "This exercise consists in analyzing a dataset containg timing information from a series of Time-to-Digital-Converters (TDC) implemented in a pair of FPGAs. Each measurement (i.e. each row of the input file) consists of a flag that specifies the type of message ('HEAD', which in this case is always 1), two addresses of the TDC providing the signal ('FPGA' and 'TDC_CHANNEL'), and the timing information ('ORBIT_CNT', 'BX_COUNTER', and 'TDC_MEAS'). Each TDC count corresponds to 25/30 ns, whereas a unit of BX_COUNTER corresponds to 25 ns, and the ORBIT_CNT is increased every `x` BX_COUNTER. This allows to store the time in a similar way to hours, minutes and seconds."
   ]
  },
  {
   "cell_type": "code",
   "execution_count": 1,
   "metadata": {},
   "outputs": [],
   "source": [
    "# If haven't downloaded it yet, please get the data file with wget\n",
    "#!wget https://www.dropbox.com/s/xvjzaxzz3ysphme/data_000637.txt -P ./data/"
   ]
  },
  {
   "cell_type": "markdown",
   "metadata": {},
   "source": [
    "1\\. Create a Pandas DataFrame reading N rows of the `data/data_000637.txt` dataset. Choose N to be smaller than or equal to the maximum number of rows and larger that 10k (check the documentation)."
   ]
  },
  {
   "cell_type": "code",
   "execution_count": 2,
   "metadata": {},
   "outputs": [
    {
     "name": "stdout",
     "output_type": "stream",
     "text": [
      "       HEAD  FPGA  TDC_CHANNEL   ORBIT_CNT  BX_COUNTER  TDC_MEAS\n",
      "0         1     0          123  3869200167        2374        26\n",
      "1         1     0          124  3869200167        2374        27\n",
      "2         1     0           63  3869200167        2553        28\n",
      "3         1     0           64  3869200167        2558        19\n",
      "4         1     0           64  3869200167        2760        25\n",
      "...     ...   ...          ...         ...         ...       ...\n",
      "14995     1     1            4  3869200316        3399         9\n",
      "14996     1     1           17  3869200316        3400        15\n",
      "14997     1     1           10  3869200316        3530        16\n",
      "14998     1     1            8  3869200316        3533        18\n",
      "14999     1     0          139  3869200316        3539         0\n",
      "\n",
      "[15000 rows x 6 columns]\n"
     ]
    }
   ],
   "source": [
    "import pandas as pd\n",
    "file_path = './data/data_000637.txt'\n",
    "N = 15000 \n",
    "column_names = ['HEAD', 'FPGA', 'TDC_CHANNEL', 'ORBIT_CNT', 'BX_COUNTER', 'TDC_MEAS']\n",
    "df = pd.read_csv(file_path,  nrows=N)\n",
    "print(df)\n"
   ]
  },
  {
   "cell_type": "markdown",
   "metadata": {},
   "source": [
    "2\\. Estimate the number of BX in a ORBIT (the value `x`).\n",
    "\n",
    "*Hint*: check when the BX counter reaches the maximum value before being reset to 0."
   ]
  },
  {
   "cell_type": "code",
   "execution_count": 3,
   "metadata": {},
   "outputs": [
    {
     "name": "stdout",
     "output_type": "stream",
     "text": [
      "Maximum BX_COUNTER value: 3563\n",
      "Estimated number of BX in an ORBIT (x): 5106\n"
     ]
    }
   ],
   "source": [
    "max_bx = df['BX_COUNTER'].max()\n",
    "\n",
    "reset_indices = df[df['BX_COUNTER'] == 0].index\n",
    "\n",
    "if len(reset_indices) >= 2:    \n",
    "    bx_per_orbit = reset_indices[1] - reset_indices[0]\n",
    "    print(f\"Maximum BX_COUNTER value: {max_bx}\")\n",
    "    print(f\"Estimated number of BX in an ORBIT (x): {bx_per_orbit}\")\n",
    "else:\n",
    "    print(\"No BX_COUNTER reset to 0 found in the dataset.\")"
   ]
  },
  {
   "cell_type": "markdown",
   "metadata": {},
   "source": [
    "3\\. Create a new column with the absolute time in ns (as a combination of the other three columns with timing information) since the beginning of the data acquisition, and convert the new column to a Time Series.\n",
    "\n",
    "*Hint:* introduce an offset to the absolute time such that the start of the data acquisition (i.e. the first entry) is zero."
   ]
  },
  {
   "cell_type": "code",
   "execution_count": 4,
   "metadata": {},
   "outputs": [
    {
     "name": "stdout",
     "output_type": "stream",
     "text": [
      "        ORBIT_CNT  BX_COUNTER  TDC_MEAS  Absolute_Time_ns  \\\n",
      "0      3869200167        2374        26      0.000000e+00   \n",
      "1      3869200167        2374        27      1.000342e+09   \n",
      "2      3869200167        2553        28      1.511648e+11   \n",
      "3      3869200167        2558        19      1.463309e+11   \n",
      "4      3869200167        2760        25      3.206650e+11   \n",
      "...           ...         ...       ...               ...   \n",
      "14995  3869200316        3399         9      4.432430e+14   \n",
      "14996  3869200316        3400        15      4.432498e+14   \n",
      "14997  3869200316        3530        16      4.433592e+14   \n",
      "14998  3869200316        3533        18      4.433637e+14   \n",
      "14999  3869200316        3539         0      4.433507e+14   \n",
      "\n",
      "                        Time_Series  \n",
      "0     1970-01-01 00:00:00.000000000  \n",
      "1     1970-01-01 00:00:01.000341504  \n",
      "2     1970-01-01 00:02:31.164813312  \n",
      "3     1970-01-01 00:02:26.330877952  \n",
      "4     1970-01-01 00:05:20.665026560  \n",
      "...                             ...  \n",
      "14995 1970-01-06 03:07:22.998923264  \n",
      "14996 1970-01-06 03:07:29.831444480  \n",
      "14997 1970-01-06 03:09:19.166464000  \n",
      "14998 1970-01-06 03:09:23.664855040  \n",
      "14999 1970-01-06 03:09:10.664609792  \n",
      "\n",
      "[15000 rows x 5 columns]\n"
     ]
    }
   ],
   "source": [
    "df['Absolute_Time_ns'] = (((df['ORBIT_CNT'] * max_bx + df['BX_COUNTER']) * 25 / 30 + df['TDC_MEAS']) * 1e9)\n",
    "\n",
    "start_time_offset = df['Absolute_Time_ns'].min()\n",
    "df['Absolute_Time_ns'] -= start_time_offset\n",
    "df['Time_Series'] = pd.to_datetime(df['Absolute_Time_ns'], unit='ns')\n",
    "\n",
    "print(df[['ORBIT_CNT', 'BX_COUNTER', 'TDC_MEAS', 'Absolute_Time_ns', 'Time_Series']])\n",
    "\n",
    "\n"
   ]
  },
  {
   "cell_type": "markdown",
   "metadata": {},
   "source": [
    "4\\. Find out the duration of the data taking in hours, minutes and seconds, by using the features of the Time Series. Perform this check reading the whole dataset."
   ]
  },
  {
   "cell_type": "code",
   "execution_count": 5,
   "metadata": {},
   "outputs": [
    {
     "data": {
      "text/html": [
       "<div>\n",
       "<style scoped>\n",
       "    .dataframe tbody tr th:only-of-type {\n",
       "        vertical-align: middle;\n",
       "    }\n",
       "\n",
       "    .dataframe tbody tr th {\n",
       "        vertical-align: top;\n",
       "    }\n",
       "\n",
       "    .dataframe thead th {\n",
       "        text-align: right;\n",
       "    }\n",
       "</style>\n",
       "<table border=\"1\" class=\"dataframe\">\n",
       "  <thead>\n",
       "    <tr style=\"text-align: right;\">\n",
       "      <th></th>\n",
       "      <th>HEAD</th>\n",
       "      <th>FPGA</th>\n",
       "      <th>TDC_CHANNEL</th>\n",
       "      <th>ORBIT_CNT</th>\n",
       "      <th>BX_COUNTER</th>\n",
       "      <th>TDC_MEAS</th>\n",
       "      <th>Absolute_Time_ns</th>\n",
       "      <th>Time_Series</th>\n",
       "      <th>ABSOULTE_TIME</th>\n",
       "    </tr>\n",
       "  </thead>\n",
       "  <tbody>\n",
       "    <tr>\n",
       "      <th>0</th>\n",
       "      <td>1</td>\n",
       "      <td>0</td>\n",
       "      <td>123</td>\n",
       "      <td>3869200167</td>\n",
       "      <td>2374</td>\n",
       "      <td>26</td>\n",
       "      <td>0.000000e+00</td>\n",
       "      <td>1970-01-01 00:00:00.000000000</td>\n",
       "      <td>0 days 00:00:00</td>\n",
       "    </tr>\n",
       "    <tr>\n",
       "      <th>1</th>\n",
       "      <td>1</td>\n",
       "      <td>0</td>\n",
       "      <td>124</td>\n",
       "      <td>3869200167</td>\n",
       "      <td>2374</td>\n",
       "      <td>27</td>\n",
       "      <td>1.000342e+09</td>\n",
       "      <td>1970-01-01 00:00:01.000341504</td>\n",
       "      <td>0 days 00:00:01.000341504</td>\n",
       "    </tr>\n",
       "    <tr>\n",
       "      <th>2</th>\n",
       "      <td>1</td>\n",
       "      <td>0</td>\n",
       "      <td>63</td>\n",
       "      <td>3869200167</td>\n",
       "      <td>2553</td>\n",
       "      <td>28</td>\n",
       "      <td>1.511648e+11</td>\n",
       "      <td>1970-01-01 00:02:31.164813312</td>\n",
       "      <td>0 days 00:02:31.164813312</td>\n",
       "    </tr>\n",
       "    <tr>\n",
       "      <th>3</th>\n",
       "      <td>1</td>\n",
       "      <td>0</td>\n",
       "      <td>64</td>\n",
       "      <td>3869200167</td>\n",
       "      <td>2558</td>\n",
       "      <td>19</td>\n",
       "      <td>1.463309e+11</td>\n",
       "      <td>1970-01-01 00:02:26.330877952</td>\n",
       "      <td>0 days 00:02:26.330877952</td>\n",
       "    </tr>\n",
       "  </tbody>\n",
       "</table>\n",
       "</div>"
      ],
      "text/plain": [
       "   HEAD  FPGA  TDC_CHANNEL   ORBIT_CNT  BX_COUNTER  TDC_MEAS  \\\n",
       "0     1     0          123  3869200167        2374        26   \n",
       "1     1     0          124  3869200167        2374        27   \n",
       "2     1     0           63  3869200167        2553        28   \n",
       "3     1     0           64  3869200167        2558        19   \n",
       "\n",
       "   Absolute_Time_ns                   Time_Series             ABSOULTE_TIME  \n",
       "0      0.000000e+00 1970-01-01 00:00:00.000000000           0 days 00:00:00  \n",
       "1      1.000342e+09 1970-01-01 00:00:01.000341504 0 days 00:00:01.000341504  \n",
       "2      1.511648e+11 1970-01-01 00:02:31.164813312 0 days 00:02:31.164813312  \n",
       "3      1.463309e+11 1970-01-01 00:02:26.330877952 0 days 00:02:26.330877952  "
      ]
     },
     "execution_count": 5,
     "metadata": {},
     "output_type": "execute_result"
    }
   ],
   "source": [
    "df['ABSOULTE_TIME'] = pd.to_timedelta(df['Absolute_Time_ns'], unit='ns')\n",
    "df.head(4)"
   ]
  },
  {
   "cell_type": "markdown",
   "metadata": {},
   "source": [
    "5\\. Use the `.groupby()` method to find out the noisy channels, i.e. the TDC channels with most counts (print to screen the top 3 and the corresponding counts)"
   ]
  },
  {
   "cell_type": "code",
   "execution_count": 6,
   "metadata": {},
   "outputs": [
    {
     "name": "stdout",
     "output_type": "stream",
     "text": [
      "Top 3 Noisy Channels:\n",
      "TDC_CHANNEL\n",
      "139    1268\n",
      "64      752\n",
      "63      749\n",
      "dtype: int64\n"
     ]
    }
   ],
   "source": [
    "channel_counts = df.groupby('TDC_CHANNEL').size()\n",
    "\n",
    "top_3channels = channel_counts.sort_values(ascending=False).head(3)\n",
    "\n",
    "print(\"Top 3 Noisy Channels:\")\n",
    "print(top_3channels)"
   ]
  },
  {
   "cell_type": "markdown",
   "metadata": {},
   "source": [
    "6\\. Count the number of non-empty orbits (i.e. the number of orbits with at least one hit)."
   ]
  },
  {
   "cell_type": "code",
   "execution_count": 7,
   "metadata": {},
   "outputs": [
    {
     "name": "stdout",
     "output_type": "stream",
     "text": [
      "Number of Non-Empty Orbits: 150\n"
     ]
    }
   ],
   "source": [
    "non_empty_orbits_count = df['ORBIT_CNT'].nunique()\n",
    "\n",
    "print(\"Number of Non-Empty Orbits:\", non_empty_orbits_count)"
   ]
  },
  {
   "cell_type": "code",
   "execution_count": 8,
   "metadata": {},
   "outputs": [
    {
     "data": {
      "text/plain": [
       "150"
      ]
     },
     "execution_count": 8,
     "metadata": {},
     "output_type": "execute_result"
    }
   ],
   "source": [
    "df.groupby(\"ORBIT_CNT\").count().shape[0]"
   ]
  },
  {
   "cell_type": "markdown",
   "metadata": {},
   "source": [
    "7\\. Count the number of unique orbits with at least one measurement from TDC_CHANNEL=139."
   ]
  },
  {
   "cell_type": "code",
   "execution_count": 9,
   "metadata": {},
   "outputs": [
    {
     "name": "stdout",
     "output_type": "stream",
     "text": [
      "Number of Unique Orbits with TDC_CHANNEL=139: 150\n"
     ]
    }
   ],
   "source": [
    "df_channel_139 = df[df['TDC_CHANNEL'] == 139]\n",
    "\n",
    "unique_orbits_count_channel_139 = df_channel_139['ORBIT_CNT'].nunique()\n",
    "\n",
    "print(\"Number of Unique Orbits with TDC_CHANNEL=139:\", unique_orbits_count_channel_139)"
   ]
  },
  {
   "cell_type": "markdown",
   "metadata": {},
   "source": [
    "8\\. Create two Series (one for each FPGA) that have the TDC channel as index, and the number of counts for the corresponding TDC channel as values."
   ]
  },
  {
   "cell_type": "code",
   "execution_count": 10,
   "metadata": {},
   "outputs": [
    {
     "name": "stdout",
     "output_type": "stream",
     "text": [
      "FPGA 0 Series:\n",
      "TDC_CHANNEL\n",
      "1        8\n",
      "2       16\n",
      "3       16\n",
      "4       19\n",
      "5       19\n",
      "      ... \n",
      "121     63\n",
      "122     71\n",
      "123    202\n",
      "124    193\n",
      "139    879\n",
      "Length: 117, dtype: int64\n",
      "\n",
      "FPGA 1 Series:\n",
      "TDC_CHANNEL\n",
      "1      338\n",
      "2      363\n",
      "3      277\n",
      "4      290\n",
      "5      189\n",
      "      ... \n",
      "125      6\n",
      "126      7\n",
      "127     16\n",
      "128     18\n",
      "139    389\n",
      "Length: 124, dtype: int64\n"
     ]
    }
   ],
   "source": [
    "\n",
    "fpga_counts = df.groupby(['FPGA', 'TDC_CHANNEL']).size()\n",
    "\n",
    "fpga_0_series = fpga_counts.loc[0] if 0 in fpga_counts.index.levels[0] else pd.Series()\n",
    "\n",
    "fpga_1_series = fpga_counts.loc[1] if 1 in fpga_counts.index.levels[0] else pd.Series()\n",
    "\n",
    "\n",
    "print(\"FPGA 0 Series:\")\n",
    "print(fpga_0_series)\n",
    "\n",
    "print(\"\\nFPGA 1 Series:\")\n",
    "print(fpga_1_series)"
   ]
  },
  {
   "cell_type": "markdown",
   "metadata": {},
   "source": [
    "9\\. **Optional:** Create two histograms (one for each FPGA) that show the number of counts for each TDC channel."
   ]
  },
  {
   "cell_type": "code",
   "execution_count": 11,
   "metadata": {},
   "outputs": [
    {
     "data": {
      "image/png": "[encoded data removed]",
      "text/plain": [
       "<Figure size 1200x600 with 2 Axes>"
      ]
     },
     "metadata": {},
     "output_type": "display_data"
    }
   ],
   "source": [
    "import matplotlib.pyplot as plt\n",
    "\n",
    "\n",
    "plt.figure(figsize=(12, 6))\n",
    "\n",
    "plt.subplot(1, 2, 1)\n",
    "plt.hist(fpga_0_series, bins=50, color='blue', alpha=0.7)\n",
    "plt.title('Histogram for FPGA 0')\n",
    "plt.xlabel('Number of Counts')\n",
    "plt.ylabel('Frequency')\n",
    "\n",
    "plt.subplot(1, 2, 2)\n",
    "plt.hist(fpga_1_series, bins=50, color='green', alpha=0.7)\n",
    "plt.title('Histogram for FPGA 1')\n",
    "plt.xlabel('Number of Counts')\n",
    "plt.ylabel('Frequency')\n",
    "\n",
    "plt.tight_layout()\n",
    "plt.show()"
   ]
  },
  {
   "cell_type": "code",
   "execution_count": null,
   "metadata": {},
   "outputs": [],
   "source": []
  }
 ],
 "metadata": {
  "kernelspec": {
   "display_name": "Python 3 (ipykernel)",
   "language": "python",
   "name": "python3"
  },
  "language_info": {
   "codemirror_mode": {
    "name": "ipython",
    "version": 3
   },
   "file_extension": ".py",
   "mimetype": "text/x-python",
   "name": "python",
   "nbconvert_exporter": "python",
   "pygments_lexer": "ipython3",
   "version": "3.10.10"
  }
 },
 "nbformat": 4,
 "nbformat_minor": 2
}
