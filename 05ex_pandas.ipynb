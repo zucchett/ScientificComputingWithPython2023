{
 "cells": [
  {
   "cell_type": "markdown",
   "metadata": {},
   "source": [
    "1\\. **Pandas DataFrame**\n",
    "\n",
    "This exercise consists in analyzing a dataset containg timing information from a series of Time-to-Digital-Converters (TDC) implemented in a pair of FPGAs. Each measurement (i.e. each row of the input file) consists of a flag that specifies the type of message ('HEAD', which in this case is always 1), two addresses of the TDC providing the signal ('FPGA' and 'TDC_CHANNEL'), and the timing information ('ORBIT_CNT', 'BX_COUNTER', and 'TDC_MEAS'). Each TDC count corresponds to 25/30 ns, whereas a unit of BX_COUNTER corresponds to 25 ns, and the ORBIT_CNT is increased every `x` BX_COUNTER. This allows to store the time in a similar way to hours, minutes and seconds."
   ]
  },
  {
   "cell_type": "code",
   "execution_count": 3,
   "metadata": {},
   "outputs": [],
   "source": [
    "# If haven't downloaded it yet, please get the data file with wget\n",
    "#!wget https://www.dropbox.com/s/xvjzaxzz3ysphme/data_000637.txt -P ./data/\n",
    "FILE = \"./data/data_000637.txt\"\n",
    "NROWMIN = 10000\n",
    "\n",
    "# Hour, Min, Sec :\n",
    "ORBIT_TIME = 1 # to multiply by by 360.000 to have a hour\n",
    "BX_TIME = 25 # to multiply by by 60.000 to have a minute\n",
    "TDC_TIME = 25/30 # to multiply by 1000 to have a second\n",
    "\n",
    "import numpy as np\n",
    "import pandas as pd"
   ]
  },
  {
   "cell_type": "markdown",
   "metadata": {},
   "source": [
    "1\\. Create a Pandas DataFrame reading N rows of the `data/data_000637.txt` dataset. Choose N to be smaller than or equal to the maximum number of rows and larger that 10k (check the documentation)."
   ]
  },
  {
   "cell_type": "code",
   "execution_count": 4,
   "metadata": {},
   "outputs": [
    {
     "name": "stdout",
     "output_type": "stream",
     "text": [
      "         HEAD  FPGA  TDC_CHANNEL   ORBIT_CNT  BX_COUNTER  TDC_MEAS\n",
      "0           1     0          123  3869200167        2374        26\n",
      "1           1     0          124  3869200167        2374        27\n",
      "2           1     0           63  3869200167        2553        28\n",
      "3           1     0           64  3869200167        2558        19\n",
      "4           1     0           64  3869200167        2760        25\n",
      "...       ...   ...          ...         ...         ...       ...\n",
      "1310715     1     0           62  3869211171         762        14\n",
      "1310716     1     1            4  3869211171         763        11\n",
      "1310717     1     0           64  3869211171         764         0\n",
      "1310718     1     0          139  3869211171         769         0\n",
      "1310719     1     0           61  3869211171         762        18\n",
      "\n",
      "[1310720 rows x 6 columns]\n"
     ]
    }
   ],
   "source": [
    "def fromFileCreateDataFrame(iFile):\n",
    "    oDataFrame = pd.read_csv(iFile, sep=\",\")\n",
    "    nRowMax = max(NROWMIN, len(oDataFrame))\n",
    "    return oDataFrame[:nRowMax]\n",
    "\n",
    "dataFrame = fromFileCreateDataFrame(FILE)\n",
    "print(dataFrame)"
   ]
  },
  {
   "cell_type": "markdown",
   "metadata": {},
   "source": [
    "2\\. Estimate the number of BX in a ORBIT (the value `x`).\n",
    "\n",
    "*Hint*: check when the BX counter reaches the maximum value before being reset to 0."
   ]
  },
  {
   "cell_type": "code",
   "execution_count": 5,
   "metadata": {},
   "outputs": [
    {
     "name": "stdout",
     "output_type": "stream",
     "text": [
      "354\n"
     ]
    }
   ],
   "source": [
    "def estimationBXinOrbit(iDataFrame):\n",
    "    colOrbit = iDataFrame[\"BX_COUNTER\"]\n",
    "    oCount = 0\n",
    "    for value in colOrbit:\n",
    "        if value == 0:\n",
    "            oCount += 1\n",
    "    return(oCount)\n",
    "\n",
    "ORBIT_TIME = estimationBXinOrbit(dataFrame)\n",
    "print(ORBIT_TIME)\n"
   ]
  },
  {
   "cell_type": "markdown",
   "metadata": {},
   "source": [
    "3\\. Create a new column with the absolute time in ns (as a combination of the other three columns with timing information) since the beginning of the data acquisition, and convert the new column to a Time Series.\n",
    "\n",
    "*Hint:* introduce an offset to the absolute time such that the start of the data acquisition (i.e. the first entry) is zero."
   ]
  },
  {
   "cell_type": "code",
   "execution_count": 6,
   "metadata": {},
   "outputs": [
    {
     "name": "stdout",
     "output_type": "stream",
     "text": [
      "         HEAD  FPGA  TDC_CHANNEL   ORBIT_CNT  BX_COUNTER  TDC_MEAS  \\\n",
      "0           1     0          123  3869200167        2374        26   \n",
      "1           1     0          124  3869200167        2374        27   \n",
      "2           1     0           63  3869200167        2553        28   \n",
      "3           1     0           64  3869200167        2558        19   \n",
      "4           1     0           64  3869200167        2760        25   \n",
      "...       ...   ...          ...         ...         ...       ...   \n",
      "1310715     1     0           62  3869211171         762        14   \n",
      "1310716     1     1            4  3869211171         763        11   \n",
      "1310717     1     0           64  3869211171         764         0   \n",
      "1310718     1     0          139  3869211171         769         0   \n",
      "1310719     1     0           61  3869211171         762        18   \n",
      "\n",
      "             ABS_TIME  \n",
      "0        0.000000e+00  \n",
      "1        8.320000e+02  \n",
      "2        2.685171e+07  \n",
      "3        2.759411e+07  \n",
      "4        5.789920e+07  \n",
      "...               ...  \n",
      "1310715  1.402108e+12  \n",
      "1310716  1.402108e+12  \n",
      "1310717  1.402108e+12  \n",
      "1310718  1.402109e+12  \n",
      "1310719  1.402108e+12  \n",
      "\n",
      "[1310720 rows x 7 columns]\n"
     ]
    }
   ],
   "source": [
    "def addAbsoluteTime(ioDataFrame):\n",
    "    OrbitCol = ioDataFrame[\"ORBIT_CNT\"]\n",
    "    BXCol = ioDataFrame[\"BX_COUNTER\"]\n",
    "    TDCCol = ioDataFrame[\"TDC_MEAS\"]\n",
    "\n",
    "    ref = OrbitCol[0]*ORBIT_TIME*360000+BXCol[0]*BX_TIME*6000+TDCCol[0]*TDC_TIME*1000\n",
    "    TimeInNs = []\n",
    "\n",
    "    for i in range(len(OrbitCol)):\n",
    "        TimeInNs.append(abs(OrbitCol[i]*ORBIT_TIME*360000+BXCol[i]*BX_TIME*6000+TDCCol[i]*TDC_TIME*1000-ref))\n",
    "\n",
    "    ioDataFrame.insert(len(ioDataFrame.columns),\"ABS_TIME\",TimeInNs)\n",
    "\n",
    "    return(ioDataFrame)\n",
    "\n",
    "dataFrame = addAbsoluteTime(dataFrame)\n",
    "print(dataFrame)"
   ]
  },
  {
   "cell_type": "markdown",
   "metadata": {},
   "source": [
    "4\\. Find out the duration of the data taking in hours, minutes and seconds, by using the features of the Time Series. Perform this check reading the whole dataset."
   ]
  },
  {
   "cell_type": "code",
   "execution_count": 7,
   "metadata": {},
   "outputs": [
    {
     "name": "stdout",
     "output_type": "stream",
     "text": [
      "         HEAD  FPGA  TDC_CHANNEL   ORBIT_CNT  BX_COUNTER  TDC_MEAS  \\\n",
      "0           1     0          123  3869200167        2374        26   \n",
      "1           1     0          124  3869200167        2374        27   \n",
      "2           1     0           63  3869200167        2553        28   \n",
      "3           1     0           64  3869200167        2558        19   \n",
      "4           1     0           64  3869200167        2760        25   \n",
      "...       ...   ...          ...         ...         ...       ...   \n",
      "1310715     1     0           62  3869211171         762        14   \n",
      "1310716     1     1            4  3869211171         763        11   \n",
      "1310717     1     0           64  3869211171         764         0   \n",
      "1310718     1     0          139  3869211171         769         0   \n",
      "1310719     1     0           61  3869211171         762        18   \n",
      "\n",
      "                ABS_TIME  \n",
      "0        00:00:00:000000  \n",
      "1        00:00:00:000000  \n",
      "2        00:00:00:026851  \n",
      "3        00:00:00:027594  \n",
      "4        00:00:00:057899  \n",
      "...                  ...  \n",
      "1310715  00:23:22:107950  \n",
      "1310716  00:23:22:108097  \n",
      "1310717  00:23:22:108238  \n",
      "1310718  00:23:22:108988  \n",
      "1310719  00:23:22:107953  \n",
      "\n",
      "[1310720 rows x 7 columns]\n"
     ]
    }
   ],
   "source": [
    "def changeFormat(ioDataFrame):\n",
    "    ioDataFrame[\"ABS_TIME\"] = pd.to_datetime(ioDataFrame[\"ABS_TIME\"],origin=ioDataFrame[\"ABS_TIME\"][0])\n",
    "    ioDataFrame[\"ABS_TIME\"] = ioDataFrame[\"ABS_TIME\"].dt.strftime(\"%H:%M:%S:%f\")\n",
    "    return(ioDataFrame)\n",
    "\n",
    "dataFrame = changeFormat(dataFrame)\n",
    "print(dataFrame)"
   ]
  },
  {
   "cell_type": "markdown",
   "metadata": {},
   "source": [
    "5\\. Use the `.groupby()` method to find out the noisy channels, i.e. the TDC channels with most counts (print to screen the top 3 and the corresponding counts)"
   ]
  },
  {
   "cell_type": "code",
   "execution_count": 9,
   "metadata": {},
   "outputs": [
    {
     "name": "stdout",
     "output_type": "stream",
     "text": [
      "             countChannels\n",
      "TDC_CHANNEL               \n",
      "139                 108059\n",
      "64                   66020\n",
      "63                   64642\n"
     ]
    }
   ],
   "source": [
    "def noisyChannel(iDataFrame,iNumberOfChannels):\n",
    "    groupedByTDCChannel = iDataFrame.groupby(\"TDC_CHANNEL\").agg(countChannels=(\"TDC_CHANNEL\",\"count\"))\n",
    "    print(groupedByTDCChannel.sort_values(by=\"countChannels\",ascending=False)[:iNumberOfChannels])\n",
    "\n",
    "noisyChannel(dataFrame,3)\n"
   ]
  },
  {
   "cell_type": "markdown",
   "metadata": {},
   "source": [
    "6\\. Count the number of non-empty orbits (i.e. the number of orbits with at least one hit)."
   ]
  },
  {
   "cell_type": "code",
   "execution_count": 10,
   "metadata": {},
   "outputs": [
    {
     "name": "stdout",
     "output_type": "stream",
     "text": [
      "        ORBIT_CNT\n",
      "0      3869200167\n",
      "1      3869200168\n",
      "2      3869200169\n",
      "3      3869200170\n",
      "4      3869200171\n",
      "...           ...\n",
      "10996  3869211167\n",
      "10997  3869211168\n",
      "10998  3869211169\n",
      "10999  3869211170\n",
      "11000  3869211171\n",
      "\n",
      "[11001 rows x 1 columns]\n"
     ]
    }
   ],
   "source": [
    "def nonEmptyOrbitsCount(iDataFrame):\n",
    "    orbits = iDataFrame[\"ORBIT_CNT\"].unique()\n",
    "    print(pd.DataFrame({\"ORBIT_CNT\":orbits}))\n",
    "    \n",
    "nonEmptyOrbitsCount(dataFrame)\n"
   ]
  },
  {
   "cell_type": "markdown",
   "metadata": {},
   "source": [
    "7\\. Count the number of unique orbits with at least one measurement from TDC_CHANNEL=139."
   ]
  },
  {
   "cell_type": "code",
   "execution_count": 11,
   "metadata": {},
   "outputs": [
    {
     "name": "stdout",
     "output_type": "stream",
     "text": [
      "        ORBIT_CNT\n",
      "0      3869200167\n",
      "1      3869200168\n",
      "2      3869200169\n",
      "3      3869200170\n",
      "4      3869200171\n",
      "...           ...\n",
      "10971  3869211167\n",
      "10972  3869211168\n",
      "10973  3869211169\n",
      "10974  3869211170\n",
      "10975  3869211171\n",
      "\n",
      "[10976 rows x 1 columns]\n"
     ]
    }
   ],
   "source": [
    "def uniqueOrbitsFromChannel(iDataFrame,iChannelNumber):\n",
    "    filteredDataFrame = iDataFrame[iDataFrame.TDC_CHANNEL == iChannelNumber]\n",
    "    nonEmptyOrbitsCount(filteredDataFrame)\n",
    "\n",
    "uniqueOrbitsFromChannel(dataFrame,139)\n"
   ]
  },
  {
   "cell_type": "markdown",
   "metadata": {},
   "source": [
    "8\\. Create two Series (one for each FPGA) that have the TDC channel as index, and the number of counts for the corresponding TDC channel as values."
   ]
  },
  {
   "cell_type": "code",
   "execution_count": 12,
   "metadata": {},
   "outputs": [
    {
     "name": "stdout",
     "output_type": "stream",
     "text": [
      "     TDC_CHANNEL\n",
      "1          17994\n",
      "2          16463\n",
      "3          63724\n",
      "4          64581\n",
      "5          48699\n",
      "..           ...\n",
      "129           32\n",
      "130           34\n",
      "137            2\n",
      "138            4\n",
      "139            1\n",
      "\n",
      "[124 rows x 1 columns]\n",
      "     TDC_CHANNEL\n",
      "1          13646\n",
      "2          18869\n",
      "3          32442\n",
      "4          17813\n",
      "5          15003\n",
      "..           ...\n",
      "129          196\n",
      "130           38\n",
      "137           36\n",
      "138           36\n",
      "139           35\n",
      "\n",
      "[132 rows x 1 columns]\n"
     ]
    }
   ],
   "source": [
    "def serieFPGA(iDataFrame,iValue):\n",
    "    filteredDataFrame = iDataFrame[iDataFrame.FPGA == iValue]\n",
    "    values = filteredDataFrame.TDC_CHANNEL.value_counts()\n",
    "    index =  filteredDataFrame.TDC_CHANNEL.unique()\n",
    "    newDataFrame = pd.DataFrame({\"TDC_CHANNEL\":values},index=index).reindex(index.sort())\n",
    "    return(newDataFrame)\n",
    "\n",
    "serieZero = serieFPGA(dataFrame,0)\n",
    "print(serieZero)\n",
    "serieOne = serieFPGA(dataFrame,1)\n",
    "print(serieOne)"
   ]
  },
  {
   "cell_type": "markdown",
   "metadata": {},
   "source": [
    "9\\. **Optional:** Create two histograms (one for each FPGA) that show the number of counts for each TDC channel."
   ]
  },
  {
   "cell_type": "code",
   "execution_count": null,
   "metadata": {},
   "outputs": [],
   "source": []
  }
 ],
 "metadata": {
  "kernelspec": {
   "display_name": "Python 3 (ipykernel)",
   "language": "python",
   "name": "python3"
  },
  "language_info": {
   "codemirror_mode": {
    "name": "ipython",
    "version": 3
   },
   "file_extension": ".py",
   "mimetype": "text/x-python",
   "name": "python",
   "nbconvert_exporter": "python",
   "pygments_lexer": "ipython3",
   "version": "3.9.6"
  }
 },
 "nbformat": 4,
 "nbformat_minor": 2
}
