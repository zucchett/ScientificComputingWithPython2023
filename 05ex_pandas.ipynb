{
 "cells": [
  {
   "cell_type": "markdown",
   "metadata": {},
   "source": [
    "1\\. **Pandas DataFrame**\n",
    "\n",
    "This exercise consists in analyzing a dataset containg timing information from a series of Time-to-Digital-Converters (TDC) implemented in a pair of FPGAs. Each measurement (i.e. each row of the input file) consists of a flag that specifies the type of message ('HEAD', which in this case is always 1), two addresses of the TDC providing the signal ('FPGA' and 'TDC_CHANNEL'), and the timing information ('ORBIT_CNT', 'BX_COUNTER', and 'TDC_MEAS'). Each TDC count corresponds to 25/30 ns, whereas a unit of BX_COUNTER corresponds to 25 ns, and the ORBIT_CNT is increased every `x` BX_COUNTER. This allows to store the time in a similar way to hours, minutes and seconds."
   ]
  },
  {
   "cell_type": "code",
   "execution_count": 1,
   "metadata": {},
   "outputs": [],
   "source": [
    "# If haven't downloaded it yet, please get the data file with wget\n",
    "#!wget https://www.dropbox.com/s/xvjzaxzz3ysphme/data_000637.txt -P ./data/"
   ]
  },
  {
   "cell_type": "markdown",
   "metadata": {},
   "source": [
    "1\\. Create a Pandas DataFrame reading N rows of the `data/data_000637.txt` dataset. Choose N to be smaller than or equal to the maximum number of rows and larger that 10k (check the documentation)."
   ]
  },
  {
   "cell_type": "code",
   "execution_count": 3,
   "metadata": {},
   "outputs": [],
   "source": [
    "import pandas as pd \n",
    "import numpy as np"
   ]
  },
  {
   "cell_type": "code",
   "execution_count": 4,
   "metadata": {},
   "outputs": [
    {
     "name": "stdout",
     "output_type": "stream",
     "text": [
      "Num rows in dataframe = upper bound =  1310720 \n",
      "lower bound =  10000\n",
      "       HEAD  FPGA  TDC_CHANNEL   ORBIT_CNT  BX_COUNTER  TDC_MEAS\n",
      "0         1     0          123  3869200167        2374        26\n",
      "1         1     0          124  3869200167        2374        27\n",
      "2         1     0           63  3869200167        2553        28\n",
      "3         1     0           64  3869200167        2558        19\n",
      "4         1     0           64  3869200167        2760        25\n",
      "...     ...   ...          ...         ...         ...       ...\n",
      "19995     1     0           27  3869200366        2513        29\n",
      "19996     1     0           63  3869200366        2517         6\n",
      "19997     1     0           32  3869200366        2519         5\n",
      "19998     1     0           17  3869200366        2522        21\n",
      "19999     1     0           64  3869200366        2522         0\n",
      "\n",
      "[20000 rows x 6 columns]\n"
     ]
    }
   ],
   "source": [
    "file = \"./data/data_000637.txt\"\n",
    "#read from file\n",
    "d = pd.read_csv(file)\n",
    "max_Nrows = d.shape[0] #or max_Nrows = len(d.index)  \n",
    "min_N = 10000 \n",
    "# N must be in [10.000; maximum number of rows] \n",
    "print(\"Num rows in dataframe = upper bound = \", max_Nrows, \"\\nlower bound = \", min_N)\n",
    "if max_Nrows < min_N:\n",
    "    N = min_N #at least N must be = 10000 --> I choose the minimum number of the interval\n",
    "else:\n",
    "    N = 20000 #if max_Nrows > 10000 --> I choose N=20000 since reading the whole dataset \n",
    "              #makes the computation time too long\n",
    "\n",
    "data = d[:N]\n",
    "print(data)"
   ]
  },
  {
   "cell_type": "markdown",
   "metadata": {},
   "source": [
    "2\\. Estimate the number of BX in a ORBIT (the value `x`).\n",
    "\n",
    "*Hint*: check when the BX counter reaches the maximum value before being reset to 0."
   ]
  },
  {
   "cell_type": "code",
   "execution_count": 5,
   "metadata": {},
   "outputs": [
    {
     "name": "stdout",
     "output_type": "stream",
     "text": [
      "        ORBIT_CNT  BX_COUNTER\n",
      "0      3869200167        2374\n",
      "1      3869200167        2374\n",
      "2      3869200167        2553\n",
      "3      3869200167        2558\n",
      "4      3869200167        2760\n",
      "...           ...         ...\n",
      "19995  3869200366        2513\n",
      "19996  3869200366        2517\n",
      "19997  3869200366        2519\n",
      "19998  3869200366        2522\n",
      "19999  3869200366        2522\n",
      "\n",
      "[20000 rows x 2 columns]\n",
      "\n",
      "max value of BX_COUNTER for each ORBIT_CNT\n",
      " ORBIT_CNT\n",
      "3869200167    3187\n",
      "3869200168    3538\n",
      "3869200169    2766\n",
      "3869200170    3377\n",
      "3869200171    3542\n",
      "              ... \n",
      "3869200362    3425\n",
      "3869200363    3460\n",
      "3869200364    3352\n",
      "3869200365    2787\n",
      "3869200366    2522\n",
      "Name: BX_COUNTER, Length: 200, dtype: int64\n",
      "\n",
      "max value of BX_COUNTER that has been reached is 3563 \n",
      "\n",
      "I make an additional control\n",
      "I check if the max bx_counter found, which is equal to 3563 is followed by a bx_counter = 0\n",
      "\n",
      "max value reached is 3563 in the orbit 3869200195\n",
      "the next value is  0 in the orbit 3869200196 \n",
      "\n",
      "max value reached is 3563 in the orbit 3869200310\n",
      "the next value is  0 in the orbit 3869200311 \n",
      "\n"
     ]
    },
    {
     "data": {
      "text/plain": [
       "'\\nOBS: Based on values plot before, the bx_counter is reset everytime it reaches the value 3563 \\n'"
      ]
     },
     "execution_count": 5,
     "metadata": {},
     "output_type": "execute_result"
    }
   ],
   "source": [
    "#the ORBIT_CNT is increased every x BX_COUNTER\n",
    "#we want to know how many BX are contained in a orbit\n",
    "bxcounter = data.loc[:,('ORBIT_CNT','BX_COUNTER')]\n",
    "print(bxcounter)\n",
    "#group by orbit and find the max value of counter for each orbit\n",
    "orbit_max_counter = bxcounter.groupby('ORBIT_CNT')[\"BX_COUNTER\"].max()\n",
    "print(\"\\nmax value of BX_COUNTER for each ORBIT_CNT\\n\", orbit_max_counter)\n",
    "#find the max value in absolute\n",
    "x = max(orbit_max_counter) #max value of counter \n",
    "print(\"\\nmax value of BX_COUNTER that has been reached is\", x, \"\\n\")\n",
    "\n",
    "#I make an additional control\n",
    "#I've to check if in the dataframe, the value after maxC is equal to zero and the 2 orbits are different \n",
    "#--> this means that the counter has been reset\n",
    "print(f\"I make an additional control\\nI check if the max bx_counter found, which is equal to %d\" %x, \"is followed by a bx_counter = 0\\n\") \n",
    "for i in bxcounter.index:\n",
    "    if(bxcounter[\"BX_COUNTER\"][i] == x and bxcounter[\"BX_COUNTER\"][i+1]==0):\n",
    "        print(\"max value reached is\", bxcounter[\"BX_COUNTER\"][i], \"in the orbit\", bxcounter['ORBIT_CNT'][i])\n",
    "        print(\"the next value is \", bxcounter[\"BX_COUNTER\"][i+1], \"in the orbit\", bxcounter['ORBIT_CNT'][i+1], \"\\n\")\n",
    "\n",
    "\n",
    "'''\n",
    "OBS: Based on values plot before, the bx_counter is reset everytime it reaches the value 3563 \n",
    "'''"
   ]
  },
  {
   "cell_type": "markdown",
   "metadata": {},
   "source": [
    "3\\. Create a new column with the absolute time in ns (as a combination of the other three columns with timing information) since the beginning of the data acquisition, and convert the new column to a Time Series.\n",
    "\n",
    "*Hint:* introduce an offset to the absolute time such that the start of the data acquisition (i.e. the first entry) is zero."
   ]
  },
  {
   "cell_type": "code",
   "execution_count": 6,
   "metadata": {},
   "outputs": [
    {
     "name": "stdout",
     "output_type": "stream",
     "text": [
      "offset to apply such that the start of the data acquisition is 0ns -->  -344649004934896.7 \n",
      "\n",
      "       HEAD  FPGA  TDC_CHANNEL   ORBIT_CNT  BX_COUNTER  TDC_MEAS  \\\n",
      "0         1     0          123  3869200167        2374        26   \n",
      "1         1     0          124  3869200167        2374        27   \n",
      "2         1     0           63  3869200167        2553        28   \n",
      "3         1     0           64  3869200167        2558        19   \n",
      "4         1     0           64  3869200167        2760        25   \n",
      "...     ...   ...          ...         ...         ...       ...   \n",
      "19995     1     0           27  3869200366        2513        29   \n",
      "19996     1     0           63  3869200366        2517         6   \n",
      "19997     1     0           32  3869200366        2519         5   \n",
      "19998     1     0           17  3869200366        2522        21   \n",
      "19999     1     0           64  3869200366        2522         0   \n",
      "\n",
      "       ABSOLUTE TIME(ns)  \n",
      "0           0.000000e+00  \n",
      "1           8.125000e-01  \n",
      "2           4.476625e+03  \n",
      "3           4.594125e+03  \n",
      "4           9.649125e+03  \n",
      "...                  ...  \n",
      "19995       1.772940e+07  \n",
      "19996       1.772948e+07  \n",
      "19997       1.772953e+07  \n",
      "19998       1.772962e+07  \n",
      "19999       1.772960e+07  \n",
      "\n",
      "[20000 rows x 7 columns]\n",
      "\n",
      "Convert the new column to a Time Series\n",
      "       HEAD  FPGA  TDC_CHANNEL   ORBIT_CNT  BX_COUNTER  TDC_MEAS  \\\n",
      "0         1     0          123  3869200167        2374        26   \n",
      "1         1     0          124  3869200167        2374        27   \n",
      "2         1     0           63  3869200167        2553        28   \n",
      "3         1     0           64  3869200167        2558        19   \n",
      "4         1     0           64  3869200167        2760        25   \n",
      "...     ...   ...          ...         ...         ...       ...   \n",
      "19995     1     0           27  3869200366        2513        29   \n",
      "19996     1     0           63  3869200366        2517         6   \n",
      "19997     1     0           32  3869200366        2519         5   \n",
      "19998     1     0           17  3869200366        2522        21   \n",
      "19999     1     0           64  3869200366        2522         0   \n",
      "\n",
      "                  ABSOLUTE TIME(ns)  \n",
      "0     2023-12-07 00:00:00.000000000  \n",
      "1     2023-12-07 00:00:00.000000000  \n",
      "2     2023-12-07 00:00:00.000004352  \n",
      "3     2023-12-07 00:00:00.000004608  \n",
      "4     2023-12-07 00:00:00.000009728  \n",
      "...                             ...  \n",
      "19995 2023-12-07 00:00:00.017729280  \n",
      "19996 2023-12-07 00:00:00.017729536  \n",
      "19997 2023-12-07 00:00:00.017729536  \n",
      "19998 2023-12-07 00:00:00.017729536  \n",
      "19999 2023-12-07 00:00:00.017729536  \n",
      "\n",
      "[20000 rows x 7 columns]\n"
     ]
    }
   ],
   "source": [
    "import datetime as dt\n",
    "today = dt.date.today()\n",
    "#timing information: \n",
    "#a unit of TDC_MEAS corresponds to 25/30 ns\n",
    "#a unit of BX_COUNTER corresponds to 25 ns\n",
    "#in a orbit we've estimated circa x = 3563 units of BX_COUNTER\n",
    "x = 3563\n",
    "def computing_ns(e: pd.Series):\n",
    "    return e['TDC_MEAS']*(25/30) + e['BX_COUNTER']*25 + e['ORBIT_CNT']*(x*25)\n",
    "\n",
    "#the offset to the absolute time is the time computed in the first entry\n",
    "first_entry = data.loc[0, ['ORBIT_CNT','BX_COUNTER','TDC_MEAS']]\n",
    "offset = -(computing_ns(first_entry))\n",
    "print(\"offset to apply such that the start of the data acquisition is 0ns --> \", offset, \"\\n\")\n",
    "\n",
    "\n",
    "times = np.zeros(data.shape[0])\n",
    "for i in range(data.shape[0]):\n",
    "    times[i] = computing_ns(data.loc[i,['ORBIT_CNT','BX_COUNTER','TDC_MEAS']]) + offset\n",
    "data_mod = data.copy()\n",
    "data_mod[\"ABSOLUTE TIME(ns)\"] = times\n",
    "print(data_mod)\n",
    "\n",
    "#convert the new column to a Time Series\n",
    "print(\"\\nConvert the new column to a Time Series\")\n",
    "data_mod[\"ABSOLUTE TIME(ns)\"] = pd.to_datetime(data_mod[\"ABSOLUTE TIME(ns)\"] , unit='ns', origin=today)\n",
    "print(data_mod)"
   ]
  },
  {
   "cell_type": "markdown",
   "metadata": {},
   "source": [
    "4\\. Find out the duration of the data taking in hours, minutes and seconds, by using the features of the Time Series. Perform this check reading the whole dataset."
   ]
  },
  {
   "cell_type": "code",
   "execution_count": 7,
   "metadata": {},
   "outputs": [
    {
     "name": "stdout",
     "output_type": "stream",
     "text": [
      "0       2023-12-07 00:00:00.000000000\n",
      "1       2023-12-07 00:00:00.000000000\n",
      "2       2023-12-07 00:00:00.000004352\n",
      "3       2023-12-07 00:00:00.000004608\n",
      "4       2023-12-07 00:00:00.000009728\n",
      "                     ...             \n",
      "19995   2023-12-07 00:00:00.017729280\n",
      "19996   2023-12-07 00:00:00.017729536\n",
      "19997   2023-12-07 00:00:00.017729536\n",
      "19998   2023-12-07 00:00:00.017729536\n",
      "19999   2023-12-07 00:00:00.017729536\n",
      "Name: ABSOLUTE TIME(ns), Length: 20000, dtype: datetime64[ns]\n"
     ]
    }
   ],
   "source": [
    "'''NB: reading the whole dataset makes the computation time too long, so I've decided to read only 10000 rows'''\n",
    "\n",
    "ts = pd.to_datetime(data_mod[\"ABSOLUTE TIME(ns)\"], format='%H:%M:%S')\n",
    "print(ts)"
   ]
  },
  {
   "cell_type": "markdown",
   "metadata": {},
   "source": [
    "5\\. Use the `.groupby()` method to find out the noisy channels, i.e. the TDC channels with most counts (print to screen the top 3 and the corresponding counts)"
   ]
  },
  {
   "cell_type": "code",
   "execution_count": 8,
   "metadata": {},
   "outputs": [
    {
     "name": "stdout",
     "output_type": "stream",
     "text": [
      "             num TDC channels\n",
      "TDC_CHANNEL                  \n",
      "1                         448\n",
      "2                         502\n",
      "3                         379\n",
      "4                         415\n",
      "5                         275\n",
      "...                       ...\n",
      "125                         7\n",
      "126                         9\n",
      "127                        21\n",
      "128                        25\n",
      "139                      1693\n",
      "\n",
      "[129 rows x 1 columns]\n",
      "\n",
      "3 TDC channels with most counts\n",
      "              num TDC channels\n",
      "TDC_CHANNEL                  \n",
      "139                      1693\n",
      "64                        996\n",
      "63                        969\n"
     ]
    }
   ],
   "source": [
    "nc = data.copy()\n",
    "noisy_channels = nc.groupby(\"TDC_CHANNEL\").count()\n",
    "#I could print only a column, since the result of count() is repeated for each column --> print(noisy_channels.loc[:, noisy_channels.columns[0]]\n",
    "#but i prefer removing the other columns and rename the first \n",
    "noisy_channels = noisy_channels.drop(columns=[\"FPGA\",\"ORBIT_CNT\",\"BX_COUNTER\",\"TDC_MEAS\"]).rename(columns={\"HEAD\":\"num TDC channels\"})\n",
    "print(noisy_channels)\n",
    "s = noisy_channels.sort_values(by=\"num TDC channels\", ascending=False)\n",
    "print(\"\\n3 TDC channels with most counts\\n\", s[0:3])"
   ]
  },
  {
   "cell_type": "markdown",
   "metadata": {},
   "source": [
    "6\\. Count the number of non-empty orbits (i.e. the number of orbits with at least one hit)."
   ]
  },
  {
   "cell_type": "code",
   "execution_count": 7,
   "metadata": {},
   "outputs": [
    {
     "name": "stdout",
     "output_type": "stream",
     "text": [
      "Orbits\n",
      "\n",
      "0          3869200167\n",
      "1          3869200167\n",
      "2          3869200167\n",
      "3          3869200167\n",
      "4          3869200167\n",
      "              ...    \n",
      "1310715    3869211171\n",
      "1310716    3869211171\n",
      "1310717    3869211171\n",
      "1310718    3869211171\n",
      "1310719    3869211171\n",
      "Name: ORBIT_CNT, Length: 1310720, dtype: int64\n",
      "\n",
      "Orbits sorted and unique\n",
      " [3869200167 3869200168 3869200169 ... 3869211169 3869211170 3869211171]\n",
      "\n",
      "Total number of orbits we have:  11001\n",
      "\n",
      "number of orbits we should have (if there wouldn't be any missing orbit):\n",
      "11005 \n",
      "\n",
      "\n",
      "FIRST METHOD\n",
      "Empty orbit found -> it's missing orbit number 3869201471\n",
      "Empty orbit found -> it's missing orbit number 3869201573\n",
      "Empty orbit found -> it's missing orbit number 3869202170\n",
      "Empty orbit found -> it's missing orbit number 3869206210\n",
      "number of empty orbits:\n",
      "4\n",
      "\n",
      "SECOND METHOD\n",
      "Found a missing orbit -->  3869201471\n",
      "Instead we have -->  3869201472\n",
      "Found a missing orbit -->  3869201573\n",
      "Instead we have -->  3869201574\n",
      "Found a missing orbit -->  3869202170\n",
      "Instead we have -->  3869202171\n",
      "Found a missing orbit -->  3869206210\n",
      "Instead we have -->  3869206211\n",
      "number of empty orbits:\n",
      "4\n"
     ]
    }
   ],
   "source": [
    "#non empty = at least one hit\n",
    "orbits = d['ORBIT_CNT']\n",
    "print(\"Orbits\\n\")\n",
    "print(orbits)\n",
    "s = orbits.sort_values().drop_duplicates()\n",
    "print(\"\\nOrbits sorted and unique\\n\", s.values)\n",
    "print(\"\\nTotal number of orbits we have: \", s.shape[0])\n",
    "\n",
    "print(\"\\nnumber of orbits we should have (if there wouldn't be any missing orbit):\")\n",
    "print((s.max()-s.min() + 1), \"\\n\")\n",
    "\n",
    "empty_orbits_counter = 0\n",
    "\n",
    "print(\"\\nFIRST METHOD\")\n",
    "expected = s[s.index[0]]\n",
    "for i in range(s.shape[0]):\n",
    "    if s[s.index[i]]!= expected:\n",
    "        while(s[s.index[i]]!= expected):\n",
    "            print(\"Empty orbit found -> it's missing orbit number\", expected)\n",
    "            empty_orbits_counter += 1 \n",
    "            expected += 1\n",
    "    expected += 1\n",
    "print(\"number of empty orbits:\")\n",
    "print(empty_orbits_counter)\n",
    "\n",
    "empty_orbits_counter = 0\n",
    "print(\"\\nSECOND METHOD\")\n",
    "for i in range(s.shape[0]-1):\n",
    "    if s[s.index[i]] + 1 != s[s.index[i+1]]:\n",
    "        empty_orbits_counter += 1\n",
    "        print(\"Found a missing orbit --> \", s[s.index[i]] + 1 )\n",
    "        print(\"Instead we have --> \", s[s.index[i+1]])\n",
    "print(\"number of empty orbits:\")\n",
    "print(empty_orbits_counter)\n"
   ]
  },
  {
   "cell_type": "markdown",
   "metadata": {},
   "source": [
    "7\\. Count the number of unique orbits with at least one measurement from TDC_CHANNEL=139."
   ]
  },
  {
   "cell_type": "code",
   "execution_count": 41,
   "metadata": {},
   "outputs": [
    {
     "name": "stdout",
     "output_type": "stream",
     "text": [
      "\n",
      "NUMEBER of UNIQUE orbits with at least one measurement from TDC_CHANNEL = 139 -->  200\n"
     ]
    }
   ],
   "source": [
    "#FIRST METHOD\n",
    "'''\n",
    "dchannel = data.query('TDC_CHANNEL==139')\n",
    "print(\"measurement from TDC_CHANNEL=139\\n\", dchannel)\n",
    "dchannel = dchannel.groupby('ORBIT_CNT').count().drop(columns=[\"FPGA\",\"BX_COUNTER\",\"TDC_MEAS\", \"HEAD\"]).rename(columns={\"TDC_CHANNEL\":\"num measurements from TDC_CHANNEL=139 in each orbit.\"})\n",
    "print(dchannel)\n",
    "print(\"\\nNUMEBER of UNIQUE orbits with at least one measurement from TDC_CHANNEL = 139 --> \", dchannel.shape[0], \"\\n\") \n",
    "'''\n",
    "\n",
    "#SECOND METHOD --> Faster procedure\n",
    "tdc139 = data.query('TDC_CHANNEL==139').groupby('ORBIT_CNT').count()\n",
    "print(\"\\nNUMEBER of UNIQUE orbits with at least one measurement from TDC_CHANNEL = 139 --> \", tdc139.shape[0])"
   ]
  },
  {
   "cell_type": "markdown",
   "metadata": {},
   "source": [
    "8\\. Create two Series (one for each FPGA) that have the TDC channel as index, and the number of counts for the corresponding TDC channel as values."
   ]
  },
  {
   "cell_type": "code",
   "execution_count": 42,
   "metadata": {},
   "outputs": [
    {
     "name": "stdout",
     "output_type": "stream",
     "text": [
      "Series for FPGA = 0\n",
      "\n",
      "Index = TDC_CHANNELS\n",
      " Index([  1,   2,   3,   4,   5,   6,   7,   8,   9,  10,\n",
      "       ...\n",
      "       120, 121, 122, 123, 124, 125, 126, 127, 128, 139],\n",
      "      dtype='int64', length=129) \n",
      "Values\n",
      " [  13.   23.   17.   22.   29.   23.   31.   38.   18.   28.   28.   nan\n",
      "   30.   nan   24.   53.   31.   35.   42.   55.   32.   49.   56.   81.\n",
      "   45.   75.   61.   95.   51.   nan   59.  101.   58.   nan   78.  110.\n",
      "   98.  124.   nan  166.  112.  148.  143.  173.  157.  175.  202.  240.\n",
      "  210.  243.  246.   nan  341.  375.   nan  463.  494.  523.  632.  686.\n",
      "  726.  711.  961.  975.   15.   13.    2.   16.   21.   13.   29.   27.\n",
      "   25.   24.   19.   21.   21.   19.   25.   24.   30.   42.   30.   37.\n",
      "   32.   31.   35.   38.   34.   30.   20.   32.   19.   23.   14.   19.\n",
      "    9.    5.    7.    8.    3.   10.    7.   10.    9.    6.    6.   10.\n",
      "    9.   11.   19.   20.   26.   20.   28.   31.   46.   39.   60.   64.\n",
      "   98.   94.  280.  258.   nan   nan   nan   nan 1171.]\n",
      "\n",
      "\n",
      "Series for FPGA = 1\n",
      "\n",
      "Index = TDC_CHANNELS\n",
      " Index([  1,   2,   3,   4,   5,   6,   7,   8,   9,  10,\n",
      "       ...\n",
      "       120, 121, 122, 123, 124, 125, 126, 127, 128, 139],\n",
      "      dtype='int64', length=129) \n",
      "Values\n",
      " [435. 479. 362. 393. 246. 298. 218. 307.   2. 221. 149. 217. 108. 134.\n",
      "  88. 136.  54.  80.  48.  88.  37.  59.  36.  65.  33.  42.  31.  53.\n",
      "  26.  29.  32.  42.  25.  27.  13.  23.  19.  23.  18.  31.  12.  16.\n",
      "  18.  29.   9.  14.  14.  24.   8.  13.  11.  13.  16.  10.   9.  21.\n",
      "  11.   8.  14.  32.  21.  20.   8.  21.  15.   8.   6.  12.   9.   5.\n",
      "   5.   5.   5.   7.   2.   1.   2.   1.   3.   2.   4.  nan   3.   2.\n",
      "   7.   1.   4.   4.   3.   2.   1.  nan   1.  nan   3.   2.   7.   4.\n",
      "   5.  10.   9.  12.   9.   5.  13.   8.   8.  12.   8.   9.  13.   9.\n",
      "   9.   7.   9.   8.   6.   4.   7.   8.   9.  10.  15.  nan   7.   9.\n",
      "  21.  25. 522.]\n"
     ]
    }
   ],
   "source": [
    "s0 = pd.Series(data.query(\"FPGA==0\").groupby(\"TDC_CHANNEL\").count().loc[:,data.columns[0]], index=data[\"TDC_CHANNEL\"].drop_duplicates().sort_values().values)\n",
    "s1 = pd.Series(data.query(\"FPGA==1\").groupby(\"TDC_CHANNEL\").count().loc[:,data.columns[0]], index=data[\"TDC_CHANNEL\"].drop_duplicates().sort_values().values)\n",
    "print(\"Series for FPGA = 0\\n\\nIndex = TDC_CHANNELS\\n\",s0.index, \"\\nValues\\n\", s0.values)\n",
    "print(\"\\n\\nSeries for FPGA = 1\\n\\nIndex = TDC_CHANNELS\\n\",s1.index, \"\\nValues\\n\", s1.values)\n"
   ]
  },
  {
   "cell_type": "markdown",
   "metadata": {},
   "source": [
    "9\\. **Optional:** Create two histograms (one for each FPGA) that show the number of counts for each TDC channel."
   ]
  },
  {
   "cell_type": "code",
   "execution_count": 62,
   "metadata": {},
   "outputs": [
    {
     "data": {
      "image/png": "[encoded data removed]",
      "text/plain": [
       "<Figure size 640x480 with 1 Axes>"
      ]
     },
     "metadata": {},
     "output_type": "display_data"
    }
   ],
   "source": [
    "import matplotlib.pyplot as plt\n",
    "fig, ax0 = plt.subplots(tight_layout=True)\n",
    "plt.xlabel(\"num TDC_CHANNEL\")\n",
    "plt.ylabel(\"Num of counts for each TDC_CHANNEL\\nlog scale\")\n",
    "plt.bar(s0.index, s0.values, alpha=0.6, color = 'black')\n",
    "plt.bar(s1.index, s1.values, alpha=0.6, color = 'gold')\n",
    "plt.legend([\"serie_fpga0\", \"serie_fpga1\"], fontsize= 9, loc =\"upper left\") \n",
    "plt.yscale('log')"
   ]
  },
  {
   "cell_type": "code",
   "execution_count": null,
   "metadata": {},
   "outputs": [],
   "source": []
  }
 ],
 "metadata": {
  "kernelspec": {
   "display_name": "Python 3 (ipykernel)",
   "language": "python",
   "name": "python3"
  },
  "language_info": {
   "codemirror_mode": {
    "name": "ipython",
    "version": 3
   },
   "file_extension": ".py",
   "mimetype": "text/x-python",
   "name": "python",
   "nbconvert_exporter": "python",
   "pygments_lexer": "ipython3",
   "version": "3.9.18"
  }
 },
 "nbformat": 4,
 "nbformat_minor": 2
}
