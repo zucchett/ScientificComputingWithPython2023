{
 "cells": [
  {
   "cell_type": "markdown",
   "metadata": {},
   "source": [
    "1\\. **Pandas DataFrame**\n",
    "\n",
    "This exercise consists in analyzing a dataset containg timing information from a series of Time-to-Digital-Converters (TDC) implemented in a pair of FPGAs. Each measurement (i.e. each row of the input file) consists of a flag that specifies the type of message ('HEAD', which in this case is always 1), two addresses of the TDC providing the signal ('FPGA' and 'TDC_CHANNEL'), and the timing information ('ORBIT_CNT', 'BX_COUNTER', and 'TDC_MEAS'). Each TDC count corresponds to 25/30 ns, whereas a unit of BX_COUNTER corresponds to 25 ns, and the ORBIT_CNT is increased every `x` BX_COUNTER. This allows to store the time in a similar way to hours, minutes and seconds."
   ]
  },
  {
   "cell_type": "markdown",
   "metadata": {
    "scrolled": false
   },
   "source": [
    "# If haven't downloaded it yet, please get the data file with wget\n",
    "!curl C:/Users/laura/ScientificComputingWithPython2023/data_000637.txt https://www.dropbox.com/s/xvjzaxzz3ysphme/data_000637.txt -P ./data/"
   ]
  },
  {
   "cell_type": "markdown",
   "metadata": {},
   "source": [
    "1\\. Create a Pandas DataFrame reading N rows of the `data/data_000637.txt` dataset. Choose N to be smaller than or equal to the maximum number of rows and larger that 10k (check the documentation)."
   ]
  },
  {
   "cell_type": "code",
   "execution_count": 1,
   "metadata": {},
   "outputs": [
    {
     "name": "stdout",
     "output_type": "stream",
     "text": [
      "         HEAD  FPGA  TDC_CHANNEL   ORBIT_CNT  BX_COUNTER  TDC_MEAS\n",
      "0           1     0          123  3869200167        2374        26\n",
      "1           1     0          124  3869200167        2374        27\n",
      "2           1     0           63  3869200167        2553        28\n",
      "3           1     0           64  3869200167        2558        19\n",
      "4           1     0           64  3869200167        2760        25\n",
      "...       ...   ...          ...         ...         ...       ...\n",
      "1310715     1     0           62  3869211171         762        14\n",
      "1310716     1     1            4  3869211171         763        11\n",
      "1310717     1     0           64  3869211171         764         0\n",
      "1310718     1     0          139  3869211171         769         0\n",
      "1310719     1     0           61  3869211171         762        18\n",
      "\n",
      "[1310720 rows x 6 columns]\n",
      "538001\n",
      "        HEAD  FPGA  TDC_CHANNEL   ORBIT_CNT  BX_COUNTER  TDC_MEAS\n",
      "0          1     0          123  3869200167        2374        26\n",
      "1          1     0          124  3869200167        2374        27\n",
      "2          1     0           63  3869200167        2553        28\n",
      "3          1     0           64  3869200167        2558        19\n",
      "4          1     0           64  3869200167        2760        25\n",
      "...      ...   ...          ...         ...         ...       ...\n",
      "537996     1     0           62  3869205614         749         5\n",
      "537997     1     0           64  3869205614         756        21\n",
      "537998     1     0          139  3869205614         760         0\n",
      "537999     1     0           63  3869205614         758        17\n",
      "538000     1     0          120  3869205614         897        25\n",
      "\n",
      "[538001 rows x 6 columns]\n"
     ]
    }
   ],
   "source": [
    "import pandas as pd # standard naming convention\n",
    "import numpy as np\n",
    "import random as r\n",
    "#print(os.path.exists(\"data_000637.txt\"))\n",
    "file_name =\"data_000637.txt\"\n",
    "data = pd.read_csv(file_name)\n",
    "print(data)\n",
    "Nmax=len(data)\n",
    "Nmin=10000\n",
    "N=r.randint(Nmin,Nmax)\n",
    "print(N)\n",
    "data=data[0:N]\n",
    "print(data)"
   ]
  },
  {
   "cell_type": "markdown",
   "metadata": {},
   "source": [
    "2\\. Estimate the number of BX in a ORBIT (the value `x`).\n",
    "\n",
    "*Hint*: check when the BX counter reaches the maximum value before being reset to 0."
   ]
  },
  {
   "cell_type": "code",
   "execution_count": 2,
   "metadata": {},
   "outputs": [
    {
     "name": "stdout",
     "output_type": "stream",
     "text": [
      "MAX 3563\n"
     ]
    }
   ],
   "source": [
    "#print(data)\n",
    "BX_C=data.loc[:,['BX_COUNTER']]\n",
    "#print(BX_COUNTER)\n",
    "a=0\n",
    "#print(BX_COUNTER.iat[1,0])\n",
    "\n",
    "#for i in range(len(BX_COUNTER)-1):\n",
    "#    #print(BX_COUNTER.iat[i,0])\n",
    "#    if BX_COUNTER.iat[i+1,0]<BX_COUNTER.iat[i,0]:\n",
    "#        #print(BX_COUNTER.iat[i+1,0],'p',BX_COUNTER.iat[i,0])\n",
    "#        a+=1\n",
    "#    i+=1\n",
    "m=BX_C.max()\n",
    "print('MAX',m[0])"
   ]
  },
  {
   "cell_type": "markdown",
   "metadata": {},
   "source": [
    "3\\. Create a new column with the absolute time in ns (as a combination of the other three columns with timing information) since the beginning of the data acquisition, and convert the new column to a Time Series.\n",
    "\n",
    "*Hint:* introduce an offset to the absolute time such that the start of the data acquisition (i.e. the first entry) is zero."
   ]
  },
  {
   "cell_type": "code",
   "execution_count": 3,
   "metadata": {},
   "outputs": [
    {
     "name": "stdout",
     "output_type": "stream",
     "text": [
      "Minimo prima dell'offset: 344649004934977.5\n",
      "Minimo dopo l'offset: 0\n"
     ]
    },
    {
     "data": {
      "text/html": [
       "<div>\n",
       "<style scoped>\n",
       "    .dataframe tbody tr th:only-of-type {\n",
       "        vertical-align: middle;\n",
       "    }\n",
       "\n",
       "    .dataframe tbody tr th {\n",
       "        vertical-align: top;\n",
       "    }\n",
       "\n",
       "    .dataframe thead th {\n",
       "        text-align: right;\n",
       "    }\n",
       "</style>\n",
       "<table border=\"1\" class=\"dataframe\">\n",
       "  <thead>\n",
       "    <tr style=\"text-align: right;\">\n",
       "      <th></th>\n",
       "      <th>HEAD</th>\n",
       "      <th>FPGA</th>\n",
       "      <th>TDC_CHANNEL</th>\n",
       "      <th>ORBIT_CNT</th>\n",
       "      <th>BX_COUNTER</th>\n",
       "      <th>TDC_MEAS</th>\n",
       "      <th>TIME_SERIES</th>\n",
       "    </tr>\n",
       "  </thead>\n",
       "  <tbody>\n",
       "    <tr>\n",
       "      <th>0</th>\n",
       "      <td>1</td>\n",
       "      <td>0</td>\n",
       "      <td>123</td>\n",
       "      <td>3869200167</td>\n",
       "      <td>2374</td>\n",
       "      <td>26</td>\n",
       "      <td>0.000000e+00</td>\n",
       "    </tr>\n",
       "    <tr>\n",
       "      <th>1</th>\n",
       "      <td>1</td>\n",
       "      <td>0</td>\n",
       "      <td>124</td>\n",
       "      <td>3869200167</td>\n",
       "      <td>2374</td>\n",
       "      <td>27</td>\n",
       "      <td>8.125000e-01</td>\n",
       "    </tr>\n",
       "    <tr>\n",
       "      <th>2</th>\n",
       "      <td>1</td>\n",
       "      <td>0</td>\n",
       "      <td>63</td>\n",
       "      <td>3869200167</td>\n",
       "      <td>2553</td>\n",
       "      <td>28</td>\n",
       "      <td>4.425000e+03</td>\n",
       "    </tr>\n",
       "    <tr>\n",
       "      <th>3</th>\n",
       "      <td>1</td>\n",
       "      <td>0</td>\n",
       "      <td>64</td>\n",
       "      <td>3869200167</td>\n",
       "      <td>2558</td>\n",
       "      <td>19</td>\n",
       "      <td>4.550812e+03</td>\n",
       "    </tr>\n",
       "    <tr>\n",
       "      <th>4</th>\n",
       "      <td>1</td>\n",
       "      <td>0</td>\n",
       "      <td>64</td>\n",
       "      <td>3869200167</td>\n",
       "      <td>2760</td>\n",
       "      <td>25</td>\n",
       "      <td>9.600812e+03</td>\n",
       "    </tr>\n",
       "    <tr>\n",
       "      <th>...</th>\n",
       "      <td>...</td>\n",
       "      <td>...</td>\n",
       "      <td>...</td>\n",
       "      <td>...</td>\n",
       "      <td>...</td>\n",
       "      <td>...</td>\n",
       "      <td>...</td>\n",
       "    </tr>\n",
       "    <tr>\n",
       "      <th>537996</th>\n",
       "      <td>1</td>\n",
       "      <td>0</td>\n",
       "      <td>62</td>\n",
       "      <td>3869205614</td>\n",
       "      <td>749</td>\n",
       "      <td>5</td>\n",
       "      <td>4.851508e+08</td>\n",
       "    </tr>\n",
       "    <tr>\n",
       "      <th>537997</th>\n",
       "      <td>1</td>\n",
       "      <td>0</td>\n",
       "      <td>64</td>\n",
       "      <td>3869205614</td>\n",
       "      <td>756</td>\n",
       "      <td>21</td>\n",
       "      <td>4.851510e+08</td>\n",
       "    </tr>\n",
       "    <tr>\n",
       "      <th>537998</th>\n",
       "      <td>1</td>\n",
       "      <td>0</td>\n",
       "      <td>139</td>\n",
       "      <td>3869205614</td>\n",
       "      <td>760</td>\n",
       "      <td>0</td>\n",
       "      <td>4.851512e+08</td>\n",
       "    </tr>\n",
       "    <tr>\n",
       "      <th>537999</th>\n",
       "      <td>1</td>\n",
       "      <td>0</td>\n",
       "      <td>63</td>\n",
       "      <td>3869205614</td>\n",
       "      <td>758</td>\n",
       "      <td>17</td>\n",
       "      <td>4.851511e+08</td>\n",
       "    </tr>\n",
       "    <tr>\n",
       "      <th>538000</th>\n",
       "      <td>1</td>\n",
       "      <td>0</td>\n",
       "      <td>120</td>\n",
       "      <td>3869205614</td>\n",
       "      <td>897</td>\n",
       "      <td>25</td>\n",
       "      <td>4.851546e+08</td>\n",
       "    </tr>\n",
       "  </tbody>\n",
       "</table>\n",
       "<p>538001 rows × 7 columns</p>\n",
       "</div>"
      ],
      "text/plain": [
       "        HEAD  FPGA  TDC_CHANNEL   ORBIT_CNT  BX_COUNTER  TDC_MEAS  \\\n",
       "0          1     0          123  3869200167        2374        26   \n",
       "1          1     0          124  3869200167        2374        27   \n",
       "2          1     0           63  3869200167        2553        28   \n",
       "3          1     0           64  3869200167        2558        19   \n",
       "4          1     0           64  3869200167        2760        25   \n",
       "...      ...   ...          ...         ...         ...       ...   \n",
       "537996     1     0           62  3869205614         749         5   \n",
       "537997     1     0           64  3869205614         756        21   \n",
       "537998     1     0          139  3869205614         760         0   \n",
       "537999     1     0           63  3869205614         758        17   \n",
       "538000     1     0          120  3869205614         897        25   \n",
       "\n",
       "         TIME_SERIES  \n",
       "0       0.000000e+00  \n",
       "1       8.125000e-01  \n",
       "2       4.425000e+03  \n",
       "3       4.550812e+03  \n",
       "4       9.600812e+03  \n",
       "...              ...  \n",
       "537996  4.851508e+08  \n",
       "537997  4.851510e+08  \n",
       "537998  4.851512e+08  \n",
       "537999  4.851511e+08  \n",
       "538000  4.851546e+08  \n",
       "\n",
       "[538001 rows x 7 columns]"
      ]
     },
     "execution_count": 3,
     "metadata": {},
     "output_type": "execute_result"
    }
   ],
   "source": [
    "import datetime\n",
    "data['TIME_SERIES']= (data['TDC_CHANNEL']*25/30+data['BX_COUNTER']*25+25*m[0]*data['ORBIT_CNT'])\n",
    "print(\"Minimo prima dell'offset:\", data['TIME_SERIES'].min())\n",
    "data['TIME_SERIES'] -= data['TIME_SERIES'].min()\n",
    "print(\"Minimo dopo l'offset:\", data['TIME_SERIES'].idxmin())\n",
    "#print(data.iat[418706,6])\n",
    "\n",
    "#data['TIME_SERIES'] = pd.to_datetime(data['TIME_SERIES'], unit='ns')\n",
    "data\n"
   ]
  },
  {
   "cell_type": "markdown",
   "metadata": {},
   "source": [
    "4\\. Find out the duration of the data taking in hours, minutes and seconds, by using the features of the Time Series. Perform this check reading the whole dataset."
   ]
  },
  {
   "cell_type": "code",
   "execution_count": 4,
   "metadata": {},
   "outputs": [
    {
     "name": "stdout",
     "output_type": "stream",
     "text": [
      "485154597.5\n",
      "Duration 0 days 00:00:00.485154597\n"
     ]
    }
   ],
   "source": [
    "a=data['TIME_SERIES'].max()\n",
    "print(a)\n",
    "print('Duration',pd.to_timedelta(a))\n"
   ]
  },
  {
   "cell_type": "markdown",
   "metadata": {},
   "source": [
    "5\\. Use the `.groupby()` method to find out the noisy channels, i.e. the TDC channels with most counts (print to screen the top 3 and the corresponding counts)"
   ]
  },
  {
   "cell_type": "code",
   "execution_count": 5,
   "metadata": {},
   "outputs": [
    {
     "name": "stdout",
     "output_type": "stream",
     "text": [
      "top 3 channels and the corresponding counts: \n",
      "  TDC_CHANNEL\n",
      "139    44697\n",
      "64     26928\n",
      "63     26412\n",
      "Name: TDC_CHANNEL, dtype: int64\n"
     ]
    }
   ],
   "source": [
    "#print(data.iloc[:,2])\n",
    "f=data.groupby('TDC_CHANNEL')['TDC_CHANNEL'].count().nlargest(3)\n",
    "\n",
    "print('top 3 channels and the corresponding counts: \\n ',f)\n"
   ]
  },
  {
   "cell_type": "markdown",
   "metadata": {},
   "source": [
    "6\\. Count the number of non-empty orbits (i.e. the number of orbits with at least one hit)."
   ]
  },
  {
   "cell_type": "code",
   "execution_count": 6,
   "metadata": {},
   "outputs": [
    {
     "name": "stdout",
     "output_type": "stream",
     "text": [
      "Non empyy orbits: \n",
      " 5445\n"
     ]
    }
   ],
   "source": [
    "a=data.ORBIT_CNT.nunique()\n",
    "print(\"Non empyy orbits: \\n\",a )"
   ]
  },
  {
   "cell_type": "markdown",
   "metadata": {},
   "source": [
    "7\\. Count the number of unique orbits with at least one measurement from TDC_CHANNEL=139."
   ]
  },
  {
   "cell_type": "code",
   "execution_count": 7,
   "metadata": {},
   "outputs": [
    {
     "name": "stdout",
     "output_type": "stream",
     "text": [
      "number of unique orbits from TDC_CHANNEL=139: \n",
      " 5424\n"
     ]
    }
   ],
   "source": [
    "b=data[data['TDC_CHANNEL'].isin([139])].ORBIT_CNT.nunique()\n",
    "print(\"number of unique orbits from TDC_CHANNEL=139: \\n\",b)\n"
   ]
  },
  {
   "cell_type": "markdown",
   "metadata": {},
   "source": [
    "8\\. Create two Series (one for each FPGA) that have the TDC channel as index, and the number of counts for the corresponding TDC channel as values."
   ]
  },
  {
   "cell_type": "code",
   "execution_count": 8,
   "metadata": {},
   "outputs": [
    {
     "name": "stdout",
     "output_type": "stream",
     "text": [
      "FPGA: 0\n",
      "        HEAD  FPGA  TDC_CHANNEL   ORBIT_CNT  BX_COUNTER  TDC_MEAS  \\\n",
      "0          1     0          123  3869200167        2374        26   \n",
      "1          1     0          124  3869200167        2374        27   \n",
      "2          1     0           63  3869200167        2553        28   \n",
      "3          1     0           64  3869200167        2558        19   \n",
      "4          1     0           64  3869200167        2760        25   \n",
      "...      ...   ...          ...         ...         ...       ...   \n",
      "537996     1     0           62  3869205614         749         5   \n",
      "537997     1     0           64  3869205614         756        21   \n",
      "537998     1     0          139  3869205614         760         0   \n",
      "537999     1     0           63  3869205614         758        17   \n",
      "538000     1     0          120  3869205614         897        25   \n",
      "\n",
      "         TIME_SERIES  \n",
      "0       0.000000e+00  \n",
      "1       8.125000e-01  \n",
      "2       4.425000e+03  \n",
      "3       4.550812e+03  \n",
      "4       9.600812e+03  \n",
      "...              ...  \n",
      "537996  4.851508e+08  \n",
      "537997  4.851510e+08  \n",
      "537998  4.851512e+08  \n",
      "537999  4.851511e+08  \n",
      "538000  4.851546e+08  \n",
      "\n",
      "[378647 rows x 7 columns] TDC_CHANNEL\n",
      "1        494\n",
      "2        641\n",
      "3        634\n",
      "4        947\n",
      "5        598\n",
      "       ...  \n",
      "129        2\n",
      "130       12\n",
      "137        9\n",
      "138       10\n",
      "139    31318\n",
      "Name: TDC_CHANNEL, Length: 124, dtype: int64\n",
      "FPGA: 1\n",
      "        HEAD  FPGA  TDC_CHANNEL   ORBIT_CNT  BX_COUNTER  TDC_MEAS  \\\n",
      "10         1     1            7  3869200167        2785         4   \n",
      "12         1     1            6  3869200167        2792        18   \n",
      "15         1     1          139  3869200167        2797         0   \n",
      "16         1     1            8  3869200167        2787        14   \n",
      "18         1     1            5  3869200167        2795         4   \n",
      "...      ...   ...          ...         ...         ...       ...   \n",
      "537990     1     1           19  3869205614         524         4   \n",
      "537991     1     1            3  3869205614         523        18   \n",
      "537992     1     1            4  3869205614         528        10   \n",
      "537993     1     1            1  3869205614         529        11   \n",
      "537995     1     1            4  3869205614         748        17   \n",
      "\n",
      "         TIME_SERIES  \n",
      "10      1.017831e+04  \n",
      "12      1.035250e+04  \n",
      "15      1.058831e+04  \n",
      "16      1.022919e+04  \n",
      "18      1.042669e+04  \n",
      "...              ...  \n",
      "537990  4.851452e+08  \n",
      "537991  4.851452e+08  \n",
      "537992  4.851453e+08  \n",
      "537993  4.851453e+08  \n",
      "537995  4.851508e+08  \n",
      "\n",
      "[159354 rows x 7 columns] TDC_CHANNEL\n",
      "1      11650\n",
      "2      13363\n",
      "3       9016\n",
      "4      10759\n",
      "5       6081\n",
      "       ...  \n",
      "129       11\n",
      "130       14\n",
      "137       12\n",
      "138       12\n",
      "139    13379\n",
      "Name: TDC_CHANNEL, Length: 132, dtype: int64\n"
     ]
    }
   ],
   "source": [
    "#gtupby 0 e 1 e dopo \n",
    "data0 = data[data['FPGA'].isin([0])]\n",
    "s0 = data0.groupby('TDC_CHANNEL')['TDC_CHANNEL'].count()\n",
    "\n",
    "data1 = data[data['FPGA'].isin([1])]\n",
    "s1 = data1.groupby('TDC_CHANNEL')['TDC_CHANNEL'].count()\n",
    "print('FPGA: 0')\n",
    "print(data0,s0)\n",
    "print('FPGA: 1')\n",
    "print(data1,s1)"
   ]
  },
  {
   "cell_type": "markdown",
   "metadata": {},
   "source": [
    "9\\. **Optional:** Create two histograms (one for each FPGA) that show the number of counts for each TDC channel."
   ]
  },
  {
   "cell_type": "code",
   "execution_count": null,
   "metadata": {},
   "outputs": [],
   "source": []
  }
 ],
 "metadata": {
  "kernelspec": {
   "display_name": "Python 3 (ipykernel)",
   "language": "python",
   "name": "python3"
  },
  "language_info": {
   "codemirror_mode": {
    "name": "ipython",
    "version": 3
   },
   "file_extension": ".py",
   "mimetype": "text/x-python",
   "name": "python",
   "nbconvert_exporter": "python",
   "pygments_lexer": "ipython3",
   "version": "3.11.5"
  }
 },
 "nbformat": 4,
 "nbformat_minor": 2
}
