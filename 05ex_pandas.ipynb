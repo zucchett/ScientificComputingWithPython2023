{
 "cells": [
  {
   "cell_type": "markdown",
   "metadata": {},
   "source": [
    "1\\. **Pandas DataFrame**\n",
    "\n",
    "This exercise consists in analyzing a dataset containg timing information from a series of Time-to-Digital-Converters (TDC) implemented in a pair of FPGAs. Each measurement (i.e. each row of the input file) consists of a flag that specifies the type of message ('HEAD', which in this case is always 1), two addresses of the TDC providing the signal ('FPGA' and 'TDC_CHANNEL'), and the timing information ('ORBIT_CNT', 'BX_COUNTER', and 'TDC_MEAS'). Each TDC count corresponds to 25/30 ns, whereas a unit of BX_COUNTER corresponds to 25 ns, and the ORBIT_CNT is increased every `x` BX_COUNTER. This allows to store the time in a similar way to hours, minutes and seconds."
   ]
  },
  {
   "cell_type": "code",
   "execution_count": 2,
   "metadata": {},
   "outputs": [
    {
     "name": "stderr",
     "output_type": "stream",
     "text": [
      "'wget' is not recognized as an internal or external command,\n",
      "operable program or batch file.\n"
     ]
    }
   ],
   "source": [
    "# If haven't downloaded it yet, please get the data file with wget\n",
    "#!wget https://www.dropbox.com/s/xvjzaxzz3ysphme/data_000637.txt -P ./data/"
   ]
  },
  {
   "cell_type": "markdown",
   "metadata": {},
   "source": [
    "1\\. Create a Pandas DataFrame reading N rows of the `data/data_000637.txt` dataset. Choose N to be smaller than or equal to the maximum number of rows and larger that 10k (check the documentation)."
   ]
  },
  {
   "cell_type": "code",
   "execution_count": 4,
   "metadata": {},
   "outputs": [],
   "source": [
    "import pandas as pd\n",
    "import datetime as dt\n",
    "import matplotlib\n",
    "import matplotlib.pyplot as plt\n",
    "matplotlib.style.use('fivethirtyeight') "
   ]
  },
  {
   "cell_type": "code",
   "execution_count": 5,
   "metadata": {},
   "outputs": [
    {
     "data": {
      "text/html": [
       "<div>\n",
       "<style scoped>\n",
       "    .dataframe tbody tr th:only-of-type {\n",
       "        vertical-align: middle;\n",
       "    }\n",
       "\n",
       "    .dataframe tbody tr th {\n",
       "        vertical-align: top;\n",
       "    }\n",
       "\n",
       "    .dataframe thead th {\n",
       "        text-align: right;\n",
       "    }\n",
       "</style>\n",
       "<table border=\"1\" class=\"dataframe\">\n",
       "  <thead>\n",
       "    <tr style=\"text-align: right;\">\n",
       "      <th></th>\n",
       "      <th>HEAD</th>\n",
       "      <th>FPGA</th>\n",
       "      <th>TDC_CHANNEL</th>\n",
       "      <th>ORBIT_CNT</th>\n",
       "      <th>BX_COUNTER</th>\n",
       "      <th>TDC_MEAS</th>\n",
       "    </tr>\n",
       "  </thead>\n",
       "  <tbody>\n",
       "    <tr>\n",
       "      <th>0</th>\n",
       "      <td>1</td>\n",
       "      <td>0</td>\n",
       "      <td>123</td>\n",
       "      <td>3869200167</td>\n",
       "      <td>2374</td>\n",
       "      <td>26</td>\n",
       "    </tr>\n",
       "    <tr>\n",
       "      <th>1</th>\n",
       "      <td>1</td>\n",
       "      <td>0</td>\n",
       "      <td>124</td>\n",
       "      <td>3869200167</td>\n",
       "      <td>2374</td>\n",
       "      <td>27</td>\n",
       "    </tr>\n",
       "    <tr>\n",
       "      <th>2</th>\n",
       "      <td>1</td>\n",
       "      <td>0</td>\n",
       "      <td>63</td>\n",
       "      <td>3869200167</td>\n",
       "      <td>2553</td>\n",
       "      <td>28</td>\n",
       "    </tr>\n",
       "    <tr>\n",
       "      <th>3</th>\n",
       "      <td>1</td>\n",
       "      <td>0</td>\n",
       "      <td>64</td>\n",
       "      <td>3869200167</td>\n",
       "      <td>2558</td>\n",
       "      <td>19</td>\n",
       "    </tr>\n",
       "    <tr>\n",
       "      <th>4</th>\n",
       "      <td>1</td>\n",
       "      <td>0</td>\n",
       "      <td>64</td>\n",
       "      <td>3869200167</td>\n",
       "      <td>2760</td>\n",
       "      <td>25</td>\n",
       "    </tr>\n",
       "    <tr>\n",
       "      <th>...</th>\n",
       "      <td>...</td>\n",
       "      <td>...</td>\n",
       "      <td>...</td>\n",
       "      <td>...</td>\n",
       "      <td>...</td>\n",
       "      <td>...</td>\n",
       "    </tr>\n",
       "    <tr>\n",
       "      <th>1310715</th>\n",
       "      <td>1</td>\n",
       "      <td>0</td>\n",
       "      <td>62</td>\n",
       "      <td>3869211171</td>\n",
       "      <td>762</td>\n",
       "      <td>14</td>\n",
       "    </tr>\n",
       "    <tr>\n",
       "      <th>1310716</th>\n",
       "      <td>1</td>\n",
       "      <td>1</td>\n",
       "      <td>4</td>\n",
       "      <td>3869211171</td>\n",
       "      <td>763</td>\n",
       "      <td>11</td>\n",
       "    </tr>\n",
       "    <tr>\n",
       "      <th>1310717</th>\n",
       "      <td>1</td>\n",
       "      <td>0</td>\n",
       "      <td>64</td>\n",
       "      <td>3869211171</td>\n",
       "      <td>764</td>\n",
       "      <td>0</td>\n",
       "    </tr>\n",
       "    <tr>\n",
       "      <th>1310718</th>\n",
       "      <td>1</td>\n",
       "      <td>0</td>\n",
       "      <td>139</td>\n",
       "      <td>3869211171</td>\n",
       "      <td>769</td>\n",
       "      <td>0</td>\n",
       "    </tr>\n",
       "    <tr>\n",
       "      <th>1310719</th>\n",
       "      <td>1</td>\n",
       "      <td>0</td>\n",
       "      <td>61</td>\n",
       "      <td>3869211171</td>\n",
       "      <td>762</td>\n",
       "      <td>18</td>\n",
       "    </tr>\n",
       "  </tbody>\n",
       "</table>\n",
       "<p>1310720 rows × 6 columns</p>\n",
       "</div>"
      ],
      "text/plain": [
       "         HEAD  FPGA  TDC_CHANNEL   ORBIT_CNT  BX_COUNTER  TDC_MEAS\n",
       "0           1     0          123  3869200167        2374        26\n",
       "1           1     0          124  3869200167        2374        27\n",
       "2           1     0           63  3869200167        2553        28\n",
       "3           1     0           64  3869200167        2558        19\n",
       "4           1     0           64  3869200167        2760        25\n",
       "...       ...   ...          ...         ...         ...       ...\n",
       "1310715     1     0           62  3869211171         762        14\n",
       "1310716     1     1            4  3869211171         763        11\n",
       "1310717     1     0           64  3869211171         764         0\n",
       "1310718     1     0          139  3869211171         769         0\n",
       "1310719     1     0           61  3869211171         762        18\n",
       "\n",
       "[1310720 rows x 6 columns]"
      ]
     },
     "execution_count": 5,
     "metadata": {},
     "output_type": "execute_result"
    }
   ],
   "source": [
    "N = 1310720\n",
    "data = pd.read_csv('data/data_000637.txt', nrows = N)\n",
    "data"
   ]
  },
  {
   "cell_type": "markdown",
   "metadata": {},
   "source": [
    "2\\. Estimate the number of BX in a ORBIT (the value `x`).\n",
    "\n",
    "*Hint*: check when the BX counter reaches the maximum value before being reset to 0."
   ]
  },
  {
   "cell_type": "code",
   "execution_count": 6,
   "metadata": {},
   "outputs": [],
   "source": [
    "data['BX_COUNTER_CHANGE'] = data['BX_COUNTER'].diff()\n",
    "data.loc[data.BX_COUNTER_CHANGE >= -100, 'BX_COUNTER_CHANGE'] = 0\n",
    "data.loc[data.BX_COUNTER_CHANGE < -100, 'BX_COUNTER_CHANGE'] = 1"
   ]
  },
  {
   "cell_type": "code",
   "execution_count": 7,
   "metadata": {},
   "outputs": [
    {
     "data": {
      "image/png": "[encoded data removed]",
      "text/plain": [
       "<Figure size 1440x720 with 3 Axes>"
      ]
     },
     "metadata": {
      "needs_background": "light"
     },
     "output_type": "display_data"
    }
   ],
   "source": [
    "plt.figure(figsize = (20, 10))\n",
    "\n",
    "plt.subplot(3, 1, 1)\n",
    "plt.plot(data['BX_COUNTER'][0:1500])\n",
    "plt.xlabel('steps')\n",
    "plt.ylabel('BX_COUNTER')\n",
    "\n",
    "plt.subplot(3, 1, 2)\n",
    "plt.plot(data['BX_COUNTER_CHANGE'][0:1500])\n",
    "plt.xlabel('steps')\n",
    "plt.ylabel('BX_COUNTER_CHANGE')\n",
    "\n",
    "plt.subplot(3, 1, 3)\n",
    "plt.plot(data['ORBIT_CNT'][0:1500])\n",
    "plt.xlabel('steps')\n",
    "plt.ylabel('ORBIT_CNT')\n",
    "plt.show()"
   ]
  },
  {
   "cell_type": "code",
   "execution_count": 8,
   "metadata": {},
   "outputs": [
    {
     "name": "stdout",
     "output_type": "stream",
     "text": [
      "x is : 3563 ns\n"
     ]
    }
   ],
   "source": [
    "X = data['BX_COUNTER'].max()\n",
    "print( \"x is :\", X , \"ns\")"
   ]
  },
  {
   "cell_type": "markdown",
   "metadata": {},
   "source": [
    "3\\. Create a new column with the absolute time in ns (as a combination of the other three columns with timing information) since the beginning of the data acquisition, and convert the new column to a Time Series.\n",
    "\n",
    "*Hint:* introduce an offset to the absolute time such that the start of the data acquisition (i.e. the first entry) is zero."
   ]
  },
  {
   "cell_type": "code",
   "execution_count": 9,
   "metadata": {},
   "outputs": [
    {
     "data": {
      "text/html": [
       "<div>\n",
       "<style scoped>\n",
       "    .dataframe tbody tr th:only-of-type {\n",
       "        vertical-align: middle;\n",
       "    }\n",
       "\n",
       "    .dataframe tbody tr th {\n",
       "        vertical-align: top;\n",
       "    }\n",
       "\n",
       "    .dataframe thead th {\n",
       "        text-align: right;\n",
       "    }\n",
       "</style>\n",
       "<table border=\"1\" class=\"dataframe\">\n",
       "  <thead>\n",
       "    <tr style=\"text-align: right;\">\n",
       "      <th></th>\n",
       "      <th>HEAD</th>\n",
       "      <th>FPGA</th>\n",
       "      <th>TDC_CHANNEL</th>\n",
       "      <th>ORBIT_CNT</th>\n",
       "      <th>BX_COUNTER</th>\n",
       "      <th>TDC_MEAS</th>\n",
       "      <th>BX_COUNTER_CHANGE</th>\n",
       "      <th>Time_ns</th>\n",
       "    </tr>\n",
       "  </thead>\n",
       "  <tbody>\n",
       "    <tr>\n",
       "      <th>0</th>\n",
       "      <td>1</td>\n",
       "      <td>0</td>\n",
       "      <td>123</td>\n",
       "      <td>3869200167</td>\n",
       "      <td>2374</td>\n",
       "      <td>26</td>\n",
       "      <td>NaN</td>\n",
       "      <td>1970-01-04 23:44:09.004934896</td>\n",
       "    </tr>\n",
       "    <tr>\n",
       "      <th>1</th>\n",
       "      <td>1</td>\n",
       "      <td>0</td>\n",
       "      <td>124</td>\n",
       "      <td>3869200167</td>\n",
       "      <td>2374</td>\n",
       "      <td>27</td>\n",
       "      <td>0.0</td>\n",
       "      <td>1970-01-04 23:44:09.004934897</td>\n",
       "    </tr>\n",
       "    <tr>\n",
       "      <th>2</th>\n",
       "      <td>1</td>\n",
       "      <td>0</td>\n",
       "      <td>63</td>\n",
       "      <td>3869200167</td>\n",
       "      <td>2553</td>\n",
       "      <td>28</td>\n",
       "      <td>0.0</td>\n",
       "      <td>1970-01-04 23:44:09.004939373</td>\n",
       "    </tr>\n",
       "    <tr>\n",
       "      <th>3</th>\n",
       "      <td>1</td>\n",
       "      <td>0</td>\n",
       "      <td>64</td>\n",
       "      <td>3869200167</td>\n",
       "      <td>2558</td>\n",
       "      <td>19</td>\n",
       "      <td>0.0</td>\n",
       "      <td>1970-01-04 23:44:09.004939490</td>\n",
       "    </tr>\n",
       "    <tr>\n",
       "      <th>4</th>\n",
       "      <td>1</td>\n",
       "      <td>0</td>\n",
       "      <td>64</td>\n",
       "      <td>3869200167</td>\n",
       "      <td>2760</td>\n",
       "      <td>25</td>\n",
       "      <td>0.0</td>\n",
       "      <td>1970-01-04 23:44:09.004944545</td>\n",
       "    </tr>\n",
       "    <tr>\n",
       "      <th>...</th>\n",
       "      <td>...</td>\n",
       "      <td>...</td>\n",
       "      <td>...</td>\n",
       "      <td>...</td>\n",
       "      <td>...</td>\n",
       "      <td>...</td>\n",
       "      <td>...</td>\n",
       "      <td>...</td>\n",
       "    </tr>\n",
       "    <tr>\n",
       "      <th>1310715</th>\n",
       "      <td>1</td>\n",
       "      <td>0</td>\n",
       "      <td>62</td>\n",
       "      <td>3869211171</td>\n",
       "      <td>762</td>\n",
       "      <td>14</td>\n",
       "      <td>0.0</td>\n",
       "      <td>1970-01-04 23:44:09.985075886</td>\n",
       "    </tr>\n",
       "    <tr>\n",
       "      <th>1310716</th>\n",
       "      <td>1</td>\n",
       "      <td>1</td>\n",
       "      <td>4</td>\n",
       "      <td>3869211171</td>\n",
       "      <td>763</td>\n",
       "      <td>11</td>\n",
       "      <td>0.0</td>\n",
       "      <td>1970-01-04 23:44:09.985075909</td>\n",
       "    </tr>\n",
       "    <tr>\n",
       "      <th>1310717</th>\n",
       "      <td>1</td>\n",
       "      <td>0</td>\n",
       "      <td>64</td>\n",
       "      <td>3869211171</td>\n",
       "      <td>764</td>\n",
       "      <td>0</td>\n",
       "      <td>0.0</td>\n",
       "      <td>1970-01-04 23:44:09.985075925</td>\n",
       "    </tr>\n",
       "    <tr>\n",
       "      <th>1310718</th>\n",
       "      <td>1</td>\n",
       "      <td>0</td>\n",
       "      <td>139</td>\n",
       "      <td>3869211171</td>\n",
       "      <td>769</td>\n",
       "      <td>0</td>\n",
       "      <td>0.0</td>\n",
       "      <td>1970-01-04 23:44:09.985076050</td>\n",
       "    </tr>\n",
       "    <tr>\n",
       "      <th>1310719</th>\n",
       "      <td>1</td>\n",
       "      <td>0</td>\n",
       "      <td>61</td>\n",
       "      <td>3869211171</td>\n",
       "      <td>762</td>\n",
       "      <td>18</td>\n",
       "      <td>0.0</td>\n",
       "      <td>1970-01-04 23:44:09.985075890</td>\n",
       "    </tr>\n",
       "  </tbody>\n",
       "</table>\n",
       "<p>1310720 rows × 8 columns</p>\n",
       "</div>"
      ],
      "text/plain": [
       "         HEAD  FPGA  TDC_CHANNEL   ORBIT_CNT  BX_COUNTER  TDC_MEAS  \\\n",
       "0           1     0          123  3869200167        2374        26   \n",
       "1           1     0          124  3869200167        2374        27   \n",
       "2           1     0           63  3869200167        2553        28   \n",
       "3           1     0           64  3869200167        2558        19   \n",
       "4           1     0           64  3869200167        2760        25   \n",
       "...       ...   ...          ...         ...         ...       ...   \n",
       "1310715     1     0           62  3869211171         762        14   \n",
       "1310716     1     1            4  3869211171         763        11   \n",
       "1310717     1     0           64  3869211171         764         0   \n",
       "1310718     1     0          139  3869211171         769         0   \n",
       "1310719     1     0           61  3869211171         762        18   \n",
       "\n",
       "         BX_COUNTER_CHANGE                       Time_ns  \n",
       "0                      NaN 1970-01-04 23:44:09.004934896  \n",
       "1                      0.0 1970-01-04 23:44:09.004934897  \n",
       "2                      0.0 1970-01-04 23:44:09.004939373  \n",
       "3                      0.0 1970-01-04 23:44:09.004939490  \n",
       "4                      0.0 1970-01-04 23:44:09.004944545  \n",
       "...                    ...                           ...  \n",
       "1310715                0.0 1970-01-04 23:44:09.985075886  \n",
       "1310716                0.0 1970-01-04 23:44:09.985075909  \n",
       "1310717                0.0 1970-01-04 23:44:09.985075925  \n",
       "1310718                0.0 1970-01-04 23:44:09.985076050  \n",
       "1310719                0.0 1970-01-04 23:44:09.985075890  \n",
       "\n",
       "[1310720 rows x 8 columns]"
      ]
     },
     "execution_count": 9,
     "metadata": {},
     "output_type": "execute_result"
    }
   ],
   "source": [
    "data['Time_ns'] = X*25* data['ORBIT_CNT'] + 25 *data['BX_COUNTER'] + (25/30) *data['TDC_MEAS']\n",
    "data['Time_ns'] = pd.to_datetime(data['Time_ns'], unit='ns')\n",
    "data"
   ]
  },
  {
   "cell_type": "markdown",
   "metadata": {},
   "source": [
    "4\\. Find out the duration of the data taking in hours, minutes and seconds, by using the features of the Time Series. Perform this check reading the whole dataset."
   ]
  },
  {
   "cell_type": "code",
   "execution_count": 10,
   "metadata": {},
   "outputs": [
    {
     "name": "stdout",
     "output_type": "stream",
     "text": [
      "delta_t = 0 days 00:00:00.980141154\n"
     ]
    }
   ],
   "source": [
    "delta_t = data['Time_ns'].max() - data['Time_ns'].min()\n",
    "print(\"delta_t =\", delta_t)"
   ]
  },
  {
   "cell_type": "markdown",
   "metadata": {},
   "source": [
    "5\\. Use the `.groupby()` method to find out the noisy channels, i.e. the TDC channels with most counts (print to screen the top 3 and the corresponding counts)"
   ]
  },
  {
   "cell_type": "code",
   "execution_count": 11,
   "metadata": {},
   "outputs": [
    {
     "data": {
      "text/html": [
       "<div>\n",
       "<style scoped>\n",
       "    .dataframe tbody tr th:only-of-type {\n",
       "        vertical-align: middle;\n",
       "    }\n",
       "\n",
       "    .dataframe tbody tr th {\n",
       "        vertical-align: top;\n",
       "    }\n",
       "\n",
       "    .dataframe thead th {\n",
       "        text-align: right;\n",
       "    }\n",
       "</style>\n",
       "<table border=\"1\" class=\"dataframe\">\n",
       "  <thead>\n",
       "    <tr style=\"text-align: right;\">\n",
       "      <th></th>\n",
       "      <th>HEAD</th>\n",
       "      <th>FPGA</th>\n",
       "      <th>ORBIT_CNT</th>\n",
       "      <th>BX_COUNTER</th>\n",
       "      <th>TDC_MEAS</th>\n",
       "      <th>BX_COUNTER_CHANGE</th>\n",
       "      <th>Time_ns</th>\n",
       "    </tr>\n",
       "    <tr>\n",
       "      <th>TDC_CHANNEL</th>\n",
       "      <th></th>\n",
       "      <th></th>\n",
       "      <th></th>\n",
       "      <th></th>\n",
       "      <th></th>\n",
       "      <th></th>\n",
       "      <th></th>\n",
       "    </tr>\n",
       "  </thead>\n",
       "  <tbody>\n",
       "    <tr>\n",
       "      <th>139</th>\n",
       "      <td>108059</td>\n",
       "      <td>108059</td>\n",
       "      <td>108059</td>\n",
       "      <td>108059</td>\n",
       "      <td>108059</td>\n",
       "      <td>108059</td>\n",
       "      <td>108059</td>\n",
       "    </tr>\n",
       "    <tr>\n",
       "      <th>64</th>\n",
       "      <td>66020</td>\n",
       "      <td>66020</td>\n",
       "      <td>66020</td>\n",
       "      <td>66020</td>\n",
       "      <td>66020</td>\n",
       "      <td>66020</td>\n",
       "      <td>66020</td>\n",
       "    </tr>\n",
       "    <tr>\n",
       "      <th>63</th>\n",
       "      <td>64642</td>\n",
       "      <td>64642</td>\n",
       "      <td>64642</td>\n",
       "      <td>64642</td>\n",
       "      <td>64642</td>\n",
       "      <td>64642</td>\n",
       "      <td>64642</td>\n",
       "    </tr>\n",
       "  </tbody>\n",
       "</table>\n",
       "</div>"
      ],
      "text/plain": [
       "               HEAD    FPGA  ORBIT_CNT  BX_COUNTER  TDC_MEAS  \\\n",
       "TDC_CHANNEL                                                    \n",
       "139          108059  108059     108059      108059    108059   \n",
       "64            66020   66020      66020       66020     66020   \n",
       "63            64642   64642      64642       64642     64642   \n",
       "\n",
       "             BX_COUNTER_CHANGE  Time_ns  \n",
       "TDC_CHANNEL                              \n",
       "139                     108059   108059  \n",
       "64                       66020    66020  \n",
       "63                       64642    64642  "
      ]
     },
     "execution_count": 11,
     "metadata": {},
     "output_type": "execute_result"
    }
   ],
   "source": [
    "data.groupby(['TDC_CHANNEL']).count().sort_values(by=\"HEAD\", ascending=False)[:3]"
   ]
  },
  {
   "cell_type": "markdown",
   "metadata": {},
   "source": [
    "6\\. Count the number of non-empty orbits (i.e. the number of orbits with at least one hit)."
   ]
  },
  {
   "cell_type": "code",
   "execution_count": 12,
   "metadata": {},
   "outputs": [
    {
     "name": "stdout",
     "output_type": "stream",
     "text": [
      "The number of unique non-empty orbits (i.e. the number of orbits with at least one hit) is 11001.\n"
     ]
    }
   ],
   "source": [
    "no_empty_orbits= data.groupby(\"ORBIT_CNT\").count()\n",
    "print(\"The number of unique non-empty orbits (i.e. the number of orbits with at least one hit) is %d.\"%len(no_empty_orbits))"
   ]
  },
  {
   "cell_type": "markdown",
   "metadata": {},
   "source": [
    "7\\. Count the number of unique orbits with at least one measurement from TDC_CHANNEL=139."
   ]
  },
  {
   "cell_type": "code",
   "execution_count": 13,
   "metadata": {},
   "outputs": [
    {
     "name": "stdout",
     "output_type": "stream",
     "text": [
      "The number of unique orbits with at least one measurement from TDC_CHANNEL 139 is 107009.\n"
     ]
    }
   ],
   "source": [
    "unique_orbits=pd.DataFrame(data[data['TDC_CHANNEL']==139]).drop_duplicates(subset=['ORBIT_CNT','BX_COUNTER'], inplace=False)\n",
    "print(\"The number of unique orbits with at least one measurement from TDC_CHANNEL 139 is %d.\"%len(unique_orbits))"
   ]
  },
  {
   "cell_type": "markdown",
   "metadata": {},
   "source": [
    "8\\. Create two Series (one for each FPGA) that have the TDC channel as index, and the number of counts for the corresponding TDC channel as values."
   ]
  },
  {
   "cell_type": "code",
   "execution_count": 14,
   "metadata": {},
   "outputs": [],
   "source": [
    "FPGA_0 = pd.Series(data[data['FPGA']==0]['TDC_CHANNEL'].value_counts())\n",
    "FPGA_1 = pd.Series(data[data['FPGA']==1]['TDC_CHANNEL'].value_counts())"
   ]
  },
  {
   "cell_type": "markdown",
   "metadata": {},
   "source": [
    "9\\. **Optional:** Create two histograms (one for each FPGA) that show the number of counts for each TDC channel."
   ]
  },
  {
   "cell_type": "code",
   "execution_count": 15,
   "metadata": {},
   "outputs": [
    {
     "data": {
      "text/plain": [
       "Text(0, 0.5, 'Count')"
      ]
     },
     "execution_count": 15,
     "metadata": {},
     "output_type": "execute_result"
    },
    {
     "data": {
      "image/png": "[encoded data removed]",
      "text/plain": [
       "<Figure size 1440x1440 with 2 Axes>"
      ]
     },
     "metadata": {
      "needs_background": "light"
     },
     "output_type": "display_data"
    }
   ],
   "source": [
    "plt.figure(figsize = (20, 20))\n",
    "\n",
    "plt.subplot(2,1,1)\n",
    "plt.hist(FPGA_0)\n",
    "plt.title('FPGA 0')\n",
    "plt.xlabel('TDC channel')\n",
    "plt.ylabel('Count')\n",
    "\n",
    "plt.subplot(2,1,2)\n",
    "plt.hist(FPGA_1, color='r')\n",
    "plt.title('FPGA 1')\n",
    "plt.xlabel('TDC channel')\n",
    "plt.ylabel('Count')"
   ]
  }
 ],
 "metadata": {
  "kernelspec": {
   "display_name": "Python 3 (ipykernel)",
   "language": "python",
   "name": "python3"
  },
  "language_info": {
   "codemirror_mode": {
    "name": "ipython",
    "version": 3
   },
   "file_extension": ".py",
   "mimetype": "text/x-python",
   "name": "python",
   "nbconvert_exporter": "python",
   "pygments_lexer": "ipython3",
   "version": "3.9.7"
  }
 },
 "nbformat": 4,
 "nbformat_minor": 2
}
