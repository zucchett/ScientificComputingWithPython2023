{
 "cells": [
  {
   "cell_type": "code",
   "execution_count": 1,
   "metadata": {},
   "outputs": [],
   "source": [
    "import pandas as pd"
   ]
  },
  {
   "cell_type": "markdown",
   "metadata": {},
   "source": [
    "1\\. **Pandas DataFrame**\n",
    "\n",
    "This exercise consists in analyzing a dataset containg timing information from a series of Time-to-Digital-Converters (TDC) implemented in a pair of FPGAs. Each measurement (i.e. each row of the input file) consists of a flag that specifies the type of message ('HEAD', which in this case is always 1), two addresses of the TDC providing the signal ('FPGA' and 'TDC_CHANNEL'), and the timing information ('ORBIT_CNT', 'BX_COUNTER', and 'TDC_MEAS'). Each TDC count corresponds to 25/30 ns, whereas a unit of BX_COUNTER corresponds to 25 ns, and the ORBIT_CNT is increased every `x` BX_COUNTER. This allows to store the time in a similar way to hours, minutes and seconds."
   ]
  },
  {
   "cell_type": "code",
   "execution_count": 2,
   "metadata": {},
   "outputs": [],
   "source": [
    "# If haven't downloaded it yet, please get the data file with wget\n",
    "#!wget https://www.dropbox.com/s/xvjzaxzz3ysphme/data_000637.txt -P ./data/"
   ]
  },
  {
   "cell_type": "code",
   "execution_count": 3,
   "metadata": {},
   "outputs": [
    {
     "name": "stdout",
     "output_type": "stream",
     "text": [
      "Here is the dataframe from data_000637.txt that we will use for this exercise : \n",
      "         HEAD  FPGA  TDC_CHANNEL   ORBIT_CNT  BX_COUNTER  TDC_MEAS\n",
      "0           1     0          123  3869200167        2374        26\n",
      "1           1     0          124  3869200167        2374        27\n",
      "2           1     0           63  3869200167        2553        28\n",
      "3           1     0           64  3869200167        2558        19\n",
      "4           1     0           64  3869200167        2760        25\n",
      "...       ...   ...          ...         ...         ...       ...\n",
      "1310715     1     0           62  3869211171         762        14\n",
      "1310716     1     1            4  3869211171         763        11\n",
      "1310717     1     0           64  3869211171         764         0\n",
      "1310718     1     0          139  3869211171         769         0\n",
      "1310719     1     0           61  3869211171         762        18\n",
      "\n",
      "[1310720 rows x 6 columns]\n"
     ]
    }
   ],
   "source": [
    "file_name = \"./data/data_000637.txt\"\n",
    "data = pd.read_csv(file_name)\n",
    "print(f\"Here is the dataframe from data_000637.txt that we will use for this exercise : \\n{data}\")"
   ]
  },
  {
   "cell_type": "markdown",
   "metadata": {},
   "source": [
    "1\\. Create a Pandas DataFrame reading N rows of the `data/data_000637.txt` dataset. Choose N to be smaller than or equal to the maximum number of rows and larger that 10k (check the documentation)."
   ]
  },
  {
   "cell_type": "code",
   "execution_count": 4,
   "metadata": {},
   "outputs": [
    {
     "name": "stdout",
     "output_type": "stream",
     "text": [
      "We take N = 100000.\n",
      "\n",
      "=> For the DataFrame that reads the first N rows of data/data_000637.txt dataset, we obtain the following dataframe: \n",
      "       HEAD  FPGA  TDC_CHANNEL   ORBIT_CNT  BX_COUNTER  TDC_MEAS\n",
      "0         1     0          123  3869200167        2374        26\n",
      "1         1     0          124  3869200167        2374        27\n",
      "2         1     0           63  3869200167        2553        28\n",
      "3         1     0           64  3869200167        2558        19\n",
      "4         1     0           64  3869200167        2760        25\n",
      "...     ...   ...          ...         ...         ...       ...\n",
      "99995     1     0           64  3869201161        2378        29\n",
      "99996     1     0           70  3869201161        2472        26\n",
      "99997     1     0           58  3869201161        2558         0\n",
      "99998     1     0           57  3869201161        2561        23\n",
      "99999     1     0           56  3869201161        2565        12\n",
      "\n",
      "[100000 rows x 6 columns]\n",
      "\n",
      "\n",
      "=> By using .tail() on the dataframe and knowing that we have N = 100000, we can see that the dataframe reads the N lines: \n",
      "       HEAD  FPGA  TDC_CHANNEL   ORBIT_CNT  BX_COUNTER  TDC_MEAS\n",
      "99995     1     0           64  3869201161        2378        29\n",
      "99996     1     0           70  3869201161        2472        26\n",
      "99997     1     0           58  3869201161        2558         0\n",
      "99998     1     0           57  3869201161        2561        23\n",
      "99999     1     0           56  3869201161        2565        12\n",
      "\n"
     ]
    }
   ],
   "source": [
    "def N_row(data, N) :\n",
    "    if N < 10000 : \n",
    "        raise ValueError(f\"Error : N must be > 10000 (here N = {N})\")\n",
    "    elif N > data.shape[0] :\n",
    "        raise ValueError(f\"Error : N must be < {data.shape[0]}\")\n",
    "    else :\n",
    "        return data[:N]\n",
    "    \n",
    "N = 100000\n",
    "data_N = N_row(data, N)\n",
    "\n",
    "print(f\"\"\"We take N = {N}.\\n\n",
    "=> For the DataFrame that reads the first N rows of data/data_000637.txt dataset, we obtain the following dataframe: \\n{data_N}\\n\\n\n",
    "=> By using .tail() on the dataframe and knowing that we have N = {N}, we can see that the dataframe reads the N lines: \\n{data_N.tail()}\n",
    "\"\"\")"
   ]
  },
  {
   "cell_type": "markdown",
   "metadata": {},
   "source": [
    "2\\. Estimate the number of BX in a ORBIT (the value `x`).\n",
    "\n",
    "*Hint*: check when the BX counter reaches the maximum value before being reset to 0."
   ]
  },
  {
   "cell_type": "code",
   "execution_count": 5,
   "metadata": {},
   "outputs": [
    {
     "name": "stdout",
     "output_type": "stream",
     "text": [
      "The estimate number of BX in a ORBIT is : 3563\n"
     ]
    }
   ],
   "source": [
    "x = data['BX_COUNTER'].max()\n",
    "\n",
    "print(f\"The estimate number of BX in a ORBIT is : {x}\")"
   ]
  },
  {
   "cell_type": "markdown",
   "metadata": {},
   "source": [
    "3\\. Create a new column with the absolute time in ns (as a combination of the other three columns with timing information) since the beginning of the data acquisition, and convert the new column to a Time Series.\n",
    "\n",
    "*Hint:* introduce an offset to the absolute time such that the start of the data acquisition (i.e. the first entry) is zero."
   ]
  },
  {
   "cell_type": "code",
   "execution_count": 6,
   "metadata": {},
   "outputs": [
    {
     "name": "stdout",
     "output_type": "stream",
     "text": [
      "Here is the updated dataset with the new ABSOLUTE_TIME column : \n",
      "         HEAD  FPGA  TDC_CHANNEL   ORBIT_CNT  BX_COUNTER  TDC_MEAS  \\\n",
      "0           1     0          123  3869200167        2374        26   \n",
      "1           1     0          124  3869200167        2374        27   \n",
      "2           1     0           63  3869200167        2553        28   \n",
      "3           1     0           64  3869200167        2558        19   \n",
      "4           1     0           64  3869200167        2760        25   \n",
      "...       ...   ...          ...         ...         ...       ...   \n",
      "1310715     1     0           62  3869211171         762        14   \n",
      "1310716     1     1            4  3869211171         763        11   \n",
      "1310717     1     0           64  3869211171         764         0   \n",
      "1310718     1     0          139  3869211171         769         0   \n",
      "1310719     1     0           61  3869211171         762        18   \n",
      "\n",
      "                        ABSOLUTE_TIME  \n",
      "0       1970-01-01 00:00:00.000000000  \n",
      "1       1970-01-01 00:00:00.000000000  \n",
      "2       1970-01-01 00:00:00.000004476  \n",
      "3       1970-01-01 00:00:00.000004594  \n",
      "4       1970-01-01 00:00:00.000009649  \n",
      "...                               ...  \n",
      "1310715 1970-01-01 00:00:00.980140990  \n",
      "1310716 1970-01-01 00:00:00.980141012  \n",
      "1310717 1970-01-01 00:00:00.980141028  \n",
      "1310718 1970-01-01 00:00:00.980141153  \n",
      "1310719 1970-01-01 00:00:00.980140993  \n",
      "\n",
      "[1310720 rows x 7 columns]\n"
     ]
    }
   ],
   "source": [
    "# Initialization\n",
    "TDC_time = 25/30                      # Each TDC count corresponds to 25/30 ns\n",
    "BX_COUNTER_time = 25                  # Each BX_COUNTER unit corresponds to 25 ns\n",
    "ORBIT_CNT_time = BX_COUNTER_time * x  # The ORBIT_CNT is increased every 'x' BX_COUNTER\n",
    "\n",
    "# For each line, we add in a new ABSOLUTE_TIME column, the absolute time in ns calculated\n",
    "data['ABSOLUTE_TIME'] = data['TDC_MEAS'] * TDC_time + data['BX_COUNTER'] * BX_COUNTER_time + data['ORBIT_CNT'] * ORBIT_CNT_time\n",
    "\n",
    "# We set up the offset to ensure that the time starts at 0\n",
    "data['ABSOLUTE_TIME'] -= data['ABSOLUTE_TIME'][0]\n",
    "\n",
    "data['ABSOLUTE_TIME'] = pd.to_datetime(data['ABSOLUTE_TIME'])\n",
    "\n",
    "print(f\"Here is the updated dataset with the new ABSOLUTE_TIME column : \\n{data}\")"
   ]
  },
  {
   "cell_type": "markdown",
   "metadata": {},
   "source": [
    "4\\. Find out the duration of the data taking in hours, minutes and seconds, by using the features of the Time Series. Perform this check reading the whole dataset."
   ]
  },
  {
   "cell_type": "code",
   "execution_count": 7,
   "metadata": {},
   "outputs": [
    {
     "name": "stdout",
     "output_type": "stream",
     "text": [
      "The final duration obtained corresponds to : 0 h 0 m 0,980.140.993 s\n"
     ]
    }
   ],
   "source": [
    "# To get the duration, we subtract the time of the first entry from that of the last entry\n",
    "duration = data['ABSOLUTE_TIME'].iloc[-1] - data['ABSOLUTE_TIME'].iloc[0]\n",
    "\n",
    "# Extract hours, minutes, and seconds from the duration\n",
    "hours = duration.components.hours\n",
    "minutes = duration.components.minutes\n",
    "seconds = duration.components.seconds\n",
    "milliseconds = duration.components.milliseconds\n",
    "microseconds = duration.components.microseconds\n",
    "nanoseconds = duration.components.nanoseconds\n",
    "\n",
    "# We display hours, minutes, and seconds\n",
    "print(f\"The final duration obtained corresponds to : {hours} h {minutes} m {seconds},{milliseconds}.{microseconds}.{nanoseconds} s\")\n"
   ]
  },
  {
   "cell_type": "markdown",
   "metadata": {},
   "source": [
    "5\\. Use the `.groupby()` method to find out the noisy channels, i.e. the TDC channels with most counts (print to screen the top 3 and the corresponding counts)"
   ]
  },
  {
   "cell_type": "code",
   "execution_count": 8,
   "metadata": {},
   "outputs": [
    {
     "name": "stdout",
     "output_type": "stream",
     "text": [
      "Top 3 of TDC channels with most counts : \n",
      "TDC_CHANNEL\n",
      "139    108059\n",
      "64      66020\n",
      "63      64642\n",
      "Name: TDC_CHANNEL, dtype: int64\n"
     ]
    }
   ],
   "source": [
    "# We groupby according to 'TDC_CHANNEL', then we count the number of occurrences for each channel, and we sort in descending order\n",
    "noisy_channels = data.groupby('TDC_CHANNEL')['TDC_CHANNEL'].count().sort_values(ascending=False)\n",
    "\n",
    "print(f\"Top 3 of TDC channels with most counts : \\n{noisy_channels.head(3)}\")"
   ]
  },
  {
   "cell_type": "markdown",
   "metadata": {},
   "source": [
    "6\\. Count the number of non-empty orbits (i.e. the number of orbits with at least one hit)."
   ]
  },
  {
   "cell_type": "code",
   "execution_count": 9,
   "metadata": {},
   "outputs": [
    {
     "name": "stdout",
     "output_type": "stream",
     "text": [
      "We have 11001 non-empty orbits\n"
     ]
    }
   ],
   "source": [
    "# We count the number of groups based on the unique values of 'ORBIT_CNT'\n",
    "non_empty_orbits = len(data.groupby('ORBIT_CNT'))\n",
    "\n",
    "print(f\"We have {non_empty_orbits} non-empty orbits\")"
   ]
  },
  {
   "cell_type": "markdown",
   "metadata": {},
   "source": [
    "7\\. Count the number of unique orbits with at least one measurement from TDC_CHANNEL=139."
   ]
  },
  {
   "cell_type": "code",
   "execution_count": 10,
   "metadata": {},
   "outputs": [
    {
     "name": "stdout",
     "output_type": "stream",
     "text": [
      "We have 10976 unique orbits with at least one measurement from TDC_CHANNEL=139\n"
     ]
    }
   ],
   "source": [
    "# We filter for TDC_CHANNEL=139\n",
    "data_channel139 = data[data['TDC_CHANNEL'] == 139]\n",
    "\n",
    "# We count the number of groups based on the unique values of 'ORBIT_CNT' of the DataFrame for TDC_CHANNEL=139 \n",
    "unique_orbits_with_139 = len(data_channel139.groupby('ORBIT_CNT'))\n",
    "\n",
    "print(f\"We have {unique_orbits_with_139} unique orbits with at least one measurement from TDC_CHANNEL=139\")"
   ]
  },
  {
   "cell_type": "markdown",
   "metadata": {},
   "source": [
    "8\\. Create two Series (one for each FPGA) that have the TDC channel as index, and the number of counts for the corresponding TDC channel as values."
   ]
  },
  {
   "cell_type": "code",
   "execution_count": 11,
   "metadata": {},
   "outputs": [
    {
     "name": "stdout",
     "output_type": "stream",
     "text": [
      "For FPGA 0, we have : \n",
      "TDC_CHANNEL\n",
      "1       1215\n",
      "2       1602\n",
      "3       1493\n",
      "4       2352\n",
      "5       1432\n",
      "       ...  \n",
      "129        2\n",
      "130       33\n",
      "137       32\n",
      "138       34\n",
      "139    75617\n",
      "Name: TDC_CHANNEL, Length: 124, dtype: int64\n",
      "\n",
      "\n",
      "For FPGA 1, we have : \n",
      "TDC_CHANNEL\n",
      "1      28438\n",
      "2      32669\n",
      "3      21970\n",
      "4      26403\n",
      "5      15003\n",
      "       ...  \n",
      "129       35\n",
      "130       38\n",
      "137       36\n",
      "138       36\n",
      "139    32442\n",
      "Name: TDC_CHANNEL, Length: 132, dtype: int64\n"
     ]
    }
   ],
   "source": [
    "# Filtering for each FPGA\n",
    "FPGA0 = data[data['FPGA'] == 0]\n",
    "FPGA1 = data[data['FPGA'] == 1]\n",
    "\n",
    "# We groupby according to TDC_CHANNEL, then we count for each FPGA\n",
    "TDC_CHANNEL_FPGA0 = FPGA0.groupby('TDC_CHANNEL')['TDC_CHANNEL'].count()\n",
    "TDC_CHANNEL_FPGA1 = FPGA1.groupby('TDC_CHANNEL')['TDC_CHANNEL'].count()\n",
    "\n",
    "print(f\"For FPGA 0, we have : \\n{TDC_CHANNEL_FPGA0}\\n\\n\")\n",
    "print(f\"For FPGA 1, we have : \\n{TDC_CHANNEL_FPGA1}\")"
   ]
  },
  {
   "cell_type": "markdown",
   "metadata": {},
   "source": [
    "9\\. **Optional:** Create two histograms (one for each FPGA) that show the number of counts for each TDC channel."
   ]
  },
  {
   "cell_type": "code",
   "execution_count": 12,
   "metadata": {},
   "outputs": [
    {
     "data": {
      "image/png": "[encoded data removed]",
      "text/plain": [
       "<Figure size 1400x600 with 2 Axes>"
      ]
     },
     "metadata": {},
     "output_type": "display_data"
    }
   ],
   "source": [
    "import matplotlib.pyplot as plt\n",
    "\n",
    "plt.figure(figsize=(14, 6))\n",
    "\n",
    "# For FPGA 0\n",
    "plt.subplot(1, 2, 1)\n",
    "plt.hist(FPGA0['TDC_CHANNEL'], bins=100, color='b')\n",
    "plt.title('Histogram of Counts for FPGA 0')\n",
    "plt.xlabel('TDC Channel')\n",
    "plt.ylabel('Counts')\n",
    "\n",
    "# For FPGA 1\n",
    "plt.subplot(1, 2, 2)\n",
    "plt.hist(FPGA1['TDC_CHANNEL'], bins=100, color='r')\n",
    "plt.title('Histogram of Counts for FPGA 1')\n",
    "plt.xlabel('TDC Channel')\n",
    "plt.ylabel('Counts')\n",
    "\n",
    "plt.show()"
   ]
  }
 ],
 "metadata": {
  "kernelspec": {
   "display_name": "Python 3 (ipykernel)",
   "language": "python",
   "name": "python3"
  },
  "language_info": {
   "codemirror_mode": {
    "name": "ipython",
    "version": 3
   },
   "file_extension": ".py",
   "mimetype": "text/x-python",
   "name": "python",
   "nbconvert_exporter": "python",
   "pygments_lexer": "ipython3",
   "version": "3.11.4"
  }
 },
 "nbformat": 4,
 "nbformat_minor": 4
}
