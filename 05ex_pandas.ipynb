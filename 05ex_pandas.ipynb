{
 "cells": [
  {
   "cell_type": "markdown",
   "metadata": {},
   "source": [
    "1\\. **Pandas DataFrame**\n",
    "\n",
    "This exercise consists in analyzing a dataset containg timing information from a series of Time-to-Digital-Converters (TDC) implemented in a pair of FPGAs. Each measurement (i.e. each row of the input file) consists of a flag that specifies the type of message ('HEAD', which in this case is always 1), two addresses of the TDC providing the signal ('FPGA' and 'TDC_CHANNEL'), and the timing information ('ORBIT_CNT', 'BX_COUNTER', and 'TDC_MEAS'). Each TDC count corresponds to 25/30 ns, whereas a unit of BX_COUNTER corresponds to 25 ns, and the ORBIT_CNT is increased every `x` BX_COUNTER. This allows to store the time in a similar way to hours, minutes and seconds."
   ]
  },
  {
   "cell_type": "code",
   "execution_count": null,
   "metadata": {},
   "outputs": [],
   "source": [
    "# If haven't downloaded it yet, please get the data file with wget\n",
    "#!wget https://www.dropbox.com/s/xvjzaxzz3ysphme/data_000637.txt -P ./data/"
   ]
  },
  {
   "cell_type": "markdown",
   "metadata": {},
   "source": [
    "1\\. Create a Pandas DataFrame reading N rows of the `data/data_000637.txt` dataset. Choose N to be smaller than or equal to the maximum number of rows and larger that 10k (check the documentation)."
   ]
  },
  {
   "cell_type": "code",
   "execution_count": 1,
   "metadata": {},
   "outputs": [
    {
     "name": "stdout",
     "output_type": "stream",
     "text": [
      "         HEAD  FPGA  TDC_CHANNEL   ORBIT_CNT  BX_COUNTER  TDC_MEAS\n",
      "0           1     0          123  3869200167        2374        26\n",
      "1           1     0          124  3869200167        2374        27\n",
      "2           1     0           63  3869200167        2553        28\n",
      "3           1     0           64  3869200167        2558        19\n",
      "4           1     0           64  3869200167        2760        25\n",
      "...       ...   ...          ...         ...         ...       ...\n",
      "1310715     1     0           62  3869211171         762        14\n",
      "1310716     1     1            4  3869211171         763        11\n",
      "1310717     1     0           64  3869211171         764         0\n",
      "1310718     1     0          139  3869211171         769         0\n",
      "1310719     1     0           61  3869211171         762        18\n",
      "\n",
      "[1310720 rows x 6 columns]\n",
      "       HEAD  FPGA  TDC_CHANNEL   ORBIT_CNT  BX_COUNTER  TDC_MEAS\n",
      "0         1     0          123  3869200167        2374        26\n",
      "1         1     0          124  3869200167        2374        27\n",
      "2         1     0           63  3869200167        2553        28\n",
      "3         1     0           64  3869200167        2558        19\n",
      "4         1     0           64  3869200167        2760        25\n",
      "...     ...   ...          ...         ...         ...       ...\n",
      "29995     1     1           60  3869200466         356        11\n",
      "29996     1     0           64  3869200466         347         4\n",
      "29997     1     0          139  3869200466         357         0\n",
      "29998     1     0           61  3869200466         353        10\n",
      "29999     1     0          119  3869200466         357         5\n",
      "\n",
      "[30000 rows x 6 columns]\n"
     ]
    }
   ],
   "source": [
    "import numpy as np\n",
    "import pandas as pd\n",
    "import matplotlib.pyplot as plt\n",
    "\n",
    "file_name = \"data_000637.txt\"\n",
    "data = pd.read_csv(file_name)\n",
    "print(data)\n",
    "\n",
    "dt=pd.read_csv(file_name, nrows = 30000)\n",
    "print(dt)"
   ]
  },
  {
   "cell_type": "markdown",
   "metadata": {},
   "source": [
    "2\\. Estimate the number of BX in a ORBIT (the value `x`).\n",
    "\n",
    "*Hint*: check when the BX counter reaches the maximum value before being reset to 0."
   ]
  },
  {
   "cell_type": "code",
   "execution_count": 2,
   "metadata": {},
   "outputs": [
    {
     "name": "stdout",
     "output_type": "stream",
     "text": [
      "Value x (amount of BX_COUNTER in one ORBIT_CNT): 351\n"
     ]
    }
   ],
   "source": [
    "max_orbit = dt.groupby('ORBIT_CNT')['BX_COUNTER'].max()\n",
    "\n",
    "diff = max_orbit.diff().dropna()\n",
    "\n",
    "x = int(diff.values[0])\n",
    "print(\"Value x (amount of BX_COUNTER in one ORBIT_CNT):\", x)"
   ]
  },
  {
   "cell_type": "markdown",
   "metadata": {},
   "source": [
    "3\\. Create a new column with the absolute time in ns (as a combination of the other three columns with timing information) since the beginning of the data acquisition, and convert the new column to a Time Series.\n",
    "\n",
    "*Hint:* introduce an offset to the absolute time such that the start of the data acquisition (i.e. the first entry) is zero."
   ]
  },
  {
   "cell_type": "code",
   "execution_count": 4,
   "metadata": {},
   "outputs": [
    {
     "name": "stdout",
     "output_type": "stream",
     "text": [
      "       HEAD  FPGA  TDC_CHANNEL   ORBIT_CNT  BX_COUNTER  TDC_MEAS  \\\n",
      "0         1     0          123  3869200167        2374        26   \n",
      "1         1     0          124  3869200167        2374        27   \n",
      "2         1     0           63  3869200167        2553        28   \n",
      "3         1     0           64  3869200167        2558        19   \n",
      "4         1     0           64  3869200167        2760        25   \n",
      "...     ...   ...          ...         ...         ...       ...   \n",
      "29995     1     1           60  3869200466         356        11   \n",
      "29996     1     0           64  3869200466         347         4   \n",
      "29997     1     0          139  3869200466         357         0   \n",
      "29998     1     0           61  3869200466         353        10   \n",
      "29999     1     0          119  3869200466         357         5   \n",
      "\n",
      "                Absolute_Time_in_ns  \n",
      "0     1970-01-03 15:48:40.862581735  \n",
      "1     1970-01-03 15:48:44.086915207  \n",
      "2     1970-01-03 20:37:21.981996005  \n",
      "3     1970-01-03 20:44:56.613015627  \n",
      "4     1970-01-04 02:10:55.419859812  \n",
      "...                             ...  \n",
      "29995 1970-01-01 09:34:31.351818338  \n",
      "29996 1970-01-01 09:19:38.211377436  \n",
      "29997 1970-01-01 09:35:32.614159050  \n",
      "29998 1970-01-01 09:29:37.937449666  \n",
      "29999 1970-01-01 09:35:48.735827658  \n",
      "\n",
      "[30000 rows x 7 columns]\n"
     ]
    }
   ],
   "source": [
    "dt['Absolute_Time_in_ns'] = dt['ORBIT_CNT'] * (dt['BX_COUNTER'] * 25 + dt['TDC_MEAS'] * (25/30))\n",
    "\n",
    "dt['Absolute_Time_in_ns'] = pd.to_datetime(dt['Absolute_Time_in_ns'], unit='ns')\n",
    "print(dt)"
   ]
  },
  {
   "cell_type": "markdown",
   "metadata": {},
   "source": [
    "4\\. Find out the duration of the data taking in hours, minutes and seconds, by using the features of the Time Series. Perform this check reading the whole dataset."
   ]
  },
  {
   "cell_type": "code",
   "execution_count": 5,
   "metadata": {},
   "outputs": [
    {
     "name": "stdout",
     "output_type": "stream",
     "text": [
      "Duration of the data taking is 23 hours 45 minutes 42 seconds\n"
     ]
    }
   ],
   "source": [
    "duration = dt['Absolute_Time_in_ns'].max() - dt['Absolute_Time_in_ns'].min()\n",
    "\n",
    "hours = duration.components.hours\n",
    "minutes = duration.components.minutes\n",
    "seconds = duration.components.seconds\n",
    "\n",
    "print(\"Duration of the data taking is\", hours, \"hours\", minutes, \"minutes\", seconds, \"seconds\")"
   ]
  },
  {
   "cell_type": "markdown",
   "metadata": {},
   "source": [
    "5\\. Use the `.groupby()` method to find out the noisy channels, i.e. the TDC channels with most counts (print to screen the top 3 and the corresponding counts)"
   ]
  },
  {
   "cell_type": "code",
   "execution_count": 6,
   "metadata": {},
   "outputs": [
    {
     "name": "stdout",
     "output_type": "stream",
     "text": [
      "Channel 139 : 2503 events\n",
      "Channel 64 : 1518 events\n",
      "Channel 63 : 1481 events\n"
     ]
    }
   ],
   "source": [
    "noisy_channels = dt.groupby('TDC_CHANNEL').count()[\"FPGA\"].nlargest(3)\n",
    "\n",
    "for channel, count in noisy_channels.items():\n",
    "    print(\"Channel\", channel, \":\", count, \"events\" )"
   ]
  },
  {
   "cell_type": "markdown",
   "metadata": {},
   "source": [
    "6\\. Count the number of non-empty orbits (i.e. the number of orbits with at least one hit)."
   ]
  },
  {
   "cell_type": "code",
   "execution_count": 7,
   "metadata": {},
   "outputs": [
    {
     "name": "stdout",
     "output_type": "stream",
     "text": [
      "Number of non-empty orbits 300\n"
     ]
    }
   ],
   "source": [
    "nonempty_orbits = dt['ORBIT_CNT'].nunique()\n",
    "print('Number of non-empty orbits', nonempty_orbits)"
   ]
  },
  {
   "cell_type": "markdown",
   "metadata": {},
   "source": [
    "7\\. Count the number of unique orbits with at least one measurement from TDC_CHANNEL=139."
   ]
  },
  {
   "cell_type": "code",
   "execution_count": 13,
   "metadata": {},
   "outputs": [
    {
     "name": "stdout",
     "output_type": "stream",
     "text": [
      "Number of unique orbits in 139 channel : 300\n"
     ]
    }
   ],
   "source": [
    "data_channel = dt[dt['TDC_CHANNEL'] == 139]\n",
    "unique_orbits_amount = data_channel['ORBIT_CNT'].nunique()\n",
    "print('Number of unique orbits in 139 channel :', unique_orbits_amount)"
   ]
  },
  {
   "cell_type": "markdown",
   "metadata": {},
   "source": [
    "8\\. Create two Series (one for each FPGA) that have the TDC channel as index, and the number of counts for the corresponding TDC channel as values."
   ]
  },
  {
   "cell_type": "code",
   "execution_count": 14,
   "metadata": {},
   "outputs": [
    {
     "name": "stdout",
     "output_type": "stream",
     "text": [
      "FPGA 1 Series:\n",
      " TDC_CHANNEL\n",
      "139    748\n",
      "2      721\n",
      "1      649\n",
      "4      588\n",
      "3      533\n",
      "      ... \n",
      "84       2\n",
      "91       1\n",
      "82       1\n",
      "78       1\n",
      "86       1\n",
      "Name: count, Length: 126, dtype: int64\n",
      "FPGA 1 Series:\n",
      " TDC_CHANNEL\n",
      "139    1755\n",
      "64     1482\n",
      "63     1463\n",
      "61     1112\n",
      "62     1063\n",
      "       ... \n",
      "104      11\n",
      "109      11\n",
      "106      11\n",
      "101       4\n",
      "67        3\n",
      "Name: count, Length: 118, dtype: int64\n"
     ]
    }
   ],
   "source": [
    "fpga1 = dt[dt['FPGA']==1].value_counts('TDC_CHANNEL')\n",
    "fpga0 = dt[dt['FPGA']==0].value_counts('TDC_CHANNEL')\n",
    "print(\"FPGA 1 Series:\\n\", fpga1)\n",
    "print(\"FPGA 1 Series:\\n\", fpga0)"
   ]
  },
  {
   "cell_type": "markdown",
   "metadata": {},
   "source": [
    "9\\. **Optional:** Create two histograms (one for each FPGA) that show the number of counts for each TDC channel."
   ]
  },
  {
   "cell_type": "code",
   "execution_count": 15,
   "metadata": {},
   "outputs": [
    {
     "data": {
      "image/png": "[encoded data removed]",
      "text/plain": [
       "<Figure size 1200x600 with 2 Axes>"
      ]
     },
     "metadata": {},
     "output_type": "display_data"
    }
   ],
   "source": [
    "plt.figure(figsize=(12, 6))\n",
    "\n",
    "plt.subplot(1, 2, 1)\n",
    "plt.hist(fpga0, bins=50, color='red', alpha=0.7)\n",
    "plt.title('FPGA 0 - TDC Channel Counts')\n",
    "plt.xlabel('TDC Channel')\n",
    "plt.ylabel('Count')\n",
    "\n",
    "plt.subplot(1, 2, 2)\n",
    "plt.hist(fpga1, bins=50, color='green', alpha=0.7)\n",
    "plt.title('FPGA 1 - TDC Channel Counts')\n",
    "plt.xlabel('TDC Channel')\n",
    "plt.ylabel('Count')\n",
    "\n",
    "plt.tight_layout()\n",
    "plt.show()"
   ]
  },
  {
   "cell_type": "code",
   "execution_count": null,
   "metadata": {},
   "outputs": [],
   "source": []
  }
 ],
 "metadata": {
  "kernelspec": {
   "display_name": "Python 3 (ipykernel)",
   "language": "python",
   "name": "python3"
  },
  "language_info": {
   "codemirror_mode": {
    "name": "ipython",
    "version": 3
   },
   "file_extension": ".py",
   "mimetype": "text/x-python",
   "name": "python",
   "nbconvert_exporter": "python",
   "pygments_lexer": "ipython3",
   "version": "3.12.0"
  }
 },
 "nbformat": 4,
 "nbformat_minor": 4
}
