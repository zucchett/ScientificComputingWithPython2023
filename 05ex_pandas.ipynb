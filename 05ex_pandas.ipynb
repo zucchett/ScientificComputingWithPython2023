{
 "cells": [
  {
   "cell_type": "markdown",
   "metadata": {},
   "source": [
    "1\\. **Pandas DataFrame**\n",
    "\n",
    "This exercise consists in analyzing a dataset containg timing information from a series of Time-to-Digital-Converters (TDC) implemented in a pair of FPGAs. Each measurement (i.e. each row of the input file) consists of a flag that specifies the type of message ('HEAD', which in this case is always 1), two addresses of the TDC providing the signal ('FPGA' and 'TDC_CHANNEL'), and the timing information ('ORBIT_CNT', 'BX_COUNTER', and 'TDC_MEAS'). Each TDC count corresponds to 25/30 ns, whereas a unit of BX_COUNTER corresponds to 25 ns, and the ORBIT_CNT is increased every `x` BX_COUNTER. This allows to store the time in a similar way to hours, minutes and seconds."
   ]
  },
  {
   "cell_type": "code",
   "execution_count": 1,
   "metadata": {},
   "outputs": [],
   "source": [
    "# If haven't downloaded it yet, please get the data file with wget\n",
    "#!wget https://www.dropbox.com/s/xvjzaxzz3ysphme/data_000637.txt -P ./data/"
   ]
  },
  {
   "cell_type": "markdown",
   "metadata": {},
   "source": [
    "1\\. Create a Pandas DataFrame reading N rows of the `data/data_000637.txt` dataset. Choose N to be smaller than or equal to the maximum number of rows and larger that 10k (check the documentation)."
   ]
  },
  {
   "cell_type": "code",
   "execution_count": 2,
   "metadata": {},
   "outputs": [],
   "source": [
    "import pandas as pd\n",
    "import numpy as np\n",
    "import datetime as dt\n",
    "N=15000\n",
    "data = pd.read_csv('data/data_000637.txt', nrows=N)"
   ]
  },
  {
   "cell_type": "markdown",
   "metadata": {},
   "source": [
    "2\\. Estimate the number of BX in a ORBIT (the value `x`).\n",
    "\n",
    "*Hint*: check when the BX counter reaches the maximum value before being reset to 0."
   ]
  },
  {
   "cell_type": "code",
   "execution_count": 26,
   "metadata": {},
   "outputs": [
    {
     "name": "stdout",
     "output_type": "stream",
     "text": [
      "Estimated X value:  3563\n"
     ]
    }
   ],
   "source": [
    "x = data['BX_COUNTER'].max()\n",
    "print(\"Estimated X value: \", x)"
   ]
  },
  {
   "cell_type": "markdown",
   "metadata": {},
   "source": [
    "3\\. Create a new column with the absolute time in ns (as a combination of the other three columns with timing information) since the beginning of the data acquisition, and convert the new column to a Time Series.\n",
    "\n",
    "*Hint:* introduce an offset to the absolute time such that the start of the data acquisition (i.e. the first entry) is zero."
   ]
  },
  {
   "cell_type": "code",
   "execution_count": 40,
   "metadata": {},
   "outputs": [
    {
     "name": "stdout",
     "output_type": "stream",
     "text": [
      "HEAD                      1\n",
      "FPGA                      0\n",
      "TDC_CHANNEL              61\n",
      "ORBIT_CNT        3869200167\n",
      "BX_COUNTER             2772\n",
      "TDC_MEAS                 14\n",
      "ABS_TIME       00:00.000009\n",
      "Name: 6, dtype: object\n"
     ]
    }
   ],
   "source": [
    "start_time = data.loc[0]['TDC_MEAS']*(25/30)+data.loc[0]['BX_COUNTER']*25+data.loc[0]['ORBIT_CNT']*x*25\n",
    "#Calculate the starting time\n",
    "abs_time = [0]\n",
    "for i in range(1,N):\n",
    "    curr_time = data.loc[i]['TDC_MEAS']*(25/30)+data.loc[i]['BX_COUNTER']*25+data.loc[i]['ORBIT_CNT']*x*25\n",
    "    #Calculating the time of that misuration\n",
    "    abs_time.append(curr_time-start_time)\n",
    "    #Adding the current time in relation to the starting one\n",
    "data['ABS_TIME'] = pd.to_datetime(abs_time, unit=\"ns\").strftime(\"%M:%S.%f\")\n",
    "print(data.loc[6])"
   ]
  },
  {
   "cell_type": "markdown",
   "metadata": {},
   "source": [
    "4\\. Find out the duration of the data taking in hours, minutes and seconds, by using the features of the Time Series. Perform this check reading the whole dataset."
   ]
  },
  {
   "cell_type": "code",
   "execution_count": 41,
   "metadata": {},
   "outputs": [
    {
     "name": "stdout",
     "output_type": "stream",
     "text": [
      "Total time to get 15000 misurations: 00:00.013301\n"
     ]
    }
   ],
   "source": [
    "print(\"Total time to get\", N, \"misurations:\", data['ABS_TIME'].loc[N-1])"
   ]
  },
  {
   "cell_type": "markdown",
   "metadata": {},
   "source": [
    "5\\. Use the `.groupby()` method to find out the noisy channels, i.e. the TDC channels with most counts (print to screen the top 3 and the corresponding counts)"
   ]
  },
  {
   "cell_type": "code",
   "execution_count": 42,
   "metadata": {},
   "outputs": [
    {
     "name": "stdout",
     "output_type": "stream",
     "text": [
      "The 3 channels more noisy are:\n",
      " TDC_CHANNEL\n",
      "139    1268\n",
      "64      752\n",
      "63      749\n",
      "dtype: int64\n"
     ]
    }
   ],
   "source": [
    "top_entries = data.groupby('TDC_CHANNEL').size().nlargest(3)\n",
    "print(\"The 3 channels more noisy are:\\n\", top_entries)"
   ]
  },
  {
   "cell_type": "markdown",
   "metadata": {},
   "source": [
    "6\\. Count the number of non-empty orbits (i.e. the number of orbits with at least one hit)."
   ]
  },
  {
   "cell_type": "code",
   "execution_count": 13,
   "metadata": {},
   "outputs": [
    {
     "name": "stdout",
     "output_type": "stream",
     "text": [
      "Number of non empty orbits: 150\n"
     ]
    }
   ],
   "source": [
    "non_empty = data['ORBIT_CNT'].nunique()\n",
    "print(\"Number of non empty orbits:\", non_empty)"
   ]
  },
  {
   "cell_type": "markdown",
   "metadata": {},
   "source": [
    "7\\. Count the number of unique orbits with at least one measurement from TDC_CHANNEL=139."
   ]
  },
  {
   "cell_type": "code",
   "execution_count": 28,
   "metadata": {},
   "outputs": [
    {
     "name": "stdout",
     "output_type": "stream",
     "text": [
      "Unique orbits with TDC_CHANNEL=139: 150\n"
     ]
    }
   ],
   "source": [
    "orbits_139 = data[data['TDC_CHANNEL'] == 139]['ORBIT_CNT'].nunique()\n",
    "#filtering data for TDC_CHANNEL=139, taking the ORBIT_CNT and counting how many different elements\n",
    "print(\"Unique orbits with TDC_CHANNEL=139:\", orbits_139)"
   ]
  },
  {
   "cell_type": "markdown",
   "metadata": {},
   "source": [
    "8\\. Create two Series (one for each FPGA) that have the TDC channel as index, and the number of counts for the corresponding TDC channel as values."
   ]
  },
  {
   "cell_type": "code",
   "execution_count": 34,
   "metadata": {},
   "outputs": [
    {
     "name": "stdout",
     "output_type": "stream",
     "text": [
      "FPGA 0:\n",
      " TDC_CHANNEL\n",
      "1        8\n",
      "2       16\n",
      "3       16\n",
      "4       19\n",
      "5       19\n",
      "      ... \n",
      "121     63\n",
      "122     71\n",
      "123    202\n",
      "124    193\n",
      "139    879\n",
      "Name: count, Length: 117, dtype: int64 \n",
      "FPGA 1:\n",
      " TDC_CHANNEL\n",
      "1      338\n",
      "2      363\n",
      "3      277\n",
      "4      290\n",
      "5      189\n",
      "      ... \n",
      "125      6\n",
      "126      7\n",
      "127     16\n",
      "128     18\n",
      "139    389\n",
      "Name: count, Length: 124, dtype: int64\n"
     ]
    }
   ],
   "source": [
    "fpga0 = data[data['FPGA'] == 0]['TDC_CHANNEL'].value_counts().sort_index()\n",
    "fpga1 = data[data['FPGA'] == 1]['TDC_CHANNEL'].value_counts().sort_index()\n",
    "#Filtering data for the right FPGA, taking only the TDC_CHANNEL coloumn and counting the frequency of each different element\n",
    "print(\"FPGA 0:\\n\", fpga0, \"\\nFPGA 1:\\n\", fpga1)"
   ]
  },
  {
   "cell_type": "markdown",
   "metadata": {},
   "source": [
    "9\\. **Optional:** Create two histograms (one for each FPGA) that show the number of counts for each TDC channel."
   ]
  },
  {
   "cell_type": "code",
   "execution_count": null,
   "metadata": {},
   "outputs": [],
   "source": []
  }
 ],
 "metadata": {
  "kernelspec": {
   "display_name": "Python 3 (ipykernel)",
   "language": "python",
   "name": "python3"
  },
  "language_info": {
   "codemirror_mode": {
    "name": "ipython",
    "version": 3
   },
   "file_extension": ".py",
   "mimetype": "text/x-python",
   "name": "python",
   "nbconvert_exporter": "python",
   "pygments_lexer": "ipython3",
   "version": "3.10.12"
  }
 },
 "nbformat": 4,
 "nbformat_minor": 4
}
