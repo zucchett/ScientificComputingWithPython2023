{
 "cells": [
  {
   "cell_type": "markdown",
   "metadata": {},
   "source": [
    "# Numpy\n",
    "\n",
    "NumPy is a fundamental package for scientific computing with Python. It contains, among the other things:\n",
    "\n",
    "  * a powerful N-dimensional array object\n",
    "  * sophisticated operations on arrays\n",
    "  * tools for integrating C/C++ and Fortran code (not covered in the course)\n",
    "  * (pseudo-)random number generation\n",
    "  * linear algebra, Fourier transform, ... (in the next lectures)\n",
    "\n",
    "NumPy can be used as an efficient multi-dimensional container of generic data. Arbitrary data-types can be defined and this allows NumPy to seamlessly and speedily integrate with a wide variety of projects.\n",
    "\n",
    "Link to the [NumPy documentation](https://numpy.org/doc/stable/user/whatisnumpy.html)."
   ]
  },
  {
   "cell_type": "code",
   "execution_count": 2,
   "metadata": {},
   "outputs": [],
   "source": [
    "import numpy as np # import naming convention"
   ]
  },
  {
   "cell_type": "markdown",
   "metadata": {},
   "source": [
    "## Arrays\n",
    "\n",
    "Numpy arrays differ from the python lists, because Numpy provides:\n",
    "* full support for multi-dimensional arrays\n",
    "* closer to hardware implementation (efficiency)\n",
    "* designed for scientific computation (convenience)\n",
    "\n",
    "Similary to other programming languages that have a specific focus (e.g. \"object-oriented\"), arrays in numpy are so central that developing scientific applications can be considered as \"array-oriented\"."
   ]
  },
  {
   "cell_type": "markdown",
   "metadata": {},
   "source": [
    "A demonstration of the Numpy efficiency:"
   ]
  },
  {
   "cell_type": "code",
   "execution_count": 3,
   "metadata": {},
   "outputs": [
    {
     "name": "stdout",
     "output_type": "stream",
     "text": [
      "102 µs ± 15.1 µs per loop (mean ± std. dev. of 7 runs, 10,000 loops each)\n",
      "2.27 µs ± 838 ns per loop (mean ± std. dev. of 7 runs, 1,000,000 loops each)\n"
     ]
    }
   ],
   "source": [
    "# standard python\n",
    "L = range(1000)\n",
    "%timeit [i**2 for i in L]\n",
    "\n",
    "# numpy\n",
    "a = np.arange(1000)\n",
    "%timeit a**2"
   ]
  },
  {
   "attachments": {},
   "cell_type": "markdown",
   "metadata": {},
   "source": [
    "A Numpy array is a grid of **omogeneous** values (all of the same type), and is indexed by a tuple of non-negative integers.\n",
    "\n",
    "All standard data types are available ([documentation](https://numpy.org/doc/stable/user/basics.types.html)):"
   ]
  },
  {
   "cell_type": "code",
   "execution_count": 4,
   "metadata": {},
   "outputs": [
    {
     "name": "stdout",
     "output_type": "stream",
     "text": [
      "[1. 2. 3.] float64 \n",
      "\n",
      "[1 2 3] uint32 \n",
      "\n",
      "[1.  2.  3.3] float64 \n",
      "\n",
      "[1.+2.j 3.+4.j 5.+6.j] complex128 \n",
      "\n",
      "[ True False False  True] bool \n",
      "\n",
      "['bonjour messieurs dames' 'Hello' 'Hallo'] <U23 \n",
      "\n"
     ]
    }
   ],
   "source": [
    "# The type should specified when the array is created\n",
    "a = np.array([1, 2, 3], dtype=float)\n",
    "print(a, a.dtype, '\\n')\n",
    "a = np.array([1, 2, 3], 'uint32')\n",
    "print(a, a.dtype, '\\n')\n",
    "\n",
    "# Alternatively, we can let python to infer the type: \n",
    "a = np.array([1, 2, 3.3])\n",
    "print(a, a.dtype, '\\n')\n",
    "\n",
    "# Also complex numbers are allowed\n",
    "a = np.array([1+2j, 3+4j, 5+6*1j])\n",
    "print (a, a.dtype, '\\n')\n",
    "\n",
    "# Booleans\n",
    "a = np.array([True, False, False, True])\n",
    "print(a, a.dtype, '\\n')\n",
    "\n",
    "# Non-numerical types are also allowed: strings\n",
    "a = np.array(['bonjour messieurs dames', 'Hello', 'Hallo'])\n",
    "print(a, a.dtype, '\\n')\n"
   ]
  },
  {
   "cell_type": "markdown",
   "metadata": {},
   "source": [
    "### Copies and views"
   ]
  },
  {
   "cell_type": "markdown",
   "metadata": {},
   "source": [
    "Being **mutable objects**, numpy arrays can have **copies** and **views**:"
   ]
  },
  {
   "cell_type": "code",
   "execution_count": 5,
   "metadata": {},
   "outputs": [
    {
     "name": "stdout",
     "output_type": "stream",
     "text": [
      "array: [7 2 3] view: [7 2 3] copy: [1 2 3]\n",
      "array: [7 7 3] view: [7 7 3] copy: [1 2 3]\n",
      "array: [7 7 3] view: [7 7 3] copy: [9 2 3]\n",
      "Are a and b the same object? True\n",
      "Are a and c the same object? False\n"
     ]
    }
   ],
   "source": [
    "a = np.array([1, 2, 3])\n",
    "b = a # this is a view\n",
    "\n",
    "c = a.copy() # this is a copy\n",
    "\n",
    "\n",
    "# The changes applied to array a modify also the array b (which, as a matter of fact, are the same PyObject)\n",
    "a[0] = 7\n",
    "print(\"array:\", a, \"view:\", b, \"copy:\", c)\n",
    "\n",
    "# ... and viceversa\n",
    "b[1] = 7\n",
    "print(\"array:\", a, \"view:\", b, \"copy:\", c)\n",
    "\n",
    "# changes on c do not modify array a\n",
    "c[0] = 9\n",
    "print(\"array:\", a, \"view:\", b, \"copy:\", c)\n",
    "\n",
    "# The python object is the same for a and b, but different for c:\n",
    "print(\"Are a and b the same object?\", np.may_share_memory(a, b))\n",
    "print(\"Are a and c the same object?\", np.may_share_memory(a, c))"
   ]
  },
  {
   "cell_type": "markdown",
   "metadata": {},
   "source": [
    "Please remember that, with numpy objects, the `id()` function does not always work. To check whether two variables point to the same PyObject, use `np.may_share_memory()`."
   ]
  },
  {
   "cell_type": "markdown",
   "metadata": {},
   "source": [
    "### Dimensions\n",
    "\n",
    "The number of dimensions is called the **rank** of the array.\n",
    "The **shape** of an array is a tuple of integers giving the size of the array along each dimension.\n",
    "\n",
    "- 1D arrays:"
   ]
  },
  {
   "cell_type": "code",
   "execution_count": 6,
   "metadata": {},
   "outputs": [
    {
     "name": "stdout",
     "output_type": "stream",
     "text": [
      "array: \n",
      " [0 1 2 3]\n",
      "rank: 1\n",
      "shape: (4,)\n",
      "size of the first dimension (axis): 4\n"
     ]
    }
   ],
   "source": [
    "a1 = np.array([0, 1, 2, 3])\n",
    "print(\"array: \\n\", a1)\n",
    "print(\"rank:\", a1.ndim)\n",
    "print(\"shape:\", a1.shape)\n",
    "print(\"size of the first dimension (axis):\", len(a1)) # not recommended in >1D"
   ]
  },
  {
   "cell_type": "markdown",
   "metadata": {},
   "source": [
    " - 2D arrays:"
   ]
  },
  {
   "cell_type": "code",
   "execution_count": 15,
   "metadata": {},
   "outputs": [
    {
     "name": "stdout",
     "output_type": "stream",
     "text": [
      "2 x 3 array: \n",
      " [[0 1 2]\n",
      " [3 4 5]]\n",
      "rank: 2\n",
      "shape: (2, 3)\n",
      "size of the first dimension (axis): 2\n"
     ]
    }
   ],
   "source": [
    "a2_3 = np.array([[0, 1, 2], [3, 4, 5]])\n",
    "print(\"2 x 3 array: \\n\", a2_3)\n",
    "print(\"rank:\", a2_3.ndim)\n",
    "print(\"shape:\", a2_3.shape)\n",
    "print(\"size of the first dimension (axis):\", len(a2_3))"
   ]
  },
  {
   "cell_type": "markdown",
   "metadata": {},
   "source": [
    "- 3D arrays:"
   ]
  },
  {
   "cell_type": "code",
   "execution_count": 12,
   "metadata": {},
   "outputs": [
    {
     "name": "stdout",
     "output_type": "stream",
     "text": [
      "2 x 3 x 4 array:\n",
      " [[[   1   10  100 1000]\n",
      "  [   2   20  200 2000]\n",
      "  [   3   30  300 3000]]\n",
      "\n",
      " [[   4   40  400 4000]\n",
      "  [   5   50  500 5000]\n",
      "  [   6   60  600 6000]]]\n",
      "rank: 3\n",
      "shape: (2, 3, 4)\n",
      "size of the first dimension (axis): 2\n"
     ]
    }
   ],
   "source": [
    "a2_3_4 = np.array([[[1, 10, 100, 1000], [2, 20, 200, 2000], [3, 30, 300, 3000]], \\\n",
    "                   [[4, 40, 400, 4000], [5, 50, 500, 5000], [6, 60, 600, 6000]]])\n",
    "print(\"2 x 3 x 4 array:\\n\", a2_3_4)\n",
    "print(\"rank:\", a2_3_4.ndim)\n",
    "print(\"shape:\", a2_3_4.shape)\n",
    "print(\"size of the first dimension (axis):\", len(a2_3_4))"
   ]
  },
  {
   "cell_type": "markdown",
   "metadata": {},
   "source": [
    "### Array initialization"
   ]
  },
  {
   "cell_type": "markdown",
   "metadata": {},
   "source": [
    "Arrays can be created from lists, but also lists can be obtained by arrays (however, remember that the two are not equivalent because a Numpy array is **not** a list):"
   ]
  },
  {
   "cell_type": "code",
   "execution_count": 16,
   "metadata": {},
   "outputs": [
    {
     "name": "stdout",
     "output_type": "stream",
     "text": [
      "[0, 1, 2, 3] : <class 'numpy.ndarray'> -> <class 'list'>\n"
     ]
    }
   ],
   "source": [
    "l = [0, 1, 2, 3]\n",
    "a = np.array(l)\n",
    "print(a.tolist(), \":\", type(a), \"->\", type(a.tolist()))"
   ]
  },
  {
   "cell_type": "markdown",
   "metadata": {},
   "source": [
    "Initialization by using the Numpy `arange` and `linspace` methods:"
   ]
  },
  {
   "cell_type": "code",
   "execution_count": 17,
   "metadata": {},
   "outputs": [
    {
     "name": "stdout",
     "output_type": "stream",
     "text": [
      "[1 3 5 7]\n",
      "[0.  0.1 0.2 0.3 0.4 0.5 0.6 0.7 0.8 0.9 1. ]\n"
     ]
    }
   ],
   "source": [
    "# evenly spaced:\n",
    "print(np.arange(1, 9, 2)) # same as \"range\": start, end (exclusive), step\n",
    "\n",
    "# or by number of points:\n",
    "print(np.linspace(0, 1, 11)) # start, end, num-points (convenient to plot a function, for example)"
   ]
  },
  {
   "cell_type": "markdown",
   "metadata": {},
   "source": [
    "Initialization of the most common 2D arrays (matrices):"
   ]
  },
  {
   "cell_type": "code",
   "execution_count": 18,
   "metadata": {},
   "outputs": [
    {
     "name": "stdout",
     "output_type": "stream",
     "text": [
      "[[1. 1. 1.]\n",
      " [1. 1. 1.]\n",
      " [1. 1. 1.]] \n",
      "\n",
      "[[0. 0.]\n",
      " [0. 0.]] \n",
      "\n",
      "[[1. 0. 0.]\n",
      " [0. 1. 0.]\n",
      " [0. 0. 1.]] \n",
      "\n",
      "[[ 1  0  0  0]\n",
      " [ 0 20  0  0]\n",
      " [ 0  0  3  0]\n",
      " [ 0  0  0  4]] \n",
      "\n",
      "[[0 0]\n",
      " [0 1]\n",
      " [0 2]\n",
      " [1 0]\n",
      " [1 1]\n",
      " [1 2]] \n",
      "\n",
      "[[ 4.  5.  8. 13. 20.]\n",
      " [ 2.  1.  2.  5. 10.]\n",
      " [ 4.  1.  0.  1.  4.]\n",
      " [10.  5.  2.  1.  2.]\n",
      " [20. 13.  8.  5.  4.]] \n",
      "\n"
     ]
    }
   ],
   "source": [
    "# 3x3 matrix of 1's\n",
    "ones = np.ones((3, 3))\n",
    "print(ones, '\\n')\n",
    "\n",
    "# 2x2 matrix of 0's\n",
    "zeros = np.zeros((2, 2))\n",
    "print(zeros, '\\n')\n",
    "\n",
    "# 3x3 unitary matrix\n",
    "unity3d = np.eye(3)\n",
    "#unity3d = np.identity(3) # np.identity calls np.eye, so the two are equivalent\n",
    "print(unity3d, '\\n')\n",
    "\n",
    "# generic diagonal matrix\n",
    "diagonal = np.diag(np.array([1, 20, 3, 4]))\n",
    "print(diagonal, '\\n')\n",
    "\n",
    "# from list comprehensions\n",
    "array = np.array([(i, j) for i in range(2) for j in range(3)])\n",
    "print(array, '\\n')\n",
    "\n",
    "# from a function\n",
    "fromfunct = np.fromfunction(lambda i, j: (i - 2)**2 + (j - i)**2, (5, 5))\n",
    "print(fromfunct, '\\n')"
   ]
  },
  {
   "cell_type": "markdown",
   "metadata": {},
   "source": [
    "### Initialization with random numbers\n",
    "\n",
    "Numpy includes `numpy.random` module, which provides a basic but effective way to generate (pseudo) random numbers.\n",
    "\n",
    "For more complex tasks related to Monte Carlo techniques, such as generating random numbers according to non-trivial PDFs, there is the `scipy.stats` module, which will be used later in the course."
   ]
  },
  {
   "cell_type": "code",
   "execution_count": 19,
   "metadata": {},
   "outputs": [
    {
     "name": "stdout",
     "output_type": "stream",
     "text": [
      "uniform: \n",
      " [[0.69646919 0.28613933 0.22685145 0.55131477]\n",
      " [0.71946897 0.42310646 0.9807642  0.68482974]\n",
      " [0.4809319  0.39211752 0.34317802 0.72904971]] \n",
      "\n",
      "normal: \n",
      " [[-0.67888615 -0.09470897  1.49138963 -0.638902   -0.44398196]\n",
      " [-0.43435128  2.20593008  2.18678609  1.0040539   0.3861864 ]] \n",
      "\n",
      "integers: \n",
      " [[2 4 1 1 1 3]\n",
      " [2 2 3 3 4 3]\n",
      " [2 1 1 4 3 2]] \n",
      "\n"
     ]
    }
   ],
   "source": [
    "import numpy.random as npr\n",
    "npr.seed(123) # fixing the seed allows to reproduce the pseudo random number sequence\n",
    "\n",
    "# random values from a uniform distrubtion in [0.0, 1.0) for a given shape\n",
    "print(\"uniform:\", '\\n', npr.rand(3, 4), '\\n') # shape=(3, 4)\n",
    " \n",
    "# random values from a standard normal distrubtion  for a given shape\n",
    "print(\"normal:\", '\\n', npr.randn(2, 5), '\\n') # shape=(2, 5)\n",
    "\n",
    "# random integers between \"low\" and \"high\" ends for a given shape (size)\n",
    "print(\"integers:\", '\\n', npr.randint(1, 5, size=(3, 6)), '\\n') # shape=(3, 6)"
   ]
  },
  {
   "cell_type": "markdown",
   "metadata": {},
   "source": [
    "You can check the `numpy.random` [documentation](https://numpy.org/doc/stable/reference/random/index.html?module-numpy.random) to look for the available functions."
   ]
  },
  {
   "cell_type": "markdown",
   "metadata": {},
   "source": [
    "### Reshaping and Concatenation\n",
    "\n",
    "An initial 1D array can be reshaped to a multi-dimensional array:"
   ]
  },
  {
   "cell_type": "code",
   "execution_count": 20,
   "metadata": {},
   "outputs": [
    {
     "name": "stdout",
     "output_type": "stream",
     "text": [
      "original: [0 1 2 3 4 5] \n",
      "\n",
      "reshaped: [[0 1]\n",
      " [2 3]\n",
      " [4 5]] \n",
      "\n",
      "flattened array (back to original): [0 1 2 3 4 5] \n",
      "\n"
     ]
    }
   ],
   "source": [
    "a = np.arange(0, 6)\n",
    "m = a.reshape(3, 2) # if the parameters of the reshaping are not appropriate, reshaping fails\n",
    "print(\"original:\", a, '\\n')\n",
    "print(\"reshaped:\", m, '\\n')\n",
    "# Exercise: check if np.array.reshape returns a view or a copy\n",
    "\n",
    "a_from_m = m.flatten() # flatten does the opposite\n",
    "print(\"flattened array (back to original):\", a_from_m, '\\n')"
   ]
  },
  {
   "cell_type": "markdown",
   "metadata": {},
   "source": [
    "The operation of concatenating two arrays is trivial in 1D, much less so in nD:"
   ]
  },
  {
   "cell_type": "code",
   "execution_count": 21,
   "metadata": {},
   "outputs": [
    {
     "name": "stdout",
     "output_type": "stream",
     "text": [
      "1D concatenation: [1 2 3 4 5 6 7 8 9] \n",
      "\n",
      "default 2D concatenation: \n",
      " [[1 2]\n",
      " [3 4]\n",
      " [5 6]\n",
      " [7 8]] \n",
      "\n",
      "concatenation along the first axis: \n",
      " [[1 2]\n",
      " [3 4]\n",
      " [5 6]\n",
      " [7 8]] \n",
      "\n",
      "concatenation along the second axis: \n",
      " [[1 2 5 6]\n",
      " [3 4 7 8]] \n",
      "\n"
     ]
    }
   ],
   "source": [
    "# 1D concatenation\n",
    "a = np.array([1, 2])\n",
    "b = np.array([3, 4, 5, 6])\n",
    "c = np.array([7, 8, 9])\n",
    "print(\"1D concatenation:\", np.concatenate((a, b, c)),'\\n')\n",
    "\n",
    "# nD concatenation\n",
    "a = np.array([[1, 2], [3, 4]])\n",
    "b = np.array([[5, 6], [7, 8]])\n",
    "# if no axis is specified, concatenations occurs on the 1st dimension\n",
    "print(\"default 2D concatenation:\",'\\n', np.concatenate((a, b)),'\\n')\n",
    "\n",
    "print(\"concatenation along the first axis:\",'\\n', np.concatenate((a, b), axis=0), '\\n')\n",
    "print(\"concatenation along the second axis:\",'\\n', np.concatenate((a, b), axis=1), '\\n')"
   ]
  },
  {
   "cell_type": "markdown",
   "metadata": {},
   "source": [
    "### Indexing an Numpy array: Slicing\n",
    "\n",
    "The items of an array can be accessed and assigned to the same way as other Python sequences (e.g. lists):"
   ]
  },
  {
   "cell_type": "code",
   "execution_count": 22,
   "metadata": {},
   "outputs": [
    {
     "name": "stdout",
     "output_type": "stream",
     "text": [
      "0 2 9\n",
      "b[(1, 1)] : 3\n",
      "b[1][1] : 3\n",
      "a[2:9:3] : [2 5 8]\n",
      "a[::-1] : [9 8 7 6 5 4 3 2 1 0]\n"
     ]
    }
   ],
   "source": [
    "a = np.arange(10)\n",
    "print(a[0], a[2], a[-1])\n",
    "\n",
    "# if the rank is > 1, a tuple can be used as index\n",
    "b = a.reshape(5, 2)\n",
    "print(\"b[(1, 1)] :\", b[(1, 1)])\n",
    "# equivalent, but not the same\n",
    "print(\"b[1][1] :\", b[1][1])\n",
    "\n",
    "# reminder: the [start:stop:step] works as well. \n",
    "# step can be negative and a reverse sequence is thus obtained\n",
    "print(\"a[2:9:3] :\", a[2:9:3])\n",
    "print(\"a[::-1] :\", a[::-1])"
   ]
  },
  {
   "cell_type": "code",
   "execution_count": 23,
   "metadata": {
    "scrolled": true
   },
   "outputs": [
    {
     "data": {
      "image/png": "[encoded data removed]",
      "text/plain": [
       "<IPython.core.display.Image object>"
      ]
     },
     "execution_count": 23,
     "metadata": {},
     "output_type": "execute_result"
    }
   ],
   "source": [
    "from IPython.display import Image\n",
    "Image(\"images/numpy_indexing.png\")"
   ]
  },
  {
   "cell_type": "code",
   "execution_count": null,
   "metadata": {},
   "outputs": [],
   "source": [
    "# Exercise: create here the np array used as example above"
   ]
  },
  {
   "cell_type": "markdown",
   "metadata": {},
   "source": [
    "For multidimensional arrays, indexes are tuples of integers.\n",
    "\n",
    "Remember that:\n",
    "* in 2D, the first dimension corresponds to rows, the second to columns.\n",
    "* for a multidimensional array `a`, `a[0]` is interpreted by taking all elements in the unspecified dimensions."
   ]
  },
  {
   "cell_type": "markdown",
   "metadata": {},
   "source": [
    "##### Slicing: view or copy?\n",
    "\n",
    "A slicing operation creates a **view** on the original array, which is just a way of accessing array data.\n",
    "When modifying a view, the original array is modified as well."
   ]
  },
  {
   "cell_type": "code",
   "execution_count": 24,
   "metadata": {},
   "outputs": [
    {
     "name": "stdout",
     "output_type": "stream",
     "text": [
      "[[0 0 0]\n",
      " [0 1 0]\n",
      " [0 0 2]] \n",
      "\n",
      "1 \n",
      "\n",
      "[0 0 2] \n",
      "\n",
      "slice:\n",
      " [[1 0]\n",
      " [0 2]] \n",
      "\n",
      "[[ 0  0  0]\n",
      " [ 0  1  0]\n",
      " [ 0  0 10]] \n",
      "\n",
      "are a and b the same object? True\n"
     ]
    }
   ],
   "source": [
    "a = np.diag(np.arange(3))\n",
    "print(a, '\\n')\n",
    "print(a[1, 1], '\\n')\n",
    "print(a[2], '\\n')\n",
    "\n",
    "# slice the original array, creating a view\n",
    "b = a[1:, 1:]\n",
    "print(\"slice:\\n\", b, '\\n')\n",
    "\n",
    "# modifying the view also modifies the original array\n",
    "b[-1, -1] = 10\n",
    "print(a, '\\n')\n",
    "\n",
    "# check if b is actually a view of a\n",
    "print(\"are a and b the same object?\", np.may_share_memory(a, b))"
   ]
  },
  {
   "cell_type": "markdown",
   "metadata": {},
   "source": [
    "### Fancy indexing\n",
    "\n",
    "NumPy arrays can be indexed with slices, but also with *another boolean or integer array* (**masks**).\n",
    "\n",
    "This method is called *fancy indexing*, and it creates **copies**, not views."
   ]
  },
  {
   "cell_type": "code",
   "execution_count": 34,
   "metadata": {},
   "outputs": [
    {
     "name": "stdout",
     "output_type": "stream",
     "text": [
      "original array: [10  3 13 14  3  3 14 16  4  4  5 16  9  2  5] \n",
      "\n",
      "the mask: [False  True False False  True  True False False False False False False\n",
      "  True False False] \n",
      "\n",
      "the filtered array: [3 3 3 9] \n",
      "\n",
      "are a and filtered_a the same object? False \n",
      "\n",
      "the modified array: [10 -1 13 14 -1 -1 14 16  4  4  5 16 -1  2  5] \n",
      "\n"
     ]
    }
   ],
   "source": [
    "a = np.random.randint(0, 21, 15) # 15 random int between 0 and 21\n",
    "print(\"original array:\", a, '\\n')\n",
    "\n",
    "# create a mask to filter multiples of 3\n",
    "mask = (a % 3 == 0)\n",
    "print(\"the mask:\", mask, '\\n')\n",
    "\n",
    "filtered_a = a[mask]\n",
    "# equivalent to a[a % 3 == 0]\n",
    "print(\"the filtered array:\", filtered_a, '\\n')\n",
    "\n",
    "# verify that fancy indexing creates copies\n",
    "print(\"are a and filtered_a the same object?\", np.may_share_memory(a, filtered_a), '\\n')\n",
    "\n",
    "# Indexing with a mask can be very useful to assign a new value to a sub-array\n",
    "a[a % 3 == 0] = -1\n",
    "print(\"the modified array:\", a, '\\n')"
   ]
  },
  {
   "cell_type": "markdown",
   "metadata": {},
   "source": [
    "Indexing can be done with an array of integers, where the same index can be repeated several times."
   ]
  },
  {
   "cell_type": "code",
   "execution_count": 35,
   "metadata": {},
   "outputs": [
    {
     "name": "stdout",
     "output_type": "stream",
     "text": [
      "selection of indexes:  [20 30 20 40 20] \n",
      "\n"
     ]
    }
   ],
   "source": [
    "a = np.arange(0, 100, 10)\n",
    "l = [2, 3, 2, 4, 2] # l is a python list\n",
    "print(\"selection of indexes: \", a[l], '\\n') # a[l] also returns a copy"
   ]
  },
  {
   "cell_type": "markdown",
   "metadata": {},
   "source": [
    "When a new array is created by indexing with an array of integers, the new array has the *same shape as the array use for indexing*:"
   ]
  },
  {
   "cell_type": "code",
   "execution_count": 36,
   "metadata": {},
   "outputs": [
    {
     "name": "stdout",
     "output_type": "stream",
     "text": [
      "a :\n",
      " [ 0  2  4  6  8 10 12 14 16 18]\n",
      "a[idx] :\n",
      " [[ 6  8]\n",
      " [18 14]]\n"
     ]
    }
   ],
   "source": [
    "a = np.arange(0, 20, 2)\n",
    "print(\"a :\\n\", a)\n",
    "idx = np.array([[3, 4], [9, 7]]) # note the shape and the ordering\n",
    "print(\"a[idx] :\\n\", a[idx])"
   ]
  },
  {
   "cell_type": "code",
   "execution_count": null,
   "metadata": {},
   "outputs": [],
   "source": [
    "# an exstensive example\n",
    "from IPython.display import Image\n",
    "Image(\"images/numpy_fancy_indexing.png\")"
   ]
  },
  {
   "cell_type": "markdown",
   "metadata": {},
   "source": [
    "## Operations with arrays\n",
    "\n",
    "### Basic operations\n",
    "\n",
    "By default, all operations (additions, subtractions, multiplications, ...) with arrays are performed **element-wise**:"
   ]
  },
  {
   "cell_type": "code",
   "execution_count": null,
   "metadata": {
    "scrolled": true
   },
   "outputs": [],
   "source": [
    "# operations with scalars\n",
    "a = np.arange(4)\n",
    "print(a, '\\n')\n",
    "print(a * 5, '\\n')\n",
    "print(2**a, '\\n')"
   ]
  },
  {
   "cell_type": "code",
   "execution_count": null,
   "metadata": {},
   "outputs": [],
   "source": [
    "# operations among 1D arrays. Also in this case, all operations are element-wise\n",
    "a = np.arange(4)\n",
    "b = np.ones(4) + 1\n",
    "print(a, b)\n",
    "print(\"a - b:\", a - b)\n",
    "print(\"a * b:\", a * b)"
   ]
  },
  {
   "cell_type": "markdown",
   "metadata": {},
   "source": [
    "Be careful that, since operations are element-wise in all dimensions, array multiplication is not matrix multiplication:"
   ]
  },
  {
   "cell_type": "code",
   "execution_count": null,
   "metadata": {},
   "outputs": [],
   "source": [
    "ones = np.ones((3,3))\n",
    "\n",
    "print(\"the original matrix:\", '\\n', ones, '\\n')\n",
    "\n",
    "print(\"the '*' product: \", '\\n', ones*ones, '\\n')\n",
    "\n",
    "print(\"the proper matrix product:\", '\\n', ones.dot(ones), '\\n')"
   ]
  },
  {
   "cell_type": "markdown",
   "metadata": {},
   "source": [
    "### Other operations\n",
    "\n",
    "- array comparisons:"
   ]
  },
  {
   "cell_type": "code",
   "execution_count": null,
   "metadata": {},
   "outputs": [],
   "source": [
    "# element-wise\n",
    "print('equal?:', np.array([1, 3, 2, 5]) == np.array([3, 1, 2, 5]))\n",
    "print('greater than?:', np.array([1, 3, 2, 5]) > np.array([3, 1, 2, 1]))\n",
    "\n",
    "# array-wise\n",
    "print(\"Equal?:\", np.array_equal(np.array([1, 3, 2, 5]), np.array([3, 5, 2, 1]))) # order matters"
   ]
  },
  {
   "cell_type": "markdown",
   "metadata": {},
   "source": [
    "- logical operations:"
   ]
  },
  {
   "cell_type": "code",
   "execution_count": null,
   "metadata": {},
   "outputs": [],
   "source": [
    "# logical\n",
    "a = np.array([1, 1, 0, 0], bool)\n",
    "b = np.array([1, 0, 1, 0], bool)\n",
    "print(\"logical OR:\", np.logical_or(a, b))\n",
    "print(\"logical AND:\", np.logical_and(a, b))"
   ]
  },
  {
   "cell_type": "markdown",
   "metadata": {},
   "source": [
    "- application of functions on arrays:"
   ]
  },
  {
   "cell_type": "code",
   "execution_count": null,
   "metadata": {},
   "outputs": [],
   "source": [
    "# mathematical functions re-implemented in numpy\n",
    "a = np.arange(1, 9)\n",
    "print(\"sin:\", np.sin(a))\n",
    "print(\"log:\", np.log(a))\n",
    "\n",
    "# works all dimensions\n",
    "m = a.reshape(2, 4)\n",
    "print(\"exp:\", np.exp(m))"
   ]
  },
  {
   "cell_type": "markdown",
   "metadata": {},
   "source": [
    "- matrices:"
   ]
  },
  {
   "cell_type": "code",
   "execution_count": null,
   "metadata": {},
   "outputs": [],
   "source": [
    "# extracting off-diagonal terms\n",
    "a = np.arange(16).reshape(4,4)\n",
    "print(a)\n",
    "\n",
    "a = np.tril(a, +0) # play with the last parameter (sign and value)\n",
    "#a= np.triu(a, -1) # play with the last parameter (sign and value)\n",
    "print(\"a:\", '\\n', a , '\\n')\n",
    "\n",
    "print(\"transpose:\", '\\n', a.T , '\\n') # a.T is a view"
   ]
  },
  {
   "cell_type": "markdown",
   "metadata": {},
   "source": [
    "N.B.: a linear algebra package exists in numpy and is called `numpy.linalg`. However, in terms of performance, the package included in `scipy`, also called `scipy.linalg`, is better and more efficient."
   ]
  },
  {
   "cell_type": "markdown",
   "metadata": {},
   "source": [
    "### Reductions\n",
    "\n",
    "Operations that reduce the dimensionality of arrays are called **reductions**. The reduction functions operate on the elements of an array and return a (set of) scalar(s), and are available either as methods of the array class or as numpy functions.\n",
    "\n",
    "In dimensions higher than one, the axis has to be specified."
   ]
  },
  {
   "cell_type": "code",
   "execution_count": null,
   "metadata": {},
   "outputs": [],
   "source": [
    "a = np.arange(1,7)\n",
    "print(a)\n",
    "print(\"sum:\", a.sum(), np.sum(a)) # a.sum() and np.sum(a) are equivalent\n",
    "print(\"min:\", a.min(), np.min(a))\n",
    "print(\"max:\", a.max(), np.max(a))\n",
    "print(\"index of the minimum argument:\", a.argmin(), np.argmin(a))\n",
    "print(\"index of the maximum argument:\", a.argmax(), np.argmax(a))\n",
    "print(\"mean:\", a.mean(), np.mean(a))\n",
    "print(\"median:\", np.median(a)) # median is not a method of the array class...\n",
    "print(\"standard deviation:\", a.std(), np.std(a))\n",
    "# and many others..."
   ]
  },
  {
   "cell_type": "code",
   "execution_count": null,
   "metadata": {},
   "outputs": [],
   "source": [
    "# these functions work in higher dimensions, too\n",
    "\n",
    "m = a.reshape(3,2)\n",
    "print(m, '\\n')\n",
    "\n",
    "print(\"sum along the columns:\", m.sum(axis=0))\n",
    "print(\"sum along the rows:\", m.sum(axis=1))"
   ]
  },
  {
   "cell_type": "markdown",
   "metadata": {},
   "source": [
    "### Broadcasting\n",
    "\n",
    "We have seen element-wise operations on arrays, which work only on arrays of the same rank and shape.\n",
    "Nevertheless, it’s also possible to do operations on arrays of different sizes if NumPy can transform (**broadcast**) these arrays so that they all have the same size."
   ]
  },
  {
   "cell_type": "code",
   "execution_count": null,
   "metadata": {},
   "outputs": [],
   "source": [
    "from IPython.display import Image\n",
    "Image(\"images/numpy_broadcasting.png\")"
   ]
  },
  {
   "cell_type": "code",
   "execution_count": null,
   "metadata": {},
   "outputs": [],
   "source": [
    "a = np.tile(np.arange(0, 40, 10), (3, 1)).T # check what exactly np.tile does on the documentation\n",
    "print(\"original array:\", '\\n', a, '\\n')\n",
    "print(\"broadcasted sum:\", '\\n', a + np.arange(3), '\\n')"
   ]
  },
  {
   "cell_type": "markdown",
   "metadata": {},
   "source": [
    "Or, alternatively:"
   ]
  },
  {
   "cell_type": "code",
   "execution_count": null,
   "metadata": {},
   "outputs": [],
   "source": [
    "a = np.array([[0], [10], [20], [30]])\n",
    "b = np.array([0, 1, 2])\n",
    "print(\"original arrays:\", '\\na =', a, '\\nb =', b, '\\n')\n",
    "print(\"broadcasted sum:\", '\\n', a + b, '\\n')"
   ]
  },
  {
   "cell_type": "markdown",
   "metadata": {},
   "source": [
    "### More on shape manipulation: adding dimensions"
   ]
  },
  {
   "cell_type": "code",
   "execution_count": null,
   "metadata": {},
   "outputs": [],
   "source": [
    "# adding a dimension (useful for linear algebra and machine learning applications)\n",
    "a = np.arange(1, 4)\n",
    "print(\"new dim along axis 0:\", '\\n', a[np.newaxis,:], '\\n')\n",
    "print(\"new dim along axis 1:\", '\\n', a[:,np.newaxis], '\\n')\n",
    "\n",
    "# resizing (by repeating the content)\n",
    "print(\"resizing:\", '\\n', np.resize(a, (10,)), '\\n')"
   ]
  },
  {
   "cell_type": "code",
   "execution_count": null,
   "metadata": {},
   "outputs": [],
   "source": []
  }
 ],
 "metadata": {
  "kernelspec": {
   "display_name": "Python 3 (ipykernel)",
   "language": "python",
   "name": "python3"
  },
  "language_info": {
   "codemirror_mode": {
    "name": "ipython",
    "version": 3
   },
   "file_extension": ".py",
   "mimetype": "text/x-python",
   "name": "python",
   "nbconvert_exporter": "python",
   "pygments_lexer": "ipython3",
   "version": "3.12.0"
  }
 },
 "nbformat": 4,
 "nbformat_minor": 2
}
