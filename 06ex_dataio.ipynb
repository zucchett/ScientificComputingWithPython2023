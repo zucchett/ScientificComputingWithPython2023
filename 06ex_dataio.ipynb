{
 "cells": [
  {
   "cell_type": "code",
   "execution_count": 2,
   "id": "d7f27511",
   "metadata": {},
   "outputs": [],
   "source": [
    "#1.1\n",
    "int_num=[1,2,3,4,5,6,7,8,9,10]\n",
    "\n",
    "with open('data_int.txt', 'w') as file:\n",
    "    for number in int_num:\n",
    "        file.write(str(number)+'\\n')"
   ]
  },
  {
   "cell_type": "code",
   "execution_count": 3,
   "id": "8ef22ad3",
   "metadata": {},
   "outputs": [],
   "source": [
    "#1.2\n",
    "import numpy as np\n",
    "\n",
    "float_matrix= np.random.rand(5,5)\n",
    "\n",
    "np.savetxt('data_float.txt', float_matrix)\n"
   ]
  },
  {
   "cell_type": "code",
   "execution_count": 4,
   "id": "d8db7e80",
   "metadata": {},
   "outputs": [
    {
     "name": "stdout",
     "output_type": "stream",
     "text": [
      "Data filtered by \"American Express\" saved to american_express_data.csv\n"
     ]
    }
   ],
   "source": [
    "#2\n",
    "import json\n",
    "import csv\n",
    "\n",
    "data = json.load(open(r'data\\user_data.json'))\n",
    "\n",
    "output_data = [x for x in data if x['CreditCardType'] == 'American Express']\n",
    "\n",
    "csv_file_name = 'american_express_data.csv'\n",
    "\n",
    "with open(csv_file_name, 'w', newline='', encoding='utf-8') as csv_file:\n",
    "    csv_writer = csv.DictWriter(csv_file, fieldnames=output_data[0].keys())\n",
    "    csv_writer.writeheader()\n",
    "    csv_writer.writerows(output_data)\n",
    "\n",
    "print(f'Data filtered by \"American Express\" saved to {csv_file_name}')\n"
   ]
  },
  {
   "cell_type": "code",
   "execution_count": 19,
   "id": "23e0b02e",
   "metadata": {},
   "outputs": [
    {
     "name": "stdout",
     "output_type": "stream",
     "text": [
      "by_class.json\n"
     ]
    }
   ],
   "source": [
    "#3\n",
    "import pandas as pd\n",
    "import json\n",
    "file_name=\"data/mushrooms_categorized.csv\"\n",
    "data = pd.read_csv(file_name)\n",
    "by_class= data.groupby('class').mean()\n",
    "json_file=\"by_class.json\"\n",
    "by_class.to_json(json_file, orient='index')\n",
    "print(json_file)\n",
    "#print(by_class)\n",
    "#print(data)"
   ]
  },
  {
   "cell_type": "code",
   "execution_count": 6,
   "id": "704ea155",
   "metadata": {},
   "outputs": [
    {
     "ename": "DatabaseError",
     "evalue": "Execution failed on sql 'select * FROM actor': no such table: actor",
     "output_type": "error",
     "traceback": [
      "\u001b[1;31m---------------------------------------------------------------------------\u001b[0m",
      "\u001b[1;31mOperationalError\u001b[0m                          Traceback (most recent call last)",
      "File \u001b[1;32m~\\anaconda3\\Lib\\site-packages\\pandas\\io\\sql.py:2202\u001b[0m, in \u001b[0;36mSQLiteDatabase.execute\u001b[1;34m(self, sql, params)\u001b[0m\n\u001b[0;32m   2201\u001b[0m \u001b[38;5;28;01mtry\u001b[39;00m:\n\u001b[1;32m-> 2202\u001b[0m     cur\u001b[38;5;241m.\u001b[39mexecute(sql, \u001b[38;5;241m*\u001b[39margs)\n\u001b[0;32m   2203\u001b[0m     \u001b[38;5;28;01mreturn\u001b[39;00m cur\n",
      "\u001b[1;31mOperationalError\u001b[0m: no such table: actor",
      "\nThe above exception was the direct cause of the following exception:\n",
      "\u001b[1;31mDatabaseError\u001b[0m                             Traceback (most recent call last)",
      "Cell \u001b[1;32mIn[6], line 8\u001b[0m\n\u001b[0;32m      6\u001b[0m cur \u001b[38;5;241m=\u001b[39m conn\u001b[38;5;241m.\u001b[39mcursor\n\u001b[0;32m      7\u001b[0m query \u001b[38;5;241m=\u001b[39m \u001b[38;5;124m\"\u001b[39m\u001b[38;5;124mselect * FROM actor\u001b[39m\u001b[38;5;124m\"\u001b[39m\n\u001b[1;32m----> 8\u001b[0m actors\u001b[38;5;241m=\u001b[39mpd\u001b[38;5;241m.\u001b[39mread_sql_query(query,conn)\n\u001b[0;32m      9\u001b[0m conn\u001b[38;5;241m.\u001b[39mclose()\n\u001b[0;32m     10\u001b[0m count\u001b[38;5;241m=\u001b[39mactor[actor[\u001b[38;5;124m'\u001b[39m\u001b[38;5;124mfirst_name\u001b[39m\u001b[38;5;124m'\u001b[39m]\u001b[38;5;241m.\u001b[39mstr\u001b[38;5;241m.\u001b[39mstarswith(\u001b[38;5;124m'\u001b[39m\u001b[38;5;124mA\u001b[39m\u001b[38;5;124m'\u001b[39m)]\u001b[38;5;241m.\u001b[39mshape[\u001b[38;5;241m0\u001b[39m]\n",
      "File \u001b[1;32m~\\anaconda3\\Lib\\site-packages\\pandas\\io\\sql.py:469\u001b[0m, in \u001b[0;36mread_sql_query\u001b[1;34m(sql, con, index_col, coerce_float, params, parse_dates, chunksize, dtype, dtype_backend)\u001b[0m\n\u001b[0;32m    466\u001b[0m     dtype_backend \u001b[38;5;241m=\u001b[39m \u001b[38;5;124m\"\u001b[39m\u001b[38;5;124mnumpy\u001b[39m\u001b[38;5;124m\"\u001b[39m  \u001b[38;5;66;03m# type: ignore[assignment]\u001b[39;00m\n\u001b[0;32m    468\u001b[0m \u001b[38;5;28;01mwith\u001b[39;00m pandasSQL_builder(con) \u001b[38;5;28;01mas\u001b[39;00m pandas_sql:\n\u001b[1;32m--> 469\u001b[0m     \u001b[38;5;28;01mreturn\u001b[39;00m pandas_sql\u001b[38;5;241m.\u001b[39mread_query(\n\u001b[0;32m    470\u001b[0m         sql,\n\u001b[0;32m    471\u001b[0m         index_col\u001b[38;5;241m=\u001b[39mindex_col,\n\u001b[0;32m    472\u001b[0m         params\u001b[38;5;241m=\u001b[39mparams,\n\u001b[0;32m    473\u001b[0m         coerce_float\u001b[38;5;241m=\u001b[39mcoerce_float,\n\u001b[0;32m    474\u001b[0m         parse_dates\u001b[38;5;241m=\u001b[39mparse_dates,\n\u001b[0;32m    475\u001b[0m         chunksize\u001b[38;5;241m=\u001b[39mchunksize,\n\u001b[0;32m    476\u001b[0m         dtype\u001b[38;5;241m=\u001b[39mdtype,\n\u001b[0;32m    477\u001b[0m         dtype_backend\u001b[38;5;241m=\u001b[39mdtype_backend,\n\u001b[0;32m    478\u001b[0m     )\n",
      "File \u001b[1;32m~\\anaconda3\\Lib\\site-packages\\pandas\\io\\sql.py:2266\u001b[0m, in \u001b[0;36mSQLiteDatabase.read_query\u001b[1;34m(self, sql, index_col, coerce_float, parse_dates, params, chunksize, dtype, dtype_backend)\u001b[0m\n\u001b[0;32m   2255\u001b[0m \u001b[38;5;28;01mdef\u001b[39;00m \u001b[38;5;21mread_query\u001b[39m(\n\u001b[0;32m   2256\u001b[0m     \u001b[38;5;28mself\u001b[39m,\n\u001b[0;32m   2257\u001b[0m     sql,\n\u001b[1;32m   (...)\u001b[0m\n\u001b[0;32m   2264\u001b[0m     dtype_backend: DtypeBackend \u001b[38;5;241m|\u001b[39m Literal[\u001b[38;5;124m\"\u001b[39m\u001b[38;5;124mnumpy\u001b[39m\u001b[38;5;124m\"\u001b[39m] \u001b[38;5;241m=\u001b[39m \u001b[38;5;124m\"\u001b[39m\u001b[38;5;124mnumpy\u001b[39m\u001b[38;5;124m\"\u001b[39m,\n\u001b[0;32m   2265\u001b[0m ) \u001b[38;5;241m-\u001b[39m\u001b[38;5;241m>\u001b[39m DataFrame \u001b[38;5;241m|\u001b[39m Iterator[DataFrame]:\n\u001b[1;32m-> 2266\u001b[0m     cursor \u001b[38;5;241m=\u001b[39m \u001b[38;5;28mself\u001b[39m\u001b[38;5;241m.\u001b[39mexecute(sql, params)\n\u001b[0;32m   2267\u001b[0m     columns \u001b[38;5;241m=\u001b[39m [col_desc[\u001b[38;5;241m0\u001b[39m] \u001b[38;5;28;01mfor\u001b[39;00m col_desc \u001b[38;5;129;01min\u001b[39;00m cursor\u001b[38;5;241m.\u001b[39mdescription]\n\u001b[0;32m   2269\u001b[0m     \u001b[38;5;28;01mif\u001b[39;00m chunksize \u001b[38;5;129;01mis\u001b[39;00m \u001b[38;5;129;01mnot\u001b[39;00m \u001b[38;5;28;01mNone\u001b[39;00m:\n",
      "File \u001b[1;32m~\\anaconda3\\Lib\\site-packages\\pandas\\io\\sql.py:2214\u001b[0m, in \u001b[0;36mSQLiteDatabase.execute\u001b[1;34m(self, sql, params)\u001b[0m\n\u001b[0;32m   2211\u001b[0m     \u001b[38;5;28;01mraise\u001b[39;00m ex \u001b[38;5;28;01mfrom\u001b[39;00m \u001b[38;5;21;01minner_exc\u001b[39;00m\n\u001b[0;32m   2213\u001b[0m ex \u001b[38;5;241m=\u001b[39m DatabaseError(\u001b[38;5;124mf\u001b[39m\u001b[38;5;124m\"\u001b[39m\u001b[38;5;124mExecution failed on sql \u001b[39m\u001b[38;5;124m'\u001b[39m\u001b[38;5;132;01m{\u001b[39;00msql\u001b[38;5;132;01m}\u001b[39;00m\u001b[38;5;124m'\u001b[39m\u001b[38;5;124m: \u001b[39m\u001b[38;5;132;01m{\u001b[39;00mexc\u001b[38;5;132;01m}\u001b[39;00m\u001b[38;5;124m\"\u001b[39m)\n\u001b[1;32m-> 2214\u001b[0m \u001b[38;5;28;01mraise\u001b[39;00m ex \u001b[38;5;28;01mfrom\u001b[39;00m \u001b[38;5;21;01mexc\u001b[39;00m\n",
      "\u001b[1;31mDatabaseError\u001b[0m: Execution failed on sql 'select * FROM actor': no such table: actor"
     ]
    }
   ],
   "source": [
    "#4\n",
    "import pandas as pd\n",
    "import sqlite3 as sql\n",
    "\n",
    "conn=sql.connect('data/sakila.db')\n",
    "cur = conn.cursor\n",
    "query = \"select * FROM actor\"\n",
    "actors=pd.read_sql_query(query,conn)\n",
    "conn.close()\n",
    "count=actor[actor['first_name'].str.starswith('A')].shape[0]\n",
    "print(f'Total actors with a first name starting with A: {count}')"
   ]
  },
  {
   "cell_type": "code",
   "execution_count": 11,
   "id": "851a3606",
   "metadata": {},
   "outputs": [
    {
     "name": "stdout",
     "output_type": "stream",
     "text": [
      "0 1 0 3 0 1 0 3 0 1 0 3 0 1 0 3 0 1 0 3 0 1 0 3 0 1 0 3 0 0 0 3 0 1 0 3 0 0 0 3 0 1 0 3 0 1 0 3 0 1 0 3 0 1 0 3 0 1 0 3 0 1 0 3 0 1 0 3 0 0 0 3 0 1 0 3 0 0 0 3 0 1 0 3 0 0 0 3 0 1 0 3 0 1 0 3 0 1 0 3 0 1 0 3 0 1 0 3 0 1 0 3 0 1 0 3 0 0 0 3 0 1 0 3 0 0 0 3 0 1 0 3 0 0 0 3 0 1 0 3 0 1 0 3 0 1 0 3 0 0 0 3 0 1 0 3 0 0\n",
      "0 1 0 3 0 0 0 3 0 1 0 3 0 0 0 3 0 1 0 3 0 1 0 3 0 1 0 3 0 1 0 3 0 1 0 3 0 0 0 3 0 1 0 3 0 0 0 3 0 1 0 3 0 0 0 3 0 1 0 3 0 1 0 3 0 1 0 3 0 1 0 3 0 1 0 3 0 0 0 3 0 1 0 3 0 0 0 3 0 1 0 3 0 0 0 3 0 1 0 3 0 1 0 3 0 1 0 3 0 1 0 3 0 1 0 3 0 0 0 3 0 1 0 3 0 0 0 3 0 1 0 3 0 0 0 3 0 1 0 3 0 1 0 3 0 1 0 3 0 1 0 3 0 1 0 3 0 0\n",
      "0 1 0 3 0 0 0 3 0 1 0 3 0 1 0 3 0 1 0 3 0 0 0 3 0 1 0 3 0 0 0 3 0 1 0 3 0 0 0 3 0 1 0 3 0 0 0 3 0 1 0 3 0 0 0 3 0 1 0 3 0 0 0 3 0 1 0 3 0 0 0 3 0 1 0 3 0 0 0 3 0 1 0 3 0 1 0 3 0 1 0 3 0 0 0 3 0 1 0 3 0 0 0 3 0 1 0 3 0 0 0 3 0 1 0 3 0 0 0 3 0 1 0 3 0 1 0 3 0 1 0 3 0 1 0 3 0 1 0 3 0 1 0 3 0 1 0 3 0 0 0 3 0 1 0 3 0 0\n",
      "0 1 0 3 0 0 0 3 0 1 0 3 0 1 0 3 0 1 0 3 0 1 0 3 0 1 0 3 0 0 0 3 0 1 0 3 0 0 0 3 0 1 0 3 0 0 0 3 0 1 0 3 0 0 0 3 0 1 0 3 0 1 0 3 0 1 0 3 0 0 0 3 0 1 0 3 0 0 0 3 0 1 0 3 0 0 0 3 0 1 0 3 0 1 0 3 0 1 0 3 0 1 0 3 0 1 0 3 0 0 0 3 0 1 0 3 0 0 0 3 0 1 0 3 0 0 0 3 0 1 0 3 0 0 0 3 0 1 0 3 0 1 0 3 0 1 0 3 0 0 0 3 0 1 0 3 0 0\n",
      "0 1 0 3 0 0 0 3 0 1 0 3 0 1 0 3 0 1 0 3 0 0 0 3 0 1 0 3 0 0 0 3 0 1 0 3 0 0 0 3 0 1 0 3 0 0 0 3 0 1 0 3 0 1 0 3 0 1 0 3 0 0 0 3 0 1 0 3 0 0 0 3 0 1 0 3 0 0 0 3 0 1 0 3 0 0 0 3 0 1 0 3 0 1 0 3 0 1 0 3 0 1 0 3 0 1 0 3 0 0 0 3 0 1 0 3 0 0 0 3 0 1 0 3 0 1 0 3 0 1 0 3 0 1 0 3 0 1 0 3 0 1 0 3 0 1 0 3 0 0 0 3 0 1 0 3 0 0\n",
      "0 1 0 3 0 1 0 3 0 1 0 3 0 0 0 3 0 1 0 3 0 0 0 3 0 1 0 3 0 1 0 3 0 1 0 3 0 0 0 3 0 1 0 3 0 0 0 3 0 1 0 3 0 0 0 3 0 1 0 3 0 0 0 3 0 1 0 3 0 1 0 3 0 1 0 3 0 0 0 3 0 1 0 3 0 0 0 3 0 1 0 3 0 1 0 3 0 1 0 3 0 0 0 3 0 1 0 3 0 1 0 3 0 1 0 3 0 0 0 3 0 1 0 3 0 1 0 3 0 1 0 3 0 0 0 3 0 1 0 3 0 0 0 3 0 1 0 3 0 0 0 3 0 1 0 3 0 0\n",
      "0 1 0 3 0 1 0 3 0 1 0 3 0 1 0 3 0 1 0 3 0 1 0 3 0 1 0 3 0 1 0 3 0 1 0 3 0 0 0 3 0 1 0 3 0 0 0 3 0 1 0 3 0 1 0 3 0 1 0 3 0 0 0 3 0 1 0 3 0 0 0 3 0 1 0 3 0 0 0 3 0 1 0 3 0 0 0 3 0 1 0 3 0 0 0 3 0 1 0 3 0 0 0 3 0 1 0 3 0 1 0 3 0 1 0 3 0 0 0 3 0 1 0 3 0 0 0 3 0 1 0 3 0 0 0 3 0 1 0 3 0 0 0 3 0 1 0 3 0 1 0 3 0 1 0 3 0 0\n",
      "0 1 0 3 0 0 0 3 0 1 0 3 0 0 0 3 0 1 0 3 0 1 0 3 0 1 0 3 0 0 0 3 0 1 0 3 0 0 0 3 0 1 0 3 0 0 0 3 0 1 0 3 0 0 0 3 0 1 0 3 0 0 0 3 0 1 0 3 0 0 0 3 0 1 0 3 0 0 0 3 0 1 0 3 0 1 0 3 0 1 0 3 0 0 0 3 0 1 0 3 0 1 0 3 0 1 0 3 0 0 0 3 0 1 0 3 0 0 0 3 0 1 0 3 0 0 0 3 0 1 0 3 0 0 0 3 0 1 0 3 0 1 0 3 0 1 0 3 0 1 0 3 0 1 0 3 0 0\n",
      "0 1 0 3 0 1 0 3 0 1 0 3 0 1 0 3 0 1 0 3 0 1 0 3 0 1 0 3 0 1 0 3 0 1 0 3 0 0 0 3 0 1 0 3 0 0 0 3 0 1 0 3 0 0 0 3 0 1 0 3 0 0 0 3 0 1 0 3 0 0 0 3 0 1 0 3 0 0 0 3 0 1 0 3 0 1 0 3 0 1 0 3 0 0 0 3 0 1 0 3 0 0 0 3 0 1 0 3 0 0 0 3 0 1 0 3 0 0 0 3 0 1 0 3 0 1 0 3 0 1 0 3 0 0 0 3 0 1 0 3 0 0 0 3 0 1 0 3 0 0 0 3 0 1 0 3 0 0\n",
      "0 1 0 3 0 1 0 3 0 1 0 3 0 1 0 3 0 1 0 3 0 1 0 3 0 1 0 3 0 1 0 3 0 1 0 3 0 0 0 3 0 1 0 3 0 0 0 3 0 1 0 3 0 1 0 3 0 1 0 3 0 0 0 3 0 1 0 3 0 1 0 3 0 1 0 3 0 0 0 3 0 1 0 3 0 1 0 3 0 1 0 3 0 0 0 3 0 1 0 3 0 0 0 3 0 1 0 3 0 1 0 3 0 1 0 3 0 0 0 3 0 1 0 3 0 1 0 3 0 1 0 3 0 1 0 3 0 1 0 3 0 0 0 3 0 1 0 3 0 1 0 3 0 1 0 3 0 0\n",
      "0 1 0 3 0 0 0 3 0 1 0 3 0 0 0 3 0 1 0 3 0 0 0 3 0 1 0 3 0 0 0 3 0 1 0 3 0 0 0 3 0 1 0 3 0 0 0 3 0 1 0 3 0 1 0 3 0 1 0 3 0 0 0 3 0 1 0 3 0 0 0 3 0 1 0 3 0 0 0 3 0 1 0 3 0 1 0 3 0 1 0 3 0 0 0 3 0 1 0 3 0 0 0 3 0 1 0 3 0 0 0 3 0 1 0 3 0 0 0 3 0 1 0 3 0 0 0 3 0 1 0 3 0 0 0 3 0 1 0 3 0 0 0 3 0 1 0 3 0 0 0 3 0 1 0 3 0 0\n",
      "0 1 0 3 0 1 0 3 0 1 0 3 0 0 0 3 0 1 0 3 0 1 0 3 0 1 0 3 0 0 0 3 0 1 0 3 0 0 0 3 0 1 0 3 0 0 0 3 0 1 0 3 0 0 0 3 0 1 0 3 0 1 0 3 0 1 0 3 0 0 0 3 0 1 0 3 0 0 0 3 0 1 0 3 0 1 0 3 0 1 0 3 0 0 0 3 0 1 0 3 0 1 0 3 0 1 0 3 0 1 0 3 0 1 0 3 0 0 0 3 0 1 0 3 0 0 0 3 0 1 0 3 0 0 0 3 0 1 0 3 0 1 0 3 0 1 0 3 0 1 0 3 0 1 0 3 0 0\n",
      "0 1 0 3 0 0 0 3 0 1 0 3 0 1 0 3 0 1 0 3 0 0 0 3 0 1 0 3 0 0 0 3 0 1 0 3 0 0 0 3 0 1 0 3 0 0 0 3 0 1 0 3 0 1 0 3 0 1 0 3 0 0 0 3 0 1 0 3 0 1 0 3 0 1 0 3 0 0 0 3 0 1 0 3 0 0 0 3 0 1 0 3 0 1 0 3 0 1 0 3 0 0 0 3 0 1 0 3 0 0 0 3 0 1 0 3 0 0 0 3 0 1 0 3 0 1 0 3 0 1 0 3 0 0 0 3 0 1 0 3 0 1 0 3 0 1 0 3 0 1 0 3 0 1 0 3 0 0\n",
      "0 1 0 3 0 0 0 3 0 1 0 3 0 1 0 3 0 1 0 3 0 1 0 3 0 1 0 3 0 1 0 3 0 1 0 3 0 0 0 3 0 1 0 3 0 1 0 3 0 1 0 3 0 1 0 3 0 1 0 3 0 1 0 3 0 1 0 3 0 1 0 3 0 1 0 3 0 0 0 3 0 1 0 3 0 1 0 3 0 1 0 3 0 1 0 3 0 1 0 3 0 1 0 3 0 1 0 3 0 1 0 3 0 1 0 3 0 0 0 3 0 1 0 3 0 1 0 3 0 1 0 3 0 1 0 3 0 1 0 3 0 0 0 3 0 1 0 3 0 1 0 3 0 1 0 3 0 0\n",
      "0 1 0 3 0 1 0 3 0 1 0 3 0 1 0 3 0 1 0 3 0 0 0 3 0 1 0 3 0 1 0 3 0 1 0 3 0 0 0 3 0 1 0 3 0 0 0 3 0 1 0 3 0 0 0 3 0 1 0 3 0 0 0 3 0 1 0 3 0 1 0 3 0 1 0 3 0 0 0 3 0 1 0 3 0 0 0 3 0 1 0 3 0 0 0 3 0 1 0 3 0 0 0 3 0 1 0 3 0 0 0 3 0 1 0 3 0 0 0 3 0 1 0 3 0 1 0 3 0 1 0 3 0 0 0 3 0 1 0 3 0 0 0 3 0 1 0 3 0 1 0 3 0 1 0 3 0 0\n",
      "0 1 0 3 0 1 0 3 0 1 0 3 0 0 0 3 0 1 0 3 0 0 0 3 0 1 0 3 0 1 0 3 0 1 0 3 0 0 0 3 0 1 0 3 0 1 0 3 0 1 0 3 0 0 0 3 0 1 0 3 0 0 0 3 0 1 0 3 0 0 0 3 0 1 0 3 0 0 0 3 0 1 0 3 0 0 0 3 0 1 0 3 0 1 0 3 0 1 0 3 0 1 0 3 0 1 0 3 0 1 0 3 0 1 0 3 0 0 0 3 0 1 0 3 0 0 0 3 0 1 0 3 0 1 0 3 0 1 0 3 0 0 0 3 0 1 0 3 0 0 0 3 0 1 0 3 0 0\n",
      "0 1 0 3 0 1 0 3 0 1 0 3 0 0 0 3 0 1 0 3 0 0 0 3 0 1 0 3 0 0 0 3 0 1 0 3 0 0 0 3 0 1 0 3 0 0 0 3 0 1 0 3 0 1 0 3 0 1 0 3 0 0 0 3 0 1 0 3 0 1 0 3 0 1 0 3 0 0 0 3 0 1 0 3 0 0 0 3 0 1 0 3 0 0 0 3 0 1 0 3 0 0 0 3 0 1 0 3 0 0 0 3 0 1 0 3 0 0 0 3 0 1 0 3 0 1 0 3 0 1 0 3 0 0 0 3 0 1 0 3 0 0 0 3 0 1 0 3 0 0 0 3 0 1 0 3 0 0\n",
      "0 1 0 3 0 0 0 3 0 1 0 3 0 1 0 3 0 1 0 3 0 1 0 3 0 1 0 3 0 0 0 3 0 1 0 3 0 0 0 3 0 1 0 3 0 1 0 3 0 1 0 3 0 0 0 3 0 1 0 3 0 1 0 3 0 1 0 3 0 1 0 3 0 1 0 3 0 0 0 3 0 1 0 3 0 0 0 3 0 1 0 3 0 0 0 3 0 1 0 3 0 1 0 3 0 1 0 3 0 1 0 3 0 1 0 3 0 0 0 3 0 1 0 3 0 1 0 3 0 1 0 3 0 0 0 3 0 1 0 3 0 0 0 3 0 1 0 3 0 1 0 3 0 1 0 3 0 0\n",
      "0 1 0 3 0 0 0 3 0 1 0 3 0 1 0 3 0 1 0 3 0 0 0 3 0 1 0 3 0 1 0 3 0 1 0 3 0 0 0 3 0 1 0 3 0 0 0 3 0 1 0 3 0 0 0 3 0 1 0 3 0 1 0 3 0 1 0 3 0 0 0 3 0 1 0 3 0 0 0 3 0 1 0 3 0 1 0 3 0 1 0 3 0 1 0 3 0 1 0 3 0 1 0 3 0 1 0 3 0 0 0 3 0 1 0 3 0 0 0 3 0 1 0 3 0 1 0 3 0 1 0 3 0 0 0 3 0 1 0 3 0 0 0 3 0 1 0 3 0 0 0 3 0 1 0 3 0 0\n",
      "0 1 0 3 0 0 0 3 0 1 0 3 0 1 0 3 0 1 0 3 0 1 0 3 0 1 0 3 0 0 0 3 0 1 0 3 0 0 0 3 0 1 0 3 0 0 0 3 0 1 0 3 0 1 0 3 0 1 0 3 0 1 0 3 0 1 0 3 0 1 0 3 0 1 0 3 0 0 0 3 0 1 0 3 0 0 0 3 0 1 0 3 0 1 0 3 0 1 0 3 0 1 0 3 0 1 0 3 0 1 0 3 0 1 0 3 0 0 0 3 0 1 0 3 0 1 0 3 0 1 0 3 0 1 0 3 0 1 0 3 0 0 0 3 0 1 0 3 0 0 0 3 0 1 0 3 0 0\n",
      "0 1 0 3 0 1 0 3 0 1 0 3 0 0 0 3 0 1 0 3 0 0 0 3 0 1 0 3 0 0 0 3 0 1 0 3 0 0 0 3 0 1 0 3 0 0 0 3 0 1 0 3 0 0 0 3 0 1 0 3 0 1 0 3 0 1 0 3 0 0 0 3 0 1 0 3 0 0 0 3 0 1 0 3 0 0 0 3 0 1 0 3 0 1 0 3 0 1 0 3 0 0 0 3 0 1 0 3 0 1 0 3 0 1 0 3 0 0 0 3 0 1 0 3 0 0 0 3 0 1 0 3 0 0 0 3 0 1 0 3 0 1 0 3 0 1 0 3 0 0 0 3 0 1 0 3 0 0\n",
      "0 1 0 3 0 0 0 3 0 1 0 3 0 0 0 3 0 1 0 3 0 0 0 3 0 1 0 3 0 0 0 3 0 1 0 3 0 0 0 3 0 1 0 3 0 0 0 3 0 1 0 3 0 0 0 3 0 1 0 3 0 1 0 3 0 1 0 3 0 0 0 3 0 1 0 3 0 0 0 3 0 1 0 3 0 0 0 3 0 1 0 3 0 0 0 3 0 1 0 3 0 1 0 3 0 1 0 3 0 1 0 3 0 1 0 3 0 0 0 3 0 1 0 3 0 1 0 3 0 1 0 3 0 0 0 3 0 1 0 3 0 0 0 3 0 1 0 3 0 0 0 3 0 1 0 3 0 0\n",
      "0 1 0 3 0 0 0 3 0 1 0 3 0 1 0 3 0 1 0 3 0 1 0 3 0 1 0 3 0 1 0 3 0 1 0 3 0 0 0 3 0 1 0 3 0 1 0 3 0 1 0 3 0 1 0 3 0 1 0 3 0 1 0 3 0 1 0 3 0 0 0 3 0 1 0 3 0 0 0 3 0 1 0 3 0 0 0 3 0 1 0 3 0 0 0 3 0 1 0 3 0 1 0 3 0 1 0 3 0 0 0 3 0 1 0 3 0 0 0 3 0 1 0 3 0 0 0 3 0 1 0 3 0 0 0 3 0 1 0 3 0 1 0 3 0 1 0 3 0 0 0 3 0 1 0 3 0 0\n",
      "0 1 0 3 0 1 0 3 0 1 0 3 0 1 0 3 0 1 0 3 0 0 0 3 0 1 0 3 0 0 0 3 0 1 0 3 0 0 0 3 0 1 0 3 0 0 0 3 0 1 0 3 0 1 0 3 0 1 0 3 0 0 0 3 0 1 0 3 0 1 0 3 0 1 0 3 0 0 0 3 0 1 0 3 0 0 0 3 0 1 0 3 0 1 0 3 0 1 0 3 0 1 0 3 0 1 0 3 0 0 0 3 0 1 0 3 0 0 0 3 0 1 0 3 0 0 0 3 0 1 0 3 0 0 0 3 0 1 0 3 0 0 0 3 0 1 0 3 0 1 0 3 0 1 0 3 0 0\n",
      "0 1 0 3 0 0 0 3 0 1 0 3 0 0 0 3 0 1 0 3 0 0 0 3 0 1 0 3 0 0 0 3 0 1 0 3 0 0 0 3 0 1 0 3 0 1 0 3 0 1 0 3 0 0 0 3 0 1 0 3 0 0 0 3 0 1 0 3 0 0 0 3 0 1 0 3 0 0 0 3 0 1 0 3 0 0 0 3 0 1 0 3 0 1 0 3 0 1 0 3 0 0 0 3 0 1 0 3 0 0 0 3 0 1 0 3 0 0 0 3 0 1 0 3 0 0 0 3 0 1 0 3 0 0 0 3 0 1 0 3 0 0 0 3 0 1 0 3 0 1 0 3 0 1 0 3 0 0\n",
      "0 1 0 3 0 1 0 3 0 1 0 3 0 1 0 3 0 1 0 3 0 0 0 3 0 1 0 3 0 0 0 3 0 1 0 3 0 0 0 3 0 1 0 3 0 1 0 3 0 1 0 3 0 0 0 3 0 1 0 3 0 1 0 3 0 1 0 3 0 0 0 3 0 1 0 3 0 0 0 3 0 1 0 3 0 0 0 3 0 1 0 3 0 0 0 3 0 1 0 3 0 1 0 3 0 1 0 3 0 1 0 3 0 1 0 3 0 0 0 3 0 1 0 3 0 0 0 3 0 1 0 3 0 0 0 3 0 1 0 3 0 0 0 3 0 1 0 3 0 1 0 3 0 1 0 3 0 0\n",
      "0 1 0 3 0 1 0 3 0 1 0 3 0 1 0 3 0 1 0 3 0 1 0 3 0 1 0 3 0 0 0 3 0 1 0 3 0 0 0 3 0 1 0 3 0 0 0 3 0 1 0 3 0 1 0 3 0 1 0 3 0 1 0 3 0 1 0 3 0 1 0 3 0 1 0 3 0 0 0 3 0 1 0 3 0 0 0 3 0 1 0 3 0 1 0 3 0 1 0 3 0 0 0 3 0 1 0 3 0 0 0 3 0 1 0 3 0 0 0 3 0 1 0 3 0 1 0 3 0 1 0 3 0 1 0 3 0 1 0 3 0 0 0 3 0 1 0 3 0 1 0 3 0 1 0 3 0 0\n",
      "0 1 0 3 0 0 0 3 0 1 0 3 0 0 0 3 0 1 0 3 0 0 0 3 0 1 0 3 0 1 0 3 0 1 0 3 0 0 0 3 0 1 0 3 0 0 0 3 0 1 0 3 0 1 0 3 0 1 0 3 0 1 0 3 0 1 0 3 0 1 0 3 0 1 0 3 0 0 0 3 0 1 0 3 0 0 0 3 0 1 0 3 0 1 0 3 0 1 0 3 0 1 0 3 0 1 0 3 0 1 0 3 0 1 0 3 0 0 0 3 0 1 0 3 0 1 0 3 0 1 0 3 0 1 0 3 0 1 0 3 0 1 0 3 0 1 0 3 0 0 0 3 0 1 0 3 0 0\n",
      "0 1 0 3 0 0 0 3 0 1 0 3 0 1 0 3 0 1 0 3 0 1 0 3 0 1 0 3 0 1 0 3 0 1 0 3 0 0 0 3 0 1 0 3 0 0 0 3 0 1 0 3 0 1 0 3 0 1 0 3 0 0 0 3 0 1 0 3 0 1 0 3 0 1 0 3 0 0 0 3 0 1 0 3 0 1 0 3 0 1 0 3 0 0 0 3 0 1 0 3 0 1 0 3 0 1 0 3 0 0 0 3 0 1 0 3 0 0 0 3 0 1 0 3 0 0 0 3 0 1 0 3 0 1 0 3 0 1 0 3 0 0 0 3 0 1 0 3 0 0 0 3 0 1 0 3 0 0\n",
      "0 1 0 3 0 1 0 3 0 1 0 3 0 0 0 3 0 1 0 3 0 0 0 3 0 1 0 3 0 1 0 3 0 1 0 3 0 0 0 3 0 1 0 3 0 1 0 3 0 1 0 3 0 1 0 3 0 1 0 3 0 0 0 3 0 1 0 3 0 1 0 3 0 1 0 3 0 0 0 3 0 1 0 3 0 0 0 3 0 1 0 3 0 1 0 3 0 1 0 3 0 1 0 3 0 1 0 3 0 1 0 3 0 1 0 3 0 0 0 3 0 1 0 3 0 0 0 3 0 1 0 3 0 1 0 3 0 1 0 3 0 0 0 3 0 1 0 3 0 0 0 3 0 1 0 3 0 0\n",
      "0 1 0 3 0 0 0 3 0 1 0 3 0 1 0 3 0 1 0 3 0 1 0 3 0 1 0 3 0 0 0 3 0 1 0 3 0 0 0 3 0 1 0 3 0 0 0 3 0 1 0 3 0 0 0 3 0 1 0 3 0 0 0 3 0 1 0 3 0 0 0 3 0 1 0 3 0 0 0 3 0 1 0 3 0 0 0 3 0 1 0 3 0 1 0 3 0 1 0 3 0 1 0 3 0 1 0 3 0 0 0 3 0 1 0 3 0 0 0 3 0 1 0 3 0 0 0 3 0 1 0 3 0 1 0 3 0 1 0 3 0 1 0 3 0 1 0 3 0 0 0 3 0 1 0 3 0 0\n",
      "0 1 0 3 0 0 0 3 0 1 0 3 0 1 0 3 0 1 0 3 0 0 0 3 0 1 0 3 0 0 0 3 0 1 0 3 0 0 0 3 0 1 0 3 0 0 0 3 0 1 0 3 0 1 0 3 0 1 0 3 0 0 0 3 0 1 0 3 0 0 0 3 0 1 0 3 0 0 0 3 0 1 0 3 0 1 0 3 0 1 0 3 0 0 0 3 0 1 0 3 0 1 0 3 0 1 0 3 0 0 0 3 0 1 0 3 0 0 0 3 0 1 0 3 0 1 0 3 0 1 0 3 0 1 0 3 0 1 0 3 0 1 0 3 0 1 0 3 0 1 0 3 0 1 0 3 0 0\n",
      "0 1 0 3 0 1 0 3 0 1 0 3 0 0 0 3 0 1 0 3 0 1 0 3 0 1 0 3 0 0 0 3 0 1 0 3 0 0 0 3 0 1 0 3 0 1 0 3 0 1 0 3 0 0 0 3 0 1 0 3 0 1 0 3 0 1 0 3 0 0 0 3 0 1 0 3 0 0 0 3 0 1 0 3 0 1 0 3 0 1 0 3 0 1 0 3 0 1 0 3 0 1 0 3 0 1 0 3 0 1 0 3 0 1 0 3 0 0 0 3 0 1 0 3 0 0 0 3 0 1 0 3 0 1 0 3 0 1 0 3 0 1 0 3 0 1 0 3 0 1 0 3 0 1 0 3 0 0\n",
      "0 1 0 3 0 0 0 3 0 1 0 3 0 1 0 3 0 1 0 3 0 1 0 3 0 1 0 3 0 0 0 3 0 1 0 3 0 0 0 3 0 1 0 3 0 0 0 3 0 1 0 3 0 0 0 3 0 1 0 3 0 0 0 3 0 1 0 3 0 1 0 3 0 1 0 3 0 0 0 3 0 1 0 3 0 1 0 3 0 1 0 3 0 0 0 3 0 1 0 3 0 0 0 3 0 1 0 3 0 0 0 3 0 1 0 3 0 0 0 3 0 1 0 3 0 0 0 3 0 1 0 3 0 1 0 3 0 1 0 3 0 1 0 3 0 1 0 3 0 1 0 3 0 1 0 3 0 0\n",
      "0 1 0 3 0 1 0 3 0 1 0 3 0 0 0 3 0 1 0 3 0 1 0 3 0 1 0 3 0 1 0 3 0 1 0 3 0 0 0 3 0 1 0 3 0 1 0 3 0 1 0 3 0 1 0 3 0 1 0 3 0 0 0 3 0 1 0 3 0 1 0 3 0 1 0 3 0 0 0 3 0 1 0 3 0 0 0 3 0 1 0 3 0 0 0 3 0 1 0 3 0 1 0 3 0 1 0 3 0 0 0 3 0 1 0 3 0 0 0 3 0 1 0 3 0 0 0 3 0 1 0 3 0 0 0 3 0 1 0 3 0 0 0 3 0 1 0 3 0 1 0 3 0 1 0 3 0 0\n",
      "0 1 0 3 0 0 0 3 0 1 0 3 0 0 0 3 0 1 0 3 0 0 0 3 0 1 0 3 0 1 0 3 0 1 0 3 0 0 0 3 0 1 0 3 0 1 0 3 0 1 0 3 0 1 0 3 0 1 0 3 0 0 0 3 0 1 0 3 0 0 0 3 0 1 0 3 0 0 0 3 0 1 0 3 0 0 0 3 0 1 0 3 0 1 0 3 0 1 0 3 0 1 0 3 0 1 0 3 0 0 0 3 0 1 0 3 0 0 0 3 0 1 0 3 0 0 0 3 0 1 0 3 0 0 0 3 0 1 0 3 0 1 0 3 0 1 0 3 0 0 0 3 0 1 0 3 0 0\n",
      "0 1 0 3 0 1 0 3 0 1 0 3 0 0 0 3 0 1 0 3 0 0 0 3 0 1 0 3 0 0 0 3 0 1 0 3 0 0 0 3 0 1 0 3 0 0 0 3 0 1 0 3 0 1 0 3 0 1 0 3 0 0 0 3 0 1 0 3 0 1 0 3 0 1 0 3 0 0 0 3 0 1 0 3 0 1 0 3 0 1 0 3 0 0 0 3 0 1 0 3 0 0 0 3 0 1 0 3 0 0 0 3 0 1 0 3 0 0 0 3 0 1 0 3 0 0 0 3 0 1 0 3 0 0 0 3 0 1 0 3 0 1 0 3 0 1 0 3 0 0 0 3 0 1 0 3 0 0\n",
      "0 1 0 3 0 0 0 3 0 1 0 3 0 0 0 3 0 1 0 3 0 1 0 3 0 1 0 3 0 1 0 3 0 1 0 3 0 0 0 3 0 1 0 3 0 0 0 3 0 1 0 3 0 1 0 3 0 1 0 3 0 1 0 3 0 1 0 3 0 1 0 3 0 1 0 3 0 0 0 3 0 1 0 3 0 0 0 3 0 1 0 3 0 0 0 3 0 1 0 3 0 0 0 3 0 1 0 3 0 0 0 3 0 1 0 3 0 0 0 3 0 1 0 3 0 0 0 3 0 1 0 3 0 0 0 3 0 1 0 3 0 1 0 3 0 1 0 3 0 1 0 3 0 1 0 3 0 0\n",
      "0 1 0 3 0 0 0 3 0 1 0 3 0 1 0 3 0 1 0 3 0 1 0 3 0 1 0 3 0 0 0 3 0 1 0 3 0 0 0 3 0 1 0 3 0 1 0 3 0 1 0 3 0 0 0 3 0 1 0 3 0 0 0 3 0 1 0 3 0 1 0 3 0 1 0 3 0 0 0 3 0 1 0 3 0 1 0 3 0 1 0 3 0 0 0 3 0 1 0 3 0 1 0 3 0 1 0 3 0 1 0 3 0 1 0 3 0 0 0 3 0 1 0 3 0 1 0 3 0 1 0 3 0 0 0 3 0 1 0 3 0 1 0 3 0 1 0 3 0 1 0 3 0 1 0 3 0 0\n",
      "0 1 0 3 0 1 0 3 0 1 0 3 0 1 0 3 0 1 0 3 0 1 0 3 0 1 0 3 0 0 0 3 0 1 0 3 0 0 0 3 0 1 0 3 0 1 0 3 0 1 0 3 0 0 0 3 0 1 0 3 0 1 0 3 0 1 0 3 0 0 0 3 0 1 0 3 0 0 0 3 0 1 0 3 0 0 0 3 0 1 0 3 0 1 0 3 0 1 0 3 0 0 0 3 0 1 0 3 0 1 0 3 0 1 0 3 0 0 0 3 0 1 0 3 0 0 0 3 0 1 0 3 0 0 0 3 0 1 0 3 0 0 0 3 0 1 0 3 0 1 0 3 0 1 0 3 0 0\n",
      "0 1 0 3 0 1 0 3 0 1 0 3 0 1 0 3 0 1 0 3 0 0 0 3 0 1 0 3 0 1 0 3 0 1 0 3 0 0 0 3 0 1 0 3 0 0 0 3 0 1 0 3 0 1 0 3 0 1 0 3 0 1 0 3 0 1 0 3 0 1 0 3 0 1 0 3 0 0 0 3 0 1 0 3 0 0 0 3 0 1 0 3 0 0 0 3 0 1 0 3 0 0 0 3 0 1 0 3 0 1 0 3 0 1 0 3 0 0 0 3 0 1 0 3 0 0 0 3 0 1 0 3 0 1 0 3 0 1 0 3 0 1 0 3 0 1 0 3 0 0 0 3 0 1 0 3 0 0\n",
      "0 1 0 3 0 0 0 3 0 1 0 3 0 1 0 3 0 1 0 3 0 1 0 3 0 1 0 3 0 1 0 3 0 1 0 3 0 0 0 3 0 1 0 3 0 0 0 3 0 1 0 3 0 0 0 3 0 1 0 3 0 1 0 3 0 1 0 3 0 0 0 3 0 1 0 3 0 0 0 3 0 1 0 3 0 1 0 3 0 1 0 3 0 1 0 3 0 1 0 3 0 0 0 3 0 1 0 3 0 0 0 3 0 1 0 3 0 0 0 3 0 1 0 3 0 1 0 3 0 1 0 3 0 0 0 3 0 1 0 3 0 1 0 3 0 1 0 3 0 1 0 3 0 1 0 3 0 0\n",
      "0 1 0 3 0 0 0 3 0 1 0 3 0 1 0 3 0 1 0 3 0 1 0 3 0 1 0 3 0 1 0 3 0 1 0 3 0 0 0 3 0 1 0 3 0 1 0 3 0 1 0 3 0 0 0 3 0 1 0 3 0 0 0 3 0 1 0 3 0 0 0 3 0 1 0 3 0 0 0 3 0 1 0 3 0 1 0 3 0 1 0 3 0 1 0 3 0 1 0 3 0 0 0 3 0 1 0 3 0 1 0 3 0 1 0 3 0 0 0 3 0 1 0 3 0 1 0 3 0 1 0 3 0 1 0 3 0 1 0 3 0 0 0 3 0 1 0 3 0 1 0 3 0 1 0 3 0 0\n",
      "0 1 0 3 0 0 0 3 0 1 0 3 0 1 0 3 0 1 0 3 0 0 0 3 0 1 0 3 0 0 0 3 0 1 0 3 0 0 0 3 0 1 0 3 0 0 0 3 0 1 0 3 0 0 0 3 0 1 0 3 0 1 0 3 0 1 0 3 0 0 0 3 0 1 0 3 0 0 0 3 0 1 0 3 0 0 0 3 0 1 0 3 0 1 0 3 0 1 0 3 0 0 0 3 0 1 0 3 0 1 0 3 0 1 0 3 0 0 0 3 0 1 0 3 0 1 0 3 0 1 0 3 0 0 0 3 0 1 0 3 0 0 0 3 0 1 0 3 0 1 0 3 0 1 0 3 0 0\n",
      "0 1 0 3 0 1 0 3 0 1 0 3 0 0 0 3 0 1 0 3 0 0 0 3 0 1 0 3 0 1 0 3 0 1 0 3 0 0 0 3 0 1 0 3 0 1 0 3 0 1 0 3 0 1 0 3 0 1 0 3 0 1 0 3 0 1 0 3 0 1 0 3 0 1 0 3 0 0 0 3 0 1 0 3 0 0 0 3 0 1 0 3 0 0 0 3 0 1 0 3 0 0 0 3 0 1 0 3 0 1 0 3 0 1 0 3 0 0 0 3 0 1 0 3 0 1 0 3 0 1 0 3 0 0 0 3 0 1 0 3 0 0 0 3 0 1 0 3 0 1 0 3 0 1 0 3 0 0\n",
      "0 1 0 3 0 0 0 3 0 1 0 3 0 0 0 3 0 1 0 3 0 0 0 3 0 1 0 3 0 1 0 3 0 1 0 3 0 0 0 3 0 1 0 3 0 1 0 3 0 1 0 3 0 1 0 3 0 1 0 3 0 1 0 3 0 1 0 3 0 0 0 3 0 1 0 3 0 0 0 3 0 1 0 3 0 0 0 3 0 1 0 3 0 0 0 3 0 1 0 3 0 0 0 3 0 1 0 3 0 0 0 3 0 1 0 3 0 0 0 3 0 1 0 3 0 0 0 3 0 1 0 3 0 0 0 3 0 1 0 3 0 1 0 3 0 1 0 3 0 1 0 3 0 1 0 3 0 0\n",
      "0 1 0 3 0 0 0 3 0 1 0 3 0 0 0 3 0 1 0 3 0 1 0 3 0 1 0 3 0 0 0 3 0 1 0 3 0 0 0 3 0 1 0 3 0 0 0 3 0 1 0 3 0 1 0 3 0 1 0 3 0 0 0 3 0 1 0 3 0 0 0 3 0 1 0 3 0 0 0 3 0 1 0 3 0 0 0 3 0 1 0 3 0 0 0 3 0 1 0 3 0 1 0 3 0 1 0 3 0 1 0 3 0 1 0 3 0 0 0 3 0 1 0 3 0 0 0 3 0 1 0 3 0 1 0 3 0 1 0 3 0 1 0 3 0 1 0 3 0 0 0 3 0 1 0 3 0 0\n",
      "0 1 0 3 0 0 0 3 0 1 0 3 0 0 0 3 0 1 0 3 0 0 0 3 0 1 0 3 0 1 0 3 0 1 0 3 0 0 0 3 0 1 0 3 0 0 0 3 0 1 0 3 0 1 0 3 0 1 0 3 0 0 0 3 0 1 0 3 0 1 0 3 0 1 0 3 0 0 0 3 0 1 0 3 0 0 0 3 0 1 0 3 0 0 0 3 0 1 0 3 0 1 0 3 0 1 0 3 0 1 0 3 0 1 0 3 0 0 0 3 0 1 0 3 0 0 0 3 0 1 0 3 0 1 0 3 0 1 0 3 0 0 0 3 0 1 0 3 0 0 0 3 0 1 0 3 0 0\n",
      "0 1 0 3 0 0 0 3 0 1 0 3 0 0 0 3 0 1 0 3 0 1 0 3 0 1 0 3 0 0 0 3 0 1 0 3 0 0 0 3 0 1 0 3 0 1 0 3 0 1 0 3 0 0 0 3 0 1 0 3 0 1 0 3 0 1 0 3 0 1 0 3 0 1 0 3 0 0 0 3 0 1 0 3 0 0 0 3 0 1 0 3 0 1 0 3 0 1 0 3 0 1 0 3 0 1 0 3 0 1 0 3 0 1 0 3 0 0 0 3 0 1 0 3 0 0 0 3 0 1 0 3 0 0 0 3 0 1 0 3 0 0 0 3 0 1 0 3 0 1 0 3 0 1 0 3 0 0\n",
      "0 1 0 3 0 0 0 3 0 1 0 3 0 0 0 3 0 1 0 3 0 0 0 3 0 1 0 3 0 1 0 3 0 1 0 3 0 0 0 3 0 1 0 3 0 1 0 3 0 1 0 3 0 0 0 3 0 1 0 3 0 0 0 3 0 1 0 3 0 0 0 3 0 1 0 3 0 0 0 3 0 1 0 3 0 0 0 3 0 1 0 3 0 0 0 3 0 1 0 3 0 1 0 3 0 1 0 3 0 0 0 3 0 1 0 3 0 0 0 3 0 1 0 3 0 0 0 3 0 1 0 3 0 0 0 3 0 1 0 3 0 0 0 3 0 1 0 3 0 1 0 3 0 1 0 3 0 0\n",
      "0 1 0 3 0 0\n"
     ]
    }
   ],
   "source": [
    "#5\n",
    "def binary_to_card(binary_str):\n",
    "    decimal_value = int(binary_str, 2)\n",
    "    decimal_value >>= 4  # Ignore the last 4 bits\n",
    "    return chr(decimal_value + ord('0'))\n",
    "\n",
    "# Convert binary data to credit card numbers\n",
    "with open(\"data/credit_card.dat\", 'rb') as file:\n",
    "    for line in file:\n",
    "        binary_line = ''.join(format(byte, '08b') for byte in line)\n",
    "        credit_card_numbers = [binary_to_card(binary_line[i:i+6]) for i in range(0, len(binary_line)-4, 6)]\n",
    "        print(' '.join(credit_card_numbers))"
   ]
  },
  {
   "cell_type": "code",
   "execution_count": 13,
   "id": "7791774d",
   "metadata": {},
   "outputs": [
    {
     "name": "stdout",
     "output_type": "stream",
     "text": [
      "(4681436006502574298,)\n",
      "(4681998956455995611,)\n",
      "(4647659009297301308,)\n",
      "(4648221959250722771,)\n",
      "(4648221959250729241,)\n",
      "(4647659009297307972,)\n",
      "(4646533109390465678,)\n",
      "(4690443205757328128,)\n",
      "(4647096059343887061,)\n",
      "(4645970159437044871,)\n",
      "Txt file size: 33179236 bytes\n",
      "Binary file size: 80 bytes\n",
      "Difference in size: 33179156 bytes\n"
     ]
    }
   ],
   "source": [
    "#6\n",
    "import struct\n",
    "import os\n",
    "df = pd.read_csv('data/data_000637.txt', nrows=10)\n",
    "\n",
    "with open('data_000637_binary.bin', 'wb') as binary_file:\n",
    "    for _, row in df.iterrows():\n",
    "        word = (\n",
    "            (int(row['HEAD']) << 62) |\n",
    "            (int(row['FPGA']) << 58) |\n",
    "            (int(row['TDC_CHANNEL']) << 49) |\n",
    "            (int(row['ORBIT_CNT']) << 17) |\n",
    "            (int(row['BX_COUNTER']) << 5) |\n",
    "            (int(row['TDC_MEAS']) << 0)\n",
    "        )\n",
    "        binary_file.write(struct.pack('<q', word))\n",
    "        \n",
    "with open('data_000637_binary.bin', 'rb') as binary_file:\n",
    "    for _ in range(len(df)):\n",
    "        packed_data = binary_file.read(8)\n",
    "        unpacked_data = struct.unpack('<q', packed_data)\n",
    "        print(unpacked_data)\n",
    "        \n",
    "txt_file_size = os.path.getsize('data/data_000637.txt')\n",
    "binary_file_size = os.path.getsize('data_000637_binary.bin')\n",
    "\n",
    "print(f'Txt file size: {txt_file_size} bytes')\n",
    "print(f'Binary file size: {binary_file_size} bytes')\n",
    "print(f'Difference in size: {txt_file_size - binary_file_size} bytes')"
   ]
  },
  {
   "cell_type": "code",
   "execution_count": 1,
   "id": "db3a5f11",
   "metadata": {},
   "outputs": [
    {
     "ename": "FileNotFoundError",
     "evalue": "No such file or directory: 'images/data_format.png'",
     "output_type": "error",
     "traceback": [
      "\u001b[1;31m---------------------------------------------------------------------------\u001b[0m",
      "\u001b[1;31mTypeError\u001b[0m                                 Traceback (most recent call last)",
      "File \u001b[1;32m~\\anaconda3\\Lib\\site-packages\\IPython\\core\\display.py:1045\u001b[0m, in \u001b[0;36mImage._data_and_metadata\u001b[1;34m(self, always_both)\u001b[0m\n\u001b[0;32m   1044\u001b[0m \u001b[38;5;28;01mtry\u001b[39;00m:\n\u001b[1;32m-> 1045\u001b[0m     b64_data \u001b[38;5;241m=\u001b[39m b2a_base64(\u001b[38;5;28mself\u001b[39m\u001b[38;5;241m.\u001b[39mdata, newline\u001b[38;5;241m=\u001b[39m\u001b[38;5;28;01mFalse\u001b[39;00m)\u001b[38;5;241m.\u001b[39mdecode(\u001b[38;5;124m\"\u001b[39m\u001b[38;5;124mascii\u001b[39m\u001b[38;5;124m\"\u001b[39m)\n\u001b[0;32m   1046\u001b[0m \u001b[38;5;28;01mexcept\u001b[39;00m \u001b[38;5;167;01mTypeError\u001b[39;00m \u001b[38;5;28;01mas\u001b[39;00m e:\n",
      "\u001b[1;31mTypeError\u001b[0m: a bytes-like object is required, not 'str'",
      "\nThe above exception was the direct cause of the following exception:\n",
      "\u001b[1;31mFileNotFoundError\u001b[0m                         Traceback (most recent call last)",
      "File \u001b[1;32m~\\anaconda3\\Lib\\site-packages\\IPython\\core\\formatters.py:974\u001b[0m, in \u001b[0;36mMimeBundleFormatter.__call__\u001b[1;34m(self, obj, include, exclude)\u001b[0m\n\u001b[0;32m    971\u001b[0m     method \u001b[38;5;241m=\u001b[39m get_real_method(obj, \u001b[38;5;28mself\u001b[39m\u001b[38;5;241m.\u001b[39mprint_method)\n\u001b[0;32m    973\u001b[0m     \u001b[38;5;28;01mif\u001b[39;00m method \u001b[38;5;129;01mis\u001b[39;00m \u001b[38;5;129;01mnot\u001b[39;00m \u001b[38;5;28;01mNone\u001b[39;00m:\n\u001b[1;32m--> 974\u001b[0m         \u001b[38;5;28;01mreturn\u001b[39;00m method(include\u001b[38;5;241m=\u001b[39minclude, exclude\u001b[38;5;241m=\u001b[39mexclude)\n\u001b[0;32m    975\u001b[0m     \u001b[38;5;28;01mreturn\u001b[39;00m \u001b[38;5;28;01mNone\u001b[39;00m\n\u001b[0;32m    976\u001b[0m \u001b[38;5;28;01melse\u001b[39;00m:\n",
      "File \u001b[1;32m~\\anaconda3\\Lib\\site-packages\\IPython\\core\\display.py:1035\u001b[0m, in \u001b[0;36mImage._repr_mimebundle_\u001b[1;34m(self, include, exclude)\u001b[0m\n\u001b[0;32m   1033\u001b[0m \u001b[38;5;28;01mif\u001b[39;00m \u001b[38;5;28mself\u001b[39m\u001b[38;5;241m.\u001b[39membed:\n\u001b[0;32m   1034\u001b[0m     mimetype \u001b[38;5;241m=\u001b[39m \u001b[38;5;28mself\u001b[39m\u001b[38;5;241m.\u001b[39m_mimetype\n\u001b[1;32m-> 1035\u001b[0m     data, metadata \u001b[38;5;241m=\u001b[39m \u001b[38;5;28mself\u001b[39m\u001b[38;5;241m.\u001b[39m_data_and_metadata(always_both\u001b[38;5;241m=\u001b[39m\u001b[38;5;28;01mTrue\u001b[39;00m)\n\u001b[0;32m   1036\u001b[0m     \u001b[38;5;28;01mif\u001b[39;00m metadata:\n\u001b[0;32m   1037\u001b[0m         metadata \u001b[38;5;241m=\u001b[39m {mimetype: metadata}\n",
      "File \u001b[1;32m~\\anaconda3\\Lib\\site-packages\\IPython\\core\\display.py:1047\u001b[0m, in \u001b[0;36mImage._data_and_metadata\u001b[1;34m(self, always_both)\u001b[0m\n\u001b[0;32m   1045\u001b[0m     b64_data \u001b[38;5;241m=\u001b[39m b2a_base64(\u001b[38;5;28mself\u001b[39m\u001b[38;5;241m.\u001b[39mdata, newline\u001b[38;5;241m=\u001b[39m\u001b[38;5;28;01mFalse\u001b[39;00m)\u001b[38;5;241m.\u001b[39mdecode(\u001b[38;5;124m\"\u001b[39m\u001b[38;5;124mascii\u001b[39m\u001b[38;5;124m\"\u001b[39m)\n\u001b[0;32m   1046\u001b[0m \u001b[38;5;28;01mexcept\u001b[39;00m \u001b[38;5;167;01mTypeError\u001b[39;00m \u001b[38;5;28;01mas\u001b[39;00m e:\n\u001b[1;32m-> 1047\u001b[0m     \u001b[38;5;28;01mraise\u001b[39;00m \u001b[38;5;167;01mFileNotFoundError\u001b[39;00m(\n\u001b[0;32m   1048\u001b[0m         \u001b[38;5;124m\"\u001b[39m\u001b[38;5;124mNo such file or directory: \u001b[39m\u001b[38;5;124m'\u001b[39m\u001b[38;5;132;01m%s\u001b[39;00m\u001b[38;5;124m'\u001b[39m\u001b[38;5;124m\"\u001b[39m \u001b[38;5;241m%\u001b[39m (\u001b[38;5;28mself\u001b[39m\u001b[38;5;241m.\u001b[39mdata)) \u001b[38;5;28;01mfrom\u001b[39;00m \u001b[38;5;21;01me\u001b[39;00m\n\u001b[0;32m   1049\u001b[0m md \u001b[38;5;241m=\u001b[39m {}\n\u001b[0;32m   1050\u001b[0m \u001b[38;5;28;01mif\u001b[39;00m \u001b[38;5;28mself\u001b[39m\u001b[38;5;241m.\u001b[39mmetadata:\n",
      "\u001b[1;31mFileNotFoundError\u001b[0m: No such file or directory: 'images/data_format.png'"
     ]
    },
    {
     "ename": "FileNotFoundError",
     "evalue": "No such file or directory: 'images/data_format.png'",
     "output_type": "error",
     "traceback": [
      "\u001b[1;31m---------------------------------------------------------------------------\u001b[0m",
      "\u001b[1;31mTypeError\u001b[0m                                 Traceback (most recent call last)",
      "File \u001b[1;32m~\\anaconda3\\Lib\\site-packages\\IPython\\core\\display.py:1045\u001b[0m, in \u001b[0;36mImage._data_and_metadata\u001b[1;34m(self, always_both)\u001b[0m\n\u001b[0;32m   1044\u001b[0m \u001b[38;5;28;01mtry\u001b[39;00m:\n\u001b[1;32m-> 1045\u001b[0m     b64_data \u001b[38;5;241m=\u001b[39m b2a_base64(\u001b[38;5;28mself\u001b[39m\u001b[38;5;241m.\u001b[39mdata, newline\u001b[38;5;241m=\u001b[39m\u001b[38;5;28;01mFalse\u001b[39;00m)\u001b[38;5;241m.\u001b[39mdecode(\u001b[38;5;124m\"\u001b[39m\u001b[38;5;124mascii\u001b[39m\u001b[38;5;124m\"\u001b[39m)\n\u001b[0;32m   1046\u001b[0m \u001b[38;5;28;01mexcept\u001b[39;00m \u001b[38;5;167;01mTypeError\u001b[39;00m \u001b[38;5;28;01mas\u001b[39;00m e:\n",
      "\u001b[1;31mTypeError\u001b[0m: a bytes-like object is required, not 'str'",
      "\nThe above exception was the direct cause of the following exception:\n",
      "\u001b[1;31mFileNotFoundError\u001b[0m                         Traceback (most recent call last)",
      "File \u001b[1;32m~\\anaconda3\\Lib\\site-packages\\IPython\\core\\formatters.py:344\u001b[0m, in \u001b[0;36mBaseFormatter.__call__\u001b[1;34m(self, obj)\u001b[0m\n\u001b[0;32m    342\u001b[0m     method \u001b[38;5;241m=\u001b[39m get_real_method(obj, \u001b[38;5;28mself\u001b[39m\u001b[38;5;241m.\u001b[39mprint_method)\n\u001b[0;32m    343\u001b[0m     \u001b[38;5;28;01mif\u001b[39;00m method \u001b[38;5;129;01mis\u001b[39;00m \u001b[38;5;129;01mnot\u001b[39;00m \u001b[38;5;28;01mNone\u001b[39;00m:\n\u001b[1;32m--> 344\u001b[0m         \u001b[38;5;28;01mreturn\u001b[39;00m method()\n\u001b[0;32m    345\u001b[0m     \u001b[38;5;28;01mreturn\u001b[39;00m \u001b[38;5;28;01mNone\u001b[39;00m\n\u001b[0;32m    346\u001b[0m \u001b[38;5;28;01melse\u001b[39;00m:\n",
      "File \u001b[1;32m~\\anaconda3\\Lib\\site-packages\\IPython\\core\\display.py:1067\u001b[0m, in \u001b[0;36mImage._repr_png_\u001b[1;34m(self)\u001b[0m\n\u001b[0;32m   1065\u001b[0m \u001b[38;5;28;01mdef\u001b[39;00m \u001b[38;5;21m_repr_png_\u001b[39m(\u001b[38;5;28mself\u001b[39m):\n\u001b[0;32m   1066\u001b[0m     \u001b[38;5;28;01mif\u001b[39;00m \u001b[38;5;28mself\u001b[39m\u001b[38;5;241m.\u001b[39membed \u001b[38;5;129;01mand\u001b[39;00m \u001b[38;5;28mself\u001b[39m\u001b[38;5;241m.\u001b[39mformat \u001b[38;5;241m==\u001b[39m \u001b[38;5;28mself\u001b[39m\u001b[38;5;241m.\u001b[39m_FMT_PNG:\n\u001b[1;32m-> 1067\u001b[0m         \u001b[38;5;28;01mreturn\u001b[39;00m \u001b[38;5;28mself\u001b[39m\u001b[38;5;241m.\u001b[39m_data_and_metadata()\n",
      "File \u001b[1;32m~\\anaconda3\\Lib\\site-packages\\IPython\\core\\display.py:1047\u001b[0m, in \u001b[0;36mImage._data_and_metadata\u001b[1;34m(self, always_both)\u001b[0m\n\u001b[0;32m   1045\u001b[0m     b64_data \u001b[38;5;241m=\u001b[39m b2a_base64(\u001b[38;5;28mself\u001b[39m\u001b[38;5;241m.\u001b[39mdata, newline\u001b[38;5;241m=\u001b[39m\u001b[38;5;28;01mFalse\u001b[39;00m)\u001b[38;5;241m.\u001b[39mdecode(\u001b[38;5;124m\"\u001b[39m\u001b[38;5;124mascii\u001b[39m\u001b[38;5;124m\"\u001b[39m)\n\u001b[0;32m   1046\u001b[0m \u001b[38;5;28;01mexcept\u001b[39;00m \u001b[38;5;167;01mTypeError\u001b[39;00m \u001b[38;5;28;01mas\u001b[39;00m e:\n\u001b[1;32m-> 1047\u001b[0m     \u001b[38;5;28;01mraise\u001b[39;00m \u001b[38;5;167;01mFileNotFoundError\u001b[39;00m(\n\u001b[0;32m   1048\u001b[0m         \u001b[38;5;124m\"\u001b[39m\u001b[38;5;124mNo such file or directory: \u001b[39m\u001b[38;5;124m'\u001b[39m\u001b[38;5;132;01m%s\u001b[39;00m\u001b[38;5;124m'\u001b[39m\u001b[38;5;124m\"\u001b[39m \u001b[38;5;241m%\u001b[39m (\u001b[38;5;28mself\u001b[39m\u001b[38;5;241m.\u001b[39mdata)) \u001b[38;5;28;01mfrom\u001b[39;00m \u001b[38;5;21;01me\u001b[39;00m\n\u001b[0;32m   1049\u001b[0m md \u001b[38;5;241m=\u001b[39m {}\n\u001b[0;32m   1050\u001b[0m \u001b[38;5;28;01mif\u001b[39;00m \u001b[38;5;28mself\u001b[39m\u001b[38;5;241m.\u001b[39mmetadata:\n",
      "\u001b[1;31mFileNotFoundError\u001b[0m: No such file or directory: 'images/data_format.png'"
     ]
    },
    {
     "data": {
      "text/plain": [
       "<IPython.core.display.Image object>"
      ]
     },
     "execution_count": 1,
     "metadata": {},
     "output_type": "execute_result"
    }
   ],
   "source": []
  },
  {
   "cell_type": "code",
   "execution_count": null,
   "id": "c766af0e",
   "metadata": {},
   "outputs": [],
   "source": []
  }
 ],
 "metadata": {
  "kernelspec": {
   "display_name": "Python 3 (ipykernel)",
   "language": "python",
   "name": "python3"
  },
  "language_info": {
   "codemirror_mode": {
    "name": "ipython",
    "version": 3
   },
   "file_extension": ".py",
   "mimetype": "text/x-python",
   "name": "python",
   "nbconvert_exporter": "python",
   "pygments_lexer": "ipython3",
   "version": "3.11.5"
  }
 },
 "nbformat": 4,
 "nbformat_minor": 5
}
