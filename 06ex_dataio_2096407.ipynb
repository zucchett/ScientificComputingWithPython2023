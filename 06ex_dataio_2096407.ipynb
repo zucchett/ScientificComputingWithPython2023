{
 "cells": [
  {
   "cell_type": "markdown",
   "metadata": {},
   "source": [
    "1\\. **Text files**\n",
    "\n",
    "Perform the following operations on plain `txt` files:\n",
    "\n",
    "+ create a list of integrer numbers and then save it to a text file named `data_int.txt`. Run the `cat` command to print the content of the file.\n",
    "+ create a matrix of 5x5 floats and then save it to a text file named `data_float.txt`. Use the `cat` command to print the content of the file.\n",
    "+ load the `txt` file of the previous point and convert it to a `csv` file by hand."
   ]
  },
  {
   "cell_type": "code",
   "execution_count": 1,
   "metadata": {},
   "outputs": [
    {
     "name": "stdout",
     "output_type": "stream",
     "text": [
      "/bin/bash: line 0: type: data_int.txt: not found\n",
      "/bin/bash: line 0: type: data_float.txt: not found\n",
      "/bin/bash: line 0: type: data_float.csv: not found\n"
     ]
    }
   ],
   "source": [
    "import numpy.random as npr\n",
    "n = npr.randint(1,5,size=(1,6))\n",
    "out_file = 'data_int.txt'\n",
    "with open(out_file, 'w') as outfile:\n",
    "    for i in range(len(n)):\n",
    "        outfile.write(str(n[i]) + ' ')\n",
    "    outfile.write('\\n')\n",
    "#!cat data_int.txt\n",
    "!type data_int.txt\n",
    "\n",
    "m = npr.rand(5,5)\n",
    "out_file2 = 'data_float.txt'\n",
    "with open(out_file2, 'w') as outfile2:\n",
    "    for i in range(len(m)):\n",
    "        for j in range(len(m[0])):\n",
    "            outfile2.write(str(m[i][j]) + ' ')\n",
    "        outfile2.write('\\n')\n",
    "#!cat data_float.txt\n",
    "!type data_float.txt\n",
    "\n",
    "out_file3 = 'data_float.csv'\n",
    "with open(out_file2, 'r') as outfile2:\n",
    "    with open(out_file3, 'w') as outfile3:\n",
    "        for line in outfile2:\n",
    "            l = line.split(' ')\n",
    "            #print(l)\n",
    "            for i in range(len(l)):\n",
    "                outfile3.write(str(l[i]))\n",
    "                if i < (len(l)-2):\n",
    "                    outfile3.write(',')\n",
    "            \n",
    "#!cat data_float.csv\n",
    "!type data_float.csv"
   ]
  },
  {
   "cell_type": "markdown",
   "metadata": {},
   "source": [
    "2\\. **JSON files**\n",
    "\n",
    "Load the file `user_data.json`, which can be found at:\n",
    "\n",
    "- https://www.dropbox.com/s/sz5klcdpckc39hd/user_data.json\n",
    "\n",
    "and filter the data by the \"CreditCardType\" when it equals to \"American Express\". Than save the data to a new CSV file."
   ]
  },
  {
   "cell_type": "code",
   "execution_count": 2,
   "metadata": {},
   "outputs": [
    {
     "name": "stdout",
     "output_type": "stream",
     "text": [
      "--2023-11-30 17:20:52--  https://www.dropbox.com/s/sz5klcdpckc39hd/user_data.json\n",
      "Resolving www.dropbox.com (www.dropbox.com)... 162.125.69.18, 2620:100:6025:18::a27d:4512\n",
      "Connecting to www.dropbox.com (www.dropbox.com)|162.125.69.18|:443... connected.\n",
      "HTTP request sent, awaiting response... 302 Found\n",
      "Location: /s/raw/sz5klcdpckc39hd/user_data.json [following]\n",
      "--2023-11-30 17:20:52--  https://www.dropbox.com/s/raw/sz5klcdpckc39hd/user_data.json\n",
      "Reusing existing connection to www.dropbox.com:443.\n",
      "HTTP request sent, awaiting response... 302 Found\n",
      "Location: https://ucaaf09f6a4b9393cc31f937eb31.dl.dropboxusercontent.com/cd/0/inline/CIiGG8oIJAG9GyHMz5-9borhISs2tv0BOQJx0foN1IGO0UmYBA9VTSLiz4_vuJH8QeNkKRzRIPlV1aIDEq3HIOVNX4NOtJEvXcm4a3L-nPWT8R5-fdH-qmYjNPvWSdn-izU/file# [following]\n",
      "--2023-11-30 17:20:53--  https://ucaaf09f6a4b9393cc31f937eb31.dl.dropboxusercontent.com/cd/0/inline/CIiGG8oIJAG9GyHMz5-9borhISs2tv0BOQJx0foN1IGO0UmYBA9VTSLiz4_vuJH8QeNkKRzRIPlV1aIDEq3HIOVNX4NOtJEvXcm4a3L-nPWT8R5-fdH-qmYjNPvWSdn-izU/file\n",
      "Resolving ucaaf09f6a4b9393cc31f937eb31.dl.dropboxusercontent.com (ucaaf09f6a4b9393cc31f937eb31.dl.dropboxusercontent.com)... 162.125.69.15, 2620:100:6025:15::a27d:450f\n",
      "Connecting to ucaaf09f6a4b9393cc31f937eb31.dl.dropboxusercontent.com (ucaaf09f6a4b9393cc31f937eb31.dl.dropboxusercontent.com)|162.125.69.15|:443... connected.\n",
      "HTTP request sent, awaiting response... 200 OK\n",
      "Length: 40417 (39K) [text/plain]\n",
      "Saving to: ‘user_data.json.3’\n",
      "\n",
      "user_data.json.3    100%[===================>]  39.47K  --.-KB/s    in 0.1s    \n",
      "\n",
      "2023-11-30 17:20:53 (360 KB/s) - ‘user_data.json.3’ saved [40417/40417]\n",
      "\n"
     ]
    }
   ],
   "source": [
    "!wget https://www.dropbox.com/s/sz5klcdpckc39hd/user_data.json"
   ]
  },
  {
   "cell_type": "code",
   "execution_count": 3,
   "metadata": {},
   "outputs": [
    {
     "name": "stdout",
     "output_type": "stream",
     "text": [
      "      ID               JobTitle                       EmailAddress  \\\n",
      "1      2    Investment  Advisor       Clint_Thorpe5003@bulaffy.com   \n",
      "11    12         Retail Trainee   Phillip_Carpenter9505@famism.biz   \n",
      "27    28        Project Manager        Russel_Graves1378@extex.org   \n",
      "38    39            Stockbroker       Leanne_Newton1268@typill.biz   \n",
      "56    57         Budget Analyst          Tony_Giles1960@iatim.tech   \n",
      "61    62           CNC Operator        Owen_Allcott5125@bauros.biz   \n",
      "67    68        Project Manager           Liam_Lynn3280@kideod.biz   \n",
      "73    74                Dentist      Regina_Woodcock5820@yahoo.com   \n",
      "80    81          HR Specialist       Carter_Wallace9614@atink.com   \n",
      "91    92    Staffing Consultant           Maia_Stark2797@jiman.org   \n",
      "96    97            Stockbroker          Ciara_Lomax982@bauros.biz   \n",
      "115  116    Staffing Consultant      Isabel_Ellwood1475@fuliss.net   \n",
      "147  148           CNC Operator  Abdul_Townend2202@infotech44.tech   \n",
      "149  150             Fabricator        Caleb_Poulton1735@atink.com   \n",
      "150  151     Restaurant Manager         Ronald_Lewis6777@deavo.com   \n",
      "153  154                Bellman        Faith_Seymour3829@twace.org   \n",
      "168  169        Assistant Buyer      Anthony_Hancock9083@qater.org   \n",
      "175  176  Healthcare Specialist    Isabella_Willson5478@nanoff.biz   \n",
      "181  182             Pharmacist     Stephanie_Darcy3298@bauros.biz   \n",
      "198  199    Investment  Advisor         Ryan_Kennedy5565@corti.com   \n",
      "\n",
      "     FirstNameLastName           CreditCard    CreditCardType  \n",
      "1         Clint Thorpe  7083-8766-0251-2345  American Express  \n",
      "11   Phillip Carpenter  3657-0088-0820-5247  American Express  \n",
      "27       Russel Graves  6718-4818-8011-6024  American Express  \n",
      "38       Leanne Newton  5438-0816-4166-4847  American Express  \n",
      "56          Tony Giles  8130-3425-7573-7745  American Express  \n",
      "61        Owen Allcott  4156-0107-7210-2630  American Express  \n",
      "67           Liam Lynn  7152-3247-6053-2233  American Express  \n",
      "73     Regina Woodcock  0208-1753-3870-8002  American Express  \n",
      "80      Carter Wallace  4256-7201-6717-4322  American Express  \n",
      "91          Maia Stark  3851-1403-1734-6321  American Express  \n",
      "96         Ciara Lomax  3702-3440-2472-5424  American Express  \n",
      "115     Isabel Ellwood  3738-0882-0066-6683  American Express  \n",
      "147      Abdul Townend  4224-1226-3557-3448  American Express  \n",
      "149      Caleb Poulton  8203-6875-5225-0341  American Express  \n",
      "150       Ronald Lewis  7212-0155-5014-8471  American Express  \n",
      "153      Faith Seymour  4170-5186-6887-6558  American Express  \n",
      "168    Anthony Hancock  0832-3357-6010-6550  American Express  \n",
      "175   Isabella Willson  5177-4868-4623-0384  American Express  \n",
      "181    Stephanie Darcy  0264-4020-5106-5576  American Express  \n",
      "198       Ryan Kennedy  3166-6287-6242-7207  American Express  \n"
     ]
    }
   ],
   "source": [
    "import pandas as pd\n",
    "df = pd.read_json('user_data.json')\n",
    "filtered_data = df[df['CreditCardType'] == 'American Express']\n",
    "print(filtered_data)\n",
    "filtered_data.to_csv('american_express_data.csv', index=False)"
   ]
  },
  {
   "cell_type": "markdown",
   "metadata": {},
   "source": [
    "3\\. **CSV files with Pandas**\n",
    "\n",
    "Load the file from this url:\n",
    "\n",
    "- https://www.dropbox.com/s/kgshemfgk22iy79/mushrooms_categorized.csv\n",
    "\n",
    "with Pandas. \n",
    "\n",
    "+ explore and print the DataFrame\n",
    "+ calculate, using `groupby()`, the average value of each feature, separately for each class\n",
    "+ save the file in a JSON format."
   ]
  },
  {
   "cell_type": "code",
   "execution_count": 4,
   "metadata": {},
   "outputs": [
    {
     "name": "stdout",
     "output_type": "stream",
     "text": [
      "--2023-11-30 17:20:53--  https://www.dropbox.com/s/kgshemfgk22iy79/mushrooms_categorized.csv\n",
      "Resolving www.dropbox.com (www.dropbox.com)... 162.125.69.18, 2620:100:6025:18::a27d:4512\n",
      "Connecting to www.dropbox.com (www.dropbox.com)|162.125.69.18|:443... connected.\n",
      "HTTP request sent, awaiting response... 302 Found\n",
      "Location: /s/raw/kgshemfgk22iy79/mushrooms_categorized.csv [following]\n",
      "--2023-11-30 17:20:54--  https://www.dropbox.com/s/raw/kgshemfgk22iy79/mushrooms_categorized.csv\n",
      "Reusing existing connection to www.dropbox.com:443.\n",
      "HTTP request sent, awaiting response... 302 Found\n",
      "Location: https://ucd2b88b8dc49a8994f60d1b7b50.dl.dropboxusercontent.com/cd/0/inline/CIi0MYudvbggr0m51ws0h7eYT_ssLwGjDf4y6nrpQ-ozqFFHGDMu8qlT4-wjrxD3OZmGL6BoTJTdtL-nir_DuwWwHk3TOW1p8MowSynCyiM9GvF6bChfpiBJEHMprYrijB8/file# [following]\n",
      "--2023-11-30 17:20:54--  https://ucd2b88b8dc49a8994f60d1b7b50.dl.dropboxusercontent.com/cd/0/inline/CIi0MYudvbggr0m51ws0h7eYT_ssLwGjDf4y6nrpQ-ozqFFHGDMu8qlT4-wjrxD3OZmGL6BoTJTdtL-nir_DuwWwHk3TOW1p8MowSynCyiM9GvF6bChfpiBJEHMprYrijB8/file\n",
      "Resolving ucd2b88b8dc49a8994f60d1b7b50.dl.dropboxusercontent.com (ucd2b88b8dc49a8994f60d1b7b50.dl.dropboxusercontent.com)... 162.125.69.15, 2620:100:6025:15::a27d:450f\n",
      "Connecting to ucd2b88b8dc49a8994f60d1b7b50.dl.dropboxusercontent.com (ucd2b88b8dc49a8994f60d1b7b50.dl.dropboxusercontent.com)|162.125.69.15|:443... connected.\n",
      "HTTP request sent, awaiting response... 200 OK\n",
      "Length: 375292 (366K) [text/plain]\n",
      "Saving to: ‘mushrooms_categorized.csv.2’\n",
      "\n",
      "mushrooms_categoriz 100%[===================>] 366.50K   726KB/s    in 0.5s    \n",
      "\n",
      "2023-11-30 17:20:55 (726 KB/s) - ‘mushrooms_categorized.csv.2’ saved [375292/375292]\n",
      "\n"
     ]
    }
   ],
   "source": [
    "!wget https://www.dropbox.com/s/kgshemfgk22iy79/mushrooms_categorized.csv"
   ]
  },
  {
   "cell_type": "code",
   "execution_count": 5,
   "metadata": {},
   "outputs": [
    {
     "name": "stdout",
     "output_type": "stream",
     "text": [
      "DataFrame Info:\n",
      "<class 'pandas.core.frame.DataFrame'>\n",
      "RangeIndex: 8124 entries, 0 to 8123\n",
      "Data columns (total 23 columns):\n",
      "class                       8124 non-null int64\n",
      "cap-shape                   8124 non-null int64\n",
      "cap-surface                 8124 non-null int64\n",
      "cap-color                   8124 non-null int64\n",
      "bruises                     8124 non-null int64\n",
      "odor                        8124 non-null int64\n",
      "gill-attachment             8124 non-null int64\n",
      "gill-spacing                8124 non-null int64\n",
      "gill-size                   8124 non-null int64\n",
      "gill-color                  8124 non-null int64\n",
      "stalk-shape                 8124 non-null int64\n",
      "stalk-root                  8124 non-null int64\n",
      "stalk-surface-above-ring    8124 non-null int64\n",
      "stalk-surface-below-ring    8124 non-null int64\n",
      "stalk-color-above-ring      8124 non-null int64\n",
      "stalk-color-below-ring      8124 non-null int64\n",
      "veil-type                   8124 non-null int64\n",
      "veil-color                  8124 non-null int64\n",
      "ring-number                 8124 non-null int64\n",
      "ring-type                   8124 non-null int64\n",
      "spore-print-color           8124 non-null int64\n",
      "population                  8124 non-null int64\n",
      "habitat                     8124 non-null int64\n",
      "dtypes: int64(23)\n",
      "memory usage: 1.4 MB\n",
      "None\n",
      "\n",
      "DataFrame Head:\n",
      "   class  cap-shape  cap-surface  cap-color  bruises  odor  gill-attachment  \\\n",
      "0      1          5            2          4        1     6                1   \n",
      "1      0          5            2          9        1     0                1   \n",
      "2      0          0            2          8        1     3                1   \n",
      "3      1          5            3          8        1     6                1   \n",
      "4      0          5            2          3        0     5                1   \n",
      "\n",
      "   gill-spacing  gill-size  gill-color  ...  stalk-surface-below-ring  \\\n",
      "0             0          1           4  ...                         2   \n",
      "1             0          0           4  ...                         2   \n",
      "2             0          0           5  ...                         2   \n",
      "3             0          1           5  ...                         2   \n",
      "4             1          0           4  ...                         2   \n",
      "\n",
      "   stalk-color-above-ring  stalk-color-below-ring  veil-type  veil-color  \\\n",
      "0                       7                       7          0           2   \n",
      "1                       7                       7          0           2   \n",
      "2                       7                       7          0           2   \n",
      "3                       7                       7          0           2   \n",
      "4                       7                       7          0           2   \n",
      "\n",
      "   ring-number  ring-type  spore-print-color  population  habitat  \n",
      "0            1          4                  2           3        5  \n",
      "1            1          4                  3           2        1  \n",
      "2            1          4                  3           2        3  \n",
      "3            1          4                  2           3        5  \n",
      "4            1          0                  3           0        1  \n",
      "\n",
      "[5 rows x 23 columns]\n",
      "\n",
      "Average Values by Class:\n",
      "       cap-shape  cap-surface  cap-color   bruises      odor  gill-attachment  \\\n",
      "class                                                                           \n",
      "0       3.266160     1.615970   4.581749  0.653992  4.334601         0.954373   \n",
      "1       3.436159     2.055158   4.421859  0.159346  3.940756         0.995403   \n",
      "\n",
      "       gill-spacing  gill-size  gill-color  stalk-shape  ...  \\\n",
      "class                                                    ...   \n",
      "0          0.285171   0.068441    6.622624     0.615970  ...   \n",
      "1          0.028601   0.567926    2.863636     0.514811  ...   \n",
      "\n",
      "       stalk-surface-below-ring  stalk-color-above-ring  \\\n",
      "class                                                     \n",
      "0                      1.798479                6.098859   \n",
      "1                      1.394280                5.512768   \n",
      "\n",
      "       stalk-color-below-ring  veil-type  veil-color  ring-number  ring-type  \\\n",
      "class                                                                          \n",
      "0                    6.064639        0.0    1.931559     1.125475   3.007605   \n",
      "1                    5.504597        0.0    2.002043     1.009193   1.522983   \n",
      "\n",
      "       spore-print-color  population   habitat  \n",
      "class                                           \n",
      "0               3.201521    3.283270  1.148289  \n",
      "1               4.021450    4.031665  1.895812  \n",
      "\n",
      "[2 rows x 22 columns]\n"
     ]
    }
   ],
   "source": [
    "import pandas as pd\n",
    "\n",
    "df = pd.read_csv('mushrooms_categorized.csv')\n",
    "\n",
    "print(\"DataFrame Info:\")\n",
    "print(df.info())\n",
    "print(\"\\nDataFrame Head:\")\n",
    "print(df.head())\n",
    "\n",
    "average_by_class = df.groupby('class').mean()\n",
    "\n",
    "print(\"\\nAverage Values by Class:\")\n",
    "print(average_by_class)\n",
    "\n",
    "average_by_class.to_json('average_values.json', orient='index')\n"
   ]
  },
  {
   "cell_type": "markdown",
   "metadata": {},
   "source": [
    "4\\. **Reading a database**\n",
    "\n",
    "Get the database `sakila.db` from the lecture `06_dataio.ipynb`, and import the table `actors` as a Pandas dataframe. Using the dataframe, count how many actors have a first name that begins with `A`.\n",
    "\n",
    "*Hint:* use the Series `.str` method to apply the Python string methods to the elements of a Series, see [documentation](https://pandas.pydata.org/docs/reference/api/pandas.Series.str.html)."
   ]
  },
  {
   "cell_type": "code",
   "execution_count": 6,
   "metadata": {},
   "outputs": [
    {
     "name": "stdout",
     "output_type": "stream",
     "text": [
      "--2023-11-30 17:20:55--  https://gist.github.com/Piyush3dB/726bf7012785d6e0fd691c3655c92654/raw/2c17ccb2eb33b3396bfa96284c53f0718a4ea62c/sakila.db\n",
      "Resolving gist.github.com (gist.github.com)... 140.82.121.3\n",
      "Connecting to gist.github.com (gist.github.com)|140.82.121.3|:443... connected.\n",
      "HTTP request sent, awaiting response... 301 Moved Permanently\n",
      "Location: https://gist.githubusercontent.com/Piyush3dB/726bf7012785d6e0fd691c3655c92654/raw/2c17ccb2eb33b3396bfa96284c53f0718a4ea62c/sakila.db [following]\n",
      "--2023-11-30 17:20:55--  https://gist.githubusercontent.com/Piyush3dB/726bf7012785d6e0fd691c3655c92654/raw/2c17ccb2eb33b3396bfa96284c53f0718a4ea62c/sakila.db\n",
      "Resolving gist.githubusercontent.com (gist.githubusercontent.com)... 185.199.108.133, 185.199.110.133, 185.199.111.133, ...\n",
      "Connecting to gist.githubusercontent.com (gist.githubusercontent.com)|185.199.108.133|:443... connected.\n",
      "HTTP request sent, awaiting response... 200 OK\n",
      "Length: 5828608 (5.6M) [application/octet-stream]\n",
      "Saving to: ‘./data/sakila.db.2’\n",
      "\n",
      "sakila.db.2         100%[===================>]   5.56M  36.8MB/s    in 0.2s    \n",
      "\n",
      "2023-11-30 17:20:56 (36.8 MB/s) - ‘./data/sakila.db.2’ saved [5828608/5828608]\n",
      "\n"
     ]
    }
   ],
   "source": [
    "!wget https://gist.github.com/Piyush3dB/726bf7012785d6e0fd691c3655c92654/raw/2c17ccb2eb33b3396bfa96284c53f0718a4ea62c/sakila.db -P ./data/"
   ]
  },
  {
   "cell_type": "code",
   "execution_count": 7,
   "metadata": {},
   "outputs": [
    {
     "name": "stdout",
     "output_type": "stream",
     "text": [
      "Number of actors with first name starting with 'A': 13\n"
     ]
    }
   ],
   "source": [
    "import pandas as pd\n",
    "import sqlite3 as sql\n",
    "\n",
    "conn = sql.connect('./data/sakila.db')\n",
    "cur = conn.cursor()\n",
    "\n",
    "query = \"SELECT * FROM actor\"\n",
    "results = cur.execute(query).fetchall()\n",
    "conn.close()\n",
    "count = 0\n",
    "for i in range(len(results)):\n",
    "    if results[i][1].startswith('A'):\n",
    "        count += 1\n",
    "print(f\"Number of actors with first name starting with 'A': {count}\")\n"
   ]
  },
  {
   "cell_type": "markdown",
   "metadata": {},
   "source": [
    "5\\. **Reading the credit card numbers**\n",
    "\n",
    "Get the binary file named `credit_card.dat` from this address:\n",
    "\n",
    "- https://www.dropbox.com/s/8m0syw2tkul3dap/credit_card.dat\n",
    "\n",
    "and convert the data into the real credit card number, knowing that:\n",
    "- each line corresponds to a credit card number, which consists of 16 characters (which are numbers in the 0-9 range) divided in 4 blocks, with a whitespace between each block\n",
    "- each character is written using a 6 bit binary representation (including the whitespace)\n",
    "- the final 4 bits of each line are a padding used to determine the end of the line, and can be ignored\n",
    "\n",
    "*Hint*: convert the binary numbers to the decimal representation first, and then use the `chr()` function to convert the latter to a char"
   ]
  },
  {
   "cell_type": "code",
   "execution_count": 8,
   "metadata": {},
   "outputs": [
    {
     "name": "stdout",
     "output_type": "stream",
     "text": [
      "--2023-11-30 17:20:56--  https://www.dropbox.com/s/8m0syw2tkul3dap/credit_card.dat\n",
      "Resolving www.dropbox.com (www.dropbox.com)... 162.125.69.18, 2620:100:6025:18::a27d:4512\n",
      "Connecting to www.dropbox.com (www.dropbox.com)|162.125.69.18|:443... connected.\n",
      "HTTP request sent, awaiting response... 302 Found\n",
      "Location: /s/raw/8m0syw2tkul3dap/credit_card.dat [following]\n",
      "--2023-11-30 17:20:56--  https://www.dropbox.com/s/raw/8m0syw2tkul3dap/credit_card.dat\n",
      "Reusing existing connection to www.dropbox.com:443.\n",
      "HTTP request sent, awaiting response... 302 Found\n",
      "Location: https://uc583a3f2c6000a48b9a169e4380.dl.dropboxusercontent.com/cd/0/inline/CIiFobMqv-FrBLW2kBS1j0EorwNCxpxBCqDZrhL2VD-rPWIyWRbOo6WLd8_ujWIqr04DoqCd0xWlkg8DPbPxcd7OT0S4BGoP_mL6ldT9MMPxqZfVclb7OT5VTmYb3eBd4Ig/file# [following]\n",
      "--2023-11-30 17:20:57--  https://uc583a3f2c6000a48b9a169e4380.dl.dropboxusercontent.com/cd/0/inline/CIiFobMqv-FrBLW2kBS1j0EorwNCxpxBCqDZrhL2VD-rPWIyWRbOo6WLd8_ujWIqr04DoqCd0xWlkg8DPbPxcd7OT0S4BGoP_mL6ldT9MMPxqZfVclb7OT5VTmYb3eBd4Ig/file\n",
      "Resolving uc583a3f2c6000a48b9a169e4380.dl.dropboxusercontent.com (uc583a3f2c6000a48b9a169e4380.dl.dropboxusercontent.com)... 162.125.69.15, 2620:100:6025:15::a27d:450f\n",
      "Connecting to uc583a3f2c6000a48b9a169e4380.dl.dropboxusercontent.com (uc583a3f2c6000a48b9a169e4380.dl.dropboxusercontent.com)|162.125.69.15|:443... connected.\n",
      "HTTP request sent, awaiting response... 302 Found\n",
      "Location: /cd/0/inline2/CIgGKf-6QoZVfOfLv9PLI5GQJ-V8Vc3VDw701gwVWDbB6HkYoN0w20BK2jrV2dV6t_3Ca8wJLCVoanvaDfRY_E0O5gD9IKTfLitAlv8YXJw58UdYMGPWtAer5VLDBQ49XNmnpKl9l1XwhTslaPqe_yPQfoD7h5wf2yrf41ocfaEO2RlXw-uIPmkho24trrEVhrfggqQfpgsuzq4FDNKjWbgXizaWWt7tMCmJM6j5R-0XdqYxV6bZ1Gu9EDkXfD11qnQuDjkZfRbT7EHHqeFseG2EE09OJxm2nTTrMJWjFZEsdDBSMbvAEKLRaRkY78jxGvpLGjtpeS042xKyLfvzmOpL7A3VUcrK-g2MLroaDVtWSQ/file [following]\n",
      "--2023-11-30 17:20:57--  https://uc583a3f2c6000a48b9a169e4380.dl.dropboxusercontent.com/cd/0/inline2/CIgGKf-6QoZVfOfLv9PLI5GQJ-V8Vc3VDw701gwVWDbB6HkYoN0w20BK2jrV2dV6t_3Ca8wJLCVoanvaDfRY_E0O5gD9IKTfLitAlv8YXJw58UdYMGPWtAer5VLDBQ49XNmnpKl9l1XwhTslaPqe_yPQfoD7h5wf2yrf41ocfaEO2RlXw-uIPmkho24trrEVhrfggqQfpgsuzq4FDNKjWbgXizaWWt7tMCmJM6j5R-0XdqYxV6bZ1Gu9EDkXfD11qnQuDjkZfRbT7EHHqeFseG2EE09OJxm2nTTrMJWjFZEsdDBSMbvAEKLRaRkY78jxGvpLGjtpeS042xKyLfvzmOpL7A3VUcrK-g2MLroaDVtWSQ/file\n",
      "Reusing existing connection to uc583a3f2c6000a48b9a169e4380.dl.dropboxusercontent.com:443.\n",
      "HTTP request sent, awaiting response... 200 OK\n",
      "Length: 5955 (5.8K) [application/x-ns-proxy-autoconfig]\n",
      "Saving to: ‘credit_card.dat.2’\n",
      "\n",
      "credit_card.dat.2   100%[===================>]   5.82K  --.-KB/s    in 0s      \n",
      "\n",
      "2023-11-30 17:20:58 (179 MB/s) - ‘credit_card.dat.2’ saved [5955/5955]\n",
      "\n"
     ]
    }
   ],
   "source": [
    "!wget https://www.dropbox.com/s/8m0syw2tkul3dap/credit_card.dat"
   ]
  },
  {
   "cell_type": "code",
   "execution_count": 9,
   "metadata": {},
   "outputs": [
    {
     "data": {
      "text/plain": [
       "1     7648567337752271\n",
       "2     3257824733542266\n",
       "3     2722000140116652\n",
       "4     0661306337423150\n",
       "5     0432160814624742\n",
       "6     5827202787857303\n",
       "7     5774852820871117\n",
       "8     8140121063522845\n",
       "9     5764113373017100\n",
       "10    6456173741266726\n",
       "11    1228863173820000\n",
       "12    7051016053743166\n",
       "13    0618358716306376\n",
       "14    1545545474445636\n",
       "15    6735311632026834\n",
       "16    7287501115478413\n",
       "17    7033260733284200\n",
       "18    2568524418745024\n",
       "19    1684225375707118\n",
       "20    0672257605756631\n",
       "21    6332835387871340\n",
       "22    1813336111754211\n",
       "23    2477645088402368\n",
       "24    5512350525631326\n",
       "25    3083788206210025\n",
       "26    4521514880450334\n",
       "27    7563365487135787\n",
       "28    8324266404765561\n",
       "29    0565250471683510\n",
       "30    5107550717670738\n",
       "31    2462182124481443\n",
       "32    2788063868616554\n",
       "33    5851587354740547\n",
       "34    0670100440132655\n",
       "35    5874550630480806\n",
       "36    2805540184621260\n",
       "37    5083840663101862\n",
       "38    1076144530132266\n",
       "39    8440480448445277\n",
       "40    4758614106861387\n",
       "41    7586067503152568\n",
       "42    2544125874325165\n",
       "43    3474502344345626\n",
       "44    1410027004345086\n",
       "45    7315444611044215\n",
       "46    0224774283000266\n",
       "47    0170270031450640\n",
       "48    2006243780541600\n",
       "49    8142405517760026\n",
       "50    3026738012411084\n",
       "51                    \n",
       "dtype: object"
      ]
     },
     "execution_count": 9,
     "metadata": {},
     "output_type": "execute_result"
    }
   ],
   "source": [
    "file_name = 'credit_card.dat'\n",
    "l = list()\n",
    "with open(file_name, mode = 'r') as f:\n",
    "    for line in f:\n",
    "        n=list()\n",
    "        for i in range(len(line)):\n",
    "            if(i%6==0 and i!=0):{\n",
    "                n.append(int(\"0b\" + line[i-6:i], 2))\n",
    "            }\n",
    "        l.append(n)\n",
    "\n",
    "i=1\n",
    "dict_cc={}\n",
    "for cc in l:\n",
    "    dict_cc[i]=''\n",
    "    st=''\n",
    "    for v in cc:\n",
    "        if(chr(v)!= ' '):            #remove the whitespace\n",
    "            st = dict_cc[i] + chr(v)\n",
    "        dict_cc[i] = st\n",
    "    i=i+1\n",
    "\n",
    "df_cc=pd.Series(dict_cc) #convert to a dataframe\n",
    "df_cc   #this dataframe now contains all the credit cards numbers"
   ]
  },
  {
   "cell_type": "markdown",
   "metadata": {},
   "source": [
    "6\\. **Write data to a binary file**\n",
    "\n",
    "a) Start from the `data/data_000637.txt` file that we have used during the previous lectures, and convert it to a binary file according to the format defined below:"
   ]
  },
  {
   "cell_type": "markdown",
   "metadata": {},
   "source": [
    "*Hints*:\n",
    "- Read the first 10 lines using Pandas\n",
    "- Iterate over the DataFrame rows\n",
    "- For every row, \"pack\" the values (features) into a single 64-bit word, according to the format specified above. Use bit-wise shifts and operators to do so.\n",
    "- Write each 64-bit word to a binary file. You can use `struct` in this way:\n",
    "```\n",
    "binary_file.write( struct.pack('<q', word) )\n",
    "```\n",
    "where `word` is the 64-bit word.\n",
    "- Close the file after completing the loop.\n",
    "\n",
    "b) Check that the binary file is correctly written by reading it with the code used in the lecture `06_dataio.ipynb`, and verify that the content of the `txt` and binary files is consistent.\n",
    "\n",
    "c) What is the difference of the size on disk between equivalent `txt` and binary files?"
   ]
  },
  {
   "cell_type": "code",
   "execution_count": 10,
   "metadata": {},
   "outputs": [
    {
     "name": "stdout",
     "output_type": "stream",
     "text": [
      "--2023-11-30 17:20:58--  https://www.dropbox.com/s/9nu2i111if55135/data_000637.dat\n",
      "Resolving www.dropbox.com (www.dropbox.com)... 162.125.69.18, 2620:100:6025:18::a27d:4512\n",
      "Connecting to www.dropbox.com (www.dropbox.com)|162.125.69.18|:443... connected.\n",
      "HTTP request sent, awaiting response... 302 Found\n",
      "Location: /s/raw/9nu2i111if55135/data_000637.dat [following]\n",
      "--2023-11-30 17:20:58--  https://www.dropbox.com/s/raw/9nu2i111if55135/data_000637.dat\n",
      "Reusing existing connection to www.dropbox.com:443.\n",
      "HTTP request sent, awaiting response... 302 Found\n",
      "Location: https://uce3f6f7916448c28ed33c6c433b.dl.dropboxusercontent.com/cd/0/inline/CIhciJwXsPyTjg4lSmzAuEJIobxoOkkp8QOG9uJVAUyeI5J37RR3nlY6luDA3CCKCgaiQsuxR28CI_Zife_y_QV0wU44Pe-kZxSzQW46rI4Wu3lNIHmONnpp95IQxP7tNtU/file# [following]\n",
      "--2023-11-30 17:20:58--  https://uce3f6f7916448c28ed33c6c433b.dl.dropboxusercontent.com/cd/0/inline/CIhciJwXsPyTjg4lSmzAuEJIobxoOkkp8QOG9uJVAUyeI5J37RR3nlY6luDA3CCKCgaiQsuxR28CI_Zife_y_QV0wU44Pe-kZxSzQW46rI4Wu3lNIHmONnpp95IQxP7tNtU/file\n",
      "Resolving uce3f6f7916448c28ed33c6c433b.dl.dropboxusercontent.com (uce3f6f7916448c28ed33c6c433b.dl.dropboxusercontent.com)... 162.125.69.15, 2620:100:6025:15::a27d:450f\n",
      "Connecting to uce3f6f7916448c28ed33c6c433b.dl.dropboxusercontent.com (uce3f6f7916448c28ed33c6c433b.dl.dropboxusercontent.com)|162.125.69.15|:443... connected.\n",
      "HTTP request sent, awaiting response... 302 Found\n",
      "Location: /cd/0/inline2/CIgbeWl6pbyzrf8x9-o_9_z_B7rOU49VbYm5Vch5OJG0WRtcUla2MbpgdegKwzxeSxmtwbSwnAho_x7YWl_yhq2m-KqAy0GfiEbYYyXB50x4OLQfjofGKa970KhmljccUc99Qbr9mDRjkgwcg_eqNvFjrngfcvSqqJCLumXNLM05DWOLe2tlfWaPEx_queRhW_NwpPAlLPugQIyi4PrXHWF24svPO--_DzQ5kCoeo4ygZDt2Lke-0yePUqKWxcMYjcgXbP8C6AkRGxAVqV4KGGL4LU7DPRwGY0Zbx0O6dWFsSzVFB8looS0i9wANgOX5oiuWRZRN1LcELxDSf4uQIAsjOHLympDbUeXReJII2T1q8Q/file [following]\n",
      "--2023-11-30 17:20:59--  https://uce3f6f7916448c28ed33c6c433b.dl.dropboxusercontent.com/cd/0/inline2/CIgbeWl6pbyzrf8x9-o_9_z_B7rOU49VbYm5Vch5OJG0WRtcUla2MbpgdegKwzxeSxmtwbSwnAho_x7YWl_yhq2m-KqAy0GfiEbYYyXB50x4OLQfjofGKa970KhmljccUc99Qbr9mDRjkgwcg_eqNvFjrngfcvSqqJCLumXNLM05DWOLe2tlfWaPEx_queRhW_NwpPAlLPugQIyi4PrXHWF24svPO--_DzQ5kCoeo4ygZDt2Lke-0yePUqKWxcMYjcgXbP8C6AkRGxAVqV4KGGL4LU7DPRwGY0Zbx0O6dWFsSzVFB8looS0i9wANgOX5oiuWRZRN1LcELxDSf4uQIAsjOHLympDbUeXReJII2T1q8Q/file\n",
      "Reusing existing connection to uce3f6f7916448c28ed33c6c433b.dl.dropboxusercontent.com:443.\n",
      "HTTP request sent, awaiting response... 200 OK\n",
      "Length: 10485760 (10M) [application/x-ns-proxy-autoconfig]\n",
      "Saving to: ‘./data/data_000637.dat.1’\n",
      "\n",
      "data_000637.dat.1   100%[===================>]  10.00M  18.2MB/s    in 0.6s    \n",
      "\n",
      "2023-11-30 17:21:00 (18.2 MB/s) - ‘./data/data_000637.dat.1’ saved [10485760/10485760]\n",
      "\n"
     ]
    }
   ],
   "source": [
    "!wget https://www.dropbox.com/s/9nu2i111if55135/data_000637.dat -P ./data/"
   ]
  },
  {
   "cell_type": "code",
   "execution_count": 11,
   "metadata": {},
   "outputs": [
    {
     "name": "stdout",
     "output_type": "stream",
     "text": [
      "  HEAD FPGA CHANNEL   ORBIT_CNT BX_CNT TDC_MEAS\n",
      "0    1    0     123  3869200167   2374       26\n",
      "1    1    0     124  3869200167   2374       27\n",
      "2    1    0      63  3869200167   2553       28\n",
      "3    1    0      64  3869200167   2558       19\n",
      "4    1    0      64  3869200167   2760       25\n",
      "5    1    0      63  3869200167   2762        4\n",
      "6    1    0      61  3869200167   2772       14\n",
      "7    1    0     139  3869200167   2776        0\n",
      "8    1    0      62  3869200167   2774       21\n",
      "9    1    0      60  3869200167   2788        7\n",
      "   HEAD  FPGA  TDC_CHANNEL   ORBIT_CNT  BX_COUNTER  TDC_MEAS\n",
      "0     1     0          123  3869200167        2374        26\n",
      "1     1     0          124  3869200167        2374        27\n",
      "2     1     0           63  3869200167        2553        28\n",
      "3     1     0           64  3869200167        2558        19\n",
      "4     1     0           64  3869200167        2760        25\n",
      "5     1     0           63  3869200167        2762         4\n",
      "6     1     0           61  3869200167        2772        14\n",
      "7     1     0          139  3869200167        2776         0\n",
      "8     1     0           62  3869200167        2774        21\n",
      "9     1     0           60  3869200167        2788         7\n"
     ]
    }
   ],
   "source": [
    "import struct\n",
    "n = 10\n",
    "file_name = './data/data_000637.txt'\n",
    "df_c = pd.read_csv(file_name, nrows = n)\n",
    "with open('data_000637_to_binary.dat', 'wb') as binary_file:    \n",
    "    for index, row in df_c.iterrows():\n",
    "        #print(row)\n",
    "        word = 0\n",
    "        word = (row['HEAD'] << 62) | word\n",
    "        word = (row['FPGA'] << 58) | word\n",
    "        word = (row['TDC_CHANNEL'] << 49) | word\n",
    "        word = (row['ORBIT_CNT'] << 17) | word\n",
    "        word = (row['BX_COUNTER'] << 5 ) | word\n",
    "        word = (row['TDC_MEAS'] << 0 ) | word\n",
    "        #print('0b{0:064b}'.format(word))\n",
    "        #print('0x{0:016x}'.format(word))\n",
    "        #print()\n",
    "\n",
    "        binary_file.write(struct.pack('<q', word))\n",
    "        \n",
    "data = {}\n",
    "columns = ['HEAD', 'FPGA', 'CHANNEL', 'ORBIT_CNT', 'BX_CNT', 'TDC_MEAS']\n",
    "df = pd.DataFrame({}, columns=columns)\n",
    "\n",
    "#reading the file again using the code from the lecture:\n",
    "\n",
    "with open('data_000637_to_binary.dat', 'rb') as file:\n",
    "    file_content = file.read()\n",
    "    word_counter = 0\n",
    "    word_size = 8 # size of the word in bytes\n",
    "    for i in range(0, len(file_content), word_size):\n",
    "        word_counter += 1\n",
    "        if word_counter > 10: break\n",
    "        word = struct.unpack('<q', file_content[i : i + word_size])[0] # get an 8-byte word\n",
    "        head     = (word >> 62) & 0x3\n",
    "        fpga     = (word >> 58) & 0xF\n",
    "        tdc_chan = (word >> 49) & 0x1FF\n",
    "        orb_cnt  = (word >> 17) & 0xFFFFFFFF\n",
    "        bx       = (word >> 5 ) & 0xFFF\n",
    "        tdc_meas = (word >> 0 ) & 0x1F\n",
    "        #if i == 0: print ('{0}\\t{1}\\t{2}\\t{3}\\t{4}\\t{5}'.format('HEAD', 'FPGA', 'CHANNEL', 'ORBIT_CNT', 'BX_CNT', 'TDC_MEAS'))\n",
    "        #print('{0}\\t{1}\\t{2}\\t{3}\\t{4}\\t{5}'.format(head, fpga, tdc_chan, orb_cnt, bx, tdc_meas))\n",
    "        entry = {'HEAD' : head, 'FPGA' : fpga, 'CHANNEL' : tdc_chan, 'ORBIT_CNT' : orb_cnt, 'BX_CNT' : bx, 'TDC_MEAS' : tdc_meas}\n",
    "        df = df.append(entry, ignore_index=True)\n",
    "        \n",
    "print(df)\n",
    "print(df_c)\n",
    "\n"
   ]
  },
  {
   "cell_type": "code",
   "execution_count": null,
   "metadata": {},
   "outputs": [],
   "source": []
  }
 ],
 "metadata": {
  "kernelspec": {
   "display_name": "Python 3",
   "language": "python",
   "name": "python3"
  },
  "language_info": {
   "codemirror_mode": {
    "name": "ipython",
    "version": 3
   },
   "file_extension": ".py",
   "mimetype": "text/x-python",
   "name": "python",
   "nbconvert_exporter": "python",
   "pygments_lexer": "ipython3",
   "version": "3.6.8"
  }
 },
 "nbformat": 4,
 "nbformat_minor": 2
}
