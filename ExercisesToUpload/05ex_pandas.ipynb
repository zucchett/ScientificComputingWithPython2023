{
 "cells": [
  {
   "cell_type": "markdown",
   "metadata": {},
   "source": [
    "1\\. **Pandas DataFrame**\n",
    "\n",
    "This exercise consists in analyzing a dataset containg timing information from a series of Time-to-Digital-Converters (TDC) implemented in a pair of FPGAs. Each measurement (i.e. each row of the input file) consists of a flag that specifies the type of message ('HEAD', which in this case is always 1), two addresses of the TDC providing the signal ('FPGA' and 'TDC_CHANNEL'), and the timing information ('ORBIT_CNT', 'BX_COUNTER', and 'TDC_MEAS'). Each TDC count corresponds to 25/30 ns, whereas a unit of BX_COUNTER corresponds to 25 ns, and the ORBIT_CNT is increased every `x` BX_COUNTER. This allows to store the time in a similar way to hours, minutes and seconds."
   ]
  },
  {
   "cell_type": "code",
   "execution_count": 1,
   "metadata": {},
   "outputs": [],
   "source": [
    "import pandas as pd # standard naming convention\n",
    "from datetime import datetime"
   ]
  },
  {
   "cell_type": "markdown",
   "metadata": {},
   "source": [
    "1\\. Create a Pandas DataFrame reading N rows of the `data/data_000637.txt` dataset. Choose N to be smaller than or equal to the maximum number of rows and larger that 10k (check the documentation)."
   ]
  },
  {
   "cell_type": "code",
   "execution_count": 2,
   "metadata": {},
   "outputs": [
    {
     "data": {
      "text/html": [
       "<div>\n",
       "<style scoped>\n",
       "    .dataframe tbody tr th:only-of-type {\n",
       "        vertical-align: middle;\n",
       "    }\n",
       "\n",
       "    .dataframe tbody tr th {\n",
       "        vertical-align: top;\n",
       "    }\n",
       "\n",
       "    .dataframe thead th {\n",
       "        text-align: right;\n",
       "    }\n",
       "</style>\n",
       "<table border=\"1\" class=\"dataframe\">\n",
       "  <thead>\n",
       "    <tr style=\"text-align: right;\">\n",
       "      <th></th>\n",
       "      <th>HEAD</th>\n",
       "      <th>FPGA</th>\n",
       "      <th>TDC_CHANNEL</th>\n",
       "      <th>ORBIT_CNT</th>\n",
       "      <th>BX_COUNTER</th>\n",
       "      <th>TDC_MEAS</th>\n",
       "    </tr>\n",
       "  </thead>\n",
       "  <tbody>\n",
       "    <tr>\n",
       "      <th>0</th>\n",
       "      <td>1</td>\n",
       "      <td>0</td>\n",
       "      <td>123</td>\n",
       "      <td>3869200167</td>\n",
       "      <td>2374</td>\n",
       "      <td>26</td>\n",
       "    </tr>\n",
       "    <tr>\n",
       "      <th>1</th>\n",
       "      <td>1</td>\n",
       "      <td>0</td>\n",
       "      <td>124</td>\n",
       "      <td>3869200167</td>\n",
       "      <td>2374</td>\n",
       "      <td>27</td>\n",
       "    </tr>\n",
       "    <tr>\n",
       "      <th>2</th>\n",
       "      <td>1</td>\n",
       "      <td>0</td>\n",
       "      <td>63</td>\n",
       "      <td>3869200167</td>\n",
       "      <td>2553</td>\n",
       "      <td>28</td>\n",
       "    </tr>\n",
       "    <tr>\n",
       "      <th>3</th>\n",
       "      <td>1</td>\n",
       "      <td>0</td>\n",
       "      <td>64</td>\n",
       "      <td>3869200167</td>\n",
       "      <td>2558</td>\n",
       "      <td>19</td>\n",
       "    </tr>\n",
       "    <tr>\n",
       "      <th>4</th>\n",
       "      <td>1</td>\n",
       "      <td>0</td>\n",
       "      <td>64</td>\n",
       "      <td>3869200167</td>\n",
       "      <td>2760</td>\n",
       "      <td>25</td>\n",
       "    </tr>\n",
       "    <tr>\n",
       "      <th>...</th>\n",
       "      <td>...</td>\n",
       "      <td>...</td>\n",
       "      <td>...</td>\n",
       "      <td>...</td>\n",
       "      <td>...</td>\n",
       "      <td>...</td>\n",
       "    </tr>\n",
       "    <tr>\n",
       "      <th>9995</th>\n",
       "      <td>1</td>\n",
       "      <td>0</td>\n",
       "      <td>61</td>\n",
       "      <td>3869200267</td>\n",
       "      <td>696</td>\n",
       "      <td>11</td>\n",
       "    </tr>\n",
       "    <tr>\n",
       "      <th>9996</th>\n",
       "      <td>1</td>\n",
       "      <td>0</td>\n",
       "      <td>60</td>\n",
       "      <td>3869200267</td>\n",
       "      <td>701</td>\n",
       "      <td>5</td>\n",
       "    </tr>\n",
       "    <tr>\n",
       "      <th>9997</th>\n",
       "      <td>1</td>\n",
       "      <td>0</td>\n",
       "      <td>59</td>\n",
       "      <td>3869200267</td>\n",
       "      <td>707</td>\n",
       "      <td>23</td>\n",
       "    </tr>\n",
       "    <tr>\n",
       "      <th>9998</th>\n",
       "      <td>1</td>\n",
       "      <td>0</td>\n",
       "      <td>63</td>\n",
       "      <td>3869200267</td>\n",
       "      <td>706</td>\n",
       "      <td>15</td>\n",
       "    </tr>\n",
       "    <tr>\n",
       "      <th>9999</th>\n",
       "      <td>1</td>\n",
       "      <td>0</td>\n",
       "      <td>49</td>\n",
       "      <td>3869200267</td>\n",
       "      <td>777</td>\n",
       "      <td>13</td>\n",
       "    </tr>\n",
       "  </tbody>\n",
       "</table>\n",
       "<p>10000 rows × 6 columns</p>\n",
       "</div>"
      ],
      "text/plain": [
       "      HEAD  FPGA  TDC_CHANNEL   ORBIT_CNT  BX_COUNTER  TDC_MEAS\n",
       "0        1     0          123  3869200167        2374        26\n",
       "1        1     0          124  3869200167        2374        27\n",
       "2        1     0           63  3869200167        2553        28\n",
       "3        1     0           64  3869200167        2558        19\n",
       "4        1     0           64  3869200167        2760        25\n",
       "...    ...   ...          ...         ...         ...       ...\n",
       "9995     1     0           61  3869200267         696        11\n",
       "9996     1     0           60  3869200267         701         5\n",
       "9997     1     0           59  3869200267         707        23\n",
       "9998     1     0           63  3869200267         706        15\n",
       "9999     1     0           49  3869200267         777        13\n",
       "\n",
       "[10000 rows x 6 columns]"
      ]
     },
     "execution_count": 2,
     "metadata": {},
     "output_type": "execute_result"
    }
   ],
   "source": [
    "import pandas as pd\n",
    "\n",
    "# specify the file path\n",
    "file_name = \"..\\data\\data_000637.txt\"\n",
    "\n",
    "# specify the number of rows to read\n",
    "N = 10000\n",
    "\n",
    "# read the csv file into a pandas DataFrame\n",
    "data = pd.read_csv(file_name, nrows=N)\n",
    "\n",
    "# display the updated DataFrame\n",
    "data"
   ]
  },
  {
   "cell_type": "markdown",
   "metadata": {},
   "source": [
    "2\\. Estimate the number of BX in a ORBIT (the value `x`).\n",
    "\n",
    "*Hint*: check when the BX counter reaches the maximum value before being reset to 0."
   ]
  },
  {
   "cell_type": "code",
   "execution_count": 3,
   "metadata": {},
   "outputs": [
    {
     "name": "stdout",
     "output_type": "stream",
     "text": [
      "The number of BX in a ORBIT is: 3563\n"
     ]
    }
   ],
   "source": [
    "def find_number_in_col(column_name):\n",
    "    # Find the maximum value of the BX counter before it resets\n",
    "    return data[column_name].max()\n",
    "\n",
    "print(f\"The number of BX in a ORBIT is: {find_number_in_col('BX_COUNTER')}\")"
   ]
  },
  {
   "cell_type": "markdown",
   "metadata": {},
   "source": [
    "3\\. Create a new column with the absolute time in ns (as a combination of the other three columns with timing information) since the beginning of the data acquisition, and convert the new column to a Time Series.\n",
    "\n",
    "*Hint:* introduce an offset to the absolute time such that the start of the data acquisition (i.e. the first entry) is zero."
   ]
  },
  {
   "cell_type": "code",
   "execution_count": 4,
   "metadata": {},
   "outputs": [],
   "source": [
    "def orbit_to_ns_converter(x):\n",
    "    # Extract offset information for hours, minutes, and seconds\n",
    "    offset_hours = data.loc[x, ['ORBIT_CNT']].iloc[0]\n",
    "    offset_minutes = data.loc[x, ['BX_COUNTER']].iloc[0] * 25\n",
    "    offset_seconds = data.loc[x, ['TDC_MEAS']] * 25/30\n",
    "\n",
    "    # Calculate the number of seconds in a minute and minutes in an hour\n",
    "    sec_in_min = find_number_in_col('TDC_MEAS') * 30\n",
    "    min_in_h = find_number_in_col('BX_COUNTER') * 25\n",
    "\n",
    "    # Calculate the total amount of nanoseconds\n",
    "    amount_of_ns = offset_seconds.iloc[0] + sec_in_min * offset_minutes + sec_in_min * min_in_h * offset_hours\n",
    "\n",
    "    return amount_of_ns"
   ]
  },
  {
   "cell_type": "code",
   "execution_count": 5,
   "metadata": {},
   "outputs": [
    {
     "data": {
      "text/html": [
       "<div>\n",
       "<style scoped>\n",
       "    .dataframe tbody tr th:only-of-type {\n",
       "        vertical-align: middle;\n",
       "    }\n",
       "\n",
       "    .dataframe tbody tr th {\n",
       "        vertical-align: top;\n",
       "    }\n",
       "\n",
       "    .dataframe thead th {\n",
       "        text-align: right;\n",
       "    }\n",
       "</style>\n",
       "<table border=\"1\" class=\"dataframe\">\n",
       "  <thead>\n",
       "    <tr style=\"text-align: right;\">\n",
       "      <th></th>\n",
       "      <th>HEAD</th>\n",
       "      <th>FPGA</th>\n",
       "      <th>TDC_CHANNEL</th>\n",
       "      <th>ORBIT_CNT</th>\n",
       "      <th>BX_COUNTER</th>\n",
       "      <th>TDC_MEAS</th>\n",
       "      <th>ABS_TIME</th>\n",
       "    </tr>\n",
       "  </thead>\n",
       "  <tbody>\n",
       "    <tr>\n",
       "      <th>0</th>\n",
       "      <td>1</td>\n",
       "      <td>0</td>\n",
       "      <td>123</td>\n",
       "      <td>3869200167</td>\n",
       "      <td>2374</td>\n",
       "      <td>26</td>\n",
       "      <td>0</td>\n",
       "    </tr>\n",
       "    <tr>\n",
       "      <th>1</th>\n",
       "      <td>1</td>\n",
       "      <td>0</td>\n",
       "      <td>124</td>\n",
       "      <td>3869200167</td>\n",
       "      <td>2374</td>\n",
       "      <td>27</td>\n",
       "      <td>0</td>\n",
       "    </tr>\n",
       "    <tr>\n",
       "      <th>2</th>\n",
       "      <td>1</td>\n",
       "      <td>0</td>\n",
       "      <td>63</td>\n",
       "      <td>3869200167</td>\n",
       "      <td>2553</td>\n",
       "      <td>28</td>\n",
       "      <td>3893248</td>\n",
       "    </tr>\n",
       "    <tr>\n",
       "      <th>3</th>\n",
       "      <td>1</td>\n",
       "      <td>0</td>\n",
       "      <td>64</td>\n",
       "      <td>3869200167</td>\n",
       "      <td>2558</td>\n",
       "      <td>19</td>\n",
       "      <td>4002048</td>\n",
       "    </tr>\n",
       "    <tr>\n",
       "      <th>4</th>\n",
       "      <td>1</td>\n",
       "      <td>0</td>\n",
       "      <td>64</td>\n",
       "      <td>3869200167</td>\n",
       "      <td>2760</td>\n",
       "      <td>25</td>\n",
       "      <td>8395520</td>\n",
       "    </tr>\n",
       "    <tr>\n",
       "      <th>...</th>\n",
       "      <td>...</td>\n",
       "      <td>...</td>\n",
       "      <td>...</td>\n",
       "      <td>...</td>\n",
       "      <td>...</td>\n",
       "      <td>...</td>\n",
       "      <td>...</td>\n",
       "    </tr>\n",
       "    <tr>\n",
       "      <th>9995</th>\n",
       "      <td>1</td>\n",
       "      <td>0</td>\n",
       "      <td>61</td>\n",
       "      <td>3869200267</td>\n",
       "      <td>696</td>\n",
       "      <td>11</td>\n",
       "      <td>7713028480</td>\n",
       "    </tr>\n",
       "    <tr>\n",
       "      <th>9996</th>\n",
       "      <td>1</td>\n",
       "      <td>0</td>\n",
       "      <td>60</td>\n",
       "      <td>3869200267</td>\n",
       "      <td>701</td>\n",
       "      <td>5</td>\n",
       "      <td>7713137280</td>\n",
       "    </tr>\n",
       "    <tr>\n",
       "      <th>9997</th>\n",
       "      <td>1</td>\n",
       "      <td>0</td>\n",
       "      <td>59</td>\n",
       "      <td>3869200267</td>\n",
       "      <td>707</td>\n",
       "      <td>23</td>\n",
       "      <td>7713267776</td>\n",
       "    </tr>\n",
       "    <tr>\n",
       "      <th>9998</th>\n",
       "      <td>1</td>\n",
       "      <td>0</td>\n",
       "      <td>63</td>\n",
       "      <td>3869200267</td>\n",
       "      <td>706</td>\n",
       "      <td>15</td>\n",
       "      <td>7713246016</td>\n",
       "    </tr>\n",
       "    <tr>\n",
       "      <th>9999</th>\n",
       "      <td>1</td>\n",
       "      <td>0</td>\n",
       "      <td>49</td>\n",
       "      <td>3869200267</td>\n",
       "      <td>777</td>\n",
       "      <td>13</td>\n",
       "      <td>7714790272</td>\n",
       "    </tr>\n",
       "  </tbody>\n",
       "</table>\n",
       "<p>10000 rows × 7 columns</p>\n",
       "</div>"
      ],
      "text/plain": [
       "      HEAD  FPGA  TDC_CHANNEL   ORBIT_CNT  BX_COUNTER  TDC_MEAS    ABS_TIME\n",
       "0        1     0          123  3869200167        2374        26           0\n",
       "1        1     0          124  3869200167        2374        27           0\n",
       "2        1     0           63  3869200167        2553        28     3893248\n",
       "3        1     0           64  3869200167        2558        19     4002048\n",
       "4        1     0           64  3869200167        2760        25     8395520\n",
       "...    ...   ...          ...         ...         ...       ...         ...\n",
       "9995     1     0           61  3869200267         696        11  7713028480\n",
       "9996     1     0           60  3869200267         701         5  7713137280\n",
       "9997     1     0           59  3869200267         707        23  7713267776\n",
       "9998     1     0           63  3869200267         706        15  7713246016\n",
       "9999     1     0           49  3869200267         777        13  7714790272\n",
       "\n",
       "[10000 rows x 7 columns]"
      ]
     },
     "execution_count": 5,
     "metadata": {},
     "output_type": "execute_result"
    }
   ],
   "source": [
    "# Save the result of orbit_to_ns_converter for the first entry in a variable\n",
    "starting_offset = orbit_to_ns_converter(0)\n",
    "\n",
    "# Create a new DataFrame with an additional column 'ABS_TIME' initialized to 0\n",
    "new_data = data.assign(ABS_TIME=0)\n",
    "\n",
    "# Loop through the range of N (assuming N is defined somewhere in your code)\n",
    "for x in range(N):\n",
    "    # Calculate the absolute time in nanoseconds by subtracting the starting offset\n",
    "    # This uses the orbit_to_ns_converter function for each entry in the loop\n",
    "    new_data.loc[x, 'ABS_TIME'] = orbit_to_ns_converter(x) - starting_offset\n",
    "\n",
    "# Display the updated DataFrame with the new 'ABS_TIME' column\n",
    "new_data\n"
   ]
  },
  {
   "cell_type": "markdown",
   "metadata": {},
   "source": [
    "4\\. Find out the duration of the data taking in hours, minutes and seconds, by using the features of the Time Series. Perform this check reading the whole dataset."
   ]
  },
  {
   "cell_type": "code",
   "execution_count": 6,
   "metadata": {},
   "outputs": [],
   "source": [
    "def ns_to_hms(ns):\n",
    "  # Convert nanoseconds to hours, minutes, and seconds\n",
    "\n",
    "  # Calculate the number of hours\n",
    "  hours = ns // (3600 * 1e9)\n",
    "  \n",
    "  # Update ns by subtracting the calculated hours in nanoseconds\n",
    "  ns -= hours * 3600 * 1e9\n",
    "  \n",
    "  # Calculate the number of minutes\n",
    "  minutes = ns // (60 * 1e9)\n",
    "  \n",
    "  # Update ns by subtracting the calculated minutes in nanoseconds\n",
    "  ns -= minutes * 60 * 1e9\n",
    "  \n",
    "  # Calculate the number of seconds\n",
    "  seconds = ns // 1e9\n",
    "  \n",
    "  # Return the result as a tuple (hours, minutes, seconds)\n",
    "  return hours, minutes, seconds"
   ]
  },
  {
   "cell_type": "code",
   "execution_count": 7,
   "metadata": {},
   "outputs": [
    {
     "name": "stdout",
     "output_type": "stream",
     "text": [
      "Duration: 0.0 hours, 0.0 minutes, 7.0 seconds\n"
     ]
    }
   ],
   "source": [
    "# Calculate the duration by finding the difference between the maximum and minimum values of 'ABS_TIME'\n",
    "duration = new_data['ABS_TIME'].max() - new_data['ABS_TIME'].min()\n",
    "\n",
    "# Convert the duration from nanoseconds to hours, minutes, and seconds using the ns_to_hms function\n",
    "hours, minutes, seconds = ns_to_hms(duration)\n",
    "\n",
    "# Display the calculated duration in a human-readable format\n",
    "print(f\"Duration: {hours} hours, {minutes} minutes, {seconds} seconds\")\n"
   ]
  },
  {
   "cell_type": "markdown",
   "metadata": {},
   "source": [
    "5\\. Use the `.groupby()` method to find out the noisy channels, i.e. the TDC channels with most counts (print to screen the top 3 and the corresponding counts)"
   ]
  },
  {
   "cell_type": "code",
   "execution_count": 8,
   "metadata": {},
   "outputs": [
    {
     "name": "stdout",
     "output_type": "stream",
     "text": [
      "Top 3 Noisy Channels:\n",
      "             TDC_COUNTS\n",
      "TDC_CHANNEL            \n",
      "139                 860\n",
      "128                  11\n",
      "127                  10\n"
     ]
    }
   ],
   "source": [
    "# Group the 'new_data' DataFrame by 'TDC_CHANNEL' and sum the occurrences\n",
    "grouped_data = new_data.groupby(\"TDC_CHANNEL\").sum().sort_values(by='TDC_CHANNEL', ascending=False)\n",
    "\n",
    "# Rename the 'HEAD' column to 'TDC_COUNTS' for clarity\n",
    "grouped_data.rename(columns={\"HEAD\": \"TDC_COUNTS\"}, inplace=True)\n",
    "\n",
    "# Select only the 'TDC_COUNTS' column for further analysis\n",
    "grouped_data = grouped_data.loc[:, [\"TDC_COUNTS\"]]\n",
    "\n",
    "# Print the top 3 noisy channels and their counts\n",
    "top_noisy_channels = grouped_data.head(3)\n",
    "\n",
    "# Display the top 3 noisy channels and their counts\n",
    "print(\"Top 3 Noisy Channels:\")\n",
    "print(top_noisy_channels)\n"
   ]
  },
  {
   "cell_type": "markdown",
   "metadata": {},
   "source": [
    "6\\. Count the number of non-empty orbits (i.e. the number of orbits with at least one hit)."
   ]
  },
  {
   "cell_type": "code",
   "execution_count": 9,
   "metadata": {},
   "outputs": [
    {
     "name": "stdout",
     "output_type": "stream",
     "text": [
      "Number of Non-Empty Orbits: 101\n"
     ]
    }
   ],
   "source": [
    "# Filter out the rows with at least one hit\n",
    "non_empty_orbits = data[data['ORBIT_CNT'] > 0]\n",
    "\n",
    "# Count the number of unique orbits in the filtered dataset\n",
    "num_non_empty_orbits = non_empty_orbits['ORBIT_CNT'].nunique()\n",
    "\n",
    "print(\"Number of Non-Empty Orbits:\", num_non_empty_orbits)"
   ]
  },
  {
   "cell_type": "markdown",
   "metadata": {},
   "source": [
    "7\\. Count the number of unique orbits with at least one measurement from TDC_CHANNEL=139."
   ]
  },
  {
   "cell_type": "code",
   "execution_count": 10,
   "metadata": {},
   "outputs": [],
   "source": [
    "def TdcCounter(x): \n",
    "    # Filter rows where TDC_CHANNEL is 139\n",
    "    filtered_data = data[data['TDC_CHANNEL'] == x]\n",
    "\n",
    "    # Count the number of unique orbits in the filtered dataset\n",
    "    num_unique_orbits = filtered_data['ORBIT_CNT'].nunique()\n",
    "\n",
    "    return num_unique_orbits"
   ]
  },
  {
   "cell_type": "code",
   "execution_count": 11,
   "metadata": {},
   "outputs": [
    {
     "name": "stdout",
     "output_type": "stream",
     "text": [
      "Number of Unique Orbits with TDC_CHANNEL 139 :  101\n"
     ]
    }
   ],
   "source": [
    "x = 139\n",
    "\n",
    "print(\"Number of Unique Orbits with TDC_CHANNEL\", x, \": \", TdcCounter(x))"
   ]
  },
  {
   "cell_type": "markdown",
   "metadata": {},
   "source": [
    "8\\. Create two Series (one for each FPGA) that have the TDC channel as index, and the number of counts for the corresponding TDC channel as values."
   ]
  },
  {
   "cell_type": "code",
   "execution_count": 12,
   "metadata": {},
   "outputs": [
    {
     "name": "stdout",
     "output_type": "stream",
     "text": [
      "TDC_COUNTS for FPGA = 0:\n",
      "TDC_CHANNEL\n",
      "1      241\n",
      "2      260\n",
      "3      201\n",
      "4      211\n",
      "5      139\n",
      "      ... \n",
      "125      2\n",
      "126      1\n",
      "127     10\n",
      "128     11\n",
      "139    860\n",
      "Name: TDC_COUNTS, Length: 87, dtype: int64\n",
      "\n",
      "TDC_COUNTS for FPGA = 1:\n",
      "TDC_CHANNEL\n",
      "10     129\n",
      "12     106\n",
      "15      61\n",
      "16      87\n",
      "18      60\n",
      "20      77\n",
      "43      98\n",
      "45      96\n",
      "47     113\n",
      "54     186\n",
      "55       4\n",
      "56     251\n",
      "57     257\n",
      "58     257\n",
      "59     309\n",
      "60     351\n",
      "61     380\n",
      "62     360\n",
      "63     499\n",
      "65      12\n",
      "72      17\n",
      "73      13\n",
      "74      15\n",
      "75       8\n",
      "76       7\n",
      "77       5\n",
      "78       7\n",
      "81      14\n",
      "85      18\n",
      "88      24\n",
      "89      23\n",
      "92      16\n",
      "96      16\n",
      "112     16\n",
      "113     17\n",
      "115     23\n",
      "116     18\n",
      "117     33\n",
      "118     21\n",
      "120     37\n",
      "121     51\n",
      "123    144\n",
      "Name: TDC_COUNTS, dtype: int64\n"
     ]
    }
   ],
   "source": [
    "# Group the 'new_data' DataFrame by 'TDC_CHANNEL', sum the occurrences, and sort based on 'TDC_CHANNEL'\n",
    "grouped_data = new_data.groupby(\"TDC_CHANNEL\").sum().sort_values(by='TDC_CHANNEL')\n",
    "\n",
    "# Rename the 'HEAD' column to 'TDC_COUNTS' for clarity\n",
    "grouped_data.rename(columns={\"HEAD\": \"TDC_COUNTS\"}, inplace=True)\n",
    "\n",
    "# Create Series for FPGA = 0\n",
    "fpga0_series = grouped_data.loc[new_data[\"FPGA\"] == 0, [\"TDC_COUNTS\"]].squeeze()\n",
    "\n",
    "# Create Series for FPGA = 1\n",
    "fpga1_series = grouped_data.loc[new_data[\"FPGA\"] == 1, [\"TDC_COUNTS\"]].squeeze()\n",
    "\n",
    "# Print the Series for FPGA = 0\n",
    "print(\"TDC_COUNTS for FPGA = 0:\")\n",
    "print(fpga0_series)\n",
    "\n",
    "# Print the Series for FPGA = 1\n",
    "print(\"\\nTDC_COUNTS for FPGA = 1:\")\n",
    "print(fpga1_series)\n"
   ]
  },
  {
   "cell_type": "markdown",
   "metadata": {},
   "source": [
    "9\\. **Optional:** Create two histograms (one for each FPGA) that show the number of counts for each TDC channel."
   ]
  },
  {
   "cell_type": "code",
   "execution_count": 13,
   "metadata": {},
   "outputs": [
    {
     "data": {
      "image/png": "[encoded data removed]",
      "text/plain": [
       "<Figure size 1200x600 with 2 Axes>"
      ]
     },
     "metadata": {},
     "output_type": "display_data"
    }
   ],
   "source": [
    "import matplotlib.pyplot as plt\n",
    "\n",
    "# Create a figure with a size of 12x6 inches for subplots\n",
    "plt.figure(figsize=(12, 6))\n",
    "\n",
    "# Plot the histogram for FPGA = 0\n",
    "plt.subplot(1, 2, 1)  # Subplot 1 in a 1x2 grid\n",
    "plt.bar(fpga0_series.index, fpga0_series.values)\n",
    "plt.title('Histogram for FPGA0')  # Set the title for the subplot\n",
    "plt.xlabel('TDC Channel')  # Set the x-axis label\n",
    "plt.ylabel('Number of Counts')  # Set the y-axis label\n",
    "\n",
    "# Plot the histogram for FPGA = 1\n",
    "plt.subplot(1, 2, 2)  # Subplot 2 in a 1x2 grid\n",
    "plt.bar(fpga1_series.index, fpga1_series.values)\n",
    "plt.title('Histogram for FPGA1')  # Set the title for the subplot\n",
    "plt.xlabel('TDC Channel')  # Set the x-axis label\n",
    "plt.ylabel('Number of Counts')  # Set the y-axis label\n",
    "\n",
    "# Adjust layout to prevent overlapping of subplots\n",
    "plt.tight_layout()\n",
    "\n",
    "# Show the plot\n",
    "plt.show()"
   ]
  }
 ],
 "metadata": {
  "kernelspec": {
   "display_name": "Python 3 (ipykernel)",
   "language": "python",
   "name": "python3"
  },
  "language_info": {
   "codemirror_mode": {
    "name": "ipython",
    "version": 3
   },
   "file_extension": ".py",
   "mimetype": "text/x-python",
   "name": "python",
   "nbconvert_exporter": "python",
   "pygments_lexer": "ipython3",
   "version": "3.11.5"
  }
 },
 "nbformat": 4,
 "nbformat_minor": 2
}
