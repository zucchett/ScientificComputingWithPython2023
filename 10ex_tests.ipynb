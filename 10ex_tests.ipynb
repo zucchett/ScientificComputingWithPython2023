{
 "cells": [
  {
   "cell_type": "markdown",
   "metadata": {},
   "source": [
    "1\\. **Hurricanes per Year**\n",
    "\n",
    "The number of hurricanes in 2005 was 15. The historic average is 6.3. Is the 2005 number of hurricanes signficantly larger than the other years?\n",
    "- Assume the number of hurricanes is random, i.e. follows the Poisson distribution.\n",
    "- Assume as statistically significant a probability that has a Z score of 2 or larger with respect a normal distribution, or equivalently a level of significance of 0.022.\n",
    "\n",
    "**Hint**: compute the probability that in a single year are observed 15 or more hurricances."
   ]
  },
  {
   "cell_type": "code",
   "execution_count": null,
   "metadata": {},
   "outputs": [],
   "source": []
  },
  {
   "cell_type": "markdown",
   "metadata": {},
   "source": [
    "2\\. **Pairwise t-test**\n",
    "\n",
    "In an experiment, a group of 10 individuals agreed to participate in a study of blood pressure changes following exposure to halogen lighting. Resting systolic blood pressure was recorded for each individual. The participants were then exposed to 20 minutes in a room lit only by halogen lamps. A post-exposure systolic blood pressure reading was recorded for each individual. The results are presented in the following data set:\n",
    "\n",
    "```python\n",
    "pre = np.array([120, 132, 120, 110, 115, 128, 120, 112, 110, 100])\n",
    "post = np.array([140, 156, 145, 130, 117, 148, 137, 119, 127, 135])\n",
    "```\n",
    "\n",
    "Determine whether the change in blood pressures within our sample was statistically significant.\n",
    "\n",
    "**Hint:**\n",
    "in this case, the Student's $t$-test should be performed to compare the two datasets.\n",
    "Use the following test statistics:\n",
    "\n",
    "$$T = \\frac{\\bar{x}_1 - \\bar{x}_2}{\\sigma \\sqrt{\\frac{2}{n}}}$$\n",
    "\n",
    "and \n",
    "\n",
    "$$\\sigma = \\sqrt{\\frac{\\sigma_1^2 + \\sigma_2^2}{2}}$$"
   ]
  },
  {
   "cell_type": "code",
   "execution_count": null,
   "metadata": {},
   "outputs": [],
   "source": []
  },
  {
   "cell_type": "markdown",
   "metadata": {},
   "source": [
    "3\\. **Curve fitting of temperature in Alaska** \n",
    "\n",
    "The temperature extremes in Alaska for each month, starting in January, are given by (in degrees Celcius):\n",
    "\n",
    "max:  `17,  19,  21,  28,  33,  38, 37,  37,  31,  23,  19,  18`\n",
    "\n",
    "min: `-62, -59, -56, -46, -32, -18, -9, -13, -25, -46, -52, -58`\n",
    "\n",
    "* Plot these temperatures.\n",
    "* Find a suitable a function that can describe min and max temperatures. \n",
    "* Fit this function to the data with `scipy.optimize.curve_fit()`.\n",
    "* Plot the result. Is the fit reasonable? If not, why?\n",
    "* Is the time offset for min and max temperatures the same within the fit accuracy?"
   ]
  },
  {
   "cell_type": "code",
   "execution_count": null,
   "metadata": {},
   "outputs": [],
   "source": []
  },
  {
   "cell_type": "markdown",
   "metadata": {},
   "source": [
    "4\\. **Fit the residues**\n",
    "\n",
    "Read the `data/residuals_261.pkl` file. If you haven't got it already, download it from here:\n",
    "\n",
    "```bash\n",
    "wget https://www.dropbox.com/s/3uqleyc3wyz52tr/residuals_261.pkl -P data/\n",
    "```\n",
    "\n",
    "The feature named `residual` contains the residuals (defined as $y_i - \\hat{y}_i$) of a linear regression as a function of the independent variable `distances`.\n",
    "\n",
    "- Considering only the \"residual\" feature, create an histogram with the appropriate binning and plot it.\n",
    "- Set the appropriate Poisson uncertainty for each bin (thus, for each bin, $\\sigma_i = \\sqrt{n_i}$, where $n_i$ is the number of entries in each bin)\n",
    "- By looking at the distribution of the residuals, define an appropriate function and fit it to the histogram of the residuals\n",
    "- Perform the $\\chi^2$ goodness-of-fit test. What is the p-value of the fit? Is the fit function appropriate to describe the data?"
   ]
  },
  {
   "cell_type": "code",
   "execution_count": null,
   "metadata": {},
   "outputs": [],
   "source": []
  },
  {
   "cell_type": "markdown",
   "metadata": {},
   "source": [
    "5\\. **Temperatures in Munich**\n",
    "\n",
    "Get the following data file:\n",
    "\n",
    "```bash\n",
    "https://www.dropbox.com/s/7gy9yjl00ymxb8h/munich_temperatures_average_with_bad_data.txt\n",
    "```\n",
    "\n",
    "which gives the temperature in Munich every day for several years.\n",
    "\n",
    "\n",
    "Fit the following function to the data:\n",
    "\n",
    "$$f(t) = a \\cos(2\\pi t + b)+c$$\n",
    "\n",
    "where $t$ is the time in years.\n",
    "\n",
    "- Make a plot of the data and the best-fit model in the range 2008 to 2012.\n",
    "\n",
    "   - What are the best-fit values of the parameters and thier uncertainties?\n",
    "\n",
    "   - What is the overall average temperature in Munich, and what are the typical daily average values predicted by the model for the coldest and hottest time of year?\n",
    "\n",
    "   - What is the meaning of the $b$ parameter, and what physical sense does it have? Describe it with a comment in the code.\n",
    "\n",
    "\n",
    "- **Optional:** Now fit the data with the function $g(x)$, which has 1 more parameter than $f(x)$.\n",
    "$$g(x) = a \\cos(2\\pi b t + c)+d$$\n",
    "   - What are the RSS for $f(x)$ and $g(x)$?\n",
    "   - Use the Fisher F-test to determine whether the additional parameter is motivated."
   ]
  },
  {
   "cell_type": "code",
   "execution_count": null,
   "metadata": {},
   "outputs": [],
   "source": []
  }
 ],
 "metadata": {
  "kernelspec": {
   "display_name": "Python 3 (ipykernel)",
   "language": "python",
   "name": "python3"
  },
  "language_info": {
   "codemirror_mode": {
    "name": "ipython",
    "version": 3
   },
   "file_extension": ".py",
   "mimetype": "text/x-python",
   "name": "python",
   "nbconvert_exporter": "python",
   "pygments_lexer": "ipython3",
   "version": "3.10.12"
  }
 },
 "nbformat": 4,
 "nbformat_minor": 2
}
