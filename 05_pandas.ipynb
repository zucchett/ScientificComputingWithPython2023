{
 "cells": [
  {
   "cell_type": "markdown",
   "metadata": {},
   "source": [
    "# Pandas\n",
    "\n",
    "The Numpy library is excellent for numerical computations, but it lacks support to handle missing data or non-omogeneous arrays. The **Pandas** library is based on Numpy and extends the Numpy functionality, and is currently one of the most widely used tools for data manipulation, providing high-performance, easy-to-use data structures and advanced data analysis tools.\n",
    "\n",
    "In particular Pandas features:\n",
    "\n",
    "* A fast and efficient `Series` and `DataFrame` objects for data manipulation with integrated indexing;\n",
    "* Tools for reading and writing data between in-memory data structures and different formats (CSV, Excel, SQL, HDF5);\n",
    "* Smart data alignment and integrated handling of missing data;\n",
    "* Time series-functionalities;\n",
    "* Convenient label-based slicing, fancy indexing, and subsetting of large data sets;\n",
    "* Hierarchical axis indexing provides an intuitive way of working with high-dimensional data in a lower-dimensional data structure;\n",
    "* Aggregating and transforming data with a powerful \"group-by\" engine; \n",
    "* High performance merging and joining of data sets;\n",
    "* Highly optimized for performance, with critical code paths written in Cython or C."
   ]
  },
  {
   "cell_type": "code",
   "execution_count": 2,
   "metadata": {},
   "outputs": [],
   "source": [
    "import pandas as pd # standard naming convention\n",
    "import numpy as np"
   ]
  },
  {
   "cell_type": "markdown",
   "metadata": {},
   "source": [
    "## Series\n",
    "\n",
    "Pandas Series represent an extension of the Numpy 1D arrays. The content of a Series is equivalent to a Numpy array, and in addition the axis  is labeled. Labels don't need to be unique, but must be of a *hashable* type.\n",
    "\n",
    "Since the content is of type `ndarray`, the content has to be *omogeneous*. However, there is the possibility to store heterogeneous data, but the content in this case would be of type `object`.\n",
    "\n",
    "One of the most important examples are the **time series**, which are used to keep track of the time evolution of a certain quantity.\n",
    "\n",
    "Link to the official Pandas Series [documentation](https://pandas.pydata.org/pandas-docs/stable/reference/api/pandas.Series.html)."
   ]
  },
  {
   "cell_type": "code",
   "execution_count": 3,
   "metadata": {},
   "outputs": [
    {
     "name": "stdout",
     "output_type": "stream",
     "text": [
      "series:\n",
      " a    0.0\n",
      "b    0.5\n",
      "c    1.0\n",
      "d    1.5\n",
      "e    2.0\n",
      "f    2.5\n",
      "g    3.0\n",
      "h    3.5\n",
      "i    4.0\n",
      "j    4.5\n",
      "dtype: float64 \n",
      "\n",
      "series type:\n",
      " <class 'pandas.core.series.Series'> \n",
      "\n",
      "indices:\n",
      " Index(['a', 'b', 'c', 'd', 'e', 'f', 'g', 'h', 'i', 'j'], dtype='object') \n",
      "\n",
      "values: [0.  0.5 1.  1.5 2.  2.5 3.  3.5 4.  4.5] <class 'numpy.ndarray'> \n",
      "\n",
      "type:\n",
      " float64 \n",
      "\n"
     ]
    }
   ],
   "source": [
    "letters = ['a', 'b', 'c', 'd', 'e', 'f', 'g', 'h', 'i', 'j']\n",
    "\n",
    "# Calling the Series constructor\n",
    "# Constructor requires the data, and optionally the indices and data type\n",
    "sr = pd.Series(np.arange(10)*0.5, index=tuple(letters[:10]), dtype=float)\n",
    "print(\"series:\\n\", sr, '\\n')\n",
    "print(\"series type:\\n\", type(sr), '\\n')\n",
    "print(\"indices:\\n\", sr.index, '\\n')\n",
    "print(\"values:\", sr.values, type(sr.values), '\\n') # values of the Series are actually a numpy array\n",
    "print(\"type:\\n\", sr.dtype, '\\n')"
   ]
  },
  {
   "cell_type": "code",
   "execution_count": null,
   "metadata": {},
   "outputs": [],
   "source": [
    "print(\"element by index:\", sr['f'], '\\n') # Accessing elements like arrays\n",
    "print(\"element by attribute:\", sr.f, '\\n') # Accessing elements like attributes - not recommended\n",
    "\n",
    "# selecting a subset of the series\n",
    "subsr = sr[['d', 'f', 'h']] # note the double square brackets\n",
    "print(\"series subset:\\n\", subsr, type(subsr), '\\n') # Multiple indexing returns another series"
   ]
  },
  {
   "cell_type": "code",
   "execution_count": null,
   "metadata": {},
   "outputs": [],
   "source": [
    "# Extracting elements and operations are the same as numpy array (slicing)\n",
    "print(sr[:3], '\\n')\n",
    "print(sr[7:], '\\n')\n",
    "print(sr[::3], '\\n')\n",
    "\n",
    "# Fancy indexing works on Series, too\n",
    "print(sr[sr > 3], '\\n')\n",
    "\n",
    "# You can also pass Series to numpy funtions\n",
    "print(np.exp(sr), '\\n')\n",
    "print(\"Series mean:\", np.mean(sr), \", std:\", np.std(sr), '\\n')"
   ]
  },
  {
   "cell_type": "markdown",
   "metadata": {},
   "source": [
    "Series may contain non-omogeneous data; in this case, the data type is referred to as `object`. Non-homogeneous data is normally handeled also by Pandas and does not represent a problem, however this pays the price of less time-efficient operations."
   ]
  },
  {
   "cell_type": "code",
   "execution_count": null,
   "metadata": {},
   "outputs": [],
   "source": [
    "# Series can be created from a python dictionary, too\n",
    "# Note that the elements can be of different types\n",
    "d = {'b' : 1, 'a' : 'cat', 'c' : [2, 3]}\n",
    "so = pd.Series(d) # alternative constructor that taks a dict as the only input\n",
    "print(so, '\\n')"
   ]
  },
  {
   "cell_type": "markdown",
   "metadata": {},
   "source": [
    "A key difference between Pandas Series and Numpy arrays is that operations between Series **automatically align the data based on the label**.\n",
    "\n",
    "Thus, you can write operations without considering whether the Series involved have the same labels, or even the same size.\n",
    "\n",
    "If there is no matching element, the resulting value would be a `NaN`."
   ]
  },
  {
   "cell_type": "code",
   "execution_count": 4,
   "metadata": {},
   "outputs": [
    {
     "name": "stdout",
     "output_type": "stream",
     "text": [
      "series:\n",
      " a    0\n",
      "b    1\n",
      "c    2\n",
      "d    3\n",
      "e    4\n",
      "dtype: int32 \n",
      "\n",
      "shifted series:\n",
      " b    1\n",
      "c    2\n",
      "d    3\n",
      "e    4\n",
      "dtype: int32 \n",
      "\n",
      "shifted sum:\n",
      " a    NaN\n",
      "b    2.0\n",
      "c    4.0\n",
      "d    6.0\n",
      "e    8.0\n",
      "dtype: float64 \n",
      "\n",
      "double shifted sum:\n",
      " a    NaN\n",
      "b    2.0\n",
      "c    4.0\n",
      "d    6.0\n",
      "e    NaN\n",
      "dtype: float64 \n",
      "\n"
     ]
    }
   ],
   "source": [
    "s = pd.Series(np.arange(5), index=tuple(letters[:5]))\n",
    "print(\"series:\\n\", s, '\\n')\n",
    "\n",
    "s1 = s[1:]\n",
    "print(\"shifted series:\\n\", s1, '\\n')\n",
    "\n",
    "s2 = s1 + s\n",
    "print(\"shifted sum:\\n\", s2, '\\n')\n",
    "\n",
    "s3 = s1 + s[:-1]\n",
    "print(\"double shifted sum:\\n\", s3, '\\n')"
   ]
  },
  {
   "cell_type": "markdown",
   "metadata": {},
   "source": [
    "### Time series\n",
    "\n",
    "**Datetime**\n",
    "\n",
    "When dealing with time, Python provides the `datetime` library that allows to store the date and time in an dedicated object, which possess several methods to access the relevant quantities (day, month, year, hours, minutes, seconds, ...)"
   ]
  },
  {
   "cell_type": "code",
   "execution_count": 6,
   "metadata": {},
   "outputs": [
    {
     "name": "stdout",
     "output_type": "stream",
     "text": [
      "Today's date: 2023-12-05\n",
      "Date and time: 2020-11-12 10:45:10.000015\n",
      "Month: 11 and minutes: 45\n"
     ]
    }
   ],
   "source": [
    "# To define a date, the datetime module is very useful\n",
    "import datetime as dt\n",
    "\n",
    "date = dt.date.today()\n",
    "print(\"Today's date:\", date)\n",
    "\n",
    "# specify year, month, day, hour, minutes, seconds, and microseconds\n",
    "date = dt.datetime(2020, 11, 12, 10, 45, 10, 15)\n",
    "print(\"Date and time:\", date)\n",
    "print(\"Month:\", date.month, \"and minutes:\", date.minute)"
   ]
  },
  {
   "cell_type": "markdown",
   "metadata": {},
   "source": [
    "**Pandas Timestamps**\n",
    "\n",
    "Timestamped data is the most basic type of time series data that associates values with points in time.\n",
    "\n",
    "Functions like `pd.to_datetime` can be used to convert between different formats and, for instance, when reading the time stored as a string from a dataset:"
   ]
  },
  {
   "cell_type": "code",
   "execution_count": 7,
   "metadata": {
    "scrolled": true
   },
   "outputs": [
    {
     "name": "stdout",
     "output_type": "stream",
     "text": [
      "Timestamp: 1605177910000015000\n",
      "Time: 2010-11-12 00:00:00 , timestamp: 1289520000000000000 , type: <class 'pandas._libs.tslibs.timestamps.Timestamp'>\n",
      "Time: 2010-11-12 10:39:00 , timestamp: 1289558340000000000 , type: <class 'pandas._libs.tslibs.timestamps.Timestamp'>\n"
     ]
    }
   ],
   "source": [
    "# Get the timestamp, which is the nanoseconds from January 1st 1970 (Unix time)\n",
    "tstamp = pd.Timestamp(date)\n",
    "#tstamp = pd.Timestamp(dt.datetime(1970, 1, 1, 0, 0, 0, 1))\n",
    "print(\"Timestamp:\", tstamp.value)\n",
    "\n",
    "# when creating a timestamp the format can be explicitly passed\n",
    "ts = pd.to_datetime('2010/11/12', format='%Y/%m/%d')\n",
    "print(\"Time:\", ts, \", timestamp:\", ts.value, \", type:\", type(ts))\n",
    "\n",
    "ts = pd.to_datetime('12-11-2010 10:39', format='%d-%m-%Y %H:%M')\n",
    "print(\"Time:\", ts, \", timestamp:\", ts.value, \", type:\", type(ts))"
   ]
  },
  {
   "cell_type": "markdown",
   "metadata": {},
   "source": [
    "**Pandas Date range**\n",
    "\n",
    "Time series are very often used to describe the behaviour of a quantity as a function of time. Pandas has a special type of index for that, `DatetimeIndex`, that can be created e.g. with the function `pd.data_range()`."
   ]
  },
  {
   "cell_type": "code",
   "execution_count": 8,
   "metadata": {},
   "outputs": [
    {
     "name": "stdout",
     "output_type": "stream",
     "text": [
      "7 days range: DatetimeIndex(['2020-11-12 10:45:10.000015', '2020-11-13 10:45:10.000015',\n",
      "               '2020-11-14 10:45:10.000015', '2020-11-15 10:45:10.000015',\n",
      "               '2020-11-16 10:45:10.000015', '2020-11-17 10:45:10.000015',\n",
      "               '2020-11-18 10:45:10.000015'],\n",
      "              dtype='datetime64[ns]', freq='D')\n",
      "1 hour in seconds: DatetimeIndex(['2020-11-12 10:45:10.000015', '2020-11-12 10:45:11.000015',\n",
      "               '2020-11-12 10:45:12.000015', '2020-11-12 10:45:13.000015',\n",
      "               '2020-11-12 10:45:14.000015', '2020-11-12 10:45:15.000015',\n",
      "               '2020-11-12 10:45:16.000015', '2020-11-12 10:45:17.000015',\n",
      "               '2020-11-12 10:45:18.000015', '2020-11-12 10:45:19.000015',\n",
      "               ...\n",
      "               '2020-11-12 11:45:00.000015', '2020-11-12 11:45:01.000015',\n",
      "               '2020-11-12 11:45:02.000015', '2020-11-12 11:45:03.000015',\n",
      "               '2020-11-12 11:45:04.000015', '2020-11-12 11:45:05.000015',\n",
      "               '2020-11-12 11:45:06.000015', '2020-11-12 11:45:07.000015',\n",
      "               '2020-11-12 11:45:08.000015', '2020-11-12 11:45:09.000015'],\n",
      "              dtype='datetime64[ns]', length=3600, freq='S')\n"
     ]
    }
   ],
   "source": [
    "# create DatetimeIndex using ranges:\n",
    "days = pd.date_range(date, periods=7, freq='D')\n",
    "print(\"7 days range:\", days)\n",
    "\n",
    "seconds = pd.date_range(date, periods=3600, freq='s')\n",
    "print(\"1 hour in seconds:\", seconds)"
   ]
  },
  {
   "cell_type": "markdown",
   "metadata": {},
   "source": [
    "To learn more about the frequency strings, please check the [documentation](http://pandas.pydata.org/pandas-docs/stable/timeseries.html#offset-aliases)."
   ]
  },
  {
   "cell_type": "markdown",
   "metadata": {},
   "source": [
    "A standard series can be created, and (a range of) elements can be used as indices:"
   ]
  },
  {
   "cell_type": "code",
   "execution_count": null,
   "metadata": {
    "scrolled": true
   },
   "outputs": [],
   "source": [
    "print(\"index:\\n\", days, '\\n')\n",
    "tseries = pd.Series(np.random.normal(10, 1, len(days)), index=days)\n",
    "print(\"time series:\\n\", days, '\\n')\n",
    "# Extracting elements\n",
    "print(\"slice by position:\\n\", tseries[0:4], '\\n')\n",
    "print(\"slice by date range:\\n\", tseries['2020-9-11' : '2020-9-14'], '\\n') # note that includes end time"
   ]
  },
  {
   "cell_type": "markdown",
   "metadata": {},
   "source": [
    "`pd.to_datetime` can also be used to create a `DatetimeIndex` if the argument is a list:"
   ]
  },
  {
   "cell_type": "code",
   "execution_count": null,
   "metadata": {},
   "outputs": [],
   "source": [
    "print(pd.to_datetime([1, 2, 3, 4], unit='D', origin=pd.Timestamp('1980-02-03')))"
   ]
  },
  {
   "cell_type": "markdown",
   "metadata": {},
   "source": [
    "## DataFrame\n",
    "\n",
    "A pandas DataFrame can be thought as a tabular spreadsheet, although the performance, the functionalities and the capabilities are very different.\n",
    "\n",
    "Similarly to Series, the DataFrame structure also contains labeled axes (rows and columns). Arithmetic operations **align on both row and column labels**. Each column in a DataFrame is a Series object: as a matter of fact, a DataFrame can be thought of as a dict-like container for Series objects.\n",
    "\n",
    "The elements can be of all types, and missing data could be present too (represented as `NaN`).\n",
    "\n",
    "For future reference (or for people already familiar with R), a pandas DataFrame is also similar to the R DataFrame.\n",
    "\n",
    "Link to the official [documentation](https://pandas.pydata.org/pandas-docs/stable/reference/api/pandas.DataFrame.html)."
   ]
  },
  {
   "cell_type": "markdown",
   "metadata": {},
   "source": [
    "### Constructor\n",
    "\n",
    "A DataFrame objects can be created by passing a dictionary of objects. Note that the dictionary values are not omogeneous and do not have the same length. In these cases, pandas will automatically adjust the sizes, by replicating the content or adding NaN if necessary."
   ]
  },
  {
   "cell_type": "code",
   "execution_count": 9,
   "metadata": {},
   "outputs": [
    {
     "data": {
      "text/html": [
       "<div>\n",
       "<style scoped>\n",
       "    .dataframe tbody tr th:only-of-type {\n",
       "        vertical-align: middle;\n",
       "    }\n",
       "\n",
       "    .dataframe tbody tr th {\n",
       "        vertical-align: top;\n",
       "    }\n",
       "\n",
       "    .dataframe thead th {\n",
       "        text-align: right;\n",
       "    }\n",
       "</style>\n",
       "<table border=\"1\" class=\"dataframe\">\n",
       "  <thead>\n",
       "    <tr style=\"text-align: right;\">\n",
       "      <th></th>\n",
       "      <th>A</th>\n",
       "      <th>B</th>\n",
       "      <th>C</th>\n",
       "      <th>D</th>\n",
       "      <th>E</th>\n",
       "    </tr>\n",
       "  </thead>\n",
       "  <tbody>\n",
       "    <tr>\n",
       "      <th>0</th>\n",
       "      <td>1.0</td>\n",
       "      <td>2013-01-02</td>\n",
       "      <td>3.0</td>\n",
       "      <td>7</td>\n",
       "      <td>test</td>\n",
       "    </tr>\n",
       "    <tr>\n",
       "      <th>1</th>\n",
       "      <td>1.0</td>\n",
       "      <td>2013-01-02</td>\n",
       "      <td>3.0</td>\n",
       "      <td>8</td>\n",
       "      <td>train</td>\n",
       "    </tr>\n",
       "    <tr>\n",
       "      <th>2</th>\n",
       "      <td>1.0</td>\n",
       "      <td>2013-01-02</td>\n",
       "      <td>3.0</td>\n",
       "      <td>9</td>\n",
       "      <td>test</td>\n",
       "    </tr>\n",
       "    <tr>\n",
       "      <th>3</th>\n",
       "      <td>1.0</td>\n",
       "      <td>2013-01-02</td>\n",
       "      <td>3.0</td>\n",
       "      <td>10</td>\n",
       "      <td>train</td>\n",
       "    </tr>\n",
       "  </tbody>\n",
       "</table>\n",
       "</div>"
      ],
      "text/plain": [
       "     A          B    C   D      E\n",
       "0  1.0 2013-01-02  3.0   7   test\n",
       "1  1.0 2013-01-02  3.0   8  train\n",
       "2  1.0 2013-01-02  3.0   9   test\n",
       "3  1.0 2013-01-02  3.0  10  train"
      ]
     },
     "execution_count": 9,
     "metadata": {},
     "output_type": "execute_result"
    }
   ],
   "source": [
    "df = pd.DataFrame({\n",
    "    'A' : 1.,\n",
    "    'B' : pd.Timestamp('20130102'),\n",
    "    'C' : pd.Series(3, index=range(4), dtype='float32'),\n",
    "    'D' : np.arange(7, 11),\n",
    "    'E' : pd.Categorical([\"test\", \"train\", \"test\", \"train\"]), # a Series that represents a category label\n",
    "})\n",
    "# the keys of the dictionary represent the labels of the columns\n",
    "# since no index is specified, the simplest one [0, 1, 2, ...] is added by Pandas automatically\n",
    "\n",
    "df"
   ]
  },
  {
   "cell_type": "markdown",
   "metadata": {},
   "source": [
    "An example of DataFrame with a `DatatimeIndex` object as index:"
   ]
  },
  {
   "cell_type": "code",
   "execution_count": 10,
   "metadata": {},
   "outputs": [
    {
     "data": {
      "text/html": [
       "<div>\n",
       "<style scoped>\n",
       "    .dataframe tbody tr th:only-of-type {\n",
       "        vertical-align: middle;\n",
       "    }\n",
       "\n",
       "    .dataframe tbody tr th {\n",
       "        vertical-align: top;\n",
       "    }\n",
       "\n",
       "    .dataframe thead th {\n",
       "        text-align: right;\n",
       "    }\n",
       "</style>\n",
       "<table border=\"1\" class=\"dataframe\">\n",
       "  <thead>\n",
       "    <tr style=\"text-align: right;\">\n",
       "      <th></th>\n",
       "      <th>A</th>\n",
       "      <th>B</th>\n",
       "      <th>C</th>\n",
       "      <th>D</th>\n",
       "    </tr>\n",
       "  </thead>\n",
       "  <tbody>\n",
       "    <tr>\n",
       "      <th>2020-11-09 14:45:00</th>\n",
       "      <td>-0.492212</td>\n",
       "      <td>0.093886</td>\n",
       "      <td>-1.037711</td>\n",
       "      <td>-0.415147</td>\n",
       "    </tr>\n",
       "    <tr>\n",
       "      <th>2020-11-09 15:45:00</th>\n",
       "      <td>0.379893</td>\n",
       "      <td>0.766601</td>\n",
       "      <td>0.448761</td>\n",
       "      <td>0.336106</td>\n",
       "    </tr>\n",
       "    <tr>\n",
       "      <th>2020-11-09 16:45:00</th>\n",
       "      <td>0.481124</td>\n",
       "      <td>-0.469240</td>\n",
       "      <td>-1.560956</td>\n",
       "      <td>0.367561</td>\n",
       "    </tr>\n",
       "    <tr>\n",
       "      <th>2020-11-09 17:45:00</th>\n",
       "      <td>-0.408539</td>\n",
       "      <td>0.614916</td>\n",
       "      <td>0.549404</td>\n",
       "      <td>-1.313952</td>\n",
       "    </tr>\n",
       "    <tr>\n",
       "      <th>2020-11-09 18:45:00</th>\n",
       "      <td>2.102771</td>\n",
       "      <td>-0.502529</td>\n",
       "      <td>1.152247</td>\n",
       "      <td>0.054819</td>\n",
       "    </tr>\n",
       "    <tr>\n",
       "      <th>2020-11-09 19:45:00</th>\n",
       "      <td>1.738202</td>\n",
       "      <td>-0.187910</td>\n",
       "      <td>-0.037702</td>\n",
       "      <td>1.447206</td>\n",
       "    </tr>\n",
       "    <tr>\n",
       "      <th>2020-11-09 20:45:00</th>\n",
       "      <td>-1.220605</td>\n",
       "      <td>1.367141</td>\n",
       "      <td>-1.512092</td>\n",
       "      <td>1.056303</td>\n",
       "    </tr>\n",
       "    <tr>\n",
       "      <th>2020-11-09 21:45:00</th>\n",
       "      <td>-1.121993</td>\n",
       "      <td>-0.629805</td>\n",
       "      <td>0.734606</td>\n",
       "      <td>-0.001046</td>\n",
       "    </tr>\n",
       "    <tr>\n",
       "      <th>2020-11-09 22:45:00</th>\n",
       "      <td>0.037328</td>\n",
       "      <td>1.149891</td>\n",
       "      <td>0.181005</td>\n",
       "      <td>0.471171</td>\n",
       "    </tr>\n",
       "    <tr>\n",
       "      <th>2020-11-09 23:45:00</th>\n",
       "      <td>0.472649</td>\n",
       "      <td>-0.588323</td>\n",
       "      <td>-2.119170</td>\n",
       "      <td>-0.823068</td>\n",
       "    </tr>\n",
       "  </tbody>\n",
       "</table>\n",
       "</div>"
      ],
      "text/plain": [
       "                            A         B         C         D\n",
       "2020-11-09 14:45:00 -0.492212  0.093886 -1.037711 -0.415147\n",
       "2020-11-09 15:45:00  0.379893  0.766601  0.448761  0.336106\n",
       "2020-11-09 16:45:00  0.481124 -0.469240 -1.560956  0.367561\n",
       "2020-11-09 17:45:00 -0.408539  0.614916  0.549404 -1.313952\n",
       "2020-11-09 18:45:00  2.102771 -0.502529  1.152247  0.054819\n",
       "2020-11-09 19:45:00  1.738202 -0.187910 -0.037702  1.447206\n",
       "2020-11-09 20:45:00 -1.220605  1.367141 -1.512092  1.056303\n",
       "2020-11-09 21:45:00 -1.121993 -0.629805  0.734606 -0.001046\n",
       "2020-11-09 22:45:00  0.037328  1.149891  0.181005  0.471171\n",
       "2020-11-09 23:45:00  0.472649 -0.588323 -2.119170 -0.823068"
      ]
     },
     "execution_count": 10,
     "metadata": {},
     "output_type": "execute_result"
    }
   ],
   "source": [
    "entries = 10\n",
    "columns = ['A', 'B', 'C', 'D']\n",
    "dates = pd.date_range('11/9/2020 14:45:00', freq='h', periods=entries) # days/month/year\n",
    "df = pd.DataFrame(np.random.randn(entries, len(columns)), index=dates, columns=columns)\n",
    "df # pay attention that the date is printed as year-day-month"
   ]
  },
  {
   "cell_type": "markdown",
   "metadata": {},
   "source": [
    "### Viewing Data"
   ]
  },
  {
   "cell_type": "code",
   "execution_count": 12,
   "metadata": {},
   "outputs": [
    {
     "data": {
      "text/html": [
       "<div>\n",
       "<style scoped>\n",
       "    .dataframe tbody tr th:only-of-type {\n",
       "        vertical-align: middle;\n",
       "    }\n",
       "\n",
       "    .dataframe tbody tr th {\n",
       "        vertical-align: top;\n",
       "    }\n",
       "\n",
       "    .dataframe thead th {\n",
       "        text-align: right;\n",
       "    }\n",
       "</style>\n",
       "<table border=\"1\" class=\"dataframe\">\n",
       "  <thead>\n",
       "    <tr style=\"text-align: right;\">\n",
       "      <th></th>\n",
       "      <th>A</th>\n",
       "      <th>B</th>\n",
       "      <th>C</th>\n",
       "      <th>D</th>\n",
       "    </tr>\n",
       "  </thead>\n",
       "  <tbody>\n",
       "    <tr>\n",
       "      <th>2020-11-09 14:45:00</th>\n",
       "      <td>-0.492212</td>\n",
       "      <td>0.093886</td>\n",
       "      <td>-1.037711</td>\n",
       "      <td>-0.415147</td>\n",
       "    </tr>\n",
       "    <tr>\n",
       "      <th>2020-11-09 15:45:00</th>\n",
       "      <td>0.379893</td>\n",
       "      <td>0.766601</td>\n",
       "      <td>0.448761</td>\n",
       "      <td>0.336106</td>\n",
       "    </tr>\n",
       "    <tr>\n",
       "      <th>2020-11-09 16:45:00</th>\n",
       "      <td>0.481124</td>\n",
       "      <td>-0.469240</td>\n",
       "      <td>-1.560956</td>\n",
       "      <td>0.367561</td>\n",
       "    </tr>\n",
       "    <tr>\n",
       "      <th>2020-11-09 17:45:00</th>\n",
       "      <td>-0.408539</td>\n",
       "      <td>0.614916</td>\n",
       "      <td>0.549404</td>\n",
       "      <td>-1.313952</td>\n",
       "    </tr>\n",
       "    <tr>\n",
       "      <th>2020-11-09 18:45:00</th>\n",
       "      <td>2.102771</td>\n",
       "      <td>-0.502529</td>\n",
       "      <td>1.152247</td>\n",
       "      <td>0.054819</td>\n",
       "    </tr>\n",
       "  </tbody>\n",
       "</table>\n",
       "</div>"
      ],
      "text/plain": [
       "                            A         B         C         D\n",
       "2020-11-09 14:45:00 -0.492212  0.093886 -1.037711 -0.415147\n",
       "2020-11-09 15:45:00  0.379893  0.766601  0.448761  0.336106\n",
       "2020-11-09 16:45:00  0.481124 -0.469240 -1.560956  0.367561\n",
       "2020-11-09 17:45:00 -0.408539  0.614916  0.549404 -1.313952\n",
       "2020-11-09 18:45:00  2.102771 -0.502529  1.152247  0.054819"
      ]
     },
     "execution_count": 12,
     "metadata": {},
     "output_type": "execute_result"
    }
   ],
   "source": [
    "df.head()"
   ]
  },
  {
   "cell_type": "code",
   "execution_count": null,
   "metadata": {},
   "outputs": [],
   "source": [
    "df.tail(4)"
   ]
  },
  {
   "cell_type": "code",
   "execution_count": null,
   "metadata": {},
   "outputs": [],
   "source": [
    "df.index"
   ]
  },
  {
   "cell_type": "code",
   "execution_count": null,
   "metadata": {},
   "outputs": [],
   "source": [
    "df.columns"
   ]
  },
  {
   "cell_type": "code",
   "execution_count": null,
   "metadata": {},
   "outputs": [],
   "source": [
    "df.values"
   ]
  },
  {
   "cell_type": "code",
   "execution_count": 11,
   "metadata": {},
   "outputs": [
    {
     "data": {
      "text/html": [
       "<div>\n",
       "<style scoped>\n",
       "    .dataframe tbody tr th:only-of-type {\n",
       "        vertical-align: middle;\n",
       "    }\n",
       "\n",
       "    .dataframe tbody tr th {\n",
       "        vertical-align: top;\n",
       "    }\n",
       "\n",
       "    .dataframe thead th {\n",
       "        text-align: right;\n",
       "    }\n",
       "</style>\n",
       "<table border=\"1\" class=\"dataframe\">\n",
       "  <thead>\n",
       "    <tr style=\"text-align: right;\">\n",
       "      <th></th>\n",
       "      <th>A</th>\n",
       "      <th>B</th>\n",
       "      <th>C</th>\n",
       "      <th>D</th>\n",
       "    </tr>\n",
       "  </thead>\n",
       "  <tbody>\n",
       "    <tr>\n",
       "      <th>count</th>\n",
       "      <td>10.000000</td>\n",
       "      <td>10.000000</td>\n",
       "      <td>10.000000</td>\n",
       "      <td>10.000000</td>\n",
       "    </tr>\n",
       "    <tr>\n",
       "      <th>mean</th>\n",
       "      <td>0.196862</td>\n",
       "      <td>0.161463</td>\n",
       "      <td>-0.320161</td>\n",
       "      <td>0.117995</td>\n",
       "    </tr>\n",
       "    <tr>\n",
       "      <th>std</th>\n",
       "      <td>1.096153</td>\n",
       "      <td>0.756897</td>\n",
       "      <td>1.138734</td>\n",
       "      <td>0.824641</td>\n",
       "    </tr>\n",
       "    <tr>\n",
       "      <th>min</th>\n",
       "      <td>-1.220605</td>\n",
       "      <td>-0.629805</td>\n",
       "      <td>-2.119170</td>\n",
       "      <td>-1.313952</td>\n",
       "    </tr>\n",
       "    <tr>\n",
       "      <th>25%</th>\n",
       "      <td>-0.471294</td>\n",
       "      <td>-0.494207</td>\n",
       "      <td>-1.393496</td>\n",
       "      <td>-0.311622</td>\n",
       "    </tr>\n",
       "    <tr>\n",
       "      <th>50%</th>\n",
       "      <td>0.208610</td>\n",
       "      <td>-0.047012</td>\n",
       "      <td>0.071651</td>\n",
       "      <td>0.195463</td>\n",
       "    </tr>\n",
       "    <tr>\n",
       "      <th>75%</th>\n",
       "      <td>0.479005</td>\n",
       "      <td>0.728680</td>\n",
       "      <td>0.524243</td>\n",
       "      <td>0.445268</td>\n",
       "    </tr>\n",
       "    <tr>\n",
       "      <th>max</th>\n",
       "      <td>2.102771</td>\n",
       "      <td>1.367141</td>\n",
       "      <td>1.152247</td>\n",
       "      <td>1.447206</td>\n",
       "    </tr>\n",
       "  </tbody>\n",
       "</table>\n",
       "</div>"
      ],
      "text/plain": [
       "               A          B          C          D\n",
       "count  10.000000  10.000000  10.000000  10.000000\n",
       "mean    0.196862   0.161463  -0.320161   0.117995\n",
       "std     1.096153   0.756897   1.138734   0.824641\n",
       "min    -1.220605  -0.629805  -2.119170  -1.313952\n",
       "25%    -0.471294  -0.494207  -1.393496  -0.311622\n",
       "50%     0.208610  -0.047012   0.071651   0.195463\n",
       "75%     0.479005   0.728680   0.524243   0.445268\n",
       "max     2.102771   1.367141   1.152247   1.447206"
      ]
     },
     "execution_count": 11,
     "metadata": {},
     "output_type": "execute_result"
    }
   ],
   "source": [
    "df.describe()"
   ]
  },
  {
   "cell_type": "code",
   "execution_count": null,
   "metadata": {},
   "outputs": [],
   "source": [
    "df.T"
   ]
  },
  {
   "cell_type": "code",
   "execution_count": 13,
   "metadata": {},
   "outputs": [
    {
     "data": {
      "text/html": [
       "<div>\n",
       "<style scoped>\n",
       "    .dataframe tbody tr th:only-of-type {\n",
       "        vertical-align: middle;\n",
       "    }\n",
       "\n",
       "    .dataframe tbody tr th {\n",
       "        vertical-align: top;\n",
       "    }\n",
       "\n",
       "    .dataframe thead th {\n",
       "        text-align: right;\n",
       "    }\n",
       "</style>\n",
       "<table border=\"1\" class=\"dataframe\">\n",
       "  <thead>\n",
       "    <tr style=\"text-align: right;\">\n",
       "      <th></th>\n",
       "      <th>D</th>\n",
       "      <th>C</th>\n",
       "      <th>B</th>\n",
       "      <th>A</th>\n",
       "    </tr>\n",
       "  </thead>\n",
       "  <tbody>\n",
       "    <tr>\n",
       "      <th>2020-11-09 14:45:00</th>\n",
       "      <td>-0.415147</td>\n",
       "      <td>-1.037711</td>\n",
       "      <td>0.093886</td>\n",
       "      <td>-0.492212</td>\n",
       "    </tr>\n",
       "    <tr>\n",
       "      <th>2020-11-09 15:45:00</th>\n",
       "      <td>0.336106</td>\n",
       "      <td>0.448761</td>\n",
       "      <td>0.766601</td>\n",
       "      <td>0.379893</td>\n",
       "    </tr>\n",
       "    <tr>\n",
       "      <th>2020-11-09 16:45:00</th>\n",
       "      <td>0.367561</td>\n",
       "      <td>-1.560956</td>\n",
       "      <td>-0.469240</td>\n",
       "      <td>0.481124</td>\n",
       "    </tr>\n",
       "    <tr>\n",
       "      <th>2020-11-09 17:45:00</th>\n",
       "      <td>-1.313952</td>\n",
       "      <td>0.549404</td>\n",
       "      <td>0.614916</td>\n",
       "      <td>-0.408539</td>\n",
       "    </tr>\n",
       "    <tr>\n",
       "      <th>2020-11-09 18:45:00</th>\n",
       "      <td>0.054819</td>\n",
       "      <td>1.152247</td>\n",
       "      <td>-0.502529</td>\n",
       "      <td>2.102771</td>\n",
       "    </tr>\n",
       "    <tr>\n",
       "      <th>2020-11-09 19:45:00</th>\n",
       "      <td>1.447206</td>\n",
       "      <td>-0.037702</td>\n",
       "      <td>-0.187910</td>\n",
       "      <td>1.738202</td>\n",
       "    </tr>\n",
       "    <tr>\n",
       "      <th>2020-11-09 20:45:00</th>\n",
       "      <td>1.056303</td>\n",
       "      <td>-1.512092</td>\n",
       "      <td>1.367141</td>\n",
       "      <td>-1.220605</td>\n",
       "    </tr>\n",
       "    <tr>\n",
       "      <th>2020-11-09 21:45:00</th>\n",
       "      <td>-0.001046</td>\n",
       "      <td>0.734606</td>\n",
       "      <td>-0.629805</td>\n",
       "      <td>-1.121993</td>\n",
       "    </tr>\n",
       "    <tr>\n",
       "      <th>2020-11-09 22:45:00</th>\n",
       "      <td>0.471171</td>\n",
       "      <td>0.181005</td>\n",
       "      <td>1.149891</td>\n",
       "      <td>0.037328</td>\n",
       "    </tr>\n",
       "    <tr>\n",
       "      <th>2020-11-09 23:45:00</th>\n",
       "      <td>-0.823068</td>\n",
       "      <td>-2.119170</td>\n",
       "      <td>-0.588323</td>\n",
       "      <td>0.472649</td>\n",
       "    </tr>\n",
       "  </tbody>\n",
       "</table>\n",
       "</div>"
      ],
      "text/plain": [
       "                            D         C         B         A\n",
       "2020-11-09 14:45:00 -0.415147 -1.037711  0.093886 -0.492212\n",
       "2020-11-09 15:45:00  0.336106  0.448761  0.766601  0.379893\n",
       "2020-11-09 16:45:00  0.367561 -1.560956 -0.469240  0.481124\n",
       "2020-11-09 17:45:00 -1.313952  0.549404  0.614916 -0.408539\n",
       "2020-11-09 18:45:00  0.054819  1.152247 -0.502529  2.102771\n",
       "2020-11-09 19:45:00  1.447206 -0.037702 -0.187910  1.738202\n",
       "2020-11-09 20:45:00  1.056303 -1.512092  1.367141 -1.220605\n",
       "2020-11-09 21:45:00 -0.001046  0.734606 -0.629805 -1.121993\n",
       "2020-11-09 22:45:00  0.471171  0.181005  1.149891  0.037328\n",
       "2020-11-09 23:45:00 -0.823068 -2.119170 -0.588323  0.472649"
      ]
     },
     "execution_count": 13,
     "metadata": {},
     "output_type": "execute_result"
    }
   ],
   "source": [
    "df.sort_index(axis=1, ascending=False)"
   ]
  },
  {
   "cell_type": "code",
   "execution_count": null,
   "metadata": {},
   "outputs": [],
   "source": [
    "df.sort_values(by=\"C\", ascending=False)"
   ]
  },
  {
   "cell_type": "markdown",
   "metadata": {},
   "source": [
    "### Selection\n",
    "\n",
    "#### Slicing\n",
    "\n",
    "DataFrame slicing allows to select a subset of the DataFrame, or an entire column (a Series):"
   ]
  },
  {
   "cell_type": "code",
   "execution_count": null,
   "metadata": {},
   "outputs": [],
   "source": [
    "# standard and safe\n",
    "print(df['A'], '\\n', type(df['A']), '\\n') # Returns a Series (a column)\n",
    "\n",
    "# equivalent but dangerous (imagine blank spaces in the name of the column, or a column named \"T\")\n",
    "print(df.A, '\\n')"
   ]
  },
  {
   "cell_type": "markdown",
   "metadata": {},
   "source": [
    "Numpy-like slicing by row ranges is possible, and usually returns a **view** of the original DataFrame:"
   ]
  },
  {
   "cell_type": "code",
   "execution_count": null,
   "metadata": {},
   "outputs": [],
   "source": [
    "# selecting rows by range. Returns another DataFrame (usually a view)\n",
    "print(df[0:3], '\\n')\n",
    "\n",
    "# or by index range\n",
    "print(df[\"2020-11-09 14:45:00\" : \"2020-11-09 16:45:00\"])"
   ]
  },
  {
   "cell_type": "markdown",
   "metadata": {},
   "source": [
    "#### Selection by label\n",
    "\n",
    "The most common way to select elements, rows, or columns in a DataFrame is by using the `.loc[]` method.\n",
    "\n",
    "`.loc` supports multi-indexing, and usually returns a **copy** of the DataFrame."
   ]
  },
  {
   "cell_type": "code",
   "execution_count": 14,
   "metadata": {},
   "outputs": [
    {
     "name": "stdout",
     "output_type": "stream",
     "text": [
      "A   -0.492212\n",
      "B    0.093886\n",
      "C   -1.037711\n",
      "D   -0.415147\n",
      "Name: 2020-11-09 14:45:00, dtype: float64 \n",
      " <class 'pandas.core.series.Series'> \n",
      "\n"
     ]
    }
   ],
   "source": [
    "# getting a part of the DataFrame (in this case, a row)) using a label. Returns a Series\n",
    "dfs = df.loc[dates[0]] # equivalent to df.loc[df.index[0]]\n",
    "print(dfs, '\\n', type(dfs), '\\n')"
   ]
  },
  {
   "cell_type": "code",
   "execution_count": 15,
   "metadata": {},
   "outputs": [
    {
     "data": {
      "text/html": [
       "<div>\n",
       "<style scoped>\n",
       "    .dataframe tbody tr th:only-of-type {\n",
       "        vertical-align: middle;\n",
       "    }\n",
       "\n",
       "    .dataframe tbody tr th {\n",
       "        vertical-align: top;\n",
       "    }\n",
       "\n",
       "    .dataframe thead th {\n",
       "        text-align: right;\n",
       "    }\n",
       "</style>\n",
       "<table border=\"1\" class=\"dataframe\">\n",
       "  <thead>\n",
       "    <tr style=\"text-align: right;\">\n",
       "      <th></th>\n",
       "      <th>A</th>\n",
       "      <th>B</th>\n",
       "    </tr>\n",
       "  </thead>\n",
       "  <tbody>\n",
       "    <tr>\n",
       "      <th>2020-11-09 14:45:00</th>\n",
       "      <td>-0.492212</td>\n",
       "      <td>0.093886</td>\n",
       "    </tr>\n",
       "    <tr>\n",
       "      <th>2020-11-09 15:45:00</th>\n",
       "      <td>0.379893</td>\n",
       "      <td>0.766601</td>\n",
       "    </tr>\n",
       "    <tr>\n",
       "      <th>2020-11-09 16:45:00</th>\n",
       "      <td>0.481124</td>\n",
       "      <td>-0.469240</td>\n",
       "    </tr>\n",
       "    <tr>\n",
       "      <th>2020-11-09 17:45:00</th>\n",
       "      <td>-0.408539</td>\n",
       "      <td>0.614916</td>\n",
       "    </tr>\n",
       "    <tr>\n",
       "      <th>2020-11-09 18:45:00</th>\n",
       "      <td>2.102771</td>\n",
       "      <td>-0.502529</td>\n",
       "    </tr>\n",
       "    <tr>\n",
       "      <th>2020-11-09 19:45:00</th>\n",
       "      <td>1.738202</td>\n",
       "      <td>-0.187910</td>\n",
       "    </tr>\n",
       "    <tr>\n",
       "      <th>2020-11-09 20:45:00</th>\n",
       "      <td>-1.220605</td>\n",
       "      <td>1.367141</td>\n",
       "    </tr>\n",
       "    <tr>\n",
       "      <th>2020-11-09 21:45:00</th>\n",
       "      <td>-1.121993</td>\n",
       "      <td>-0.629805</td>\n",
       "    </tr>\n",
       "    <tr>\n",
       "      <th>2020-11-09 22:45:00</th>\n",
       "      <td>0.037328</td>\n",
       "      <td>1.149891</td>\n",
       "    </tr>\n",
       "    <tr>\n",
       "      <th>2020-11-09 23:45:00</th>\n",
       "      <td>0.472649</td>\n",
       "      <td>-0.588323</td>\n",
       "    </tr>\n",
       "  </tbody>\n",
       "</table>\n",
       "</div>"
      ],
      "text/plain": [
       "                            A         B\n",
       "2020-11-09 14:45:00 -0.492212  0.093886\n",
       "2020-11-09 15:45:00  0.379893  0.766601\n",
       "2020-11-09 16:45:00  0.481124 -0.469240\n",
       "2020-11-09 17:45:00 -0.408539  0.614916\n",
       "2020-11-09 18:45:00  2.102771 -0.502529\n",
       "2020-11-09 19:45:00  1.738202 -0.187910\n",
       "2020-11-09 20:45:00 -1.220605  1.367141\n",
       "2020-11-09 21:45:00 -1.121993 -0.629805\n",
       "2020-11-09 22:45:00  0.037328  1.149891\n",
       "2020-11-09 23:45:00  0.472649 -0.588323"
      ]
     },
     "execution_count": 15,
     "metadata": {},
     "output_type": "execute_result"
    }
   ],
   "source": [
    "# selecting on a multi-axis by label:\n",
    "dfa = df.loc[:, ['A','B']]\n",
    "dfa"
   ]
  },
  {
   "cell_type": "code",
   "execution_count": null,
   "metadata": {},
   "outputs": [],
   "source": [
    "# showing label slicing, both endpoints are included:\n",
    "df.loc['2020-11-09 18:45:00':'2020-11-09 20:45:00', ['A','B']]"
   ]
  },
  {
   "cell_type": "code",
   "execution_count": null,
   "metadata": {},
   "outputs": [],
   "source": [
    "# getting an individual element\n",
    "print(df.loc[dates[1], 'A'], '\\n', type(df.loc[dates[1], 'A']), '\\n')"
   ]
  },
  {
   "cell_type": "markdown",
   "metadata": {},
   "source": [
    "The `.at()` method is equivalent to `.loc[]`. Use `at` if you only need to get or set a single value in a DataFrame or Series."
   ]
  },
  {
   "cell_type": "code",
   "execution_count": null,
   "metadata": {},
   "outputs": [],
   "source": [
    "print(df.at[dates[1], 'A'])"
   ]
  },
  {
   "cell_type": "markdown",
   "metadata": {},
   "source": [
    "#### Selecting by position\n",
    "\n",
    "`.iloc[]` is similar to `.loc[]`, but instead of labels, it uses pure integer-location based indexing for selection by position.\n",
    "\n",
    "But differently from `.loc[]`, `.iloc[]` usually returns a **view**, not a copy."
   ]
  },
  {
   "cell_type": "code",
   "execution_count": 16,
   "metadata": {},
   "outputs": [
    {
     "name": "stdout",
     "output_type": "stream",
     "text": [
      "A   -0.408539\n",
      "B    0.614916\n",
      "C    0.549404\n",
      "D   -1.313952\n",
      "Name: 2020-11-09 17:45:00, dtype: float64 \n",
      " <class 'pandas.core.series.Series'> \n",
      "\n"
     ]
    }
   ],
   "source": [
    "# select via the position of the passed integers:\n",
    "print(df.iloc[3], '\\n', type(df.iloc[3]), '\\n')"
   ]
  },
  {
   "cell_type": "markdown",
   "metadata": {},
   "source": [
    "If you specify just one axis or idex, a Series is returned. If you specify both axis or indices, you get a DataFrame instead:"
   ]
  },
  {
   "cell_type": "code",
   "execution_count": 17,
   "metadata": {},
   "outputs": [
    {
     "name": "stdout",
     "output_type": "stream",
     "text": [
      "                            A         B\n",
      "2020-11-09 17:45:00 -0.408539  0.614916\n",
      "2020-11-09 18:45:00  2.102771 -0.502529 \n",
      " <class 'pandas.core.frame.DataFrame'> \n",
      "\n"
     ]
    }
   ],
   "source": [
    "# row and column ranges selected with numpy-like notation:\n",
    "dfv = df.iloc[3:5, 0:2]\n",
    "print(dfv, '\\n', type(df.iloc[3:5, 0:2]), '\\n')"
   ]
  },
  {
   "cell_type": "code",
   "execution_count": 18,
   "metadata": {},
   "outputs": [
    {
     "data": {
      "text/html": [
       "<div>\n",
       "<style scoped>\n",
       "    .dataframe tbody tr th:only-of-type {\n",
       "        vertical-align: middle;\n",
       "    }\n",
       "\n",
       "    .dataframe tbody tr th {\n",
       "        vertical-align: top;\n",
       "    }\n",
       "\n",
       "    .dataframe thead th {\n",
       "        text-align: right;\n",
       "    }\n",
       "</style>\n",
       "<table border=\"1\" class=\"dataframe\">\n",
       "  <thead>\n",
       "    <tr style=\"text-align: right;\">\n",
       "      <th></th>\n",
       "      <th>A</th>\n",
       "      <th>C</th>\n",
       "    </tr>\n",
       "  </thead>\n",
       "  <tbody>\n",
       "    <tr>\n",
       "      <th>2020-11-09 15:45:00</th>\n",
       "      <td>0.379893</td>\n",
       "      <td>0.448761</td>\n",
       "    </tr>\n",
       "    <tr>\n",
       "      <th>2020-11-09 16:45:00</th>\n",
       "      <td>0.481124</td>\n",
       "      <td>-1.560956</td>\n",
       "    </tr>\n",
       "    <tr>\n",
       "      <th>2020-11-09 18:45:00</th>\n",
       "      <td>2.102771</td>\n",
       "      <td>1.152247</td>\n",
       "    </tr>\n",
       "  </tbody>\n",
       "</table>\n",
       "</div>"
      ],
      "text/plain": [
       "                            A         C\n",
       "2020-11-09 15:45:00  0.379893  0.448761\n",
       "2020-11-09 16:45:00  0.481124 -1.560956\n",
       "2020-11-09 18:45:00  2.102771  1.152247"
      ]
     },
     "execution_count": 18,
     "metadata": {},
     "output_type": "execute_result"
    }
   ],
   "source": [
    "# selection of multiple elements with lists\n",
    "df.iloc[[1, 2, 4], [0, 2]] # selecting rows 1,2 and 4 for columns 0 and 2"
   ]
  },
  {
   "cell_type": "code",
   "execution_count": null,
   "metadata": {},
   "outputs": [],
   "source": [
    "# slicing rows explicitly\n",
    "df.iloc[1:3, :]\n",
    "\n",
    "# slicing columns explicitly\n",
    "df.iloc[:, 1:3]"
   ]
  },
  {
   "cell_type": "markdown",
   "metadata": {},
   "source": [
    "Similary to `.loc[]` and `.at[]`, there is also `.iat[]` alongside `.iloc[]`:"
   ]
  },
  {
   "cell_type": "code",
   "execution_count": 19,
   "metadata": {},
   "outputs": [
    {
     "name": "stdout",
     "output_type": "stream",
     "text": [
      "0.7666011478943143 , type: <class 'numpy.float64'>\n",
      "0.7666011478943143 , type: <class 'numpy.float64'>\n"
     ]
    }
   ],
   "source": [
    "# selecting an individual element by position: no difference between iloc and iat\n",
    "print(df.iloc[1,1], \", type:\", type(df.iloc[1,1]))\n",
    "print(df.iat[1,1], \", type:\", type(df.iat[1,1]))"
   ]
  },
  {
   "cell_type": "markdown",
   "metadata": {},
   "source": [
    "#### Masks\n",
    "\n",
    "Boolean masks can be used in the same way as Numpy, and they represent a very powerful way of filtering out data with certain features. Just like Numpy fancy indexing, using a mask usually returns a **copy** of the DataFrame."
   ]
  },
  {
   "cell_type": "code",
   "execution_count": 20,
   "metadata": {},
   "outputs": [
    {
     "data": {
      "text/html": [
       "<div>\n",
       "<style scoped>\n",
       "    .dataframe tbody tr th:only-of-type {\n",
       "        vertical-align: middle;\n",
       "    }\n",
       "\n",
       "    .dataframe tbody tr th {\n",
       "        vertical-align: top;\n",
       "    }\n",
       "\n",
       "    .dataframe thead th {\n",
       "        text-align: right;\n",
       "    }\n",
       "</style>\n",
       "<table border=\"1\" class=\"dataframe\">\n",
       "  <thead>\n",
       "    <tr style=\"text-align: right;\">\n",
       "      <th></th>\n",
       "      <th>A</th>\n",
       "      <th>B</th>\n",
       "      <th>C</th>\n",
       "      <th>D</th>\n",
       "    </tr>\n",
       "  </thead>\n",
       "  <tbody>\n",
       "    <tr>\n",
       "      <th>2020-11-09 14:45:00</th>\n",
       "      <td>-99.000000</td>\n",
       "      <td>0.093886</td>\n",
       "      <td>NaN</td>\n",
       "      <td>NaN</td>\n",
       "    </tr>\n",
       "    <tr>\n",
       "      <th>2020-11-09 15:45:00</th>\n",
       "      <td>0.379893</td>\n",
       "      <td>0.766601</td>\n",
       "      <td>0.448761</td>\n",
       "      <td>0.336106</td>\n",
       "    </tr>\n",
       "    <tr>\n",
       "      <th>2020-11-09 16:45:00</th>\n",
       "      <td>0.481124</td>\n",
       "      <td>NaN</td>\n",
       "      <td>NaN</td>\n",
       "      <td>0.367561</td>\n",
       "    </tr>\n",
       "    <tr>\n",
       "      <th>2020-11-09 17:45:00</th>\n",
       "      <td>NaN</td>\n",
       "      <td>0.614916</td>\n",
       "      <td>0.549404</td>\n",
       "      <td>NaN</td>\n",
       "    </tr>\n",
       "    <tr>\n",
       "      <th>2020-11-09 18:45:00</th>\n",
       "      <td>2.102771</td>\n",
       "      <td>NaN</td>\n",
       "      <td>1.152247</td>\n",
       "      <td>0.054819</td>\n",
       "    </tr>\n",
       "    <tr>\n",
       "      <th>2020-11-09 19:45:00</th>\n",
       "      <td>1.738202</td>\n",
       "      <td>NaN</td>\n",
       "      <td>NaN</td>\n",
       "      <td>1.447206</td>\n",
       "    </tr>\n",
       "    <tr>\n",
       "      <th>2020-11-09 20:45:00</th>\n",
       "      <td>NaN</td>\n",
       "      <td>1.367141</td>\n",
       "      <td>NaN</td>\n",
       "      <td>1.056303</td>\n",
       "    </tr>\n",
       "    <tr>\n",
       "      <th>2020-11-09 21:45:00</th>\n",
       "      <td>NaN</td>\n",
       "      <td>NaN</td>\n",
       "      <td>0.734606</td>\n",
       "      <td>NaN</td>\n",
       "    </tr>\n",
       "    <tr>\n",
       "      <th>2020-11-09 22:45:00</th>\n",
       "      <td>0.037328</td>\n",
       "      <td>1.149891</td>\n",
       "      <td>0.181005</td>\n",
       "      <td>0.471171</td>\n",
       "    </tr>\n",
       "    <tr>\n",
       "      <th>2020-11-09 23:45:00</th>\n",
       "      <td>0.472649</td>\n",
       "      <td>NaN</td>\n",
       "      <td>NaN</td>\n",
       "      <td>NaN</td>\n",
       "    </tr>\n",
       "  </tbody>\n",
       "</table>\n",
       "</div>"
      ],
      "text/plain": [
       "                             A         B         C         D\n",
       "2020-11-09 14:45:00 -99.000000  0.093886       NaN       NaN\n",
       "2020-11-09 15:45:00   0.379893  0.766601  0.448761  0.336106\n",
       "2020-11-09 16:45:00   0.481124       NaN       NaN  0.367561\n",
       "2020-11-09 17:45:00        NaN  0.614916  0.549404       NaN\n",
       "2020-11-09 18:45:00   2.102771       NaN  1.152247  0.054819\n",
       "2020-11-09 19:45:00   1.738202       NaN       NaN  1.447206\n",
       "2020-11-09 20:45:00        NaN  1.367141       NaN  1.056303\n",
       "2020-11-09 21:45:00        NaN       NaN  0.734606       NaN\n",
       "2020-11-09 22:45:00   0.037328  1.149891  0.181005  0.471171\n",
       "2020-11-09 23:45:00   0.472649       NaN       NaN       NaN"
      ]
     },
     "execution_count": 20,
     "metadata": {},
     "output_type": "execute_result"
    }
   ],
   "source": [
    "# Selecting on the basis of boolean conditions applied to the whole DataFrame\n",
    "dfc = df[df > 0]\n",
    "dfc.iat[0, 0] = -99\n",
    "# a DataFrame with the same shape is returned, with NaN's where condition is not met\n",
    "# Note that when a NaN is present in a column of integers, the column (Series) is casted to float\n",
    "dfc"
   ]
  },
  {
   "cell_type": "code",
   "execution_count": 21,
   "metadata": {},
   "outputs": [
    {
     "data": {
      "text/plain": [
       "2020-11-09 14:45:00     True\n",
       "2020-11-09 15:45:00    False\n",
       "2020-11-09 16:45:00    False\n",
       "2020-11-09 17:45:00    False\n",
       "2020-11-09 18:45:00    False\n",
       "2020-11-09 19:45:00    False\n",
       "2020-11-09 20:45:00    False\n",
       "2020-11-09 21:45:00    False\n",
       "2020-11-09 22:45:00    False\n",
       "2020-11-09 23:45:00    False\n",
       "Freq: H, Name: B, dtype: bool"
      ]
     },
     "execution_count": 21,
     "metadata": {},
     "output_type": "execute_result"
    }
   ],
   "source": [
    "# Filter by a boolean condition on the values of a single column\n",
    "mask = dfc['B'] < 0.5\n",
    "mask"
   ]
  },
  {
   "cell_type": "code",
   "execution_count": 22,
   "metadata": {},
   "outputs": [
    {
     "data": {
      "text/html": [
       "<div>\n",
       "<style scoped>\n",
       "    .dataframe tbody tr th:only-of-type {\n",
       "        vertical-align: middle;\n",
       "    }\n",
       "\n",
       "    .dataframe tbody tr th {\n",
       "        vertical-align: top;\n",
       "    }\n",
       "\n",
       "    .dataframe thead th {\n",
       "        text-align: right;\n",
       "    }\n",
       "</style>\n",
       "<table border=\"1\" class=\"dataframe\">\n",
       "  <thead>\n",
       "    <tr style=\"text-align: right;\">\n",
       "      <th></th>\n",
       "      <th>A</th>\n",
       "      <th>B</th>\n",
       "      <th>C</th>\n",
       "      <th>D</th>\n",
       "    </tr>\n",
       "  </thead>\n",
       "  <tbody>\n",
       "    <tr>\n",
       "      <th>2020-11-09 14:45:00</th>\n",
       "      <td>-99.0</td>\n",
       "      <td>0.093886</td>\n",
       "      <td>NaN</td>\n",
       "      <td>NaN</td>\n",
       "    </tr>\n",
       "  </tbody>\n",
       "</table>\n",
       "</div>"
      ],
      "text/plain": [
       "                        A         B   C   D\n",
       "2020-11-09 14:45:00 -99.0  0.093886 NaN NaN"
      ]
     },
     "execution_count": 22,
     "metadata": {},
     "output_type": "execute_result"
    }
   ],
   "source": [
    "# Filter only the rows that correspond to a True in the Series used as mask\n",
    "dfc[mask]"
   ]
  },
  {
   "cell_type": "markdown",
   "metadata": {},
   "source": [
    "**Queries**\n",
    "\n",
    "Pandas uses a database-like engine to select elements according to a query on the columns of the DataFrame:"
   ]
  },
  {
   "cell_type": "code",
   "execution_count": null,
   "metadata": {},
   "outputs": [],
   "source": [
    "dfq = df.query('C > 0.5')\n",
    "dfq"
   ]
  },
  {
   "cell_type": "markdown",
   "metadata": {},
   "source": [
    "which is equivalent to `dfq = df[df['C'] > 0.5]`:"
   ]
  },
  {
   "cell_type": "code",
   "execution_count": null,
   "metadata": {},
   "outputs": [],
   "source": [
    "dfw = df[df['C'] > 0.5]\n",
    "dfw"
   ]
  },
  {
   "cell_type": "markdown",
   "metadata": {},
   "source": [
    "### Copy and views in DataFrames\n",
    "\n",
    "The view/copy behaviour in Pandas is not as easy as it may appear, as there are counter-intuitive exceptions. There was a plan to fix this by quite some time, but a fix has not been deployed yet.\n",
    "\n",
    "Check this discussion [here](https://www.practicaldatascience.org/html/views_and_copies_in_pandas.html):\n",
    "\n",
    "    In numpy, the rules for when you get views and when you don’t are a little complicated, but they are consistent: certain behaviors (like simple indexing) will always return a view, and others (fancy indexing) will never return a view.\n",
    "\n",
    "    But in pandas, whether you get a view or not—and whether changes made to a view will propagate back to the original DataFrame—depends on the structure and data types in the original DataFrame.\n",
    "\n",
    "\n",
    "In summary, there is only one way to write safe code when dealing with slides of a dataframe: after every instruction that selects a subset of a DataFrame, force the copy by appending `.copy()` to the slice."
   ]
  },
  {
   "cell_type": "markdown",
   "metadata": {},
   "source": [
    "### Assignement\n",
    "\n",
    "Assignment is typically performed after a selection:"
   ]
  },
  {
   "cell_type": "code",
   "execution_count": 25,
   "metadata": {},
   "outputs": [
    {
     "data": {
      "text/html": [
       "<div>\n",
       "<style scoped>\n",
       "    .dataframe tbody tr th:only-of-type {\n",
       "        vertical-align: middle;\n",
       "    }\n",
       "\n",
       "    .dataframe tbody tr th {\n",
       "        vertical-align: top;\n",
       "    }\n",
       "\n",
       "    .dataframe thead th {\n",
       "        text-align: right;\n",
       "    }\n",
       "</style>\n",
       "<table border=\"1\" class=\"dataframe\">\n",
       "  <thead>\n",
       "    <tr style=\"text-align: right;\">\n",
       "      <th></th>\n",
       "      <th>A</th>\n",
       "      <th>B</th>\n",
       "      <th>C</th>\n",
       "      <th>D</th>\n",
       "      <th>E</th>\n",
       "    </tr>\n",
       "  </thead>\n",
       "  <tbody>\n",
       "    <tr>\n",
       "      <th>2020-11-09 14:45:00</th>\n",
       "      <td>1.000000</td>\n",
       "      <td>0.093886</td>\n",
       "      <td>1.037711</td>\n",
       "      <td>5</td>\n",
       "      <td>0</td>\n",
       "    </tr>\n",
       "    <tr>\n",
       "      <th>2020-11-09 15:45:00</th>\n",
       "      <td>0.379893</td>\n",
       "      <td>0.766601</td>\n",
       "      <td>0.448761</td>\n",
       "      <td>5</td>\n",
       "      <td>2</td>\n",
       "    </tr>\n",
       "    <tr>\n",
       "      <th>2020-11-09 16:45:00</th>\n",
       "      <td>0.481124</td>\n",
       "      <td>0.469240</td>\n",
       "      <td>1.560956</td>\n",
       "      <td>5</td>\n",
       "      <td>4</td>\n",
       "    </tr>\n",
       "    <tr>\n",
       "      <th>2020-11-09 17:45:00</th>\n",
       "      <td>0.408539</td>\n",
       "      <td>0.614916</td>\n",
       "      <td>0.549404</td>\n",
       "      <td>5</td>\n",
       "      <td>6</td>\n",
       "    </tr>\n",
       "    <tr>\n",
       "      <th>2020-11-09 18:45:00</th>\n",
       "      <td>2.102771</td>\n",
       "      <td>0.502529</td>\n",
       "      <td>1.152247</td>\n",
       "      <td>5</td>\n",
       "      <td>8</td>\n",
       "    </tr>\n",
       "    <tr>\n",
       "      <th>2020-11-09 19:45:00</th>\n",
       "      <td>1.738202</td>\n",
       "      <td>0.187910</td>\n",
       "      <td>0.037702</td>\n",
       "      <td>5</td>\n",
       "      <td>10</td>\n",
       "    </tr>\n",
       "    <tr>\n",
       "      <th>2020-11-09 20:45:00</th>\n",
       "      <td>1.220605</td>\n",
       "      <td>1.367141</td>\n",
       "      <td>1.512092</td>\n",
       "      <td>5</td>\n",
       "      <td>12</td>\n",
       "    </tr>\n",
       "    <tr>\n",
       "      <th>2020-11-09 21:45:00</th>\n",
       "      <td>1.121993</td>\n",
       "      <td>0.629805</td>\n",
       "      <td>0.734606</td>\n",
       "      <td>5</td>\n",
       "      <td>14</td>\n",
       "    </tr>\n",
       "    <tr>\n",
       "      <th>2020-11-09 22:45:00</th>\n",
       "      <td>0.037328</td>\n",
       "      <td>1.149891</td>\n",
       "      <td>0.181005</td>\n",
       "      <td>5</td>\n",
       "      <td>16</td>\n",
       "    </tr>\n",
       "    <tr>\n",
       "      <th>2020-11-09 23:45:00</th>\n",
       "      <td>0.472649</td>\n",
       "      <td>0.588323</td>\n",
       "      <td>2.119170</td>\n",
       "      <td>5</td>\n",
       "      <td>18</td>\n",
       "    </tr>\n",
       "  </tbody>\n",
       "</table>\n",
       "</div>"
      ],
      "text/plain": [
       "                            A         B         C  D   E\n",
       "2020-11-09 14:45:00  1.000000  0.093886  1.037711  5   0\n",
       "2020-11-09 15:45:00  0.379893  0.766601  0.448761  5   2\n",
       "2020-11-09 16:45:00  0.481124  0.469240  1.560956  5   4\n",
       "2020-11-09 17:45:00  0.408539  0.614916  0.549404  5   6\n",
       "2020-11-09 18:45:00  2.102771  0.502529  1.152247  5   8\n",
       "2020-11-09 19:45:00  1.738202  0.187910  0.037702  5  10\n",
       "2020-11-09 20:45:00  1.220605  1.367141  1.512092  5  12\n",
       "2020-11-09 21:45:00  1.121993  0.629805  0.734606  5  14\n",
       "2020-11-09 22:45:00  0.037328  1.149891  0.181005  5  16\n",
       "2020-11-09 23:45:00  0.472649  0.588323  2.119170  5  18"
      ]
     },
     "execution_count": 25,
     "metadata": {},
     "output_type": "execute_result"
    }
   ],
   "source": [
    "# Make sure to copy the DataFrame if you plan to modify it, and you don't want to change the original object\n",
    "dfa = df.copy()\n",
    "\n",
    "# setting values by label (same as by position)\n",
    "dfa.at[dates[0], 'A'] = -1\n",
    "\n",
    "# setting and assigning a numpy array\n",
    "dfa['D'] = np.array([5] * len(dfa))\n",
    "\n",
    "# defining a brand new column by means of a pd.Series: indexes must be the same!\n",
    "dfa['E'] = pd.Series(np.arange(len(dfa))*2, index=dfa.index)\n",
    "\n",
    "# using masks for assigment\n",
    "dfa[dfa < 0] = -dfa\n",
    "\n",
    "dfa"
   ]
  },
  {
   "cell_type": "markdown",
   "metadata": {},
   "source": [
    "### Dropping\n",
    "\n",
    "Dropping columns is an example of **a method that does not modify the original object**, and returns a new modified object. In other words, if you want to keep the modified DataFrame, perform a new assignment:\n",
    "\n",
    "```python\n",
    "df = df.drop(...)\n",
    "```\n",
    "Alternatively, the modification of the original object can be forced by specifying `inplace=True` among the arguments."
   ]
  },
  {
   "cell_type": "code",
   "execution_count": 26,
   "metadata": {},
   "outputs": [
    {
     "data": {
      "text/html": [
       "<div>\n",
       "<style scoped>\n",
       "    .dataframe tbody tr th:only-of-type {\n",
       "        vertical-align: middle;\n",
       "    }\n",
       "\n",
       "    .dataframe tbody tr th {\n",
       "        vertical-align: top;\n",
       "    }\n",
       "\n",
       "    .dataframe thead th {\n",
       "        text-align: right;\n",
       "    }\n",
       "</style>\n",
       "<table border=\"1\" class=\"dataframe\">\n",
       "  <thead>\n",
       "    <tr style=\"text-align: right;\">\n",
       "      <th></th>\n",
       "      <th>A</th>\n",
       "      <th>B</th>\n",
       "      <th>C</th>\n",
       "      <th>D</th>\n",
       "      <th>E</th>\n",
       "    </tr>\n",
       "  </thead>\n",
       "  <tbody>\n",
       "    <tr>\n",
       "      <th>2020-11-09 14:45:00</th>\n",
       "      <td>1.000000</td>\n",
       "      <td>0.093886</td>\n",
       "      <td>1.037711</td>\n",
       "      <td>5</td>\n",
       "      <td>0</td>\n",
       "    </tr>\n",
       "    <tr>\n",
       "      <th>2020-11-09 15:45:00</th>\n",
       "      <td>0.379893</td>\n",
       "      <td>0.766601</td>\n",
       "      <td>0.448761</td>\n",
       "      <td>5</td>\n",
       "      <td>2</td>\n",
       "    </tr>\n",
       "    <tr>\n",
       "      <th>2020-11-09 16:45:00</th>\n",
       "      <td>0.481124</td>\n",
       "      <td>0.469240</td>\n",
       "      <td>1.560956</td>\n",
       "      <td>5</td>\n",
       "      <td>4</td>\n",
       "    </tr>\n",
       "    <tr>\n",
       "      <th>2020-11-09 17:45:00</th>\n",
       "      <td>0.408539</td>\n",
       "      <td>0.614916</td>\n",
       "      <td>0.549404</td>\n",
       "      <td>5</td>\n",
       "      <td>6</td>\n",
       "    </tr>\n",
       "    <tr>\n",
       "      <th>2020-11-09 18:45:00</th>\n",
       "      <td>2.102771</td>\n",
       "      <td>0.502529</td>\n",
       "      <td>1.152247</td>\n",
       "      <td>5</td>\n",
       "      <td>8</td>\n",
       "    </tr>\n",
       "    <tr>\n",
       "      <th>2020-11-09 19:45:00</th>\n",
       "      <td>1.738202</td>\n",
       "      <td>0.187910</td>\n",
       "      <td>0.037702</td>\n",
       "      <td>5</td>\n",
       "      <td>10</td>\n",
       "    </tr>\n",
       "    <tr>\n",
       "      <th>2020-11-09 20:45:00</th>\n",
       "      <td>1.220605</td>\n",
       "      <td>1.367141</td>\n",
       "      <td>1.512092</td>\n",
       "      <td>5</td>\n",
       "      <td>12</td>\n",
       "    </tr>\n",
       "    <tr>\n",
       "      <th>2020-11-09 21:45:00</th>\n",
       "      <td>1.121993</td>\n",
       "      <td>0.629805</td>\n",
       "      <td>0.734606</td>\n",
       "      <td>5</td>\n",
       "      <td>14</td>\n",
       "    </tr>\n",
       "    <tr>\n",
       "      <th>2020-11-09 22:45:00</th>\n",
       "      <td>0.037328</td>\n",
       "      <td>1.149891</td>\n",
       "      <td>0.181005</td>\n",
       "      <td>5</td>\n",
       "      <td>16</td>\n",
       "    </tr>\n",
       "    <tr>\n",
       "      <th>2020-11-09 23:45:00</th>\n",
       "      <td>0.472649</td>\n",
       "      <td>0.588323</td>\n",
       "      <td>2.119170</td>\n",
       "      <td>5</td>\n",
       "      <td>18</td>\n",
       "    </tr>\n",
       "  </tbody>\n",
       "</table>\n",
       "</div>"
      ],
      "text/plain": [
       "                            A         B         C  D   E\n",
       "2020-11-09 14:45:00  1.000000  0.093886  1.037711  5   0\n",
       "2020-11-09 15:45:00  0.379893  0.766601  0.448761  5   2\n",
       "2020-11-09 16:45:00  0.481124  0.469240  1.560956  5   4\n",
       "2020-11-09 17:45:00  0.408539  0.614916  0.549404  5   6\n",
       "2020-11-09 18:45:00  2.102771  0.502529  1.152247  5   8\n",
       "2020-11-09 19:45:00  1.738202  0.187910  0.037702  5  10\n",
       "2020-11-09 20:45:00  1.220605  1.367141  1.512092  5  12\n",
       "2020-11-09 21:45:00  1.121993  0.629805  0.734606  5  14\n",
       "2020-11-09 22:45:00  0.037328  1.149891  0.181005  5  16\n",
       "2020-11-09 23:45:00  0.472649  0.588323  2.119170  5  18"
      ]
     },
     "execution_count": 26,
     "metadata": {},
     "output_type": "execute_result"
    }
   ],
   "source": [
    "dfb = dfa.copy()\n",
    "\n",
    "# Dropping by column..\n",
    "dfb.drop(['E'], axis=1)\n",
    "dfb"
   ]
  },
  {
   "cell_type": "markdown",
   "metadata": {},
   "source": [
    "As you can see, there is no effect on the original object. That's because  new object is returned instead. To keep it, there are two alternatives:"
   ]
  },
  {
   "cell_type": "code",
   "execution_count": 27,
   "metadata": {},
   "outputs": [
    {
     "data": {
      "text/html": [
       "<div>\n",
       "<style scoped>\n",
       "    .dataframe tbody tr th:only-of-type {\n",
       "        vertical-align: middle;\n",
       "    }\n",
       "\n",
       "    .dataframe tbody tr th {\n",
       "        vertical-align: top;\n",
       "    }\n",
       "\n",
       "    .dataframe thead th {\n",
       "        text-align: right;\n",
       "    }\n",
       "</style>\n",
       "<table border=\"1\" class=\"dataframe\">\n",
       "  <thead>\n",
       "    <tr style=\"text-align: right;\">\n",
       "      <th></th>\n",
       "      <th>A</th>\n",
       "      <th>B</th>\n",
       "      <th>C</th>\n",
       "      <th>D</th>\n",
       "    </tr>\n",
       "  </thead>\n",
       "  <tbody>\n",
       "    <tr>\n",
       "      <th>2020-11-09 14:45:00</th>\n",
       "      <td>1.000000</td>\n",
       "      <td>0.093886</td>\n",
       "      <td>1.037711</td>\n",
       "      <td>5</td>\n",
       "    </tr>\n",
       "    <tr>\n",
       "      <th>2020-11-09 15:45:00</th>\n",
       "      <td>0.379893</td>\n",
       "      <td>0.766601</td>\n",
       "      <td>0.448761</td>\n",
       "      <td>5</td>\n",
       "    </tr>\n",
       "    <tr>\n",
       "      <th>2020-11-09 16:45:00</th>\n",
       "      <td>0.481124</td>\n",
       "      <td>0.469240</td>\n",
       "      <td>1.560956</td>\n",
       "      <td>5</td>\n",
       "    </tr>\n",
       "    <tr>\n",
       "      <th>2020-11-09 17:45:00</th>\n",
       "      <td>0.408539</td>\n",
       "      <td>0.614916</td>\n",
       "      <td>0.549404</td>\n",
       "      <td>5</td>\n",
       "    </tr>\n",
       "    <tr>\n",
       "      <th>2020-11-09 18:45:00</th>\n",
       "      <td>2.102771</td>\n",
       "      <td>0.502529</td>\n",
       "      <td>1.152247</td>\n",
       "      <td>5</td>\n",
       "    </tr>\n",
       "    <tr>\n",
       "      <th>2020-11-09 19:45:00</th>\n",
       "      <td>1.738202</td>\n",
       "      <td>0.187910</td>\n",
       "      <td>0.037702</td>\n",
       "      <td>5</td>\n",
       "    </tr>\n",
       "    <tr>\n",
       "      <th>2020-11-09 20:45:00</th>\n",
       "      <td>1.220605</td>\n",
       "      <td>1.367141</td>\n",
       "      <td>1.512092</td>\n",
       "      <td>5</td>\n",
       "    </tr>\n",
       "    <tr>\n",
       "      <th>2020-11-09 21:45:00</th>\n",
       "      <td>1.121993</td>\n",
       "      <td>0.629805</td>\n",
       "      <td>0.734606</td>\n",
       "      <td>5</td>\n",
       "    </tr>\n",
       "    <tr>\n",
       "      <th>2020-11-09 22:45:00</th>\n",
       "      <td>0.037328</td>\n",
       "      <td>1.149891</td>\n",
       "      <td>0.181005</td>\n",
       "      <td>5</td>\n",
       "    </tr>\n",
       "    <tr>\n",
       "      <th>2020-11-09 23:45:00</th>\n",
       "      <td>0.472649</td>\n",
       "      <td>0.588323</td>\n",
       "      <td>2.119170</td>\n",
       "      <td>5</td>\n",
       "    </tr>\n",
       "  </tbody>\n",
       "</table>\n",
       "</div>"
      ],
      "text/plain": [
       "                            A         B         C  D\n",
       "2020-11-09 14:45:00  1.000000  0.093886  1.037711  5\n",
       "2020-11-09 15:45:00  0.379893  0.766601  0.448761  5\n",
       "2020-11-09 16:45:00  0.481124  0.469240  1.560956  5\n",
       "2020-11-09 17:45:00  0.408539  0.614916  0.549404  5\n",
       "2020-11-09 18:45:00  2.102771  0.502529  1.152247  5\n",
       "2020-11-09 19:45:00  1.738202  0.187910  0.037702  5\n",
       "2020-11-09 20:45:00  1.220605  1.367141  1.512092  5\n",
       "2020-11-09 21:45:00  1.121993  0.629805  0.734606  5\n",
       "2020-11-09 22:45:00  0.037328  1.149891  0.181005  5\n",
       "2020-11-09 23:45:00  0.472649  0.588323  2.119170  5"
      ]
     },
     "execution_count": 27,
     "metadata": {},
     "output_type": "execute_result"
    }
   ],
   "source": [
    "dfc = dfb.drop(columns=['E'])\n",
    "dfc"
   ]
  },
  {
   "cell_type": "code",
   "execution_count": 28,
   "metadata": {},
   "outputs": [
    {
     "data": {
      "text/html": [
       "<div>\n",
       "<style scoped>\n",
       "    .dataframe tbody tr th:only-of-type {\n",
       "        vertical-align: middle;\n",
       "    }\n",
       "\n",
       "    .dataframe tbody tr th {\n",
       "        vertical-align: top;\n",
       "    }\n",
       "\n",
       "    .dataframe thead th {\n",
       "        text-align: right;\n",
       "    }\n",
       "</style>\n",
       "<table border=\"1\" class=\"dataframe\">\n",
       "  <thead>\n",
       "    <tr style=\"text-align: right;\">\n",
       "      <th></th>\n",
       "      <th>A</th>\n",
       "      <th>B</th>\n",
       "      <th>C</th>\n",
       "      <th>D</th>\n",
       "    </tr>\n",
       "  </thead>\n",
       "  <tbody>\n",
       "    <tr>\n",
       "      <th>2020-11-09 14:45:00</th>\n",
       "      <td>1.000000</td>\n",
       "      <td>0.093886</td>\n",
       "      <td>1.037711</td>\n",
       "      <td>5</td>\n",
       "    </tr>\n",
       "    <tr>\n",
       "      <th>2020-11-09 15:45:00</th>\n",
       "      <td>0.379893</td>\n",
       "      <td>0.766601</td>\n",
       "      <td>0.448761</td>\n",
       "      <td>5</td>\n",
       "    </tr>\n",
       "    <tr>\n",
       "      <th>2020-11-09 16:45:00</th>\n",
       "      <td>0.481124</td>\n",
       "      <td>0.469240</td>\n",
       "      <td>1.560956</td>\n",
       "      <td>5</td>\n",
       "    </tr>\n",
       "    <tr>\n",
       "      <th>2020-11-09 17:45:00</th>\n",
       "      <td>0.408539</td>\n",
       "      <td>0.614916</td>\n",
       "      <td>0.549404</td>\n",
       "      <td>5</td>\n",
       "    </tr>\n",
       "    <tr>\n",
       "      <th>2020-11-09 18:45:00</th>\n",
       "      <td>2.102771</td>\n",
       "      <td>0.502529</td>\n",
       "      <td>1.152247</td>\n",
       "      <td>5</td>\n",
       "    </tr>\n",
       "    <tr>\n",
       "      <th>2020-11-09 19:45:00</th>\n",
       "      <td>1.738202</td>\n",
       "      <td>0.187910</td>\n",
       "      <td>0.037702</td>\n",
       "      <td>5</td>\n",
       "    </tr>\n",
       "    <tr>\n",
       "      <th>2020-11-09 20:45:00</th>\n",
       "      <td>1.220605</td>\n",
       "      <td>1.367141</td>\n",
       "      <td>1.512092</td>\n",
       "      <td>5</td>\n",
       "    </tr>\n",
       "    <tr>\n",
       "      <th>2020-11-09 21:45:00</th>\n",
       "      <td>1.121993</td>\n",
       "      <td>0.629805</td>\n",
       "      <td>0.734606</td>\n",
       "      <td>5</td>\n",
       "    </tr>\n",
       "    <tr>\n",
       "      <th>2020-11-09 22:45:00</th>\n",
       "      <td>0.037328</td>\n",
       "      <td>1.149891</td>\n",
       "      <td>0.181005</td>\n",
       "      <td>5</td>\n",
       "    </tr>\n",
       "    <tr>\n",
       "      <th>2020-11-09 23:45:00</th>\n",
       "      <td>0.472649</td>\n",
       "      <td>0.588323</td>\n",
       "      <td>2.119170</td>\n",
       "      <td>5</td>\n",
       "    </tr>\n",
       "  </tbody>\n",
       "</table>\n",
       "</div>"
      ],
      "text/plain": [
       "                            A         B         C  D\n",
       "2020-11-09 14:45:00  1.000000  0.093886  1.037711  5\n",
       "2020-11-09 15:45:00  0.379893  0.766601  0.448761  5\n",
       "2020-11-09 16:45:00  0.481124  0.469240  1.560956  5\n",
       "2020-11-09 17:45:00  0.408539  0.614916  0.549404  5\n",
       "2020-11-09 18:45:00  2.102771  0.502529  1.152247  5\n",
       "2020-11-09 19:45:00  1.738202  0.187910  0.037702  5\n",
       "2020-11-09 20:45:00  1.220605  1.367141  1.512092  5\n",
       "2020-11-09 21:45:00  1.121993  0.629805  0.734606  5\n",
       "2020-11-09 22:45:00  0.037328  1.149891  0.181005  5\n",
       "2020-11-09 23:45:00  0.472649  0.588323  2.119170  5"
      ]
     },
     "execution_count": 28,
     "metadata": {},
     "output_type": "execute_result"
    }
   ],
   "source": [
    "dfb.drop(columns=['E'], inplace=True) # equivalent to the previous one, but the original object has been replace inplace\n",
    "dfb"
   ]
  },
  {
   "cell_type": "markdown",
   "metadata": {},
   "source": [
    "### Dealing with missing data\n",
    "\n",
    "Pandas primarily uses the value `np.nan` to represent missing data. It is by default not included in computations. If there is a `NaN` entry in a Series of integers, the type of the Series will be changed to floats."
   ]
  },
  {
   "cell_type": "code",
   "execution_count": 29,
   "metadata": {},
   "outputs": [
    {
     "data": {
      "text/html": [
       "<div>\n",
       "<style scoped>\n",
       "    .dataframe tbody tr th:only-of-type {\n",
       "        vertical-align: middle;\n",
       "    }\n",
       "\n",
       "    .dataframe tbody tr th {\n",
       "        vertical-align: top;\n",
       "    }\n",
       "\n",
       "    .dataframe thead th {\n",
       "        text-align: right;\n",
       "    }\n",
       "</style>\n",
       "<table border=\"1\" class=\"dataframe\">\n",
       "  <thead>\n",
       "    <tr style=\"text-align: right;\">\n",
       "      <th></th>\n",
       "      <th>A</th>\n",
       "      <th>B</th>\n",
       "      <th>C</th>\n",
       "      <th>D</th>\n",
       "    </tr>\n",
       "  </thead>\n",
       "  <tbody>\n",
       "    <tr>\n",
       "      <th>2020-11-09 14:45:00</th>\n",
       "      <td>1.000000</td>\n",
       "      <td>NaN</td>\n",
       "      <td>1.037711</td>\n",
       "      <td>5</td>\n",
       "    </tr>\n",
       "    <tr>\n",
       "      <th>2020-11-09 15:45:00</th>\n",
       "      <td>NaN</td>\n",
       "      <td>0.766601</td>\n",
       "      <td>NaN</td>\n",
       "      <td>5</td>\n",
       "    </tr>\n",
       "    <tr>\n",
       "      <th>2020-11-09 16:45:00</th>\n",
       "      <td>NaN</td>\n",
       "      <td>NaN</td>\n",
       "      <td>1.560956</td>\n",
       "      <td>5</td>\n",
       "    </tr>\n",
       "    <tr>\n",
       "      <th>2020-11-09 17:45:00</th>\n",
       "      <td>NaN</td>\n",
       "      <td>0.614916</td>\n",
       "      <td>0.549404</td>\n",
       "      <td>5</td>\n",
       "    </tr>\n",
       "    <tr>\n",
       "      <th>2020-11-09 18:45:00</th>\n",
       "      <td>2.102771</td>\n",
       "      <td>0.502529</td>\n",
       "      <td>1.152247</td>\n",
       "      <td>5</td>\n",
       "    </tr>\n",
       "    <tr>\n",
       "      <th>2020-11-09 19:45:00</th>\n",
       "      <td>1.738202</td>\n",
       "      <td>NaN</td>\n",
       "      <td>NaN</td>\n",
       "      <td>5</td>\n",
       "    </tr>\n",
       "    <tr>\n",
       "      <th>2020-11-09 20:45:00</th>\n",
       "      <td>1.220605</td>\n",
       "      <td>1.367141</td>\n",
       "      <td>1.512092</td>\n",
       "      <td>5</td>\n",
       "    </tr>\n",
       "    <tr>\n",
       "      <th>2020-11-09 21:45:00</th>\n",
       "      <td>1.121993</td>\n",
       "      <td>0.629805</td>\n",
       "      <td>0.734606</td>\n",
       "      <td>5</td>\n",
       "    </tr>\n",
       "    <tr>\n",
       "      <th>2020-11-09 22:45:00</th>\n",
       "      <td>NaN</td>\n",
       "      <td>1.149891</td>\n",
       "      <td>NaN</td>\n",
       "      <td>5</td>\n",
       "    </tr>\n",
       "    <tr>\n",
       "      <th>2020-11-09 23:45:00</th>\n",
       "      <td>NaN</td>\n",
       "      <td>0.588323</td>\n",
       "      <td>2.119170</td>\n",
       "      <td>5</td>\n",
       "    </tr>\n",
       "  </tbody>\n",
       "</table>\n",
       "</div>"
      ],
      "text/plain": [
       "                            A         B         C  D\n",
       "2020-11-09 14:45:00  1.000000       NaN  1.037711  5\n",
       "2020-11-09 15:45:00       NaN  0.766601       NaN  5\n",
       "2020-11-09 16:45:00       NaN       NaN  1.560956  5\n",
       "2020-11-09 17:45:00       NaN  0.614916  0.549404  5\n",
       "2020-11-09 18:45:00  2.102771  0.502529  1.152247  5\n",
       "2020-11-09 19:45:00  1.738202       NaN       NaN  5\n",
       "2020-11-09 20:45:00  1.220605  1.367141  1.512092  5\n",
       "2020-11-09 21:45:00  1.121993  0.629805  0.734606  5\n",
       "2020-11-09 22:45:00       NaN  1.149891       NaN  5\n",
       "2020-11-09 23:45:00       NaN  0.588323  2.119170  5"
      ]
     },
     "execution_count": 29,
     "metadata": {},
     "output_type": "execute_result"
    }
   ],
   "source": [
    "df_wNan = dfb[dfb > 0.5]\n",
    "df_wNan"
   ]
  },
  {
   "cell_type": "code",
   "execution_count": null,
   "metadata": {},
   "outputs": [],
   "source": [
    "# dropping rows with at least a Nan\n",
    "df_wNan.dropna(how='any')\n",
    "df_wNan"
   ]
  },
  {
   "cell_type": "code",
   "execution_count": 30,
   "metadata": {},
   "outputs": [
    {
     "data": {
      "text/html": [
       "<div>\n",
       "<style scoped>\n",
       "    .dataframe tbody tr th:only-of-type {\n",
       "        vertical-align: middle;\n",
       "    }\n",
       "\n",
       "    .dataframe tbody tr th {\n",
       "        vertical-align: top;\n",
       "    }\n",
       "\n",
       "    .dataframe thead th {\n",
       "        text-align: right;\n",
       "    }\n",
       "</style>\n",
       "<table border=\"1\" class=\"dataframe\">\n",
       "  <thead>\n",
       "    <tr style=\"text-align: right;\">\n",
       "      <th></th>\n",
       "      <th>A</th>\n",
       "      <th>B</th>\n",
       "      <th>C</th>\n",
       "      <th>D</th>\n",
       "    </tr>\n",
       "  </thead>\n",
       "  <tbody>\n",
       "    <tr>\n",
       "      <th>2020-11-09 14:45:00</th>\n",
       "      <td>False</td>\n",
       "      <td>True</td>\n",
       "      <td>False</td>\n",
       "      <td>False</td>\n",
       "    </tr>\n",
       "    <tr>\n",
       "      <th>2020-11-09 15:45:00</th>\n",
       "      <td>True</td>\n",
       "      <td>False</td>\n",
       "      <td>True</td>\n",
       "      <td>False</td>\n",
       "    </tr>\n",
       "    <tr>\n",
       "      <th>2020-11-09 16:45:00</th>\n",
       "      <td>True</td>\n",
       "      <td>True</td>\n",
       "      <td>False</td>\n",
       "      <td>False</td>\n",
       "    </tr>\n",
       "    <tr>\n",
       "      <th>2020-11-09 17:45:00</th>\n",
       "      <td>True</td>\n",
       "      <td>False</td>\n",
       "      <td>False</td>\n",
       "      <td>False</td>\n",
       "    </tr>\n",
       "    <tr>\n",
       "      <th>2020-11-09 18:45:00</th>\n",
       "      <td>False</td>\n",
       "      <td>False</td>\n",
       "      <td>False</td>\n",
       "      <td>False</td>\n",
       "    </tr>\n",
       "    <tr>\n",
       "      <th>2020-11-09 19:45:00</th>\n",
       "      <td>False</td>\n",
       "      <td>True</td>\n",
       "      <td>True</td>\n",
       "      <td>False</td>\n",
       "    </tr>\n",
       "    <tr>\n",
       "      <th>2020-11-09 20:45:00</th>\n",
       "      <td>False</td>\n",
       "      <td>False</td>\n",
       "      <td>False</td>\n",
       "      <td>False</td>\n",
       "    </tr>\n",
       "    <tr>\n",
       "      <th>2020-11-09 21:45:00</th>\n",
       "      <td>False</td>\n",
       "      <td>False</td>\n",
       "      <td>False</td>\n",
       "      <td>False</td>\n",
       "    </tr>\n",
       "    <tr>\n",
       "      <th>2020-11-09 22:45:00</th>\n",
       "      <td>True</td>\n",
       "      <td>False</td>\n",
       "      <td>True</td>\n",
       "      <td>False</td>\n",
       "    </tr>\n",
       "    <tr>\n",
       "      <th>2020-11-09 23:45:00</th>\n",
       "      <td>True</td>\n",
       "      <td>False</td>\n",
       "      <td>False</td>\n",
       "      <td>False</td>\n",
       "    </tr>\n",
       "  </tbody>\n",
       "</table>\n",
       "</div>"
      ],
      "text/plain": [
       "                         A      B      C      D\n",
       "2020-11-09 14:45:00  False   True  False  False\n",
       "2020-11-09 15:45:00   True  False   True  False\n",
       "2020-11-09 16:45:00   True   True  False  False\n",
       "2020-11-09 17:45:00   True  False  False  False\n",
       "2020-11-09 18:45:00  False  False  False  False\n",
       "2020-11-09 19:45:00  False   True   True  False\n",
       "2020-11-09 20:45:00  False  False  False  False\n",
       "2020-11-09 21:45:00  False  False  False  False\n",
       "2020-11-09 22:45:00   True  False   True  False\n",
       "2020-11-09 23:45:00   True  False  False  False"
      ]
     },
     "execution_count": 30,
     "metadata": {},
     "output_type": "execute_result"
    }
   ],
   "source": [
    "# getting a mask\n",
    "df_wNan.isna()\n",
    "# df_wNan.notna()"
   ]
  },
  {
   "cell_type": "code",
   "execution_count": null,
   "metadata": {},
   "outputs": [],
   "source": [
    "# filling missing data (not recommended, unless you really mean it)\n",
    "df_wNan.fillna(value=0)"
   ]
  },
  {
   "cell_type": "markdown",
   "metadata": {},
   "source": [
    "### Operations\n",
    "\n",
    "Operations on the elements of a DataFrame are quite straightforward, as the syntax is the same as the one used for Series. Also for DataFrames, operations are performed between elements that share the same labels. Operations on columns are extremly fast, almost as fast as the actual operation between elements in a row."
   ]
  },
  {
   "cell_type": "code",
   "execution_count": 31,
   "metadata": {},
   "outputs": [
    {
     "name": "stdout",
     "output_type": "stream",
     "text": [
      "A    0.196862\n",
      "B    0.161463\n",
      "C   -0.320161\n",
      "D    0.117995\n",
      "dtype: float64 \n",
      "\n",
      "2020-11-09 14:45:00   -0.462796\n",
      "2020-11-09 15:45:00    0.482840\n",
      "2020-11-09 16:45:00   -0.295378\n",
      "2020-11-09 17:45:00   -0.139543\n",
      "2020-11-09 18:45:00    0.701827\n",
      "2020-11-09 19:45:00    0.739949\n",
      "2020-11-09 20:45:00   -0.077313\n",
      "2020-11-09 21:45:00   -0.254560\n",
      "2020-11-09 22:45:00    0.459849\n",
      "2020-11-09 23:45:00   -0.764478\n",
      "Freq: H, dtype: float64 \n",
      "\n"
     ]
    }
   ],
   "source": [
    "# Some statistics (mean() just as an example)\n",
    "# on rows\n",
    "print(df.mean(axis=0), '\\n')\n",
    "# on columns\n",
    "print(df.mean(axis=1), '\\n')"
   ]
  },
  {
   "cell_type": "code",
   "execution_count": null,
   "metadata": {},
   "outputs": [],
   "source": [
    "# Global operations on columns\n",
    "df.apply(np.sum) # or whatever function defined by the user"
   ]
  },
  {
   "cell_type": "code",
   "execution_count": null,
   "metadata": {},
   "outputs": [],
   "source": [
    "# Also lambda functions are accepted\n",
    "df.apply(lambda x: x - x.max())"
   ]
  },
  {
   "cell_type": "code",
   "execution_count": 32,
   "metadata": {},
   "outputs": [
    {
     "data": {
      "text/html": [
       "<div>\n",
       "<style scoped>\n",
       "    .dataframe tbody tr th:only-of-type {\n",
       "        vertical-align: middle;\n",
       "    }\n",
       "\n",
       "    .dataframe tbody tr th {\n",
       "        vertical-align: top;\n",
       "    }\n",
       "\n",
       "    .dataframe thead th {\n",
       "        text-align: right;\n",
       "    }\n",
       "</style>\n",
       "<table border=\"1\" class=\"dataframe\">\n",
       "  <thead>\n",
       "    <tr style=\"text-align: right;\">\n",
       "      <th></th>\n",
       "      <th>A</th>\n",
       "      <th>B</th>\n",
       "      <th>C</th>\n",
       "      <th>D</th>\n",
       "      <th>S</th>\n",
       "    </tr>\n",
       "  </thead>\n",
       "  <tbody>\n",
       "    <tr>\n",
       "      <th>2020-11-09 14:45:00</th>\n",
       "      <td>-0.492212</td>\n",
       "      <td>0.093886</td>\n",
       "      <td>-1.037711</td>\n",
       "      <td>-0.415147</td>\n",
       "      <td>-1.529923</td>\n",
       "    </tr>\n",
       "    <tr>\n",
       "      <th>2020-11-09 15:45:00</th>\n",
       "      <td>0.379893</td>\n",
       "      <td>0.766601</td>\n",
       "      <td>0.448761</td>\n",
       "      <td>0.336106</td>\n",
       "      <td>0.828654</td>\n",
       "    </tr>\n",
       "    <tr>\n",
       "      <th>2020-11-09 16:45:00</th>\n",
       "      <td>0.481124</td>\n",
       "      <td>-0.469240</td>\n",
       "      <td>-1.560956</td>\n",
       "      <td>0.367561</td>\n",
       "      <td>-1.079832</td>\n",
       "    </tr>\n",
       "    <tr>\n",
       "      <th>2020-11-09 17:45:00</th>\n",
       "      <td>-0.408539</td>\n",
       "      <td>0.614916</td>\n",
       "      <td>0.549404</td>\n",
       "      <td>-1.313952</td>\n",
       "      <td>0.140865</td>\n",
       "    </tr>\n",
       "    <tr>\n",
       "      <th>2020-11-09 18:45:00</th>\n",
       "      <td>2.102771</td>\n",
       "      <td>-0.502529</td>\n",
       "      <td>1.152247</td>\n",
       "      <td>0.054819</td>\n",
       "      <td>3.255019</td>\n",
       "    </tr>\n",
       "    <tr>\n",
       "      <th>2020-11-09 19:45:00</th>\n",
       "      <td>1.738202</td>\n",
       "      <td>-0.187910</td>\n",
       "      <td>-0.037702</td>\n",
       "      <td>1.447206</td>\n",
       "      <td>1.700499</td>\n",
       "    </tr>\n",
       "    <tr>\n",
       "      <th>2020-11-09 20:45:00</th>\n",
       "      <td>-1.220605</td>\n",
       "      <td>1.367141</td>\n",
       "      <td>-1.512092</td>\n",
       "      <td>1.056303</td>\n",
       "      <td>-2.732696</td>\n",
       "    </tr>\n",
       "    <tr>\n",
       "      <th>2020-11-09 21:45:00</th>\n",
       "      <td>-1.121993</td>\n",
       "      <td>-0.629805</td>\n",
       "      <td>0.734606</td>\n",
       "      <td>-0.001046</td>\n",
       "      <td>-0.387387</td>\n",
       "    </tr>\n",
       "    <tr>\n",
       "      <th>2020-11-09 22:45:00</th>\n",
       "      <td>0.037328</td>\n",
       "      <td>1.149891</td>\n",
       "      <td>0.181005</td>\n",
       "      <td>0.471171</td>\n",
       "      <td>0.218333</td>\n",
       "    </tr>\n",
       "    <tr>\n",
       "      <th>2020-11-09 23:45:00</th>\n",
       "      <td>0.472649</td>\n",
       "      <td>-0.588323</td>\n",
       "      <td>-2.119170</td>\n",
       "      <td>-0.823068</td>\n",
       "      <td>-1.646521</td>\n",
       "    </tr>\n",
       "  </tbody>\n",
       "</table>\n",
       "</div>"
      ],
      "text/plain": [
       "                            A         B         C         D         S\n",
       "2020-11-09 14:45:00 -0.492212  0.093886 -1.037711 -0.415147 -1.529923\n",
       "2020-11-09 15:45:00  0.379893  0.766601  0.448761  0.336106  0.828654\n",
       "2020-11-09 16:45:00  0.481124 -0.469240 -1.560956  0.367561 -1.079832\n",
       "2020-11-09 17:45:00 -0.408539  0.614916  0.549404 -1.313952  0.140865\n",
       "2020-11-09 18:45:00  2.102771 -0.502529  1.152247  0.054819  3.255019\n",
       "2020-11-09 19:45:00  1.738202 -0.187910 -0.037702  1.447206  1.700499\n",
       "2020-11-09 20:45:00 -1.220605  1.367141 -1.512092  1.056303 -2.732696\n",
       "2020-11-09 21:45:00 -1.121993 -0.629805  0.734606 -0.001046 -0.387387\n",
       "2020-11-09 22:45:00  0.037328  1.149891  0.181005  0.471171  0.218333\n",
       "2020-11-09 23:45:00  0.472649 -0.588323 -2.119170 -0.823068 -1.646521"
      ]
     },
     "execution_count": 32,
     "metadata": {},
     "output_type": "execute_result"
    }
   ],
   "source": [
    "# syntax is as usual similar to that of numpy arrays\n",
    "df['S'] = df['A'] + df['C']\n",
    "df"
   ]
  },
  {
   "cell_type": "markdown",
   "metadata": {},
   "source": [
    "### Application of a function: apply vs transform\n",
    "\n",
    "User-defined or standard functions can be applied on entire DataFrames or columns, with very short execution times.\n",
    "\n",
    "There are two main methods, `apply()` and `transform()`:"
   ]
  },
  {
   "cell_type": "code",
   "execution_count": null,
   "metadata": {},
   "outputs": [],
   "source": [
    "def dcos(theta):\n",
    "    theta = theta * (np.pi / 180)\n",
    "    return np.cos(theta)\n",
    "\n",
    "# Apply method with custom function\n",
    "dfa['cosine'] = dfa[\"E\"].apply(dcos)\n",
    "\n",
    "# Transform method with lambda function\n",
    "dfa['EplusOne'] = dfa[\"E\"].transform(lambda x: x + 1)\n",
    "dfa"
   ]
  },
  {
   "cell_type": "markdown",
   "metadata": {},
   "source": [
    "The major differences between `apply` and `transform` are:\n",
    "\n",
    "   - Input: `apply` passes all the columns to the custom function, while `transform` passes each column.\n",
    "   - Output: the custom function passed to `apply` can return a scalar, or a Series or DataFrame, while the custom function passed to `transform` must return a sequence (a Series, array or list) with the same length.\n",
    "\n",
    "In summary, `transform` works on just one Series, and `apply` works on the entire DataFrame."
   ]
  },
  {
   "cell_type": "markdown",
   "metadata": {},
   "source": [
    "### Merge\n",
    "\n",
    "Pandas provides various functions for easily combining together Series and DataFrames in join / merge-type operations.\n",
    "\n",
    "**Concat**\n",
    "\n",
    "Concatenation (adding rows) is straightforward:"
   ]
  },
  {
   "cell_type": "code",
   "execution_count": null,
   "metadata": {},
   "outputs": [],
   "source": [
    "rdf = pd.DataFrame(np.arange(40).reshape(10, 4))\n",
    "rdf"
   ]
  },
  {
   "cell_type": "code",
   "execution_count": null,
   "metadata": {},
   "outputs": [],
   "source": [
    "# split DataFrame into 3 pieces, row-wise\n",
    "pieces = [rdf[:3], rdf[3:7], rdf[7:]]\n",
    "print(pieces, '\\n')\n",
    "pieces[2]"
   ]
  },
  {
   "cell_type": "code",
   "execution_count": null,
   "metadata": {},
   "outputs": [],
   "source": [
    "# put it back together\n",
    "pd.concat(pieces)\n",
    "\n",
    "# in this case, indices are already set; if they are not, indices can be ignored\n",
    "#pd.concat(pieces, ignore_index=True)"
   ]
  },
  {
   "cell_type": "markdown",
   "metadata": {},
   "source": [
    "In case of dimension mismatch, `NaN` are added where needed."
   ]
  },
  {
   "cell_type": "markdown",
   "metadata": {},
   "source": [
    "**Merge/Join**\n",
    "\n",
    "SQL-like operations on table can be performed on DataFrames. This is a quite advanced use case, refer to the [doc](https://pandas.pydata.org/pandas-docs/stable/merging.html#merging) for more info/examples."
   ]
  },
  {
   "cell_type": "code",
   "execution_count": null,
   "metadata": {},
   "outputs": [],
   "source": [
    "left = pd.DataFrame({'key': ['foo', 'bar'], 'lval': [1, 2]})\n",
    "right = pd.DataFrame({'key': ['foo', 'bar'], 'rval': [4, 5]})\n",
    "\n",
    "pd.merge(left, right, on=\"key\")"
   ]
  },
  {
   "cell_type": "markdown",
   "metadata": {},
   "source": [
    "### Grouping\n",
    "\n",
    "In real world applications, it's quite common that several entries (row) belong to a certain entity, or \"group\". DataFrames have a powerful tool to perform operations on entries of the same group. The method is called `.groupby()`, and it usually involves one or more of the following steps:\n",
    "\n",
    "* Splitting the data into groups based on some criteria\n",
    "* Applying a function to each group independently\n",
    "* Combining the results into a data structure\n"
   ]
  },
  {
   "cell_type": "code",
   "execution_count": null,
   "metadata": {},
   "outputs": [],
   "source": [
    "gdf = pd.DataFrame({'A' : ['foo', 'bar', 'foo', 'bar',\n",
    "                          'foo', 'bar', 'foo', 'foo'],\n",
    "                    'B' : [1, 1, 2, 3, 2, 2, 1, 3],\n",
    "                    'C' : np.arange(8),\n",
    "                    'D' : np.linspace(10, -10, 8)})\n",
    "gdf"
   ]
  },
  {
   "cell_type": "code",
   "execution_count": null,
   "metadata": {},
   "outputs": [],
   "source": [
    "# Grouping and then applying the sum() \n",
    "# function to the resulting groups (effective only where numerical values are present)\n",
    "gdf.groupby('A').sum()"
   ]
  },
  {
   "cell_type": "code",
   "execution_count": null,
   "metadata": {},
   "outputs": [],
   "source": [
    "# Example: find maximum value in column D for each group, and assign the value to a new column\n",
    "gdf['M'] = gdf.groupby('A')['D'].transform(np.max)\n",
    "gdf"
   ]
  },
  {
   "cell_type": "markdown",
   "metadata": {},
   "source": [
    "### Multi-indexing\n",
    "\n",
    "Hierarchical / Multi-level indexing allows sophisticated data analysis on higher dimensional data. In practice, it enables you to store and manipulate data with an arbitrary number of dimensions in lower dimensional data structures like Series (1D) and DataFrames (2D)."
   ]
  },
  {
   "cell_type": "code",
   "execution_count": null,
   "metadata": {},
   "outputs": [],
   "source": [
    "# Creat multi-dimensional index\n",
    "tuples = list(zip(['bar', 'bar', 'baz', 'baz', 'foo', 'foo', 'qux', 'qux'],\n",
    "          ['one', 'two', 'one', 'two', 'one', 'two', 'one', 'two']))\n",
    "multi_index = pd.MultiIndex.from_tuples(tuples, names=['first', 'second'])\n",
    "print(multi_index, '\\n', type(multi_index), '\\n')\n",
    "\n",
    "# Create multi-indexed dataframe or series\n",
    "s = pd.Series(np.arange(8)/np.pi, index=multi_index)\n",
    "s"
   ]
  },
  {
   "cell_type": "code",
   "execution_count": null,
   "metadata": {},
   "outputs": [],
   "source": [
    "# multi-indexing enables further features of the groupby method,\n",
    "# e.g. when group-by by multiple columns\n",
    "gdf.groupby(['A', 'B']).sum()"
   ]
  },
  {
   "cell_type": "markdown",
   "metadata": {},
   "source": [
    "## Summary: a demonstration of the efficiency of the DataFrame"
   ]
  },
  {
   "cell_type": "markdown",
   "metadata": {},
   "source": [
    "Let's go the hard way and load a (relatively) large dataset with approximately 1 million rows:"
   ]
  },
  {
   "cell_type": "code",
   "execution_count": null,
   "metadata": {},
   "outputs": [],
   "source": [
    "# Uncomment to download the file. Run the command just once\n",
    "#!wget https://www.dropbox.com/s/xvjzaxzz3ysphme/data_000637.txt -P ./data/"
   ]
  },
  {
   "cell_type": "code",
   "execution_count": null,
   "metadata": {},
   "outputs": [],
   "source": [
    "file_name = \"./data/data_000637.txt\"\n",
    "data = pd.read_csv(file_name)\n",
    "data"
   ]
  },
  {
   "cell_type": "markdown",
   "metadata": {},
   "source": [
    "Let's now do some operations among (elements of) columns"
   ]
  },
  {
   "cell_type": "code",
   "execution_count": null,
   "metadata": {},
   "outputs": [],
   "source": [
    "itime = dt.datetime.now()\n",
    "print(\"Begin time:\", itime)\n",
    "\n",
    "# the one-liner command\n",
    "data['WEIGHTEDSUM'] = data['TDC_CHANNEL'] * 2.1 + data['BX_COUNTER'] * 0.1 + 2\n",
    "\n",
    "ftime = dt.datetime.now()\n",
    "print(\"End time:\", ftime)\n",
    "print(\"Elapsed time:\", ftime - itime)\n",
    "\n",
    "data"
   ]
  },
  {
   "cell_type": "code",
   "execution_count": null,
   "metadata": {},
   "outputs": [],
   "source": [
    "# the loop\n",
    "def conversion(data):\n",
    "    result = []\n",
    "    for i in range(len(data)): \n",
    "        result.append(data.loc[data.index[i], 'TDC_CHANNEL'] * 2.1 + data.loc[data.index[i], 'BX_COUNTER'] * 0.1 + 2)\n",
    "    return result\n",
    "\n",
    "itime = dt.datetime.now()\n",
    "print(\"Begin time:\", itime)\n",
    "data['WEIGHTEDSUM'] = conversion(data)\n",
    "ftime = dt.datetime.now()\n",
    "print(\"End time:\", ftime)\n",
    "print(\"Elapsed time:\", ftime - itime)\n",
    "\n",
    "data"
   ]
  },
  {
   "cell_type": "code",
   "execution_count": null,
   "metadata": {},
   "outputs": [],
   "source": []
  }
 ],
 "metadata": {
  "kernelspec": {
   "display_name": "Python 3 (ipykernel)",
   "language": "python",
   "name": "python3"
  },
  "language_info": {
   "codemirror_mode": {
    "name": "ipython",
    "version": 3
   },
   "file_extension": ".py",
   "mimetype": "text/x-python",
   "name": "python",
   "nbconvert_exporter": "python",
   "pygments_lexer": "ipython3",
   "version": "3.9.7"
  }
 },
 "nbformat": 4,
 "nbformat_minor": 2
}
